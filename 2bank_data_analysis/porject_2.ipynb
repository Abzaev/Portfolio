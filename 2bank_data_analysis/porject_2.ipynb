{
 "cells": [
  {
   "cell_type": "markdown",
   "id": "386f2ae7",
   "metadata": {
    "deletable": false,
    "editable": false,
    "id": "386f2ae7"
   },
   "source": [
    "# Исследование надежности заемщиков\n"
   ]
  },
  {
   "cell_type": "markdown",
   "id": "ffe86f65",
   "metadata": {
    "deletable": false,
    "editable": false,
    "id": "ffe86f65"
   },
   "source": [
    "Во второй части проекта вы выполните шаги 3 и 4. Их вручную проверит ревьюер.\n",
    "Чтобы вам не пришлось писать код заново для шагов 1 и 2, мы добавили авторские решения в ячейки с кодом. \n",
    "\n"
   ]
  },
  {
   "cell_type": "markdown",
   "id": "26613308",
   "metadata": {
    "deletable": false,
    "editable": false,
    "id": "26613308"
   },
   "source": [
    "## Откройте таблицу и изучите общую информацию о данных"
   ]
  },
  {
   "cell_type": "markdown",
   "id": "3c9f838e",
   "metadata": {
    "deletable": false,
    "editable": false,
    "id": "3c9f838e"
   },
   "source": [
    "**Задание 1. Импортируйте библиотеку pandas. Считайте данные из csv-файла в датафрейм и сохраните в переменную `data`. Путь к файлу:**\n",
    "\n",
    "`/datasets/data.csv`"
   ]
  },
  {
   "cell_type": "code",
   "execution_count": 1,
   "id": "77a68a90",
   "metadata": {
    "deletable": false,
    "id": "77a68a90"
   },
   "outputs": [],
   "source": [
    "import pandas as pd\n",
    "\n",
    "try:\n",
    "    data = pd.read_csv('/datasets/data.csv')\n",
    "except:\n",
    "    data = pd.read_csv('https://code.s3.yandex.net/datasets/data.csv')"
   ]
  },
  {
   "cell_type": "markdown",
   "id": "45365635",
   "metadata": {
    "deletable": false,
    "editable": false,
    "id": "45365635"
   },
   "source": [
    "**Задание 2. Выведите первые 20 строчек датафрейма `data` на экран.**"
   ]
  },
  {
   "cell_type": "code",
   "execution_count": 2,
   "id": "b0451a9a",
   "metadata": {
    "deletable": false,
    "id": "b0451a9a",
    "outputId": "1a8f3ef2-d323-4ec2-ddf7-89670b5944c4"
   },
   "outputs": [
    {
     "data": {
      "text/html": [
       "<div>\n",
       "<style scoped>\n",
       "    .dataframe tbody tr th:only-of-type {\n",
       "        vertical-align: middle;\n",
       "    }\n",
       "\n",
       "    .dataframe tbody tr th {\n",
       "        vertical-align: top;\n",
       "    }\n",
       "\n",
       "    .dataframe thead th {\n",
       "        text-align: right;\n",
       "    }\n",
       "</style>\n",
       "<table border=\"1\" class=\"dataframe\">\n",
       "  <thead>\n",
       "    <tr style=\"text-align: right;\">\n",
       "      <th></th>\n",
       "      <th>children</th>\n",
       "      <th>days_employed</th>\n",
       "      <th>dob_years</th>\n",
       "      <th>education</th>\n",
       "      <th>education_id</th>\n",
       "      <th>family_status</th>\n",
       "      <th>family_status_id</th>\n",
       "      <th>gender</th>\n",
       "      <th>income_type</th>\n",
       "      <th>debt</th>\n",
       "      <th>total_income</th>\n",
       "      <th>purpose</th>\n",
       "    </tr>\n",
       "  </thead>\n",
       "  <tbody>\n",
       "    <tr>\n",
       "      <th>0</th>\n",
       "      <td>1</td>\n",
       "      <td>-8437.673028</td>\n",
       "      <td>42</td>\n",
       "      <td>высшее</td>\n",
       "      <td>0</td>\n",
       "      <td>женат / замужем</td>\n",
       "      <td>0</td>\n",
       "      <td>F</td>\n",
       "      <td>сотрудник</td>\n",
       "      <td>0</td>\n",
       "      <td>253875.639453</td>\n",
       "      <td>покупка жилья</td>\n",
       "    </tr>\n",
       "    <tr>\n",
       "      <th>1</th>\n",
       "      <td>1</td>\n",
       "      <td>-4024.803754</td>\n",
       "      <td>36</td>\n",
       "      <td>среднее</td>\n",
       "      <td>1</td>\n",
       "      <td>женат / замужем</td>\n",
       "      <td>0</td>\n",
       "      <td>F</td>\n",
       "      <td>сотрудник</td>\n",
       "      <td>0</td>\n",
       "      <td>112080.014102</td>\n",
       "      <td>приобретение автомобиля</td>\n",
       "    </tr>\n",
       "    <tr>\n",
       "      <th>2</th>\n",
       "      <td>0</td>\n",
       "      <td>-5623.422610</td>\n",
       "      <td>33</td>\n",
       "      <td>Среднее</td>\n",
       "      <td>1</td>\n",
       "      <td>женат / замужем</td>\n",
       "      <td>0</td>\n",
       "      <td>M</td>\n",
       "      <td>сотрудник</td>\n",
       "      <td>0</td>\n",
       "      <td>145885.952297</td>\n",
       "      <td>покупка жилья</td>\n",
       "    </tr>\n",
       "    <tr>\n",
       "      <th>3</th>\n",
       "      <td>3</td>\n",
       "      <td>-4124.747207</td>\n",
       "      <td>32</td>\n",
       "      <td>среднее</td>\n",
       "      <td>1</td>\n",
       "      <td>женат / замужем</td>\n",
       "      <td>0</td>\n",
       "      <td>M</td>\n",
       "      <td>сотрудник</td>\n",
       "      <td>0</td>\n",
       "      <td>267628.550329</td>\n",
       "      <td>дополнительное образование</td>\n",
       "    </tr>\n",
       "    <tr>\n",
       "      <th>4</th>\n",
       "      <td>0</td>\n",
       "      <td>340266.072047</td>\n",
       "      <td>53</td>\n",
       "      <td>среднее</td>\n",
       "      <td>1</td>\n",
       "      <td>гражданский брак</td>\n",
       "      <td>1</td>\n",
       "      <td>F</td>\n",
       "      <td>пенсионер</td>\n",
       "      <td>0</td>\n",
       "      <td>158616.077870</td>\n",
       "      <td>сыграть свадьбу</td>\n",
       "    </tr>\n",
       "    <tr>\n",
       "      <th>5</th>\n",
       "      <td>0</td>\n",
       "      <td>-926.185831</td>\n",
       "      <td>27</td>\n",
       "      <td>высшее</td>\n",
       "      <td>0</td>\n",
       "      <td>гражданский брак</td>\n",
       "      <td>1</td>\n",
       "      <td>M</td>\n",
       "      <td>компаньон</td>\n",
       "      <td>0</td>\n",
       "      <td>255763.565419</td>\n",
       "      <td>покупка жилья</td>\n",
       "    </tr>\n",
       "    <tr>\n",
       "      <th>6</th>\n",
       "      <td>0</td>\n",
       "      <td>-2879.202052</td>\n",
       "      <td>43</td>\n",
       "      <td>высшее</td>\n",
       "      <td>0</td>\n",
       "      <td>женат / замужем</td>\n",
       "      <td>0</td>\n",
       "      <td>F</td>\n",
       "      <td>компаньон</td>\n",
       "      <td>0</td>\n",
       "      <td>240525.971920</td>\n",
       "      <td>операции с жильем</td>\n",
       "    </tr>\n",
       "    <tr>\n",
       "      <th>7</th>\n",
       "      <td>0</td>\n",
       "      <td>-152.779569</td>\n",
       "      <td>50</td>\n",
       "      <td>СРЕДНЕЕ</td>\n",
       "      <td>1</td>\n",
       "      <td>женат / замужем</td>\n",
       "      <td>0</td>\n",
       "      <td>M</td>\n",
       "      <td>сотрудник</td>\n",
       "      <td>0</td>\n",
       "      <td>135823.934197</td>\n",
       "      <td>образование</td>\n",
       "    </tr>\n",
       "    <tr>\n",
       "      <th>8</th>\n",
       "      <td>2</td>\n",
       "      <td>-6929.865299</td>\n",
       "      <td>35</td>\n",
       "      <td>ВЫСШЕЕ</td>\n",
       "      <td>0</td>\n",
       "      <td>гражданский брак</td>\n",
       "      <td>1</td>\n",
       "      <td>F</td>\n",
       "      <td>сотрудник</td>\n",
       "      <td>0</td>\n",
       "      <td>95856.832424</td>\n",
       "      <td>на проведение свадьбы</td>\n",
       "    </tr>\n",
       "    <tr>\n",
       "      <th>9</th>\n",
       "      <td>0</td>\n",
       "      <td>-2188.756445</td>\n",
       "      <td>41</td>\n",
       "      <td>среднее</td>\n",
       "      <td>1</td>\n",
       "      <td>женат / замужем</td>\n",
       "      <td>0</td>\n",
       "      <td>M</td>\n",
       "      <td>сотрудник</td>\n",
       "      <td>0</td>\n",
       "      <td>144425.938277</td>\n",
       "      <td>покупка жилья для семьи</td>\n",
       "    </tr>\n",
       "    <tr>\n",
       "      <th>10</th>\n",
       "      <td>2</td>\n",
       "      <td>-4171.483647</td>\n",
       "      <td>36</td>\n",
       "      <td>высшее</td>\n",
       "      <td>0</td>\n",
       "      <td>женат / замужем</td>\n",
       "      <td>0</td>\n",
       "      <td>M</td>\n",
       "      <td>компаньон</td>\n",
       "      <td>0</td>\n",
       "      <td>113943.491460</td>\n",
       "      <td>покупка недвижимости</td>\n",
       "    </tr>\n",
       "    <tr>\n",
       "      <th>11</th>\n",
       "      <td>0</td>\n",
       "      <td>-792.701887</td>\n",
       "      <td>40</td>\n",
       "      <td>среднее</td>\n",
       "      <td>1</td>\n",
       "      <td>женат / замужем</td>\n",
       "      <td>0</td>\n",
       "      <td>F</td>\n",
       "      <td>сотрудник</td>\n",
       "      <td>0</td>\n",
       "      <td>77069.234271</td>\n",
       "      <td>покупка коммерческой недвижимости</td>\n",
       "    </tr>\n",
       "    <tr>\n",
       "      <th>12</th>\n",
       "      <td>0</td>\n",
       "      <td>NaN</td>\n",
       "      <td>65</td>\n",
       "      <td>среднее</td>\n",
       "      <td>1</td>\n",
       "      <td>гражданский брак</td>\n",
       "      <td>1</td>\n",
       "      <td>M</td>\n",
       "      <td>пенсионер</td>\n",
       "      <td>0</td>\n",
       "      <td>NaN</td>\n",
       "      <td>сыграть свадьбу</td>\n",
       "    </tr>\n",
       "    <tr>\n",
       "      <th>13</th>\n",
       "      <td>0</td>\n",
       "      <td>-1846.641941</td>\n",
       "      <td>54</td>\n",
       "      <td>неоконченное высшее</td>\n",
       "      <td>2</td>\n",
       "      <td>женат / замужем</td>\n",
       "      <td>0</td>\n",
       "      <td>F</td>\n",
       "      <td>сотрудник</td>\n",
       "      <td>0</td>\n",
       "      <td>130458.228857</td>\n",
       "      <td>приобретение автомобиля</td>\n",
       "    </tr>\n",
       "    <tr>\n",
       "      <th>14</th>\n",
       "      <td>0</td>\n",
       "      <td>-1844.956182</td>\n",
       "      <td>56</td>\n",
       "      <td>высшее</td>\n",
       "      <td>0</td>\n",
       "      <td>гражданский брак</td>\n",
       "      <td>1</td>\n",
       "      <td>F</td>\n",
       "      <td>компаньон</td>\n",
       "      <td>1</td>\n",
       "      <td>165127.911772</td>\n",
       "      <td>покупка жилой недвижимости</td>\n",
       "    </tr>\n",
       "    <tr>\n",
       "      <th>15</th>\n",
       "      <td>1</td>\n",
       "      <td>-972.364419</td>\n",
       "      <td>26</td>\n",
       "      <td>среднее</td>\n",
       "      <td>1</td>\n",
       "      <td>женат / замужем</td>\n",
       "      <td>0</td>\n",
       "      <td>F</td>\n",
       "      <td>сотрудник</td>\n",
       "      <td>0</td>\n",
       "      <td>116820.904450</td>\n",
       "      <td>строительство собственной недвижимости</td>\n",
       "    </tr>\n",
       "    <tr>\n",
       "      <th>16</th>\n",
       "      <td>0</td>\n",
       "      <td>-1719.934226</td>\n",
       "      <td>35</td>\n",
       "      <td>среднее</td>\n",
       "      <td>1</td>\n",
       "      <td>женат / замужем</td>\n",
       "      <td>0</td>\n",
       "      <td>F</td>\n",
       "      <td>сотрудник</td>\n",
       "      <td>0</td>\n",
       "      <td>289202.704229</td>\n",
       "      <td>недвижимость</td>\n",
       "    </tr>\n",
       "    <tr>\n",
       "      <th>17</th>\n",
       "      <td>0</td>\n",
       "      <td>-2369.999720</td>\n",
       "      <td>33</td>\n",
       "      <td>высшее</td>\n",
       "      <td>0</td>\n",
       "      <td>гражданский брак</td>\n",
       "      <td>1</td>\n",
       "      <td>M</td>\n",
       "      <td>сотрудник</td>\n",
       "      <td>0</td>\n",
       "      <td>90410.586745</td>\n",
       "      <td>строительство недвижимости</td>\n",
       "    </tr>\n",
       "    <tr>\n",
       "      <th>18</th>\n",
       "      <td>0</td>\n",
       "      <td>400281.136913</td>\n",
       "      <td>53</td>\n",
       "      <td>среднее</td>\n",
       "      <td>1</td>\n",
       "      <td>вдовец / вдова</td>\n",
       "      <td>2</td>\n",
       "      <td>F</td>\n",
       "      <td>пенсионер</td>\n",
       "      <td>0</td>\n",
       "      <td>56823.777243</td>\n",
       "      <td>на покупку подержанного автомобиля</td>\n",
       "    </tr>\n",
       "    <tr>\n",
       "      <th>19</th>\n",
       "      <td>0</td>\n",
       "      <td>-10038.818549</td>\n",
       "      <td>48</td>\n",
       "      <td>СРЕДНЕЕ</td>\n",
       "      <td>1</td>\n",
       "      <td>в разводе</td>\n",
       "      <td>3</td>\n",
       "      <td>F</td>\n",
       "      <td>сотрудник</td>\n",
       "      <td>0</td>\n",
       "      <td>242831.107982</td>\n",
       "      <td>на покупку своего автомобиля</td>\n",
       "    </tr>\n",
       "  </tbody>\n",
       "</table>\n",
       "</div>"
      ],
      "text/plain": [
       "    children  days_employed  dob_years            education  education_id  \\\n",
       "0          1   -8437.673028         42               высшее             0   \n",
       "1          1   -4024.803754         36              среднее             1   \n",
       "2          0   -5623.422610         33              Среднее             1   \n",
       "3          3   -4124.747207         32              среднее             1   \n",
       "4          0  340266.072047         53              среднее             1   \n",
       "5          0    -926.185831         27               высшее             0   \n",
       "6          0   -2879.202052         43               высшее             0   \n",
       "7          0    -152.779569         50              СРЕДНЕЕ             1   \n",
       "8          2   -6929.865299         35               ВЫСШЕЕ             0   \n",
       "9          0   -2188.756445         41              среднее             1   \n",
       "10         2   -4171.483647         36               высшее             0   \n",
       "11         0    -792.701887         40              среднее             1   \n",
       "12         0            NaN         65              среднее             1   \n",
       "13         0   -1846.641941         54  неоконченное высшее             2   \n",
       "14         0   -1844.956182         56               высшее             0   \n",
       "15         1    -972.364419         26              среднее             1   \n",
       "16         0   -1719.934226         35              среднее             1   \n",
       "17         0   -2369.999720         33               высшее             0   \n",
       "18         0  400281.136913         53              среднее             1   \n",
       "19         0  -10038.818549         48              СРЕДНЕЕ             1   \n",
       "\n",
       "       family_status  family_status_id gender income_type  debt  \\\n",
       "0    женат / замужем                 0      F   сотрудник     0   \n",
       "1    женат / замужем                 0      F   сотрудник     0   \n",
       "2    женат / замужем                 0      M   сотрудник     0   \n",
       "3    женат / замужем                 0      M   сотрудник     0   \n",
       "4   гражданский брак                 1      F   пенсионер     0   \n",
       "5   гражданский брак                 1      M   компаньон     0   \n",
       "6    женат / замужем                 0      F   компаньон     0   \n",
       "7    женат / замужем                 0      M   сотрудник     0   \n",
       "8   гражданский брак                 1      F   сотрудник     0   \n",
       "9    женат / замужем                 0      M   сотрудник     0   \n",
       "10   женат / замужем                 0      M   компаньон     0   \n",
       "11   женат / замужем                 0      F   сотрудник     0   \n",
       "12  гражданский брак                 1      M   пенсионер     0   \n",
       "13   женат / замужем                 0      F   сотрудник     0   \n",
       "14  гражданский брак                 1      F   компаньон     1   \n",
       "15   женат / замужем                 0      F   сотрудник     0   \n",
       "16   женат / замужем                 0      F   сотрудник     0   \n",
       "17  гражданский брак                 1      M   сотрудник     0   \n",
       "18    вдовец / вдова                 2      F   пенсионер     0   \n",
       "19         в разводе                 3      F   сотрудник     0   \n",
       "\n",
       "     total_income                                 purpose  \n",
       "0   253875.639453                           покупка жилья  \n",
       "1   112080.014102                 приобретение автомобиля  \n",
       "2   145885.952297                           покупка жилья  \n",
       "3   267628.550329              дополнительное образование  \n",
       "4   158616.077870                         сыграть свадьбу  \n",
       "5   255763.565419                           покупка жилья  \n",
       "6   240525.971920                       операции с жильем  \n",
       "7   135823.934197                             образование  \n",
       "8    95856.832424                   на проведение свадьбы  \n",
       "9   144425.938277                 покупка жилья для семьи  \n",
       "10  113943.491460                    покупка недвижимости  \n",
       "11   77069.234271       покупка коммерческой недвижимости  \n",
       "12            NaN                         сыграть свадьбу  \n",
       "13  130458.228857                 приобретение автомобиля  \n",
       "14  165127.911772              покупка жилой недвижимости  \n",
       "15  116820.904450  строительство собственной недвижимости  \n",
       "16  289202.704229                            недвижимость  \n",
       "17   90410.586745              строительство недвижимости  \n",
       "18   56823.777243      на покупку подержанного автомобиля  \n",
       "19  242831.107982            на покупку своего автомобиля  "
      ]
     },
     "execution_count": 2,
     "metadata": {},
     "output_type": "execute_result"
    }
   ],
   "source": [
    "data.head(20)"
   ]
  },
  {
   "cell_type": "markdown",
   "id": "0ed8f27f",
   "metadata": {
    "deletable": false,
    "editable": false,
    "id": "0ed8f27f"
   },
   "source": [
    "**Задание 3. Выведите основную информацию о датафрейме с помощью метода `info()`.**"
   ]
  },
  {
   "cell_type": "code",
   "execution_count": 3,
   "id": "ab3f863b",
   "metadata": {
    "deletable": false,
    "id": "ab3f863b",
    "outputId": "15376089-8dad-46c9-b520-c05248d43158"
   },
   "outputs": [
    {
     "name": "stdout",
     "output_type": "stream",
     "text": [
      "<class 'pandas.core.frame.DataFrame'>\n",
      "RangeIndex: 21525 entries, 0 to 21524\n",
      "Data columns (total 12 columns):\n",
      " #   Column            Non-Null Count  Dtype  \n",
      "---  ------            --------------  -----  \n",
      " 0   children          21525 non-null  int64  \n",
      " 1   days_employed     19351 non-null  float64\n",
      " 2   dob_years         21525 non-null  int64  \n",
      " 3   education         21525 non-null  object \n",
      " 4   education_id      21525 non-null  int64  \n",
      " 5   family_status     21525 non-null  object \n",
      " 6   family_status_id  21525 non-null  int64  \n",
      " 7   gender            21525 non-null  object \n",
      " 8   income_type       21525 non-null  object \n",
      " 9   debt              21525 non-null  int64  \n",
      " 10  total_income      19351 non-null  float64\n",
      " 11  purpose           21525 non-null  object \n",
      "dtypes: float64(2), int64(5), object(5)\n",
      "memory usage: 2.0+ MB\n"
     ]
    }
   ],
   "source": [
    "data.info()"
   ]
  },
  {
   "cell_type": "markdown",
   "id": "60e3e22d",
   "metadata": {
    "deletable": false,
    "editable": false,
    "id": "60e3e22d"
   },
   "source": [
    "## Предобработка данных"
   ]
  },
  {
   "cell_type": "markdown",
   "id": "03dc170c",
   "metadata": {
    "deletable": false,
    "editable": false,
    "id": "03dc170c"
   },
   "source": [
    "### Удаление пропусков"
   ]
  },
  {
   "cell_type": "markdown",
   "id": "a4f54eef",
   "metadata": {
    "deletable": false,
    "editable": false,
    "id": "a4f54eef"
   },
   "source": [
    "**Задание 4. Выведите количество пропущенных значений для каждого столбца. Используйте комбинацию двух методов.**"
   ]
  },
  {
   "cell_type": "code",
   "execution_count": 4,
   "id": "2dc372b2",
   "metadata": {
    "deletable": false,
    "id": "2dc372b2",
    "outputId": "81f4d817-781c-465c-ed15-91ce4446810d"
   },
   "outputs": [
    {
     "data": {
      "text/plain": [
       "children               0\n",
       "days_employed       2174\n",
       "dob_years              0\n",
       "education              0\n",
       "education_id           0\n",
       "family_status          0\n",
       "family_status_id       0\n",
       "gender                 0\n",
       "income_type            0\n",
       "debt                   0\n",
       "total_income        2174\n",
       "purpose                0\n",
       "dtype: int64"
      ]
     },
     "execution_count": 4,
     "metadata": {},
     "output_type": "execute_result"
    }
   ],
   "source": [
    "data.isna().sum()"
   ]
  },
  {
   "cell_type": "markdown",
   "id": "14f011b1",
   "metadata": {
    "deletable": false,
    "editable": false,
    "id": "14f011b1"
   },
   "source": [
    "**Задание 5. В двух столбцах есть пропущенные значения. Один из них — `days_employed`. Пропуски в этом столбце вы обработаете на следующем этапе. Другой столбец с пропущенными значениями — `total_income` — хранит данные о доходах. На сумму дохода сильнее всего влияет тип занятости, поэтому заполнить пропуски в этом столбце нужно медианным значением по каждому типу из столбца `income_type`. Например, у человека с типом занятости `сотрудник` пропуск в столбце `total_income` должен быть заполнен медианным доходом среди всех записей с тем же типом.**"
   ]
  },
  {
   "cell_type": "code",
   "execution_count": 5,
   "id": "bdabfb6e",
   "metadata": {
    "deletable": false,
    "id": "bdabfb6e"
   },
   "outputs": [],
   "source": [
    "for t in data['income_type'].unique():\n",
    "    data.loc[(data['income_type'] == t) & (data['total_income'].isna()), 'total_income'] = \\\n",
    "    data.loc[(data['income_type'] == t), 'total_income'].median()"
   ]
  },
  {
   "cell_type": "markdown",
   "id": "5be34059",
   "metadata": {
    "deletable": false,
    "editable": false,
    "id": "5be34059"
   },
   "source": [
    "### Обработка аномальных значений"
   ]
  },
  {
   "cell_type": "markdown",
   "id": "a87606cb",
   "metadata": {
    "deletable": false,
    "editable": false,
    "id": "a87606cb"
   },
   "source": [
    "**Задание 6. В данных могут встречаться артефакты (аномалии) — значения, которые не отражают действительность и появились по какой-то ошибке. таким артефактом будет отрицательное количество дней трудового стажа в столбце `days_employed`. Для реальных данных это нормально. Обработайте значения в этом столбце: замените все отрицательные значения положительными с помощью метода `abs()`.**"
   ]
  },
  {
   "cell_type": "code",
   "execution_count": 6,
   "id": "020c46cc",
   "metadata": {
    "deletable": false,
    "id": "020c46cc"
   },
   "outputs": [],
   "source": [
    "data['days_employed'] = data['days_employed'].abs()"
   ]
  },
  {
   "cell_type": "markdown",
   "id": "45538a3a",
   "metadata": {
    "deletable": false,
    "editable": false,
    "id": "45538a3a"
   },
   "source": [
    "**Задание 7. Для каждого типа занятости выведите медианное значение трудового стажа `days_employed` в днях.**"
   ]
  },
  {
   "cell_type": "code",
   "execution_count": 7,
   "id": "cd3e6328",
   "metadata": {
    "deletable": false,
    "id": "cd3e6328",
    "outputId": "801ef80e-522b-4668-f34e-565af7432bcf"
   },
   "outputs": [
    {
     "data": {
      "text/plain": [
       "income_type\n",
       "безработный        366413.652744\n",
       "в декрете            3296.759962\n",
       "госслужащий          2689.368353\n",
       "компаньон            1547.382223\n",
       "пенсионер          365213.306266\n",
       "предприниматель       520.848083\n",
       "сотрудник            1574.202821\n",
       "студент               578.751554\n",
       "Name: days_employed, dtype: float64"
      ]
     },
     "execution_count": 7,
     "metadata": {},
     "output_type": "execute_result"
    }
   ],
   "source": [
    "data.groupby('income_type')['days_employed'].agg('median')"
   ]
  },
  {
   "cell_type": "markdown",
   "id": "90c5f058",
   "metadata": {
    "deletable": false,
    "editable": false,
    "id": "90c5f058"
   },
   "source": [
    "У двух типов (безработные и пенсионеры) получатся аномально большие значения. Исправить такие значения сложно, поэтому оставьте их как есть."
   ]
  },
  {
   "cell_type": "markdown",
   "id": "9652e50d",
   "metadata": {
    "deletable": false,
    "editable": false,
    "id": "9652e50d"
   },
   "source": [
    "**Задание 8. Выведите перечень уникальных значений столбца `children`.**"
   ]
  },
  {
   "cell_type": "code",
   "execution_count": 8,
   "id": "dbb37b8e",
   "metadata": {
    "deletable": false,
    "id": "dbb37b8e",
    "outputId": "6975b15c-7f95-4697-d16d-a0c79b657b03"
   },
   "outputs": [
    {
     "data": {
      "text/plain": [
       "array([ 1,  0,  3,  2, -1,  4, 20,  5])"
      ]
     },
     "execution_count": 8,
     "metadata": {},
     "output_type": "execute_result"
    }
   ],
   "source": [
    "data['children'].unique()"
   ]
  },
  {
   "cell_type": "markdown",
   "id": "2b8b0715",
   "metadata": {
    "deletable": false,
    "editable": false,
    "id": "2b8b0715"
   },
   "source": [
    "**Задание 9. В столбце `children` есть два аномальных значения. Удалите строки, в которых встречаются такие аномальные значения из датафрейма `data`.**"
   ]
  },
  {
   "cell_type": "code",
   "execution_count": 9,
   "id": "20009df8",
   "metadata": {
    "deletable": false,
    "id": "20009df8"
   },
   "outputs": [],
   "source": [
    "data = data[(data['children'] != -1) & (data['children'] != 20)]"
   ]
  },
  {
   "cell_type": "markdown",
   "id": "8c6ac9f1",
   "metadata": {
    "deletable": false,
    "editable": false,
    "id": "8c6ac9f1"
   },
   "source": [
    "**Задание 10. Ещё раз выведите перечень уникальных значений столбца `children`, чтобы убедиться, что артефакты удалены.**"
   ]
  },
  {
   "cell_type": "code",
   "execution_count": 10,
   "id": "07337b81",
   "metadata": {
    "deletable": false,
    "id": "07337b81",
    "outputId": "b2097101-d49d-44d9-901b-32a65c9463d1"
   },
   "outputs": [
    {
     "data": {
      "text/plain": [
       "array([1, 0, 3, 2, 4, 5])"
      ]
     },
     "execution_count": 10,
     "metadata": {},
     "output_type": "execute_result"
    }
   ],
   "source": [
    "data['children'].unique()"
   ]
  },
  {
   "cell_type": "markdown",
   "id": "ee3f52d4",
   "metadata": {
    "deletable": false,
    "editable": false,
    "id": "ee3f52d4"
   },
   "source": [
    "### Удаление пропусков (продолжение)"
   ]
  },
  {
   "cell_type": "markdown",
   "id": "a700b0e4",
   "metadata": {
    "deletable": false,
    "editable": false,
    "id": "a700b0e4"
   },
   "source": [
    "**Задание 11. Заполните пропуски в столбце `days_employed` медианными значениями по каждого типа занятости `income_type`.**"
   ]
  },
  {
   "cell_type": "code",
   "execution_count": 11,
   "id": "61946b83",
   "metadata": {
    "deletable": false,
    "id": "61946b83"
   },
   "outputs": [],
   "source": [
    "for t in data['income_type'].unique():\n",
    "    data.loc[(data['income_type'] == t) & (data['days_employed'].isna()), 'days_employed'] = \\\n",
    "    data.loc[(data['income_type'] == t), 'days_employed'].median()"
   ]
  },
  {
   "cell_type": "markdown",
   "id": "550dcd9b",
   "metadata": {
    "deletable": false,
    "editable": false,
    "id": "550dcd9b"
   },
   "source": [
    "**Задание 12. Убедитесь, что все пропуски заполнены. Проверьте себя и ещё раз выведите количество пропущенных значений для каждого столбца с помощью двух методов.**"
   ]
  },
  {
   "cell_type": "code",
   "execution_count": 12,
   "id": "937c7014",
   "metadata": {
    "deletable": false,
    "id": "937c7014",
    "outputId": "8da1e4e1-358e-4e87-98c9-f261bce0a7b2"
   },
   "outputs": [
    {
     "data": {
      "text/plain": [
       "children            0\n",
       "days_employed       0\n",
       "dob_years           0\n",
       "education           0\n",
       "education_id        0\n",
       "family_status       0\n",
       "family_status_id    0\n",
       "gender              0\n",
       "income_type         0\n",
       "debt                0\n",
       "total_income        0\n",
       "purpose             0\n",
       "dtype: int64"
      ]
     },
     "execution_count": 12,
     "metadata": {},
     "output_type": "execute_result"
    }
   ],
   "source": [
    "data.isna().sum()"
   ]
  },
  {
   "cell_type": "markdown",
   "id": "d522e295",
   "metadata": {
    "deletable": false,
    "editable": false,
    "id": "d522e295"
   },
   "source": [
    "### Изменение типов данных"
   ]
  },
  {
   "cell_type": "markdown",
   "id": "c229c581",
   "metadata": {
    "deletable": false,
    "editable": false,
    "id": "c229c581"
   },
   "source": [
    "**Задание 13. Замените вещественный тип данных в столбце `total_income` на целочисленный с помощью метода `astype()`.**"
   ]
  },
  {
   "cell_type": "code",
   "execution_count": 13,
   "id": "31036462",
   "metadata": {
    "deletable": false,
    "id": "31036462"
   },
   "outputs": [],
   "source": [
    "data['total_income'] = data['total_income'].astype(int)"
   ]
  },
  {
   "cell_type": "markdown",
   "id": "b8e3d1d9",
   "metadata": {
    "deletable": false,
    "editable": false,
    "id": "b8e3d1d9"
   },
   "source": [
    "### Обработка дубликатов"
   ]
  },
  {
   "cell_type": "markdown",
   "id": "9be53c49",
   "metadata": {
    "deletable": false,
    "editable": false,
    "id": "9be53c49"
   },
   "source": [
    "**Задание 14. Обработайте неявные дубликаты в столбце `education`. В этом столбце есть одни и те же значения, но записанные по-разному: с использованием заглавных и строчных букв. Приведите их к нижнему регистру.**"
   ]
  },
  {
   "cell_type": "code",
   "execution_count": 14,
   "id": "d89e73e1",
   "metadata": {
    "deletable": false,
    "id": "d89e73e1"
   },
   "outputs": [],
   "source": [
    "data['education'] = data['education'].str.lower()"
   ]
  },
  {
   "cell_type": "markdown",
   "id": "01d4500e",
   "metadata": {
    "deletable": false,
    "editable": false,
    "id": "01d4500e"
   },
   "source": [
    "**Задание 15. Выведите на экран количество строк-дубликатов в данных. Если такие строки присутствуют, удалите их.**"
   ]
  },
  {
   "cell_type": "code",
   "execution_count": 15,
   "id": "e10efb23",
   "metadata": {
    "deletable": false,
    "id": "e10efb23",
    "outputId": "9684deba-1934-42d1-99e1-cda61740f822"
   },
   "outputs": [
    {
     "data": {
      "text/plain": [
       "71"
      ]
     },
     "execution_count": 15,
     "metadata": {},
     "output_type": "execute_result"
    }
   ],
   "source": [
    "data.duplicated().sum()"
   ]
  },
  {
   "cell_type": "code",
   "execution_count": 16,
   "id": "df853f20",
   "metadata": {
    "deletable": false,
    "id": "df853f20"
   },
   "outputs": [],
   "source": [
    "data = data.drop_duplicates()"
   ]
  },
  {
   "cell_type": "markdown",
   "id": "627be38f",
   "metadata": {
    "deletable": false,
    "editable": false,
    "id": "627be38f"
   },
   "source": [
    "### Категоризация данных"
   ]
  },
  {
   "cell_type": "markdown",
   "id": "4684c3e0",
   "metadata": {
    "deletable": false,
    "editable": false,
    "id": "4684c3e0"
   },
   "source": [
    "**Задание 16. На основании диапазонов, указанных ниже, создайте в датафрейме `data` столбец `total_income_category` с категориями:**\n",
    "\n",
    "- 0–30000 — `'E'`;\n",
    "- 30001–50000 — `'D'`;\n",
    "- 50001–200000 — `'C'`;\n",
    "- 200001–1000000 — `'B'`;\n",
    "- 1000001 и выше — `'A'`.\n",
    "\n",
    "\n",
    "**Например, кредитополучателю с доходом 25000 нужно назначить категорию `'E'`, а клиенту, получающему 235000, — `'B'`. Используйте собственную функцию с именем `categorize_income()` и метод `apply()`.**"
   ]
  },
  {
   "cell_type": "code",
   "execution_count": 17,
   "id": "78965238",
   "metadata": {
    "deletable": false,
    "id": "78965238"
   },
   "outputs": [],
   "source": [
    "def categorize_income(income):\n",
    "    try:\n",
    "        if 0 <= income <= 30000:\n",
    "            return 'E'\n",
    "        elif 30001 <= income <= 50000:\n",
    "            return 'D'\n",
    "        elif 50001 <= income <= 200000:\n",
    "            return 'C'\n",
    "        elif 200001 <= income <= 1000000:\n",
    "            return 'B'\n",
    "        elif income >= 1000001:\n",
    "            return 'A'\n",
    "    except:\n",
    "        pass"
   ]
  },
  {
   "cell_type": "code",
   "execution_count": 18,
   "id": "0980ada1",
   "metadata": {
    "deletable": false,
    "id": "0980ada1"
   },
   "outputs": [],
   "source": [
    "data['total_income_category'] = data['total_income'].apply(categorize_income)"
   ]
  },
  {
   "cell_type": "markdown",
   "id": "9917bba0",
   "metadata": {
    "deletable": false,
    "editable": false,
    "id": "9917bba0"
   },
   "source": [
    "**Задание 17. Выведите на экран перечень уникальных целей взятия кредита из столбца `purpose`.**"
   ]
  },
  {
   "cell_type": "code",
   "execution_count": 19,
   "id": "ee07b65e",
   "metadata": {
    "deletable": false,
    "id": "ee07b65e",
    "outputId": "673c12d9-7d7e-4ae0-9812-c622c89dd244"
   },
   "outputs": [
    {
     "data": {
      "text/plain": [
       "array(['покупка жилья', 'приобретение автомобиля',\n",
       "       'дополнительное образование', 'сыграть свадьбу',\n",
       "       'операции с жильем', 'образование', 'на проведение свадьбы',\n",
       "       'покупка жилья для семьи', 'покупка недвижимости',\n",
       "       'покупка коммерческой недвижимости', 'покупка жилой недвижимости',\n",
       "       'строительство собственной недвижимости', 'недвижимость',\n",
       "       'строительство недвижимости', 'на покупку подержанного автомобиля',\n",
       "       'на покупку своего автомобиля',\n",
       "       'операции с коммерческой недвижимостью',\n",
       "       'строительство жилой недвижимости', 'жилье',\n",
       "       'операции со своей недвижимостью', 'автомобили',\n",
       "       'заняться образованием', 'сделка с подержанным автомобилем',\n",
       "       'получение образования', 'автомобиль', 'свадьба',\n",
       "       'получение дополнительного образования', 'покупка своего жилья',\n",
       "       'операции с недвижимостью', 'получение высшего образования',\n",
       "       'свой автомобиль', 'сделка с автомобилем',\n",
       "       'профильное образование', 'высшее образование',\n",
       "       'покупка жилья для сдачи', 'на покупку автомобиля', 'ремонт жилью',\n",
       "       'заняться высшим образованием'], dtype=object)"
      ]
     },
     "execution_count": 19,
     "metadata": {},
     "output_type": "execute_result"
    }
   ],
   "source": [
    "data['purpose'].unique()"
   ]
  },
  {
   "cell_type": "markdown",
   "id": "52b79d56",
   "metadata": {
    "deletable": false,
    "editable": false,
    "id": "52b79d56"
   },
   "source": [
    "**Задание 18. Создайте функцию, которая на основании данных из столбца `purpose` сформирует новый столбец `purpose_category`, в который войдут следующие категории:**\n",
    "\n",
    "- `'операции с автомобилем'`,\n",
    "- `'операции с недвижимостью'`,\n",
    "- `'проведение свадьбы'`,\n",
    "- `'получение образования'`.\n",
    "\n",
    "**Например, если в столбце `purpose` находится подстрока `'на покупку автомобиля'`, то в столбце `purpose_category` должна появиться строка `'операции с автомобилем'`.**\n",
    "\n",
    "**Используйте собственную функцию с именем `categorize_purpose()` и метод `apply()`. Изучите данные в столбце `purpose` и определите, какие подстроки помогут вам правильно определить категорию.**"
   ]
  },
  {
   "cell_type": "code",
   "execution_count": 20,
   "id": "be41da5d",
   "metadata": {
    "deletable": false,
    "id": "be41da5d"
   },
   "outputs": [],
   "source": [
    "def categorize_purpose(row):\n",
    "    try:\n",
    "        if 'автом' in row:\n",
    "            return 'операции с автомобилем'\n",
    "        elif 'жил' in row or 'недвиж' in row:\n",
    "            return 'операции с недвижимостью'\n",
    "        elif 'свад' in row:\n",
    "            return 'проведение свадьбы'\n",
    "        elif 'образов' in row:\n",
    "            return 'получение образования'\n",
    "    except:\n",
    "        return 'нет категории'"
   ]
  },
  {
   "cell_type": "code",
   "execution_count": 21,
   "id": "94c4a19a",
   "metadata": {
    "deletable": false,
    "id": "94c4a19a"
   },
   "outputs": [
    {
     "data": {
      "text/html": [
       "<div>\n",
       "<style scoped>\n",
       "    .dataframe tbody tr th:only-of-type {\n",
       "        vertical-align: middle;\n",
       "    }\n",
       "\n",
       "    .dataframe tbody tr th {\n",
       "        vertical-align: top;\n",
       "    }\n",
       "\n",
       "    .dataframe thead th {\n",
       "        text-align: right;\n",
       "    }\n",
       "</style>\n",
       "<table border=\"1\" class=\"dataframe\">\n",
       "  <thead>\n",
       "    <tr style=\"text-align: right;\">\n",
       "      <th></th>\n",
       "      <th>children</th>\n",
       "      <th>days_employed</th>\n",
       "      <th>dob_years</th>\n",
       "      <th>education</th>\n",
       "      <th>education_id</th>\n",
       "      <th>family_status</th>\n",
       "      <th>family_status_id</th>\n",
       "      <th>gender</th>\n",
       "      <th>income_type</th>\n",
       "      <th>debt</th>\n",
       "      <th>total_income</th>\n",
       "      <th>purpose</th>\n",
       "      <th>total_income_category</th>\n",
       "      <th>purpose_category</th>\n",
       "    </tr>\n",
       "  </thead>\n",
       "  <tbody>\n",
       "    <tr>\n",
       "      <th>0</th>\n",
       "      <td>1</td>\n",
       "      <td>8437.673028</td>\n",
       "      <td>42</td>\n",
       "      <td>высшее</td>\n",
       "      <td>0</td>\n",
       "      <td>женат / замужем</td>\n",
       "      <td>0</td>\n",
       "      <td>F</td>\n",
       "      <td>сотрудник</td>\n",
       "      <td>0</td>\n",
       "      <td>253875</td>\n",
       "      <td>покупка жилья</td>\n",
       "      <td>B</td>\n",
       "      <td>операции с недвижимостью</td>\n",
       "    </tr>\n",
       "    <tr>\n",
       "      <th>1</th>\n",
       "      <td>1</td>\n",
       "      <td>4024.803754</td>\n",
       "      <td>36</td>\n",
       "      <td>среднее</td>\n",
       "      <td>1</td>\n",
       "      <td>женат / замужем</td>\n",
       "      <td>0</td>\n",
       "      <td>F</td>\n",
       "      <td>сотрудник</td>\n",
       "      <td>0</td>\n",
       "      <td>112080</td>\n",
       "      <td>приобретение автомобиля</td>\n",
       "      <td>C</td>\n",
       "      <td>операции с автомобилем</td>\n",
       "    </tr>\n",
       "    <tr>\n",
       "      <th>2</th>\n",
       "      <td>0</td>\n",
       "      <td>5623.422610</td>\n",
       "      <td>33</td>\n",
       "      <td>среднее</td>\n",
       "      <td>1</td>\n",
       "      <td>женат / замужем</td>\n",
       "      <td>0</td>\n",
       "      <td>M</td>\n",
       "      <td>сотрудник</td>\n",
       "      <td>0</td>\n",
       "      <td>145885</td>\n",
       "      <td>покупка жилья</td>\n",
       "      <td>C</td>\n",
       "      <td>операции с недвижимостью</td>\n",
       "    </tr>\n",
       "    <tr>\n",
       "      <th>3</th>\n",
       "      <td>3</td>\n",
       "      <td>4124.747207</td>\n",
       "      <td>32</td>\n",
       "      <td>среднее</td>\n",
       "      <td>1</td>\n",
       "      <td>женат / замужем</td>\n",
       "      <td>0</td>\n",
       "      <td>M</td>\n",
       "      <td>сотрудник</td>\n",
       "      <td>0</td>\n",
       "      <td>267628</td>\n",
       "      <td>дополнительное образование</td>\n",
       "      <td>B</td>\n",
       "      <td>получение образования</td>\n",
       "    </tr>\n",
       "    <tr>\n",
       "      <th>4</th>\n",
       "      <td>0</td>\n",
       "      <td>340266.072047</td>\n",
       "      <td>53</td>\n",
       "      <td>среднее</td>\n",
       "      <td>1</td>\n",
       "      <td>гражданский брак</td>\n",
       "      <td>1</td>\n",
       "      <td>F</td>\n",
       "      <td>пенсионер</td>\n",
       "      <td>0</td>\n",
       "      <td>158616</td>\n",
       "      <td>сыграть свадьбу</td>\n",
       "      <td>C</td>\n",
       "      <td>проведение свадьбы</td>\n",
       "    </tr>\n",
       "  </tbody>\n",
       "</table>\n",
       "</div>"
      ],
      "text/plain": [
       "   children  days_employed  dob_years education  education_id  \\\n",
       "0         1    8437.673028         42    высшее             0   \n",
       "1         1    4024.803754         36   среднее             1   \n",
       "2         0    5623.422610         33   среднее             1   \n",
       "3         3    4124.747207         32   среднее             1   \n",
       "4         0  340266.072047         53   среднее             1   \n",
       "\n",
       "      family_status  family_status_id gender income_type  debt  total_income  \\\n",
       "0   женат / замужем                 0      F   сотрудник     0        253875   \n",
       "1   женат / замужем                 0      F   сотрудник     0        112080   \n",
       "2   женат / замужем                 0      M   сотрудник     0        145885   \n",
       "3   женат / замужем                 0      M   сотрудник     0        267628   \n",
       "4  гражданский брак                 1      F   пенсионер     0        158616   \n",
       "\n",
       "                      purpose total_income_category          purpose_category  \n",
       "0               покупка жилья                     B  операции с недвижимостью  \n",
       "1     приобретение автомобиля                     C    операции с автомобилем  \n",
       "2               покупка жилья                     C  операции с недвижимостью  \n",
       "3  дополнительное образование                     B     получение образования  \n",
       "4             сыграть свадьбу                     C        проведение свадьбы  "
      ]
     },
     "execution_count": 21,
     "metadata": {},
     "output_type": "execute_result"
    }
   ],
   "source": [
    "data['purpose_category'] = data['purpose'].apply(categorize_purpose)\n",
    "data.head()"
   ]
  },
  {
   "cell_type": "markdown",
   "id": "3d596c34",
   "metadata": {
    "deletable": false,
    "editable": false,
    "id": "3d596c34"
   },
   "source": [
    "### Шаг 3. Исследуйте данные и ответьте на вопросы"
   ]
  },
  {
   "cell_type": "markdown",
   "id": "648db036",
   "metadata": {
    "deletable": false,
    "editable": false,
    "id": "648db036"
   },
   "source": [
    "#### 3.1 Есть ли зависимость между количеством детей и возвратом кредита в срок?"
   ]
  },
  {
   "cell_type": "code",
   "execution_count": 22,
   "id": "7fcff25e",
   "metadata": {
    "deletable": false,
    "id": "7fcff25e",
    "scrolled": false
   },
   "outputs": [],
   "source": [
    "def debt_relation(data, index):\n",
    "    data_debt = data.pivot_table(index=index, values='debt', aggfunc=['count','sum','mean'])\n",
    "    data_debt.columns = ['count_all_credit', 'count_debitors','share_of_debitors']\n",
    "    data_debt = data_debt.sort_values(by='share_of_debitors', ascending=False)\n",
    "    data_debt['share_of_debitors']= data_debt['share_of_debitors'].map('{:.1%}'.format)\n",
    "    return data_debt"
   ]
  },
  {
   "cell_type": "code",
   "execution_count": 23,
   "id": "13d6c963",
   "metadata": {},
   "outputs": [
    {
     "data": {
      "text/html": [
       "<div>\n",
       "<style scoped>\n",
       "    .dataframe tbody tr th:only-of-type {\n",
       "        vertical-align: middle;\n",
       "    }\n",
       "\n",
       "    .dataframe tbody tr th {\n",
       "        vertical-align: top;\n",
       "    }\n",
       "\n",
       "    .dataframe thead th {\n",
       "        text-align: right;\n",
       "    }\n",
       "</style>\n",
       "<table border=\"1\" class=\"dataframe\">\n",
       "  <thead>\n",
       "    <tr style=\"text-align: right;\">\n",
       "      <th></th>\n",
       "      <th>count_all_credit</th>\n",
       "      <th>count_debitors</th>\n",
       "      <th>share_of_debitors</th>\n",
       "    </tr>\n",
       "    <tr>\n",
       "      <th>children</th>\n",
       "      <th></th>\n",
       "      <th></th>\n",
       "      <th></th>\n",
       "    </tr>\n",
       "  </thead>\n",
       "  <tbody>\n",
       "    <tr>\n",
       "      <th>4</th>\n",
       "      <td>41</td>\n",
       "      <td>4</td>\n",
       "      <td>9.8%</td>\n",
       "    </tr>\n",
       "    <tr>\n",
       "      <th>2</th>\n",
       "      <td>2052</td>\n",
       "      <td>194</td>\n",
       "      <td>9.5%</td>\n",
       "    </tr>\n",
       "    <tr>\n",
       "      <th>1</th>\n",
       "      <td>4808</td>\n",
       "      <td>444</td>\n",
       "      <td>9.2%</td>\n",
       "    </tr>\n",
       "    <tr>\n",
       "      <th>3</th>\n",
       "      <td>330</td>\n",
       "      <td>27</td>\n",
       "      <td>8.2%</td>\n",
       "    </tr>\n",
       "    <tr>\n",
       "      <th>0</th>\n",
       "      <td>14091</td>\n",
       "      <td>1063</td>\n",
       "      <td>7.5%</td>\n",
       "    </tr>\n",
       "    <tr>\n",
       "      <th>5</th>\n",
       "      <td>9</td>\n",
       "      <td>0</td>\n",
       "      <td>0.0%</td>\n",
       "    </tr>\n",
       "  </tbody>\n",
       "</table>\n",
       "</div>"
      ],
      "text/plain": [
       "          count_all_credit  count_debitors share_of_debitors\n",
       "children                                                    \n",
       "4                       41               4              9.8%\n",
       "2                     2052             194              9.5%\n",
       "1                     4808             444              9.2%\n",
       "3                      330              27              8.2%\n",
       "0                    14091            1063              7.5%\n",
       "5                        9               0              0.0%"
      ]
     },
     "execution_count": 23,
     "metadata": {},
     "output_type": "execute_result"
    }
   ],
   "source": [
    "debt_relation(data, 'children')"
   ]
  },
  {
   "cell_type": "markdown",
   "id": "a4d84c8c",
   "metadata": {
    "deletable": false,
    "id": "2eb9088e"
   },
   "source": [
    "**Вывод:** Проанализировав количество заемщиков имеющие невозвраты кредитов в срок, мы увидели, что доля заёмщиков с невозвратом кредита в срок увеличивается относительно общего числа заемщиков категории. Это говорит о зависимости между количеством детей и возвратом кредита в срок. Однако стоит заметить, что количество заемщиков в разных категориях существенно разнятся. Например количество заемщиков с 4 детьми ниже чем количество заемщиков без детей более чем в 340 раз. \n",
    "**Заемщики имеющие детей, имеют больше рисков стать должникам, зависимость присутствует**"
   ]
  },
  {
   "cell_type": "markdown",
   "id": "b656263a",
   "metadata": {},
   "source": [
    "Примечание: \n",
    "    \n",
    "    Столбец count_all_credit - общее количество заемщиков в категории\n",
    "    Столбец count_debitors - количество заемщиков,  имеющие невозвраты кредитов в срок\n",
    "    Столбец share_of_debitors - процентное соотношение заемщиков,  имеющие невозвраты кредитов в срок от общего количества категории.\n",
    "    Столбец \"children\" - количество детей у заемщика."
   ]
  },
  {
   "cell_type": "markdown",
   "id": "74c9b3a7",
   "metadata": {
    "deletable": false,
    "editable": false,
    "id": "74c9b3a7"
   },
   "source": [
    "#### 3.2 Есть ли зависимость между семейным положением и возвратом кредита в срок?"
   ]
  },
  {
   "cell_type": "code",
   "execution_count": 24,
   "id": "8098ab3b",
   "metadata": {
    "deletable": false,
    "id": "8098ab3b"
   },
   "outputs": [
    {
     "data": {
      "text/html": [
       "<div>\n",
       "<style scoped>\n",
       "    .dataframe tbody tr th:only-of-type {\n",
       "        vertical-align: middle;\n",
       "    }\n",
       "\n",
       "    .dataframe tbody tr th {\n",
       "        vertical-align: top;\n",
       "    }\n",
       "\n",
       "    .dataframe thead th {\n",
       "        text-align: right;\n",
       "    }\n",
       "</style>\n",
       "<table border=\"1\" class=\"dataframe\">\n",
       "  <thead>\n",
       "    <tr style=\"text-align: right;\">\n",
       "      <th></th>\n",
       "      <th>count_all_credit</th>\n",
       "      <th>count_debitors</th>\n",
       "      <th>share_of_debitors</th>\n",
       "    </tr>\n",
       "    <tr>\n",
       "      <th>family_status</th>\n",
       "      <th></th>\n",
       "      <th></th>\n",
       "      <th></th>\n",
       "    </tr>\n",
       "  </thead>\n",
       "  <tbody>\n",
       "    <tr>\n",
       "      <th>Не женат / не замужем</th>\n",
       "      <td>2796</td>\n",
       "      <td>273</td>\n",
       "      <td>9.8%</td>\n",
       "    </tr>\n",
       "    <tr>\n",
       "      <th>гражданский брак</th>\n",
       "      <td>4134</td>\n",
       "      <td>385</td>\n",
       "      <td>9.3%</td>\n",
       "    </tr>\n",
       "    <tr>\n",
       "      <th>женат / замужем</th>\n",
       "      <td>12261</td>\n",
       "      <td>927</td>\n",
       "      <td>7.6%</td>\n",
       "    </tr>\n",
       "    <tr>\n",
       "      <th>в разводе</th>\n",
       "      <td>1189</td>\n",
       "      <td>84</td>\n",
       "      <td>7.1%</td>\n",
       "    </tr>\n",
       "    <tr>\n",
       "      <th>вдовец / вдова</th>\n",
       "      <td>951</td>\n",
       "      <td>63</td>\n",
       "      <td>6.6%</td>\n",
       "    </tr>\n",
       "  </tbody>\n",
       "</table>\n",
       "</div>"
      ],
      "text/plain": [
       "                       count_all_credit  count_debitors share_of_debitors\n",
       "family_status                                                            \n",
       "Не женат / не замужем              2796             273              9.8%\n",
       "гражданский брак                   4134             385              9.3%\n",
       "женат / замужем                   12261             927              7.6%\n",
       "в разводе                          1189              84              7.1%\n",
       "вдовец / вдова                      951              63              6.6%"
      ]
     },
     "execution_count": 24,
     "metadata": {},
     "output_type": "execute_result"
    }
   ],
   "source": [
    "debt_relation(data, 'family_status')"
   ]
  },
  {
   "cell_type": "markdown",
   "id": "c389ca63",
   "metadata": {
    "deletable": false,
    "id": "c389ca63"
   },
   "source": [
    "**Вывод:** На второй таблице мы также видим зависимость возврата кредита в срок и семейного положения. Высокая доля заемщиков не женатых / не замужних заемщиков и заемщиков, живущих в гражданском браке. Стоит отметить также низкую долю заемщиков с семейным статусом \" в разводе\" и \"вдовец/вдова\", однако и количество заемщиков существенно ниже. \n",
    "**Свободные от брака люди имею высокий риск стать должниками. Зависимость есть.**"
   ]
  },
  {
   "cell_type": "markdown",
   "id": "1982ac66",
   "metadata": {},
   "source": [
    "Примечание: \n",
    "    Столбец count_all_credit - общее количество заемщиков в категории\n",
    "    Столбец count_debitors - количество заемщиков,  имеющие невозвраты кредитов в срок\n",
    "    Столбец share_of_debitors - процентное соотношение заемщиков,  имеющие невозвраты кредитов в срок от общего количества категории\n",
    "    Столбец \"family_status\" - Семейное положение заемщика."
   ]
  },
  {
   "cell_type": "markdown",
   "id": "9529de68",
   "metadata": {
    "deletable": false,
    "editable": false,
    "id": "9529de68"
   },
   "source": [
    "#### 3.3 Есть ли зависимость между уровнем дохода и возвратом кредита в срок?"
   ]
  },
  {
   "cell_type": "code",
   "execution_count": 25,
   "id": "8787f44a",
   "metadata": {
    "deletable": false,
    "id": "8787f44a",
    "scrolled": true
   },
   "outputs": [
    {
     "data": {
      "text/html": [
       "<div>\n",
       "<style scoped>\n",
       "    .dataframe tbody tr th:only-of-type {\n",
       "        vertical-align: middle;\n",
       "    }\n",
       "\n",
       "    .dataframe tbody tr th {\n",
       "        vertical-align: top;\n",
       "    }\n",
       "\n",
       "    .dataframe thead th {\n",
       "        text-align: right;\n",
       "    }\n",
       "</style>\n",
       "<table border=\"1\" class=\"dataframe\">\n",
       "  <thead>\n",
       "    <tr style=\"text-align: right;\">\n",
       "      <th></th>\n",
       "      <th>count_all_credit</th>\n",
       "      <th>count_debitors</th>\n",
       "      <th>share_of_debitors</th>\n",
       "    </tr>\n",
       "    <tr>\n",
       "      <th>total_income_category</th>\n",
       "      <th></th>\n",
       "      <th></th>\n",
       "      <th></th>\n",
       "    </tr>\n",
       "  </thead>\n",
       "  <tbody>\n",
       "    <tr>\n",
       "      <th>E</th>\n",
       "      <td>22</td>\n",
       "      <td>2</td>\n",
       "      <td>9.1%</td>\n",
       "    </tr>\n",
       "    <tr>\n",
       "      <th>C</th>\n",
       "      <td>15921</td>\n",
       "      <td>1353</td>\n",
       "      <td>8.5%</td>\n",
       "    </tr>\n",
       "    <tr>\n",
       "      <th>A</th>\n",
       "      <td>25</td>\n",
       "      <td>2</td>\n",
       "      <td>8.0%</td>\n",
       "    </tr>\n",
       "    <tr>\n",
       "      <th>B</th>\n",
       "      <td>5014</td>\n",
       "      <td>354</td>\n",
       "      <td>7.1%</td>\n",
       "    </tr>\n",
       "    <tr>\n",
       "      <th>D</th>\n",
       "      <td>349</td>\n",
       "      <td>21</td>\n",
       "      <td>6.0%</td>\n",
       "    </tr>\n",
       "  </tbody>\n",
       "</table>\n",
       "</div>"
      ],
      "text/plain": [
       "                       count_all_credit  count_debitors share_of_debitors\n",
       "total_income_category                                                    \n",
       "E                                    22               2              9.1%\n",
       "C                                 15921            1353              8.5%\n",
       "A                                    25               2              8.0%\n",
       "B                                  5014             354              7.1%\n",
       "D                                   349              21              6.0%"
      ]
     },
     "execution_count": 25,
     "metadata": {},
     "output_type": "execute_result"
    }
   ],
   "source": [
    "debt_relation(data, 'total_income_category')# Ваш код будет здесь. Вы можете создавать новые ячейки."
   ]
  },
  {
   "cell_type": "markdown",
   "id": "6dd14b57",
   "metadata": {
    "deletable": false,
    "id": "6dd14b57"
   },
   "source": [
    "**Вывод:** В третей же таблице мы видим что заемщики с доходом 50000 - 200000, имеющие задолженность по возврату кредитов имеют самую большую долю долю. Если убрать категорию Е и А, так как количество заемщиков низкое. Между уровнем дохода и возвратом кредита в срок также присутсвует зависимость.\n",
    "**Высокий риск стать должниками у граждан с доходами 50001 - 200000. Зависимость присутсвует**"
   ]
  },
  {
   "cell_type": "markdown",
   "id": "b0c57bc3",
   "metadata": {},
   "source": [
    "Примечание: \n",
    "    <br>\n",
    "    Столбец count_all_credit - общее количество заемщиков в категории\n",
    "    <br>\n",
    "    Столбец count_debitors - количество заемщиков,  имеющие невозвраты кредитов в срок\n",
    "    <br>\n",
    "    Столбец share_of_debitors - процентное соотношение заемщиков,  имеющие невозвраты кредитов в срок от общего количества категории\n",
    "    <br>\n",
    "    Столбец \"total_income_category\" - ежемесячный доход по категориям, где:\n",
    "    <br>\n",
    "        0–30000 — 'E';\n",
    "    <br>\n",
    "        30001–50000 — 'D';\n",
    "    <br>\n",
    "        50001–200000 — 'C';\n",
    "    <br>\n",
    "        200001–1000000 — 'B';\n",
    "    <br>\n",
    "        1000001 и выше — 'A'.\n",
    "    <br>"
   ]
  },
  {
   "cell_type": "markdown",
   "id": "1dcc9b12",
   "metadata": {
    "deletable": false,
    "editable": false,
    "id": "1dcc9b12"
   },
   "source": [
    "#### 3.4 Как разные цели кредита влияют на его возврат в срок?"
   ]
  },
  {
   "cell_type": "code",
   "execution_count": 26,
   "id": "c602bc8b",
   "metadata": {
    "deletable": false,
    "id": "c602bc8b"
   },
   "outputs": [
    {
     "data": {
      "text/html": [
       "<div>\n",
       "<style scoped>\n",
       "    .dataframe tbody tr th:only-of-type {\n",
       "        vertical-align: middle;\n",
       "    }\n",
       "\n",
       "    .dataframe tbody tr th {\n",
       "        vertical-align: top;\n",
       "    }\n",
       "\n",
       "    .dataframe thead th {\n",
       "        text-align: right;\n",
       "    }\n",
       "</style>\n",
       "<table border=\"1\" class=\"dataframe\">\n",
       "  <thead>\n",
       "    <tr style=\"text-align: right;\">\n",
       "      <th></th>\n",
       "      <th>count_all_credit</th>\n",
       "      <th>count_debitors</th>\n",
       "      <th>share_of_debitors</th>\n",
       "    </tr>\n",
       "    <tr>\n",
       "      <th>purpose_category</th>\n",
       "      <th></th>\n",
       "      <th></th>\n",
       "      <th></th>\n",
       "    </tr>\n",
       "  </thead>\n",
       "  <tbody>\n",
       "    <tr>\n",
       "      <th>операции с автомобилем</th>\n",
       "      <td>4279</td>\n",
       "      <td>400</td>\n",
       "      <td>9.3%</td>\n",
       "    </tr>\n",
       "    <tr>\n",
       "      <th>получение образования</th>\n",
       "      <td>3988</td>\n",
       "      <td>369</td>\n",
       "      <td>9.3%</td>\n",
       "    </tr>\n",
       "    <tr>\n",
       "      <th>проведение свадьбы</th>\n",
       "      <td>2313</td>\n",
       "      <td>183</td>\n",
       "      <td>7.9%</td>\n",
       "    </tr>\n",
       "    <tr>\n",
       "      <th>операции с недвижимостью</th>\n",
       "      <td>10751</td>\n",
       "      <td>780</td>\n",
       "      <td>7.3%</td>\n",
       "    </tr>\n",
       "  </tbody>\n",
       "</table>\n",
       "</div>"
      ],
      "text/plain": [
       "                          count_all_credit  count_debitors share_of_debitors\n",
       "purpose_category                                                            \n",
       "операции с автомобилем                4279             400              9.3%\n",
       "получение образования                 3988             369              9.3%\n",
       "проведение свадьбы                    2313             183              7.9%\n",
       "операции с недвижимостью             10751             780              7.3%"
      ]
     },
     "execution_count": 26,
     "metadata": {},
     "output_type": "execute_result"
    }
   ],
   "source": [
    "debt_relation(data, 'purpose_category')"
   ]
  },
  {
   "cell_type": "markdown",
   "id": "cf05ed63",
   "metadata": {
    "deletable": false,
    "id": "cf05ed63"
   },
   "source": [
    "**Вывод:** Небольшая зависимость в 4-ой таблице также присутсвует, самая маленька доля неплательщиков кредитов в срок это заемщики с целями кредита \"проведение свадьбы\" и \"операции с недвижимостью\"\n",
    "\n",
    "**Клиенты, которые планируют брать деньги на операции с автомобилем и получением образования повреждены риску стать должниками**"
   ]
  },
  {
   "cell_type": "markdown",
   "id": "0d55f1b3",
   "metadata": {},
   "source": [
    "Примечание: \n",
    "    Столбец count_all_credit - общее количество заемщиков в категории\n",
    "    Столбец count_debitors - количество заемщиков,  имеющие невозвраты кредитов в срок\n",
    "    Столбец share_of_debitors - процентное соотношение заемщиков,  имеющие невозвраты кредитов в срок от общего количества категории\n",
    "    Столбец \"purpose_category\" - цель получения кредита"
   ]
  },
  {
   "cell_type": "markdown",
   "id": "46c1f10b",
   "metadata": {
    "deletable": false,
    "editable": false,
    "id": "46c1f10b"
   },
   "source": [
    "#### 3.5 Приведите возможные причины появления пропусков в исходных данных."
   ]
  },
  {
   "cell_type": "markdown",
   "id": "3697d2a9",
   "metadata": {
    "deletable": false,
    "id": "3697d2a9"
   },
   "source": [
    "*Ответ:* Мы видим зависимость пропусков в столбцах \"общий трудовой стаж в днях\" и \"ежемесячный доход\". Вероятней всего клиенты не заявили о трудовом стаже и ежемесячном доходе. \n",
    "Также причиной может стать техническая ошибка при выгрузке данных и некорректный ввод данных сотрудником банка."
   ]
  },
  {
   "cell_type": "markdown",
   "id": "3137d257",
   "metadata": {
    "deletable": false,
    "editable": false,
    "id": "3137d257"
   },
   "source": [
    "#### 3.6 Объясните, почему заполнить пропуски медианным значением — лучшее решение для количественных переменных."
   ]
  },
  {
   "cell_type": "markdown",
   "id": "cf40012a",
   "metadata": {
    "deletable": false,
    "id": "cf40012a"
   },
   "source": [
    "*Ответ:* Медианное значение в данном случае более точнее, чем среднее. Среднее значение некорректно характеризует данные, когда некоторые значения сильно выделяются среди большинства, как мы это увидели в примере со столбцом \"ежемесячный доход\""
   ]
  },
  {
   "cell_type": "markdown",
   "id": "57bc304e",
   "metadata": {
    "deletable": false,
    "editable": false,
    "id": "57bc304e"
   },
   "source": [
    "### Шаг 4: общий вывод."
   ]
  },
  {
   "cell_type": "markdown",
   "id": "1ab75d1c",
   "metadata": {
    "deletable": false,
    "id": "1ab75d1c"
   },
   "source": [
    "В ходе исследования были сформированы сводные таблицы зависимости наличия задолженности по возврату кредитов и следующих параметров:\n",
    "<br>\n",
    "•\tколичество детей;\n",
    "<br>\n",
    "•\tсемейное положение;\n",
    "<br>\n",
    "•\tуровень дохода;\n",
    "<br>\n",
    "•\tцели кредита.\n",
    "<br>\n",
    "Сформированные таблицы показали нам зависимость по каждому взятому параметру. \n",
    "В результате удалось сформировать портреты заемщиков с высоким и низким риском стать должником. Высокий риск стать должником у заемщиков, которые имеют следующие параметры:\n",
    "<br>\n",
    "•\tНаличие одного или двух детей\n",
    "<br>\n",
    "•\tНе состоящим в браке, или находящиеся в гражданском браке\n",
    "<br>\n",
    "•\tИмеющим доход 50001 - 200000 в месяц\n",
    "<br>\n",
    "•\tПланирующие деньги на \"операции с автомобилем\" и \"получение образования\"\n",
    "<br>\n",
    "Низкий риск стать должником у заемщиков, которые имеют следующие параметры:\n",
    "<br>\n",
    "•\tОтсутствие детей\n",
    "<br>\n",
    "•\tНаходящиеся в разводе или вдовы/вдовцы, а также заемщики состоящие в браке\n",
    "<br>\n",
    "•\tИмеющие доход 200001 - 1000000 в месяц\n",
    "<br>\n",
    "•\tПланирующие деньги на \"операции с недвижимостью\" и \"проведение свадьбы\"\n",
    "<br>\n",
    "Для последующего построения модели скоринга, рекомендуем обратить внимание на вышеуказанные категории при начислении скоринговых баллов заемщику. Также рекомендуем обратить внимание на обязательность заполнения важных параметров анкеты заемщика, так как это одна из возможных причин пустых строк в предоставленной таблице. В текущем анализе данных мы заменили пропуски медианным значением.\n",
    "\n"
   ]
  }
 ],
 "metadata": {
  "ExecuteTimeLog": [
   {
    "duration": 88,
    "start_time": "2023-03-10T04:27:04.774Z"
   },
   {
    "duration": 729,
    "start_time": "2023-03-10T04:27:21.234Z"
   },
   {
    "duration": 23,
    "start_time": "2023-03-10T04:27:21.965Z"
   },
   {
    "duration": 16,
    "start_time": "2023-03-10T04:27:21.989Z"
   },
   {
    "duration": 12,
    "start_time": "2023-03-10T04:27:22.007Z"
   },
   {
    "duration": 66,
    "start_time": "2023-03-10T04:27:22.022Z"
   },
   {
    "duration": 3,
    "start_time": "2023-03-10T04:27:22.090Z"
   },
   {
    "duration": 11,
    "start_time": "2023-03-10T04:27:22.095Z"
   },
   {
    "duration": 5,
    "start_time": "2023-03-10T04:27:22.108Z"
   },
   {
    "duration": 14,
    "start_time": "2023-03-10T04:27:22.115Z"
   },
   {
    "duration": 32,
    "start_time": "2023-03-10T04:27:22.132Z"
   },
   {
    "duration": 42,
    "start_time": "2023-03-10T04:27:22.166Z"
   },
   {
    "duration": 11,
    "start_time": "2023-03-10T04:27:22.210Z"
   },
   {
    "duration": 7,
    "start_time": "2023-03-10T04:27:22.224Z"
   },
   {
    "duration": 16,
    "start_time": "2023-03-10T04:27:22.256Z"
   },
   {
    "duration": 23,
    "start_time": "2023-03-10T04:27:22.274Z"
   },
   {
    "duration": 18,
    "start_time": "2023-03-10T04:27:22.298Z"
   },
   {
    "duration": 4,
    "start_time": "2023-03-10T04:27:22.317Z"
   },
   {
    "duration": 37,
    "start_time": "2023-03-10T04:27:22.322Z"
   },
   {
    "duration": 10,
    "start_time": "2023-03-10T04:27:22.361Z"
   },
   {
    "duration": 5,
    "start_time": "2023-03-10T04:27:22.373Z"
   },
   {
    "duration": 15,
    "start_time": "2023-03-10T04:27:22.379Z"
   },
   {
    "duration": 22,
    "start_time": "2023-03-10T04:27:22.395Z"
   },
   {
    "duration": 2,
    "start_time": "2023-03-10T04:27:22.419Z"
   },
   {
    "duration": 8,
    "start_time": "2023-03-10T04:27:22.423Z"
   },
   {
    "duration": 2,
    "start_time": "2023-03-10T04:27:22.458Z"
   },
   {
    "duration": 14,
    "start_time": "2023-03-10T04:27:27.690Z"
   },
   {
    "duration": 20,
    "start_time": "2023-03-10T04:27:37.326Z"
   },
   {
    "duration": 21,
    "start_time": "2023-03-10T04:52:54.038Z"
   },
   {
    "duration": 14,
    "start_time": "2023-03-10T05:07:54.053Z"
   },
   {
    "duration": 24,
    "start_time": "2023-03-10T05:08:02.937Z"
   },
   {
    "duration": 21,
    "start_time": "2023-03-10T05:13:49.587Z"
   },
   {
    "duration": 25,
    "start_time": "2023-03-10T05:13:56.661Z"
   },
   {
    "duration": 452,
    "start_time": "2023-03-10T05:14:12.704Z"
   },
   {
    "duration": 30,
    "start_time": "2023-03-10T05:14:13.159Z"
   },
   {
    "duration": 17,
    "start_time": "2023-03-10T05:14:13.191Z"
   },
   {
    "duration": 10,
    "start_time": "2023-03-10T05:14:13.210Z"
   },
   {
    "duration": 87,
    "start_time": "2023-03-10T05:14:13.222Z"
   },
   {
    "duration": 4,
    "start_time": "2023-03-10T05:14:13.311Z"
   },
   {
    "duration": 18,
    "start_time": "2023-03-10T05:14:13.317Z"
   },
   {
    "duration": 20,
    "start_time": "2023-03-10T05:14:13.337Z"
   },
   {
    "duration": 35,
    "start_time": "2023-03-10T05:14:13.359Z"
   },
   {
    "duration": 5,
    "start_time": "2023-03-10T05:14:13.399Z"
   },
   {
    "duration": 39,
    "start_time": "2023-03-10T05:14:13.405Z"
   },
   {
    "duration": 14,
    "start_time": "2023-03-10T05:14:13.446Z"
   },
   {
    "duration": 29,
    "start_time": "2023-03-10T05:14:13.463Z"
   },
   {
    "duration": 27,
    "start_time": "2023-03-10T05:14:13.494Z"
   },
   {
    "duration": 27,
    "start_time": "2023-03-10T05:14:13.523Z"
   },
   {
    "duration": 27,
    "start_time": "2023-03-10T05:14:13.553Z"
   },
   {
    "duration": 8,
    "start_time": "2023-03-10T05:14:13.582Z"
   },
   {
    "duration": 19,
    "start_time": "2023-03-10T05:14:13.591Z"
   },
   {
    "duration": 8,
    "start_time": "2023-03-10T05:14:13.612Z"
   },
   {
    "duration": 7,
    "start_time": "2023-03-10T05:14:13.622Z"
   },
   {
    "duration": 53,
    "start_time": "2023-03-10T05:14:13.631Z"
   },
   {
    "duration": 27,
    "start_time": "2023-03-10T05:14:13.686Z"
   },
   {
    "duration": 2,
    "start_time": "2023-03-10T05:14:13.715Z"
   },
   {
    "duration": 11,
    "start_time": "2023-03-10T05:14:13.719Z"
   },
   {
    "duration": 27,
    "start_time": "2023-03-10T05:14:13.732Z"
   },
   {
    "duration": 19,
    "start_time": "2023-03-10T05:15:39.373Z"
   },
   {
    "duration": 19,
    "start_time": "2023-03-10T05:15:46.277Z"
   },
   {
    "duration": 18,
    "start_time": "2023-03-10T05:15:50.055Z"
   },
   {
    "duration": 18,
    "start_time": "2023-03-10T05:15:58.486Z"
   },
   {
    "duration": 68,
    "start_time": "2023-03-10T05:21:32.873Z"
   },
   {
    "duration": 18,
    "start_time": "2023-03-10T05:21:36.013Z"
   },
   {
    "duration": 24,
    "start_time": "2023-03-10T05:21:46.597Z"
   },
   {
    "duration": 19,
    "start_time": "2023-03-10T05:21:59.055Z"
   },
   {
    "duration": 20,
    "start_time": "2023-03-10T05:22:17.253Z"
   },
   {
    "duration": 20,
    "start_time": "2023-03-10T05:23:18.579Z"
   },
   {
    "duration": 19,
    "start_time": "2023-03-10T05:23:41.841Z"
   },
   {
    "duration": 20,
    "start_time": "2023-03-10T05:23:52.409Z"
   },
   {
    "duration": 19,
    "start_time": "2023-03-10T05:26:30.399Z"
   },
   {
    "duration": 16,
    "start_time": "2023-03-10T05:28:01.671Z"
   },
   {
    "duration": 21,
    "start_time": "2023-03-10T05:28:08.433Z"
   },
   {
    "duration": 20,
    "start_time": "2023-03-10T05:28:39.733Z"
   },
   {
    "duration": 76,
    "start_time": "2023-03-10T05:29:08.167Z"
   },
   {
    "duration": 20,
    "start_time": "2023-03-10T05:29:28.417Z"
   },
   {
    "duration": 12,
    "start_time": "2023-03-10T05:31:17.364Z"
   },
   {
    "duration": 18,
    "start_time": "2023-03-10T05:31:24.940Z"
   },
   {
    "duration": 27,
    "start_time": "2023-03-10T05:32:27.037Z"
   },
   {
    "duration": 20,
    "start_time": "2023-03-10T05:33:33.045Z"
   },
   {
    "duration": 20,
    "start_time": "2023-03-10T05:33:38.519Z"
   },
   {
    "duration": 19,
    "start_time": "2023-03-10T05:33:42.518Z"
   },
   {
    "duration": 23,
    "start_time": "2023-03-10T05:34:02.722Z"
   },
   {
    "duration": 23,
    "start_time": "2023-03-10T05:35:00.536Z"
   },
   {
    "duration": 14,
    "start_time": "2023-03-10T05:49:42.268Z"
   },
   {
    "duration": 19,
    "start_time": "2023-03-10T05:50:03.004Z"
   },
   {
    "duration": 16,
    "start_time": "2023-03-10T05:50:47.463Z"
   },
   {
    "duration": 21,
    "start_time": "2023-03-10T05:50:58.109Z"
   },
   {
    "duration": 13,
    "start_time": "2023-03-10T05:53:36.446Z"
   },
   {
    "duration": 912,
    "start_time": "2023-03-10T05:58:52.286Z"
   },
   {
    "duration": 452,
    "start_time": "2023-03-10T05:59:03.112Z"
   },
   {
    "duration": 25,
    "start_time": "2023-03-10T05:59:03.566Z"
   },
   {
    "duration": 17,
    "start_time": "2023-03-10T05:59:03.592Z"
   },
   {
    "duration": 9,
    "start_time": "2023-03-10T05:59:03.611Z"
   },
   {
    "duration": 61,
    "start_time": "2023-03-10T05:59:03.622Z"
   },
   {
    "duration": 4,
    "start_time": "2023-03-10T05:59:03.684Z"
   },
   {
    "duration": 12,
    "start_time": "2023-03-10T05:59:03.689Z"
   },
   {
    "duration": 4,
    "start_time": "2023-03-10T05:59:03.703Z"
   },
   {
    "duration": 9,
    "start_time": "2023-03-10T05:59:03.709Z"
   },
   {
    "duration": 7,
    "start_time": "2023-03-10T05:59:03.720Z"
   },
   {
    "duration": 64,
    "start_time": "2023-03-10T05:59:03.728Z"
   },
   {
    "duration": 9,
    "start_time": "2023-03-10T05:59:03.794Z"
   },
   {
    "duration": 5,
    "start_time": "2023-03-10T05:59:03.805Z"
   },
   {
    "duration": 14,
    "start_time": "2023-03-10T05:59:03.812Z"
   },
   {
    "duration": 37,
    "start_time": "2023-03-10T05:59:03.828Z"
   },
   {
    "duration": 17,
    "start_time": "2023-03-10T05:59:03.867Z"
   },
   {
    "duration": 3,
    "start_time": "2023-03-10T05:59:03.886Z"
   },
   {
    "duration": 14,
    "start_time": "2023-03-10T05:59:03.891Z"
   },
   {
    "duration": 9,
    "start_time": "2023-03-10T05:59:03.906Z"
   },
   {
    "duration": 3,
    "start_time": "2023-03-10T05:59:03.917Z"
   },
   {
    "duration": 39,
    "start_time": "2023-03-10T05:59:03.922Z"
   },
   {
    "duration": 78,
    "start_time": "2023-03-10T05:59:03.962Z"
   },
   {
    "duration": 0,
    "start_time": "2023-03-10T05:59:04.042Z"
   },
   {
    "duration": 0,
    "start_time": "2023-03-10T05:59:04.043Z"
   },
   {
    "duration": 0,
    "start_time": "2023-03-10T05:59:04.058Z"
   },
   {
    "duration": 20,
    "start_time": "2023-03-10T05:59:16.672Z"
   },
   {
    "duration": 20,
    "start_time": "2023-03-10T06:17:04.528Z"
   },
   {
    "duration": 32,
    "start_time": "2023-03-10T06:17:11.942Z"
   },
   {
    "duration": 34,
    "start_time": "2023-03-10T06:17:20.750Z"
   },
   {
    "duration": 500,
    "start_time": "2023-03-10T06:17:57.577Z"
   },
   {
    "duration": 26,
    "start_time": "2023-03-10T06:17:58.080Z"
   },
   {
    "duration": 18,
    "start_time": "2023-03-10T06:17:58.108Z"
   },
   {
    "duration": 37,
    "start_time": "2023-03-10T06:17:58.128Z"
   },
   {
    "duration": 54,
    "start_time": "2023-03-10T06:17:58.168Z"
   },
   {
    "duration": 4,
    "start_time": "2023-03-10T06:17:58.224Z"
   },
   {
    "duration": 12,
    "start_time": "2023-03-10T06:17:58.230Z"
   },
   {
    "duration": 17,
    "start_time": "2023-03-10T06:17:58.243Z"
   },
   {
    "duration": 17,
    "start_time": "2023-03-10T06:17:58.263Z"
   },
   {
    "duration": 7,
    "start_time": "2023-03-10T06:17:58.283Z"
   },
   {
    "duration": 38,
    "start_time": "2023-03-10T06:17:58.292Z"
   },
   {
    "duration": 10,
    "start_time": "2023-03-10T06:17:58.332Z"
   },
   {
    "duration": 7,
    "start_time": "2023-03-10T06:17:58.358Z"
   },
   {
    "duration": 22,
    "start_time": "2023-03-10T06:17:58.367Z"
   },
   {
    "duration": 29,
    "start_time": "2023-03-10T06:17:58.391Z"
   },
   {
    "duration": 51,
    "start_time": "2023-03-10T06:17:58.422Z"
   },
   {
    "duration": 5,
    "start_time": "2023-03-10T06:17:58.476Z"
   },
   {
    "duration": 18,
    "start_time": "2023-03-10T06:17:58.484Z"
   },
   {
    "duration": 9,
    "start_time": "2023-03-10T06:17:58.504Z"
   },
   {
    "duration": 12,
    "start_time": "2023-03-10T06:17:58.516Z"
   },
   {
    "duration": 35,
    "start_time": "2023-03-10T06:17:58.529Z"
   },
   {
    "duration": 38,
    "start_time": "2023-03-10T06:17:58.567Z"
   },
   {
    "duration": 3,
    "start_time": "2023-03-10T06:17:58.607Z"
   },
   {
    "duration": 18,
    "start_time": "2023-03-10T06:17:58.611Z"
   },
   {
    "duration": 4,
    "start_time": "2023-03-10T06:17:58.631Z"
   },
   {
    "duration": 522,
    "start_time": "2023-03-10T06:20:04.337Z"
   },
   {
    "duration": 29,
    "start_time": "2023-03-10T06:20:04.861Z"
   },
   {
    "duration": 17,
    "start_time": "2023-03-10T06:20:04.892Z"
   },
   {
    "duration": 20,
    "start_time": "2023-03-10T06:20:04.911Z"
   },
   {
    "duration": 69,
    "start_time": "2023-03-10T06:20:04.933Z"
   },
   {
    "duration": 3,
    "start_time": "2023-03-10T06:20:05.004Z"
   },
   {
    "duration": 10,
    "start_time": "2023-03-10T06:20:05.009Z"
   },
   {
    "duration": 8,
    "start_time": "2023-03-10T06:20:05.020Z"
   },
   {
    "duration": 14,
    "start_time": "2023-03-10T06:20:05.030Z"
   },
   {
    "duration": 8,
    "start_time": "2023-03-10T06:20:05.060Z"
   },
   {
    "duration": 42,
    "start_time": "2023-03-10T06:20:05.070Z"
   },
   {
    "duration": 11,
    "start_time": "2023-03-10T06:20:05.114Z"
   },
   {
    "duration": 5,
    "start_time": "2023-03-10T06:20:05.127Z"
   },
   {
    "duration": 20,
    "start_time": "2023-03-10T06:20:05.156Z"
   },
   {
    "duration": 44,
    "start_time": "2023-03-10T06:20:05.179Z"
   },
   {
    "duration": 45,
    "start_time": "2023-03-10T06:20:05.226Z"
   },
   {
    "duration": 17,
    "start_time": "2023-03-10T06:20:05.274Z"
   },
   {
    "duration": 35,
    "start_time": "2023-03-10T06:20:05.293Z"
   },
   {
    "duration": 31,
    "start_time": "2023-03-10T06:20:05.330Z"
   },
   {
    "duration": 24,
    "start_time": "2023-03-10T06:20:05.366Z"
   },
   {
    "duration": 24,
    "start_time": "2023-03-10T06:20:05.392Z"
   },
   {
    "duration": 35,
    "start_time": "2023-03-10T06:20:05.418Z"
   },
   {
    "duration": 3,
    "start_time": "2023-03-10T06:20:05.455Z"
   },
   {
    "duration": 23,
    "start_time": "2023-03-10T06:20:05.460Z"
   },
   {
    "duration": 14,
    "start_time": "2023-03-10T06:20:05.485Z"
   },
   {
    "duration": 25,
    "start_time": "2023-03-10T06:20:14.647Z"
   },
   {
    "duration": 27,
    "start_time": "2023-03-10T06:20:22.042Z"
   },
   {
    "duration": 24,
    "start_time": "2023-03-10T06:20:35.905Z"
   },
   {
    "duration": 23,
    "start_time": "2023-03-10T06:21:00.509Z"
   },
   {
    "duration": 25,
    "start_time": "2023-03-10T06:21:20.423Z"
   },
   {
    "duration": 26,
    "start_time": "2023-03-10T06:21:36.274Z"
   },
   {
    "duration": 1399,
    "start_time": "2023-03-10T06:37:00.402Z"
   },
   {
    "duration": 154,
    "start_time": "2023-03-10T08:16:46.896Z"
   },
   {
    "duration": 13,
    "start_time": "2023-03-10T08:17:20.997Z"
   },
   {
    "duration": 23,
    "start_time": "2023-03-10T08:17:47.605Z"
   },
   {
    "duration": 11,
    "start_time": "2023-03-10T08:19:59.552Z"
   },
   {
    "duration": 520,
    "start_time": "2023-03-10T08:20:06.365Z"
   },
   {
    "duration": 23,
    "start_time": "2023-03-10T08:20:06.887Z"
   },
   {
    "duration": 14,
    "start_time": "2023-03-10T08:20:06.911Z"
   },
   {
    "duration": 22,
    "start_time": "2023-03-10T08:20:06.927Z"
   },
   {
    "duration": 37,
    "start_time": "2023-03-10T08:20:06.956Z"
   },
   {
    "duration": 4,
    "start_time": "2023-03-10T08:20:06.995Z"
   },
   {
    "duration": 13,
    "start_time": "2023-03-10T08:20:07.000Z"
   },
   {
    "duration": 6,
    "start_time": "2023-03-10T08:20:07.015Z"
   },
   {
    "duration": 20,
    "start_time": "2023-03-10T08:20:07.023Z"
   },
   {
    "duration": 5,
    "start_time": "2023-03-10T08:20:07.057Z"
   },
   {
    "duration": 43,
    "start_time": "2023-03-10T08:20:07.064Z"
   },
   {
    "duration": 11,
    "start_time": "2023-03-10T08:20:07.108Z"
   },
   {
    "duration": 5,
    "start_time": "2023-03-10T08:20:07.121Z"
   },
   {
    "duration": 18,
    "start_time": "2023-03-10T08:20:07.128Z"
   },
   {
    "duration": 19,
    "start_time": "2023-03-10T08:20:07.158Z"
   },
   {
    "duration": 28,
    "start_time": "2023-03-10T08:20:07.179Z"
   },
   {
    "duration": 4,
    "start_time": "2023-03-10T08:20:07.210Z"
   },
   {
    "duration": 21,
    "start_time": "2023-03-10T08:20:07.216Z"
   },
   {
    "duration": 22,
    "start_time": "2023-03-10T08:20:07.239Z"
   },
   {
    "duration": 5,
    "start_time": "2023-03-10T08:20:07.263Z"
   },
   {
    "duration": 38,
    "start_time": "2023-03-10T08:20:07.270Z"
   },
   {
    "duration": 25,
    "start_time": "2023-03-10T08:20:07.310Z"
   },
   {
    "duration": 825,
    "start_time": "2023-03-10T08:20:07.357Z"
   },
   {
    "duration": 0,
    "start_time": "2023-03-10T08:20:08.184Z"
   },
   {
    "duration": 0,
    "start_time": "2023-03-10T08:20:08.185Z"
   },
   {
    "duration": 0,
    "start_time": "2023-03-10T08:20:08.186Z"
   },
   {
    "duration": 18,
    "start_time": "2023-03-10T08:20:15.816Z"
   },
   {
    "duration": 197,
    "start_time": "2023-03-10T08:20:41.980Z"
   },
   {
    "duration": 164,
    "start_time": "2023-03-10T08:26:45.508Z"
   },
   {
    "duration": 131,
    "start_time": "2023-03-10T08:26:51.562Z"
   },
   {
    "duration": 314,
    "start_time": "2023-03-10T08:26:55.415Z"
   },
   {
    "duration": 261,
    "start_time": "2023-03-10T08:27:39.467Z"
   },
   {
    "duration": 17,
    "start_time": "2023-03-10T08:34:34.448Z"
   },
   {
    "duration": 25,
    "start_time": "2023-03-10T08:35:24.492Z"
   },
   {
    "duration": 21,
    "start_time": "2023-03-10T08:36:01.773Z"
   },
   {
    "duration": 134,
    "start_time": "2023-03-10T08:36:34.972Z"
   },
   {
    "duration": 8,
    "start_time": "2023-03-10T08:36:48.538Z"
   },
   {
    "duration": 14,
    "start_time": "2023-03-10T08:36:53.396Z"
   },
   {
    "duration": 801,
    "start_time": "2023-03-10T08:38:10.773Z"
   },
   {
    "duration": 14,
    "start_time": "2023-03-10T08:42:10.399Z"
   },
   {
    "duration": 32,
    "start_time": "2023-03-10T08:42:35.011Z"
   },
   {
    "duration": 15,
    "start_time": "2023-03-10T08:45:15.524Z"
   },
   {
    "duration": 16,
    "start_time": "2023-03-10T08:45:28.634Z"
   },
   {
    "duration": 11,
    "start_time": "2023-03-10T08:45:33.954Z"
   },
   {
    "duration": 13,
    "start_time": "2023-03-10T08:46:21.408Z"
   },
   {
    "duration": 484,
    "start_time": "2023-03-10T08:51:55.540Z"
   },
   {
    "duration": 22,
    "start_time": "2023-03-10T08:51:56.026Z"
   },
   {
    "duration": 15,
    "start_time": "2023-03-10T08:51:56.050Z"
   },
   {
    "duration": 11,
    "start_time": "2023-03-10T08:51:56.067Z"
   },
   {
    "duration": 34,
    "start_time": "2023-03-10T08:51:56.079Z"
   },
   {
    "duration": 3,
    "start_time": "2023-03-10T08:51:56.115Z"
   },
   {
    "duration": 10,
    "start_time": "2023-03-10T08:51:56.120Z"
   },
   {
    "duration": 26,
    "start_time": "2023-03-10T08:51:56.132Z"
   },
   {
    "duration": 6,
    "start_time": "2023-03-10T08:51:56.160Z"
   },
   {
    "duration": 14,
    "start_time": "2023-03-10T08:51:56.170Z"
   },
   {
    "duration": 35,
    "start_time": "2023-03-10T08:51:56.185Z"
   },
   {
    "duration": 10,
    "start_time": "2023-03-10T08:51:56.221Z"
   },
   {
    "duration": 25,
    "start_time": "2023-03-10T08:51:56.232Z"
   },
   {
    "duration": 12,
    "start_time": "2023-03-10T08:51:56.259Z"
   },
   {
    "duration": 22,
    "start_time": "2023-03-10T08:51:56.272Z"
   },
   {
    "duration": 17,
    "start_time": "2023-03-10T08:51:56.296Z"
   },
   {
    "duration": 5,
    "start_time": "2023-03-10T08:51:56.315Z"
   },
   {
    "duration": 45,
    "start_time": "2023-03-10T08:51:56.322Z"
   },
   {
    "duration": 8,
    "start_time": "2023-03-10T08:51:56.372Z"
   },
   {
    "duration": 6,
    "start_time": "2023-03-10T08:51:56.382Z"
   },
   {
    "duration": 28,
    "start_time": "2023-03-10T08:51:56.390Z"
   },
   {
    "duration": 130,
    "start_time": "2023-03-10T08:51:56.421Z"
   },
   {
    "duration": 0,
    "start_time": "2023-03-10T08:51:56.552Z"
   },
   {
    "duration": 0,
    "start_time": "2023-03-10T08:51:56.554Z"
   },
   {
    "duration": 0,
    "start_time": "2023-03-10T08:51:56.555Z"
   },
   {
    "duration": 0,
    "start_time": "2023-03-10T08:51:56.556Z"
   },
   {
    "duration": 451,
    "start_time": "2023-03-10T08:52:30.500Z"
   },
   {
    "duration": 22,
    "start_time": "2023-03-10T08:52:30.953Z"
   },
   {
    "duration": 23,
    "start_time": "2023-03-10T08:52:30.977Z"
   },
   {
    "duration": 31,
    "start_time": "2023-03-10T08:52:31.002Z"
   },
   {
    "duration": 67,
    "start_time": "2023-03-10T08:52:31.035Z"
   },
   {
    "duration": 35,
    "start_time": "2023-03-10T08:52:31.104Z"
   },
   {
    "duration": 46,
    "start_time": "2023-03-10T08:52:31.140Z"
   },
   {
    "duration": 29,
    "start_time": "2023-03-10T08:52:31.188Z"
   },
   {
    "duration": 26,
    "start_time": "2023-03-10T08:52:31.219Z"
   },
   {
    "duration": 45,
    "start_time": "2023-03-10T08:52:31.247Z"
   },
   {
    "duration": 68,
    "start_time": "2023-03-10T08:52:31.294Z"
   },
   {
    "duration": 10,
    "start_time": "2023-03-10T08:52:31.364Z"
   },
   {
    "duration": 19,
    "start_time": "2023-03-10T08:52:31.376Z"
   },
   {
    "duration": 21,
    "start_time": "2023-03-10T08:52:31.398Z"
   },
   {
    "duration": 56,
    "start_time": "2023-03-10T08:52:31.421Z"
   },
   {
    "duration": 33,
    "start_time": "2023-03-10T08:52:31.479Z"
   },
   {
    "duration": 20,
    "start_time": "2023-03-10T08:52:31.514Z"
   },
   {
    "duration": 36,
    "start_time": "2023-03-10T08:52:31.536Z"
   },
   {
    "duration": 41,
    "start_time": "2023-03-10T08:52:31.573Z"
   },
   {
    "duration": 22,
    "start_time": "2023-03-10T08:52:31.616Z"
   },
   {
    "duration": 46,
    "start_time": "2023-03-10T08:52:31.640Z"
   },
   {
    "duration": 118,
    "start_time": "2023-03-10T08:52:31.688Z"
   },
   {
    "duration": 0,
    "start_time": "2023-03-10T08:52:31.808Z"
   },
   {
    "duration": 0,
    "start_time": "2023-03-10T08:52:31.809Z"
   },
   {
    "duration": 0,
    "start_time": "2023-03-10T08:52:31.810Z"
   },
   {
    "duration": 0,
    "start_time": "2023-03-10T08:52:31.812Z"
   },
   {
    "duration": 472,
    "start_time": "2023-03-10T08:53:11.872Z"
   },
   {
    "duration": 22,
    "start_time": "2023-03-10T08:53:12.346Z"
   },
   {
    "duration": 17,
    "start_time": "2023-03-10T08:53:12.369Z"
   },
   {
    "duration": 10,
    "start_time": "2023-03-10T08:53:12.388Z"
   },
   {
    "duration": 36,
    "start_time": "2023-03-10T08:53:12.399Z"
   },
   {
    "duration": 22,
    "start_time": "2023-03-10T08:53:12.436Z"
   },
   {
    "duration": 14,
    "start_time": "2023-03-10T08:53:12.460Z"
   },
   {
    "duration": 8,
    "start_time": "2023-03-10T08:53:12.476Z"
   },
   {
    "duration": 12,
    "start_time": "2023-03-10T08:53:12.486Z"
   },
   {
    "duration": 5,
    "start_time": "2023-03-10T08:53:12.500Z"
   },
   {
    "duration": 51,
    "start_time": "2023-03-10T08:53:12.506Z"
   },
   {
    "duration": 12,
    "start_time": "2023-03-10T08:53:12.559Z"
   },
   {
    "duration": 6,
    "start_time": "2023-03-10T08:53:12.572Z"
   },
   {
    "duration": 14,
    "start_time": "2023-03-10T08:53:12.580Z"
   },
   {
    "duration": 22,
    "start_time": "2023-03-10T08:53:12.596Z"
   },
   {
    "duration": 40,
    "start_time": "2023-03-10T08:53:12.619Z"
   },
   {
    "duration": 4,
    "start_time": "2023-03-10T08:53:12.661Z"
   },
   {
    "duration": 19,
    "start_time": "2023-03-10T08:53:12.666Z"
   },
   {
    "duration": 6,
    "start_time": "2023-03-10T08:53:12.686Z"
   },
   {
    "duration": 3,
    "start_time": "2023-03-10T08:53:12.694Z"
   },
   {
    "duration": 24,
    "start_time": "2023-03-10T08:53:12.699Z"
   },
   {
    "duration": 490,
    "start_time": "2023-03-10T08:53:12.725Z"
   },
   {
    "duration": 0,
    "start_time": "2023-03-10T08:53:13.217Z"
   },
   {
    "duration": 0,
    "start_time": "2023-03-10T08:53:13.218Z"
   },
   {
    "duration": 0,
    "start_time": "2023-03-10T08:53:13.220Z"
   },
   {
    "duration": 0,
    "start_time": "2023-03-10T08:53:13.221Z"
   },
   {
    "duration": 346,
    "start_time": "2023-03-10T08:56:27.824Z"
   },
   {
    "duration": 424,
    "start_time": "2023-03-10T08:56:43.512Z"
   },
   {
    "duration": 21,
    "start_time": "2023-03-10T08:56:43.938Z"
   },
   {
    "duration": 16,
    "start_time": "2023-03-10T08:56:43.961Z"
   },
   {
    "duration": 14,
    "start_time": "2023-03-10T08:56:43.979Z"
   },
   {
    "duration": 36,
    "start_time": "2023-03-10T08:56:43.995Z"
   },
   {
    "duration": 4,
    "start_time": "2023-03-10T08:56:44.032Z"
   },
   {
    "duration": 23,
    "start_time": "2023-03-10T08:56:44.037Z"
   },
   {
    "duration": 11,
    "start_time": "2023-03-10T08:56:44.062Z"
   },
   {
    "duration": 12,
    "start_time": "2023-03-10T08:56:44.075Z"
   },
   {
    "duration": 5,
    "start_time": "2023-03-10T08:56:44.090Z"
   },
   {
    "duration": 43,
    "start_time": "2023-03-10T08:56:44.096Z"
   },
   {
    "duration": 20,
    "start_time": "2023-03-10T08:56:44.141Z"
   },
   {
    "duration": 7,
    "start_time": "2023-03-10T08:56:44.162Z"
   },
   {
    "duration": 16,
    "start_time": "2023-03-10T08:56:44.170Z"
   },
   {
    "duration": 20,
    "start_time": "2023-03-10T08:56:44.188Z"
   },
   {
    "duration": 19,
    "start_time": "2023-03-10T08:56:44.209Z"
   },
   {
    "duration": 4,
    "start_time": "2023-03-10T08:56:44.229Z"
   },
   {
    "duration": 32,
    "start_time": "2023-03-10T08:56:44.234Z"
   },
   {
    "duration": 6,
    "start_time": "2023-03-10T08:56:44.268Z"
   },
   {
    "duration": 14,
    "start_time": "2023-03-10T08:56:44.275Z"
   },
   {
    "duration": 35,
    "start_time": "2023-03-10T08:56:44.291Z"
   },
   {
    "duration": 1372,
    "start_time": "2023-03-10T08:56:44.328Z"
   },
   {
    "duration": 0,
    "start_time": "2023-03-10T08:56:45.702Z"
   },
   {
    "duration": 0,
    "start_time": "2023-03-10T08:56:45.703Z"
   },
   {
    "duration": 0,
    "start_time": "2023-03-10T08:56:45.704Z"
   },
   {
    "duration": 0,
    "start_time": "2023-03-10T08:56:45.705Z"
   },
   {
    "duration": 76,
    "start_time": "2023-03-10T08:57:09.549Z"
   },
   {
    "duration": 72,
    "start_time": "2023-03-10T08:57:40.008Z"
   },
   {
    "duration": 79,
    "start_time": "2023-03-10T08:58:27.069Z"
   },
   {
    "duration": 8,
    "start_time": "2023-03-10T08:58:33.153Z"
   },
   {
    "duration": 8,
    "start_time": "2023-03-10T08:59:05.109Z"
   },
   {
    "duration": 396,
    "start_time": "2023-03-10T08:59:18.756Z"
   },
   {
    "duration": 8,
    "start_time": "2023-03-10T08:59:32.313Z"
   },
   {
    "duration": 26,
    "start_time": "2023-03-10T09:00:20.962Z"
   },
   {
    "duration": 24,
    "start_time": "2023-03-10T09:00:31.349Z"
   },
   {
    "duration": 23,
    "start_time": "2023-03-10T09:00:52.862Z"
   },
   {
    "duration": 24,
    "start_time": "2023-03-10T09:03:01.967Z"
   },
   {
    "duration": 21,
    "start_time": "2023-03-10T09:03:08.312Z"
   },
   {
    "duration": 433,
    "start_time": "2023-03-10T09:03:16.916Z"
   },
   {
    "duration": 22,
    "start_time": "2023-03-10T09:03:17.351Z"
   },
   {
    "duration": 14,
    "start_time": "2023-03-10T09:03:17.375Z"
   },
   {
    "duration": 12,
    "start_time": "2023-03-10T09:03:17.391Z"
   },
   {
    "duration": 34,
    "start_time": "2023-03-10T09:03:17.405Z"
   },
   {
    "duration": 20,
    "start_time": "2023-03-10T09:03:17.440Z"
   },
   {
    "duration": 12,
    "start_time": "2023-03-10T09:03:17.462Z"
   },
   {
    "duration": 4,
    "start_time": "2023-03-10T09:03:17.475Z"
   },
   {
    "duration": 11,
    "start_time": "2023-03-10T09:03:17.480Z"
   },
   {
    "duration": 4,
    "start_time": "2023-03-10T09:03:17.493Z"
   },
   {
    "duration": 35,
    "start_time": "2023-03-10T09:03:17.498Z"
   },
   {
    "duration": 10,
    "start_time": "2023-03-10T09:03:17.557Z"
   },
   {
    "duration": 6,
    "start_time": "2023-03-10T09:03:17.569Z"
   },
   {
    "duration": 13,
    "start_time": "2023-03-10T09:03:17.577Z"
   },
   {
    "duration": 22,
    "start_time": "2023-03-10T09:03:17.592Z"
   },
   {
    "duration": 16,
    "start_time": "2023-03-10T09:03:17.615Z"
   },
   {
    "duration": 3,
    "start_time": "2023-03-10T09:03:17.633Z"
   },
   {
    "duration": 10,
    "start_time": "2023-03-10T09:03:17.657Z"
   },
   {
    "duration": 13,
    "start_time": "2023-03-10T09:03:17.668Z"
   },
   {
    "duration": 13,
    "start_time": "2023-03-10T09:03:17.682Z"
   },
   {
    "duration": 21,
    "start_time": "2023-03-10T09:03:17.696Z"
   },
   {
    "duration": 91,
    "start_time": "2023-03-10T09:03:17.718Z"
   },
   {
    "duration": 0,
    "start_time": "2023-03-10T09:03:17.811Z"
   },
   {
    "duration": 0,
    "start_time": "2023-03-10T09:03:17.812Z"
   },
   {
    "duration": 0,
    "start_time": "2023-03-10T09:03:17.813Z"
   },
   {
    "duration": 0,
    "start_time": "2023-03-10T09:03:17.814Z"
   },
   {
    "duration": 488,
    "start_time": "2023-03-10T09:03:32.039Z"
   },
   {
    "duration": 21,
    "start_time": "2023-03-10T09:03:32.529Z"
   },
   {
    "duration": 23,
    "start_time": "2023-03-10T09:03:32.551Z"
   },
   {
    "duration": 10,
    "start_time": "2023-03-10T09:03:32.576Z"
   },
   {
    "duration": 41,
    "start_time": "2023-03-10T09:03:32.588Z"
   },
   {
    "duration": 3,
    "start_time": "2023-03-10T09:03:32.631Z"
   },
   {
    "duration": 20,
    "start_time": "2023-03-10T09:03:32.636Z"
   },
   {
    "duration": 26,
    "start_time": "2023-03-10T09:03:32.657Z"
   },
   {
    "duration": 46,
    "start_time": "2023-03-10T09:03:32.685Z"
   },
   {
    "duration": 6,
    "start_time": "2023-03-10T09:03:32.733Z"
   },
   {
    "duration": 43,
    "start_time": "2023-03-10T09:03:32.740Z"
   },
   {
    "duration": 9,
    "start_time": "2023-03-10T09:03:32.785Z"
   },
   {
    "duration": 13,
    "start_time": "2023-03-10T09:03:32.796Z"
   },
   {
    "duration": 21,
    "start_time": "2023-03-10T09:03:32.812Z"
   },
   {
    "duration": 42,
    "start_time": "2023-03-10T09:03:32.835Z"
   },
   {
    "duration": 17,
    "start_time": "2023-03-10T09:03:32.879Z"
   },
   {
    "duration": 5,
    "start_time": "2023-03-10T09:03:32.898Z"
   },
   {
    "duration": 27,
    "start_time": "2023-03-10T09:03:32.905Z"
   },
   {
    "duration": 17,
    "start_time": "2023-03-10T09:03:32.934Z"
   },
   {
    "duration": 15,
    "start_time": "2023-03-10T09:03:32.953Z"
   },
   {
    "duration": 31,
    "start_time": "2023-03-10T09:03:32.969Z"
   },
   {
    "duration": 84,
    "start_time": "2023-03-10T09:03:33.002Z"
   },
   {
    "duration": 0,
    "start_time": "2023-03-10T09:03:33.087Z"
   },
   {
    "duration": 0,
    "start_time": "2023-03-10T09:03:33.089Z"
   },
   {
    "duration": 0,
    "start_time": "2023-03-10T09:03:33.090Z"
   },
   {
    "duration": 0,
    "start_time": "2023-03-10T09:03:33.091Z"
   },
   {
    "duration": 22,
    "start_time": "2023-03-10T09:03:47.512Z"
   },
   {
    "duration": 86,
    "start_time": "2023-03-10T09:12:22.502Z"
   },
   {
    "duration": 175,
    "start_time": "2023-03-10T09:12:27.902Z"
   },
   {
    "duration": 22,
    "start_time": "2023-03-10T09:13:02.378Z"
   },
   {
    "duration": 22,
    "start_time": "2023-03-10T09:13:30.411Z"
   },
   {
    "duration": 120,
    "start_time": "2023-03-10T09:14:04.717Z"
   },
   {
    "duration": 25,
    "start_time": "2023-03-10T09:14:18.138Z"
   },
   {
    "duration": 21,
    "start_time": "2023-03-10T09:17:08.504Z"
   },
   {
    "duration": 22,
    "start_time": "2023-03-10T09:17:20.426Z"
   },
   {
    "duration": 23,
    "start_time": "2023-03-10T09:17:37.613Z"
   },
   {
    "duration": 30,
    "start_time": "2023-03-10T09:17:45.668Z"
   },
   {
    "duration": 22,
    "start_time": "2023-03-10T09:18:23.598Z"
   },
   {
    "duration": 19,
    "start_time": "2023-03-10T09:22:55.970Z"
   },
   {
    "duration": 980,
    "start_time": "2023-03-10T09:24:10.444Z"
   },
   {
    "duration": 47,
    "start_time": "2023-03-10T09:24:30.694Z"
   },
   {
    "duration": 15,
    "start_time": "2023-03-10T09:24:35.713Z"
   },
   {
    "duration": 290,
    "start_time": "2023-03-10T09:26:23.458Z"
   },
   {
    "duration": 137,
    "start_time": "2023-03-10T09:26:42.275Z"
   },
   {
    "duration": 23,
    "start_time": "2023-03-10T09:27:24.257Z"
   },
   {
    "duration": 141,
    "start_time": "2023-03-10T09:27:32.974Z"
   },
   {
    "duration": 22,
    "start_time": "2023-03-10T09:27:54.437Z"
   },
   {
    "duration": 206,
    "start_time": "2023-03-10T09:28:12.923Z"
   },
   {
    "duration": 223,
    "start_time": "2023-03-10T09:30:33.963Z"
   },
   {
    "duration": 256,
    "start_time": "2023-03-10T09:31:01.613Z"
   },
   {
    "duration": 122,
    "start_time": "2023-03-10T09:31:48.303Z"
   },
   {
    "duration": 21,
    "start_time": "2023-03-10T09:32:49.247Z"
   },
   {
    "duration": 105,
    "start_time": "2023-03-10T09:32:52.481Z"
   },
   {
    "duration": 17,
    "start_time": "2023-03-10T09:33:05.422Z"
   },
   {
    "duration": 197,
    "start_time": "2023-03-10T09:33:15.255Z"
   },
   {
    "duration": 175,
    "start_time": "2023-03-10T09:35:00.203Z"
   },
   {
    "duration": 22,
    "start_time": "2023-03-10T09:35:18.587Z"
   },
   {
    "duration": 130,
    "start_time": "2023-03-10T09:35:24.110Z"
   },
   {
    "duration": 212,
    "start_time": "2023-03-10T09:37:03.931Z"
   },
   {
    "duration": 47,
    "start_time": "2023-03-10T09:37:50.722Z"
   },
   {
    "duration": 42,
    "start_time": "2023-03-10T09:38:17.145Z"
   },
   {
    "duration": 9,
    "start_time": "2023-03-10T09:41:35.220Z"
   },
   {
    "duration": 501,
    "start_time": "2023-03-10T09:41:44.059Z"
   },
   {
    "duration": 26,
    "start_time": "2023-03-10T09:41:44.562Z"
   },
   {
    "duration": 39,
    "start_time": "2023-03-10T09:41:44.590Z"
   },
   {
    "duration": 18,
    "start_time": "2023-03-10T09:41:44.633Z"
   },
   {
    "duration": 37,
    "start_time": "2023-03-10T09:41:44.653Z"
   },
   {
    "duration": 4,
    "start_time": "2023-03-10T09:41:44.692Z"
   },
   {
    "duration": 47,
    "start_time": "2023-03-10T09:41:44.698Z"
   },
   {
    "duration": 20,
    "start_time": "2023-03-10T09:41:44.747Z"
   },
   {
    "duration": 20,
    "start_time": "2023-03-10T09:41:44.768Z"
   },
   {
    "duration": 37,
    "start_time": "2023-03-10T09:41:44.790Z"
   },
   {
    "duration": 59,
    "start_time": "2023-03-10T09:41:44.828Z"
   },
   {
    "duration": 12,
    "start_time": "2023-03-10T09:41:44.889Z"
   },
   {
    "duration": 23,
    "start_time": "2023-03-10T09:41:44.903Z"
   },
   {
    "duration": 24,
    "start_time": "2023-03-10T09:41:44.927Z"
   },
   {
    "duration": 21,
    "start_time": "2023-03-10T09:41:44.953Z"
   },
   {
    "duration": 27,
    "start_time": "2023-03-10T09:41:44.976Z"
   },
   {
    "duration": 34,
    "start_time": "2023-03-10T09:41:45.005Z"
   },
   {
    "duration": 27,
    "start_time": "2023-03-10T09:41:45.041Z"
   },
   {
    "duration": 22,
    "start_time": "2023-03-10T09:41:45.069Z"
   },
   {
    "duration": 15,
    "start_time": "2023-03-10T09:41:45.094Z"
   },
   {
    "duration": 28,
    "start_time": "2023-03-10T09:41:45.111Z"
   },
   {
    "duration": 47,
    "start_time": "2023-03-10T09:41:45.142Z"
   },
   {
    "duration": 1026,
    "start_time": "2023-03-10T09:41:45.191Z"
   },
   {
    "duration": 3,
    "start_time": "2023-03-10T09:41:46.218Z"
   },
   {
    "duration": 5,
    "start_time": "2023-03-10T09:41:46.223Z"
   },
   {
    "duration": 5,
    "start_time": "2023-03-10T09:41:46.230Z"
   },
   {
    "duration": 28,
    "start_time": "2023-03-10T09:41:59.500Z"
   },
   {
    "duration": 24,
    "start_time": "2023-03-10T09:42:55.177Z"
   },
   {
    "duration": 19,
    "start_time": "2023-03-10T09:48:53.980Z"
   },
   {
    "duration": 25,
    "start_time": "2023-03-10T09:49:04.848Z"
   },
   {
    "duration": 26,
    "start_time": "2023-03-10T10:01:27.288Z"
   },
   {
    "duration": 24,
    "start_time": "2023-03-10T10:01:58.810Z"
   },
   {
    "duration": 131,
    "start_time": "2023-03-10T10:04:04.270Z"
   },
   {
    "duration": 29,
    "start_time": "2023-03-10T10:04:11.303Z"
   },
   {
    "duration": 467,
    "start_time": "2023-03-10T10:06:59.084Z"
   },
   {
    "duration": 31,
    "start_time": "2023-03-10T10:06:59.554Z"
   },
   {
    "duration": 15,
    "start_time": "2023-03-10T10:06:59.587Z"
   },
   {
    "duration": 10,
    "start_time": "2023-03-10T10:06:59.605Z"
   },
   {
    "duration": 59,
    "start_time": "2023-03-10T10:06:59.617Z"
   },
   {
    "duration": 4,
    "start_time": "2023-03-10T10:06:59.678Z"
   },
   {
    "duration": 12,
    "start_time": "2023-03-10T10:06:59.684Z"
   },
   {
    "duration": 5,
    "start_time": "2023-03-10T10:06:59.697Z"
   },
   {
    "duration": 8,
    "start_time": "2023-03-10T10:06:59.704Z"
   },
   {
    "duration": 6,
    "start_time": "2023-03-10T10:06:59.715Z"
   },
   {
    "duration": 77,
    "start_time": "2023-03-10T10:06:59.723Z"
   },
   {
    "duration": 10,
    "start_time": "2023-03-10T10:06:59.801Z"
   },
   {
    "duration": 8,
    "start_time": "2023-03-10T10:06:59.812Z"
   },
   {
    "duration": 15,
    "start_time": "2023-03-10T10:06:59.822Z"
   },
   {
    "duration": 35,
    "start_time": "2023-03-10T10:06:59.838Z"
   },
   {
    "duration": 17,
    "start_time": "2023-03-10T10:06:59.874Z"
   },
   {
    "duration": 3,
    "start_time": "2023-03-10T10:06:59.893Z"
   },
   {
    "duration": 13,
    "start_time": "2023-03-10T10:06:59.898Z"
   },
   {
    "duration": 5,
    "start_time": "2023-03-10T10:06:59.912Z"
   },
   {
    "duration": 7,
    "start_time": "2023-03-10T10:06:59.919Z"
   },
   {
    "duration": 41,
    "start_time": "2023-03-10T10:06:59.928Z"
   },
   {
    "duration": 98,
    "start_time": "2023-03-10T10:06:59.970Z"
   },
   {
    "duration": 0,
    "start_time": "2023-03-10T10:07:00.069Z"
   },
   {
    "duration": 0,
    "start_time": "2023-03-10T10:07:00.071Z"
   },
   {
    "duration": 0,
    "start_time": "2023-03-10T10:07:00.072Z"
   },
   {
    "duration": 23,
    "start_time": "2023-03-10T10:07:30.837Z"
   },
   {
    "duration": 26,
    "start_time": "2023-03-10T10:08:31.125Z"
   },
   {
    "duration": 114,
    "start_time": "2023-03-10T10:52:58.854Z"
   },
   {
    "duration": 87,
    "start_time": "2023-03-10T10:54:26.574Z"
   },
   {
    "duration": 38,
    "start_time": "2023-03-10T10:59:26.958Z"
   },
   {
    "duration": 42,
    "start_time": "2023-03-10T10:59:34.607Z"
   },
   {
    "duration": 173,
    "start_time": "2023-03-10T10:59:58.308Z"
   },
   {
    "duration": 34,
    "start_time": "2023-03-10T11:00:04.595Z"
   },
   {
    "duration": 51,
    "start_time": "2023-03-10T11:00:18.876Z"
   },
   {
    "duration": 3,
    "start_time": "2023-03-10T11:21:32.632Z"
   },
   {
    "duration": 398,
    "start_time": "2023-03-10T11:22:30.549Z"
   },
   {
    "duration": 411,
    "start_time": "2023-03-10T11:23:15.050Z"
   },
   {
    "duration": 325,
    "start_time": "2023-03-10T11:23:36.298Z"
   },
   {
    "duration": 356,
    "start_time": "2023-03-10T11:25:07.420Z"
   },
   {
    "duration": 318,
    "start_time": "2023-03-10T11:27:04.238Z"
   },
   {
    "duration": 455,
    "start_time": "2023-03-10T11:27:21.006Z"
   },
   {
    "duration": 26,
    "start_time": "2023-03-10T11:27:21.463Z"
   },
   {
    "duration": 19,
    "start_time": "2023-03-10T11:27:21.491Z"
   },
   {
    "duration": 13,
    "start_time": "2023-03-10T11:27:21.511Z"
   },
   {
    "duration": 69,
    "start_time": "2023-03-10T11:27:21.526Z"
   },
   {
    "duration": 4,
    "start_time": "2023-03-10T11:27:21.597Z"
   },
   {
    "duration": 34,
    "start_time": "2023-03-10T11:27:21.603Z"
   },
   {
    "duration": 14,
    "start_time": "2023-03-10T11:27:21.639Z"
   },
   {
    "duration": 20,
    "start_time": "2023-03-10T11:27:21.655Z"
   },
   {
    "duration": 5,
    "start_time": "2023-03-10T11:27:21.678Z"
   },
   {
    "duration": 38,
    "start_time": "2023-03-10T11:27:21.685Z"
   },
   {
    "duration": 11,
    "start_time": "2023-03-10T11:27:21.725Z"
   },
   {
    "duration": 5,
    "start_time": "2023-03-10T11:27:21.738Z"
   },
   {
    "duration": 28,
    "start_time": "2023-03-10T11:27:21.745Z"
   },
   {
    "duration": 36,
    "start_time": "2023-03-10T11:27:21.774Z"
   },
   {
    "duration": 21,
    "start_time": "2023-03-10T11:27:21.812Z"
   },
   {
    "duration": 4,
    "start_time": "2023-03-10T11:27:21.835Z"
   },
   {
    "duration": 22,
    "start_time": "2023-03-10T11:27:21.841Z"
   },
   {
    "duration": 13,
    "start_time": "2023-03-10T11:27:21.864Z"
   },
   {
    "duration": 12,
    "start_time": "2023-03-10T11:27:21.878Z"
   },
   {
    "duration": 30,
    "start_time": "2023-03-10T11:27:21.892Z"
   },
   {
    "duration": 4,
    "start_time": "2023-03-10T11:27:21.923Z"
   },
   {
    "duration": 447,
    "start_time": "2023-03-10T11:27:21.929Z"
   },
   {
    "duration": 0,
    "start_time": "2023-03-10T11:27:22.377Z"
   },
   {
    "duration": 0,
    "start_time": "2023-03-10T11:27:22.379Z"
   },
   {
    "duration": 0,
    "start_time": "2023-03-10T11:27:22.380Z"
   },
   {
    "duration": 337,
    "start_time": "2023-03-10T11:27:43.309Z"
   },
   {
    "duration": 494,
    "start_time": "2023-03-10T11:27:51.148Z"
   },
   {
    "duration": 22,
    "start_time": "2023-03-10T11:27:51.644Z"
   },
   {
    "duration": 14,
    "start_time": "2023-03-10T11:27:51.668Z"
   },
   {
    "duration": 13,
    "start_time": "2023-03-10T11:27:51.684Z"
   },
   {
    "duration": 63,
    "start_time": "2023-03-10T11:27:51.699Z"
   },
   {
    "duration": 4,
    "start_time": "2023-03-10T11:27:51.764Z"
   },
   {
    "duration": 15,
    "start_time": "2023-03-10T11:27:51.770Z"
   },
   {
    "duration": 5,
    "start_time": "2023-03-10T11:27:51.787Z"
   },
   {
    "duration": 10,
    "start_time": "2023-03-10T11:27:51.794Z"
   },
   {
    "duration": 4,
    "start_time": "2023-03-10T11:27:51.808Z"
   },
   {
    "duration": 77,
    "start_time": "2023-03-10T11:27:51.813Z"
   },
   {
    "duration": 10,
    "start_time": "2023-03-10T11:27:51.892Z"
   },
   {
    "duration": 7,
    "start_time": "2023-03-10T11:27:51.904Z"
   },
   {
    "duration": 14,
    "start_time": "2023-03-10T11:27:51.912Z"
   },
   {
    "duration": 38,
    "start_time": "2023-03-10T11:27:51.927Z"
   },
   {
    "duration": 17,
    "start_time": "2023-03-10T11:27:51.967Z"
   },
   {
    "duration": 5,
    "start_time": "2023-03-10T11:27:51.986Z"
   },
   {
    "duration": 36,
    "start_time": "2023-03-10T11:27:51.992Z"
   },
   {
    "duration": 8,
    "start_time": "2023-03-10T11:27:52.029Z"
   },
   {
    "duration": 5,
    "start_time": "2023-03-10T11:27:52.038Z"
   },
   {
    "duration": 28,
    "start_time": "2023-03-10T11:27:52.045Z"
   },
   {
    "duration": 3,
    "start_time": "2023-03-10T11:27:52.075Z"
   },
   {
    "duration": 32,
    "start_time": "2023-03-10T11:27:52.080Z"
   },
   {
    "duration": 44,
    "start_time": "2023-03-10T11:27:52.114Z"
   },
   {
    "duration": 3,
    "start_time": "2023-03-10T11:27:52.160Z"
   },
   {
    "duration": 13,
    "start_time": "2023-03-10T11:27:52.164Z"
   },
   {
    "duration": 22,
    "start_time": "2023-03-10T11:29:02.518Z"
   },
   {
    "duration": 23,
    "start_time": "2023-03-10T11:29:06.244Z"
   },
   {
    "duration": 476,
    "start_time": "2023-03-10T11:29:13.172Z"
   },
   {
    "duration": 22,
    "start_time": "2023-03-10T11:29:13.650Z"
   },
   {
    "duration": 21,
    "start_time": "2023-03-10T11:29:13.674Z"
   },
   {
    "duration": 24,
    "start_time": "2023-03-10T11:29:13.698Z"
   },
   {
    "duration": 41,
    "start_time": "2023-03-10T11:29:13.723Z"
   },
   {
    "duration": 3,
    "start_time": "2023-03-10T11:29:13.767Z"
   },
   {
    "duration": 31,
    "start_time": "2023-03-10T11:29:13.772Z"
   },
   {
    "duration": 17,
    "start_time": "2023-03-10T11:29:13.805Z"
   },
   {
    "duration": 26,
    "start_time": "2023-03-10T11:29:13.824Z"
   },
   {
    "duration": 19,
    "start_time": "2023-03-10T11:29:13.852Z"
   },
   {
    "duration": 51,
    "start_time": "2023-03-10T11:29:13.873Z"
   },
   {
    "duration": 10,
    "start_time": "2023-03-10T11:29:13.925Z"
   },
   {
    "duration": 6,
    "start_time": "2023-03-10T11:29:13.936Z"
   },
   {
    "duration": 15,
    "start_time": "2023-03-10T11:29:13.943Z"
   },
   {
    "duration": 19,
    "start_time": "2023-03-10T11:29:13.959Z"
   },
   {
    "duration": 16,
    "start_time": "2023-03-10T11:29:13.979Z"
   },
   {
    "duration": 3,
    "start_time": "2023-03-10T11:29:13.997Z"
   },
   {
    "duration": 13,
    "start_time": "2023-03-10T11:29:14.001Z"
   },
   {
    "duration": 9,
    "start_time": "2023-03-10T11:29:14.016Z"
   },
   {
    "duration": 18,
    "start_time": "2023-03-10T11:29:14.027Z"
   },
   {
    "duration": 26,
    "start_time": "2023-03-10T11:29:14.047Z"
   },
   {
    "duration": 4,
    "start_time": "2023-03-10T11:29:14.074Z"
   },
   {
    "duration": 32,
    "start_time": "2023-03-10T11:29:14.079Z"
   },
   {
    "duration": 2,
    "start_time": "2023-03-10T11:29:14.113Z"
   },
   {
    "duration": 5,
    "start_time": "2023-03-10T11:29:14.117Z"
   },
   {
    "duration": 27,
    "start_time": "2023-03-10T11:29:42.028Z"
   },
   {
    "duration": 49,
    "start_time": "2023-03-10T11:30:29.155Z"
   },
   {
    "duration": 78,
    "start_time": "2023-03-10T11:31:51.580Z"
   },
   {
    "duration": 7,
    "start_time": "2023-03-10T11:32:25.828Z"
   },
   {
    "duration": 27,
    "start_time": "2023-03-10T11:32:34.132Z"
   },
   {
    "duration": 28,
    "start_time": "2023-03-10T11:45:50.970Z"
   },
   {
    "duration": 25,
    "start_time": "2023-03-10T11:47:52.176Z"
   },
   {
    "duration": 460,
    "start_time": "2023-03-10T11:48:01.587Z"
   },
   {
    "duration": 23,
    "start_time": "2023-03-10T11:48:02.050Z"
   },
   {
    "duration": 52,
    "start_time": "2023-03-10T11:48:02.074Z"
   },
   {
    "duration": 38,
    "start_time": "2023-03-10T11:48:02.128Z"
   },
   {
    "duration": 70,
    "start_time": "2023-03-10T11:48:02.168Z"
   },
   {
    "duration": 4,
    "start_time": "2023-03-10T11:48:02.240Z"
   },
   {
    "duration": 39,
    "start_time": "2023-03-10T11:48:02.245Z"
   },
   {
    "duration": 17,
    "start_time": "2023-03-10T11:48:02.286Z"
   },
   {
    "duration": 57,
    "start_time": "2023-03-10T11:48:02.304Z"
   },
   {
    "duration": 20,
    "start_time": "2023-03-10T11:48:02.363Z"
   },
   {
    "duration": 38,
    "start_time": "2023-03-10T11:48:02.384Z"
   },
   {
    "duration": 16,
    "start_time": "2023-03-10T11:48:02.424Z"
   },
   {
    "duration": 30,
    "start_time": "2023-03-10T11:48:02.441Z"
   },
   {
    "duration": 34,
    "start_time": "2023-03-10T11:48:02.474Z"
   },
   {
    "duration": 40,
    "start_time": "2023-03-10T11:48:02.510Z"
   },
   {
    "duration": 29,
    "start_time": "2023-03-10T11:48:02.551Z"
   },
   {
    "duration": 4,
    "start_time": "2023-03-10T11:48:02.581Z"
   },
   {
    "duration": 22,
    "start_time": "2023-03-10T11:48:02.586Z"
   },
   {
    "duration": 21,
    "start_time": "2023-03-10T11:48:02.610Z"
   },
   {
    "duration": 18,
    "start_time": "2023-03-10T11:48:02.633Z"
   },
   {
    "duration": 28,
    "start_time": "2023-03-10T11:48:02.653Z"
   },
   {
    "duration": 14,
    "start_time": "2023-03-10T11:48:02.682Z"
   },
   {
    "duration": 107,
    "start_time": "2023-03-10T11:48:02.698Z"
   },
   {
    "duration": 0,
    "start_time": "2023-03-10T11:48:02.806Z"
   },
   {
    "duration": 0,
    "start_time": "2023-03-10T11:48:02.808Z"
   },
   {
    "duration": 0,
    "start_time": "2023-03-10T11:48:02.809Z"
   },
   {
    "duration": 474,
    "start_time": "2023-03-10T11:48:23.972Z"
   },
   {
    "duration": 22,
    "start_time": "2023-03-10T11:48:24.447Z"
   },
   {
    "duration": 15,
    "start_time": "2023-03-10T11:48:24.471Z"
   },
   {
    "duration": 14,
    "start_time": "2023-03-10T11:48:24.488Z"
   },
   {
    "duration": 34,
    "start_time": "2023-03-10T11:48:24.504Z"
   },
   {
    "duration": 18,
    "start_time": "2023-03-10T11:48:24.540Z"
   },
   {
    "duration": 10,
    "start_time": "2023-03-10T11:48:24.559Z"
   },
   {
    "duration": 5,
    "start_time": "2023-03-10T11:48:24.571Z"
   },
   {
    "duration": 10,
    "start_time": "2023-03-10T11:48:24.577Z"
   },
   {
    "duration": 7,
    "start_time": "2023-03-10T11:48:24.589Z"
   },
   {
    "duration": 36,
    "start_time": "2023-03-10T11:48:24.597Z"
   },
   {
    "duration": 28,
    "start_time": "2023-03-10T11:48:24.635Z"
   },
   {
    "duration": 7,
    "start_time": "2023-03-10T11:48:24.665Z"
   },
   {
    "duration": 12,
    "start_time": "2023-03-10T11:48:24.675Z"
   },
   {
    "duration": 22,
    "start_time": "2023-03-10T11:48:24.689Z"
   },
   {
    "duration": 44,
    "start_time": "2023-03-10T11:48:24.713Z"
   },
   {
    "duration": 4,
    "start_time": "2023-03-10T11:48:24.759Z"
   },
   {
    "duration": 18,
    "start_time": "2023-03-10T11:48:24.764Z"
   },
   {
    "duration": 9,
    "start_time": "2023-03-10T11:48:24.784Z"
   },
   {
    "duration": 5,
    "start_time": "2023-03-10T11:48:24.794Z"
   },
   {
    "duration": 20,
    "start_time": "2023-03-10T11:48:24.800Z"
   },
   {
    "duration": 10,
    "start_time": "2023-03-10T11:48:24.822Z"
   },
   {
    "duration": 43,
    "start_time": "2023-03-10T11:48:24.834Z"
   },
   {
    "duration": 29,
    "start_time": "2023-03-10T11:48:24.879Z"
   },
   {
    "duration": 27,
    "start_time": "2023-03-10T11:48:24.909Z"
   },
   {
    "duration": 46,
    "start_time": "2023-03-10T11:48:24.938Z"
   },
   {
    "duration": 24,
    "start_time": "2023-03-10T11:48:37.000Z"
   },
   {
    "duration": 25,
    "start_time": "2023-03-10T11:49:15.601Z"
   },
   {
    "duration": 34,
    "start_time": "2023-03-10T11:49:40.909Z"
   },
   {
    "duration": 63,
    "start_time": "2023-03-10T11:49:56.277Z"
   },
   {
    "duration": 3,
    "start_time": "2023-03-10T11:50:14.765Z"
   },
   {
    "duration": 25,
    "start_time": "2023-03-10T11:50:17.971Z"
   },
   {
    "duration": 23,
    "start_time": "2023-03-10T11:51:21.904Z"
   },
   {
    "duration": 4,
    "start_time": "2023-03-10T12:44:26.000Z"
   },
   {
    "duration": 4,
    "start_time": "2023-03-10T12:44:30.587Z"
   },
   {
    "duration": 25,
    "start_time": "2023-03-10T12:44:35.025Z"
   },
   {
    "duration": 545,
    "start_time": "2023-03-10T12:44:45.265Z"
   },
   {
    "duration": 25,
    "start_time": "2023-03-10T12:44:45.813Z"
   },
   {
    "duration": 26,
    "start_time": "2023-03-10T12:44:45.839Z"
   },
   {
    "duration": 10,
    "start_time": "2023-03-10T12:44:45.867Z"
   },
   {
    "duration": 36,
    "start_time": "2023-03-10T12:44:45.878Z"
   },
   {
    "duration": 3,
    "start_time": "2023-03-10T12:44:45.916Z"
   },
   {
    "duration": 11,
    "start_time": "2023-03-10T12:44:45.921Z"
   },
   {
    "duration": 6,
    "start_time": "2023-03-10T12:44:45.956Z"
   },
   {
    "duration": 10,
    "start_time": "2023-03-10T12:44:45.964Z"
   },
   {
    "duration": 5,
    "start_time": "2023-03-10T12:44:45.977Z"
   },
   {
    "duration": 36,
    "start_time": "2023-03-10T12:44:45.983Z"
   },
   {
    "duration": 10,
    "start_time": "2023-03-10T12:44:46.021Z"
   },
   {
    "duration": 7,
    "start_time": "2023-03-10T12:44:46.057Z"
   },
   {
    "duration": 13,
    "start_time": "2023-03-10T12:44:46.066Z"
   },
   {
    "duration": 19,
    "start_time": "2023-03-10T12:44:46.080Z"
   },
   {
    "duration": 17,
    "start_time": "2023-03-10T12:44:46.101Z"
   },
   {
    "duration": 3,
    "start_time": "2023-03-10T12:44:46.120Z"
   },
   {
    "duration": 35,
    "start_time": "2023-03-10T12:44:46.124Z"
   },
   {
    "duration": 7,
    "start_time": "2023-03-10T12:44:46.160Z"
   },
   {
    "duration": 8,
    "start_time": "2023-03-10T12:44:46.168Z"
   },
   {
    "duration": 23,
    "start_time": "2023-03-10T12:44:46.178Z"
   },
   {
    "duration": 5,
    "start_time": "2023-03-10T12:44:46.203Z"
   },
   {
    "duration": 51,
    "start_time": "2023-03-10T12:44:46.209Z"
   },
   {
    "duration": 31,
    "start_time": "2023-03-10T12:44:46.262Z"
   },
   {
    "duration": 27,
    "start_time": "2023-03-10T12:44:46.294Z"
   },
   {
    "duration": 47,
    "start_time": "2023-03-10T12:44:46.323Z"
   },
   {
    "duration": 45,
    "start_time": "2023-03-13T06:00:14.116Z"
   },
   {
    "duration": 703,
    "start_time": "2023-03-13T06:00:28.654Z"
   },
   {
    "duration": 21,
    "start_time": "2023-03-13T06:00:29.359Z"
   },
   {
    "duration": 14,
    "start_time": "2023-03-13T06:00:29.381Z"
   },
   {
    "duration": 8,
    "start_time": "2023-03-13T06:00:29.397Z"
   },
   {
    "duration": 28,
    "start_time": "2023-03-13T06:00:29.407Z"
   },
   {
    "duration": 4,
    "start_time": "2023-03-13T06:00:29.436Z"
   },
   {
    "duration": 9,
    "start_time": "2023-03-13T06:00:29.441Z"
   },
   {
    "duration": 31,
    "start_time": "2023-03-13T06:00:29.451Z"
   },
   {
    "duration": 7,
    "start_time": "2023-03-13T06:00:29.483Z"
   },
   {
    "duration": 4,
    "start_time": "2023-03-13T06:00:29.493Z"
   },
   {
    "duration": 29,
    "start_time": "2023-03-13T06:00:29.498Z"
   },
   {
    "duration": 9,
    "start_time": "2023-03-13T06:00:29.529Z"
   },
   {
    "duration": 4,
    "start_time": "2023-03-13T06:00:29.540Z"
   },
   {
    "duration": 41,
    "start_time": "2023-03-13T06:00:29.545Z"
   },
   {
    "duration": 19,
    "start_time": "2023-03-13T06:00:29.588Z"
   },
   {
    "duration": 17,
    "start_time": "2023-03-13T06:00:29.609Z"
   },
   {
    "duration": 4,
    "start_time": "2023-03-13T06:00:29.627Z"
   },
   {
    "duration": 11,
    "start_time": "2023-03-13T06:00:29.632Z"
   },
   {
    "duration": 8,
    "start_time": "2023-03-13T06:00:29.644Z"
   },
   {
    "duration": 27,
    "start_time": "2023-03-13T06:00:29.653Z"
   },
   {
    "duration": 28,
    "start_time": "2023-03-13T06:00:29.682Z"
   },
   {
    "duration": 9,
    "start_time": "2023-03-13T06:00:29.712Z"
   },
   {
    "duration": 27,
    "start_time": "2023-03-13T06:00:29.722Z"
   },
   {
    "duration": 24,
    "start_time": "2023-03-13T06:00:29.750Z"
   },
   {
    "duration": 23,
    "start_time": "2023-03-13T06:00:29.779Z"
   },
   {
    "duration": 26,
    "start_time": "2023-03-13T06:00:29.804Z"
   },
   {
    "duration": 507,
    "start_time": "2023-03-13T14:34:04.912Z"
   },
   {
    "duration": 36,
    "start_time": "2023-03-13T14:34:05.421Z"
   },
   {
    "duration": 19,
    "start_time": "2023-03-13T14:34:05.459Z"
   },
   {
    "duration": 11,
    "start_time": "2023-03-13T14:34:05.480Z"
   },
   {
    "duration": 75,
    "start_time": "2023-03-13T14:34:05.494Z"
   },
   {
    "duration": 5,
    "start_time": "2023-03-13T14:34:05.571Z"
   },
   {
    "duration": 10,
    "start_time": "2023-03-13T14:34:05.578Z"
   },
   {
    "duration": 5,
    "start_time": "2023-03-13T14:34:05.590Z"
   },
   {
    "duration": 19,
    "start_time": "2023-03-13T14:34:05.627Z"
   },
   {
    "duration": 7,
    "start_time": "2023-03-13T14:34:05.650Z"
   },
   {
    "duration": 40,
    "start_time": "2023-03-13T14:34:05.659Z"
   },
   {
    "duration": 34,
    "start_time": "2023-03-13T14:34:05.701Z"
   },
   {
    "duration": 5,
    "start_time": "2023-03-13T14:34:05.737Z"
   },
   {
    "duration": 14,
    "start_time": "2023-03-13T14:34:05.746Z"
   },
   {
    "duration": 33,
    "start_time": "2023-03-13T14:34:05.762Z"
   },
   {
    "duration": 32,
    "start_time": "2023-03-13T14:34:05.797Z"
   },
   {
    "duration": 7,
    "start_time": "2023-03-13T14:34:05.831Z"
   },
   {
    "duration": 17,
    "start_time": "2023-03-13T14:34:05.842Z"
   },
   {
    "duration": 6,
    "start_time": "2023-03-13T14:34:05.861Z"
   },
   {
    "duration": 5,
    "start_time": "2023-03-13T14:34:05.869Z"
   },
   {
    "duration": 68,
    "start_time": "2023-03-13T14:34:05.878Z"
   },
   {
    "duration": 7,
    "start_time": "2023-03-13T14:34:05.954Z"
   },
   {
    "duration": 28,
    "start_time": "2023-03-13T14:34:05.962Z"
   },
   {
    "duration": 53,
    "start_time": "2023-03-13T14:34:05.992Z"
   },
   {
    "duration": 41,
    "start_time": "2023-03-13T14:34:06.047Z"
   },
   {
    "duration": 61,
    "start_time": "2023-03-13T14:34:06.090Z"
   },
   {
    "duration": 102,
    "start_time": "2023-03-13T14:34:06.153Z"
   },
   {
    "duration": 95,
    "start_time": "2023-03-14T06:54:43.708Z"
   },
   {
    "duration": 96,
    "start_time": "2023-03-16T05:05:30.447Z"
   }
  ],
  "colab": {
   "provenance": []
  },
  "kernelspec": {
   "display_name": "Python 3 (ipykernel)",
   "language": "python",
   "name": "python3"
  },
  "language_info": {
   "codemirror_mode": {
    "name": "ipython",
    "version": 3
   },
   "file_extension": ".py",
   "mimetype": "text/x-python",
   "name": "python",
   "nbconvert_exporter": "python",
   "pygments_lexer": "ipython3",
   "version": "3.10.9"
  },
  "toc": {
   "base_numbering": 1,
   "nav_menu": {
    "height": "203px",
    "width": "237px"
   },
   "number_sections": true,
   "sideBar": true,
   "skip_h1_title": true,
   "title_cell": "Table of Contents",
   "title_sidebar": "Contents",
   "toc_cell": false,
   "toc_position": {},
   "toc_section_display": true,
   "toc_window_display": false
  }
 },
 "nbformat": 4,
 "nbformat_minor": 5
}
