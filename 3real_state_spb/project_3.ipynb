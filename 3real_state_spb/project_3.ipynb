{
 "cells": [
  {
   "cell_type": "markdown",
   "metadata": {
    "id": "mMEJvKlC7ojo"
   },
   "source": [
    "# Исследование объявлений о продаже квартир\n",
    "\n",
    "В вашем распоряжении данные сервиса Яндекс.Недвижимость — архив объявлений о продаже квартир в Санкт-Петербурге и соседних населённых пунктов за несколько лет. Нужно научиться определять рыночную стоимость объектов недвижимости. Ваша задача — установить параметры. Это позволит построить автоматизированную систему: она отследит аномалии и мошенническую деятельность. \n",
    "\n",
    "По каждой квартире на продажу доступны два вида данных. Первые вписаны пользователем, вторые — получены автоматически на основе картографических данных. Например, расстояние до центра, аэропорта, ближайшего парка и водоёма. "
   ]
  },
  {
   "cell_type": "markdown",
   "metadata": {
    "id": "kS398dNt7ojs"
   },
   "source": [
    "### Откройте файл с данными и изучите общую информацию. "
   ]
  },
  {
   "cell_type": "code",
   "execution_count": 1,
   "metadata": {},
   "outputs": [],
   "source": [
    "import pandas as pd"
   ]
  },
  {
   "cell_type": "code",
   "execution_count": 2,
   "metadata": {},
   "outputs": [],
   "source": [
    "\n",
    "import matplotlib.pyplot as plt"
   ]
  },
  {
   "cell_type": "code",
   "execution_count": 3,
   "metadata": {
    "colab": {
     "base_uri": "https://localhost:8080/",
     "height": 1000
    },
    "id": "7VN5Tg6m7ojt",
    "outputId": "86ffd71b-61b0-47db-faf1-30de0157b3cb"
   },
   "outputs": [
    {
     "name": "stdout",
     "output_type": "stream",
     "text": [
      "       total_images  last_price  total_area first_day_exposition  rooms  \\\n",
      "0                20  13000000.0      108.00  2019-03-07T00:00:00      3   \n",
      "1                 7   3350000.0       40.40  2018-12-04T00:00:00      1   \n",
      "2                10   5196000.0       56.00  2015-08-20T00:00:00      2   \n",
      "3                 0  64900000.0      159.00  2015-07-24T00:00:00      3   \n",
      "4                 2  10000000.0      100.00  2018-06-19T00:00:00      2   \n",
      "...             ...         ...         ...                  ...    ...   \n",
      "23694             9   9700000.0      133.81  2017-03-21T00:00:00      3   \n",
      "23695            14   3100000.0       59.00  2018-01-15T00:00:00      3   \n",
      "23696            18   2500000.0       56.70  2018-02-11T00:00:00      2   \n",
      "23697            13  11475000.0       76.75  2017-03-28T00:00:00      2   \n",
      "23698             4   1350000.0       32.30  2017-07-21T00:00:00      1   \n",
      "\n",
      "       ceiling_height  floors_total  living_area  floor is_apartment  ...  \\\n",
      "0                2.70          16.0         51.0      8          NaN  ...   \n",
      "1                 NaN          11.0         18.6      1          NaN  ...   \n",
      "2                 NaN           5.0         34.3      4          NaN  ...   \n",
      "3                 NaN          14.0          NaN      9          NaN  ...   \n",
      "4                3.03          14.0         32.0     13          NaN  ...   \n",
      "...               ...           ...          ...    ...          ...  ...   \n",
      "23694            3.70           5.0         73.3      3          NaN  ...   \n",
      "23695             NaN           5.0         38.0      4          NaN  ...   \n",
      "23696             NaN           3.0         29.7      1          NaN  ...   \n",
      "23697            3.00          17.0          NaN     12          NaN  ...   \n",
      "23698            2.50           5.0         12.3      1          NaN  ...   \n",
      "\n",
      "       kitchen_area  balcony        locality_name  airports_nearest  \\\n",
      "0             25.00      NaN      Санкт-Петербург           18863.0   \n",
      "1             11.00      2.0       посёлок Шушары           12817.0   \n",
      "2              8.30      0.0      Санкт-Петербург           21741.0   \n",
      "3               NaN      0.0      Санкт-Петербург           28098.0   \n",
      "4             41.00      NaN      Санкт-Петербург           31856.0   \n",
      "...             ...      ...                  ...               ...   \n",
      "23694         13.83      NaN      Санкт-Петербург           24665.0   \n",
      "23695          8.50      NaN                Тосно               NaN   \n",
      "23696           NaN      NaN     село Рождествено               NaN   \n",
      "23697         23.30      2.0      Санкт-Петербург           39140.0   \n",
      "23698          9.00      NaN  поселок Новый Учхоз               NaN   \n",
      "\n",
      "      cityCenters_nearest  parks_around3000  parks_nearest  ponds_around3000  \\\n",
      "0                 16028.0               1.0          482.0               2.0   \n",
      "1                 18603.0               0.0            NaN               0.0   \n",
      "2                 13933.0               1.0           90.0               2.0   \n",
      "3                  6800.0               2.0           84.0               3.0   \n",
      "4                  8098.0               2.0          112.0               1.0   \n",
      "...                   ...               ...            ...               ...   \n",
      "23694              4232.0               1.0          796.0               3.0   \n",
      "23695                 NaN               NaN            NaN               NaN   \n",
      "23696                 NaN               NaN            NaN               NaN   \n",
      "23697             10364.0               2.0          173.0               3.0   \n",
      "23698                 NaN               NaN            NaN               NaN   \n",
      "\n",
      "       ponds_nearest  days_exposition  \n",
      "0              755.0              NaN  \n",
      "1                NaN             81.0  \n",
      "2              574.0            558.0  \n",
      "3              234.0            424.0  \n",
      "4               48.0            121.0  \n",
      "...              ...              ...  \n",
      "23694          381.0              NaN  \n",
      "23695            NaN             45.0  \n",
      "23696            NaN              NaN  \n",
      "23697          196.0            602.0  \n",
      "23698            NaN              NaN  \n",
      "\n",
      "[23699 rows x 22 columns]\n",
      "<class 'pandas.core.frame.DataFrame'>\n",
      "RangeIndex: 23699 entries, 0 to 23698\n",
      "Data columns (total 22 columns):\n",
      " #   Column                Non-Null Count  Dtype  \n",
      "---  ------                --------------  -----  \n",
      " 0   total_images          23699 non-null  int64  \n",
      " 1   last_price            23699 non-null  float64\n",
      " 2   total_area            23699 non-null  float64\n",
      " 3   first_day_exposition  23699 non-null  object \n",
      " 4   rooms                 23699 non-null  int64  \n",
      " 5   ceiling_height        14504 non-null  float64\n",
      " 6   floors_total          23613 non-null  float64\n",
      " 7   living_area           21796 non-null  float64\n",
      " 8   floor                 23699 non-null  int64  \n",
      " 9   is_apartment          2775 non-null   object \n",
      " 10  studio                23699 non-null  bool   \n",
      " 11  open_plan             23699 non-null  bool   \n",
      " 12  kitchen_area          21421 non-null  float64\n",
      " 13  balcony               12180 non-null  float64\n",
      " 14  locality_name         23650 non-null  object \n",
      " 15  airports_nearest      18157 non-null  float64\n",
      " 16  cityCenters_nearest   18180 non-null  float64\n",
      " 17  parks_around3000      18181 non-null  float64\n",
      " 18  parks_nearest         8079 non-null   float64\n",
      " 19  ponds_around3000      18181 non-null  float64\n",
      " 20  ponds_nearest         9110 non-null   float64\n",
      " 21  days_exposition       20518 non-null  float64\n",
      "dtypes: bool(2), float64(14), int64(3), object(3)\n",
      "memory usage: 3.7+ MB\n",
      "None\n",
      "[[<AxesSubplot:title={'center':'total_images'}>\n",
      "  <AxesSubplot:title={'center':'last_price'}>\n",
      "  <AxesSubplot:title={'center':'total_area'}>\n",
      "  <AxesSubplot:title={'center':'rooms'}>]\n",
      " [<AxesSubplot:title={'center':'ceiling_height'}>\n",
      "  <AxesSubplot:title={'center':'floors_total'}>\n",
      "  <AxesSubplot:title={'center':'living_area'}>\n",
      "  <AxesSubplot:title={'center':'floor'}>]\n",
      " [<AxesSubplot:title={'center':'kitchen_area'}>\n",
      "  <AxesSubplot:title={'center':'balcony'}>\n",
      "  <AxesSubplot:title={'center':'airports_nearest'}>\n",
      "  <AxesSubplot:title={'center':'cityCenters_nearest'}>]\n",
      " [<AxesSubplot:title={'center':'parks_around3000'}>\n",
      "  <AxesSubplot:title={'center':'parks_nearest'}>\n",
      "  <AxesSubplot:title={'center':'ponds_around3000'}>\n",
      "  <AxesSubplot:title={'center':'ponds_nearest'}>]\n",
      " [<AxesSubplot:title={'center':'days_exposition'}> <AxesSubplot:>\n",
      "  <AxesSubplot:> <AxesSubplot:>]]\n"
     ]
    },
    {
     "data": {
      "image/png": "[encoded data removed]",
      "text/plain": [
       "<Figure size 1080x1440 with 20 Axes>"
      ]
     },
     "metadata": {
      "needs_background": "light"
     },
     "output_type": "display_data"
    }
   ],
   "source": [
    "df = pd.read_csv('https://code.s3.yandex.net/datasets/real_estate_data.csv', sep='\\t')\n",
    "old_data = df\n",
    "print(df)\n",
    "print (df.info())\n",
    "print (df.hist(bins=10,figsize=(15,20)))"
   ]
  },
  {
   "cell_type": "markdown",
   "metadata": {
    "id": "BoaGl3xJ7ojv"
   },
   "source": [
    "Открываем файл с данными, изучаем общую информацию о полученном датафрейме, построем гистрограммы для датафрейма и изучим их."
   ]
  },
  {
   "cell_type": "markdown",
   "metadata": {
    "id": "wMHZhUp57ojw"
   },
   "source": [
    "### Предобработка данных"
   ]
  },
  {
   "cell_type": "markdown",
   "metadata": {
    "id": "_ML8vpvnBsMF"
   },
   "source": [
    "Проверим наличие пропусков в DataFrame"
   ]
  },
  {
   "cell_type": "code",
   "execution_count": 4,
   "metadata": {
    "colab": {
     "base_uri": "https://localhost:8080/"
    },
    "id": "2YUSf5gh7ojw",
    "outputId": "da720662-32f0-4799-b77d-fb673a9365f7"
   },
   "outputs": [
    {
     "name": "stdout",
     "output_type": "stream",
     "text": [
      "total_images                0\n",
      "last_price                  0\n",
      "total_area                  0\n",
      "first_day_exposition        0\n",
      "rooms                       0\n",
      "ceiling_height           9195\n",
      "floors_total               86\n",
      "living_area              1903\n",
      "floor                       0\n",
      "is_apartment            20924\n",
      "studio                      0\n",
      "open_plan                   0\n",
      "kitchen_area             2278\n",
      "balcony                 11519\n",
      "locality_name              49\n",
      "airports_nearest         5542\n",
      "cityCenters_nearest      5519\n",
      "parks_around3000         5518\n",
      "parks_nearest           15620\n",
      "ponds_around3000         5518\n",
      "ponds_nearest           14589\n",
      "days_exposition          3181\n",
      "dtype: int64\n"
     ]
    }
   ],
   "source": [
    "print(df.isnull().sum())"
   ]
  },
  {
   "cell_type": "markdown",
   "metadata": {
    "id": "LDauJy3R7ojx"
   },
   "source": [
    "Изучив DataFrame, мы видим пропуски в следующих столбцах:\n",
    "\n",
    "\n",
    "1. **ceiling_height** (высота потолков) - пропуск в данном столбце вероятно связан с незнанием пользователя высоты полотка продаваемой недвижимости. В Санкт-Петербурге и Ленобласти действуют нормативные требования «СП 54.13330.2011. Свод правил. Здания жилые многоквартирные», согласно которым высота потолков в жилых помещениях и кухнях должна быть не меньше 2,5 м.\n",
    "\n",
    "Проверим какие данные внесены в столбец.\n",
    "\n"
   ]
  },
  {
   "cell_type": "code",
   "execution_count": 5,
   "metadata": {
    "colab": {
     "base_uri": "https://localhost:8080/"
    },
    "id": "_r4jrMbfBEIH",
    "outputId": "66f247d3-3cb7-4398-81e4-457773a8668e"
   },
   "outputs": [
    {
     "data": {
      "text/plain": [
       "count    14504.000000\n",
       "mean         2.771499\n",
       "std          1.261056\n",
       "min          1.000000\n",
       "25%          2.520000\n",
       "50%          2.650000\n",
       "75%          2.800000\n",
       "max        100.000000\n",
       "Name: ceiling_height, dtype: float64"
      ]
     },
     "execution_count": 5,
     "metadata": {},
     "output_type": "execute_result"
    }
   ],
   "source": [
    "df['ceiling_height'].describe()"
   ]
  },
  {
   "cell_type": "markdown",
   "metadata": {
    "id": "5bPN75GdBid_"
   },
   "source": [
    "Медианное значение в столбце (50%) = 2,65 метра; \n",
    "Минимальная высота потолка (min) = 1 метр;\n",
    "Максимальная высота потолка (max) = 100 метров.\n",
    "Пропуски в столбце заполним медианным значением, минимальные и максимальные значаения нам пригодятся в дальнейшем для объективного анализа."
   ]
  },
  {
   "cell_type": "code",
   "execution_count": 6,
   "metadata": {
    "id": "A8Rn7DWVDw7q"
   },
   "outputs": [],
   "source": [
    "df ['ceiling_height']= df ['ceiling_height'].fillna(df['ceiling_height'].median())"
   ]
  },
  {
   "cell_type": "markdown",
   "metadata": {
    "id": "tOHURXrAEzd_"
   },
   "source": [
    "Заполняем пропуски медианным значением. Вновь провеярем DataFrame на количество пропущенных значений.\n"
   ]
  },
  {
   "cell_type": "code",
   "execution_count": 7,
   "metadata": {
    "colab": {
     "base_uri": "https://localhost:8080/"
    },
    "id": "GQlARXPnFc6q",
    "outputId": "20371dfd-0a5a-47cb-8ce9-d44650f21bc5"
   },
   "outputs": [
    {
     "name": "stdout",
     "output_type": "stream",
     "text": [
      "total_images                0\n",
      "last_price                  0\n",
      "total_area                  0\n",
      "first_day_exposition        0\n",
      "rooms                       0\n",
      "ceiling_height              0\n",
      "floors_total               86\n",
      "living_area              1903\n",
      "floor                       0\n",
      "is_apartment            20924\n",
      "studio                      0\n",
      "open_plan                   0\n",
      "kitchen_area             2278\n",
      "balcony                 11519\n",
      "locality_name              49\n",
      "airports_nearest         5542\n",
      "cityCenters_nearest      5519\n",
      "parks_around3000         5518\n",
      "parks_nearest           15620\n",
      "ponds_around3000         5518\n",
      "ponds_nearest           14589\n",
      "days_exposition          3181\n",
      "dtype: int64\n"
     ]
    }
   ],
   "source": [
    "print(df.isnull().sum())"
   ]
  },
  {
   "cell_type": "markdown",
   "metadata": {
    "id": "13JXy9wYISp6"
   },
   "source": [
    "Следующий столбец, на который нам стоит обратить внимание это:\n",
    "balcony (количество балконов) - очевидно, если клиент не указал количество балконов, то скорее всего его нет. Изменим пропущенные значения на число 0."
   ]
  },
  {
   "cell_type": "code",
   "execution_count": 8,
   "metadata": {
    "id": "knqWOMXGQBQp"
   },
   "outputs": [],
   "source": [
    "df['balcony'] = df['balcony'].fillna(0)"
   ]
  },
  {
   "cell_type": "markdown",
   "metadata": {
    "id": "Evt_CsblZKkN"
   },
   "source": [
    "Следующий столбец который нам будет необходим в дальнейшем исследовании это:\n",
    "days_exposition(количество дней опубликованного объявления, от публикации до продажи) Изучим его."
   ]
  },
  {
   "cell_type": "code",
   "execution_count": 9,
   "metadata": {
    "colab": {
     "base_uri": "https://localhost:8080/",
     "height": 626
    },
    "id": "oDzYjl33aZLl",
    "outputId": "fb90e8c7-07e7-4f44-f3f0-6225ec440b91"
   },
   "outputs": [
    {
     "data": {
      "text/plain": [
       "count    20518.000000\n",
       "mean       180.888634\n",
       "std        219.727988\n",
       "min          1.000000\n",
       "25%         45.000000\n",
       "50%         95.000000\n",
       "75%        232.000000\n",
       "max       1580.000000\n",
       "Name: days_exposition, dtype: float64"
      ]
     },
     "metadata": {},
     "output_type": "display_data"
    },
    {
     "data": {
      "text/plain": [
       "array([[<AxesSubplot:title={'center':'days_exposition'}>]], dtype=object)"
      ]
     },
     "execution_count": 9,
     "metadata": {},
     "output_type": "execute_result"
    },
    {
     "data": {
      "image/png": "[encoded data removed]",
      "text/plain": [
       "<Figure size 432x288 with 1 Axes>"
      ]
     },
     "metadata": {
      "needs_background": "light"
     },
     "output_type": "display_data"
    }
   ],
   "source": [
    "display(df['days_exposition'].describe())\n",
    "df.hist('days_exposition')"
   ]
  },
  {
   "cell_type": "markdown",
   "metadata": {
    "id": "vu6EOFKRarW8"
   },
   "source": [
    "Гистограмма выглядит корректно. Не исключено что пользователь мог продавать квартиру как 1580 дней так и 1 день."
   ]
  },
  {
   "cell_type": "markdown",
   "metadata": {
    "id": "zbOmGgn3VHtw"
   },
   "source": [
    "Далее для исследования нам необходимо удалить пропуски в столбце Название населенного пункта. Так как пропусков всего 49, их можно удалить, небольшое количество удаленных пропусков не повлияет на ход исследования."
   ]
  },
  {
   "cell_type": "markdown",
   "metadata": {
    "id": "bsqMLnZYbFsC"
   },
   "source": [
    "Проверим выполнение."
   ]
  },
  {
   "cell_type": "code",
   "execution_count": 10,
   "metadata": {
    "id": "kw3261VCWCSU"
   },
   "outputs": [],
   "source": [
    "df = df.dropna(subset=['locality_name'])"
   ]
  },
  {
   "cell_type": "code",
   "execution_count": 11,
   "metadata": {
    "colab": {
     "base_uri": "https://localhost:8080/"
    },
    "id": "A54dIJCFbKz_",
    "outputId": "ae2dc004-d281-4c4c-e94e-7d826f5d0acc"
   },
   "outputs": [
    {
     "name": "stdout",
     "output_type": "stream",
     "text": [
      "total_images                0\n",
      "last_price                  0\n",
      "total_area                  0\n",
      "first_day_exposition        0\n",
      "rooms                       0\n",
      "ceiling_height              0\n",
      "floors_total               85\n",
      "living_area              1898\n",
      "floor                       0\n",
      "is_apartment            20890\n",
      "studio                      0\n",
      "open_plan                   0\n",
      "kitchen_area             2269\n",
      "balcony                     0\n",
      "locality_name               0\n",
      "airports_nearest         5534\n",
      "cityCenters_nearest      5511\n",
      "parks_around3000         5510\n",
      "parks_nearest           15586\n",
      "ponds_around3000         5510\n",
      "ponds_nearest           14565\n",
      "days_exposition          3180\n",
      "dtype: int64\n"
     ]
    }
   ],
   "source": [
    "print(df.isnull().sum())"
   ]
  },
  {
   "cell_type": "markdown",
   "metadata": {
    "id": "J2_4w1b4eJyw"
   },
   "source": [
    "В остальных столбцах пропущенные данные оставим как есть. В случае со столбцами: \n",
    "* общее количество этажей в доме (floors_total), \n",
    "* вид недвижимости - аппартаменты (is_apartment),\n",
    "* число парков в радиусе 3 км (parks_around3000),\n",
    "* расстояние до ближайшего парка (parks_nearest),\n",
    "* число водоемов в радиусе 3 км (ponds_around3000),\n",
    "* расстояние до ближайшего водоёма (ponds_nearest)\n",
    "<br> не имеет смысла заполнять пропуски так как для исследования эти данные не нужны.\n",
    "<br> В случае со столбцами:\n",
    "* всего этажей в доме (floors_total)\n",
    "* жилая площадь (living_area)\n",
    "* площадь кухни (kitchen_area)\n",
    "<br> не имеет смысла заполнять пропуски так как пропущенные данные составляют менее 10% от Датафрейма, мы не сможем заполнить медианным значением, так как география продажи недвижимости разная и выявить стандарт у нас не получится, данные пропуски не сильно повлияют на ход исследования.\n",
    "\n",
    "\n"
   ]
  },
  {
   "cell_type": "markdown",
   "metadata": {
    "id": "GPVWDTpnwQai"
   },
   "source": [
    "Следующий этап в предобработке данных это изучение типа данных и преобразование их в нужный тип. Рассмотрим какой тип данных соответсвую каждому столбцу:"
   ]
  },
  {
   "cell_type": "code",
   "execution_count": 12,
   "metadata": {
    "colab": {
     "base_uri": "https://localhost:8080/",
     "height": 889
    },
    "id": "Gp4iYOJCwp1z",
    "outputId": "d2461d8a-8ea8-42eb-90d9-6eefedd75208"
   },
   "outputs": [
    {
     "name": "stdout",
     "output_type": "stream",
     "text": [
      "<class 'pandas.core.frame.DataFrame'>\n",
      "Int64Index: 23650 entries, 0 to 23698\n",
      "Data columns (total 22 columns):\n",
      " #   Column                Non-Null Count  Dtype  \n",
      "---  ------                --------------  -----  \n",
      " 0   total_images          23650 non-null  int64  \n",
      " 1   last_price            23650 non-null  float64\n",
      " 2   total_area            23650 non-null  float64\n",
      " 3   first_day_exposition  23650 non-null  object \n",
      " 4   rooms                 23650 non-null  int64  \n",
      " 5   ceiling_height        23650 non-null  float64\n",
      " 6   floors_total          23565 non-null  float64\n",
      " 7   living_area           21752 non-null  float64\n",
      " 8   floor                 23650 non-null  int64  \n",
      " 9   is_apartment          2760 non-null   object \n",
      " 10  studio                23650 non-null  bool   \n",
      " 11  open_plan             23650 non-null  bool   \n",
      " 12  kitchen_area          21381 non-null  float64\n",
      " 13  balcony               23650 non-null  float64\n",
      " 14  locality_name         23650 non-null  object \n",
      " 15  airports_nearest      18116 non-null  float64\n",
      " 16  cityCenters_nearest   18139 non-null  float64\n",
      " 17  parks_around3000      18140 non-null  float64\n",
      " 18  parks_nearest         8064 non-null   float64\n",
      " 19  ponds_around3000      18140 non-null  float64\n",
      " 20  ponds_nearest         9085 non-null   float64\n",
      " 21  days_exposition       20470 non-null  float64\n",
      "dtypes: bool(2), float64(14), int64(3), object(3)\n",
      "memory usage: 3.8+ MB\n"
     ]
    },
    {
     "data": {
      "text/html": [
       "<div>\n",
       "<style scoped>\n",
       "    .dataframe tbody tr th:only-of-type {\n",
       "        vertical-align: middle;\n",
       "    }\n",
       "\n",
       "    .dataframe tbody tr th {\n",
       "        vertical-align: top;\n",
       "    }\n",
       "\n",
       "    .dataframe thead th {\n",
       "        text-align: right;\n",
       "    }\n",
       "</style>\n",
       "<table border=\"1\" class=\"dataframe\">\n",
       "  <thead>\n",
       "    <tr style=\"text-align: right;\">\n",
       "      <th></th>\n",
       "      <th>total_images</th>\n",
       "      <th>last_price</th>\n",
       "      <th>total_area</th>\n",
       "      <th>first_day_exposition</th>\n",
       "      <th>rooms</th>\n",
       "      <th>ceiling_height</th>\n",
       "      <th>floors_total</th>\n",
       "      <th>living_area</th>\n",
       "      <th>floor</th>\n",
       "      <th>is_apartment</th>\n",
       "      <th>...</th>\n",
       "      <th>kitchen_area</th>\n",
       "      <th>balcony</th>\n",
       "      <th>locality_name</th>\n",
       "      <th>airports_nearest</th>\n",
       "      <th>cityCenters_nearest</th>\n",
       "      <th>parks_around3000</th>\n",
       "      <th>parks_nearest</th>\n",
       "      <th>ponds_around3000</th>\n",
       "      <th>ponds_nearest</th>\n",
       "      <th>days_exposition</th>\n",
       "    </tr>\n",
       "  </thead>\n",
       "  <tbody>\n",
       "    <tr>\n",
       "      <th>0</th>\n",
       "      <td>20</td>\n",
       "      <td>13000000.0</td>\n",
       "      <td>108.0</td>\n",
       "      <td>2019-03-07T00:00:00</td>\n",
       "      <td>3</td>\n",
       "      <td>2.70</td>\n",
       "      <td>16.0</td>\n",
       "      <td>51.0</td>\n",
       "      <td>8</td>\n",
       "      <td>NaN</td>\n",
       "      <td>...</td>\n",
       "      <td>25.0</td>\n",
       "      <td>0.0</td>\n",
       "      <td>Санкт-Петербург</td>\n",
       "      <td>18863.0</td>\n",
       "      <td>16028.0</td>\n",
       "      <td>1.0</td>\n",
       "      <td>482.0</td>\n",
       "      <td>2.0</td>\n",
       "      <td>755.0</td>\n",
       "      <td>NaN</td>\n",
       "    </tr>\n",
       "    <tr>\n",
       "      <th>1</th>\n",
       "      <td>7</td>\n",
       "      <td>3350000.0</td>\n",
       "      <td>40.4</td>\n",
       "      <td>2018-12-04T00:00:00</td>\n",
       "      <td>1</td>\n",
       "      <td>2.65</td>\n",
       "      <td>11.0</td>\n",
       "      <td>18.6</td>\n",
       "      <td>1</td>\n",
       "      <td>NaN</td>\n",
       "      <td>...</td>\n",
       "      <td>11.0</td>\n",
       "      <td>2.0</td>\n",
       "      <td>посёлок Шушары</td>\n",
       "      <td>12817.0</td>\n",
       "      <td>18603.0</td>\n",
       "      <td>0.0</td>\n",
       "      <td>NaN</td>\n",
       "      <td>0.0</td>\n",
       "      <td>NaN</td>\n",
       "      <td>81.0</td>\n",
       "    </tr>\n",
       "    <tr>\n",
       "      <th>2</th>\n",
       "      <td>10</td>\n",
       "      <td>5196000.0</td>\n",
       "      <td>56.0</td>\n",
       "      <td>2015-08-20T00:00:00</td>\n",
       "      <td>2</td>\n",
       "      <td>2.65</td>\n",
       "      <td>5.0</td>\n",
       "      <td>34.3</td>\n",
       "      <td>4</td>\n",
       "      <td>NaN</td>\n",
       "      <td>...</td>\n",
       "      <td>8.3</td>\n",
       "      <td>0.0</td>\n",
       "      <td>Санкт-Петербург</td>\n",
       "      <td>21741.0</td>\n",
       "      <td>13933.0</td>\n",
       "      <td>1.0</td>\n",
       "      <td>90.0</td>\n",
       "      <td>2.0</td>\n",
       "      <td>574.0</td>\n",
       "      <td>558.0</td>\n",
       "    </tr>\n",
       "    <tr>\n",
       "      <th>3</th>\n",
       "      <td>0</td>\n",
       "      <td>64900000.0</td>\n",
       "      <td>159.0</td>\n",
       "      <td>2015-07-24T00:00:00</td>\n",
       "      <td>3</td>\n",
       "      <td>2.65</td>\n",
       "      <td>14.0</td>\n",
       "      <td>NaN</td>\n",
       "      <td>9</td>\n",
       "      <td>NaN</td>\n",
       "      <td>...</td>\n",
       "      <td>NaN</td>\n",
       "      <td>0.0</td>\n",
       "      <td>Санкт-Петербург</td>\n",
       "      <td>28098.0</td>\n",
       "      <td>6800.0</td>\n",
       "      <td>2.0</td>\n",
       "      <td>84.0</td>\n",
       "      <td>3.0</td>\n",
       "      <td>234.0</td>\n",
       "      <td>424.0</td>\n",
       "    </tr>\n",
       "    <tr>\n",
       "      <th>4</th>\n",
       "      <td>2</td>\n",
       "      <td>10000000.0</td>\n",
       "      <td>100.0</td>\n",
       "      <td>2018-06-19T00:00:00</td>\n",
       "      <td>2</td>\n",
       "      <td>3.03</td>\n",
       "      <td>14.0</td>\n",
       "      <td>32.0</td>\n",
       "      <td>13</td>\n",
       "      <td>NaN</td>\n",
       "      <td>...</td>\n",
       "      <td>41.0</td>\n",
       "      <td>0.0</td>\n",
       "      <td>Санкт-Петербург</td>\n",
       "      <td>31856.0</td>\n",
       "      <td>8098.0</td>\n",
       "      <td>2.0</td>\n",
       "      <td>112.0</td>\n",
       "      <td>1.0</td>\n",
       "      <td>48.0</td>\n",
       "      <td>121.0</td>\n",
       "    </tr>\n",
       "  </tbody>\n",
       "</table>\n",
       "<p>5 rows × 22 columns</p>\n",
       "</div>"
      ],
      "text/plain": [
       "   total_images  last_price  total_area first_day_exposition  rooms  \\\n",
       "0            20  13000000.0       108.0  2019-03-07T00:00:00      3   \n",
       "1             7   3350000.0        40.4  2018-12-04T00:00:00      1   \n",
       "2            10   5196000.0        56.0  2015-08-20T00:00:00      2   \n",
       "3             0  64900000.0       159.0  2015-07-24T00:00:00      3   \n",
       "4             2  10000000.0       100.0  2018-06-19T00:00:00      2   \n",
       "\n",
       "   ceiling_height  floors_total  living_area  floor is_apartment  ...  \\\n",
       "0            2.70          16.0         51.0      8          NaN  ...   \n",
       "1            2.65          11.0         18.6      1          NaN  ...   \n",
       "2            2.65           5.0         34.3      4          NaN  ...   \n",
       "3            2.65          14.0          NaN      9          NaN  ...   \n",
       "4            3.03          14.0         32.0     13          NaN  ...   \n",
       "\n",
       "   kitchen_area  balcony    locality_name  airports_nearest  \\\n",
       "0          25.0      0.0  Санкт-Петербург           18863.0   \n",
       "1          11.0      2.0   посёлок Шушары           12817.0   \n",
       "2           8.3      0.0  Санкт-Петербург           21741.0   \n",
       "3           NaN      0.0  Санкт-Петербург           28098.0   \n",
       "4          41.0      0.0  Санкт-Петербург           31856.0   \n",
       "\n",
       "  cityCenters_nearest  parks_around3000  parks_nearest  ponds_around3000  \\\n",
       "0             16028.0               1.0          482.0               2.0   \n",
       "1             18603.0               0.0            NaN               0.0   \n",
       "2             13933.0               1.0           90.0               2.0   \n",
       "3              6800.0               2.0           84.0               3.0   \n",
       "4              8098.0               2.0          112.0               1.0   \n",
       "\n",
       "   ponds_nearest  days_exposition  \n",
       "0          755.0              NaN  \n",
       "1            NaN             81.0  \n",
       "2          574.0            558.0  \n",
       "3          234.0            424.0  \n",
       "4           48.0            121.0  \n",
       "\n",
       "[5 rows x 22 columns]"
      ]
     },
     "metadata": {},
     "output_type": "display_data"
    }
   ],
   "source": [
    "df.info()\n",
    "display(df.head())"
   ]
  },
  {
   "cell_type": "markdown",
   "metadata": {
    "id": "FPyV_Ndy9X3n"
   },
   "source": [
    "исходя из описания данных, мы видим что, для корректного исследования, нам необходимо преобразовать некоторые типы данных столбцов."
   ]
  },
  {
   "cell_type": "markdown",
   "metadata": {
    "id": "WD0LnvVU9wYO"
   },
   "source": [
    "Дата публикации объявления (first_day_exposition) - преобразовать в тип *datetime64*"
   ]
  },
  {
   "cell_type": "code",
   "execution_count": 13,
   "metadata": {
    "colab": {
     "base_uri": "https://localhost:8080/"
    },
    "id": "nOKS1Chl9shm",
    "outputId": "3f3d055a-a08b-4399-926e-cc20c17a5b0f",
    "scrolled": true
   },
   "outputs": [
    {
     "name": "stderr",
     "output_type": "stream",
     "text": [
      "/tmp/ipykernel_379/866839512.py:1: SettingWithCopyWarning: \n",
      "A value is trying to be set on a copy of a slice from a DataFrame.\n",
      "Try using .loc[row_indexer,col_indexer] = value instead\n",
      "\n",
      "See the caveats in the documentation: https://pandas.pydata.org/pandas-docs/stable/user_guide/indexing.html#returning-a-view-versus-a-copy\n",
      "  df['first_day_exposition'] = pd.to_datetime(df['first_day_exposition'], format='%Y-%m-%d')\n"
     ]
    }
   ],
   "source": [
    "df['first_day_exposition'] = pd.to_datetime(df['first_day_exposition'], format='%Y-%m-%d')"
   ]
  },
  {
   "cell_type": "markdown",
   "metadata": {
    "id": "c_nrflhNbWo7"
   },
   "source": [
    "Число балконов (balcony) - преобразовать в тип *int64*"
   ]
  },
  {
   "cell_type": "code",
   "execution_count": 14,
   "metadata": {
    "colab": {
     "base_uri": "https://localhost:8080/"
    },
    "id": "c2vLJx4bbV1n",
    "outputId": "a7836e55-b58b-4093-8ad1-6302b73e8b46"
   },
   "outputs": [
    {
     "name": "stderr",
     "output_type": "stream",
     "text": [
      "/tmp/ipykernel_379/3670247302.py:1: SettingWithCopyWarning: \n",
      "A value is trying to be set on a copy of a slice from a DataFrame.\n",
      "Try using .loc[row_indexer,col_indexer] = value instead\n",
      "\n",
      "See the caveats in the documentation: https://pandas.pydata.org/pandas-docs/stable/user_guide/indexing.html#returning-a-view-versus-a-copy\n",
      "  df['balcony'] = df['balcony'].astype('int64')\n"
     ]
    }
   ],
   "source": [
    "df['balcony'] = df['balcony'].astype('int64')"
   ]
  },
  {
   "cell_type": "markdown",
   "metadata": {
    "id": "sl2UbjmegYBk"
   },
   "source": [
    "Количество дней размещенного объявдения, от публикации до снятия (days_exposition) - преобразовать в *int64*"
   ]
  },
  {
   "cell_type": "markdown",
   "metadata": {
    "id": "jd8mw6bukVyD"
   },
   "source": [
    "Проверим преобразования типов данных."
   ]
  },
  {
   "cell_type": "code",
   "execution_count": 15,
   "metadata": {
    "colab": {
     "base_uri": "https://localhost:8080/"
    },
    "id": "xwxHBkwzkVOO",
    "outputId": "084426c0-623e-46b6-8ce9-23fd3328f4b4"
   },
   "outputs": [
    {
     "name": "stdout",
     "output_type": "stream",
     "text": [
      "<class 'pandas.core.frame.DataFrame'>\n",
      "Int64Index: 23650 entries, 0 to 23698\n",
      "Data columns (total 22 columns):\n",
      " #   Column                Non-Null Count  Dtype         \n",
      "---  ------                --------------  -----         \n",
      " 0   total_images          23650 non-null  int64         \n",
      " 1   last_price            23650 non-null  float64       \n",
      " 2   total_area            23650 non-null  float64       \n",
      " 3   first_day_exposition  23650 non-null  datetime64[ns]\n",
      " 4   rooms                 23650 non-null  int64         \n",
      " 5   ceiling_height        23650 non-null  float64       \n",
      " 6   floors_total          23565 non-null  float64       \n",
      " 7   living_area           21752 non-null  float64       \n",
      " 8   floor                 23650 non-null  int64         \n",
      " 9   is_apartment          2760 non-null   object        \n",
      " 10  studio                23650 non-null  bool          \n",
      " 11  open_plan             23650 non-null  bool          \n",
      " 12  kitchen_area          21381 non-null  float64       \n",
      " 13  balcony               23650 non-null  int64         \n",
      " 14  locality_name         23650 non-null  object        \n",
      " 15  airports_nearest      18116 non-null  float64       \n",
      " 16  cityCenters_nearest   18139 non-null  float64       \n",
      " 17  parks_around3000      18140 non-null  float64       \n",
      " 18  parks_nearest         8064 non-null   float64       \n",
      " 19  ponds_around3000      18140 non-null  float64       \n",
      " 20  ponds_nearest         9085 non-null   float64       \n",
      " 21  days_exposition       20470 non-null  float64       \n",
      "dtypes: bool(2), datetime64[ns](1), float64(13), int64(4), object(2)\n",
      "memory usage: 3.8+ MB\n"
     ]
    }
   ],
   "source": [
    "df.info()"
   ]
  },
  {
   "cell_type": "markdown",
   "metadata": {
    "id": "o8YM9InFlmt3"
   },
   "source": [
    "Следующим этапом предобработки данных будет поиск дубликатов в столбце название населенного пункта (locality_name). Изучим уникальные значения."
   ]
  },
  {
   "cell_type": "code",
   "execution_count": 16,
   "metadata": {
    "colab": {
     "base_uri": "https://localhost:8080/"
    },
    "id": "emF8qveimGAC",
    "outputId": "5bcc3036-c0b1-4d35-e028-01283466017d"
   },
   "outputs": [
    {
     "data": {
      "text/plain": [
       "array(['Санкт-Петербург', 'посёлок Шушары', 'городской посёлок Янино-1',\n",
       "       'посёлок Парголово', 'посёлок Мурино', 'Ломоносов', 'Сертолово',\n",
       "       'Петергоф', 'Пушкин', 'деревня Кудрово', 'Коммунар', 'Колпино',\n",
       "       'поселок городского типа Красный Бор', 'Гатчина', 'поселок Мурино',\n",
       "       'деревня Фёдоровское', 'Выборг', 'Кронштадт', 'Кировск',\n",
       "       'деревня Новое Девяткино', 'посёлок Металлострой',\n",
       "       'посёлок городского типа Лебяжье',\n",
       "       'посёлок городского типа Сиверский', 'поселок Молодцово',\n",
       "       'поселок городского типа Кузьмоловский',\n",
       "       'садовое товарищество Новая Ропша', 'Павловск',\n",
       "       'деревня Пикколово', 'Всеволожск', 'Волхов', 'Кингисепп',\n",
       "       'Приозерск', 'Сестрорецк', 'деревня Куттузи', 'посёлок Аннино',\n",
       "       'поселок городского типа Ефимовский', 'посёлок Плодовое',\n",
       "       'деревня Заклинье', 'поселок Торковичи', 'поселок Первомайское',\n",
       "       'Красное Село', 'посёлок Понтонный', 'Сясьстрой', 'деревня Старая',\n",
       "       'деревня Лесколово', 'посёлок Новый Свет', 'Сланцы',\n",
       "       'село Путилово', 'Ивангород', 'Мурино', 'Шлиссельбург',\n",
       "       'Никольское', 'Зеленогорск', 'Сосновый Бор', 'поселок Новый Свет',\n",
       "       'деревня Оржицы', 'деревня Кальтино', 'Кудрово',\n",
       "       'поселок Романовка', 'посёлок Бугры', 'поселок Бугры',\n",
       "       'поселок городского типа Рощино', 'Кириши', 'Луга', 'Волосово',\n",
       "       'Отрадное', 'село Павлово', 'поселок Оредеж', 'село Копорье',\n",
       "       'посёлок городского типа Красный Бор', 'посёлок Молодёжное',\n",
       "       'Тихвин', 'посёлок Победа', 'деревня Нурма',\n",
       "       'поселок городского типа Синявино', 'Тосно',\n",
       "       'посёлок городского типа Кузьмоловский', 'посёлок Стрельна',\n",
       "       'Бокситогорск', 'посёлок Александровская', 'деревня Лопухинка',\n",
       "       'Пикалёво', 'поселок Терволово',\n",
       "       'поселок городского типа Советский', 'Подпорожье',\n",
       "       'посёлок Петровское', 'посёлок городского типа Токсово',\n",
       "       'поселок Сельцо', 'посёлок городского типа Вырица',\n",
       "       'деревня Кипень', 'деревня Келози', 'деревня Вартемяги',\n",
       "       'посёлок Тельмана', 'поселок Севастьяново',\n",
       "       'городской поселок Большая Ижора', 'городской посёлок Павлово',\n",
       "       'деревня Агалатово', 'посёлок Новогорелово',\n",
       "       'городской посёлок Лесогорский', 'деревня Лаголово',\n",
       "       'поселок Цвелодубово', 'поселок городского типа Рахья',\n",
       "       'поселок городского типа Вырица', 'деревня Белогорка',\n",
       "       'поселок Заводской', 'городской посёлок Новоселье',\n",
       "       'деревня Большие Колпаны', 'деревня Горбунки', 'деревня Батово',\n",
       "       'деревня Заневка', 'деревня Иссад', 'Приморск',\n",
       "       'городской посёлок Фёдоровское', 'деревня Мистолово',\n",
       "       'Новая Ладога', 'поселок Зимитицы', 'поселок Барышево',\n",
       "       'деревня Разметелево', 'поселок городского типа имени Свердлова',\n",
       "       'деревня Пеники', 'поселок Рябово', 'деревня Пудомяги',\n",
       "       'поселок станции Корнево', 'деревня Низино', 'деревня Бегуницы',\n",
       "       'посёлок Поляны', 'городской посёлок Мга', 'поселок Елизаветино',\n",
       "       'посёлок городского типа Кузнечное', 'деревня Колтуши',\n",
       "       'поселок Запорожское', 'посёлок городского типа Рощино',\n",
       "       'деревня Гостилицы', 'деревня Малое Карлино',\n",
       "       'посёлок Мичуринское', 'посёлок городского типа имени Морозова',\n",
       "       'посёлок Песочный', 'посёлок Сосново', 'деревня Аро',\n",
       "       'поселок Ильичёво', 'посёлок городского типа Тайцы',\n",
       "       'деревня Малое Верево', 'деревня Извара', 'поселок станции Вещево',\n",
       "       'село Паша', 'деревня Калитино',\n",
       "       'посёлок городского типа Ульяновка', 'деревня Чудской Бор',\n",
       "       'поселок городского типа Дубровка', 'деревня Мины',\n",
       "       'поселок Войсковицы', 'посёлок городского типа имени Свердлова',\n",
       "       'деревня Коркино', 'посёлок Ропша',\n",
       "       'поселок городского типа Приладожский', 'посёлок Щеглово',\n",
       "       'посёлок Гаврилово', 'Лодейное Поле', 'деревня Рабитицы',\n",
       "       'поселок городского типа Никольский', 'деревня Кузьмолово',\n",
       "       'деревня Малые Колпаны', 'поселок Тельмана',\n",
       "       'посёлок Петро-Славянка', 'городской посёлок Назия',\n",
       "       'посёлок Репино', 'посёлок Ильичёво', 'поселок Углово',\n",
       "       'поселок Старая Малукса', 'садовое товарищество Рахья',\n",
       "       'поселок Аннино', 'поселок Победа', 'деревня Меньково',\n",
       "       'деревня Старые Бегуницы', 'посёлок Сапёрный', 'поселок Семрино',\n",
       "       'поселок Гаврилово', 'поселок Глажево', 'поселок Кобринское',\n",
       "       'деревня Гарболово', 'деревня Юкки',\n",
       "       'поселок станции Приветнинское', 'деревня Мануйлово',\n",
       "       'деревня Пчева', 'поселок Поляны', 'поселок Цвылёво',\n",
       "       'поселок Мельниково', 'посёлок Пудость', 'посёлок Усть-Луга',\n",
       "       'Светогорск', 'Любань', 'поселок Селезнёво',\n",
       "       'поселок городского типа Рябово', 'Каменногорск', 'деревня Кривко',\n",
       "       'поселок Глебычево', 'деревня Парицы', 'поселок Жилпосёлок',\n",
       "       'посёлок городского типа Мга', 'городской поселок Янино-1',\n",
       "       'посёлок Войскорово', 'село Никольское', 'посёлок Терволово',\n",
       "       'поселок Стеклянный', 'посёлок городского типа Важины',\n",
       "       'посёлок Мыза-Ивановка', 'село Русско-Высоцкое',\n",
       "       'поселок городского типа Лебяжье',\n",
       "       'поселок городского типа Форносово', 'село Старая Ладога',\n",
       "       'поселок Житково', 'городской посёлок Виллози', 'деревня Лампово',\n",
       "       'деревня Шпаньково', 'деревня Лаврики', 'посёлок Сумино',\n",
       "       'посёлок Возрождение', 'деревня Старосиверская',\n",
       "       'посёлок Кикерино', 'поселок Возрождение',\n",
       "       'деревня Старое Хинколово', 'посёлок Пригородный',\n",
       "       'посёлок Торфяное', 'городской посёлок Будогощь',\n",
       "       'поселок Суходолье', 'поселок Красная Долина', 'деревня Хапо-Ое',\n",
       "       'поселок городского типа Дружная Горка', 'поселок Лисий Нос',\n",
       "       'деревня Яльгелево', 'посёлок Стеклянный', 'село Рождествено',\n",
       "       'деревня Старополье', 'посёлок Левашово', 'деревня Сяськелево',\n",
       "       'деревня Камышовка',\n",
       "       'садоводческое некоммерческое товарищество Лесная Поляна',\n",
       "       'деревня Хязельки', 'поселок Жилгородок',\n",
       "       'посёлок городского типа Павлово', 'деревня Ялгино',\n",
       "       'поселок Новый Учхоз', 'городской посёлок Рощино',\n",
       "       'поселок Гончарово', 'поселок Почап', 'посёлок Сапёрное',\n",
       "       'посёлок Платформа 69-й километр', 'поселок Каложицы',\n",
       "       'деревня Фалилеево', 'деревня Пельгора',\n",
       "       'поселок городского типа Лесогорский', 'деревня Торошковичи',\n",
       "       'посёлок Белоостров', 'посёлок Алексеевка', 'поселок Серебрянский',\n",
       "       'поселок Лукаши', 'поселок Петровское', 'деревня Щеглово',\n",
       "       'поселок Мичуринское', 'деревня Тарасово', 'поселок Кингисеппский',\n",
       "       'посёлок при железнодорожной станции Вещево', 'поселок Ушаки',\n",
       "       'деревня Котлы', 'деревня Сижно', 'деревня Торосово',\n",
       "       'посёлок Форт Красная Горка', 'поселок городского типа Токсово',\n",
       "       'деревня Новолисино', 'посёлок станции Громово', 'деревня Глинка',\n",
       "       'посёлок Мельниково', 'поселок городского типа Назия',\n",
       "       'деревня Старая Пустошь', 'поселок Коммунары', 'поселок Починок',\n",
       "       'посёлок городского типа Вознесенье', 'деревня Разбегаево',\n",
       "       'посёлок городского типа Рябово', 'поселок Гладкое',\n",
       "       'посёлок при железнодорожной станции Приветнинское',\n",
       "       'поселок Тёсово-4', 'посёлок Жилгородок', 'деревня Бор',\n",
       "       'посёлок Коробицыно', 'деревня Большая Вруда', 'деревня Курковицы',\n",
       "       'посёлок Лисий Нос', 'городской посёлок Советский',\n",
       "       'посёлок Кобралово', 'деревня Суоранда', 'поселок Кобралово',\n",
       "       'поселок городского типа Кондратьево',\n",
       "       'коттеджный поселок Счастье', 'поселок Любань', 'деревня Реброво',\n",
       "       'деревня Зимитицы', 'деревня Тойворово', 'поселок Семиозерье',\n",
       "       'поселок Лесное', 'поселок Совхозный', 'поселок Усть-Луга',\n",
       "       'посёлок Ленинское', 'посёлок Суйда',\n",
       "       'посёлок городского типа Форносово', 'деревня Нижние Осельки',\n",
       "       'посёлок станции Свирь', 'поселок Перово', 'Высоцк',\n",
       "       'поселок Гарболово', 'село Шум', 'поселок Котельский',\n",
       "       'поселок станции Лужайка', 'деревня Большая Пустомержа',\n",
       "       'поселок Красносельское', 'деревня Вахнова Кара', 'деревня Пижма',\n",
       "       'коттеджный поселок Кивеннапа Север', 'поселок Коробицыно',\n",
       "       'поселок Ромашки', 'посёлок Перово', 'деревня Каськово',\n",
       "       'деревня Куровицы', 'посёлок Плоское', 'поселок Сумино',\n",
       "       'поселок городского типа Большая Ижора', 'поселок Кирпичное',\n",
       "       'деревня Ям-Тесово', 'деревня Раздолье', 'деревня Терпилицы',\n",
       "       'посёлок Шугозеро', 'деревня Ваганово', 'поселок Пушное',\n",
       "       'садовое товарищество Садко', 'посёлок Усть-Ижора',\n",
       "       'деревня Выскатка', 'городской посёлок Свирьстрой',\n",
       "       'поселок Громово', 'деревня Кисельня', 'посёлок Старая Малукса',\n",
       "       'деревня Трубников Бор', 'поселок Калитино',\n",
       "       'посёлок Высокоключевой', 'садовое товарищество Приладожский',\n",
       "       'посёлок Пансионат Зелёный Бор', 'деревня Ненимяки',\n",
       "       'поселок Пансионат Зелёный Бор', 'деревня Снегирёвка',\n",
       "       'деревня Рапполово', 'деревня Пустынка', 'поселок Рабитицы',\n",
       "       'деревня Большой Сабск', 'деревня Русско', 'деревня Лупполово',\n",
       "       'деревня Большое Рейзино', 'деревня Малая Романовка',\n",
       "       'поселок Дружноселье', 'поселок Пчевжа', 'поселок Володарское',\n",
       "       'деревня Нижняя', 'коттеджный посёлок Лесное', 'деревня Тихковицы',\n",
       "       'деревня Борисова Грива', 'посёлок Дзержинского'], dtype=object)"
      ]
     },
     "execution_count": 16,
     "metadata": {},
     "output_type": "execute_result"
    }
   ],
   "source": [
    "df['locality_name'].unique()"
   ]
  },
  {
   "cell_type": "markdown",
   "metadata": {
    "id": "qpP1zSoM26CB"
   },
   "source": [
    "В результате мы увидели некоторое количество дупликатов, для объективного исследования избавимся от наименования типа населенного пункта. Определим их в отдельный список."
   ]
  },
  {
   "cell_type": "code",
   "execution_count": 17,
   "metadata": {
    "id": "Ao-BhjkduSg_"
   },
   "outputs": [],
   "source": [
    "duplicates = ['деревня ', 'поселок ', 'посёлок ', 'городского типа ', 'городской ', 'село ', 'коттеджный ',\n",
    "              'при железнодорожной станции ', 'станции ', 'садовое товарищество ', 'садоводческое некоммерческое товарищество ']"
   ]
  },
  {
   "cell_type": "markdown",
   "metadata": {
    "id": "8hXjZHLH5cOa"
   },
   "source": [
    "Циклом пройдемся по всем значениям столбца и уберем наименования типа населенного пункта."
   ]
  },
  {
   "cell_type": "code",
   "execution_count": 18,
   "metadata": {
    "id": "hmu3HovR5bpj",
    "scrolled": false
   },
   "outputs": [
    {
     "name": "stderr",
     "output_type": "stream",
     "text": [
      "/tmp/ipykernel_379/1698299789.py:2: SettingWithCopyWarning: \n",
      "A value is trying to be set on a copy of a slice from a DataFrame.\n",
      "Try using .loc[row_indexer,col_indexer] = value instead\n",
      "\n",
      "See the caveats in the documentation: https://pandas.pydata.org/pandas-docs/stable/user_guide/indexing.html#returning-a-view-versus-a-copy\n",
      "  df['locality_name'] = df['locality_name'].str.replace(i, '')\n"
     ]
    }
   ],
   "source": [
    "for i in duplicates:\n",
    "  df['locality_name'] = df['locality_name'].str.replace(i, '')"
   ]
  },
  {
   "cell_type": "markdown",
   "metadata": {
    "id": "hRZAlq8a6T-m"
   },
   "source": [
    "Посмотрим на результат"
   ]
  },
  {
   "cell_type": "code",
   "execution_count": 19,
   "metadata": {
    "colab": {
     "base_uri": "https://localhost:8080/",
     "height": 369
    },
    "id": "cbjo02Bk6TZO",
    "outputId": "a8acd24a-7ae8-4b27-9e1a-dfe2bd69419a"
   },
   "outputs": [
    {
     "data": {
      "text/html": [
       "<div>\n",
       "<style scoped>\n",
       "    .dataframe tbody tr th:only-of-type {\n",
       "        vertical-align: middle;\n",
       "    }\n",
       "\n",
       "    .dataframe tbody tr th {\n",
       "        vertical-align: top;\n",
       "    }\n",
       "\n",
       "    .dataframe thead th {\n",
       "        text-align: right;\n",
       "    }\n",
       "</style>\n",
       "<table border=\"1\" class=\"dataframe\">\n",
       "  <thead>\n",
       "    <tr style=\"text-align: right;\">\n",
       "      <th></th>\n",
       "      <th>total_images</th>\n",
       "      <th>last_price</th>\n",
       "      <th>total_area</th>\n",
       "      <th>first_day_exposition</th>\n",
       "      <th>rooms</th>\n",
       "      <th>ceiling_height</th>\n",
       "      <th>floors_total</th>\n",
       "      <th>living_area</th>\n",
       "      <th>floor</th>\n",
       "      <th>is_apartment</th>\n",
       "      <th>...</th>\n",
       "      <th>kitchen_area</th>\n",
       "      <th>balcony</th>\n",
       "      <th>locality_name</th>\n",
       "      <th>airports_nearest</th>\n",
       "      <th>cityCenters_nearest</th>\n",
       "      <th>parks_around3000</th>\n",
       "      <th>parks_nearest</th>\n",
       "      <th>ponds_around3000</th>\n",
       "      <th>ponds_nearest</th>\n",
       "      <th>days_exposition</th>\n",
       "    </tr>\n",
       "  </thead>\n",
       "  <tbody>\n",
       "    <tr>\n",
       "      <th>0</th>\n",
       "      <td>20</td>\n",
       "      <td>13000000.0</td>\n",
       "      <td>108.0</td>\n",
       "      <td>2019-03-07</td>\n",
       "      <td>3</td>\n",
       "      <td>2.70</td>\n",
       "      <td>16.0</td>\n",
       "      <td>51.0</td>\n",
       "      <td>8</td>\n",
       "      <td>NaN</td>\n",
       "      <td>...</td>\n",
       "      <td>25.0</td>\n",
       "      <td>0</td>\n",
       "      <td>Санкт-Петербург</td>\n",
       "      <td>18863.0</td>\n",
       "      <td>16028.0</td>\n",
       "      <td>1.0</td>\n",
       "      <td>482.0</td>\n",
       "      <td>2.0</td>\n",
       "      <td>755.0</td>\n",
       "      <td>NaN</td>\n",
       "    </tr>\n",
       "    <tr>\n",
       "      <th>1</th>\n",
       "      <td>7</td>\n",
       "      <td>3350000.0</td>\n",
       "      <td>40.4</td>\n",
       "      <td>2018-12-04</td>\n",
       "      <td>1</td>\n",
       "      <td>2.65</td>\n",
       "      <td>11.0</td>\n",
       "      <td>18.6</td>\n",
       "      <td>1</td>\n",
       "      <td>NaN</td>\n",
       "      <td>...</td>\n",
       "      <td>11.0</td>\n",
       "      <td>2</td>\n",
       "      <td>Шушары</td>\n",
       "      <td>12817.0</td>\n",
       "      <td>18603.0</td>\n",
       "      <td>0.0</td>\n",
       "      <td>NaN</td>\n",
       "      <td>0.0</td>\n",
       "      <td>NaN</td>\n",
       "      <td>81.0</td>\n",
       "    </tr>\n",
       "    <tr>\n",
       "      <th>2</th>\n",
       "      <td>10</td>\n",
       "      <td>5196000.0</td>\n",
       "      <td>56.0</td>\n",
       "      <td>2015-08-20</td>\n",
       "      <td>2</td>\n",
       "      <td>2.65</td>\n",
       "      <td>5.0</td>\n",
       "      <td>34.3</td>\n",
       "      <td>4</td>\n",
       "      <td>NaN</td>\n",
       "      <td>...</td>\n",
       "      <td>8.3</td>\n",
       "      <td>0</td>\n",
       "      <td>Санкт-Петербург</td>\n",
       "      <td>21741.0</td>\n",
       "      <td>13933.0</td>\n",
       "      <td>1.0</td>\n",
       "      <td>90.0</td>\n",
       "      <td>2.0</td>\n",
       "      <td>574.0</td>\n",
       "      <td>558.0</td>\n",
       "    </tr>\n",
       "    <tr>\n",
       "      <th>3</th>\n",
       "      <td>0</td>\n",
       "      <td>64900000.0</td>\n",
       "      <td>159.0</td>\n",
       "      <td>2015-07-24</td>\n",
       "      <td>3</td>\n",
       "      <td>2.65</td>\n",
       "      <td>14.0</td>\n",
       "      <td>NaN</td>\n",
       "      <td>9</td>\n",
       "      <td>NaN</td>\n",
       "      <td>...</td>\n",
       "      <td>NaN</td>\n",
       "      <td>0</td>\n",
       "      <td>Санкт-Петербург</td>\n",
       "      <td>28098.0</td>\n",
       "      <td>6800.0</td>\n",
       "      <td>2.0</td>\n",
       "      <td>84.0</td>\n",
       "      <td>3.0</td>\n",
       "      <td>234.0</td>\n",
       "      <td>424.0</td>\n",
       "    </tr>\n",
       "    <tr>\n",
       "      <th>4</th>\n",
       "      <td>2</td>\n",
       "      <td>10000000.0</td>\n",
       "      <td>100.0</td>\n",
       "      <td>2018-06-19</td>\n",
       "      <td>2</td>\n",
       "      <td>3.03</td>\n",
       "      <td>14.0</td>\n",
       "      <td>32.0</td>\n",
       "      <td>13</td>\n",
       "      <td>NaN</td>\n",
       "      <td>...</td>\n",
       "      <td>41.0</td>\n",
       "      <td>0</td>\n",
       "      <td>Санкт-Петербург</td>\n",
       "      <td>31856.0</td>\n",
       "      <td>8098.0</td>\n",
       "      <td>2.0</td>\n",
       "      <td>112.0</td>\n",
       "      <td>1.0</td>\n",
       "      <td>48.0</td>\n",
       "      <td>121.0</td>\n",
       "    </tr>\n",
       "  </tbody>\n",
       "</table>\n",
       "<p>5 rows × 22 columns</p>\n",
       "</div>"
      ],
      "text/plain": [
       "   total_images  last_price  total_area first_day_exposition  rooms  \\\n",
       "0            20  13000000.0       108.0           2019-03-07      3   \n",
       "1             7   3350000.0        40.4           2018-12-04      1   \n",
       "2            10   5196000.0        56.0           2015-08-20      2   \n",
       "3             0  64900000.0       159.0           2015-07-24      3   \n",
       "4             2  10000000.0       100.0           2018-06-19      2   \n",
       "\n",
       "   ceiling_height  floors_total  living_area  floor is_apartment  ...  \\\n",
       "0            2.70          16.0         51.0      8          NaN  ...   \n",
       "1            2.65          11.0         18.6      1          NaN  ...   \n",
       "2            2.65           5.0         34.3      4          NaN  ...   \n",
       "3            2.65          14.0          NaN      9          NaN  ...   \n",
       "4            3.03          14.0         32.0     13          NaN  ...   \n",
       "\n",
       "   kitchen_area  balcony    locality_name  airports_nearest  \\\n",
       "0          25.0        0  Санкт-Петербург           18863.0   \n",
       "1          11.0        2           Шушары           12817.0   \n",
       "2           8.3        0  Санкт-Петербург           21741.0   \n",
       "3           NaN        0  Санкт-Петербург           28098.0   \n",
       "4          41.0        0  Санкт-Петербург           31856.0   \n",
       "\n",
       "  cityCenters_nearest  parks_around3000  parks_nearest  ponds_around3000  \\\n",
       "0             16028.0               1.0          482.0               2.0   \n",
       "1             18603.0               0.0            NaN               0.0   \n",
       "2             13933.0               1.0           90.0               2.0   \n",
       "3              6800.0               2.0           84.0               3.0   \n",
       "4              8098.0               2.0          112.0               1.0   \n",
       "\n",
       "   ponds_nearest  days_exposition  \n",
       "0          755.0              NaN  \n",
       "1            NaN             81.0  \n",
       "2          574.0            558.0  \n",
       "3          234.0            424.0  \n",
       "4           48.0            121.0  \n",
       "\n",
       "[5 rows x 22 columns]"
      ]
     },
     "execution_count": 19,
     "metadata": {},
     "output_type": "execute_result"
    }
   ],
   "source": [
    "df.head()"
   ]
  },
  {
   "cell_type": "markdown",
   "metadata": {
    "id": "6sARNWeX6Z83"
   },
   "source": [
    "Следующим этапом предобработки будет устранение редких и выбывающих значений столбцов. \n",
    "<br>Начнем со столбца \"Высота потолков\"  *\"ceiling_height\"*\n",
    "<br>Посмотрим описание данных и график высоты потолков"
   ]
  },
  {
   "cell_type": "code",
   "execution_count": 20,
   "metadata": {
    "colab": {
     "base_uri": "https://localhost:8080/",
     "height": 604
    },
    "id": "3o2fsWhjzYtg",
    "outputId": "e6166329-6568-4a17-c496-3da86e69c8cf"
   },
   "outputs": [
    {
     "data": {
      "text/plain": [
       "count    23650.000000\n",
       "mean         2.724311\n",
       "std          0.989255\n",
       "min          1.000000\n",
       "25%          2.600000\n",
       "50%          2.650000\n",
       "75%          2.700000\n",
       "max        100.000000\n",
       "Name: ceiling_height, dtype: float64"
      ]
     },
     "metadata": {},
     "output_type": "display_data"
    },
    {
     "data": {
      "text/plain": [
       "<AxesSubplot:>"
      ]
     },
     "execution_count": 20,
     "metadata": {},
     "output_type": "execute_result"
    },
    {
     "data": {
      "image/png": "[encoded data removed]",
      "text/plain": [
       "<Figure size 432x288 with 1 Axes>"
      ]
     },
     "metadata": {
      "needs_background": "light"
     },
     "output_type": "display_data"
    }
   ],
   "source": [
    "display (df['ceiling_height'].describe())\n",
    "df.boxplot('ceiling_height')"
   ]
  },
  {
   "cell_type": "code",
   "execution_count": 21,
   "metadata": {
    "colab": {
     "base_uri": "https://localhost:8080/",
     "height": 1000
    },
    "id": "syBj1BT6759P",
    "outputId": "9c8f9e4e-50f0-4bf3-a980-539733296705"
   },
   "outputs": [
    {
     "data": {
      "text/html": [
       "<div>\n",
       "<style scoped>\n",
       "    .dataframe tbody tr th:only-of-type {\n",
       "        vertical-align: middle;\n",
       "    }\n",
       "\n",
       "    .dataframe tbody tr th {\n",
       "        vertical-align: top;\n",
       "    }\n",
       "\n",
       "    .dataframe thead th {\n",
       "        text-align: right;\n",
       "    }\n",
       "</style>\n",
       "<table border=\"1\" class=\"dataframe\">\n",
       "  <thead>\n",
       "    <tr style=\"text-align: right;\">\n",
       "      <th></th>\n",
       "      <th>total_images</th>\n",
       "      <th>last_price</th>\n",
       "      <th>total_area</th>\n",
       "      <th>first_day_exposition</th>\n",
       "      <th>rooms</th>\n",
       "      <th>ceiling_height</th>\n",
       "      <th>floors_total</th>\n",
       "      <th>living_area</th>\n",
       "      <th>floor</th>\n",
       "      <th>is_apartment</th>\n",
       "      <th>...</th>\n",
       "      <th>kitchen_area</th>\n",
       "      <th>balcony</th>\n",
       "      <th>locality_name</th>\n",
       "      <th>airports_nearest</th>\n",
       "      <th>cityCenters_nearest</th>\n",
       "      <th>parks_around3000</th>\n",
       "      <th>parks_nearest</th>\n",
       "      <th>ponds_around3000</th>\n",
       "      <th>ponds_nearest</th>\n",
       "      <th>days_exposition</th>\n",
       "    </tr>\n",
       "  </thead>\n",
       "  <tbody>\n",
       "    <tr>\n",
       "      <th>355</th>\n",
       "      <td>17</td>\n",
       "      <td>3600000.0</td>\n",
       "      <td>55.2</td>\n",
       "      <td>2018-07-12</td>\n",
       "      <td>2</td>\n",
       "      <td>25.0</td>\n",
       "      <td>5.0</td>\n",
       "      <td>32.0</td>\n",
       "      <td>2</td>\n",
       "      <td>False</td>\n",
       "      <td>...</td>\n",
       "      <td>NaN</td>\n",
       "      <td>2</td>\n",
       "      <td>Гатчина</td>\n",
       "      <td>NaN</td>\n",
       "      <td>NaN</td>\n",
       "      <td>NaN</td>\n",
       "      <td>NaN</td>\n",
       "      <td>NaN</td>\n",
       "      <td>NaN</td>\n",
       "      <td>259.0</td>\n",
       "    </tr>\n",
       "    <tr>\n",
       "      <th>464</th>\n",
       "      <td>15</td>\n",
       "      <td>66571000.0</td>\n",
       "      <td>280.3</td>\n",
       "      <td>2015-06-11</td>\n",
       "      <td>6</td>\n",
       "      <td>5.2</td>\n",
       "      <td>8.0</td>\n",
       "      <td>159.5</td>\n",
       "      <td>7</td>\n",
       "      <td>NaN</td>\n",
       "      <td>...</td>\n",
       "      <td>21.1</td>\n",
       "      <td>0</td>\n",
       "      <td>Санкт-Петербург</td>\n",
       "      <td>26316.0</td>\n",
       "      <td>6655.0</td>\n",
       "      <td>3.0</td>\n",
       "      <td>187.0</td>\n",
       "      <td>1.0</td>\n",
       "      <td>616.0</td>\n",
       "      <td>578.0</td>\n",
       "    </tr>\n",
       "    <tr>\n",
       "      <th>1026</th>\n",
       "      <td>20</td>\n",
       "      <td>155000000.0</td>\n",
       "      <td>310.0</td>\n",
       "      <td>2018-10-12</td>\n",
       "      <td>5</td>\n",
       "      <td>5.3</td>\n",
       "      <td>3.0</td>\n",
       "      <td>190.0</td>\n",
       "      <td>3</td>\n",
       "      <td>NaN</td>\n",
       "      <td>...</td>\n",
       "      <td>63.0</td>\n",
       "      <td>2</td>\n",
       "      <td>Санкт-Петербург</td>\n",
       "      <td>24899.0</td>\n",
       "      <td>4785.0</td>\n",
       "      <td>0.0</td>\n",
       "      <td>NaN</td>\n",
       "      <td>1.0</td>\n",
       "      <td>603.0</td>\n",
       "      <td>NaN</td>\n",
       "    </tr>\n",
       "    <tr>\n",
       "      <th>1388</th>\n",
       "      <td>20</td>\n",
       "      <td>59800000.0</td>\n",
       "      <td>399.0</td>\n",
       "      <td>2015-01-21</td>\n",
       "      <td>5</td>\n",
       "      <td>5.6</td>\n",
       "      <td>6.0</td>\n",
       "      <td>NaN</td>\n",
       "      <td>6</td>\n",
       "      <td>NaN</td>\n",
       "      <td>...</td>\n",
       "      <td>NaN</td>\n",
       "      <td>0</td>\n",
       "      <td>Санкт-Петербург</td>\n",
       "      <td>26204.0</td>\n",
       "      <td>6934.0</td>\n",
       "      <td>2.0</td>\n",
       "      <td>149.0</td>\n",
       "      <td>2.0</td>\n",
       "      <td>577.0</td>\n",
       "      <td>719.0</td>\n",
       "    </tr>\n",
       "    <tr>\n",
       "      <th>3148</th>\n",
       "      <td>14</td>\n",
       "      <td>2900000.0</td>\n",
       "      <td>75.0</td>\n",
       "      <td>2018-11-12</td>\n",
       "      <td>3</td>\n",
       "      <td>32.0</td>\n",
       "      <td>3.0</td>\n",
       "      <td>53.0</td>\n",
       "      <td>2</td>\n",
       "      <td>NaN</td>\n",
       "      <td>...</td>\n",
       "      <td>8.0</td>\n",
       "      <td>0</td>\n",
       "      <td>Волхов</td>\n",
       "      <td>NaN</td>\n",
       "      <td>NaN</td>\n",
       "      <td>NaN</td>\n",
       "      <td>NaN</td>\n",
       "      <td>NaN</td>\n",
       "      <td>NaN</td>\n",
       "      <td>NaN</td>\n",
       "    </tr>\n",
       "    <tr>\n",
       "      <th>3474</th>\n",
       "      <td>3</td>\n",
       "      <td>1400000.0</td>\n",
       "      <td>30.0</td>\n",
       "      <td>2018-03-16</td>\n",
       "      <td>1</td>\n",
       "      <td>8.0</td>\n",
       "      <td>5.0</td>\n",
       "      <td>15.3</td>\n",
       "      <td>2</td>\n",
       "      <td>False</td>\n",
       "      <td>...</td>\n",
       "      <td>7.3</td>\n",
       "      <td>0</td>\n",
       "      <td>Нурма</td>\n",
       "      <td>NaN</td>\n",
       "      <td>NaN</td>\n",
       "      <td>NaN</td>\n",
       "      <td>NaN</td>\n",
       "      <td>NaN</td>\n",
       "      <td>NaN</td>\n",
       "      <td>125.0</td>\n",
       "    </tr>\n",
       "    <tr>\n",
       "      <th>4643</th>\n",
       "      <td>0</td>\n",
       "      <td>4300000.0</td>\n",
       "      <td>45.0</td>\n",
       "      <td>2018-02-01</td>\n",
       "      <td>2</td>\n",
       "      <td>25.0</td>\n",
       "      <td>9.0</td>\n",
       "      <td>30.0</td>\n",
       "      <td>2</td>\n",
       "      <td>NaN</td>\n",
       "      <td>...</td>\n",
       "      <td>7.0</td>\n",
       "      <td>1</td>\n",
       "      <td>Санкт-Петербург</td>\n",
       "      <td>12016.0</td>\n",
       "      <td>13256.0</td>\n",
       "      <td>1.0</td>\n",
       "      <td>658.0</td>\n",
       "      <td>1.0</td>\n",
       "      <td>331.0</td>\n",
       "      <td>181.0</td>\n",
       "    </tr>\n",
       "    <tr>\n",
       "      <th>4876</th>\n",
       "      <td>7</td>\n",
       "      <td>3000000.0</td>\n",
       "      <td>25.0</td>\n",
       "      <td>2017-09-27</td>\n",
       "      <td>0</td>\n",
       "      <td>27.0</td>\n",
       "      <td>25.0</td>\n",
       "      <td>17.0</td>\n",
       "      <td>17</td>\n",
       "      <td>NaN</td>\n",
       "      <td>...</td>\n",
       "      <td>NaN</td>\n",
       "      <td>2</td>\n",
       "      <td>Мурино</td>\n",
       "      <td>NaN</td>\n",
       "      <td>NaN</td>\n",
       "      <td>NaN</td>\n",
       "      <td>NaN</td>\n",
       "      <td>NaN</td>\n",
       "      <td>NaN</td>\n",
       "      <td>28.0</td>\n",
       "    </tr>\n",
       "    <tr>\n",
       "      <th>5076</th>\n",
       "      <td>0</td>\n",
       "      <td>3850000.0</td>\n",
       "      <td>30.5</td>\n",
       "      <td>2018-10-03</td>\n",
       "      <td>1</td>\n",
       "      <td>24.0</td>\n",
       "      <td>5.0</td>\n",
       "      <td>19.5</td>\n",
       "      <td>1</td>\n",
       "      <td>True</td>\n",
       "      <td>...</td>\n",
       "      <td>5.5</td>\n",
       "      <td>0</td>\n",
       "      <td>Санкт-Петербург</td>\n",
       "      <td>29686.0</td>\n",
       "      <td>8389.0</td>\n",
       "      <td>3.0</td>\n",
       "      <td>397.0</td>\n",
       "      <td>1.0</td>\n",
       "      <td>578.0</td>\n",
       "      <td>7.0</td>\n",
       "    </tr>\n",
       "    <tr>\n",
       "      <th>5246</th>\n",
       "      <td>0</td>\n",
       "      <td>2500000.0</td>\n",
       "      <td>54.0</td>\n",
       "      <td>2017-10-13</td>\n",
       "      <td>2</td>\n",
       "      <td>27.0</td>\n",
       "      <td>5.0</td>\n",
       "      <td>30.0</td>\n",
       "      <td>3</td>\n",
       "      <td>NaN</td>\n",
       "      <td>...</td>\n",
       "      <td>9.0</td>\n",
       "      <td>2</td>\n",
       "      <td>Мины</td>\n",
       "      <td>NaN</td>\n",
       "      <td>NaN</td>\n",
       "      <td>NaN</td>\n",
       "      <td>NaN</td>\n",
       "      <td>NaN</td>\n",
       "      <td>NaN</td>\n",
       "      <td>540.0</td>\n",
       "    </tr>\n",
       "    <tr>\n",
       "      <th>5669</th>\n",
       "      <td>4</td>\n",
       "      <td>4400000.0</td>\n",
       "      <td>50.0</td>\n",
       "      <td>2017-08-08</td>\n",
       "      <td>2</td>\n",
       "      <td>26.0</td>\n",
       "      <td>9.0</td>\n",
       "      <td>21.3</td>\n",
       "      <td>3</td>\n",
       "      <td>NaN</td>\n",
       "      <td>...</td>\n",
       "      <td>7.0</td>\n",
       "      <td>2</td>\n",
       "      <td>Санкт-Петербург</td>\n",
       "      <td>28981.0</td>\n",
       "      <td>10912.0</td>\n",
       "      <td>1.0</td>\n",
       "      <td>305.0</td>\n",
       "      <td>0.0</td>\n",
       "      <td>NaN</td>\n",
       "      <td>267.0</td>\n",
       "    </tr>\n",
       "    <tr>\n",
       "      <th>5807</th>\n",
       "      <td>17</td>\n",
       "      <td>8150000.0</td>\n",
       "      <td>80.0</td>\n",
       "      <td>2019-01-09</td>\n",
       "      <td>2</td>\n",
       "      <td>27.0</td>\n",
       "      <td>36.0</td>\n",
       "      <td>41.0</td>\n",
       "      <td>13</td>\n",
       "      <td>NaN</td>\n",
       "      <td>...</td>\n",
       "      <td>12.0</td>\n",
       "      <td>5</td>\n",
       "      <td>Санкт-Петербург</td>\n",
       "      <td>18732.0</td>\n",
       "      <td>20444.0</td>\n",
       "      <td>0.0</td>\n",
       "      <td>NaN</td>\n",
       "      <td>3.0</td>\n",
       "      <td>80.0</td>\n",
       "      <td>38.0</td>\n",
       "    </tr>\n",
       "    <tr>\n",
       "      <th>5863</th>\n",
       "      <td>20</td>\n",
       "      <td>5650000.0</td>\n",
       "      <td>45.0</td>\n",
       "      <td>2018-08-15</td>\n",
       "      <td>1</td>\n",
       "      <td>8.3</td>\n",
       "      <td>16.0</td>\n",
       "      <td>19.3</td>\n",
       "      <td>14</td>\n",
       "      <td>NaN</td>\n",
       "      <td>...</td>\n",
       "      <td>8.3</td>\n",
       "      <td>1</td>\n",
       "      <td>Санкт-Петербург</td>\n",
       "      <td>13069.0</td>\n",
       "      <td>10763.0</td>\n",
       "      <td>0.0</td>\n",
       "      <td>NaN</td>\n",
       "      <td>1.0</td>\n",
       "      <td>613.0</td>\n",
       "      <td>14.0</td>\n",
       "    </tr>\n",
       "    <tr>\n",
       "      <th>6246</th>\n",
       "      <td>6</td>\n",
       "      <td>3300000.0</td>\n",
       "      <td>44.4</td>\n",
       "      <td>2019-03-25</td>\n",
       "      <td>2</td>\n",
       "      <td>25.0</td>\n",
       "      <td>5.0</td>\n",
       "      <td>31.3</td>\n",
       "      <td>5</td>\n",
       "      <td>NaN</td>\n",
       "      <td>...</td>\n",
       "      <td>5.7</td>\n",
       "      <td>0</td>\n",
       "      <td>Кронштадт</td>\n",
       "      <td>68923.0</td>\n",
       "      <td>50649.0</td>\n",
       "      <td>1.0</td>\n",
       "      <td>417.0</td>\n",
       "      <td>2.0</td>\n",
       "      <td>73.0</td>\n",
       "      <td>NaN</td>\n",
       "    </tr>\n",
       "    <tr>\n",
       "      <th>7578</th>\n",
       "      <td>17</td>\n",
       "      <td>38000000.0</td>\n",
       "      <td>143.0</td>\n",
       "      <td>2017-11-02</td>\n",
       "      <td>3</td>\n",
       "      <td>5.5</td>\n",
       "      <td>5.0</td>\n",
       "      <td>83.0</td>\n",
       "      <td>5</td>\n",
       "      <td>NaN</td>\n",
       "      <td>...</td>\n",
       "      <td>29.0</td>\n",
       "      <td>1</td>\n",
       "      <td>Санкт-Петербург</td>\n",
       "      <td>26333.0</td>\n",
       "      <td>6448.0</td>\n",
       "      <td>3.0</td>\n",
       "      <td>479.0</td>\n",
       "      <td>0.0</td>\n",
       "      <td>NaN</td>\n",
       "      <td>NaN</td>\n",
       "    </tr>\n",
       "    <tr>\n",
       "      <th>9379</th>\n",
       "      <td>5</td>\n",
       "      <td>3950000.0</td>\n",
       "      <td>42.0</td>\n",
       "      <td>2017-03-26</td>\n",
       "      <td>3</td>\n",
       "      <td>25.0</td>\n",
       "      <td>5.0</td>\n",
       "      <td>30.0</td>\n",
       "      <td>2</td>\n",
       "      <td>NaN</td>\n",
       "      <td>...</td>\n",
       "      <td>5.2</td>\n",
       "      <td>0</td>\n",
       "      <td>Санкт-Петербург</td>\n",
       "      <td>11647.0</td>\n",
       "      <td>13581.0</td>\n",
       "      <td>0.0</td>\n",
       "      <td>NaN</td>\n",
       "      <td>0.0</td>\n",
       "      <td>NaN</td>\n",
       "      <td>NaN</td>\n",
       "    </tr>\n",
       "    <tr>\n",
       "      <th>10773</th>\n",
       "      <td>8</td>\n",
       "      <td>3800000.0</td>\n",
       "      <td>58.0</td>\n",
       "      <td>2017-10-13</td>\n",
       "      <td>2</td>\n",
       "      <td>27.0</td>\n",
       "      <td>10.0</td>\n",
       "      <td>30.1</td>\n",
       "      <td>3</td>\n",
       "      <td>False</td>\n",
       "      <td>...</td>\n",
       "      <td>8.1</td>\n",
       "      <td>2</td>\n",
       "      <td>Мурино</td>\n",
       "      <td>NaN</td>\n",
       "      <td>NaN</td>\n",
       "      <td>NaN</td>\n",
       "      <td>NaN</td>\n",
       "      <td>NaN</td>\n",
       "      <td>NaN</td>\n",
       "      <td>71.0</td>\n",
       "    </tr>\n",
       "    <tr>\n",
       "      <th>11285</th>\n",
       "      <td>0</td>\n",
       "      <td>1950000.0</td>\n",
       "      <td>37.0</td>\n",
       "      <td>2019-03-20</td>\n",
       "      <td>1</td>\n",
       "      <td>25.0</td>\n",
       "      <td>5.0</td>\n",
       "      <td>17.0</td>\n",
       "      <td>4</td>\n",
       "      <td>False</td>\n",
       "      <td>...</td>\n",
       "      <td>9.0</td>\n",
       "      <td>2</td>\n",
       "      <td>Луга</td>\n",
       "      <td>NaN</td>\n",
       "      <td>NaN</td>\n",
       "      <td>NaN</td>\n",
       "      <td>NaN</td>\n",
       "      <td>NaN</td>\n",
       "      <td>NaN</td>\n",
       "      <td>18.0</td>\n",
       "    </tr>\n",
       "    <tr>\n",
       "      <th>12628</th>\n",
       "      <td>14</td>\n",
       "      <td>3900000.0</td>\n",
       "      <td>50.0</td>\n",
       "      <td>2018-03-29</td>\n",
       "      <td>1</td>\n",
       "      <td>5.3</td>\n",
       "      <td>5.0</td>\n",
       "      <td>NaN</td>\n",
       "      <td>5</td>\n",
       "      <td>NaN</td>\n",
       "      <td>...</td>\n",
       "      <td>NaN</td>\n",
       "      <td>0</td>\n",
       "      <td>Санкт-Петербург</td>\n",
       "      <td>19644.0</td>\n",
       "      <td>3918.0</td>\n",
       "      <td>1.0</td>\n",
       "      <td>505.0</td>\n",
       "      <td>1.0</td>\n",
       "      <td>92.0</td>\n",
       "      <td>8.0</td>\n",
       "    </tr>\n",
       "    <tr>\n",
       "      <th>14382</th>\n",
       "      <td>9</td>\n",
       "      <td>1700000.0</td>\n",
       "      <td>35.0</td>\n",
       "      <td>2015-12-04</td>\n",
       "      <td>1</td>\n",
       "      <td>25.0</td>\n",
       "      <td>5.0</td>\n",
       "      <td>20.0</td>\n",
       "      <td>2</td>\n",
       "      <td>False</td>\n",
       "      <td>...</td>\n",
       "      <td>8.0</td>\n",
       "      <td>1</td>\n",
       "      <td>Новый Свет</td>\n",
       "      <td>NaN</td>\n",
       "      <td>NaN</td>\n",
       "      <td>NaN</td>\n",
       "      <td>NaN</td>\n",
       "      <td>NaN</td>\n",
       "      <td>NaN</td>\n",
       "      <td>206.0</td>\n",
       "    </tr>\n",
       "    <tr>\n",
       "      <th>15061</th>\n",
       "      <td>19</td>\n",
       "      <td>5600000.0</td>\n",
       "      <td>56.4</td>\n",
       "      <td>2018-05-11</td>\n",
       "      <td>2</td>\n",
       "      <td>14.0</td>\n",
       "      <td>14.0</td>\n",
       "      <td>32.4</td>\n",
       "      <td>5</td>\n",
       "      <td>NaN</td>\n",
       "      <td>...</td>\n",
       "      <td>9.1</td>\n",
       "      <td>2</td>\n",
       "      <td>Санкт-Петербург</td>\n",
       "      <td>14814.0</td>\n",
       "      <td>13610.0</td>\n",
       "      <td>0.0</td>\n",
       "      <td>NaN</td>\n",
       "      <td>0.0</td>\n",
       "      <td>NaN</td>\n",
       "      <td>315.0</td>\n",
       "    </tr>\n",
       "    <tr>\n",
       "      <th>15743</th>\n",
       "      <td>14</td>\n",
       "      <td>5600000.0</td>\n",
       "      <td>67.0</td>\n",
       "      <td>2016-11-11</td>\n",
       "      <td>3</td>\n",
       "      <td>8.0</td>\n",
       "      <td>16.0</td>\n",
       "      <td>41.0</td>\n",
       "      <td>1</td>\n",
       "      <td>NaN</td>\n",
       "      <td>...</td>\n",
       "      <td>8.0</td>\n",
       "      <td>0</td>\n",
       "      <td>Санкт-Петербург</td>\n",
       "      <td>32691.0</td>\n",
       "      <td>11035.0</td>\n",
       "      <td>1.0</td>\n",
       "      <td>723.0</td>\n",
       "      <td>0.0</td>\n",
       "      <td>NaN</td>\n",
       "      <td>474.0</td>\n",
       "    </tr>\n",
       "    <tr>\n",
       "      <th>17442</th>\n",
       "      <td>0</td>\n",
       "      <td>5350000.0</td>\n",
       "      <td>54.0</td>\n",
       "      <td>2015-06-16</td>\n",
       "      <td>2</td>\n",
       "      <td>8.0</td>\n",
       "      <td>5.0</td>\n",
       "      <td>29.0</td>\n",
       "      <td>2</td>\n",
       "      <td>NaN</td>\n",
       "      <td>...</td>\n",
       "      <td>NaN</td>\n",
       "      <td>1</td>\n",
       "      <td>Красное Село</td>\n",
       "      <td>24638.0</td>\n",
       "      <td>28062.0</td>\n",
       "      <td>0.0</td>\n",
       "      <td>NaN</td>\n",
       "      <td>0.0</td>\n",
       "      <td>NaN</td>\n",
       "      <td>469.0</td>\n",
       "    </tr>\n",
       "    <tr>\n",
       "      <th>17496</th>\n",
       "      <td>15</td>\n",
       "      <td>6700000.0</td>\n",
       "      <td>92.9</td>\n",
       "      <td>2019-02-19</td>\n",
       "      <td>3</td>\n",
       "      <td>20.0</td>\n",
       "      <td>17.0</td>\n",
       "      <td>53.2</td>\n",
       "      <td>14</td>\n",
       "      <td>NaN</td>\n",
       "      <td>...</td>\n",
       "      <td>12.0</td>\n",
       "      <td>5</td>\n",
       "      <td>Санкт-Петербург</td>\n",
       "      <td>16295.0</td>\n",
       "      <td>15092.0</td>\n",
       "      <td>1.0</td>\n",
       "      <td>967.0</td>\n",
       "      <td>0.0</td>\n",
       "      <td>NaN</td>\n",
       "      <td>NaN</td>\n",
       "    </tr>\n",
       "    <tr>\n",
       "      <th>17857</th>\n",
       "      <td>1</td>\n",
       "      <td>3900000.0</td>\n",
       "      <td>56.0</td>\n",
       "      <td>2017-12-22</td>\n",
       "      <td>3</td>\n",
       "      <td>27.0</td>\n",
       "      <td>5.0</td>\n",
       "      <td>33.0</td>\n",
       "      <td>4</td>\n",
       "      <td>False</td>\n",
       "      <td>...</td>\n",
       "      <td>NaN</td>\n",
       "      <td>0</td>\n",
       "      <td>Санкт-Петербург</td>\n",
       "      <td>41030.0</td>\n",
       "      <td>15543.0</td>\n",
       "      <td>0.0</td>\n",
       "      <td>NaN</td>\n",
       "      <td>0.0</td>\n",
       "      <td>NaN</td>\n",
       "      <td>73.0</td>\n",
       "    </tr>\n",
       "    <tr>\n",
       "      <th>18545</th>\n",
       "      <td>6</td>\n",
       "      <td>3750000.0</td>\n",
       "      <td>43.0</td>\n",
       "      <td>2019-03-18</td>\n",
       "      <td>2</td>\n",
       "      <td>25.0</td>\n",
       "      <td>5.0</td>\n",
       "      <td>29.0</td>\n",
       "      <td>3</td>\n",
       "      <td>False</td>\n",
       "      <td>...</td>\n",
       "      <td>NaN</td>\n",
       "      <td>0</td>\n",
       "      <td>Санкт-Петербург</td>\n",
       "      <td>27054.0</td>\n",
       "      <td>8033.0</td>\n",
       "      <td>1.0</td>\n",
       "      <td>540.0</td>\n",
       "      <td>0.0</td>\n",
       "      <td>NaN</td>\n",
       "      <td>12.0</td>\n",
       "    </tr>\n",
       "    <tr>\n",
       "      <th>20264</th>\n",
       "      <td>17</td>\n",
       "      <td>119000000.0</td>\n",
       "      <td>187.6</td>\n",
       "      <td>2017-07-10</td>\n",
       "      <td>4</td>\n",
       "      <td>6.0</td>\n",
       "      <td>7.0</td>\n",
       "      <td>147.0</td>\n",
       "      <td>7</td>\n",
       "      <td>NaN</td>\n",
       "      <td>...</td>\n",
       "      <td>15.6</td>\n",
       "      <td>0</td>\n",
       "      <td>Санкт-Петербург</td>\n",
       "      <td>26902.0</td>\n",
       "      <td>5605.0</td>\n",
       "      <td>3.0</td>\n",
       "      <td>484.0</td>\n",
       "      <td>1.0</td>\n",
       "      <td>305.0</td>\n",
       "      <td>259.0</td>\n",
       "    </tr>\n",
       "    <tr>\n",
       "      <th>20478</th>\n",
       "      <td>11</td>\n",
       "      <td>8000000.0</td>\n",
       "      <td>45.0</td>\n",
       "      <td>2017-07-18</td>\n",
       "      <td>1</td>\n",
       "      <td>27.0</td>\n",
       "      <td>4.0</td>\n",
       "      <td>22.0</td>\n",
       "      <td>2</td>\n",
       "      <td>NaN</td>\n",
       "      <td>...</td>\n",
       "      <td>10.0</td>\n",
       "      <td>1</td>\n",
       "      <td>Санкт-Петербург</td>\n",
       "      <td>18975.0</td>\n",
       "      <td>3246.0</td>\n",
       "      <td>0.0</td>\n",
       "      <td>NaN</td>\n",
       "      <td>3.0</td>\n",
       "      <td>449.0</td>\n",
       "      <td>429.0</td>\n",
       "    </tr>\n",
       "    <tr>\n",
       "      <th>20507</th>\n",
       "      <td>12</td>\n",
       "      <td>5950000.0</td>\n",
       "      <td>60.0</td>\n",
       "      <td>2018-02-19</td>\n",
       "      <td>2</td>\n",
       "      <td>22.6</td>\n",
       "      <td>14.0</td>\n",
       "      <td>35.0</td>\n",
       "      <td>11</td>\n",
       "      <td>NaN</td>\n",
       "      <td>...</td>\n",
       "      <td>13.0</td>\n",
       "      <td>1</td>\n",
       "      <td>Санкт-Петербург</td>\n",
       "      <td>27028.0</td>\n",
       "      <td>12570.0</td>\n",
       "      <td>0.0</td>\n",
       "      <td>NaN</td>\n",
       "      <td>0.0</td>\n",
       "      <td>NaN</td>\n",
       "      <td>40.0</td>\n",
       "    </tr>\n",
       "    <tr>\n",
       "      <th>21227</th>\n",
       "      <td>0</td>\n",
       "      <td>8200000.0</td>\n",
       "      <td>71.0</td>\n",
       "      <td>2017-07-21</td>\n",
       "      <td>0</td>\n",
       "      <td>5.8</td>\n",
       "      <td>5.0</td>\n",
       "      <td>68.0</td>\n",
       "      <td>5</td>\n",
       "      <td>NaN</td>\n",
       "      <td>...</td>\n",
       "      <td>NaN</td>\n",
       "      <td>0</td>\n",
       "      <td>Санкт-Петербург</td>\n",
       "      <td>20170.0</td>\n",
       "      <td>1261.0</td>\n",
       "      <td>2.0</td>\n",
       "      <td>295.0</td>\n",
       "      <td>3.0</td>\n",
       "      <td>366.0</td>\n",
       "      <td>30.0</td>\n",
       "    </tr>\n",
       "    <tr>\n",
       "      <th>21377</th>\n",
       "      <td>19</td>\n",
       "      <td>4900000.0</td>\n",
       "      <td>42.0</td>\n",
       "      <td>2017-04-18</td>\n",
       "      <td>1</td>\n",
       "      <td>27.5</td>\n",
       "      <td>24.0</td>\n",
       "      <td>37.7</td>\n",
       "      <td>19</td>\n",
       "      <td>False</td>\n",
       "      <td>...</td>\n",
       "      <td>11.0</td>\n",
       "      <td>2</td>\n",
       "      <td>Санкт-Петербург</td>\n",
       "      <td>42742.0</td>\n",
       "      <td>9760.0</td>\n",
       "      <td>0.0</td>\n",
       "      <td>NaN</td>\n",
       "      <td>0.0</td>\n",
       "      <td>NaN</td>\n",
       "      <td>61.0</td>\n",
       "    </tr>\n",
       "    <tr>\n",
       "      <th>21824</th>\n",
       "      <td>20</td>\n",
       "      <td>2450000.0</td>\n",
       "      <td>44.0</td>\n",
       "      <td>2019-02-12</td>\n",
       "      <td>2</td>\n",
       "      <td>27.0</td>\n",
       "      <td>2.0</td>\n",
       "      <td>38.0</td>\n",
       "      <td>2</td>\n",
       "      <td>False</td>\n",
       "      <td>...</td>\n",
       "      <td>8.6</td>\n",
       "      <td>2</td>\n",
       "      <td>Большая Ижора</td>\n",
       "      <td>NaN</td>\n",
       "      <td>NaN</td>\n",
       "      <td>NaN</td>\n",
       "      <td>NaN</td>\n",
       "      <td>NaN</td>\n",
       "      <td>NaN</td>\n",
       "      <td>NaN</td>\n",
       "    </tr>\n",
       "    <tr>\n",
       "      <th>22309</th>\n",
       "      <td>20</td>\n",
       "      <td>5300000.0</td>\n",
       "      <td>45.0</td>\n",
       "      <td>2017-09-30</td>\n",
       "      <td>1</td>\n",
       "      <td>10.3</td>\n",
       "      <td>16.0</td>\n",
       "      <td>15.5</td>\n",
       "      <td>15</td>\n",
       "      <td>NaN</td>\n",
       "      <td>...</td>\n",
       "      <td>NaN</td>\n",
       "      <td>0</td>\n",
       "      <td>Санкт-Петербург</td>\n",
       "      <td>36353.0</td>\n",
       "      <td>11936.0</td>\n",
       "      <td>2.0</td>\n",
       "      <td>440.0</td>\n",
       "      <td>2.0</td>\n",
       "      <td>450.0</td>\n",
       "      <td>136.0</td>\n",
       "    </tr>\n",
       "    <tr>\n",
       "      <th>22336</th>\n",
       "      <td>19</td>\n",
       "      <td>9999000.0</td>\n",
       "      <td>92.4</td>\n",
       "      <td>2019-04-05</td>\n",
       "      <td>2</td>\n",
       "      <td>32.0</td>\n",
       "      <td>6.0</td>\n",
       "      <td>55.5</td>\n",
       "      <td>5</td>\n",
       "      <td>False</td>\n",
       "      <td>...</td>\n",
       "      <td>16.5</td>\n",
       "      <td>4</td>\n",
       "      <td>Санкт-Петербург</td>\n",
       "      <td>18838.0</td>\n",
       "      <td>3506.0</td>\n",
       "      <td>0.0</td>\n",
       "      <td>NaN</td>\n",
       "      <td>3.0</td>\n",
       "      <td>511.0</td>\n",
       "      <td>NaN</td>\n",
       "    </tr>\n",
       "    <tr>\n",
       "      <th>22938</th>\n",
       "      <td>14</td>\n",
       "      <td>4000000.0</td>\n",
       "      <td>98.0</td>\n",
       "      <td>2018-03-15</td>\n",
       "      <td>4</td>\n",
       "      <td>27.0</td>\n",
       "      <td>2.0</td>\n",
       "      <td>73.0</td>\n",
       "      <td>2</td>\n",
       "      <td>True</td>\n",
       "      <td>...</td>\n",
       "      <td>9.0</td>\n",
       "      <td>1</td>\n",
       "      <td>Нижняя</td>\n",
       "      <td>NaN</td>\n",
       "      <td>NaN</td>\n",
       "      <td>NaN</td>\n",
       "      <td>NaN</td>\n",
       "      <td>NaN</td>\n",
       "      <td>NaN</td>\n",
       "      <td>27.0</td>\n",
       "    </tr>\n",
       "  </tbody>\n",
       "</table>\n",
       "<p>35 rows × 22 columns</p>\n",
       "</div>"
      ],
      "text/plain": [
       "       total_images   last_price  total_area first_day_exposition  rooms  \\\n",
       "355              17    3600000.0        55.2           2018-07-12      2   \n",
       "464              15   66571000.0       280.3           2015-06-11      6   \n",
       "1026             20  155000000.0       310.0           2018-10-12      5   \n",
       "1388             20   59800000.0       399.0           2015-01-21      5   \n",
       "3148             14    2900000.0        75.0           2018-11-12      3   \n",
       "3474              3    1400000.0        30.0           2018-03-16      1   \n",
       "4643              0    4300000.0        45.0           2018-02-01      2   \n",
       "4876              7    3000000.0        25.0           2017-09-27      0   \n",
       "5076              0    3850000.0        30.5           2018-10-03      1   \n",
       "5246              0    2500000.0        54.0           2017-10-13      2   \n",
       "5669              4    4400000.0        50.0           2017-08-08      2   \n",
       "5807             17    8150000.0        80.0           2019-01-09      2   \n",
       "5863             20    5650000.0        45.0           2018-08-15      1   \n",
       "6246              6    3300000.0        44.4           2019-03-25      2   \n",
       "7578             17   38000000.0       143.0           2017-11-02      3   \n",
       "9379              5    3950000.0        42.0           2017-03-26      3   \n",
       "10773             8    3800000.0        58.0           2017-10-13      2   \n",
       "11285             0    1950000.0        37.0           2019-03-20      1   \n",
       "12628            14    3900000.0        50.0           2018-03-29      1   \n",
       "14382             9    1700000.0        35.0           2015-12-04      1   \n",
       "15061            19    5600000.0        56.4           2018-05-11      2   \n",
       "15743            14    5600000.0        67.0           2016-11-11      3   \n",
       "17442             0    5350000.0        54.0           2015-06-16      2   \n",
       "17496            15    6700000.0        92.9           2019-02-19      3   \n",
       "17857             1    3900000.0        56.0           2017-12-22      3   \n",
       "18545             6    3750000.0        43.0           2019-03-18      2   \n",
       "20264            17  119000000.0       187.6           2017-07-10      4   \n",
       "20478            11    8000000.0        45.0           2017-07-18      1   \n",
       "20507            12    5950000.0        60.0           2018-02-19      2   \n",
       "21227             0    8200000.0        71.0           2017-07-21      0   \n",
       "21377            19    4900000.0        42.0           2017-04-18      1   \n",
       "21824            20    2450000.0        44.0           2019-02-12      2   \n",
       "22309            20    5300000.0        45.0           2017-09-30      1   \n",
       "22336            19    9999000.0        92.4           2019-04-05      2   \n",
       "22938            14    4000000.0        98.0           2018-03-15      4   \n",
       "\n",
       "       ceiling_height  floors_total  living_area  floor is_apartment  ...  \\\n",
       "355              25.0           5.0         32.0      2        False  ...   \n",
       "464               5.2           8.0        159.5      7          NaN  ...   \n",
       "1026              5.3           3.0        190.0      3          NaN  ...   \n",
       "1388              5.6           6.0          NaN      6          NaN  ...   \n",
       "3148             32.0           3.0         53.0      2          NaN  ...   \n",
       "3474              8.0           5.0         15.3      2        False  ...   \n",
       "4643             25.0           9.0         30.0      2          NaN  ...   \n",
       "4876             27.0          25.0         17.0     17          NaN  ...   \n",
       "5076             24.0           5.0         19.5      1         True  ...   \n",
       "5246             27.0           5.0         30.0      3          NaN  ...   \n",
       "5669             26.0           9.0         21.3      3          NaN  ...   \n",
       "5807             27.0          36.0         41.0     13          NaN  ...   \n",
       "5863              8.3          16.0         19.3     14          NaN  ...   \n",
       "6246             25.0           5.0         31.3      5          NaN  ...   \n",
       "7578              5.5           5.0         83.0      5          NaN  ...   \n",
       "9379             25.0           5.0         30.0      2          NaN  ...   \n",
       "10773            27.0          10.0         30.1      3        False  ...   \n",
       "11285            25.0           5.0         17.0      4        False  ...   \n",
       "12628             5.3           5.0          NaN      5          NaN  ...   \n",
       "14382            25.0           5.0         20.0      2        False  ...   \n",
       "15061            14.0          14.0         32.4      5          NaN  ...   \n",
       "15743             8.0          16.0         41.0      1          NaN  ...   \n",
       "17442             8.0           5.0         29.0      2          NaN  ...   \n",
       "17496            20.0          17.0         53.2     14          NaN  ...   \n",
       "17857            27.0           5.0         33.0      4        False  ...   \n",
       "18545            25.0           5.0         29.0      3        False  ...   \n",
       "20264             6.0           7.0        147.0      7          NaN  ...   \n",
       "20478            27.0           4.0         22.0      2          NaN  ...   \n",
       "20507            22.6          14.0         35.0     11          NaN  ...   \n",
       "21227             5.8           5.0         68.0      5          NaN  ...   \n",
       "21377            27.5          24.0         37.7     19        False  ...   \n",
       "21824            27.0           2.0         38.0      2        False  ...   \n",
       "22309            10.3          16.0         15.5     15          NaN  ...   \n",
       "22336            32.0           6.0         55.5      5        False  ...   \n",
       "22938            27.0           2.0         73.0      2         True  ...   \n",
       "\n",
       "       kitchen_area  balcony    locality_name  airports_nearest  \\\n",
       "355             NaN        2          Гатчина               NaN   \n",
       "464            21.1        0  Санкт-Петербург           26316.0   \n",
       "1026           63.0        2  Санкт-Петербург           24899.0   \n",
       "1388            NaN        0  Санкт-Петербург           26204.0   \n",
       "3148            8.0        0           Волхов               NaN   \n",
       "3474            7.3        0            Нурма               NaN   \n",
       "4643            7.0        1  Санкт-Петербург           12016.0   \n",
       "4876            NaN        2           Мурино               NaN   \n",
       "5076            5.5        0  Санкт-Петербург           29686.0   \n",
       "5246            9.0        2             Мины               NaN   \n",
       "5669            7.0        2  Санкт-Петербург           28981.0   \n",
       "5807           12.0        5  Санкт-Петербург           18732.0   \n",
       "5863            8.3        1  Санкт-Петербург           13069.0   \n",
       "6246            5.7        0        Кронштадт           68923.0   \n",
       "7578           29.0        1  Санкт-Петербург           26333.0   \n",
       "9379            5.2        0  Санкт-Петербург           11647.0   \n",
       "10773           8.1        2           Мурино               NaN   \n",
       "11285           9.0        2             Луга               NaN   \n",
       "12628           NaN        0  Санкт-Петербург           19644.0   \n",
       "14382           8.0        1       Новый Свет               NaN   \n",
       "15061           9.1        2  Санкт-Петербург           14814.0   \n",
       "15743           8.0        0  Санкт-Петербург           32691.0   \n",
       "17442           NaN        1     Красное Село           24638.0   \n",
       "17496          12.0        5  Санкт-Петербург           16295.0   \n",
       "17857           NaN        0  Санкт-Петербург           41030.0   \n",
       "18545           NaN        0  Санкт-Петербург           27054.0   \n",
       "20264          15.6        0  Санкт-Петербург           26902.0   \n",
       "20478          10.0        1  Санкт-Петербург           18975.0   \n",
       "20507          13.0        1  Санкт-Петербург           27028.0   \n",
       "21227           NaN        0  Санкт-Петербург           20170.0   \n",
       "21377          11.0        2  Санкт-Петербург           42742.0   \n",
       "21824           8.6        2    Большая Ижора               NaN   \n",
       "22309           NaN        0  Санкт-Петербург           36353.0   \n",
       "22336          16.5        4  Санкт-Петербург           18838.0   \n",
       "22938           9.0        1           Нижняя               NaN   \n",
       "\n",
       "      cityCenters_nearest  parks_around3000  parks_nearest  ponds_around3000  \\\n",
       "355                   NaN               NaN            NaN               NaN   \n",
       "464                6655.0               3.0          187.0               1.0   \n",
       "1026               4785.0               0.0            NaN               1.0   \n",
       "1388               6934.0               2.0          149.0               2.0   \n",
       "3148                  NaN               NaN            NaN               NaN   \n",
       "3474                  NaN               NaN            NaN               NaN   \n",
       "4643              13256.0               1.0          658.0               1.0   \n",
       "4876                  NaN               NaN            NaN               NaN   \n",
       "5076               8389.0               3.0          397.0               1.0   \n",
       "5246                  NaN               NaN            NaN               NaN   \n",
       "5669              10912.0               1.0          305.0               0.0   \n",
       "5807              20444.0               0.0            NaN               3.0   \n",
       "5863              10763.0               0.0            NaN               1.0   \n",
       "6246              50649.0               1.0          417.0               2.0   \n",
       "7578               6448.0               3.0          479.0               0.0   \n",
       "9379              13581.0               0.0            NaN               0.0   \n",
       "10773                 NaN               NaN            NaN               NaN   \n",
       "11285                 NaN               NaN            NaN               NaN   \n",
       "12628              3918.0               1.0          505.0               1.0   \n",
       "14382                 NaN               NaN            NaN               NaN   \n",
       "15061             13610.0               0.0            NaN               0.0   \n",
       "15743             11035.0               1.0          723.0               0.0   \n",
       "17442             28062.0               0.0            NaN               0.0   \n",
       "17496             15092.0               1.0          967.0               0.0   \n",
       "17857             15543.0               0.0            NaN               0.0   \n",
       "18545              8033.0               1.0          540.0               0.0   \n",
       "20264              5605.0               3.0          484.0               1.0   \n",
       "20478              3246.0               0.0            NaN               3.0   \n",
       "20507             12570.0               0.0            NaN               0.0   \n",
       "21227              1261.0               2.0          295.0               3.0   \n",
       "21377              9760.0               0.0            NaN               0.0   \n",
       "21824                 NaN               NaN            NaN               NaN   \n",
       "22309             11936.0               2.0          440.0               2.0   \n",
       "22336              3506.0               0.0            NaN               3.0   \n",
       "22938                 NaN               NaN            NaN               NaN   \n",
       "\n",
       "       ponds_nearest  days_exposition  \n",
       "355              NaN            259.0  \n",
       "464            616.0            578.0  \n",
       "1026           603.0              NaN  \n",
       "1388           577.0            719.0  \n",
       "3148             NaN              NaN  \n",
       "3474             NaN            125.0  \n",
       "4643           331.0            181.0  \n",
       "4876             NaN             28.0  \n",
       "5076           578.0              7.0  \n",
       "5246             NaN            540.0  \n",
       "5669             NaN            267.0  \n",
       "5807            80.0             38.0  \n",
       "5863           613.0             14.0  \n",
       "6246            73.0              NaN  \n",
       "7578             NaN              NaN  \n",
       "9379             NaN              NaN  \n",
       "10773            NaN             71.0  \n",
       "11285            NaN             18.0  \n",
       "12628           92.0              8.0  \n",
       "14382            NaN            206.0  \n",
       "15061            NaN            315.0  \n",
       "15743            NaN            474.0  \n",
       "17442            NaN            469.0  \n",
       "17496            NaN              NaN  \n",
       "17857            NaN             73.0  \n",
       "18545            NaN             12.0  \n",
       "20264          305.0            259.0  \n",
       "20478          449.0            429.0  \n",
       "20507            NaN             40.0  \n",
       "21227          366.0             30.0  \n",
       "21377            NaN             61.0  \n",
       "21824            NaN              NaN  \n",
       "22309          450.0            136.0  \n",
       "22336          511.0              NaN  \n",
       "22938            NaN             27.0  \n",
       "\n",
       "[35 rows x 22 columns]"
      ]
     },
     "metadata": {},
     "output_type": "display_data"
    },
    {
     "data": {
      "text/html": [
       "<div>\n",
       "<style scoped>\n",
       "    .dataframe tbody tr th:only-of-type {\n",
       "        vertical-align: middle;\n",
       "    }\n",
       "\n",
       "    .dataframe tbody tr th {\n",
       "        vertical-align: top;\n",
       "    }\n",
       "\n",
       "    .dataframe thead th {\n",
       "        text-align: right;\n",
       "    }\n",
       "</style>\n",
       "<table border=\"1\" class=\"dataframe\">\n",
       "  <thead>\n",
       "    <tr style=\"text-align: right;\">\n",
       "      <th></th>\n",
       "      <th>total_images</th>\n",
       "      <th>last_price</th>\n",
       "      <th>total_area</th>\n",
       "      <th>first_day_exposition</th>\n",
       "      <th>rooms</th>\n",
       "      <th>ceiling_height</th>\n",
       "      <th>floors_total</th>\n",
       "      <th>living_area</th>\n",
       "      <th>floor</th>\n",
       "      <th>is_apartment</th>\n",
       "      <th>...</th>\n",
       "      <th>kitchen_area</th>\n",
       "      <th>balcony</th>\n",
       "      <th>locality_name</th>\n",
       "      <th>airports_nearest</th>\n",
       "      <th>cityCenters_nearest</th>\n",
       "      <th>parks_around3000</th>\n",
       "      <th>parks_nearest</th>\n",
       "      <th>ponds_around3000</th>\n",
       "      <th>ponds_nearest</th>\n",
       "      <th>days_exposition</th>\n",
       "    </tr>\n",
       "  </thead>\n",
       "  <tbody>\n",
       "    <tr>\n",
       "      <th>5712</th>\n",
       "      <td>5</td>\n",
       "      <td>1500000.0</td>\n",
       "      <td>42.8</td>\n",
       "      <td>2017-08-14</td>\n",
       "      <td>2</td>\n",
       "      <td>1.20</td>\n",
       "      <td>2.0</td>\n",
       "      <td>27.5</td>\n",
       "      <td>1</td>\n",
       "      <td>NaN</td>\n",
       "      <td>...</td>\n",
       "      <td>5.20</td>\n",
       "      <td>0</td>\n",
       "      <td>Мга</td>\n",
       "      <td>NaN</td>\n",
       "      <td>NaN</td>\n",
       "      <td>NaN</td>\n",
       "      <td>NaN</td>\n",
       "      <td>NaN</td>\n",
       "      <td>NaN</td>\n",
       "      <td>248.0</td>\n",
       "    </tr>\n",
       "    <tr>\n",
       "      <th>16934</th>\n",
       "      <td>5</td>\n",
       "      <td>4100000.0</td>\n",
       "      <td>40.0</td>\n",
       "      <td>2017-10-17</td>\n",
       "      <td>1</td>\n",
       "      <td>1.75</td>\n",
       "      <td>37.0</td>\n",
       "      <td>17.4</td>\n",
       "      <td>5</td>\n",
       "      <td>NaN</td>\n",
       "      <td>...</td>\n",
       "      <td>8.34</td>\n",
       "      <td>0</td>\n",
       "      <td>Санкт-Петербург</td>\n",
       "      <td>18732.0</td>\n",
       "      <td>20444.0</td>\n",
       "      <td>0.0</td>\n",
       "      <td>NaN</td>\n",
       "      <td>3.0</td>\n",
       "      <td>80.0</td>\n",
       "      <td>71.0</td>\n",
       "    </tr>\n",
       "    <tr>\n",
       "      <th>22590</th>\n",
       "      <td>16</td>\n",
       "      <td>6000000.0</td>\n",
       "      <td>55.0</td>\n",
       "      <td>2018-10-31</td>\n",
       "      <td>2</td>\n",
       "      <td>1.00</td>\n",
       "      <td>12.0</td>\n",
       "      <td>32.4</td>\n",
       "      <td>7</td>\n",
       "      <td>NaN</td>\n",
       "      <td>...</td>\n",
       "      <td>10.00</td>\n",
       "      <td>0</td>\n",
       "      <td>Санкт-Петербург</td>\n",
       "      <td>33053.0</td>\n",
       "      <td>14217.0</td>\n",
       "      <td>2.0</td>\n",
       "      <td>293.0</td>\n",
       "      <td>2.0</td>\n",
       "      <td>289.0</td>\n",
       "      <td>13.0</td>\n",
       "    </tr>\n",
       "    <tr>\n",
       "      <th>22869</th>\n",
       "      <td>0</td>\n",
       "      <td>15000000.0</td>\n",
       "      <td>25.0</td>\n",
       "      <td>2018-07-25</td>\n",
       "      <td>1</td>\n",
       "      <td>100.00</td>\n",
       "      <td>5.0</td>\n",
       "      <td>14.0</td>\n",
       "      <td>5</td>\n",
       "      <td>True</td>\n",
       "      <td>...</td>\n",
       "      <td>11.00</td>\n",
       "      <td>5</td>\n",
       "      <td>Санкт-Петербург</td>\n",
       "      <td>34963.0</td>\n",
       "      <td>8283.0</td>\n",
       "      <td>1.0</td>\n",
       "      <td>223.0</td>\n",
       "      <td>3.0</td>\n",
       "      <td>30.0</td>\n",
       "      <td>19.0</td>\n",
       "    </tr>\n",
       "  </tbody>\n",
       "</table>\n",
       "<p>4 rows × 22 columns</p>\n",
       "</div>"
      ],
      "text/plain": [
       "       total_images  last_price  total_area first_day_exposition  rooms  \\\n",
       "5712              5   1500000.0        42.8           2017-08-14      2   \n",
       "16934             5   4100000.0        40.0           2017-10-17      1   \n",
       "22590            16   6000000.0        55.0           2018-10-31      2   \n",
       "22869             0  15000000.0        25.0           2018-07-25      1   \n",
       "\n",
       "       ceiling_height  floors_total  living_area  floor is_apartment  ...  \\\n",
       "5712             1.20           2.0         27.5      1          NaN  ...   \n",
       "16934            1.75          37.0         17.4      5          NaN  ...   \n",
       "22590            1.00          12.0         32.4      7          NaN  ...   \n",
       "22869          100.00           5.0         14.0      5         True  ...   \n",
       "\n",
       "       kitchen_area  balcony    locality_name  airports_nearest  \\\n",
       "5712           5.20        0              Мга               NaN   \n",
       "16934          8.34        0  Санкт-Петербург           18732.0   \n",
       "22590         10.00        0  Санкт-Петербург           33053.0   \n",
       "22869         11.00        5  Санкт-Петербург           34963.0   \n",
       "\n",
       "      cityCenters_nearest  parks_around3000  parks_nearest  ponds_around3000  \\\n",
       "5712                  NaN               NaN            NaN               NaN   \n",
       "16934             20444.0               0.0            NaN               3.0   \n",
       "22590             14217.0               2.0          293.0               2.0   \n",
       "22869              8283.0               1.0          223.0               3.0   \n",
       "\n",
       "       ponds_nearest  days_exposition  \n",
       "5712             NaN            248.0  \n",
       "16934           80.0             71.0  \n",
       "22590          289.0             13.0  \n",
       "22869           30.0             19.0  \n",
       "\n",
       "[4 rows x 22 columns]"
      ]
     },
     "metadata": {},
     "output_type": "display_data"
    }
   ],
   "source": [
    "display (df.query('100 > ceiling_height > 5' ))\n",
    "display (df.query('ceiling_height == 100 or ceiling_height < 2' ))"
   ]
  },
  {
   "cell_type": "markdown",
   "metadata": {
    "id": "SSkukjEj7NDQ"
   },
   "source": [
    "Изучив данные, мы видим некоторое количество аномальных выбросов. Например высота потолков 25 и более метров. Очевидно, что в многоэтажных зданиях такой высоты быть не может. Вероятно пользователь ошибся и не поставил запятую при заполнении объявления. Исправим это, объявления с высотой потолков свыше 24 метров разделим на 10 таким образом получим реальную высоту потолков.  "
   ]
  },
  {
   "cell_type": "code",
   "execution_count": 22,
   "metadata": {
    "id": "a0nV4pnApGK3",
    "scrolled": true
   },
   "outputs": [
    {
     "name": "stderr",
     "output_type": "stream",
     "text": [
      "/opt/conda/lib/python3.9/site-packages/pandas/core/indexing.py:1676: SettingWithCopyWarning: \n",
      "A value is trying to be set on a copy of a slice from a DataFrame.\n",
      "Try using .loc[row_indexer,col_indexer] = value instead\n",
      "\n",
      "See the caveats in the documentation: https://pandas.pydata.org/pandas-docs/stable/user_guide/indexing.html#returning-a-view-versus-a-copy\n",
      "  self._setitem_single_column(ilocs[0], value, pi)\n"
     ]
    }
   ],
   "source": [
    "df.loc[df['ceiling_height'] >= 23,'ceiling_height'] = df.loc[df['ceiling_height'] >= 23,'ceiling_height'] / 10"
   ]
  },
  {
   "cell_type": "markdown",
   "metadata": {
    "id": "svCFChkX0CZi"
   },
   "source": [
    "Также есть строки в которых высота менее 2 метров и один случай с высотой 100 метров. Для объективного исследования нам от них лучше избавиться вообще."
   ]
  },
  {
   "cell_type": "code",
   "execution_count": 23,
   "metadata": {
    "id": "2RhO6JMp0FOx",
    "scrolled": true
   },
   "outputs": [
    {
     "name": "stderr",
     "output_type": "stream",
     "text": [
      "/opt/conda/lib/python3.9/site-packages/pandas/core/frame.py:4308: SettingWithCopyWarning: \n",
      "A value is trying to be set on a copy of a slice from a DataFrame\n",
      "\n",
      "See the caveats in the documentation: https://pandas.pydata.org/pandas-docs/stable/user_guide/indexing.html#returning-a-view-versus-a-copy\n",
      "  return super().drop(\n",
      "/opt/conda/lib/python3.9/site-packages/pandas/core/frame.py:4308: SettingWithCopyWarning: \n",
      "A value is trying to be set on a copy of a slice from a DataFrame\n",
      "\n",
      "See the caveats in the documentation: https://pandas.pydata.org/pandas-docs/stable/user_guide/indexing.html#returning-a-view-versus-a-copy\n",
      "  return super().drop(\n"
     ]
    }
   ],
   "source": [
    "df.drop(df[df['ceiling_height'] == 100].index, inplace=True)\n",
    "df.drop(df[df['ceiling_height'] <= 2].index, inplace=True)"
   ]
  },
  {
   "cell_type": "markdown",
   "metadata": {
    "id": "9QlXCr8j0Jie"
   },
   "source": [
    "Остались также потолки с аномальной высотой более 5 метров"
   ]
  },
  {
   "cell_type": "code",
   "execution_count": 24,
   "metadata": {
    "colab": {
     "base_uri": "https://localhost:8080/",
     "height": 887
    },
    "id": "A9TagNx10czj",
    "outputId": "1e7ec614-998f-4e7e-f95c-147bd67f9b32"
   },
   "outputs": [
    {
     "data": {
      "text/html": [
       "<div>\n",
       "<style scoped>\n",
       "    .dataframe tbody tr th:only-of-type {\n",
       "        vertical-align: middle;\n",
       "    }\n",
       "\n",
       "    .dataframe tbody tr th {\n",
       "        vertical-align: top;\n",
       "    }\n",
       "\n",
       "    .dataframe thead th {\n",
       "        text-align: right;\n",
       "    }\n",
       "</style>\n",
       "<table border=\"1\" class=\"dataframe\">\n",
       "  <thead>\n",
       "    <tr style=\"text-align: right;\">\n",
       "      <th></th>\n",
       "      <th>total_images</th>\n",
       "      <th>last_price</th>\n",
       "      <th>total_area</th>\n",
       "      <th>first_day_exposition</th>\n",
       "      <th>rooms</th>\n",
       "      <th>ceiling_height</th>\n",
       "      <th>floors_total</th>\n",
       "      <th>living_area</th>\n",
       "      <th>floor</th>\n",
       "      <th>is_apartment</th>\n",
       "      <th>...</th>\n",
       "      <th>kitchen_area</th>\n",
       "      <th>balcony</th>\n",
       "      <th>locality_name</th>\n",
       "      <th>airports_nearest</th>\n",
       "      <th>cityCenters_nearest</th>\n",
       "      <th>parks_around3000</th>\n",
       "      <th>parks_nearest</th>\n",
       "      <th>ponds_around3000</th>\n",
       "      <th>ponds_nearest</th>\n",
       "      <th>days_exposition</th>\n",
       "    </tr>\n",
       "  </thead>\n",
       "  <tbody>\n",
       "    <tr>\n",
       "      <th>464</th>\n",
       "      <td>15</td>\n",
       "      <td>66571000.0</td>\n",
       "      <td>280.3</td>\n",
       "      <td>2015-06-11</td>\n",
       "      <td>6</td>\n",
       "      <td>5.2</td>\n",
       "      <td>8.0</td>\n",
       "      <td>159.5</td>\n",
       "      <td>7</td>\n",
       "      <td>NaN</td>\n",
       "      <td>...</td>\n",
       "      <td>21.1</td>\n",
       "      <td>0</td>\n",
       "      <td>Санкт-Петербург</td>\n",
       "      <td>26316.0</td>\n",
       "      <td>6655.0</td>\n",
       "      <td>3.0</td>\n",
       "      <td>187.0</td>\n",
       "      <td>1.0</td>\n",
       "      <td>616.0</td>\n",
       "      <td>578.0</td>\n",
       "    </tr>\n",
       "    <tr>\n",
       "      <th>1026</th>\n",
       "      <td>20</td>\n",
       "      <td>155000000.0</td>\n",
       "      <td>310.0</td>\n",
       "      <td>2018-10-12</td>\n",
       "      <td>5</td>\n",
       "      <td>5.3</td>\n",
       "      <td>3.0</td>\n",
       "      <td>190.0</td>\n",
       "      <td>3</td>\n",
       "      <td>NaN</td>\n",
       "      <td>...</td>\n",
       "      <td>63.0</td>\n",
       "      <td>2</td>\n",
       "      <td>Санкт-Петербург</td>\n",
       "      <td>24899.0</td>\n",
       "      <td>4785.0</td>\n",
       "      <td>0.0</td>\n",
       "      <td>NaN</td>\n",
       "      <td>1.0</td>\n",
       "      <td>603.0</td>\n",
       "      <td>NaN</td>\n",
       "    </tr>\n",
       "    <tr>\n",
       "      <th>1388</th>\n",
       "      <td>20</td>\n",
       "      <td>59800000.0</td>\n",
       "      <td>399.0</td>\n",
       "      <td>2015-01-21</td>\n",
       "      <td>5</td>\n",
       "      <td>5.6</td>\n",
       "      <td>6.0</td>\n",
       "      <td>NaN</td>\n",
       "      <td>6</td>\n",
       "      <td>NaN</td>\n",
       "      <td>...</td>\n",
       "      <td>NaN</td>\n",
       "      <td>0</td>\n",
       "      <td>Санкт-Петербург</td>\n",
       "      <td>26204.0</td>\n",
       "      <td>6934.0</td>\n",
       "      <td>2.0</td>\n",
       "      <td>149.0</td>\n",
       "      <td>2.0</td>\n",
       "      <td>577.0</td>\n",
       "      <td>719.0</td>\n",
       "    </tr>\n",
       "    <tr>\n",
       "      <th>3474</th>\n",
       "      <td>3</td>\n",
       "      <td>1400000.0</td>\n",
       "      <td>30.0</td>\n",
       "      <td>2018-03-16</td>\n",
       "      <td>1</td>\n",
       "      <td>8.0</td>\n",
       "      <td>5.0</td>\n",
       "      <td>15.3</td>\n",
       "      <td>2</td>\n",
       "      <td>False</td>\n",
       "      <td>...</td>\n",
       "      <td>7.3</td>\n",
       "      <td>0</td>\n",
       "      <td>Нурма</td>\n",
       "      <td>NaN</td>\n",
       "      <td>NaN</td>\n",
       "      <td>NaN</td>\n",
       "      <td>NaN</td>\n",
       "      <td>NaN</td>\n",
       "      <td>NaN</td>\n",
       "      <td>125.0</td>\n",
       "    </tr>\n",
       "    <tr>\n",
       "      <th>5863</th>\n",
       "      <td>20</td>\n",
       "      <td>5650000.0</td>\n",
       "      <td>45.0</td>\n",
       "      <td>2018-08-15</td>\n",
       "      <td>1</td>\n",
       "      <td>8.3</td>\n",
       "      <td>16.0</td>\n",
       "      <td>19.3</td>\n",
       "      <td>14</td>\n",
       "      <td>NaN</td>\n",
       "      <td>...</td>\n",
       "      <td>8.3</td>\n",
       "      <td>1</td>\n",
       "      <td>Санкт-Петербург</td>\n",
       "      <td>13069.0</td>\n",
       "      <td>10763.0</td>\n",
       "      <td>0.0</td>\n",
       "      <td>NaN</td>\n",
       "      <td>1.0</td>\n",
       "      <td>613.0</td>\n",
       "      <td>14.0</td>\n",
       "    </tr>\n",
       "    <tr>\n",
       "      <th>7578</th>\n",
       "      <td>17</td>\n",
       "      <td>38000000.0</td>\n",
       "      <td>143.0</td>\n",
       "      <td>2017-11-02</td>\n",
       "      <td>3</td>\n",
       "      <td>5.5</td>\n",
       "      <td>5.0</td>\n",
       "      <td>83.0</td>\n",
       "      <td>5</td>\n",
       "      <td>NaN</td>\n",
       "      <td>...</td>\n",
       "      <td>29.0</td>\n",
       "      <td>1</td>\n",
       "      <td>Санкт-Петербург</td>\n",
       "      <td>26333.0</td>\n",
       "      <td>6448.0</td>\n",
       "      <td>3.0</td>\n",
       "      <td>479.0</td>\n",
       "      <td>0.0</td>\n",
       "      <td>NaN</td>\n",
       "      <td>NaN</td>\n",
       "    </tr>\n",
       "    <tr>\n",
       "      <th>12628</th>\n",
       "      <td>14</td>\n",
       "      <td>3900000.0</td>\n",
       "      <td>50.0</td>\n",
       "      <td>2018-03-29</td>\n",
       "      <td>1</td>\n",
       "      <td>5.3</td>\n",
       "      <td>5.0</td>\n",
       "      <td>NaN</td>\n",
       "      <td>5</td>\n",
       "      <td>NaN</td>\n",
       "      <td>...</td>\n",
       "      <td>NaN</td>\n",
       "      <td>0</td>\n",
       "      <td>Санкт-Петербург</td>\n",
       "      <td>19644.0</td>\n",
       "      <td>3918.0</td>\n",
       "      <td>1.0</td>\n",
       "      <td>505.0</td>\n",
       "      <td>1.0</td>\n",
       "      <td>92.0</td>\n",
       "      <td>8.0</td>\n",
       "    </tr>\n",
       "    <tr>\n",
       "      <th>15061</th>\n",
       "      <td>19</td>\n",
       "      <td>5600000.0</td>\n",
       "      <td>56.4</td>\n",
       "      <td>2018-05-11</td>\n",
       "      <td>2</td>\n",
       "      <td>14.0</td>\n",
       "      <td>14.0</td>\n",
       "      <td>32.4</td>\n",
       "      <td>5</td>\n",
       "      <td>NaN</td>\n",
       "      <td>...</td>\n",
       "      <td>9.1</td>\n",
       "      <td>2</td>\n",
       "      <td>Санкт-Петербург</td>\n",
       "      <td>14814.0</td>\n",
       "      <td>13610.0</td>\n",
       "      <td>0.0</td>\n",
       "      <td>NaN</td>\n",
       "      <td>0.0</td>\n",
       "      <td>NaN</td>\n",
       "      <td>315.0</td>\n",
       "    </tr>\n",
       "    <tr>\n",
       "      <th>15743</th>\n",
       "      <td>14</td>\n",
       "      <td>5600000.0</td>\n",
       "      <td>67.0</td>\n",
       "      <td>2016-11-11</td>\n",
       "      <td>3</td>\n",
       "      <td>8.0</td>\n",
       "      <td>16.0</td>\n",
       "      <td>41.0</td>\n",
       "      <td>1</td>\n",
       "      <td>NaN</td>\n",
       "      <td>...</td>\n",
       "      <td>8.0</td>\n",
       "      <td>0</td>\n",
       "      <td>Санкт-Петербург</td>\n",
       "      <td>32691.0</td>\n",
       "      <td>11035.0</td>\n",
       "      <td>1.0</td>\n",
       "      <td>723.0</td>\n",
       "      <td>0.0</td>\n",
       "      <td>NaN</td>\n",
       "      <td>474.0</td>\n",
       "    </tr>\n",
       "    <tr>\n",
       "      <th>17442</th>\n",
       "      <td>0</td>\n",
       "      <td>5350000.0</td>\n",
       "      <td>54.0</td>\n",
       "      <td>2015-06-16</td>\n",
       "      <td>2</td>\n",
       "      <td>8.0</td>\n",
       "      <td>5.0</td>\n",
       "      <td>29.0</td>\n",
       "      <td>2</td>\n",
       "      <td>NaN</td>\n",
       "      <td>...</td>\n",
       "      <td>NaN</td>\n",
       "      <td>1</td>\n",
       "      <td>Красное Село</td>\n",
       "      <td>24638.0</td>\n",
       "      <td>28062.0</td>\n",
       "      <td>0.0</td>\n",
       "      <td>NaN</td>\n",
       "      <td>0.0</td>\n",
       "      <td>NaN</td>\n",
       "      <td>469.0</td>\n",
       "    </tr>\n",
       "    <tr>\n",
       "      <th>17496</th>\n",
       "      <td>15</td>\n",
       "      <td>6700000.0</td>\n",
       "      <td>92.9</td>\n",
       "      <td>2019-02-19</td>\n",
       "      <td>3</td>\n",
       "      <td>20.0</td>\n",
       "      <td>17.0</td>\n",
       "      <td>53.2</td>\n",
       "      <td>14</td>\n",
       "      <td>NaN</td>\n",
       "      <td>...</td>\n",
       "      <td>12.0</td>\n",
       "      <td>5</td>\n",
       "      <td>Санкт-Петербург</td>\n",
       "      <td>16295.0</td>\n",
       "      <td>15092.0</td>\n",
       "      <td>1.0</td>\n",
       "      <td>967.0</td>\n",
       "      <td>0.0</td>\n",
       "      <td>NaN</td>\n",
       "      <td>NaN</td>\n",
       "    </tr>\n",
       "    <tr>\n",
       "      <th>20264</th>\n",
       "      <td>17</td>\n",
       "      <td>119000000.0</td>\n",
       "      <td>187.6</td>\n",
       "      <td>2017-07-10</td>\n",
       "      <td>4</td>\n",
       "      <td>6.0</td>\n",
       "      <td>7.0</td>\n",
       "      <td>147.0</td>\n",
       "      <td>7</td>\n",
       "      <td>NaN</td>\n",
       "      <td>...</td>\n",
       "      <td>15.6</td>\n",
       "      <td>0</td>\n",
       "      <td>Санкт-Петербург</td>\n",
       "      <td>26902.0</td>\n",
       "      <td>5605.0</td>\n",
       "      <td>3.0</td>\n",
       "      <td>484.0</td>\n",
       "      <td>1.0</td>\n",
       "      <td>305.0</td>\n",
       "      <td>259.0</td>\n",
       "    </tr>\n",
       "    <tr>\n",
       "      <th>20507</th>\n",
       "      <td>12</td>\n",
       "      <td>5950000.0</td>\n",
       "      <td>60.0</td>\n",
       "      <td>2018-02-19</td>\n",
       "      <td>2</td>\n",
       "      <td>22.6</td>\n",
       "      <td>14.0</td>\n",
       "      <td>35.0</td>\n",
       "      <td>11</td>\n",
       "      <td>NaN</td>\n",
       "      <td>...</td>\n",
       "      <td>13.0</td>\n",
       "      <td>1</td>\n",
       "      <td>Санкт-Петербург</td>\n",
       "      <td>27028.0</td>\n",
       "      <td>12570.0</td>\n",
       "      <td>0.0</td>\n",
       "      <td>NaN</td>\n",
       "      <td>0.0</td>\n",
       "      <td>NaN</td>\n",
       "      <td>40.0</td>\n",
       "    </tr>\n",
       "    <tr>\n",
       "      <th>21227</th>\n",
       "      <td>0</td>\n",
       "      <td>8200000.0</td>\n",
       "      <td>71.0</td>\n",
       "      <td>2017-07-21</td>\n",
       "      <td>0</td>\n",
       "      <td>5.8</td>\n",
       "      <td>5.0</td>\n",
       "      <td>68.0</td>\n",
       "      <td>5</td>\n",
       "      <td>NaN</td>\n",
       "      <td>...</td>\n",
       "      <td>NaN</td>\n",
       "      <td>0</td>\n",
       "      <td>Санкт-Петербург</td>\n",
       "      <td>20170.0</td>\n",
       "      <td>1261.0</td>\n",
       "      <td>2.0</td>\n",
       "      <td>295.0</td>\n",
       "      <td>3.0</td>\n",
       "      <td>366.0</td>\n",
       "      <td>30.0</td>\n",
       "    </tr>\n",
       "    <tr>\n",
       "      <th>22309</th>\n",
       "      <td>20</td>\n",
       "      <td>5300000.0</td>\n",
       "      <td>45.0</td>\n",
       "      <td>2017-09-30</td>\n",
       "      <td>1</td>\n",
       "      <td>10.3</td>\n",
       "      <td>16.0</td>\n",
       "      <td>15.5</td>\n",
       "      <td>15</td>\n",
       "      <td>NaN</td>\n",
       "      <td>...</td>\n",
       "      <td>NaN</td>\n",
       "      <td>0</td>\n",
       "      <td>Санкт-Петербург</td>\n",
       "      <td>36353.0</td>\n",
       "      <td>11936.0</td>\n",
       "      <td>2.0</td>\n",
       "      <td>440.0</td>\n",
       "      <td>2.0</td>\n",
       "      <td>450.0</td>\n",
       "      <td>136.0</td>\n",
       "    </tr>\n",
       "    <tr>\n",
       "      <th>22869</th>\n",
       "      <td>0</td>\n",
       "      <td>15000000.0</td>\n",
       "      <td>25.0</td>\n",
       "      <td>2018-07-25</td>\n",
       "      <td>1</td>\n",
       "      <td>10.0</td>\n",
       "      <td>5.0</td>\n",
       "      <td>14.0</td>\n",
       "      <td>5</td>\n",
       "      <td>True</td>\n",
       "      <td>...</td>\n",
       "      <td>11.0</td>\n",
       "      <td>5</td>\n",
       "      <td>Санкт-Петербург</td>\n",
       "      <td>34963.0</td>\n",
       "      <td>8283.0</td>\n",
       "      <td>1.0</td>\n",
       "      <td>223.0</td>\n",
       "      <td>3.0</td>\n",
       "      <td>30.0</td>\n",
       "      <td>19.0</td>\n",
       "    </tr>\n",
       "  </tbody>\n",
       "</table>\n",
       "<p>16 rows × 22 columns</p>\n",
       "</div>"
      ],
      "text/plain": [
       "       total_images   last_price  total_area first_day_exposition  rooms  \\\n",
       "464              15   66571000.0       280.3           2015-06-11      6   \n",
       "1026             20  155000000.0       310.0           2018-10-12      5   \n",
       "1388             20   59800000.0       399.0           2015-01-21      5   \n",
       "3474              3    1400000.0        30.0           2018-03-16      1   \n",
       "5863             20    5650000.0        45.0           2018-08-15      1   \n",
       "7578             17   38000000.0       143.0           2017-11-02      3   \n",
       "12628            14    3900000.0        50.0           2018-03-29      1   \n",
       "15061            19    5600000.0        56.4           2018-05-11      2   \n",
       "15743            14    5600000.0        67.0           2016-11-11      3   \n",
       "17442             0    5350000.0        54.0           2015-06-16      2   \n",
       "17496            15    6700000.0        92.9           2019-02-19      3   \n",
       "20264            17  119000000.0       187.6           2017-07-10      4   \n",
       "20507            12    5950000.0        60.0           2018-02-19      2   \n",
       "21227             0    8200000.0        71.0           2017-07-21      0   \n",
       "22309            20    5300000.0        45.0           2017-09-30      1   \n",
       "22869             0   15000000.0        25.0           2018-07-25      1   \n",
       "\n",
       "       ceiling_height  floors_total  living_area  floor is_apartment  ...  \\\n",
       "464               5.2           8.0        159.5      7          NaN  ...   \n",
       "1026              5.3           3.0        190.0      3          NaN  ...   \n",
       "1388              5.6           6.0          NaN      6          NaN  ...   \n",
       "3474              8.0           5.0         15.3      2        False  ...   \n",
       "5863              8.3          16.0         19.3     14          NaN  ...   \n",
       "7578              5.5           5.0         83.0      5          NaN  ...   \n",
       "12628             5.3           5.0          NaN      5          NaN  ...   \n",
       "15061            14.0          14.0         32.4      5          NaN  ...   \n",
       "15743             8.0          16.0         41.0      1          NaN  ...   \n",
       "17442             8.0           5.0         29.0      2          NaN  ...   \n",
       "17496            20.0          17.0         53.2     14          NaN  ...   \n",
       "20264             6.0           7.0        147.0      7          NaN  ...   \n",
       "20507            22.6          14.0         35.0     11          NaN  ...   \n",
       "21227             5.8           5.0         68.0      5          NaN  ...   \n",
       "22309            10.3          16.0         15.5     15          NaN  ...   \n",
       "22869            10.0           5.0         14.0      5         True  ...   \n",
       "\n",
       "       kitchen_area  balcony    locality_name  airports_nearest  \\\n",
       "464            21.1        0  Санкт-Петербург           26316.0   \n",
       "1026           63.0        2  Санкт-Петербург           24899.0   \n",
       "1388            NaN        0  Санкт-Петербург           26204.0   \n",
       "3474            7.3        0            Нурма               NaN   \n",
       "5863            8.3        1  Санкт-Петербург           13069.0   \n",
       "7578           29.0        1  Санкт-Петербург           26333.0   \n",
       "12628           NaN        0  Санкт-Петербург           19644.0   \n",
       "15061           9.1        2  Санкт-Петербург           14814.0   \n",
       "15743           8.0        0  Санкт-Петербург           32691.0   \n",
       "17442           NaN        1     Красное Село           24638.0   \n",
       "17496          12.0        5  Санкт-Петербург           16295.0   \n",
       "20264          15.6        0  Санкт-Петербург           26902.0   \n",
       "20507          13.0        1  Санкт-Петербург           27028.0   \n",
       "21227           NaN        0  Санкт-Петербург           20170.0   \n",
       "22309           NaN        0  Санкт-Петербург           36353.0   \n",
       "22869          11.0        5  Санкт-Петербург           34963.0   \n",
       "\n",
       "      cityCenters_nearest  parks_around3000  parks_nearest  ponds_around3000  \\\n",
       "464                6655.0               3.0          187.0               1.0   \n",
       "1026               4785.0               0.0            NaN               1.0   \n",
       "1388               6934.0               2.0          149.0               2.0   \n",
       "3474                  NaN               NaN            NaN               NaN   \n",
       "5863              10763.0               0.0            NaN               1.0   \n",
       "7578               6448.0               3.0          479.0               0.0   \n",
       "12628              3918.0               1.0          505.0               1.0   \n",
       "15061             13610.0               0.0            NaN               0.0   \n",
       "15743             11035.0               1.0          723.0               0.0   \n",
       "17442             28062.0               0.0            NaN               0.0   \n",
       "17496             15092.0               1.0          967.0               0.0   \n",
       "20264              5605.0               3.0          484.0               1.0   \n",
       "20507             12570.0               0.0            NaN               0.0   \n",
       "21227              1261.0               2.0          295.0               3.0   \n",
       "22309             11936.0               2.0          440.0               2.0   \n",
       "22869              8283.0               1.0          223.0               3.0   \n",
       "\n",
       "       ponds_nearest  days_exposition  \n",
       "464            616.0            578.0  \n",
       "1026           603.0              NaN  \n",
       "1388           577.0            719.0  \n",
       "3474             NaN            125.0  \n",
       "5863           613.0             14.0  \n",
       "7578             NaN              NaN  \n",
       "12628           92.0              8.0  \n",
       "15061            NaN            315.0  \n",
       "15743            NaN            474.0  \n",
       "17442            NaN            469.0  \n",
       "17496            NaN              NaN  \n",
       "20264          305.0            259.0  \n",
       "20507            NaN             40.0  \n",
       "21227          366.0             30.0  \n",
       "22309          450.0            136.0  \n",
       "22869           30.0             19.0  \n",
       "\n",
       "[16 rows x 22 columns]"
      ]
     },
     "execution_count": 24,
     "metadata": {},
     "output_type": "execute_result"
    }
   ],
   "source": [
    "df.query('ceiling_height > 5')"
   ]
  },
  {
   "cell_type": "markdown",
   "metadata": {
    "id": "qM6zJocB13Fm"
   },
   "source": [
    "Удалим эти строки"
   ]
  },
  {
   "cell_type": "code",
   "execution_count": 25,
   "metadata": {
    "id": "Dlx4BLPz0gVd",
    "scrolled": true
   },
   "outputs": [
    {
     "name": "stderr",
     "output_type": "stream",
     "text": [
      "/opt/conda/lib/python3.9/site-packages/pandas/core/frame.py:4308: SettingWithCopyWarning: \n",
      "A value is trying to be set on a copy of a slice from a DataFrame\n",
      "\n",
      "See the caveats in the documentation: https://pandas.pydata.org/pandas-docs/stable/user_guide/indexing.html#returning-a-view-versus-a-copy\n",
      "  return super().drop(\n"
     ]
    }
   ],
   "source": [
    "df.drop(df[df['ceiling_height'] >= 5].index, inplace=True)"
   ]
  },
  {
   "cell_type": "markdown",
   "metadata": {
    "id": "J36NgLRX3k7S"
   },
   "source": [
    "Посмотрим аномальные выбросы в столбце \"Цена на момент снятия с публикации\" (`last_price`)"
   ]
  },
  {
   "cell_type": "markdown",
   "metadata": {
    "id": "L027K5wwTw4E"
   },
   "source": [
    "Для понимания, исправим формат отображения функции describe()"
   ]
  },
  {
   "cell_type": "code",
   "execution_count": 26,
   "metadata": {
    "id": "7FXzF3jKTwND"
   },
   "outputs": [],
   "source": [
    "pd.set_option('display.float_format', lambda x: '%.2f' % x)"
   ]
  },
  {
   "cell_type": "code",
   "execution_count": 27,
   "metadata": {
    "colab": {
     "base_uri": "https://localhost:8080/"
    },
    "id": "6vo3zIOpQeNi",
    "outputId": "891d2932-574b-4c9f-edfb-28c555b242a6"
   },
   "outputs": [
    {
     "data": {
      "text/plain": [
       "count       23619.00\n",
       "mean      6526182.78\n",
       "std      10820695.24\n",
       "min         12190.00\n",
       "25%       3400000.00\n",
       "50%       4650000.00\n",
       "75%       6799000.00\n",
       "max     763000000.00\n",
       "Name: last_price, dtype: float64"
      ]
     },
     "execution_count": 27,
     "metadata": {},
     "output_type": "execute_result"
    }
   ],
   "source": [
    "df['last_price'].describe()"
   ]
  },
  {
   "cell_type": "markdown",
   "metadata": {
    "id": "AsKyWSsEV5lK"
   },
   "source": [
    "Минимальная цена за недвижимость 12190. Посмотрим 5 самых низких предложений."
   ]
  },
  {
   "cell_type": "code",
   "execution_count": 28,
   "metadata": {
    "colab": {
     "base_uri": "https://localhost:8080/",
     "height": 317
    },
    "id": "YQ0m6b0732jb",
    "outputId": "d3336864-1074-42c8-ba5a-5e13fce18b21"
   },
   "outputs": [
    {
     "data": {
      "text/html": [
       "<div>\n",
       "<style scoped>\n",
       "    .dataframe tbody tr th:only-of-type {\n",
       "        vertical-align: middle;\n",
       "    }\n",
       "\n",
       "    .dataframe tbody tr th {\n",
       "        vertical-align: top;\n",
       "    }\n",
       "\n",
       "    .dataframe thead th {\n",
       "        text-align: right;\n",
       "    }\n",
       "</style>\n",
       "<table border=\"1\" class=\"dataframe\">\n",
       "  <thead>\n",
       "    <tr style=\"text-align: right;\">\n",
       "      <th></th>\n",
       "      <th>total_images</th>\n",
       "      <th>last_price</th>\n",
       "      <th>total_area</th>\n",
       "      <th>first_day_exposition</th>\n",
       "      <th>rooms</th>\n",
       "      <th>ceiling_height</th>\n",
       "      <th>floors_total</th>\n",
       "      <th>living_area</th>\n",
       "      <th>floor</th>\n",
       "      <th>is_apartment</th>\n",
       "      <th>...</th>\n",
       "      <th>kitchen_area</th>\n",
       "      <th>balcony</th>\n",
       "      <th>locality_name</th>\n",
       "      <th>airports_nearest</th>\n",
       "      <th>cityCenters_nearest</th>\n",
       "      <th>parks_around3000</th>\n",
       "      <th>parks_nearest</th>\n",
       "      <th>ponds_around3000</th>\n",
       "      <th>ponds_nearest</th>\n",
       "      <th>days_exposition</th>\n",
       "    </tr>\n",
       "  </thead>\n",
       "  <tbody>\n",
       "    <tr>\n",
       "      <th>8793</th>\n",
       "      <td>7</td>\n",
       "      <td>12190.00</td>\n",
       "      <td>109.00</td>\n",
       "      <td>2019-03-20</td>\n",
       "      <td>2</td>\n",
       "      <td>2.75</td>\n",
       "      <td>25.00</td>\n",
       "      <td>32.00</td>\n",
       "      <td>25</td>\n",
       "      <td>NaN</td>\n",
       "      <td>...</td>\n",
       "      <td>40.50</td>\n",
       "      <td>0</td>\n",
       "      <td>Санкт-Петербург</td>\n",
       "      <td>36421.00</td>\n",
       "      <td>9176.00</td>\n",
       "      <td>1.00</td>\n",
       "      <td>805.00</td>\n",
       "      <td>0.00</td>\n",
       "      <td>NaN</td>\n",
       "      <td>8.00</td>\n",
       "    </tr>\n",
       "    <tr>\n",
       "      <th>17456</th>\n",
       "      <td>7</td>\n",
       "      <td>430000.00</td>\n",
       "      <td>30.40</td>\n",
       "      <td>2019-04-22</td>\n",
       "      <td>1</td>\n",
       "      <td>2.65</td>\n",
       "      <td>2.00</td>\n",
       "      <td>16.00</td>\n",
       "      <td>1</td>\n",
       "      <td>NaN</td>\n",
       "      <td>...</td>\n",
       "      <td>6.00</td>\n",
       "      <td>0</td>\n",
       "      <td>Сланцы</td>\n",
       "      <td>NaN</td>\n",
       "      <td>NaN</td>\n",
       "      <td>NaN</td>\n",
       "      <td>NaN</td>\n",
       "      <td>NaN</td>\n",
       "      <td>NaN</td>\n",
       "      <td>NaN</td>\n",
       "    </tr>\n",
       "    <tr>\n",
       "      <th>14911</th>\n",
       "      <td>5</td>\n",
       "      <td>430000.00</td>\n",
       "      <td>54.00</td>\n",
       "      <td>2018-06-26</td>\n",
       "      <td>2</td>\n",
       "      <td>2.65</td>\n",
       "      <td>3.00</td>\n",
       "      <td>NaN</td>\n",
       "      <td>3</td>\n",
       "      <td>NaN</td>\n",
       "      <td>...</td>\n",
       "      <td>NaN</td>\n",
       "      <td>0</td>\n",
       "      <td>Свирь</td>\n",
       "      <td>NaN</td>\n",
       "      <td>NaN</td>\n",
       "      <td>NaN</td>\n",
       "      <td>NaN</td>\n",
       "      <td>NaN</td>\n",
       "      <td>NaN</td>\n",
       "      <td>44.00</td>\n",
       "    </tr>\n",
       "    <tr>\n",
       "      <th>16274</th>\n",
       "      <td>18</td>\n",
       "      <td>440000.00</td>\n",
       "      <td>40.00</td>\n",
       "      <td>2018-07-10</td>\n",
       "      <td>1</td>\n",
       "      <td>2.65</td>\n",
       "      <td>5.00</td>\n",
       "      <td>NaN</td>\n",
       "      <td>1</td>\n",
       "      <td>NaN</td>\n",
       "      <td>...</td>\n",
       "      <td>NaN</td>\n",
       "      <td>0</td>\n",
       "      <td>Старополье</td>\n",
       "      <td>NaN</td>\n",
       "      <td>NaN</td>\n",
       "      <td>NaN</td>\n",
       "      <td>NaN</td>\n",
       "      <td>NaN</td>\n",
       "      <td>NaN</td>\n",
       "      <td>45.00</td>\n",
       "    </tr>\n",
       "    <tr>\n",
       "      <th>5698</th>\n",
       "      <td>7</td>\n",
       "      <td>450000.00</td>\n",
       "      <td>42.00</td>\n",
       "      <td>2017-07-31</td>\n",
       "      <td>2</td>\n",
       "      <td>2.65</td>\n",
       "      <td>1.00</td>\n",
       "      <td>23.00</td>\n",
       "      <td>1</td>\n",
       "      <td>NaN</td>\n",
       "      <td>...</td>\n",
       "      <td>5.80</td>\n",
       "      <td>0</td>\n",
       "      <td>Будогощь</td>\n",
       "      <td>NaN</td>\n",
       "      <td>NaN</td>\n",
       "      <td>NaN</td>\n",
       "      <td>NaN</td>\n",
       "      <td>NaN</td>\n",
       "      <td>NaN</td>\n",
       "      <td>233.00</td>\n",
       "    </tr>\n",
       "  </tbody>\n",
       "</table>\n",
       "<p>5 rows × 22 columns</p>\n",
       "</div>"
      ],
      "text/plain": [
       "       total_images  last_price  total_area first_day_exposition  rooms  \\\n",
       "8793              7    12190.00      109.00           2019-03-20      2   \n",
       "17456             7   430000.00       30.40           2019-04-22      1   \n",
       "14911             5   430000.00       54.00           2018-06-26      2   \n",
       "16274            18   440000.00       40.00           2018-07-10      1   \n",
       "5698              7   450000.00       42.00           2017-07-31      2   \n",
       "\n",
       "       ceiling_height  floors_total  living_area  floor is_apartment  ...  \\\n",
       "8793             2.75         25.00        32.00     25          NaN  ...   \n",
       "17456            2.65          2.00        16.00      1          NaN  ...   \n",
       "14911            2.65          3.00          NaN      3          NaN  ...   \n",
       "16274            2.65          5.00          NaN      1          NaN  ...   \n",
       "5698             2.65          1.00        23.00      1          NaN  ...   \n",
       "\n",
       "       kitchen_area  balcony    locality_name  airports_nearest  \\\n",
       "8793          40.50        0  Санкт-Петербург          36421.00   \n",
       "17456          6.00        0           Сланцы               NaN   \n",
       "14911           NaN        0            Свирь               NaN   \n",
       "16274           NaN        0       Старополье               NaN   \n",
       "5698           5.80        0         Будогощь               NaN   \n",
       "\n",
       "      cityCenters_nearest  parks_around3000  parks_nearest  ponds_around3000  \\\n",
       "8793              9176.00              1.00         805.00              0.00   \n",
       "17456                 NaN               NaN            NaN               NaN   \n",
       "14911                 NaN               NaN            NaN               NaN   \n",
       "16274                 NaN               NaN            NaN               NaN   \n",
       "5698                  NaN               NaN            NaN               NaN   \n",
       "\n",
       "       ponds_nearest  days_exposition  \n",
       "8793             NaN             8.00  \n",
       "17456            NaN              NaN  \n",
       "14911            NaN            44.00  \n",
       "16274            NaN            45.00  \n",
       "5698             NaN           233.00  \n",
       "\n",
       "[5 rows x 22 columns]"
      ]
     },
     "execution_count": 28,
     "metadata": {},
     "output_type": "execute_result"
    }
   ],
   "source": [
    "df.sort_values('last_price').head()"
   ]
  },
  {
   "cell_type": "markdown",
   "metadata": {
    "id": "10e79EDPWMZu"
   },
   "source": [
    "Стоимость квартиры в Санкт-Петербурге за 12190, да ещё и за площадь 109 кв.м. смущает. А в населенных пунктах: Сланцы, Свирь, Старополье и Будогощь вполне вероятно. Стоит также отметить что года продаж 2017-2019. Удалим объявление о продаже квартиры в Санкт-Петербурге за 12190."
   ]
  },
  {
   "cell_type": "code",
   "execution_count": 29,
   "metadata": {
    "id": "JMKW-utKaBQf",
    "scrolled": true
   },
   "outputs": [
    {
     "name": "stderr",
     "output_type": "stream",
     "text": [
      "/opt/conda/lib/python3.9/site-packages/pandas/core/frame.py:4308: SettingWithCopyWarning: \n",
      "A value is trying to be set on a copy of a slice from a DataFrame\n",
      "\n",
      "See the caveats in the documentation: https://pandas.pydata.org/pandas-docs/stable/user_guide/indexing.html#returning-a-view-versus-a-copy\n",
      "  return super().drop(\n"
     ]
    }
   ],
   "source": [
    "df.drop(df[df['last_price'] == 12190.0].index, inplace=True)"
   ]
  },
  {
   "cell_type": "markdown",
   "metadata": {
    "id": "AZ6MRdHyaQoj"
   },
   "source": [
    "Проверим выполненное."
   ]
  },
  {
   "cell_type": "code",
   "execution_count": 30,
   "metadata": {
    "colab": {
     "base_uri": "https://localhost:8080/",
     "height": 299
    },
    "id": "MbpPovHlaPNM",
    "outputId": "c72dd318-96ab-41bb-9e40-063a5046e35c"
   },
   "outputs": [
    {
     "data": {
      "text/html": [
       "<div>\n",
       "<style scoped>\n",
       "    .dataframe tbody tr th:only-of-type {\n",
       "        vertical-align: middle;\n",
       "    }\n",
       "\n",
       "    .dataframe tbody tr th {\n",
       "        vertical-align: top;\n",
       "    }\n",
       "\n",
       "    .dataframe thead th {\n",
       "        text-align: right;\n",
       "    }\n",
       "</style>\n",
       "<table border=\"1\" class=\"dataframe\">\n",
       "  <thead>\n",
       "    <tr style=\"text-align: right;\">\n",
       "      <th></th>\n",
       "      <th>total_images</th>\n",
       "      <th>last_price</th>\n",
       "      <th>total_area</th>\n",
       "      <th>first_day_exposition</th>\n",
       "      <th>rooms</th>\n",
       "      <th>ceiling_height</th>\n",
       "      <th>floors_total</th>\n",
       "      <th>living_area</th>\n",
       "      <th>floor</th>\n",
       "      <th>is_apartment</th>\n",
       "      <th>...</th>\n",
       "      <th>kitchen_area</th>\n",
       "      <th>balcony</th>\n",
       "      <th>locality_name</th>\n",
       "      <th>airports_nearest</th>\n",
       "      <th>cityCenters_nearest</th>\n",
       "      <th>parks_around3000</th>\n",
       "      <th>parks_nearest</th>\n",
       "      <th>ponds_around3000</th>\n",
       "      <th>ponds_nearest</th>\n",
       "      <th>days_exposition</th>\n",
       "    </tr>\n",
       "  </thead>\n",
       "  <tbody>\n",
       "    <tr>\n",
       "      <th>14911</th>\n",
       "      <td>5</td>\n",
       "      <td>430000.00</td>\n",
       "      <td>54.00</td>\n",
       "      <td>2018-06-26</td>\n",
       "      <td>2</td>\n",
       "      <td>2.65</td>\n",
       "      <td>3.00</td>\n",
       "      <td>NaN</td>\n",
       "      <td>3</td>\n",
       "      <td>NaN</td>\n",
       "      <td>...</td>\n",
       "      <td>NaN</td>\n",
       "      <td>0</td>\n",
       "      <td>Свирь</td>\n",
       "      <td>NaN</td>\n",
       "      <td>NaN</td>\n",
       "      <td>NaN</td>\n",
       "      <td>NaN</td>\n",
       "      <td>NaN</td>\n",
       "      <td>NaN</td>\n",
       "      <td>44.00</td>\n",
       "    </tr>\n",
       "    <tr>\n",
       "      <th>17456</th>\n",
       "      <td>7</td>\n",
       "      <td>430000.00</td>\n",
       "      <td>30.40</td>\n",
       "      <td>2019-04-22</td>\n",
       "      <td>1</td>\n",
       "      <td>2.65</td>\n",
       "      <td>2.00</td>\n",
       "      <td>16.00</td>\n",
       "      <td>1</td>\n",
       "      <td>NaN</td>\n",
       "      <td>...</td>\n",
       "      <td>6.00</td>\n",
       "      <td>0</td>\n",
       "      <td>Сланцы</td>\n",
       "      <td>NaN</td>\n",
       "      <td>NaN</td>\n",
       "      <td>NaN</td>\n",
       "      <td>NaN</td>\n",
       "      <td>NaN</td>\n",
       "      <td>NaN</td>\n",
       "      <td>NaN</td>\n",
       "    </tr>\n",
       "    <tr>\n",
       "      <th>16274</th>\n",
       "      <td>18</td>\n",
       "      <td>440000.00</td>\n",
       "      <td>40.00</td>\n",
       "      <td>2018-07-10</td>\n",
       "      <td>1</td>\n",
       "      <td>2.65</td>\n",
       "      <td>5.00</td>\n",
       "      <td>NaN</td>\n",
       "      <td>1</td>\n",
       "      <td>NaN</td>\n",
       "      <td>...</td>\n",
       "      <td>NaN</td>\n",
       "      <td>0</td>\n",
       "      <td>Старополье</td>\n",
       "      <td>NaN</td>\n",
       "      <td>NaN</td>\n",
       "      <td>NaN</td>\n",
       "      <td>NaN</td>\n",
       "      <td>NaN</td>\n",
       "      <td>NaN</td>\n",
       "      <td>45.00</td>\n",
       "    </tr>\n",
       "    <tr>\n",
       "      <th>16219</th>\n",
       "      <td>14</td>\n",
       "      <td>450000.00</td>\n",
       "      <td>38.50</td>\n",
       "      <td>2018-07-11</td>\n",
       "      <td>2</td>\n",
       "      <td>2.65</td>\n",
       "      <td>2.00</td>\n",
       "      <td>NaN</td>\n",
       "      <td>1</td>\n",
       "      <td>NaN</td>\n",
       "      <td>...</td>\n",
       "      <td>NaN</td>\n",
       "      <td>0</td>\n",
       "      <td>Вахнова Кара</td>\n",
       "      <td>NaN</td>\n",
       "      <td>NaN</td>\n",
       "      <td>NaN</td>\n",
       "      <td>NaN</td>\n",
       "      <td>NaN</td>\n",
       "      <td>NaN</td>\n",
       "      <td>45.00</td>\n",
       "    </tr>\n",
       "    <tr>\n",
       "      <th>17676</th>\n",
       "      <td>0</td>\n",
       "      <td>450000.00</td>\n",
       "      <td>36.50</td>\n",
       "      <td>2018-02-01</td>\n",
       "      <td>1</td>\n",
       "      <td>2.65</td>\n",
       "      <td>5.00</td>\n",
       "      <td>17.30</td>\n",
       "      <td>4</td>\n",
       "      <td>NaN</td>\n",
       "      <td>...</td>\n",
       "      <td>8.50</td>\n",
       "      <td>1</td>\n",
       "      <td>Ям-Тесово</td>\n",
       "      <td>NaN</td>\n",
       "      <td>NaN</td>\n",
       "      <td>NaN</td>\n",
       "      <td>NaN</td>\n",
       "      <td>NaN</td>\n",
       "      <td>NaN</td>\n",
       "      <td>120.00</td>\n",
       "    </tr>\n",
       "  </tbody>\n",
       "</table>\n",
       "<p>5 rows × 22 columns</p>\n",
       "</div>"
      ],
      "text/plain": [
       "       total_images  last_price  total_area first_day_exposition  rooms  \\\n",
       "14911             5   430000.00       54.00           2018-06-26      2   \n",
       "17456             7   430000.00       30.40           2019-04-22      1   \n",
       "16274            18   440000.00       40.00           2018-07-10      1   \n",
       "16219            14   450000.00       38.50           2018-07-11      2   \n",
       "17676             0   450000.00       36.50           2018-02-01      1   \n",
       "\n",
       "       ceiling_height  floors_total  living_area  floor is_apartment  ...  \\\n",
       "14911            2.65          3.00          NaN      3          NaN  ...   \n",
       "17456            2.65          2.00        16.00      1          NaN  ...   \n",
       "16274            2.65          5.00          NaN      1          NaN  ...   \n",
       "16219            2.65          2.00          NaN      1          NaN  ...   \n",
       "17676            2.65          5.00        17.30      4          NaN  ...   \n",
       "\n",
       "       kitchen_area  balcony  locality_name  airports_nearest  \\\n",
       "14911           NaN        0          Свирь               NaN   \n",
       "17456          6.00        0         Сланцы               NaN   \n",
       "16274           NaN        0     Старополье               NaN   \n",
       "16219           NaN        0   Вахнова Кара               NaN   \n",
       "17676          8.50        1      Ям-Тесово               NaN   \n",
       "\n",
       "      cityCenters_nearest  parks_around3000  parks_nearest  ponds_around3000  \\\n",
       "14911                 NaN               NaN            NaN               NaN   \n",
       "17456                 NaN               NaN            NaN               NaN   \n",
       "16274                 NaN               NaN            NaN               NaN   \n",
       "16219                 NaN               NaN            NaN               NaN   \n",
       "17676                 NaN               NaN            NaN               NaN   \n",
       "\n",
       "       ponds_nearest  days_exposition  \n",
       "14911            NaN            44.00  \n",
       "17456            NaN              NaN  \n",
       "16274            NaN            45.00  \n",
       "16219            NaN            45.00  \n",
       "17676            NaN           120.00  \n",
       "\n",
       "[5 rows x 22 columns]"
      ]
     },
     "execution_count": 30,
     "metadata": {},
     "output_type": "execute_result"
    }
   ],
   "source": [
    "df.sort_values('last_price').head()"
   ]
  },
  {
   "cell_type": "markdown",
   "metadata": {
    "id": "6sFIetfMaxzh"
   },
   "source": [
    "С минимальными значениями разобрались, посмотрим что у нас на максимальных значениях. "
   ]
  },
  {
   "cell_type": "code",
   "execution_count": 31,
   "metadata": {
    "colab": {
     "base_uri": "https://localhost:8080/",
     "height": 386
    },
    "id": "4hOXuXrwab1e",
    "outputId": "b9949a42-c78d-4ae1-ba2f-36fe0d4b5201"
   },
   "outputs": [
    {
     "data": {
      "text/html": [
       "<div>\n",
       "<style scoped>\n",
       "    .dataframe tbody tr th:only-of-type {\n",
       "        vertical-align: middle;\n",
       "    }\n",
       "\n",
       "    .dataframe tbody tr th {\n",
       "        vertical-align: top;\n",
       "    }\n",
       "\n",
       "    .dataframe thead th {\n",
       "        text-align: right;\n",
       "    }\n",
       "</style>\n",
       "<table border=\"1\" class=\"dataframe\">\n",
       "  <thead>\n",
       "    <tr style=\"text-align: right;\">\n",
       "      <th></th>\n",
       "      <th>total_images</th>\n",
       "      <th>last_price</th>\n",
       "      <th>total_area</th>\n",
       "      <th>first_day_exposition</th>\n",
       "      <th>rooms</th>\n",
       "      <th>ceiling_height</th>\n",
       "      <th>floors_total</th>\n",
       "      <th>living_area</th>\n",
       "      <th>floor</th>\n",
       "      <th>is_apartment</th>\n",
       "      <th>...</th>\n",
       "      <th>kitchen_area</th>\n",
       "      <th>balcony</th>\n",
       "      <th>locality_name</th>\n",
       "      <th>airports_nearest</th>\n",
       "      <th>cityCenters_nearest</th>\n",
       "      <th>parks_around3000</th>\n",
       "      <th>parks_nearest</th>\n",
       "      <th>ponds_around3000</th>\n",
       "      <th>ponds_nearest</th>\n",
       "      <th>days_exposition</th>\n",
       "    </tr>\n",
       "  </thead>\n",
       "  <tbody>\n",
       "    <tr>\n",
       "      <th>12971</th>\n",
       "      <td>19</td>\n",
       "      <td>763000000.00</td>\n",
       "      <td>400.00</td>\n",
       "      <td>2017-09-30</td>\n",
       "      <td>7</td>\n",
       "      <td>2.65</td>\n",
       "      <td>10.00</td>\n",
       "      <td>250.00</td>\n",
       "      <td>10</td>\n",
       "      <td>NaN</td>\n",
       "      <td>...</td>\n",
       "      <td>NaN</td>\n",
       "      <td>2</td>\n",
       "      <td>Санкт-Петербург</td>\n",
       "      <td>25108.00</td>\n",
       "      <td>3956.00</td>\n",
       "      <td>1.00</td>\n",
       "      <td>530.00</td>\n",
       "      <td>3.00</td>\n",
       "      <td>756.00</td>\n",
       "      <td>33.00</td>\n",
       "    </tr>\n",
       "    <tr>\n",
       "      <th>19540</th>\n",
       "      <td>8</td>\n",
       "      <td>420000000.00</td>\n",
       "      <td>900.00</td>\n",
       "      <td>2017-12-06</td>\n",
       "      <td>12</td>\n",
       "      <td>2.80</td>\n",
       "      <td>25.00</td>\n",
       "      <td>409.70</td>\n",
       "      <td>25</td>\n",
       "      <td>NaN</td>\n",
       "      <td>...</td>\n",
       "      <td>112.00</td>\n",
       "      <td>0</td>\n",
       "      <td>Санкт-Петербург</td>\n",
       "      <td>30706.00</td>\n",
       "      <td>7877.00</td>\n",
       "      <td>0.00</td>\n",
       "      <td>NaN</td>\n",
       "      <td>2.00</td>\n",
       "      <td>318.00</td>\n",
       "      <td>106.00</td>\n",
       "    </tr>\n",
       "    <tr>\n",
       "      <th>14706</th>\n",
       "      <td>15</td>\n",
       "      <td>401300000.00</td>\n",
       "      <td>401.00</td>\n",
       "      <td>2016-02-20</td>\n",
       "      <td>5</td>\n",
       "      <td>2.65</td>\n",
       "      <td>9.00</td>\n",
       "      <td>204.00</td>\n",
       "      <td>9</td>\n",
       "      <td>False</td>\n",
       "      <td>...</td>\n",
       "      <td>24.00</td>\n",
       "      <td>3</td>\n",
       "      <td>Санкт-Петербург</td>\n",
       "      <td>21912.00</td>\n",
       "      <td>2389.00</td>\n",
       "      <td>1.00</td>\n",
       "      <td>545.00</td>\n",
       "      <td>1.00</td>\n",
       "      <td>478.00</td>\n",
       "      <td>393.00</td>\n",
       "    </tr>\n",
       "    <tr>\n",
       "      <th>1436</th>\n",
       "      <td>19</td>\n",
       "      <td>330000000.00</td>\n",
       "      <td>190.00</td>\n",
       "      <td>2018-04-04</td>\n",
       "      <td>3</td>\n",
       "      <td>3.50</td>\n",
       "      <td>7.00</td>\n",
       "      <td>95.00</td>\n",
       "      <td>5</td>\n",
       "      <td>NaN</td>\n",
       "      <td>...</td>\n",
       "      <td>40.00</td>\n",
       "      <td>0</td>\n",
       "      <td>Санкт-Петербург</td>\n",
       "      <td>23011.00</td>\n",
       "      <td>1197.00</td>\n",
       "      <td>3.00</td>\n",
       "      <td>519.00</td>\n",
       "      <td>3.00</td>\n",
       "      <td>285.00</td>\n",
       "      <td>233.00</td>\n",
       "    </tr>\n",
       "    <tr>\n",
       "      <th>15651</th>\n",
       "      <td>20</td>\n",
       "      <td>300000000.00</td>\n",
       "      <td>618.00</td>\n",
       "      <td>2017-12-18</td>\n",
       "      <td>7</td>\n",
       "      <td>3.40</td>\n",
       "      <td>7.00</td>\n",
       "      <td>258.00</td>\n",
       "      <td>5</td>\n",
       "      <td>NaN</td>\n",
       "      <td>...</td>\n",
       "      <td>70.00</td>\n",
       "      <td>0</td>\n",
       "      <td>Санкт-Петербург</td>\n",
       "      <td>32440.00</td>\n",
       "      <td>5297.00</td>\n",
       "      <td>0.00</td>\n",
       "      <td>NaN</td>\n",
       "      <td>2.00</td>\n",
       "      <td>198.00</td>\n",
       "      <td>111.00</td>\n",
       "    </tr>\n",
       "  </tbody>\n",
       "</table>\n",
       "<p>5 rows × 22 columns</p>\n",
       "</div>"
      ],
      "text/plain": [
       "       total_images   last_price  total_area first_day_exposition  rooms  \\\n",
       "12971            19 763000000.00      400.00           2017-09-30      7   \n",
       "19540             8 420000000.00      900.00           2017-12-06     12   \n",
       "14706            15 401300000.00      401.00           2016-02-20      5   \n",
       "1436             19 330000000.00      190.00           2018-04-04      3   \n",
       "15651            20 300000000.00      618.00           2017-12-18      7   \n",
       "\n",
       "       ceiling_height  floors_total  living_area  floor is_apartment  ...  \\\n",
       "12971            2.65         10.00       250.00     10          NaN  ...   \n",
       "19540            2.80         25.00       409.70     25          NaN  ...   \n",
       "14706            2.65          9.00       204.00      9        False  ...   \n",
       "1436             3.50          7.00        95.00      5          NaN  ...   \n",
       "15651            3.40          7.00       258.00      5          NaN  ...   \n",
       "\n",
       "       kitchen_area  balcony    locality_name  airports_nearest  \\\n",
       "12971           NaN        2  Санкт-Петербург          25108.00   \n",
       "19540        112.00        0  Санкт-Петербург          30706.00   \n",
       "14706         24.00        3  Санкт-Петербург          21912.00   \n",
       "1436          40.00        0  Санкт-Петербург          23011.00   \n",
       "15651         70.00        0  Санкт-Петербург          32440.00   \n",
       "\n",
       "      cityCenters_nearest  parks_around3000  parks_nearest  ponds_around3000  \\\n",
       "12971             3956.00              1.00         530.00              3.00   \n",
       "19540             7877.00              0.00            NaN              2.00   \n",
       "14706             2389.00              1.00         545.00              1.00   \n",
       "1436              1197.00              3.00         519.00              3.00   \n",
       "15651             5297.00              0.00            NaN              2.00   \n",
       "\n",
       "       ponds_nearest  days_exposition  \n",
       "12971         756.00            33.00  \n",
       "19540         318.00           106.00  \n",
       "14706         478.00           393.00  \n",
       "1436          285.00           233.00  \n",
       "15651         198.00           111.00  \n",
       "\n",
       "[5 rows x 22 columns]"
      ]
     },
     "execution_count": 31,
     "metadata": {},
     "output_type": "execute_result"
    }
   ],
   "source": [
    "df.sort_values('last_price',ascending=False).head()"
   ]
  },
  {
   "cell_type": "markdown",
   "metadata": {
    "id": "wNagammaa_Dz"
   },
   "source": [
    "Стоимость квартир с площадью более 400 кв.м. в 3 км от центра города Санкт-Петербург выглядят логично и без ошибок. Проверим цены квартир со следующими параметрами: квартиры не в городе Санкт-Петербург, менее 100 кв.м. и дороже 10 млн. "
   ]
  },
  {
   "cell_type": "code",
   "execution_count": 32,
   "metadata": {
    "colab": {
     "base_uri": "https://localhost:8080/",
     "height": 1000
    },
    "id": "5hyi-oNVbYsD",
    "outputId": "961fb72a-473c-489b-93ea-9c213374b1a2"
   },
   "outputs": [
    {
     "data": {
      "text/html": [
       "<div>\n",
       "<style scoped>\n",
       "    .dataframe tbody tr th:only-of-type {\n",
       "        vertical-align: middle;\n",
       "    }\n",
       "\n",
       "    .dataframe tbody tr th {\n",
       "        vertical-align: top;\n",
       "    }\n",
       "\n",
       "    .dataframe thead th {\n",
       "        text-align: right;\n",
       "    }\n",
       "</style>\n",
       "<table border=\"1\" class=\"dataframe\">\n",
       "  <thead>\n",
       "    <tr style=\"text-align: right;\">\n",
       "      <th></th>\n",
       "      <th>total_images</th>\n",
       "      <th>last_price</th>\n",
       "      <th>total_area</th>\n",
       "      <th>first_day_exposition</th>\n",
       "      <th>rooms</th>\n",
       "      <th>ceiling_height</th>\n",
       "      <th>floors_total</th>\n",
       "      <th>living_area</th>\n",
       "      <th>floor</th>\n",
       "      <th>is_apartment</th>\n",
       "      <th>...</th>\n",
       "      <th>kitchen_area</th>\n",
       "      <th>balcony</th>\n",
       "      <th>locality_name</th>\n",
       "      <th>airports_nearest</th>\n",
       "      <th>cityCenters_nearest</th>\n",
       "      <th>parks_around3000</th>\n",
       "      <th>parks_nearest</th>\n",
       "      <th>ponds_around3000</th>\n",
       "      <th>ponds_nearest</th>\n",
       "      <th>days_exposition</th>\n",
       "    </tr>\n",
       "  </thead>\n",
       "  <tbody>\n",
       "    <tr>\n",
       "      <th>21238</th>\n",
       "      <td>1</td>\n",
       "      <td>24412900.00</td>\n",
       "      <td>38.12</td>\n",
       "      <td>2018-06-27</td>\n",
       "      <td>1</td>\n",
       "      <td>2.65</td>\n",
       "      <td>10.00</td>\n",
       "      <td>16.83</td>\n",
       "      <td>4</td>\n",
       "      <td>False</td>\n",
       "      <td>...</td>\n",
       "      <td>10.70</td>\n",
       "      <td>1</td>\n",
       "      <td>Всеволожск</td>\n",
       "      <td>NaN</td>\n",
       "      <td>NaN</td>\n",
       "      <td>NaN</td>\n",
       "      <td>NaN</td>\n",
       "      <td>NaN</td>\n",
       "      <td>NaN</td>\n",
       "      <td>44.00</td>\n",
       "    </tr>\n",
       "    <tr>\n",
       "      <th>15037</th>\n",
       "      <td>9</td>\n",
       "      <td>23000000.00</td>\n",
       "      <td>71.00</td>\n",
       "      <td>2017-05-15</td>\n",
       "      <td>2</td>\n",
       "      <td>3.30</td>\n",
       "      <td>4.00</td>\n",
       "      <td>31.00</td>\n",
       "      <td>2</td>\n",
       "      <td>False</td>\n",
       "      <td>...</td>\n",
       "      <td>24.50</td>\n",
       "      <td>2</td>\n",
       "      <td>Зеленогорск</td>\n",
       "      <td>70016.00</td>\n",
       "      <td>51115.00</td>\n",
       "      <td>0.00</td>\n",
       "      <td>NaN</td>\n",
       "      <td>0.00</td>\n",
       "      <td>NaN</td>\n",
       "      <td>90.00</td>\n",
       "    </tr>\n",
       "    <tr>\n",
       "      <th>14185</th>\n",
       "      <td>10</td>\n",
       "      <td>17212500.00</td>\n",
       "      <td>76.50</td>\n",
       "      <td>2015-09-03</td>\n",
       "      <td>2</td>\n",
       "      <td>2.65</td>\n",
       "      <td>4.00</td>\n",
       "      <td>30.20</td>\n",
       "      <td>2</td>\n",
       "      <td>NaN</td>\n",
       "      <td>...</td>\n",
       "      <td>23.90</td>\n",
       "      <td>0</td>\n",
       "      <td>Зеленогорск</td>\n",
       "      <td>70016.00</td>\n",
       "      <td>51115.00</td>\n",
       "      <td>0.00</td>\n",
       "      <td>NaN</td>\n",
       "      <td>0.00</td>\n",
       "      <td>NaN</td>\n",
       "      <td>NaN</td>\n",
       "    </tr>\n",
       "    <tr>\n",
       "      <th>15582</th>\n",
       "      <td>20</td>\n",
       "      <td>16990000.00</td>\n",
       "      <td>93.00</td>\n",
       "      <td>2017-11-08</td>\n",
       "      <td>3</td>\n",
       "      <td>3.10</td>\n",
       "      <td>4.00</td>\n",
       "      <td>49.00</td>\n",
       "      <td>3</td>\n",
       "      <td>NaN</td>\n",
       "      <td>...</td>\n",
       "      <td>14.00</td>\n",
       "      <td>2</td>\n",
       "      <td>Сестрорецк</td>\n",
       "      <td>58290.00</td>\n",
       "      <td>35219.00</td>\n",
       "      <td>2.00</td>\n",
       "      <td>633.00</td>\n",
       "      <td>1.00</td>\n",
       "      <td>320.00</td>\n",
       "      <td>30.00</td>\n",
       "    </tr>\n",
       "    <tr>\n",
       "      <th>3773</th>\n",
       "      <td>20</td>\n",
       "      <td>15300000.00</td>\n",
       "      <td>92.20</td>\n",
       "      <td>2019-03-14</td>\n",
       "      <td>3</td>\n",
       "      <td>4.00</td>\n",
       "      <td>4.00</td>\n",
       "      <td>55.80</td>\n",
       "      <td>4</td>\n",
       "      <td>NaN</td>\n",
       "      <td>...</td>\n",
       "      <td>14.80</td>\n",
       "      <td>1</td>\n",
       "      <td>Сестрорецк</td>\n",
       "      <td>53952.00</td>\n",
       "      <td>35051.00</td>\n",
       "      <td>0.00</td>\n",
       "      <td>NaN</td>\n",
       "      <td>0.00</td>\n",
       "      <td>NaN</td>\n",
       "      <td>NaN</td>\n",
       "    </tr>\n",
       "    <tr>\n",
       "      <th>12466</th>\n",
       "      <td>11</td>\n",
       "      <td>15000000.00</td>\n",
       "      <td>89.60</td>\n",
       "      <td>2017-01-31</td>\n",
       "      <td>3</td>\n",
       "      <td>2.65</td>\n",
       "      <td>3.00</td>\n",
       "      <td>57.00</td>\n",
       "      <td>3</td>\n",
       "      <td>NaN</td>\n",
       "      <td>...</td>\n",
       "      <td>13.50</td>\n",
       "      <td>0</td>\n",
       "      <td>Пушкин</td>\n",
       "      <td>15065.00</td>\n",
       "      <td>27218.00</td>\n",
       "      <td>3.00</td>\n",
       "      <td>317.00</td>\n",
       "      <td>3.00</td>\n",
       "      <td>509.00</td>\n",
       "      <td>357.00</td>\n",
       "    </tr>\n",
       "    <tr>\n",
       "      <th>11499</th>\n",
       "      <td>20</td>\n",
       "      <td>14500000.00</td>\n",
       "      <td>97.80</td>\n",
       "      <td>2018-03-06</td>\n",
       "      <td>3</td>\n",
       "      <td>2.55</td>\n",
       "      <td>4.00</td>\n",
       "      <td>68.80</td>\n",
       "      <td>2</td>\n",
       "      <td>NaN</td>\n",
       "      <td>...</td>\n",
       "      <td>13.10</td>\n",
       "      <td>0</td>\n",
       "      <td>Пушкин</td>\n",
       "      <td>14014.00</td>\n",
       "      <td>26167.00</td>\n",
       "      <td>1.00</td>\n",
       "      <td>609.00</td>\n",
       "      <td>0.00</td>\n",
       "      <td>NaN</td>\n",
       "      <td>256.00</td>\n",
       "    </tr>\n",
       "    <tr>\n",
       "      <th>6641</th>\n",
       "      <td>20</td>\n",
       "      <td>13900000.00</td>\n",
       "      <td>95.00</td>\n",
       "      <td>2019-03-11</td>\n",
       "      <td>4</td>\n",
       "      <td>2.65</td>\n",
       "      <td>3.00</td>\n",
       "      <td>68.00</td>\n",
       "      <td>2</td>\n",
       "      <td>NaN</td>\n",
       "      <td>...</td>\n",
       "      <td>14.50</td>\n",
       "      <td>0</td>\n",
       "      <td>Гатчина</td>\n",
       "      <td>NaN</td>\n",
       "      <td>NaN</td>\n",
       "      <td>NaN</td>\n",
       "      <td>NaN</td>\n",
       "      <td>NaN</td>\n",
       "      <td>NaN</td>\n",
       "      <td>NaN</td>\n",
       "    </tr>\n",
       "    <tr>\n",
       "      <th>13295</th>\n",
       "      <td>20</td>\n",
       "      <td>13333000.00</td>\n",
       "      <td>84.00</td>\n",
       "      <td>2017-02-07</td>\n",
       "      <td>2</td>\n",
       "      <td>2.65</td>\n",
       "      <td>4.00</td>\n",
       "      <td>42.00</td>\n",
       "      <td>3</td>\n",
       "      <td>NaN</td>\n",
       "      <td>...</td>\n",
       "      <td>16.00</td>\n",
       "      <td>1</td>\n",
       "      <td>Сестрорецк</td>\n",
       "      <td>58290.00</td>\n",
       "      <td>35219.00</td>\n",
       "      <td>2.00</td>\n",
       "      <td>633.00</td>\n",
       "      <td>1.00</td>\n",
       "      <td>320.00</td>\n",
       "      <td>64.00</td>\n",
       "    </tr>\n",
       "    <tr>\n",
       "      <th>21646</th>\n",
       "      <td>20</td>\n",
       "      <td>12800000.00</td>\n",
       "      <td>79.80</td>\n",
       "      <td>2019-03-23</td>\n",
       "      <td>3</td>\n",
       "      <td>2.80</td>\n",
       "      <td>14.00</td>\n",
       "      <td>43.00</td>\n",
       "      <td>2</td>\n",
       "      <td>NaN</td>\n",
       "      <td>...</td>\n",
       "      <td>12.00</td>\n",
       "      <td>2</td>\n",
       "      <td>Кудрово</td>\n",
       "      <td>NaN</td>\n",
       "      <td>NaN</td>\n",
       "      <td>NaN</td>\n",
       "      <td>NaN</td>\n",
       "      <td>NaN</td>\n",
       "      <td>NaN</td>\n",
       "      <td>NaN</td>\n",
       "    </tr>\n",
       "    <tr>\n",
       "      <th>543</th>\n",
       "      <td>11</td>\n",
       "      <td>12790000.00</td>\n",
       "      <td>56.60</td>\n",
       "      <td>2018-11-06</td>\n",
       "      <td>2</td>\n",
       "      <td>3.50</td>\n",
       "      <td>3.00</td>\n",
       "      <td>29.40</td>\n",
       "      <td>1</td>\n",
       "      <td>True</td>\n",
       "      <td>...</td>\n",
       "      <td>NaN</td>\n",
       "      <td>0</td>\n",
       "      <td>Петергоф</td>\n",
       "      <td>35248.00</td>\n",
       "      <td>30437.00</td>\n",
       "      <td>3.00</td>\n",
       "      <td>53.00</td>\n",
       "      <td>3.00</td>\n",
       "      <td>22.00</td>\n",
       "      <td>NaN</td>\n",
       "    </tr>\n",
       "    <tr>\n",
       "      <th>4400</th>\n",
       "      <td>4</td>\n",
       "      <td>12300000.00</td>\n",
       "      <td>78.65</td>\n",
       "      <td>2017-09-09</td>\n",
       "      <td>3</td>\n",
       "      <td>2.65</td>\n",
       "      <td>5.00</td>\n",
       "      <td>48.00</td>\n",
       "      <td>1</td>\n",
       "      <td>NaN</td>\n",
       "      <td>...</td>\n",
       "      <td>11.00</td>\n",
       "      <td>0</td>\n",
       "      <td>Пушкин</td>\n",
       "      <td>14567.00</td>\n",
       "      <td>26720.00</td>\n",
       "      <td>2.00</td>\n",
       "      <td>403.00</td>\n",
       "      <td>0.00</td>\n",
       "      <td>NaN</td>\n",
       "      <td>4.00</td>\n",
       "    </tr>\n",
       "    <tr>\n",
       "      <th>499</th>\n",
       "      <td>9</td>\n",
       "      <td>12200000.00</td>\n",
       "      <td>77.70</td>\n",
       "      <td>2017-11-28</td>\n",
       "      <td>2</td>\n",
       "      <td>2.65</td>\n",
       "      <td>5.00</td>\n",
       "      <td>30.00</td>\n",
       "      <td>5</td>\n",
       "      <td>NaN</td>\n",
       "      <td>...</td>\n",
       "      <td>25.00</td>\n",
       "      <td>1</td>\n",
       "      <td>Пушкин</td>\n",
       "      <td>14066.00</td>\n",
       "      <td>26219.00</td>\n",
       "      <td>1.00</td>\n",
       "      <td>702.00</td>\n",
       "      <td>0.00</td>\n",
       "      <td>NaN</td>\n",
       "      <td>22.00</td>\n",
       "    </tr>\n",
       "    <tr>\n",
       "      <th>18453</th>\n",
       "      <td>15</td>\n",
       "      <td>11500000.00</td>\n",
       "      <td>78.30</td>\n",
       "      <td>2018-04-04</td>\n",
       "      <td>2</td>\n",
       "      <td>3.00</td>\n",
       "      <td>5.00</td>\n",
       "      <td>47.70</td>\n",
       "      <td>3</td>\n",
       "      <td>NaN</td>\n",
       "      <td>...</td>\n",
       "      <td>9.80</td>\n",
       "      <td>0</td>\n",
       "      <td>Сестрорецк</td>\n",
       "      <td>57806.00</td>\n",
       "      <td>34735.00</td>\n",
       "      <td>3.00</td>\n",
       "      <td>478.00</td>\n",
       "      <td>2.00</td>\n",
       "      <td>649.00</td>\n",
       "      <td>62.00</td>\n",
       "    </tr>\n",
       "    <tr>\n",
       "      <th>2948</th>\n",
       "      <td>23</td>\n",
       "      <td>11350000.00</td>\n",
       "      <td>75.00</td>\n",
       "      <td>2017-08-15</td>\n",
       "      <td>3</td>\n",
       "      <td>3.50</td>\n",
       "      <td>2.00</td>\n",
       "      <td>52.70</td>\n",
       "      <td>2</td>\n",
       "      <td>NaN</td>\n",
       "      <td>...</td>\n",
       "      <td>8.70</td>\n",
       "      <td>4</td>\n",
       "      <td>Пушкин</td>\n",
       "      <td>15337.00</td>\n",
       "      <td>27490.00</td>\n",
       "      <td>3.00</td>\n",
       "      <td>216.00</td>\n",
       "      <td>3.00</td>\n",
       "      <td>153.00</td>\n",
       "      <td>207.00</td>\n",
       "    </tr>\n",
       "    <tr>\n",
       "      <th>22217</th>\n",
       "      <td>12</td>\n",
       "      <td>11300000.00</td>\n",
       "      <td>70.00</td>\n",
       "      <td>2018-07-23</td>\n",
       "      <td>2</td>\n",
       "      <td>2.98</td>\n",
       "      <td>3.00</td>\n",
       "      <td>40.00</td>\n",
       "      <td>2</td>\n",
       "      <td>NaN</td>\n",
       "      <td>...</td>\n",
       "      <td>10.40</td>\n",
       "      <td>0</td>\n",
       "      <td>Павловск</td>\n",
       "      <td>20367.00</td>\n",
       "      <td>32521.00</td>\n",
       "      <td>3.00</td>\n",
       "      <td>310.00</td>\n",
       "      <td>3.00</td>\n",
       "      <td>383.00</td>\n",
       "      <td>130.00</td>\n",
       "    </tr>\n",
       "    <tr>\n",
       "      <th>2669</th>\n",
       "      <td>9</td>\n",
       "      <td>11300000.00</td>\n",
       "      <td>77.00</td>\n",
       "      <td>2018-07-07</td>\n",
       "      <td>3</td>\n",
       "      <td>2.80</td>\n",
       "      <td>4.00</td>\n",
       "      <td>NaN</td>\n",
       "      <td>2</td>\n",
       "      <td>NaN</td>\n",
       "      <td>...</td>\n",
       "      <td>NaN</td>\n",
       "      <td>0</td>\n",
       "      <td>Сестрорецк</td>\n",
       "      <td>54416.00</td>\n",
       "      <td>35515.00</td>\n",
       "      <td>0.00</td>\n",
       "      <td>NaN</td>\n",
       "      <td>0.00</td>\n",
       "      <td>NaN</td>\n",
       "      <td>90.00</td>\n",
       "    </tr>\n",
       "    <tr>\n",
       "      <th>22791</th>\n",
       "      <td>12</td>\n",
       "      <td>11100000.00</td>\n",
       "      <td>74.00</td>\n",
       "      <td>2018-04-07</td>\n",
       "      <td>2</td>\n",
       "      <td>2.80</td>\n",
       "      <td>3.00</td>\n",
       "      <td>38.10</td>\n",
       "      <td>2</td>\n",
       "      <td>NaN</td>\n",
       "      <td>...</td>\n",
       "      <td>10.70</td>\n",
       "      <td>1</td>\n",
       "      <td>Петергоф</td>\n",
       "      <td>35438.00</td>\n",
       "      <td>30627.00</td>\n",
       "      <td>2.00</td>\n",
       "      <td>13.00</td>\n",
       "      <td>0.00</td>\n",
       "      <td>NaN</td>\n",
       "      <td>NaN</td>\n",
       "    </tr>\n",
       "    <tr>\n",
       "      <th>20979</th>\n",
       "      <td>20</td>\n",
       "      <td>11000000.00</td>\n",
       "      <td>97.00</td>\n",
       "      <td>2017-04-23</td>\n",
       "      <td>3</td>\n",
       "      <td>3.00</td>\n",
       "      <td>4.00</td>\n",
       "      <td>58.00</td>\n",
       "      <td>2</td>\n",
       "      <td>False</td>\n",
       "      <td>...</td>\n",
       "      <td>14.00</td>\n",
       "      <td>2</td>\n",
       "      <td>Сестрорецк</td>\n",
       "      <td>54331.00</td>\n",
       "      <td>35394.00</td>\n",
       "      <td>0.00</td>\n",
       "      <td>NaN</td>\n",
       "      <td>0.00</td>\n",
       "      <td>NaN</td>\n",
       "      <td>189.00</td>\n",
       "    </tr>\n",
       "    <tr>\n",
       "      <th>22941</th>\n",
       "      <td>8</td>\n",
       "      <td>10965000.00</td>\n",
       "      <td>69.30</td>\n",
       "      <td>2019-01-10</td>\n",
       "      <td>1</td>\n",
       "      <td>3.00</td>\n",
       "      <td>4.00</td>\n",
       "      <td>48.90</td>\n",
       "      <td>4</td>\n",
       "      <td>True</td>\n",
       "      <td>...</td>\n",
       "      <td>NaN</td>\n",
       "      <td>2</td>\n",
       "      <td>Зеленогорск</td>\n",
       "      <td>73391.00</td>\n",
       "      <td>54490.00</td>\n",
       "      <td>3.00</td>\n",
       "      <td>4.00</td>\n",
       "      <td>1.00</td>\n",
       "      <td>217.00</td>\n",
       "      <td>110.00</td>\n",
       "    </tr>\n",
       "    <tr>\n",
       "      <th>10604</th>\n",
       "      <td>20</td>\n",
       "      <td>10898000.00</td>\n",
       "      <td>78.30</td>\n",
       "      <td>2019-04-20</td>\n",
       "      <td>3</td>\n",
       "      <td>2.75</td>\n",
       "      <td>18.00</td>\n",
       "      <td>53.00</td>\n",
       "      <td>15</td>\n",
       "      <td>NaN</td>\n",
       "      <td>...</td>\n",
       "      <td>5.50</td>\n",
       "      <td>3</td>\n",
       "      <td>Кудрово</td>\n",
       "      <td>NaN</td>\n",
       "      <td>NaN</td>\n",
       "      <td>NaN</td>\n",
       "      <td>NaN</td>\n",
       "      <td>NaN</td>\n",
       "      <td>NaN</td>\n",
       "      <td>NaN</td>\n",
       "    </tr>\n",
       "    <tr>\n",
       "      <th>11498</th>\n",
       "      <td>6</td>\n",
       "      <td>10890000.00</td>\n",
       "      <td>80.00</td>\n",
       "      <td>2018-06-11</td>\n",
       "      <td>2</td>\n",
       "      <td>2.65</td>\n",
       "      <td>3.00</td>\n",
       "      <td>40.00</td>\n",
       "      <td>2</td>\n",
       "      <td>NaN</td>\n",
       "      <td>...</td>\n",
       "      <td>12.00</td>\n",
       "      <td>0</td>\n",
       "      <td>Всеволожск</td>\n",
       "      <td>NaN</td>\n",
       "      <td>NaN</td>\n",
       "      <td>NaN</td>\n",
       "      <td>NaN</td>\n",
       "      <td>NaN</td>\n",
       "      <td>NaN</td>\n",
       "      <td>308.00</td>\n",
       "    </tr>\n",
       "    <tr>\n",
       "      <th>7669</th>\n",
       "      <td>15</td>\n",
       "      <td>10800000.00</td>\n",
       "      <td>94.00</td>\n",
       "      <td>2019-02-21</td>\n",
       "      <td>2</td>\n",
       "      <td>3.00</td>\n",
       "      <td>3.00</td>\n",
       "      <td>40.00</td>\n",
       "      <td>1</td>\n",
       "      <td>NaN</td>\n",
       "      <td>...</td>\n",
       "      <td>28.00</td>\n",
       "      <td>0</td>\n",
       "      <td>Павловск</td>\n",
       "      <td>20730.00</td>\n",
       "      <td>32883.00</td>\n",
       "      <td>2.00</td>\n",
       "      <td>482.00</td>\n",
       "      <td>1.00</td>\n",
       "      <td>889.00</td>\n",
       "      <td>NaN</td>\n",
       "    </tr>\n",
       "    <tr>\n",
       "      <th>20766</th>\n",
       "      <td>11</td>\n",
       "      <td>10500000.00</td>\n",
       "      <td>87.60</td>\n",
       "      <td>2018-02-07</td>\n",
       "      <td>3</td>\n",
       "      <td>2.65</td>\n",
       "      <td>5.00</td>\n",
       "      <td>55.38</td>\n",
       "      <td>5</td>\n",
       "      <td>NaN</td>\n",
       "      <td>...</td>\n",
       "      <td>13.20</td>\n",
       "      <td>1</td>\n",
       "      <td>Пушкин</td>\n",
       "      <td>20562.00</td>\n",
       "      <td>30937.00</td>\n",
       "      <td>0.00</td>\n",
       "      <td>NaN</td>\n",
       "      <td>1.00</td>\n",
       "      <td>349.00</td>\n",
       "      <td>19.00</td>\n",
       "    </tr>\n",
       "    <tr>\n",
       "      <th>20190</th>\n",
       "      <td>2</td>\n",
       "      <td>10500000.00</td>\n",
       "      <td>85.00</td>\n",
       "      <td>2019-01-08</td>\n",
       "      <td>3</td>\n",
       "      <td>3.00</td>\n",
       "      <td>3.00</td>\n",
       "      <td>55.50</td>\n",
       "      <td>2</td>\n",
       "      <td>NaN</td>\n",
       "      <td>...</td>\n",
       "      <td>8.00</td>\n",
       "      <td>1</td>\n",
       "      <td>Пушкин</td>\n",
       "      <td>15527.00</td>\n",
       "      <td>NaN</td>\n",
       "      <td>1.00</td>\n",
       "      <td>134.00</td>\n",
       "      <td>0.00</td>\n",
       "      <td>NaN</td>\n",
       "      <td>NaN</td>\n",
       "    </tr>\n",
       "    <tr>\n",
       "      <th>17178</th>\n",
       "      <td>9</td>\n",
       "      <td>10348000.00</td>\n",
       "      <td>77.00</td>\n",
       "      <td>2016-06-21</td>\n",
       "      <td>2</td>\n",
       "      <td>2.90</td>\n",
       "      <td>4.00</td>\n",
       "      <td>40.00</td>\n",
       "      <td>2</td>\n",
       "      <td>NaN</td>\n",
       "      <td>...</td>\n",
       "      <td>14.00</td>\n",
       "      <td>0</td>\n",
       "      <td>Сестрорецк</td>\n",
       "      <td>52873.00</td>\n",
       "      <td>33972.00</td>\n",
       "      <td>0.00</td>\n",
       "      <td>NaN</td>\n",
       "      <td>1.00</td>\n",
       "      <td>89.00</td>\n",
       "      <td>114.00</td>\n",
       "    </tr>\n",
       "    <tr>\n",
       "      <th>11128</th>\n",
       "      <td>12</td>\n",
       "      <td>10300000.00</td>\n",
       "      <td>80.50</td>\n",
       "      <td>2018-02-01</td>\n",
       "      <td>3</td>\n",
       "      <td>4.20</td>\n",
       "      <td>5.00</td>\n",
       "      <td>37.00</td>\n",
       "      <td>5</td>\n",
       "      <td>NaN</td>\n",
       "      <td>...</td>\n",
       "      <td>34.00</td>\n",
       "      <td>1</td>\n",
       "      <td>Пушкин</td>\n",
       "      <td>19907.00</td>\n",
       "      <td>32061.00</td>\n",
       "      <td>0.00</td>\n",
       "      <td>NaN</td>\n",
       "      <td>0.00</td>\n",
       "      <td>NaN</td>\n",
       "      <td>105.00</td>\n",
       "    </tr>\n",
       "    <tr>\n",
       "      <th>12640</th>\n",
       "      <td>20</td>\n",
       "      <td>10300000.00</td>\n",
       "      <td>75.50</td>\n",
       "      <td>2019-03-21</td>\n",
       "      <td>2</td>\n",
       "      <td>3.00</td>\n",
       "      <td>2.00</td>\n",
       "      <td>42.50</td>\n",
       "      <td>2</td>\n",
       "      <td>NaN</td>\n",
       "      <td>...</td>\n",
       "      <td>13.20</td>\n",
       "      <td>0</td>\n",
       "      <td>Всеволожск</td>\n",
       "      <td>NaN</td>\n",
       "      <td>NaN</td>\n",
       "      <td>NaN</td>\n",
       "      <td>NaN</td>\n",
       "      <td>NaN</td>\n",
       "      <td>NaN</td>\n",
       "      <td>NaN</td>\n",
       "    </tr>\n",
       "    <tr>\n",
       "      <th>21980</th>\n",
       "      <td>20</td>\n",
       "      <td>10100000.00</td>\n",
       "      <td>99.00</td>\n",
       "      <td>2018-02-28</td>\n",
       "      <td>3</td>\n",
       "      <td>2.80</td>\n",
       "      <td>7.00</td>\n",
       "      <td>49.00</td>\n",
       "      <td>7</td>\n",
       "      <td>NaN</td>\n",
       "      <td>...</td>\n",
       "      <td>16.00</td>\n",
       "      <td>0</td>\n",
       "      <td>Петергоф</td>\n",
       "      <td>44949.00</td>\n",
       "      <td>48374.00</td>\n",
       "      <td>0.00</td>\n",
       "      <td>NaN</td>\n",
       "      <td>0.00</td>\n",
       "      <td>NaN</td>\n",
       "      <td>84.00</td>\n",
       "    </tr>\n",
       "    <tr>\n",
       "      <th>12075</th>\n",
       "      <td>17</td>\n",
       "      <td>10050000.00</td>\n",
       "      <td>91.40</td>\n",
       "      <td>2017-08-19</td>\n",
       "      <td>3</td>\n",
       "      <td>2.70</td>\n",
       "      <td>10.00</td>\n",
       "      <td>53.80</td>\n",
       "      <td>4</td>\n",
       "      <td>NaN</td>\n",
       "      <td>...</td>\n",
       "      <td>13.10</td>\n",
       "      <td>0</td>\n",
       "      <td>Пушкин</td>\n",
       "      <td>18539.00</td>\n",
       "      <td>30693.00</td>\n",
       "      <td>1.00</td>\n",
       "      <td>700.00</td>\n",
       "      <td>1.00</td>\n",
       "      <td>709.00</td>\n",
       "      <td>612.00</td>\n",
       "    </tr>\n",
       "    <tr>\n",
       "      <th>21589</th>\n",
       "      <td>17</td>\n",
       "      <td>10000000.00</td>\n",
       "      <td>75.00</td>\n",
       "      <td>2018-07-13</td>\n",
       "      <td>2</td>\n",
       "      <td>3.00</td>\n",
       "      <td>3.00</td>\n",
       "      <td>46.00</td>\n",
       "      <td>2</td>\n",
       "      <td>NaN</td>\n",
       "      <td>...</td>\n",
       "      <td>16.00</td>\n",
       "      <td>0</td>\n",
       "      <td>Всеволожск</td>\n",
       "      <td>NaN</td>\n",
       "      <td>NaN</td>\n",
       "      <td>NaN</td>\n",
       "      <td>NaN</td>\n",
       "      <td>NaN</td>\n",
       "      <td>NaN</td>\n",
       "      <td>74.00</td>\n",
       "    </tr>\n",
       "    <tr>\n",
       "      <th>10151</th>\n",
       "      <td>26</td>\n",
       "      <td>10000000.00</td>\n",
       "      <td>70.00</td>\n",
       "      <td>2017-11-09</td>\n",
       "      <td>2</td>\n",
       "      <td>2.65</td>\n",
       "      <td>20.00</td>\n",
       "      <td>47.00</td>\n",
       "      <td>12</td>\n",
       "      <td>NaN</td>\n",
       "      <td>...</td>\n",
       "      <td>12.00</td>\n",
       "      <td>2</td>\n",
       "      <td>Кудрово</td>\n",
       "      <td>NaN</td>\n",
       "      <td>NaN</td>\n",
       "      <td>NaN</td>\n",
       "      <td>NaN</td>\n",
       "      <td>NaN</td>\n",
       "      <td>NaN</td>\n",
       "      <td>36.00</td>\n",
       "    </tr>\n",
       "    <tr>\n",
       "      <th>22782</th>\n",
       "      <td>20</td>\n",
       "      <td>10000000.00</td>\n",
       "      <td>81.40</td>\n",
       "      <td>2018-07-07</td>\n",
       "      <td>3</td>\n",
       "      <td>2.74</td>\n",
       "      <td>4.00</td>\n",
       "      <td>47.00</td>\n",
       "      <td>3</td>\n",
       "      <td>NaN</td>\n",
       "      <td>...</td>\n",
       "      <td>11.00</td>\n",
       "      <td>0</td>\n",
       "      <td>Пушкин</td>\n",
       "      <td>18724.00</td>\n",
       "      <td>30878.00</td>\n",
       "      <td>1.00</td>\n",
       "      <td>569.00</td>\n",
       "      <td>0.00</td>\n",
       "      <td>NaN</td>\n",
       "      <td>NaN</td>\n",
       "    </tr>\n",
       "  </tbody>\n",
       "</table>\n",
       "<p>33 rows × 22 columns</p>\n",
       "</div>"
      ],
      "text/plain": [
       "       total_images  last_price  total_area first_day_exposition  rooms  \\\n",
       "21238             1 24412900.00       38.12           2018-06-27      1   \n",
       "15037             9 23000000.00       71.00           2017-05-15      2   \n",
       "14185            10 17212500.00       76.50           2015-09-03      2   \n",
       "15582            20 16990000.00       93.00           2017-11-08      3   \n",
       "3773             20 15300000.00       92.20           2019-03-14      3   \n",
       "12466            11 15000000.00       89.60           2017-01-31      3   \n",
       "11499            20 14500000.00       97.80           2018-03-06      3   \n",
       "6641             20 13900000.00       95.00           2019-03-11      4   \n",
       "13295            20 13333000.00       84.00           2017-02-07      2   \n",
       "21646            20 12800000.00       79.80           2019-03-23      3   \n",
       "543              11 12790000.00       56.60           2018-11-06      2   \n",
       "4400              4 12300000.00       78.65           2017-09-09      3   \n",
       "499               9 12200000.00       77.70           2017-11-28      2   \n",
       "18453            15 11500000.00       78.30           2018-04-04      2   \n",
       "2948             23 11350000.00       75.00           2017-08-15      3   \n",
       "22217            12 11300000.00       70.00           2018-07-23      2   \n",
       "2669              9 11300000.00       77.00           2018-07-07      3   \n",
       "22791            12 11100000.00       74.00           2018-04-07      2   \n",
       "20979            20 11000000.00       97.00           2017-04-23      3   \n",
       "22941             8 10965000.00       69.30           2019-01-10      1   \n",
       "10604            20 10898000.00       78.30           2019-04-20      3   \n",
       "11498             6 10890000.00       80.00           2018-06-11      2   \n",
       "7669             15 10800000.00       94.00           2019-02-21      2   \n",
       "20766            11 10500000.00       87.60           2018-02-07      3   \n",
       "20190             2 10500000.00       85.00           2019-01-08      3   \n",
       "17178             9 10348000.00       77.00           2016-06-21      2   \n",
       "11128            12 10300000.00       80.50           2018-02-01      3   \n",
       "12640            20 10300000.00       75.50           2019-03-21      2   \n",
       "21980            20 10100000.00       99.00           2018-02-28      3   \n",
       "12075            17 10050000.00       91.40           2017-08-19      3   \n",
       "21589            17 10000000.00       75.00           2018-07-13      2   \n",
       "10151            26 10000000.00       70.00           2017-11-09      2   \n",
       "22782            20 10000000.00       81.40           2018-07-07      3   \n",
       "\n",
       "       ceiling_height  floors_total  living_area  floor is_apartment  ...  \\\n",
       "21238            2.65         10.00        16.83      4        False  ...   \n",
       "15037            3.30          4.00        31.00      2        False  ...   \n",
       "14185            2.65          4.00        30.20      2          NaN  ...   \n",
       "15582            3.10          4.00        49.00      3          NaN  ...   \n",
       "3773             4.00          4.00        55.80      4          NaN  ...   \n",
       "12466            2.65          3.00        57.00      3          NaN  ...   \n",
       "11499            2.55          4.00        68.80      2          NaN  ...   \n",
       "6641             2.65          3.00        68.00      2          NaN  ...   \n",
       "13295            2.65          4.00        42.00      3          NaN  ...   \n",
       "21646            2.80         14.00        43.00      2          NaN  ...   \n",
       "543              3.50          3.00        29.40      1         True  ...   \n",
       "4400             2.65          5.00        48.00      1          NaN  ...   \n",
       "499              2.65          5.00        30.00      5          NaN  ...   \n",
       "18453            3.00          5.00        47.70      3          NaN  ...   \n",
       "2948             3.50          2.00        52.70      2          NaN  ...   \n",
       "22217            2.98          3.00        40.00      2          NaN  ...   \n",
       "2669             2.80          4.00          NaN      2          NaN  ...   \n",
       "22791            2.80          3.00        38.10      2          NaN  ...   \n",
       "20979            3.00          4.00        58.00      2        False  ...   \n",
       "22941            3.00          4.00        48.90      4         True  ...   \n",
       "10604            2.75         18.00        53.00     15          NaN  ...   \n",
       "11498            2.65          3.00        40.00      2          NaN  ...   \n",
       "7669             3.00          3.00        40.00      1          NaN  ...   \n",
       "20766            2.65          5.00        55.38      5          NaN  ...   \n",
       "20190            3.00          3.00        55.50      2          NaN  ...   \n",
       "17178            2.90          4.00        40.00      2          NaN  ...   \n",
       "11128            4.20          5.00        37.00      5          NaN  ...   \n",
       "12640            3.00          2.00        42.50      2          NaN  ...   \n",
       "21980            2.80          7.00        49.00      7          NaN  ...   \n",
       "12075            2.70         10.00        53.80      4          NaN  ...   \n",
       "21589            3.00          3.00        46.00      2          NaN  ...   \n",
       "10151            2.65         20.00        47.00     12          NaN  ...   \n",
       "22782            2.74          4.00        47.00      3          NaN  ...   \n",
       "\n",
       "       kitchen_area  balcony  locality_name  airports_nearest  \\\n",
       "21238         10.70        1     Всеволожск               NaN   \n",
       "15037         24.50        2    Зеленогорск          70016.00   \n",
       "14185         23.90        0    Зеленогорск          70016.00   \n",
       "15582         14.00        2     Сестрорецк          58290.00   \n",
       "3773          14.80        1     Сестрорецк          53952.00   \n",
       "12466         13.50        0         Пушкин          15065.00   \n",
       "11499         13.10        0         Пушкин          14014.00   \n",
       "6641          14.50        0        Гатчина               NaN   \n",
       "13295         16.00        1     Сестрорецк          58290.00   \n",
       "21646         12.00        2        Кудрово               NaN   \n",
       "543             NaN        0       Петергоф          35248.00   \n",
       "4400          11.00        0         Пушкин          14567.00   \n",
       "499           25.00        1         Пушкин          14066.00   \n",
       "18453          9.80        0     Сестрорецк          57806.00   \n",
       "2948           8.70        4         Пушкин          15337.00   \n",
       "22217         10.40        0       Павловск          20367.00   \n",
       "2669            NaN        0     Сестрорецк          54416.00   \n",
       "22791         10.70        1       Петергоф          35438.00   \n",
       "20979         14.00        2     Сестрорецк          54331.00   \n",
       "22941           NaN        2    Зеленогорск          73391.00   \n",
       "10604          5.50        3        Кудрово               NaN   \n",
       "11498         12.00        0     Всеволожск               NaN   \n",
       "7669          28.00        0       Павловск          20730.00   \n",
       "20766         13.20        1         Пушкин          20562.00   \n",
       "20190          8.00        1         Пушкин          15527.00   \n",
       "17178         14.00        0     Сестрорецк          52873.00   \n",
       "11128         34.00        1         Пушкин          19907.00   \n",
       "12640         13.20        0     Всеволожск               NaN   \n",
       "21980         16.00        0       Петергоф          44949.00   \n",
       "12075         13.10        0         Пушкин          18539.00   \n",
       "21589         16.00        0     Всеволожск               NaN   \n",
       "10151         12.00        2        Кудрово               NaN   \n",
       "22782         11.00        0         Пушкин          18724.00   \n",
       "\n",
       "      cityCenters_nearest  parks_around3000  parks_nearest  ponds_around3000  \\\n",
       "21238                 NaN               NaN            NaN               NaN   \n",
       "15037            51115.00              0.00            NaN              0.00   \n",
       "14185            51115.00              0.00            NaN              0.00   \n",
       "15582            35219.00              2.00         633.00              1.00   \n",
       "3773             35051.00              0.00            NaN              0.00   \n",
       "12466            27218.00              3.00         317.00              3.00   \n",
       "11499            26167.00              1.00         609.00              0.00   \n",
       "6641                  NaN               NaN            NaN               NaN   \n",
       "13295            35219.00              2.00         633.00              1.00   \n",
       "21646                 NaN               NaN            NaN               NaN   \n",
       "543              30437.00              3.00          53.00              3.00   \n",
       "4400             26720.00              2.00         403.00              0.00   \n",
       "499              26219.00              1.00         702.00              0.00   \n",
       "18453            34735.00              3.00         478.00              2.00   \n",
       "2948             27490.00              3.00         216.00              3.00   \n",
       "22217            32521.00              3.00         310.00              3.00   \n",
       "2669             35515.00              0.00            NaN              0.00   \n",
       "22791            30627.00              2.00          13.00              0.00   \n",
       "20979            35394.00              0.00            NaN              0.00   \n",
       "22941            54490.00              3.00           4.00              1.00   \n",
       "10604                 NaN               NaN            NaN               NaN   \n",
       "11498                 NaN               NaN            NaN               NaN   \n",
       "7669             32883.00              2.00         482.00              1.00   \n",
       "20766            30937.00              0.00            NaN              1.00   \n",
       "20190                 NaN              1.00         134.00              0.00   \n",
       "17178            33972.00              0.00            NaN              1.00   \n",
       "11128            32061.00              0.00            NaN              0.00   \n",
       "12640                 NaN               NaN            NaN               NaN   \n",
       "21980            48374.00              0.00            NaN              0.00   \n",
       "12075            30693.00              1.00         700.00              1.00   \n",
       "21589                 NaN               NaN            NaN               NaN   \n",
       "10151                 NaN               NaN            NaN               NaN   \n",
       "22782            30878.00              1.00         569.00              0.00   \n",
       "\n",
       "       ponds_nearest  days_exposition  \n",
       "21238            NaN            44.00  \n",
       "15037            NaN            90.00  \n",
       "14185            NaN              NaN  \n",
       "15582         320.00            30.00  \n",
       "3773             NaN              NaN  \n",
       "12466         509.00           357.00  \n",
       "11499            NaN           256.00  \n",
       "6641             NaN              NaN  \n",
       "13295         320.00            64.00  \n",
       "21646            NaN              NaN  \n",
       "543            22.00              NaN  \n",
       "4400             NaN             4.00  \n",
       "499              NaN            22.00  \n",
       "18453         649.00            62.00  \n",
       "2948          153.00           207.00  \n",
       "22217         383.00           130.00  \n",
       "2669             NaN            90.00  \n",
       "22791            NaN              NaN  \n",
       "20979            NaN           189.00  \n",
       "22941         217.00           110.00  \n",
       "10604            NaN              NaN  \n",
       "11498            NaN           308.00  \n",
       "7669          889.00              NaN  \n",
       "20766         349.00            19.00  \n",
       "20190            NaN              NaN  \n",
       "17178          89.00           114.00  \n",
       "11128            NaN           105.00  \n",
       "12640            NaN              NaN  \n",
       "21980            NaN            84.00  \n",
       "12075         709.00           612.00  \n",
       "21589            NaN            74.00  \n",
       "10151            NaN            36.00  \n",
       "22782            NaN              NaN  \n",
       "\n",
       "[33 rows x 22 columns]"
      ]
     },
     "execution_count": 32,
     "metadata": {},
     "output_type": "execute_result"
    }
   ],
   "source": [
    "df.query('locality_name != \"Санкт-Петербург\" and total_area < 100 and last_price >= 10000000' ).sort_values('last_price',ascending=False)"
   ]
  },
  {
   "cell_type": "markdown",
   "metadata": {
    "id": "nhl7cuJ2hyjp"
   },
   "source": [
    "Посмотрим также диаграмму размаха."
   ]
  },
  {
   "cell_type": "code",
   "execution_count": 33,
   "metadata": {
    "colab": {
     "base_uri": "https://localhost:8080/",
     "height": 462
    },
    "id": "EYrytCfxh1q3",
    "outputId": "61316707-4438-46b1-b3e6-502602e3e6e8"
   },
   "outputs": [
    {
     "data": {
      "text/plain": [
       "<AxesSubplot:>"
      ]
     },
     "execution_count": 33,
     "metadata": {},
     "output_type": "execute_result"
    },
    {
     "data": {
      "image/png": "[encoded data removed]",
      "text/plain": [
       "<Figure size 432x288 with 1 Axes>"
      ]
     },
     "metadata": {
      "needs_background": "light"
     },
     "output_type": "display_data"
    }
   ],
   "source": [
    "df.boxplot('last_price')"
   ]
  },
  {
   "cell_type": "markdown",
   "metadata": {
    "id": "StKmv4ovhJ8K"
   },
   "source": [
    "Удалим аномально дорогие квартиры, их природа ясна и понятна, однако для лучшей интерпретации удалений аномально дорогих квартир, поможет нам более точно выявить закономерности в данных. "
   ]
  },
  {
   "cell_type": "code",
   "execution_count": 34,
   "metadata": {
    "scrolled": true
   },
   "outputs": [
    {
     "name": "stderr",
     "output_type": "stream",
     "text": [
      "/opt/conda/lib/python3.9/site-packages/pandas/core/frame.py:4308: SettingWithCopyWarning: \n",
      "A value is trying to be set on a copy of a slice from a DataFrame\n",
      "\n",
      "See the caveats in the documentation: https://pandas.pydata.org/pandas-docs/stable/user_guide/indexing.html#returning-a-view-versus-a-copy\n",
      "  return super().drop(\n"
     ]
    }
   ],
   "source": [
    "df.drop(df[df['last_price'] >= 15000000].index, inplace=True)"
   ]
  },
  {
   "cell_type": "code",
   "execution_count": 35,
   "metadata": {
    "scrolled": true
   },
   "outputs": [
    {
     "data": {
      "text/plain": [
       "<AxesSubplot:>"
      ]
     },
     "execution_count": 35,
     "metadata": {},
     "output_type": "execute_result"
    },
    {
     "data": {
      "image/png": "[encoded data removed]",
      "text/plain": [
       "<Figure size 432x288 with 1 Axes>"
      ]
     },
     "metadata": {
      "needs_background": "light"
     },
     "output_type": "display_data"
    }
   ],
   "source": [
    "df.boxplot('last_price')"
   ]
  },
  {
   "cell_type": "markdown",
   "metadata": {},
   "source": [
    "Посмотрим на аномальный выброс количества комнат."
   ]
  },
  {
   "cell_type": "code",
   "execution_count": 36,
   "metadata": {},
   "outputs": [
    {
     "data": {
      "text/plain": [
       "<AxesSubplot:>"
      ]
     },
     "execution_count": 36,
     "metadata": {},
     "output_type": "execute_result"
    },
    {
     "data": {
      "image/png": "[encoded data removed]",
      "text/plain": [
       "<Figure size 432x288 with 1 Axes>"
      ]
     },
     "metadata": {
      "needs_background": "light"
     },
     "output_type": "display_data"
    }
   ],
   "source": [
    "df.boxplot('rooms')"
   ]
  },
  {
   "cell_type": "code",
   "execution_count": 37,
   "metadata": {
    "scrolled": true
   },
   "outputs": [
    {
     "name": "stderr",
     "output_type": "stream",
     "text": [
      "/opt/conda/lib/python3.9/site-packages/pandas/core/frame.py:4308: SettingWithCopyWarning: \n",
      "A value is trying to be set on a copy of a slice from a DataFrame\n",
      "\n",
      "See the caveats in the documentation: https://pandas.pydata.org/pandas-docs/stable/user_guide/indexing.html#returning-a-view-versus-a-copy\n",
      "  return super().drop(\n"
     ]
    }
   ],
   "source": [
    "df.drop(df[df['rooms'] >= 7].index, inplace=True)"
   ]
  },
  {
   "cell_type": "markdown",
   "metadata": {},
   "source": [
    "Посмотрим полученный результат."
   ]
  },
  {
   "cell_type": "code",
   "execution_count": 38,
   "metadata": {},
   "outputs": [
    {
     "data": {
      "text/plain": [
       "count   22376.00\n",
       "mean        1.97\n",
       "std         0.94\n",
       "min         0.00\n",
       "25%         1.00\n",
       "50%         2.00\n",
       "75%         3.00\n",
       "max         6.00\n",
       "Name: rooms, dtype: float64"
      ]
     },
     "execution_count": 38,
     "metadata": {},
     "output_type": "execute_result"
    }
   ],
   "source": [
    "df['rooms'].describe()"
   ]
  },
  {
   "cell_type": "markdown",
   "metadata": {},
   "source": [
    "Следующий столбец который мы изучим это общая площадь недвижимости."
   ]
  },
  {
   "cell_type": "code",
   "execution_count": 39,
   "metadata": {},
   "outputs": [
    {
     "data": {
      "text/plain": [
       "<AxesSubplot:>"
      ]
     },
     "execution_count": 39,
     "metadata": {},
     "output_type": "execute_result"
    },
    {
     "data": {
      "image/png": "[encoded data removed]",
      "text/plain": [
       "<Figure size 432x288 with 1 Axes>"
      ]
     },
     "metadata": {
      "needs_background": "light"
     },
     "output_type": "display_data"
    }
   ],
   "source": [
    "df.boxplot('total_area')"
   ]
  },
  {
   "cell_type": "markdown",
   "metadata": {},
   "source": [
    "Большое количество аномальных выбросов. "
   ]
  },
  {
   "cell_type": "code",
   "execution_count": 40,
   "metadata": {
    "scrolled": true
   },
   "outputs": [
    {
     "name": "stderr",
     "output_type": "stream",
     "text": [
      "/opt/conda/lib/python3.9/site-packages/pandas/core/frame.py:4308: SettingWithCopyWarning: \n",
      "A value is trying to be set on a copy of a slice from a DataFrame\n",
      "\n",
      "See the caveats in the documentation: https://pandas.pydata.org/pandas-docs/stable/user_guide/indexing.html#returning-a-view-versus-a-copy\n",
      "  return super().drop(\n"
     ]
    }
   ],
   "source": [
    "df.drop(df[df['total_area'] >= 99].index, inplace=True)"
   ]
  },
  {
   "cell_type": "code",
   "execution_count": 41,
   "metadata": {
    "scrolled": false
   },
   "outputs": [
    {
     "data": {
      "text/plain": [
       "<AxesSubplot:>"
      ]
     },
     "execution_count": 41,
     "metadata": {},
     "output_type": "execute_result"
    },
    {
     "data": {
      "image/png": "[encoded data removed]",
      "text/plain": [
       "<Figure size 432x288 with 1 Axes>"
      ]
     },
     "metadata": {
      "needs_background": "light"
     },
     "output_type": "display_data"
    }
   ],
   "source": [
    "df.boxplot('total_area')"
   ]
  },
  {
   "cell_type": "markdown",
   "metadata": {},
   "source": [
    "Проверим объем удаленных данных."
   ]
  },
  {
   "cell_type": "code",
   "execution_count": 42,
   "metadata": {},
   "outputs": [],
   "source": [
    "new_data = df"
   ]
  },
  {
   "cell_type": "code",
   "execution_count": 43,
   "metadata": {
    "scrolled": true
   },
   "outputs": [
    {
     "data": {
      "text/plain": [
       "0.9051858728216381"
      ]
     },
     "execution_count": 43,
     "metadata": {},
     "output_type": "execute_result"
    }
   ],
   "source": [
    "new_data.shape[0] / old_data.shape[0]"
   ]
  },
  {
   "cell_type": "markdown",
   "metadata": {
    "id": "szNhY0fG9-rk"
   },
   "source": [
    "#Промежуточный итог:\n",
    "<br> Изучив DataFrame мы преступили к предобработке данных. Определили пропуски в столбцах. Определили в каких столбцах на необходимо заполнить или удалить пропуски. Изменили тип данных в некоторых столбцах для дальнейшего объективного анализа. Убрали неявные дубликаты в столбце с названиями населенных пунктов. Нашли и устранили редкие и выбивающие значения в нужных для исследования столбцах. Следующим шагом для исследования будет создание новых столбцов."
   ]
  },
  {
   "cell_type": "markdown",
   "metadata": {
    "id": "llKyCMkq7ojx"
   },
   "source": [
    " ### Посчитайте и добавьте в таблицу новые столбцы"
   ]
  },
  {
   "cell_type": "markdown",
   "metadata": {
    "id": "l0LOGnPTWzCC"
   },
   "source": [
    "Посчитаем и добавим столбец: цена одного квадратного метра. Для этого разделим столбец цены на момент снятия публикации на общую площадь недвижимости."
   ]
  },
  {
   "cell_type": "code",
   "execution_count": 44,
   "metadata": {
    "id": "mc0_1JMuXDZM",
    "scrolled": true
   },
   "outputs": [
    {
     "name": "stderr",
     "output_type": "stream",
     "text": [
      "/tmp/ipykernel_379/1164413524.py:1: SettingWithCopyWarning: \n",
      "A value is trying to be set on a copy of a slice from a DataFrame.\n",
      "Try using .loc[row_indexer,col_indexer] = value instead\n",
      "\n",
      "See the caveats in the documentation: https://pandas.pydata.org/pandas-docs/stable/user_guide/indexing.html#returning-a-view-versus-a-copy\n",
      "  df['square_meter_price'] = df['last_price']/df['total_area']\n"
     ]
    }
   ],
   "source": [
    "df['square_meter_price'] = df['last_price']/df['total_area']"
   ]
  },
  {
   "cell_type": "markdown",
   "metadata": {
    "id": "kDdjSvrSYtrW"
   },
   "source": [
    "Посмотрим результат."
   ]
  },
  {
   "cell_type": "code",
   "execution_count": 45,
   "metadata": {
    "colab": {
     "base_uri": "https://localhost:8080/",
     "height": 369
    },
    "id": "xSur-LsD7ojy",
    "outputId": "c5519117-da0b-40d6-f403-015060d97341"
   },
   "outputs": [
    {
     "data": {
      "text/html": [
       "<div>\n",
       "<style scoped>\n",
       "    .dataframe tbody tr th:only-of-type {\n",
       "        vertical-align: middle;\n",
       "    }\n",
       "\n",
       "    .dataframe tbody tr th {\n",
       "        vertical-align: top;\n",
       "    }\n",
       "\n",
       "    .dataframe thead th {\n",
       "        text-align: right;\n",
       "    }\n",
       "</style>\n",
       "<table border=\"1\" class=\"dataframe\">\n",
       "  <thead>\n",
       "    <tr style=\"text-align: right;\">\n",
       "      <th></th>\n",
       "      <th>total_images</th>\n",
       "      <th>last_price</th>\n",
       "      <th>total_area</th>\n",
       "      <th>first_day_exposition</th>\n",
       "      <th>rooms</th>\n",
       "      <th>ceiling_height</th>\n",
       "      <th>floors_total</th>\n",
       "      <th>living_area</th>\n",
       "      <th>floor</th>\n",
       "      <th>is_apartment</th>\n",
       "      <th>...</th>\n",
       "      <th>balcony</th>\n",
       "      <th>locality_name</th>\n",
       "      <th>airports_nearest</th>\n",
       "      <th>cityCenters_nearest</th>\n",
       "      <th>parks_around3000</th>\n",
       "      <th>parks_nearest</th>\n",
       "      <th>ponds_around3000</th>\n",
       "      <th>ponds_nearest</th>\n",
       "      <th>days_exposition</th>\n",
       "      <th>square_meter_price</th>\n",
       "    </tr>\n",
       "  </thead>\n",
       "  <tbody>\n",
       "    <tr>\n",
       "      <th>1</th>\n",
       "      <td>7</td>\n",
       "      <td>3350000.00</td>\n",
       "      <td>40.40</td>\n",
       "      <td>2018-12-04</td>\n",
       "      <td>1</td>\n",
       "      <td>2.65</td>\n",
       "      <td>11.00</td>\n",
       "      <td>18.60</td>\n",
       "      <td>1</td>\n",
       "      <td>NaN</td>\n",
       "      <td>...</td>\n",
       "      <td>2</td>\n",
       "      <td>Шушары</td>\n",
       "      <td>12817.00</td>\n",
       "      <td>18603.00</td>\n",
       "      <td>0.00</td>\n",
       "      <td>NaN</td>\n",
       "      <td>0.00</td>\n",
       "      <td>NaN</td>\n",
       "      <td>81.00</td>\n",
       "      <td>82920.79</td>\n",
       "    </tr>\n",
       "    <tr>\n",
       "      <th>2</th>\n",
       "      <td>10</td>\n",
       "      <td>5196000.00</td>\n",
       "      <td>56.00</td>\n",
       "      <td>2015-08-20</td>\n",
       "      <td>2</td>\n",
       "      <td>2.65</td>\n",
       "      <td>5.00</td>\n",
       "      <td>34.30</td>\n",
       "      <td>4</td>\n",
       "      <td>NaN</td>\n",
       "      <td>...</td>\n",
       "      <td>0</td>\n",
       "      <td>Санкт-Петербург</td>\n",
       "      <td>21741.00</td>\n",
       "      <td>13933.00</td>\n",
       "      <td>1.00</td>\n",
       "      <td>90.00</td>\n",
       "      <td>2.00</td>\n",
       "      <td>574.00</td>\n",
       "      <td>558.00</td>\n",
       "      <td>92785.71</td>\n",
       "    </tr>\n",
       "    <tr>\n",
       "      <th>5</th>\n",
       "      <td>10</td>\n",
       "      <td>2890000.00</td>\n",
       "      <td>30.40</td>\n",
       "      <td>2018-09-10</td>\n",
       "      <td>1</td>\n",
       "      <td>2.65</td>\n",
       "      <td>12.00</td>\n",
       "      <td>14.40</td>\n",
       "      <td>5</td>\n",
       "      <td>NaN</td>\n",
       "      <td>...</td>\n",
       "      <td>0</td>\n",
       "      <td>Янино-1</td>\n",
       "      <td>NaN</td>\n",
       "      <td>NaN</td>\n",
       "      <td>NaN</td>\n",
       "      <td>NaN</td>\n",
       "      <td>NaN</td>\n",
       "      <td>NaN</td>\n",
       "      <td>55.00</td>\n",
       "      <td>95065.79</td>\n",
       "    </tr>\n",
       "    <tr>\n",
       "      <th>6</th>\n",
       "      <td>6</td>\n",
       "      <td>3700000.00</td>\n",
       "      <td>37.30</td>\n",
       "      <td>2017-11-02</td>\n",
       "      <td>1</td>\n",
       "      <td>2.65</td>\n",
       "      <td>26.00</td>\n",
       "      <td>10.60</td>\n",
       "      <td>6</td>\n",
       "      <td>NaN</td>\n",
       "      <td>...</td>\n",
       "      <td>1</td>\n",
       "      <td>Парголово</td>\n",
       "      <td>52996.00</td>\n",
       "      <td>19143.00</td>\n",
       "      <td>0.00</td>\n",
       "      <td>NaN</td>\n",
       "      <td>0.00</td>\n",
       "      <td>NaN</td>\n",
       "      <td>155.00</td>\n",
       "      <td>99195.71</td>\n",
       "    </tr>\n",
       "    <tr>\n",
       "      <th>7</th>\n",
       "      <td>5</td>\n",
       "      <td>7915000.00</td>\n",
       "      <td>71.60</td>\n",
       "      <td>2019-04-18</td>\n",
       "      <td>2</td>\n",
       "      <td>2.65</td>\n",
       "      <td>24.00</td>\n",
       "      <td>NaN</td>\n",
       "      <td>22</td>\n",
       "      <td>NaN</td>\n",
       "      <td>...</td>\n",
       "      <td>2</td>\n",
       "      <td>Санкт-Петербург</td>\n",
       "      <td>23982.00</td>\n",
       "      <td>11634.00</td>\n",
       "      <td>0.00</td>\n",
       "      <td>NaN</td>\n",
       "      <td>0.00</td>\n",
       "      <td>NaN</td>\n",
       "      <td>NaN</td>\n",
       "      <td>110544.69</td>\n",
       "    </tr>\n",
       "  </tbody>\n",
       "</table>\n",
       "<p>5 rows × 23 columns</p>\n",
       "</div>"
      ],
      "text/plain": [
       "   total_images  last_price  total_area first_day_exposition  rooms  \\\n",
       "1             7  3350000.00       40.40           2018-12-04      1   \n",
       "2            10  5196000.00       56.00           2015-08-20      2   \n",
       "5            10  2890000.00       30.40           2018-09-10      1   \n",
       "6             6  3700000.00       37.30           2017-11-02      1   \n",
       "7             5  7915000.00       71.60           2019-04-18      2   \n",
       "\n",
       "   ceiling_height  floors_total  living_area  floor is_apartment  ...  \\\n",
       "1            2.65         11.00        18.60      1          NaN  ...   \n",
       "2            2.65          5.00        34.30      4          NaN  ...   \n",
       "5            2.65         12.00        14.40      5          NaN  ...   \n",
       "6            2.65         26.00        10.60      6          NaN  ...   \n",
       "7            2.65         24.00          NaN     22          NaN  ...   \n",
       "\n",
       "   balcony    locality_name  airports_nearest  cityCenters_nearest  \\\n",
       "1        2           Шушары          12817.00             18603.00   \n",
       "2        0  Санкт-Петербург          21741.00             13933.00   \n",
       "5        0          Янино-1               NaN                  NaN   \n",
       "6        1        Парголово          52996.00             19143.00   \n",
       "7        2  Санкт-Петербург          23982.00             11634.00   \n",
       "\n",
       "  parks_around3000  parks_nearest  ponds_around3000  ponds_nearest  \\\n",
       "1             0.00            NaN              0.00            NaN   \n",
       "2             1.00          90.00              2.00         574.00   \n",
       "5              NaN            NaN               NaN            NaN   \n",
       "6             0.00            NaN              0.00            NaN   \n",
       "7             0.00            NaN              0.00            NaN   \n",
       "\n",
       "   days_exposition  square_meter_price  \n",
       "1            81.00            82920.79  \n",
       "2           558.00            92785.71  \n",
       "5            55.00            95065.79  \n",
       "6           155.00            99195.71  \n",
       "7              NaN           110544.69  \n",
       "\n",
       "[5 rows x 23 columns]"
      ]
     },
     "execution_count": 45,
     "metadata": {},
     "output_type": "execute_result"
    }
   ],
   "source": [
    "df.head()"
   ]
  },
  {
   "cell_type": "markdown",
   "metadata": {
    "id": "VpSkuUvGYwte"
   },
   "source": [
    "Стоимость за квадратный метр недвжимости можно было сделать более подробным для Санкт-Петербурга и Ленинградской области, однако некоторые населенные пункты например город Пушкин находится в городском округе Санкт-Петербурга, и там представтелено более дорогой ценой за квадратный метр, чем в Ленинградской области. Для объективности необходимо указывать что населенный пункт находится в городском округе города Санкт-Петербурга. Следующий столбец, который мы создадим это: День недели, месяц и год публикации объявления. Для этого применим метод `dt.weekday`, `dr.month` и `dt.year` к столбцу \"Первый день публикации объявления\""
   ]
  },
  {
   "cell_type": "code",
   "execution_count": 46,
   "metadata": {
    "id": "OK0W6UQpZW3R",
    "scrolled": true
   },
   "outputs": [
    {
     "name": "stderr",
     "output_type": "stream",
     "text": [
      "/tmp/ipykernel_379/96289441.py:1: SettingWithCopyWarning: \n",
      "A value is trying to be set on a copy of a slice from a DataFrame.\n",
      "Try using .loc[row_indexer,col_indexer] = value instead\n",
      "\n",
      "See the caveats in the documentation: https://pandas.pydata.org/pandas-docs/stable/user_guide/indexing.html#returning-a-view-versus-a-copy\n",
      "  df['day_expo'] = df['first_day_exposition'].dt.weekday\n",
      "/tmp/ipykernel_379/96289441.py:2: SettingWithCopyWarning: \n",
      "A value is trying to be set on a copy of a slice from a DataFrame.\n",
      "Try using .loc[row_indexer,col_indexer] = value instead\n",
      "\n",
      "See the caveats in the documentation: https://pandas.pydata.org/pandas-docs/stable/user_guide/indexing.html#returning-a-view-versus-a-copy\n",
      "  df['month_expo'] = df['first_day_exposition'].dt.month\n",
      "/tmp/ipykernel_379/96289441.py:3: SettingWithCopyWarning: \n",
      "A value is trying to be set on a copy of a slice from a DataFrame.\n",
      "Try using .loc[row_indexer,col_indexer] = value instead\n",
      "\n",
      "See the caveats in the documentation: https://pandas.pydata.org/pandas-docs/stable/user_guide/indexing.html#returning-a-view-versus-a-copy\n",
      "  df[\"year_expo\"] = df[\"first_day_exposition\"].dt.year\n"
     ]
    }
   ],
   "source": [
    "df['day_expo'] = df['first_day_exposition'].dt.weekday\n",
    "df['month_expo'] = df['first_day_exposition'].dt.month\n",
    "df[\"year_expo\"] = df[\"first_day_exposition\"].dt.year"
   ]
  },
  {
   "cell_type": "markdown",
   "metadata": {
    "id": "nIx7_uv-fusR"
   },
   "source": [
    "Проверим результат."
   ]
  },
  {
   "cell_type": "code",
   "execution_count": 47,
   "metadata": {
    "colab": {
     "base_uri": "https://localhost:8080/",
     "height": 487
    },
    "id": "wjewcKv-aF9f",
    "outputId": "cbc306ea-79e9-4a46-dd73-811d4a711a99"
   },
   "outputs": [
    {
     "data": {
      "text/html": [
       "<div>\n",
       "<style scoped>\n",
       "    .dataframe tbody tr th:only-of-type {\n",
       "        vertical-align: middle;\n",
       "    }\n",
       "\n",
       "    .dataframe tbody tr th {\n",
       "        vertical-align: top;\n",
       "    }\n",
       "\n",
       "    .dataframe thead th {\n",
       "        text-align: right;\n",
       "    }\n",
       "</style>\n",
       "<table border=\"1\" class=\"dataframe\">\n",
       "  <thead>\n",
       "    <tr style=\"text-align: right;\">\n",
       "      <th></th>\n",
       "      <th>total_images</th>\n",
       "      <th>last_price</th>\n",
       "      <th>total_area</th>\n",
       "      <th>first_day_exposition</th>\n",
       "      <th>rooms</th>\n",
       "      <th>ceiling_height</th>\n",
       "      <th>floors_total</th>\n",
       "      <th>living_area</th>\n",
       "      <th>floor</th>\n",
       "      <th>is_apartment</th>\n",
       "      <th>...</th>\n",
       "      <th>cityCenters_nearest</th>\n",
       "      <th>parks_around3000</th>\n",
       "      <th>parks_nearest</th>\n",
       "      <th>ponds_around3000</th>\n",
       "      <th>ponds_nearest</th>\n",
       "      <th>days_exposition</th>\n",
       "      <th>square_meter_price</th>\n",
       "      <th>day_expo</th>\n",
       "      <th>month_expo</th>\n",
       "      <th>year_expo</th>\n",
       "    </tr>\n",
       "  </thead>\n",
       "  <tbody>\n",
       "    <tr>\n",
       "      <th>1</th>\n",
       "      <td>7</td>\n",
       "      <td>3350000.00</td>\n",
       "      <td>40.40</td>\n",
       "      <td>2018-12-04</td>\n",
       "      <td>1</td>\n",
       "      <td>2.65</td>\n",
       "      <td>11.00</td>\n",
       "      <td>18.60</td>\n",
       "      <td>1</td>\n",
       "      <td>NaN</td>\n",
       "      <td>...</td>\n",
       "      <td>18603.00</td>\n",
       "      <td>0.00</td>\n",
       "      <td>NaN</td>\n",
       "      <td>0.00</td>\n",
       "      <td>NaN</td>\n",
       "      <td>81.00</td>\n",
       "      <td>82920.79</td>\n",
       "      <td>1</td>\n",
       "      <td>12</td>\n",
       "      <td>2018</td>\n",
       "    </tr>\n",
       "    <tr>\n",
       "      <th>2</th>\n",
       "      <td>10</td>\n",
       "      <td>5196000.00</td>\n",
       "      <td>56.00</td>\n",
       "      <td>2015-08-20</td>\n",
       "      <td>2</td>\n",
       "      <td>2.65</td>\n",
       "      <td>5.00</td>\n",
       "      <td>34.30</td>\n",
       "      <td>4</td>\n",
       "      <td>NaN</td>\n",
       "      <td>...</td>\n",
       "      <td>13933.00</td>\n",
       "      <td>1.00</td>\n",
       "      <td>90.00</td>\n",
       "      <td>2.00</td>\n",
       "      <td>574.00</td>\n",
       "      <td>558.00</td>\n",
       "      <td>92785.71</td>\n",
       "      <td>3</td>\n",
       "      <td>8</td>\n",
       "      <td>2015</td>\n",
       "    </tr>\n",
       "    <tr>\n",
       "      <th>5</th>\n",
       "      <td>10</td>\n",
       "      <td>2890000.00</td>\n",
       "      <td>30.40</td>\n",
       "      <td>2018-09-10</td>\n",
       "      <td>1</td>\n",
       "      <td>2.65</td>\n",
       "      <td>12.00</td>\n",
       "      <td>14.40</td>\n",
       "      <td>5</td>\n",
       "      <td>NaN</td>\n",
       "      <td>...</td>\n",
       "      <td>NaN</td>\n",
       "      <td>NaN</td>\n",
       "      <td>NaN</td>\n",
       "      <td>NaN</td>\n",
       "      <td>NaN</td>\n",
       "      <td>55.00</td>\n",
       "      <td>95065.79</td>\n",
       "      <td>0</td>\n",
       "      <td>9</td>\n",
       "      <td>2018</td>\n",
       "    </tr>\n",
       "    <tr>\n",
       "      <th>6</th>\n",
       "      <td>6</td>\n",
       "      <td>3700000.00</td>\n",
       "      <td>37.30</td>\n",
       "      <td>2017-11-02</td>\n",
       "      <td>1</td>\n",
       "      <td>2.65</td>\n",
       "      <td>26.00</td>\n",
       "      <td>10.60</td>\n",
       "      <td>6</td>\n",
       "      <td>NaN</td>\n",
       "      <td>...</td>\n",
       "      <td>19143.00</td>\n",
       "      <td>0.00</td>\n",
       "      <td>NaN</td>\n",
       "      <td>0.00</td>\n",
       "      <td>NaN</td>\n",
       "      <td>155.00</td>\n",
       "      <td>99195.71</td>\n",
       "      <td>3</td>\n",
       "      <td>11</td>\n",
       "      <td>2017</td>\n",
       "    </tr>\n",
       "    <tr>\n",
       "      <th>7</th>\n",
       "      <td>5</td>\n",
       "      <td>7915000.00</td>\n",
       "      <td>71.60</td>\n",
       "      <td>2019-04-18</td>\n",
       "      <td>2</td>\n",
       "      <td>2.65</td>\n",
       "      <td>24.00</td>\n",
       "      <td>NaN</td>\n",
       "      <td>22</td>\n",
       "      <td>NaN</td>\n",
       "      <td>...</td>\n",
       "      <td>11634.00</td>\n",
       "      <td>0.00</td>\n",
       "      <td>NaN</td>\n",
       "      <td>0.00</td>\n",
       "      <td>NaN</td>\n",
       "      <td>NaN</td>\n",
       "      <td>110544.69</td>\n",
       "      <td>3</td>\n",
       "      <td>4</td>\n",
       "      <td>2019</td>\n",
       "    </tr>\n",
       "    <tr>\n",
       "      <th>...</th>\n",
       "      <td>...</td>\n",
       "      <td>...</td>\n",
       "      <td>...</td>\n",
       "      <td>...</td>\n",
       "      <td>...</td>\n",
       "      <td>...</td>\n",
       "      <td>...</td>\n",
       "      <td>...</td>\n",
       "      <td>...</td>\n",
       "      <td>...</td>\n",
       "      <td>...</td>\n",
       "      <td>...</td>\n",
       "      <td>...</td>\n",
       "      <td>...</td>\n",
       "      <td>...</td>\n",
       "      <td>...</td>\n",
       "      <td>...</td>\n",
       "      <td>...</td>\n",
       "      <td>...</td>\n",
       "      <td>...</td>\n",
       "      <td>...</td>\n",
       "    </tr>\n",
       "    <tr>\n",
       "      <th>23693</th>\n",
       "      <td>9</td>\n",
       "      <td>4600000.00</td>\n",
       "      <td>62.40</td>\n",
       "      <td>2016-08-05</td>\n",
       "      <td>3</td>\n",
       "      <td>2.60</td>\n",
       "      <td>9.00</td>\n",
       "      <td>40.00</td>\n",
       "      <td>8</td>\n",
       "      <td>NaN</td>\n",
       "      <td>...</td>\n",
       "      <td>34104.00</td>\n",
       "      <td>1.00</td>\n",
       "      <td>352.00</td>\n",
       "      <td>1.00</td>\n",
       "      <td>675.00</td>\n",
       "      <td>239.00</td>\n",
       "      <td>73717.95</td>\n",
       "      <td>4</td>\n",
       "      <td>8</td>\n",
       "      <td>2016</td>\n",
       "    </tr>\n",
       "    <tr>\n",
       "      <th>23695</th>\n",
       "      <td>14</td>\n",
       "      <td>3100000.00</td>\n",
       "      <td>59.00</td>\n",
       "      <td>2018-01-15</td>\n",
       "      <td>3</td>\n",
       "      <td>2.65</td>\n",
       "      <td>5.00</td>\n",
       "      <td>38.00</td>\n",
       "      <td>4</td>\n",
       "      <td>NaN</td>\n",
       "      <td>...</td>\n",
       "      <td>NaN</td>\n",
       "      <td>NaN</td>\n",
       "      <td>NaN</td>\n",
       "      <td>NaN</td>\n",
       "      <td>NaN</td>\n",
       "      <td>45.00</td>\n",
       "      <td>52542.37</td>\n",
       "      <td>0</td>\n",
       "      <td>1</td>\n",
       "      <td>2018</td>\n",
       "    </tr>\n",
       "    <tr>\n",
       "      <th>23696</th>\n",
       "      <td>18</td>\n",
       "      <td>2500000.00</td>\n",
       "      <td>56.70</td>\n",
       "      <td>2018-02-11</td>\n",
       "      <td>2</td>\n",
       "      <td>2.65</td>\n",
       "      <td>3.00</td>\n",
       "      <td>29.70</td>\n",
       "      <td>1</td>\n",
       "      <td>NaN</td>\n",
       "      <td>...</td>\n",
       "      <td>NaN</td>\n",
       "      <td>NaN</td>\n",
       "      <td>NaN</td>\n",
       "      <td>NaN</td>\n",
       "      <td>NaN</td>\n",
       "      <td>NaN</td>\n",
       "      <td>44091.71</td>\n",
       "      <td>6</td>\n",
       "      <td>2</td>\n",
       "      <td>2018</td>\n",
       "    </tr>\n",
       "    <tr>\n",
       "      <th>23697</th>\n",
       "      <td>13</td>\n",
       "      <td>11475000.00</td>\n",
       "      <td>76.75</td>\n",
       "      <td>2017-03-28</td>\n",
       "      <td>2</td>\n",
       "      <td>3.00</td>\n",
       "      <td>17.00</td>\n",
       "      <td>NaN</td>\n",
       "      <td>12</td>\n",
       "      <td>NaN</td>\n",
       "      <td>...</td>\n",
       "      <td>10364.00</td>\n",
       "      <td>2.00</td>\n",
       "      <td>173.00</td>\n",
       "      <td>3.00</td>\n",
       "      <td>196.00</td>\n",
       "      <td>602.00</td>\n",
       "      <td>149511.40</td>\n",
       "      <td>1</td>\n",
       "      <td>3</td>\n",
       "      <td>2017</td>\n",
       "    </tr>\n",
       "    <tr>\n",
       "      <th>23698</th>\n",
       "      <td>4</td>\n",
       "      <td>1350000.00</td>\n",
       "      <td>32.30</td>\n",
       "      <td>2017-07-21</td>\n",
       "      <td>1</td>\n",
       "      <td>2.50</td>\n",
       "      <td>5.00</td>\n",
       "      <td>12.30</td>\n",
       "      <td>1</td>\n",
       "      <td>NaN</td>\n",
       "      <td>...</td>\n",
       "      <td>NaN</td>\n",
       "      <td>NaN</td>\n",
       "      <td>NaN</td>\n",
       "      <td>NaN</td>\n",
       "      <td>NaN</td>\n",
       "      <td>NaN</td>\n",
       "      <td>41795.67</td>\n",
       "      <td>4</td>\n",
       "      <td>7</td>\n",
       "      <td>2017</td>\n",
       "    </tr>\n",
       "  </tbody>\n",
       "</table>\n",
       "<p>21452 rows × 26 columns</p>\n",
       "</div>"
      ],
      "text/plain": [
       "       total_images  last_price  total_area first_day_exposition  rooms  \\\n",
       "1                 7  3350000.00       40.40           2018-12-04      1   \n",
       "2                10  5196000.00       56.00           2015-08-20      2   \n",
       "5                10  2890000.00       30.40           2018-09-10      1   \n",
       "6                 6  3700000.00       37.30           2017-11-02      1   \n",
       "7                 5  7915000.00       71.60           2019-04-18      2   \n",
       "...             ...         ...         ...                  ...    ...   \n",
       "23693             9  4600000.00       62.40           2016-08-05      3   \n",
       "23695            14  3100000.00       59.00           2018-01-15      3   \n",
       "23696            18  2500000.00       56.70           2018-02-11      2   \n",
       "23697            13 11475000.00       76.75           2017-03-28      2   \n",
       "23698             4  1350000.00       32.30           2017-07-21      1   \n",
       "\n",
       "       ceiling_height  floors_total  living_area  floor is_apartment  ...  \\\n",
       "1                2.65         11.00        18.60      1          NaN  ...   \n",
       "2                2.65          5.00        34.30      4          NaN  ...   \n",
       "5                2.65         12.00        14.40      5          NaN  ...   \n",
       "6                2.65         26.00        10.60      6          NaN  ...   \n",
       "7                2.65         24.00          NaN     22          NaN  ...   \n",
       "...               ...           ...          ...    ...          ...  ...   \n",
       "23693            2.60          9.00        40.00      8          NaN  ...   \n",
       "23695            2.65          5.00        38.00      4          NaN  ...   \n",
       "23696            2.65          3.00        29.70      1          NaN  ...   \n",
       "23697            3.00         17.00          NaN     12          NaN  ...   \n",
       "23698            2.50          5.00        12.30      1          NaN  ...   \n",
       "\n",
       "       cityCenters_nearest  parks_around3000  parks_nearest  ponds_around3000  \\\n",
       "1                 18603.00              0.00            NaN              0.00   \n",
       "2                 13933.00              1.00          90.00              2.00   \n",
       "5                      NaN               NaN            NaN               NaN   \n",
       "6                 19143.00              0.00            NaN              0.00   \n",
       "7                 11634.00              0.00            NaN              0.00   \n",
       "...                    ...               ...            ...               ...   \n",
       "23693             34104.00              1.00         352.00              1.00   \n",
       "23695                  NaN               NaN            NaN               NaN   \n",
       "23696                  NaN               NaN            NaN               NaN   \n",
       "23697             10364.00              2.00         173.00              3.00   \n",
       "23698                  NaN               NaN            NaN               NaN   \n",
       "\n",
       "      ponds_nearest  days_exposition  square_meter_price  day_expo  \\\n",
       "1               NaN            81.00            82920.79         1   \n",
       "2            574.00           558.00            92785.71         3   \n",
       "5               NaN            55.00            95065.79         0   \n",
       "6               NaN           155.00            99195.71         3   \n",
       "7               NaN              NaN           110544.69         3   \n",
       "...             ...              ...                 ...       ...   \n",
       "23693        675.00           239.00            73717.95         4   \n",
       "23695           NaN            45.00            52542.37         0   \n",
       "23696           NaN              NaN            44091.71         6   \n",
       "23697        196.00           602.00           149511.40         1   \n",
       "23698           NaN              NaN            41795.67         4   \n",
       "\n",
       "       month_expo  year_expo  \n",
       "1              12       2018  \n",
       "2               8       2015  \n",
       "5               9       2018  \n",
       "6              11       2017  \n",
       "7               4       2019  \n",
       "...           ...        ...  \n",
       "23693           8       2016  \n",
       "23695           1       2018  \n",
       "23696           2       2018  \n",
       "23697           3       2017  \n",
       "23698           7       2017  \n",
       "\n",
       "[21452 rows x 26 columns]"
      ]
     },
     "execution_count": 47,
     "metadata": {},
     "output_type": "execute_result"
    }
   ],
   "source": [
    "df"
   ]
  },
  {
   "cell_type": "markdown",
   "metadata": {
    "id": "7_EdiXZrlyF_"
   },
   "source": [
    "Следующий столбец который мы создадим это тип этажа недвижимости. Сделаем это через функцию `def`"
   ]
  },
  {
   "cell_type": "code",
   "execution_count": 48,
   "metadata": {
    "id": "p2VXx49ZkrUS",
    "scrolled": true
   },
   "outputs": [
    {
     "name": "stderr",
     "output_type": "stream",
     "text": [
      "/tmp/ipykernel_379/3877201585.py:14: SettingWithCopyWarning: \n",
      "A value is trying to be set on a copy of a slice from a DataFrame.\n",
      "Try using .loc[row_indexer,col_indexer] = value instead\n",
      "\n",
      "See the caveats in the documentation: https://pandas.pydata.org/pandas-docs/stable/user_guide/indexing.html#returning-a-view-versus-a-copy\n",
      "  df['flat_type'] = df.apply(flat_type_check, axis=1)\n"
     ]
    }
   ],
   "source": [
    "def flat_type_check (row):\n",
    "    floor = row['floor']\n",
    "    floors_total = row['floors_total']\n",
    "    try:\n",
    "        if floor == 1: \n",
    "            return 'первый'\n",
    "        elif floor == floors_total:\n",
    "            return 'последний'\n",
    "        else:\n",
    "            return 'другой'\n",
    "    except:\n",
    "        return\n",
    "      \n",
    "df['flat_type'] = df.apply(flat_type_check, axis=1)"
   ]
  },
  {
   "cell_type": "markdown",
   "metadata": {
    "id": "FvQscZ4Qgttu"
   },
   "source": [
    "Также создадим новый столбец \"Расстояние до центра города в километрах\" оператором деления /"
   ]
  },
  {
   "cell_type": "code",
   "execution_count": 49,
   "metadata": {
    "id": "eTURAW1wnrr0",
    "scrolled": true
   },
   "outputs": [
    {
     "name": "stderr",
     "output_type": "stream",
     "text": [
      "/tmp/ipykernel_379/1600875771.py:1: SettingWithCopyWarning: \n",
      "A value is trying to be set on a copy of a slice from a DataFrame.\n",
      "Try using .loc[row_indexer,col_indexer] = value instead\n",
      "\n",
      "See the caveats in the documentation: https://pandas.pydata.org/pandas-docs/stable/user_guide/indexing.html#returning-a-view-versus-a-copy\n",
      "  df['cityCenters_nearest_km'] = (df['cityCenters_nearest'] / 1000).round()\n"
     ]
    }
   ],
   "source": [
    "df['cityCenters_nearest_km'] = (df['cityCenters_nearest'] / 1000).round()"
   ]
  },
  {
   "cell_type": "markdown",
   "metadata": {
    "id": "auZcvZW6osnX"
   },
   "source": [
    "Проверим выполненное."
   ]
  },
  {
   "cell_type": "code",
   "execution_count": 50,
   "metadata": {
    "colab": {
     "base_uri": "https://localhost:8080/",
     "height": 487
    },
    "id": "xmEYKc4WoGQP",
    "outputId": "ff188066-0cb2-46a8-d66f-b534c169b247"
   },
   "outputs": [
    {
     "data": {
      "text/html": [
       "<div>\n",
       "<style scoped>\n",
       "    .dataframe tbody tr th:only-of-type {\n",
       "        vertical-align: middle;\n",
       "    }\n",
       "\n",
       "    .dataframe tbody tr th {\n",
       "        vertical-align: top;\n",
       "    }\n",
       "\n",
       "    .dataframe thead th {\n",
       "        text-align: right;\n",
       "    }\n",
       "</style>\n",
       "<table border=\"1\" class=\"dataframe\">\n",
       "  <thead>\n",
       "    <tr style=\"text-align: right;\">\n",
       "      <th></th>\n",
       "      <th>total_images</th>\n",
       "      <th>last_price</th>\n",
       "      <th>total_area</th>\n",
       "      <th>first_day_exposition</th>\n",
       "      <th>rooms</th>\n",
       "      <th>ceiling_height</th>\n",
       "      <th>floors_total</th>\n",
       "      <th>living_area</th>\n",
       "      <th>floor</th>\n",
       "      <th>is_apartment</th>\n",
       "      <th>...</th>\n",
       "      <th>parks_nearest</th>\n",
       "      <th>ponds_around3000</th>\n",
       "      <th>ponds_nearest</th>\n",
       "      <th>days_exposition</th>\n",
       "      <th>square_meter_price</th>\n",
       "      <th>day_expo</th>\n",
       "      <th>month_expo</th>\n",
       "      <th>year_expo</th>\n",
       "      <th>flat_type</th>\n",
       "      <th>cityCenters_nearest_km</th>\n",
       "    </tr>\n",
       "  </thead>\n",
       "  <tbody>\n",
       "    <tr>\n",
       "      <th>1</th>\n",
       "      <td>7</td>\n",
       "      <td>3350000.00</td>\n",
       "      <td>40.40</td>\n",
       "      <td>2018-12-04</td>\n",
       "      <td>1</td>\n",
       "      <td>2.65</td>\n",
       "      <td>11.00</td>\n",
       "      <td>18.60</td>\n",
       "      <td>1</td>\n",
       "      <td>NaN</td>\n",
       "      <td>...</td>\n",
       "      <td>NaN</td>\n",
       "      <td>0.00</td>\n",
       "      <td>NaN</td>\n",
       "      <td>81.00</td>\n",
       "      <td>82920.79</td>\n",
       "      <td>1</td>\n",
       "      <td>12</td>\n",
       "      <td>2018</td>\n",
       "      <td>первый</td>\n",
       "      <td>19.00</td>\n",
       "    </tr>\n",
       "    <tr>\n",
       "      <th>2</th>\n",
       "      <td>10</td>\n",
       "      <td>5196000.00</td>\n",
       "      <td>56.00</td>\n",
       "      <td>2015-08-20</td>\n",
       "      <td>2</td>\n",
       "      <td>2.65</td>\n",
       "      <td>5.00</td>\n",
       "      <td>34.30</td>\n",
       "      <td>4</td>\n",
       "      <td>NaN</td>\n",
       "      <td>...</td>\n",
       "      <td>90.00</td>\n",
       "      <td>2.00</td>\n",
       "      <td>574.00</td>\n",
       "      <td>558.00</td>\n",
       "      <td>92785.71</td>\n",
       "      <td>3</td>\n",
       "      <td>8</td>\n",
       "      <td>2015</td>\n",
       "      <td>другой</td>\n",
       "      <td>14.00</td>\n",
       "    </tr>\n",
       "    <tr>\n",
       "      <th>5</th>\n",
       "      <td>10</td>\n",
       "      <td>2890000.00</td>\n",
       "      <td>30.40</td>\n",
       "      <td>2018-09-10</td>\n",
       "      <td>1</td>\n",
       "      <td>2.65</td>\n",
       "      <td>12.00</td>\n",
       "      <td>14.40</td>\n",
       "      <td>5</td>\n",
       "      <td>NaN</td>\n",
       "      <td>...</td>\n",
       "      <td>NaN</td>\n",
       "      <td>NaN</td>\n",
       "      <td>NaN</td>\n",
       "      <td>55.00</td>\n",
       "      <td>95065.79</td>\n",
       "      <td>0</td>\n",
       "      <td>9</td>\n",
       "      <td>2018</td>\n",
       "      <td>другой</td>\n",
       "      <td>NaN</td>\n",
       "    </tr>\n",
       "    <tr>\n",
       "      <th>6</th>\n",
       "      <td>6</td>\n",
       "      <td>3700000.00</td>\n",
       "      <td>37.30</td>\n",
       "      <td>2017-11-02</td>\n",
       "      <td>1</td>\n",
       "      <td>2.65</td>\n",
       "      <td>26.00</td>\n",
       "      <td>10.60</td>\n",
       "      <td>6</td>\n",
       "      <td>NaN</td>\n",
       "      <td>...</td>\n",
       "      <td>NaN</td>\n",
       "      <td>0.00</td>\n",
       "      <td>NaN</td>\n",
       "      <td>155.00</td>\n",
       "      <td>99195.71</td>\n",
       "      <td>3</td>\n",
       "      <td>11</td>\n",
       "      <td>2017</td>\n",
       "      <td>другой</td>\n",
       "      <td>19.00</td>\n",
       "    </tr>\n",
       "    <tr>\n",
       "      <th>7</th>\n",
       "      <td>5</td>\n",
       "      <td>7915000.00</td>\n",
       "      <td>71.60</td>\n",
       "      <td>2019-04-18</td>\n",
       "      <td>2</td>\n",
       "      <td>2.65</td>\n",
       "      <td>24.00</td>\n",
       "      <td>NaN</td>\n",
       "      <td>22</td>\n",
       "      <td>NaN</td>\n",
       "      <td>...</td>\n",
       "      <td>NaN</td>\n",
       "      <td>0.00</td>\n",
       "      <td>NaN</td>\n",
       "      <td>NaN</td>\n",
       "      <td>110544.69</td>\n",
       "      <td>3</td>\n",
       "      <td>4</td>\n",
       "      <td>2019</td>\n",
       "      <td>другой</td>\n",
       "      <td>12.00</td>\n",
       "    </tr>\n",
       "    <tr>\n",
       "      <th>...</th>\n",
       "      <td>...</td>\n",
       "      <td>...</td>\n",
       "      <td>...</td>\n",
       "      <td>...</td>\n",
       "      <td>...</td>\n",
       "      <td>...</td>\n",
       "      <td>...</td>\n",
       "      <td>...</td>\n",
       "      <td>...</td>\n",
       "      <td>...</td>\n",
       "      <td>...</td>\n",
       "      <td>...</td>\n",
       "      <td>...</td>\n",
       "      <td>...</td>\n",
       "      <td>...</td>\n",
       "      <td>...</td>\n",
       "      <td>...</td>\n",
       "      <td>...</td>\n",
       "      <td>...</td>\n",
       "      <td>...</td>\n",
       "      <td>...</td>\n",
       "    </tr>\n",
       "    <tr>\n",
       "      <th>23693</th>\n",
       "      <td>9</td>\n",
       "      <td>4600000.00</td>\n",
       "      <td>62.40</td>\n",
       "      <td>2016-08-05</td>\n",
       "      <td>3</td>\n",
       "      <td>2.60</td>\n",
       "      <td>9.00</td>\n",
       "      <td>40.00</td>\n",
       "      <td>8</td>\n",
       "      <td>NaN</td>\n",
       "      <td>...</td>\n",
       "      <td>352.00</td>\n",
       "      <td>1.00</td>\n",
       "      <td>675.00</td>\n",
       "      <td>239.00</td>\n",
       "      <td>73717.95</td>\n",
       "      <td>4</td>\n",
       "      <td>8</td>\n",
       "      <td>2016</td>\n",
       "      <td>другой</td>\n",
       "      <td>34.00</td>\n",
       "    </tr>\n",
       "    <tr>\n",
       "      <th>23695</th>\n",
       "      <td>14</td>\n",
       "      <td>3100000.00</td>\n",
       "      <td>59.00</td>\n",
       "      <td>2018-01-15</td>\n",
       "      <td>3</td>\n",
       "      <td>2.65</td>\n",
       "      <td>5.00</td>\n",
       "      <td>38.00</td>\n",
       "      <td>4</td>\n",
       "      <td>NaN</td>\n",
       "      <td>...</td>\n",
       "      <td>NaN</td>\n",
       "      <td>NaN</td>\n",
       "      <td>NaN</td>\n",
       "      <td>45.00</td>\n",
       "      <td>52542.37</td>\n",
       "      <td>0</td>\n",
       "      <td>1</td>\n",
       "      <td>2018</td>\n",
       "      <td>другой</td>\n",
       "      <td>NaN</td>\n",
       "    </tr>\n",
       "    <tr>\n",
       "      <th>23696</th>\n",
       "      <td>18</td>\n",
       "      <td>2500000.00</td>\n",
       "      <td>56.70</td>\n",
       "      <td>2018-02-11</td>\n",
       "      <td>2</td>\n",
       "      <td>2.65</td>\n",
       "      <td>3.00</td>\n",
       "      <td>29.70</td>\n",
       "      <td>1</td>\n",
       "      <td>NaN</td>\n",
       "      <td>...</td>\n",
       "      <td>NaN</td>\n",
       "      <td>NaN</td>\n",
       "      <td>NaN</td>\n",
       "      <td>NaN</td>\n",
       "      <td>44091.71</td>\n",
       "      <td>6</td>\n",
       "      <td>2</td>\n",
       "      <td>2018</td>\n",
       "      <td>первый</td>\n",
       "      <td>NaN</td>\n",
       "    </tr>\n",
       "    <tr>\n",
       "      <th>23697</th>\n",
       "      <td>13</td>\n",
       "      <td>11475000.00</td>\n",
       "      <td>76.75</td>\n",
       "      <td>2017-03-28</td>\n",
       "      <td>2</td>\n",
       "      <td>3.00</td>\n",
       "      <td>17.00</td>\n",
       "      <td>NaN</td>\n",
       "      <td>12</td>\n",
       "      <td>NaN</td>\n",
       "      <td>...</td>\n",
       "      <td>173.00</td>\n",
       "      <td>3.00</td>\n",
       "      <td>196.00</td>\n",
       "      <td>602.00</td>\n",
       "      <td>149511.40</td>\n",
       "      <td>1</td>\n",
       "      <td>3</td>\n",
       "      <td>2017</td>\n",
       "      <td>другой</td>\n",
       "      <td>10.00</td>\n",
       "    </tr>\n",
       "    <tr>\n",
       "      <th>23698</th>\n",
       "      <td>4</td>\n",
       "      <td>1350000.00</td>\n",
       "      <td>32.30</td>\n",
       "      <td>2017-07-21</td>\n",
       "      <td>1</td>\n",
       "      <td>2.50</td>\n",
       "      <td>5.00</td>\n",
       "      <td>12.30</td>\n",
       "      <td>1</td>\n",
       "      <td>NaN</td>\n",
       "      <td>...</td>\n",
       "      <td>NaN</td>\n",
       "      <td>NaN</td>\n",
       "      <td>NaN</td>\n",
       "      <td>NaN</td>\n",
       "      <td>41795.67</td>\n",
       "      <td>4</td>\n",
       "      <td>7</td>\n",
       "      <td>2017</td>\n",
       "      <td>первый</td>\n",
       "      <td>NaN</td>\n",
       "    </tr>\n",
       "  </tbody>\n",
       "</table>\n",
       "<p>21452 rows × 28 columns</p>\n",
       "</div>"
      ],
      "text/plain": [
       "       total_images  last_price  total_area first_day_exposition  rooms  \\\n",
       "1                 7  3350000.00       40.40           2018-12-04      1   \n",
       "2                10  5196000.00       56.00           2015-08-20      2   \n",
       "5                10  2890000.00       30.40           2018-09-10      1   \n",
       "6                 6  3700000.00       37.30           2017-11-02      1   \n",
       "7                 5  7915000.00       71.60           2019-04-18      2   \n",
       "...             ...         ...         ...                  ...    ...   \n",
       "23693             9  4600000.00       62.40           2016-08-05      3   \n",
       "23695            14  3100000.00       59.00           2018-01-15      3   \n",
       "23696            18  2500000.00       56.70           2018-02-11      2   \n",
       "23697            13 11475000.00       76.75           2017-03-28      2   \n",
       "23698             4  1350000.00       32.30           2017-07-21      1   \n",
       "\n",
       "       ceiling_height  floors_total  living_area  floor is_apartment  ...  \\\n",
       "1                2.65         11.00        18.60      1          NaN  ...   \n",
       "2                2.65          5.00        34.30      4          NaN  ...   \n",
       "5                2.65         12.00        14.40      5          NaN  ...   \n",
       "6                2.65         26.00        10.60      6          NaN  ...   \n",
       "7                2.65         24.00          NaN     22          NaN  ...   \n",
       "...               ...           ...          ...    ...          ...  ...   \n",
       "23693            2.60          9.00        40.00      8          NaN  ...   \n",
       "23695            2.65          5.00        38.00      4          NaN  ...   \n",
       "23696            2.65          3.00        29.70      1          NaN  ...   \n",
       "23697            3.00         17.00          NaN     12          NaN  ...   \n",
       "23698            2.50          5.00        12.30      1          NaN  ...   \n",
       "\n",
       "       parks_nearest  ponds_around3000  ponds_nearest  days_exposition  \\\n",
       "1                NaN              0.00            NaN            81.00   \n",
       "2              90.00              2.00         574.00           558.00   \n",
       "5                NaN               NaN            NaN            55.00   \n",
       "6                NaN              0.00            NaN           155.00   \n",
       "7                NaN              0.00            NaN              NaN   \n",
       "...              ...               ...            ...              ...   \n",
       "23693         352.00              1.00         675.00           239.00   \n",
       "23695            NaN               NaN            NaN            45.00   \n",
       "23696            NaN               NaN            NaN              NaN   \n",
       "23697         173.00              3.00         196.00           602.00   \n",
       "23698            NaN               NaN            NaN              NaN   \n",
       "\n",
       "      square_meter_price  day_expo  month_expo  year_expo  flat_type  \\\n",
       "1               82920.79         1          12       2018     первый   \n",
       "2               92785.71         3           8       2015     другой   \n",
       "5               95065.79         0           9       2018     другой   \n",
       "6               99195.71         3          11       2017     другой   \n",
       "7              110544.69         3           4       2019     другой   \n",
       "...                  ...       ...         ...        ...        ...   \n",
       "23693           73717.95         4           8       2016     другой   \n",
       "23695           52542.37         0           1       2018     другой   \n",
       "23696           44091.71         6           2       2018     первый   \n",
       "23697          149511.40         1           3       2017     другой   \n",
       "23698           41795.67         4           7       2017     первый   \n",
       "\n",
       "       cityCenters_nearest_km  \n",
       "1                       19.00  \n",
       "2                       14.00  \n",
       "5                         NaN  \n",
       "6                       19.00  \n",
       "7                       12.00  \n",
       "...                       ...  \n",
       "23693                   34.00  \n",
       "23695                     NaN  \n",
       "23696                     NaN  \n",
       "23697                   10.00  \n",
       "23698                     NaN  \n",
       "\n",
       "[21452 rows x 28 columns]"
      ]
     },
     "execution_count": 50,
     "metadata": {},
     "output_type": "execute_result"
    }
   ],
   "source": [
    "df"
   ]
  },
  {
   "cell_type": "markdown",
   "metadata": {
    "id": "UKi2PtAXovo6"
   },
   "source": [
    "# Промежуточный итог:\n",
    "<bt> На данном этапе мы добавили новые столбцы, сформировали новые группы по годам, дням неделям и месяцам, укрупнили группы этажей недвижимости в объявлениях. Перевели расстояния из метров в километры и округлили до целых чисел.Все готово для исследования таблицы."
   ]
  },
  {
   "cell_type": "markdown",
   "metadata": {
    "id": "VUw6OKnpxyDI"
   },
   "source": [
    "Изучим общую площадь всех объявлений Датафрейма:"
   ]
  },
  {
   "cell_type": "code",
   "execution_count": 51,
   "metadata": {
    "colab": {
     "base_uri": "https://localhost:8080/",
     "height": 447
    },
    "id": "atxrlpi1xYud",
    "outputId": "6f998ca9-245f-4861-e883-97fc1fe6e200"
   },
   "outputs": [
    {
     "data": {
      "text/plain": [
       "count   21452.00\n",
       "mean       52.34\n",
       "std        17.00\n",
       "min        12.00\n",
       "25%        39.00\n",
       "50%        49.00\n",
       "75%        63.00\n",
       "max        98.90\n",
       "Name: total_area, dtype: float64"
      ]
     },
     "execution_count": 51,
     "metadata": {},
     "output_type": "execute_result"
    },
    {
     "data": {
      "image/png": "[encoded data removed]",
      "text/plain": [
       "<Figure size 360x216 with 1 Axes>"
      ]
     },
     "metadata": {
      "needs_background": "light"
     },
     "output_type": "display_data"
    }
   ],
   "source": [
    "df.plot(y = 'total_area', kind = 'hist', bins = 108, grid=True, figsize = (5,3), range = (8,500))\n",
    "df['total_area'].describe()"
   ]
  },
  {
   "cell_type": "markdown",
   "metadata": {
    "id": "sG9x9Hmcx7Sn"
   },
   "source": [
    "Исходя из гистограммы мы видим что большинство недвижимости которое есть в таблице имею площадь в диапазон от 50 до 100 кв.м., у недвижимости с площадью менее 50 кв. м. так же большая доля. В 10 раз меньше квартир с площадью от 100 до 150 кв.м. Еще меньше квартир с площадью 150 - 200 кв.м. и единичные случаи присутсвуют объявления о продаже недвижмости с площадью более 200 кв.м.\n",
    "<br> Посмотрим на гистограмму с жилой площадью объявлений датафрейма."
   ]
  },
  {
   "cell_type": "code",
   "execution_count": 52,
   "metadata": {
    "colab": {
     "base_uri": "https://localhost:8080/",
     "height": 447
    },
    "id": "-oLxq6W00xKC",
    "outputId": "d5b1b5b6-67f0-4329-a7d2-fe3b8e751564"
   },
   "outputs": [
    {
     "data": {
      "text/plain": [
       "count   19776.00\n",
       "mean       29.92\n",
       "std        12.24\n",
       "min         2.00\n",
       "25%        18.00\n",
       "50%        29.00\n",
       "75%        39.00\n",
       "max        88.00\n",
       "Name: living_area, dtype: float64"
      ]
     },
     "execution_count": 52,
     "metadata": {},
     "output_type": "execute_result"
    },
    {
     "data": {
      "image/png": "[encoded data removed]",
      "text/plain": [
       "<Figure size 360x216 with 1 Axes>"
      ]
     },
     "metadata": {
      "needs_background": "light"
     },
     "output_type": "display_data"
    }
   ],
   "source": [
    "df.plot(y = 'living_area', kind = 'hist', bins = 108, grid=True, figsize = (5,3))\n",
    "df['living_area'].describe()"
   ]
  },
  {
   "cell_type": "markdown",
   "metadata": {
    "id": "Wgo86ZL5Cmep"
   },
   "source": [
    "На гистограмме мы видим что более 10 тысяч объявлений размещены с жилой площадью недвижимости с площадью до 30 кв.м. Чуть более 8 тысяч с площадью от 30 до 50 кв.м. И почти 3 тысячи объявлений с площадью 50-100 кв.м. А также небольшое количество с жилой площадью 100-150 кв.м. И единичные случаи с жилой площадью 150-200 кв.м."
   ]
  },
  {
   "cell_type": "code",
   "execution_count": 53,
   "metadata": {
    "colab": {
     "base_uri": "https://localhost:8080/",
     "height": 447
    },
    "id": "Ub2o_b4D1ek1",
    "outputId": "70afad75-df6e-45e9-c85f-a1b3c66b0a99"
   },
   "outputs": [
    {
     "data": {
      "text/plain": [
       "count   19394.00\n",
       "mean        9.59\n",
       "std         3.80\n",
       "min         1.30\n",
       "25%         7.00\n",
       "50%         9.00\n",
       "75%        11.00\n",
       "max        50.00\n",
       "Name: kitchen_area, dtype: float64"
      ]
     },
     "execution_count": 53,
     "metadata": {},
     "output_type": "execute_result"
    },
    {
     "data": {
      "image/png": "[encoded data removed]",
      "text/plain": [
       "<Figure size 360x216 with 1 Axes>"
      ]
     },
     "metadata": {
      "needs_background": "light"
     },
     "output_type": "display_data"
    }
   ],
   "source": [
    "df.plot(y = 'kitchen_area', kind = 'hist', bins = 108, grid=True, figsize = (5,3))\n",
    "df['kitchen_area'].describe()"
   ]
  },
  {
   "cell_type": "markdown",
   "metadata": {
    "id": "czTPERo6Dvvo"
   },
   "source": [
    "На гистограмме по площади кухни мы видем что более 11 тысяч объявлений о продаже жилья с площадью кухни 5-40 кв.м. Чуть более 9 тысяч объявлений плоащдью кухонь от 10 до 30 кв.м. И лишь немного, около 400 объявлений с кухнями площадью от 30 до 50 кв.м. В совокпуность мы видим нормальную пропорциональность по отношению между общей, жилой площади и площади кухонь. "
   ]
  },
  {
   "cell_type": "markdown",
   "metadata": {
    "id": "vv_CtiNJj5rl"
   },
   "source": [
    "Для наглядности гистограммы с ценой объектов мы разделим стоимость всех объектов на 1 млн."
   ]
  },
  {
   "cell_type": "code",
   "execution_count": 54,
   "metadata": {
    "id": "WP9an7Y6iM4t",
    "scrolled": true
   },
   "outputs": [
    {
     "name": "stderr",
     "output_type": "stream",
     "text": [
      "/tmp/ipykernel_379/720138138.py:1: SettingWithCopyWarning: \n",
      "A value is trying to be set on a copy of a slice from a DataFrame.\n",
      "Try using .loc[row_indexer,col_indexer] = value instead\n",
      "\n",
      "See the caveats in the documentation: https://pandas.pydata.org/pandas-docs/stable/user_guide/indexing.html#returning-a-view-versus-a-copy\n",
      "  df['disp_last_price'] = df['last_price']/1000000\n"
     ]
    }
   ],
   "source": [
    "df['disp_last_price'] = df['last_price']/1000000"
   ]
  },
  {
   "cell_type": "code",
   "execution_count": 55,
   "metadata": {
    "colab": {
     "base_uri": "https://localhost:8080/",
     "height": 469
    },
    "id": "Rrb-pOmwFIqL",
    "outputId": "f1498a77-2e71-4dcc-9715-312bfb5bf9c4"
   },
   "outputs": [
    {
     "data": {
      "text/plain": [
       "<AxesSubplot:title={'center':'Стоимость объектов'}, ylabel='Frequency'>"
      ]
     },
     "execution_count": 55,
     "metadata": {},
     "output_type": "execute_result"
    },
    {
     "data": {
      "image/png": "[encoded data removed]",
      "text/plain": [
       "<Figure size 432x288 with 1 Axes>"
      ]
     },
     "metadata": {
      "needs_background": "light"
     },
     "output_type": "display_data"
    }
   ],
   "source": [
    "df['disp_last_price'].plot.hist(title = 'Стоимость объектов', grid=True, bins = 110, range = (0,50))"
   ]
  },
  {
   "cell_type": "markdown",
   "metadata": {
    "id": "cdvqsAKpXFaz"
   },
   "source": [
    "На гистрограмме стоимости объектов мы видим, что свыше 2000 объявлений с ценой порядка 4 млн.р. Это самая популярная стоимость датафрейма. Объявлений о продаже недвижимости со стоимостью выше 10 млн.р. не так много, совсем единичные случаи объявлений с ценой от 20 до 30 млн. В целом гистограмма нормального распределения."
   ]
  },
  {
   "cell_type": "code",
   "execution_count": 56,
   "metadata": {
    "colab": {
     "base_uri": "https://localhost:8080/",
     "height": 586
    },
    "id": "avzyHj2UrPJb",
    "outputId": "d685f293-281b-440c-8e3c-ad66d53fbaf8"
   },
   "outputs": [
    {
     "data": {
      "text/plain": [
       "count   21452.00\n",
       "mean        1.90\n",
       "std         0.87\n",
       "min         0.00\n",
       "25%         1.00\n",
       "50%         2.00\n",
       "75%         3.00\n",
       "max         6.00\n",
       "Name: rooms, dtype: float64"
      ]
     },
     "execution_count": 56,
     "metadata": {},
     "output_type": "execute_result"
    },
    {
     "data": {
      "image/png": "[encoded data removed]",
      "text/plain": [
       "<Figure size 432x288 with 1 Axes>"
      ]
     },
     "metadata": {
      "needs_background": "light"
     },
     "output_type": "display_data"
    }
   ],
   "source": [
    "df['rooms'].hist(bins=108,range= (0,19))\n",
    "df['rooms'].describe()"
   ]
  },
  {
   "cell_type": "markdown",
   "metadata": {
    "id": "txhtJaKI_Qoy"
   },
   "source": [
    "В данной гистограмме мы видим присутсвие объявлений о продаже квартир без комнат, вероятно пользователи таким образом обозначали квартиры-студии. Большое количество объявлений о продаже недвижимости (порядка 8000) квартиры с 1 и 2 комнатами. Чуть меньше (почти 6000) 3 комнатных квартир. Как мы видим присутсвуют и квартиры с 19 комнатами. Посмотрим сколько квартир с большим количеством комнат. Сделаем запрос сколько объявлений о продаже квартир с более чем 12-ью комнатами. "
   ]
  },
  {
   "cell_type": "code",
   "execution_count": 57,
   "metadata": {
    "colab": {
     "base_uri": "https://localhost:8080/",
     "height": 331
    },
    "id": "K4IHY3XcAZWk",
    "outputId": "404dfd38-15f0-4338-d894-cae4e33d6fc8"
   },
   "outputs": [
    {
     "data": {
      "text/html": [
       "<div>\n",
       "<style scoped>\n",
       "    .dataframe tbody tr th:only-of-type {\n",
       "        vertical-align: middle;\n",
       "    }\n",
       "\n",
       "    .dataframe tbody tr th {\n",
       "        vertical-align: top;\n",
       "    }\n",
       "\n",
       "    .dataframe thead th {\n",
       "        text-align: right;\n",
       "    }\n",
       "</style>\n",
       "<table border=\"1\" class=\"dataframe\">\n",
       "  <thead>\n",
       "    <tr style=\"text-align: right;\">\n",
       "      <th></th>\n",
       "      <th>total_images</th>\n",
       "      <th>last_price</th>\n",
       "      <th>total_area</th>\n",
       "      <th>first_day_exposition</th>\n",
       "      <th>rooms</th>\n",
       "      <th>ceiling_height</th>\n",
       "      <th>floors_total</th>\n",
       "      <th>living_area</th>\n",
       "      <th>floor</th>\n",
       "      <th>is_apartment</th>\n",
       "      <th>...</th>\n",
       "      <th>ponds_around3000</th>\n",
       "      <th>ponds_nearest</th>\n",
       "      <th>days_exposition</th>\n",
       "      <th>square_meter_price</th>\n",
       "      <th>day_expo</th>\n",
       "      <th>month_expo</th>\n",
       "      <th>year_expo</th>\n",
       "      <th>flat_type</th>\n",
       "      <th>cityCenters_nearest_km</th>\n",
       "      <th>disp_last_price</th>\n",
       "    </tr>\n",
       "  </thead>\n",
       "  <tbody>\n",
       "  </tbody>\n",
       "</table>\n",
       "<p>0 rows × 29 columns</p>\n",
       "</div>"
      ],
      "text/plain": [
       "Empty DataFrame\n",
       "Columns: [total_images, last_price, total_area, first_day_exposition, rooms, ceiling_height, floors_total, living_area, floor, is_apartment, studio, open_plan, kitchen_area, balcony, locality_name, airports_nearest, cityCenters_nearest, parks_around3000, parks_nearest, ponds_around3000, ponds_nearest, days_exposition, square_meter_price, day_expo, month_expo, year_expo, flat_type, cityCenters_nearest_km, disp_last_price]\n",
       "Index: []\n",
       "\n",
       "[0 rows x 29 columns]"
      ]
     },
     "execution_count": 57,
     "metadata": {},
     "output_type": "execute_result"
    }
   ],
   "source": [
    "df.query('rooms >= 12')"
   ]
  },
  {
   "cell_type": "markdown",
   "metadata": {
    "id": "tDDC6oYBAmP7"
   },
   "source": [
    "6 объявлений о продаже квартир с более 12-ью комнатами, никаких аномалий тут нет, площадь квартир действительно позволяет разместить 12 и более комнат."
   ]
  },
  {
   "cell_type": "markdown",
   "metadata": {
    "id": "JUv96qF2A5Zb"
   },
   "source": [
    "Следующий параметр который мы исследуем это высота потолков."
   ]
  },
  {
   "cell_type": "code",
   "execution_count": 58,
   "metadata": {
    "colab": {
     "base_uri": "https://localhost:8080/",
     "height": 447
    },
    "id": "2eoebEhRskEb",
    "outputId": "fbc80774-893b-4b59-cad7-f954535f9920"
   },
   "outputs": [
    {
     "data": {
      "text/plain": [
       "count   21452.00\n",
       "mean        2.67\n",
       "std         0.18\n",
       "min         2.20\n",
       "25%         2.60\n",
       "50%         2.65\n",
       "75%         2.70\n",
       "max         4.80\n",
       "Name: ceiling_height, dtype: float64"
      ]
     },
     "execution_count": 58,
     "metadata": {},
     "output_type": "execute_result"
    },
    {
     "data": {
      "image/png": "[encoded data removed]",
      "text/plain": [
       "<Figure size 360x216 with 1 Axes>"
      ]
     },
     "metadata": {
      "needs_background": "light"
     },
     "output_type": "display_data"
    }
   ],
   "source": [
    "df.plot(y = 'ceiling_height', kind = 'hist', bins = 60, grid=True, figsize = (5,3), range= (2.5,5))\n",
    "df['ceiling_height'].describe()"
   ]
  },
  {
   "cell_type": "markdown",
   "metadata": {
    "id": "fJwkRNdZBAaK"
   },
   "source": [
    "Большое количество объявлений с медианной высотой потолков, вероятно большое количество пропусков, которое мы заменили на медианное значение повлияло на этот показатель."
   ]
  },
  {
   "cell_type": "markdown",
   "metadata": {
    "id": "omaGIGh8B83n"
   },
   "source": [
    "Следующий параметр который мы исследуем это этаж на котором расположена продавамая недвижимость."
   ]
  },
  {
   "cell_type": "code",
   "execution_count": 59,
   "metadata": {
    "colab": {
     "base_uri": "https://localhost:8080/",
     "height": 452
    },
    "id": "PJ1IVEzStSxp",
    "outputId": "2f95f223-aec5-487c-80ee-208db5e8b89a"
   },
   "outputs": [
    {
     "data": {
      "text/plain": [
       "count   21452.00\n",
       "mean        5.92\n",
       "std         4.91\n",
       "min         1.00\n",
       "25%         2.00\n",
       "50%         4.00\n",
       "75%         8.00\n",
       "max        31.00\n",
       "Name: floor, dtype: float64"
      ]
     },
     "execution_count": 59,
     "metadata": {},
     "output_type": "execute_result"
    },
    {
     "data": {
      "image/png": "[encoded data removed]",
      "text/plain": [
       "<Figure size 360x216 with 1 Axes>"
      ]
     },
     "metadata": {
      "needs_background": "light"
     },
     "output_type": "display_data"
    }
   ],
   "source": [
    "df.plot(y = 'floor', kind = 'hist', bins = 108, grid=True, figsize = (5,3))\n",
    "df['floor'].describe()"
   ]
  },
  {
   "cell_type": "markdown",
   "metadata": {
    "id": "IrOlXJgbCH0l"
   },
   "source": [
    "Большое количество объявлений о продаже недвижимости на первых 5 этажах, вероятно высокая доля типовых застроек (\"хрущевок)\""
   ]
  },
  {
   "cell_type": "markdown",
   "metadata": {
    "id": "sSKFHsVKDSbg"
   },
   "source": [
    "Посмотрим гистограмму по типу этажей: первый, последний и другие"
   ]
  },
  {
   "cell_type": "code",
   "execution_count": 60,
   "metadata": {
    "colab": {
     "base_uri": "https://localhost:8080/",
     "height": 374
    },
    "id": "MH3Ip78GtaT4",
    "outputId": "f7187df4-974f-4251-e319-95b53a36e9f6"
   },
   "outputs": [
    {
     "data": {
      "text/plain": [
       "<AxesSubplot:>"
      ]
     },
     "execution_count": 60,
     "metadata": {},
     "output_type": "execute_result"
    },
    {
     "data": {
      "image/png": "[encoded data removed]",
      "text/plain": [
       "<Figure size 360x216 with 1 Axes>"
      ]
     },
     "metadata": {
      "needs_background": "light"
     },
     "output_type": "display_data"
    }
   ],
   "source": [
    "amount_flat_type = df['flat_type'].value_counts()\n",
    "amount_flat_type.plot( kind = 'bar', grid=True, figsize = (5,3))"
   ]
  },
  {
   "cell_type": "markdown",
   "metadata": {
    "id": "9U1DSLIeCx0J"
   },
   "source": [
    "Большая доля объявлений о продаже недвижимости, приходится не на первый и не на последний этаж. Объявления о продаже квартир на первых и последних этажах примерно одинаковое - 2500-3000 объявлений."
   ]
  },
  {
   "cell_type": "markdown",
   "metadata": {
    "id": "pEKmMC3ZDXVn"
   },
   "source": [
    "Следующий параметр который мы исследуем это общее количество этажей в доме, где расположена продавамая недвижимость."
   ]
  },
  {
   "cell_type": "code",
   "execution_count": 61,
   "metadata": {
    "colab": {
     "base_uri": "https://localhost:8080/",
     "height": 451
    },
    "id": "J3gxXJlAHTuX",
    "outputId": "6dd8c329-7008-4e04-9bec-930a8e476717"
   },
   "outputs": [
    {
     "data": {
      "text/plain": [
       "count   21378.00\n",
       "mean       10.82\n",
       "std         6.63\n",
       "min         1.00\n",
       "25%         5.00\n",
       "50%         9.00\n",
       "75%        16.00\n",
       "max        60.00\n",
       "Name: floors_total, dtype: float64"
      ]
     },
     "execution_count": 61,
     "metadata": {},
     "output_type": "execute_result"
    },
    {
     "data": {
      "image/png": "[encoded data removed]",
      "text/plain": [
       "<Figure size 360x216 with 1 Axes>"
      ]
     },
     "metadata": {
      "needs_background": "light"
     },
     "output_type": "display_data"
    }
   ],
   "source": [
    "df.plot(y = 'floors_total', kind = 'hist', bins = 108, grid=True, figsize = (5,3))\n",
    "df['floors_total'].describe()"
   ]
  },
  {
   "cell_type": "markdown",
   "metadata": {
    "id": "9snMmjBoD9M_"
   },
   "source": [
    "Здесь мы видим что почти 6000 объявлений о продаже недвижимости, которая расположена в 5-ти этажных домах.Также большое количество объявлений о продаже квартир в 9-ти этажных домах."
   ]
  },
  {
   "cell_type": "markdown",
   "metadata": {
    "id": "jUHv12aHEoGi"
   },
   "source": [
    "Следующий параметр который мы исследуем это близость до центра."
   ]
  },
  {
   "cell_type": "code",
   "execution_count": 62,
   "metadata": {
    "colab": {
     "base_uri": "https://localhost:8080/",
     "height": 451
    },
    "id": "OgIUFN2LI7K0",
    "outputId": "c9090c8b-7253-4160-88cd-1244b897ae4c"
   },
   "outputs": [
    {
     "data": {
      "text/plain": [
       "count   16041.00\n",
       "mean    14935.93\n",
       "std      8463.72\n",
       "min       208.00\n",
       "25%     10603.00\n",
       "50%     13587.00\n",
       "75%     16685.00\n",
       "max     65968.00\n",
       "Name: cityCenters_nearest, dtype: float64"
      ]
     },
     "execution_count": 62,
     "metadata": {},
     "output_type": "execute_result"
    },
    {
     "data": {
      "image/png": "[encoded data removed]",
      "text/plain": [
       "<Figure size 360x216 with 1 Axes>"
      ]
     },
     "metadata": {
      "needs_background": "light"
     },
     "output_type": "display_data"
    }
   ],
   "source": [
    "df.plot(y = 'cityCenters_nearest', kind = 'hist', bins = 80, grid=True, figsize = (5,3))\n",
    "df['cityCenters_nearest'].describe()"
   ]
  },
  {
   "cell_type": "markdown",
   "metadata": {
    "id": "ZLClpuV8E4XX"
   },
   "source": [
    "Большинство квартир, которые продаются, расположены в радиусе 10-20 км. от центра, также не мало квартир которые продаются в 5 км от центра города. Присутсвует также недвижимость которая продается в более чем 30 км. от центра города. Посмотрим подробнее на эти объявления. "
   ]
  },
  {
   "cell_type": "code",
   "execution_count": 63,
   "metadata": {
    "colab": {
     "base_uri": "https://localhost:8080/"
    },
    "id": "Sh7OrvLuFZiV",
    "outputId": "600ae669-fe84-411a-b8a8-3803c0f1225c"
   },
   "outputs": [
    {
     "data": {
      "text/plain": [
       "11          Ломоносов\n",
       "13           Петергоф\n",
       "14             Пушкин\n",
       "28             Пушкин\n",
       "33            Колпино\n",
       "             ...     \n",
       "23660    Красное Село\n",
       "23667      Сестрорецк\n",
       "23669         Колпино\n",
       "23685       Ломоносов\n",
       "23693        Петергоф\n",
       "Name: locality_name, Length: 1259, dtype: object"
      ]
     },
     "execution_count": 63,
     "metadata": {},
     "output_type": "execute_result"
    }
   ],
   "source": [
    "df.query('cityCenters_nearest > 30000')['locality_name']"
   ]
  },
  {
   "cell_type": "markdown",
   "metadata": {
    "id": "jpX85-IEI2-H"
   },
   "source": [
    "Все населенные пункты, в которых расположены продаваемые квартиры, находятся в составе города Санкт-Петербург. Не исключено что до центра Санкт-Петербурга расстояние свыше 30 км, стоит также учесть что данные картографические не заполняются пользователем."
   ]
  },
  {
   "cell_type": "markdown",
   "metadata": {
    "id": "th_NfoXYJtVR"
   },
   "source": [
    "Следующий параметр который мы исследуем это близость до аэропорта."
   ]
  },
  {
   "cell_type": "code",
   "execution_count": 64,
   "metadata": {
    "colab": {
     "base_uri": "https://localhost:8080/",
     "height": 447
    },
    "id": "VagI6I4QJSkw",
    "outputId": "b25ef58b-82af-4cf6-c63c-59776d9dc974"
   },
   "outputs": [
    {
     "data": {
      "text/plain": [
       "count   16028.00\n",
       "mean    28934.11\n",
       "std     12994.20\n",
       "min         0.00\n",
       "25%     18030.50\n",
       "50%     27244.00\n",
       "75%     37715.00\n",
       "max     84869.00\n",
       "Name: airports_nearest, dtype: float64"
      ]
     },
     "execution_count": 64,
     "metadata": {},
     "output_type": "execute_result"
    },
    {
     "data": {
      "image/png": "[encoded data removed]",
      "text/plain": [
       "<Figure size 360x216 with 1 Axes>"
      ]
     },
     "metadata": {
      "needs_background": "light"
     },
     "output_type": "display_data"
    }
   ],
   "source": [
    "df.plot(y = 'airports_nearest', kind = 'hist', bins = 108, grid=True, figsize = (5,3))\n",
    "df['airports_nearest'].describe()"
   ]
  },
  {
   "cell_type": "markdown",
   "metadata": {
    "id": "0H2W9GmiJygI"
   },
   "source": [
    "Единственным гражданским аэропортом в Санкт-Петербурге и области является аэропорт Пулково. Очевидно что некоторые населенные пункты,где продается недвижимость, находятся на расстоянии более чем 50 км. от аэропорта. Также присутсвует минимальное значение это 0, вероятно это техническая ошибка."
   ]
  },
  {
   "cell_type": "code",
   "execution_count": 65,
   "metadata": {
    "colab": {
     "base_uri": "https://localhost:8080/",
     "height": 447
    },
    "id": "afv9PWKnKSGT",
    "outputId": "4ac9107a-5c10-423a-b53d-134720bcf550"
   },
   "outputs": [
    {
     "data": {
      "text/plain": [
       "count   6713.00\n",
       "mean     492.25\n",
       "std      335.23\n",
       "min        1.00\n",
       "25%      291.00\n",
       "50%      458.00\n",
       "75%      616.00\n",
       "max     3190.00\n",
       "Name: parks_nearest, dtype: float64"
      ]
     },
     "execution_count": 65,
     "metadata": {},
     "output_type": "execute_result"
    },
    {
     "data": {
      "image/png": "[encoded data removed]",
      "text/plain": [
       "<Figure size 360x216 with 1 Axes>"
      ]
     },
     "metadata": {
      "needs_background": "light"
     },
     "output_type": "display_data"
    }
   ],
   "source": [
    "df.plot(y = 'parks_nearest', kind = 'hist', bins = 108, grid=True, figsize = (5,3))\n",
    "df['parks_nearest'].describe()"
   ]
  },
  {
   "cell_type": "markdown",
   "metadata": {
    "id": "gtPfmu-8WYyU"
   },
   "source": [
    "Большое количество недвижимости продается лишь в полукилометре от парков. В целом количество объявлений о продаже квартир с рядом расположенным парком больше чем количество объявлений которые расположены дальше чем 500 м. от парка."
   ]
  },
  {
   "cell_type": "markdown",
   "metadata": {
    "id": "H7-h__7ns0_k"
   },
   "source": [
    "Рассмотрим гистрограмму по месяцам публикации объявлений."
   ]
  },
  {
   "cell_type": "code",
   "execution_count": 66,
   "metadata": {
    "colab": {
     "base_uri": "https://localhost:8080/",
     "height": 487
    },
    "id": "MdUJNVfLJMX1",
    "outputId": "98b98763-ba08-4937-d041-b4a295bc81c9"
   },
   "outputs": [
    {
     "data": {
      "text/html": [
       "<div>\n",
       "<style scoped>\n",
       "    .dataframe tbody tr th:only-of-type {\n",
       "        vertical-align: middle;\n",
       "    }\n",
       "\n",
       "    .dataframe tbody tr th {\n",
       "        vertical-align: top;\n",
       "    }\n",
       "\n",
       "    .dataframe thead th {\n",
       "        text-align: right;\n",
       "    }\n",
       "</style>\n",
       "<table border=\"1\" class=\"dataframe\">\n",
       "  <thead>\n",
       "    <tr style=\"text-align: right;\">\n",
       "      <th></th>\n",
       "      <th>total_images</th>\n",
       "      <th>last_price</th>\n",
       "      <th>total_area</th>\n",
       "      <th>first_day_exposition</th>\n",
       "      <th>rooms</th>\n",
       "      <th>ceiling_height</th>\n",
       "      <th>floors_total</th>\n",
       "      <th>living_area</th>\n",
       "      <th>floor</th>\n",
       "      <th>is_apartment</th>\n",
       "      <th>...</th>\n",
       "      <th>ponds_around3000</th>\n",
       "      <th>ponds_nearest</th>\n",
       "      <th>days_exposition</th>\n",
       "      <th>square_meter_price</th>\n",
       "      <th>day_expo</th>\n",
       "      <th>month_expo</th>\n",
       "      <th>year_expo</th>\n",
       "      <th>flat_type</th>\n",
       "      <th>cityCenters_nearest_km</th>\n",
       "      <th>disp_last_price</th>\n",
       "    </tr>\n",
       "  </thead>\n",
       "  <tbody>\n",
       "    <tr>\n",
       "      <th>2</th>\n",
       "      <td>10</td>\n",
       "      <td>5196000.00</td>\n",
       "      <td>56.00</td>\n",
       "      <td>2015-08-20</td>\n",
       "      <td>2</td>\n",
       "      <td>2.65</td>\n",
       "      <td>5.00</td>\n",
       "      <td>34.30</td>\n",
       "      <td>4</td>\n",
       "      <td>NaN</td>\n",
       "      <td>...</td>\n",
       "      <td>2.00</td>\n",
       "      <td>574.00</td>\n",
       "      <td>558.00</td>\n",
       "      <td>92785.71</td>\n",
       "      <td>3</td>\n",
       "      <td>8</td>\n",
       "      <td>2015</td>\n",
       "      <td>другой</td>\n",
       "      <td>14.00</td>\n",
       "      <td>5.20</td>\n",
       "    </tr>\n",
       "    <tr>\n",
       "      <th>10</th>\n",
       "      <td>5</td>\n",
       "      <td>5050000.00</td>\n",
       "      <td>39.60</td>\n",
       "      <td>2017-11-16</td>\n",
       "      <td>1</td>\n",
       "      <td>2.67</td>\n",
       "      <td>12.00</td>\n",
       "      <td>20.30</td>\n",
       "      <td>3</td>\n",
       "      <td>NaN</td>\n",
       "      <td>...</td>\n",
       "      <td>2.00</td>\n",
       "      <td>553.00</td>\n",
       "      <td>137.00</td>\n",
       "      <td>127525.25</td>\n",
       "      <td>3</td>\n",
       "      <td>11</td>\n",
       "      <td>2017</td>\n",
       "      <td>другой</td>\n",
       "      <td>14.00</td>\n",
       "      <td>5.05</td>\n",
       "    </tr>\n",
       "    <tr>\n",
       "      <th>13</th>\n",
       "      <td>20</td>\n",
       "      <td>3550000.00</td>\n",
       "      <td>42.80</td>\n",
       "      <td>2017-07-01</td>\n",
       "      <td>2</td>\n",
       "      <td>2.56</td>\n",
       "      <td>5.00</td>\n",
       "      <td>27.00</td>\n",
       "      <td>5</td>\n",
       "      <td>NaN</td>\n",
       "      <td>...</td>\n",
       "      <td>3.00</td>\n",
       "      <td>298.00</td>\n",
       "      <td>366.00</td>\n",
       "      <td>82943.93</td>\n",
       "      <td>5</td>\n",
       "      <td>7</td>\n",
       "      <td>2017</td>\n",
       "      <td>последний</td>\n",
       "      <td>33.00</td>\n",
       "      <td>3.55</td>\n",
       "    </tr>\n",
       "    <tr>\n",
       "      <th>15</th>\n",
       "      <td>16</td>\n",
       "      <td>4650000.00</td>\n",
       "      <td>39.00</td>\n",
       "      <td>2017-11-18</td>\n",
       "      <td>1</td>\n",
       "      <td>2.65</td>\n",
       "      <td>14.00</td>\n",
       "      <td>20.50</td>\n",
       "      <td>5</td>\n",
       "      <td>NaN</td>\n",
       "      <td>...</td>\n",
       "      <td>1.00</td>\n",
       "      <td>296.00</td>\n",
       "      <td>19.00</td>\n",
       "      <td>119230.77</td>\n",
       "      <td>5</td>\n",
       "      <td>11</td>\n",
       "      <td>2017</td>\n",
       "      <td>другой</td>\n",
       "      <td>14.00</td>\n",
       "      <td>4.65</td>\n",
       "    </tr>\n",
       "    <tr>\n",
       "      <th>16</th>\n",
       "      <td>11</td>\n",
       "      <td>6700000.00</td>\n",
       "      <td>82.00</td>\n",
       "      <td>2017-11-23</td>\n",
       "      <td>3</td>\n",
       "      <td>3.05</td>\n",
       "      <td>5.00</td>\n",
       "      <td>55.60</td>\n",
       "      <td>1</td>\n",
       "      <td>NaN</td>\n",
       "      <td>...</td>\n",
       "      <td>0.00</td>\n",
       "      <td>NaN</td>\n",
       "      <td>397.00</td>\n",
       "      <td>81707.32</td>\n",
       "      <td>3</td>\n",
       "      <td>11</td>\n",
       "      <td>2017</td>\n",
       "      <td>первый</td>\n",
       "      <td>11.00</td>\n",
       "      <td>6.70</td>\n",
       "    </tr>\n",
       "    <tr>\n",
       "      <th>...</th>\n",
       "      <td>...</td>\n",
       "      <td>...</td>\n",
       "      <td>...</td>\n",
       "      <td>...</td>\n",
       "      <td>...</td>\n",
       "      <td>...</td>\n",
       "      <td>...</td>\n",
       "      <td>...</td>\n",
       "      <td>...</td>\n",
       "      <td>...</td>\n",
       "      <td>...</td>\n",
       "      <td>...</td>\n",
       "      <td>...</td>\n",
       "      <td>...</td>\n",
       "      <td>...</td>\n",
       "      <td>...</td>\n",
       "      <td>...</td>\n",
       "      <td>...</td>\n",
       "      <td>...</td>\n",
       "      <td>...</td>\n",
       "      <td>...</td>\n",
       "    </tr>\n",
       "    <tr>\n",
       "      <th>23686</th>\n",
       "      <td>8</td>\n",
       "      <td>3300000.00</td>\n",
       "      <td>31.00</td>\n",
       "      <td>2017-04-29</td>\n",
       "      <td>1</td>\n",
       "      <td>2.55</td>\n",
       "      <td>9.00</td>\n",
       "      <td>18.00</td>\n",
       "      <td>6</td>\n",
       "      <td>NaN</td>\n",
       "      <td>...</td>\n",
       "      <td>1.00</td>\n",
       "      <td>317.00</td>\n",
       "      <td>193.00</td>\n",
       "      <td>106451.61</td>\n",
       "      <td>5</td>\n",
       "      <td>4</td>\n",
       "      <td>2017</td>\n",
       "      <td>другой</td>\n",
       "      <td>12.00</td>\n",
       "      <td>3.30</td>\n",
       "    </tr>\n",
       "    <tr>\n",
       "      <th>23689</th>\n",
       "      <td>13</td>\n",
       "      <td>3550000.00</td>\n",
       "      <td>35.30</td>\n",
       "      <td>2018-02-28</td>\n",
       "      <td>1</td>\n",
       "      <td>2.86</td>\n",
       "      <td>15.00</td>\n",
       "      <td>16.30</td>\n",
       "      <td>4</td>\n",
       "      <td>NaN</td>\n",
       "      <td>...</td>\n",
       "      <td>2.00</td>\n",
       "      <td>652.00</td>\n",
       "      <td>29.00</td>\n",
       "      <td>100566.57</td>\n",
       "      <td>2</td>\n",
       "      <td>2</td>\n",
       "      <td>2018</td>\n",
       "      <td>другой</td>\n",
       "      <td>16.00</td>\n",
       "      <td>3.55</td>\n",
       "    </tr>\n",
       "    <tr>\n",
       "      <th>23690</th>\n",
       "      <td>3</td>\n",
       "      <td>5500000.00</td>\n",
       "      <td>52.00</td>\n",
       "      <td>2018-07-19</td>\n",
       "      <td>2</td>\n",
       "      <td>2.65</td>\n",
       "      <td>5.00</td>\n",
       "      <td>31.00</td>\n",
       "      <td>2</td>\n",
       "      <td>NaN</td>\n",
       "      <td>...</td>\n",
       "      <td>0.00</td>\n",
       "      <td>NaN</td>\n",
       "      <td>15.00</td>\n",
       "      <td>105769.23</td>\n",
       "      <td>3</td>\n",
       "      <td>7</td>\n",
       "      <td>2018</td>\n",
       "      <td>другой</td>\n",
       "      <td>6.00</td>\n",
       "      <td>5.50</td>\n",
       "    </tr>\n",
       "    <tr>\n",
       "      <th>23693</th>\n",
       "      <td>9</td>\n",
       "      <td>4600000.00</td>\n",
       "      <td>62.40</td>\n",
       "      <td>2016-08-05</td>\n",
       "      <td>3</td>\n",
       "      <td>2.60</td>\n",
       "      <td>9.00</td>\n",
       "      <td>40.00</td>\n",
       "      <td>8</td>\n",
       "      <td>NaN</td>\n",
       "      <td>...</td>\n",
       "      <td>1.00</td>\n",
       "      <td>675.00</td>\n",
       "      <td>239.00</td>\n",
       "      <td>73717.95</td>\n",
       "      <td>4</td>\n",
       "      <td>8</td>\n",
       "      <td>2016</td>\n",
       "      <td>другой</td>\n",
       "      <td>34.00</td>\n",
       "      <td>4.60</td>\n",
       "    </tr>\n",
       "    <tr>\n",
       "      <th>23697</th>\n",
       "      <td>13</td>\n",
       "      <td>11475000.00</td>\n",
       "      <td>76.75</td>\n",
       "      <td>2017-03-28</td>\n",
       "      <td>2</td>\n",
       "      <td>3.00</td>\n",
       "      <td>17.00</td>\n",
       "      <td>NaN</td>\n",
       "      <td>12</td>\n",
       "      <td>NaN</td>\n",
       "      <td>...</td>\n",
       "      <td>3.00</td>\n",
       "      <td>196.00</td>\n",
       "      <td>602.00</td>\n",
       "      <td>149511.40</td>\n",
       "      <td>1</td>\n",
       "      <td>3</td>\n",
       "      <td>2017</td>\n",
       "      <td>другой</td>\n",
       "      <td>10.00</td>\n",
       "      <td>11.47</td>\n",
       "    </tr>\n",
       "  </tbody>\n",
       "</table>\n",
       "<p>5968 rows × 29 columns</p>\n",
       "</div>"
      ],
      "text/plain": [
       "       total_images  last_price  total_area first_day_exposition  rooms  \\\n",
       "2                10  5196000.00       56.00           2015-08-20      2   \n",
       "10                5  5050000.00       39.60           2017-11-16      1   \n",
       "13               20  3550000.00       42.80           2017-07-01      2   \n",
       "15               16  4650000.00       39.00           2017-11-18      1   \n",
       "16               11  6700000.00       82.00           2017-11-23      3   \n",
       "...             ...         ...         ...                  ...    ...   \n",
       "23686             8  3300000.00       31.00           2017-04-29      1   \n",
       "23689            13  3550000.00       35.30           2018-02-28      1   \n",
       "23690             3  5500000.00       52.00           2018-07-19      2   \n",
       "23693             9  4600000.00       62.40           2016-08-05      3   \n",
       "23697            13 11475000.00       76.75           2017-03-28      2   \n",
       "\n",
       "       ceiling_height  floors_total  living_area  floor is_apartment  ...  \\\n",
       "2                2.65          5.00        34.30      4          NaN  ...   \n",
       "10               2.67         12.00        20.30      3          NaN  ...   \n",
       "13               2.56          5.00        27.00      5          NaN  ...   \n",
       "15               2.65         14.00        20.50      5          NaN  ...   \n",
       "16               3.05          5.00        55.60      1          NaN  ...   \n",
       "...               ...           ...          ...    ...          ...  ...   \n",
       "23686            2.55          9.00        18.00      6          NaN  ...   \n",
       "23689            2.86         15.00        16.30      4          NaN  ...   \n",
       "23690            2.65          5.00        31.00      2          NaN  ...   \n",
       "23693            2.60          9.00        40.00      8          NaN  ...   \n",
       "23697            3.00         17.00          NaN     12          NaN  ...   \n",
       "\n",
       "       ponds_around3000  ponds_nearest  days_exposition  square_meter_price  \\\n",
       "2                  2.00         574.00           558.00            92785.71   \n",
       "10                 2.00         553.00           137.00           127525.25   \n",
       "13                 3.00         298.00           366.00            82943.93   \n",
       "15                 1.00         296.00            19.00           119230.77   \n",
       "16                 0.00            NaN           397.00            81707.32   \n",
       "...                 ...            ...              ...                 ...   \n",
       "23686              1.00         317.00           193.00           106451.61   \n",
       "23689              2.00         652.00            29.00           100566.57   \n",
       "23690              0.00            NaN            15.00           105769.23   \n",
       "23693              1.00         675.00           239.00            73717.95   \n",
       "23697              3.00         196.00           602.00           149511.40   \n",
       "\n",
       "      day_expo  month_expo  year_expo  flat_type  cityCenters_nearest_km  \\\n",
       "2            3           8       2015     другой                   14.00   \n",
       "10           3          11       2017     другой                   14.00   \n",
       "13           5           7       2017  последний                   33.00   \n",
       "15           5          11       2017     другой                   14.00   \n",
       "16           3          11       2017     первый                   11.00   \n",
       "...        ...         ...        ...        ...                     ...   \n",
       "23686        5           4       2017     другой                   12.00   \n",
       "23689        2           2       2018     другой                   16.00   \n",
       "23690        3           7       2018     другой                    6.00   \n",
       "23693        4           8       2016     другой                   34.00   \n",
       "23697        1           3       2017     другой                   10.00   \n",
       "\n",
       "       disp_last_price  \n",
       "2                 5.20  \n",
       "10                5.05  \n",
       "13                3.55  \n",
       "15                4.65  \n",
       "16                6.70  \n",
       "...                ...  \n",
       "23686             3.30  \n",
       "23689             3.55  \n",
       "23690             5.50  \n",
       "23693             4.60  \n",
       "23697            11.47  \n",
       "\n",
       "[5968 rows x 29 columns]"
      ]
     },
     "execution_count": 66,
     "metadata": {},
     "output_type": "execute_result"
    }
   ],
   "source": [
    "df.query('parks_nearest < 750')"
   ]
  },
  {
   "cell_type": "code",
   "execution_count": 67,
   "metadata": {
    "colab": {
     "base_uri": "https://localhost:8080/",
     "height": 308
    },
    "id": "uoF47CE3KtBd",
    "outputId": "b5c9ef3c-2c59-4d08-d1bc-d1e6404db4c2"
   },
   "outputs": [
    {
     "data": {
      "text/plain": [
       "<AxesSubplot:ylabel='Frequency'>"
      ]
     },
     "execution_count": 67,
     "metadata": {},
     "output_type": "execute_result"
    },
    {
     "data": {
      "image/png": "[encoded data removed]",
      "text/plain": [
       "<Figure size 360x216 with 1 Axes>"
      ]
     },
     "metadata": {
      "needs_background": "light"
     },
     "output_type": "display_data"
    }
   ],
   "source": [
    "df.plot(y = 'month_expo', kind = 'hist', bins = 108, grid=True, figsize = (5,3))"
   ]
  },
  {
   "cell_type": "markdown",
   "metadata": {
    "id": "U9a2KoUdrsBa"
   },
   "source": [
    "Низкие показатели в январе, мае и декабре. Вероятно это связано с длительнными январскими и майскими праздниками. Самые же высокие показатели до и после этих месяцев.Также можно отметить просадку публикации объявлений в летний период."
   ]
  },
  {
   "cell_type": "markdown",
   "metadata": {
    "id": "QK4Qexgys6p8"
   },
   "source": [
    "Рассмотрим гистрограмму по дням неделям публикации объявлений."
   ]
  },
  {
   "cell_type": "code",
   "execution_count": 68,
   "metadata": {
    "colab": {
     "base_uri": "https://localhost:8080/",
     "height": 308
    },
    "id": "d4cakjDdLNic",
    "outputId": "ff0923b9-93c2-4203-e8b7-79d2c0dde447"
   },
   "outputs": [
    {
     "data": {
      "text/plain": [
       "<AxesSubplot:ylabel='Frequency'>"
      ]
     },
     "execution_count": 68,
     "metadata": {},
     "output_type": "execute_result"
    },
    {
     "data": {
      "image/png": "[encoded data removed]",
      "text/plain": [
       "<Figure size 360x216 with 1 Axes>"
      ]
     },
     "metadata": {
      "needs_background": "light"
     },
     "output_type": "display_data"
    }
   ],
   "source": [
    "df.plot(y = 'day_expo', kind = 'hist', bins = 108, grid=True, figsize = (5,3))"
   ]
  },
  {
   "cell_type": "markdown",
   "metadata": {
    "id": "8dC4YWHEs_iW"
   },
   "source": [
    "Исходя из гистограммы мы видим что в выходные объявления публикуют меньше всего."
   ]
  },
  {
   "cell_type": "markdown",
   "metadata": {
    "id": "8pcP2Q5RfNjz"
   },
   "source": [
    "### Промежуточные итоги:\n",
    "<br> В ходе исследования столбцов были выявлены следующие наблюдения:\n",
    "*   30 % опубликованных объявлений имеют общую площадь 50-100 кв.м.;\n",
    "\n",
    "*   45 % опубликованных объявлений жилая площадь составляет менее 30 кв.м.;\n",
    "\n",
    "*   46 % опубликованных объявлений площадь кухни составляет менее 40 кв.м.;\n",
    "\n",
    "*   28 % опубликованных объявлений имеют стоимость до 5 млн.р.;\n",
    "\n",
    "*   40 % опубликованных объявлений имеют 1 или 2 комнаты;\n",
    "\n",
    "*   25 % опубликованных объявлений имеют 3-комнатные квартиры;\n",
    "\n",
    "*   у 61 % опубликованных объявлений квартиры расположены на первых 5-ти этажах дома;\n",
    "\n",
    "*   у 11 % опубликованных объявлений недвижимость расположена на 1-ом этаже;\n",
    "\n",
    "*   13 % опубликованных объявлений квартир, которые расположены на последнем этаже;\n",
    "*   у 25 % опубликованных объявлений квартиры продаются в 5-ти этажных домах\n",
    "\n",
    "\n",
    "*   у  16 % опубликованных объявлений квартиры продаются в 9-ти этажных домах;\n",
    "\n",
    "\n",
    "*   у 65 % опубликованных объявлений недвижимость расположена в пределах 20 км. от центра города;\n",
    "\n",
    "\n",
    "*   у 65 % опубликованных объявлений недвижимость расположена в пределах 40 км. от аэропорта;\n",
    "\n",
    "\n",
    "*   у 30 % опубликованных объявлений недвижмость расположена в пределах 750 м. о парка\n",
    "\n",
    "\n",
    "*   31 % опубликованных объявлений были размещены в феврале, марте и ноябре;\n",
    "\n",
    "\n",
    "*   5 % опубликованных объявлений было размешено в мае;\n",
    "\n",
    "\n",
    "*   8 % опубликованных объявлений размещалось в выходные дни;\n",
    "\n",
    "\n",
    "*   18 % опубликованных объявлений празмещалось по четвергам.\n",
    "\n"
   ]
  },
  {
   "cell_type": "markdown",
   "metadata": {
    "id": "WPdaBSoXvhXW"
   },
   "source": [
    "Изучимкак быстро продавались квартиры (столбец `days_exposition`). Как мы уже знаем, этот параметр показывает, сколько дней было размещено каждое объявление. "
   ]
  },
  {
   "cell_type": "code",
   "execution_count": 69,
   "metadata": {
    "colab": {
     "base_uri": "https://localhost:8080/",
     "height": 308
    },
    "id": "mYOgxFjMNWhd",
    "outputId": "ce38bb17-b221-491a-9d0d-32ae03265a62"
   },
   "outputs": [
    {
     "data": {
      "text/plain": [
       "<AxesSubplot:ylabel='Frequency'>"
      ]
     },
     "execution_count": 69,
     "metadata": {},
     "output_type": "execute_result"
    },
    {
     "data": {
      "image/png": "[encoded data removed]",
      "text/plain": [
       "<Figure size 360x216 with 1 Axes>"
      ]
     },
     "metadata": {
      "needs_background": "light"
     },
     "output_type": "display_data"
    }
   ],
   "source": [
    "df.plot(y = 'days_exposition', kind = 'hist', bins = 56, grid=True, figsize = (5,3),range=(1,1000))"
   ]
  },
  {
   "cell_type": "markdown",
   "metadata": {
    "id": "TrLyXziFwayP"
   },
   "source": [
    "На гистограмме мы видим сильно выделяющееся значение, очевидно что это 95 дней - медианное значение количества дней размещения объявления о продаже недвижимости. В целом гистогрограмма нормального распределения. Количество объявлений уменьшается с увелечением количества дней публикации объявления.\n",
    "Посмотрим на долгие продажи недвижимости, где количество дней опубликованного объявлений более 1000.\n",
    "\n",
    "\n"
   ]
  },
  {
   "cell_type": "code",
   "execution_count": 70,
   "metadata": {
    "colab": {
     "base_uri": "https://localhost:8080/",
     "height": 487
    },
    "id": "41sIT6LZl7SQ",
    "outputId": "c787a38c-8490-4020-8fc6-40a5d2b6646d"
   },
   "outputs": [
    {
     "data": {
      "text/html": [
       "<div>\n",
       "<style scoped>\n",
       "    .dataframe tbody tr th:only-of-type {\n",
       "        vertical-align: middle;\n",
       "    }\n",
       "\n",
       "    .dataframe tbody tr th {\n",
       "        vertical-align: top;\n",
       "    }\n",
       "\n",
       "    .dataframe thead th {\n",
       "        text-align: right;\n",
       "    }\n",
       "</style>\n",
       "<table border=\"1\" class=\"dataframe\">\n",
       "  <thead>\n",
       "    <tr style=\"text-align: right;\">\n",
       "      <th></th>\n",
       "      <th>total_images</th>\n",
       "      <th>last_price</th>\n",
       "      <th>total_area</th>\n",
       "      <th>first_day_exposition</th>\n",
       "      <th>rooms</th>\n",
       "      <th>ceiling_height</th>\n",
       "      <th>floors_total</th>\n",
       "      <th>living_area</th>\n",
       "      <th>floor</th>\n",
       "      <th>is_apartment</th>\n",
       "      <th>...</th>\n",
       "      <th>ponds_around3000</th>\n",
       "      <th>ponds_nearest</th>\n",
       "      <th>days_exposition</th>\n",
       "      <th>square_meter_price</th>\n",
       "      <th>day_expo</th>\n",
       "      <th>month_expo</th>\n",
       "      <th>year_expo</th>\n",
       "      <th>flat_type</th>\n",
       "      <th>cityCenters_nearest_km</th>\n",
       "      <th>disp_last_price</th>\n",
       "    </tr>\n",
       "  </thead>\n",
       "  <tbody>\n",
       "    <tr>\n",
       "      <th>109</th>\n",
       "      <td>2</td>\n",
       "      <td>7497600.00</td>\n",
       "      <td>62.50</td>\n",
       "      <td>2015-12-08</td>\n",
       "      <td>2</td>\n",
       "      <td>2.65</td>\n",
       "      <td>5.00</td>\n",
       "      <td>35.50</td>\n",
       "      <td>5</td>\n",
       "      <td>NaN</td>\n",
       "      <td>...</td>\n",
       "      <td>0.00</td>\n",
       "      <td>NaN</td>\n",
       "      <td>1048.00</td>\n",
       "      <td>119961.60</td>\n",
       "      <td>1</td>\n",
       "      <td>12</td>\n",
       "      <td>2015</td>\n",
       "      <td>последний</td>\n",
       "      <td>27.00</td>\n",
       "      <td>7.50</td>\n",
       "    </tr>\n",
       "    <tr>\n",
       "      <th>353</th>\n",
       "      <td>4</td>\n",
       "      <td>5990000.00</td>\n",
       "      <td>43.50</td>\n",
       "      <td>2015-05-08</td>\n",
       "      <td>1</td>\n",
       "      <td>3.00</td>\n",
       "      <td>5.00</td>\n",
       "      <td>25.00</td>\n",
       "      <td>4</td>\n",
       "      <td>NaN</td>\n",
       "      <td>...</td>\n",
       "      <td>0.00</td>\n",
       "      <td>NaN</td>\n",
       "      <td>1292.00</td>\n",
       "      <td>137701.15</td>\n",
       "      <td>4</td>\n",
       "      <td>5</td>\n",
       "      <td>2015</td>\n",
       "      <td>другой</td>\n",
       "      <td>10.00</td>\n",
       "      <td>5.99</td>\n",
       "    </tr>\n",
       "    <tr>\n",
       "      <th>398</th>\n",
       "      <td>7</td>\n",
       "      <td>12789000.00</td>\n",
       "      <td>79.30</td>\n",
       "      <td>2014-12-09</td>\n",
       "      <td>2</td>\n",
       "      <td>3.00</td>\n",
       "      <td>8.00</td>\n",
       "      <td>43.10</td>\n",
       "      <td>5</td>\n",
       "      <td>False</td>\n",
       "      <td>...</td>\n",
       "      <td>0.00</td>\n",
       "      <td>NaN</td>\n",
       "      <td>1345.00</td>\n",
       "      <td>161273.64</td>\n",
       "      <td>1</td>\n",
       "      <td>12</td>\n",
       "      <td>2014</td>\n",
       "      <td>другой</td>\n",
       "      <td>11.00</td>\n",
       "      <td>12.79</td>\n",
       "    </tr>\n",
       "    <tr>\n",
       "      <th>437</th>\n",
       "      <td>12</td>\n",
       "      <td>3350000.00</td>\n",
       "      <td>37.00</td>\n",
       "      <td>2015-02-24</td>\n",
       "      <td>1</td>\n",
       "      <td>2.55</td>\n",
       "      <td>6.00</td>\n",
       "      <td>17.80</td>\n",
       "      <td>6</td>\n",
       "      <td>NaN</td>\n",
       "      <td>...</td>\n",
       "      <td>1.00</td>\n",
       "      <td>755.00</td>\n",
       "      <td>1273.00</td>\n",
       "      <td>90540.54</td>\n",
       "      <td>1</td>\n",
       "      <td>2</td>\n",
       "      <td>2015</td>\n",
       "      <td>последний</td>\n",
       "      <td>34.00</td>\n",
       "      <td>3.35</td>\n",
       "    </tr>\n",
       "    <tr>\n",
       "      <th>459</th>\n",
       "      <td>13</td>\n",
       "      <td>5200000.00</td>\n",
       "      <td>51.00</td>\n",
       "      <td>2016-03-02</td>\n",
       "      <td>2</td>\n",
       "      <td>2.55</td>\n",
       "      <td>9.00</td>\n",
       "      <td>32.00</td>\n",
       "      <td>5</td>\n",
       "      <td>NaN</td>\n",
       "      <td>...</td>\n",
       "      <td>0.00</td>\n",
       "      <td>NaN</td>\n",
       "      <td>1153.00</td>\n",
       "      <td>101960.78</td>\n",
       "      <td>2</td>\n",
       "      <td>3</td>\n",
       "      <td>2016</td>\n",
       "      <td>другой</td>\n",
       "      <td>16.00</td>\n",
       "      <td>5.20</td>\n",
       "    </tr>\n",
       "    <tr>\n",
       "      <th>...</th>\n",
       "      <td>...</td>\n",
       "      <td>...</td>\n",
       "      <td>...</td>\n",
       "      <td>...</td>\n",
       "      <td>...</td>\n",
       "      <td>...</td>\n",
       "      <td>...</td>\n",
       "      <td>...</td>\n",
       "      <td>...</td>\n",
       "      <td>...</td>\n",
       "      <td>...</td>\n",
       "      <td>...</td>\n",
       "      <td>...</td>\n",
       "      <td>...</td>\n",
       "      <td>...</td>\n",
       "      <td>...</td>\n",
       "      <td>...</td>\n",
       "      <td>...</td>\n",
       "      <td>...</td>\n",
       "      <td>...</td>\n",
       "      <td>...</td>\n",
       "    </tr>\n",
       "    <tr>\n",
       "      <th>23248</th>\n",
       "      <td>5</td>\n",
       "      <td>4900000.00</td>\n",
       "      <td>80.00</td>\n",
       "      <td>2014-12-25</td>\n",
       "      <td>3</td>\n",
       "      <td>2.65</td>\n",
       "      <td>15.00</td>\n",
       "      <td>47.00</td>\n",
       "      <td>14</td>\n",
       "      <td>NaN</td>\n",
       "      <td>...</td>\n",
       "      <td>NaN</td>\n",
       "      <td>NaN</td>\n",
       "      <td>1187.00</td>\n",
       "      <td>61250.00</td>\n",
       "      <td>3</td>\n",
       "      <td>12</td>\n",
       "      <td>2014</td>\n",
       "      <td>другой</td>\n",
       "      <td>NaN</td>\n",
       "      <td>4.90</td>\n",
       "    </tr>\n",
       "    <tr>\n",
       "      <th>23318</th>\n",
       "      <td>6</td>\n",
       "      <td>5620020.00</td>\n",
       "      <td>82.30</td>\n",
       "      <td>2015-03-10</td>\n",
       "      <td>3</td>\n",
       "      <td>2.70</td>\n",
       "      <td>21.00</td>\n",
       "      <td>45.60</td>\n",
       "      <td>12</td>\n",
       "      <td>NaN</td>\n",
       "      <td>...</td>\n",
       "      <td>1.00</td>\n",
       "      <td>31.00</td>\n",
       "      <td>1200.00</td>\n",
       "      <td>68287.00</td>\n",
       "      <td>1</td>\n",
       "      <td>3</td>\n",
       "      <td>2015</td>\n",
       "      <td>другой</td>\n",
       "      <td>17.00</td>\n",
       "      <td>5.62</td>\n",
       "    </tr>\n",
       "    <tr>\n",
       "      <th>23389</th>\n",
       "      <td>6</td>\n",
       "      <td>2850000.00</td>\n",
       "      <td>40.00</td>\n",
       "      <td>2015-01-26</td>\n",
       "      <td>1</td>\n",
       "      <td>2.60</td>\n",
       "      <td>10.00</td>\n",
       "      <td>19.00</td>\n",
       "      <td>8</td>\n",
       "      <td>False</td>\n",
       "      <td>...</td>\n",
       "      <td>NaN</td>\n",
       "      <td>NaN</td>\n",
       "      <td>1012.00</td>\n",
       "      <td>71250.00</td>\n",
       "      <td>0</td>\n",
       "      <td>1</td>\n",
       "      <td>2015</td>\n",
       "      <td>другой</td>\n",
       "      <td>NaN</td>\n",
       "      <td>2.85</td>\n",
       "    </tr>\n",
       "    <tr>\n",
       "      <th>23426</th>\n",
       "      <td>17</td>\n",
       "      <td>8778000.00</td>\n",
       "      <td>47.50</td>\n",
       "      <td>2014-12-29</td>\n",
       "      <td>1</td>\n",
       "      <td>3.00</td>\n",
       "      <td>7.00</td>\n",
       "      <td>NaN</td>\n",
       "      <td>4</td>\n",
       "      <td>NaN</td>\n",
       "      <td>...</td>\n",
       "      <td>3.00</td>\n",
       "      <td>204.00</td>\n",
       "      <td>1360.00</td>\n",
       "      <td>184800.00</td>\n",
       "      <td>0</td>\n",
       "      <td>12</td>\n",
       "      <td>2014</td>\n",
       "      <td>другой</td>\n",
       "      <td>10.00</td>\n",
       "      <td>8.78</td>\n",
       "    </tr>\n",
       "    <tr>\n",
       "      <th>23540</th>\n",
       "      <td>10</td>\n",
       "      <td>1500000.00</td>\n",
       "      <td>43.70</td>\n",
       "      <td>2016-06-28</td>\n",
       "      <td>2</td>\n",
       "      <td>2.55</td>\n",
       "      <td>3.00</td>\n",
       "      <td>28.00</td>\n",
       "      <td>2</td>\n",
       "      <td>NaN</td>\n",
       "      <td>...</td>\n",
       "      <td>NaN</td>\n",
       "      <td>NaN</td>\n",
       "      <td>1007.00</td>\n",
       "      <td>34324.94</td>\n",
       "      <td>1</td>\n",
       "      <td>6</td>\n",
       "      <td>2016</td>\n",
       "      <td>другой</td>\n",
       "      <td>NaN</td>\n",
       "      <td>1.50</td>\n",
       "    </tr>\n",
       "  </tbody>\n",
       "</table>\n",
       "<p>217 rows × 29 columns</p>\n",
       "</div>"
      ],
      "text/plain": [
       "       total_images  last_price  total_area first_day_exposition  rooms  \\\n",
       "109               2  7497600.00       62.50           2015-12-08      2   \n",
       "353               4  5990000.00       43.50           2015-05-08      1   \n",
       "398               7 12789000.00       79.30           2014-12-09      2   \n",
       "437              12  3350000.00       37.00           2015-02-24      1   \n",
       "459              13  5200000.00       51.00           2016-03-02      2   \n",
       "...             ...         ...         ...                  ...    ...   \n",
       "23248             5  4900000.00       80.00           2014-12-25      3   \n",
       "23318             6  5620020.00       82.30           2015-03-10      3   \n",
       "23389             6  2850000.00       40.00           2015-01-26      1   \n",
       "23426            17  8778000.00       47.50           2014-12-29      1   \n",
       "23540            10  1500000.00       43.70           2016-06-28      2   \n",
       "\n",
       "       ceiling_height  floors_total  living_area  floor is_apartment  ...  \\\n",
       "109              2.65          5.00        35.50      5          NaN  ...   \n",
       "353              3.00          5.00        25.00      4          NaN  ...   \n",
       "398              3.00          8.00        43.10      5        False  ...   \n",
       "437              2.55          6.00        17.80      6          NaN  ...   \n",
       "459              2.55          9.00        32.00      5          NaN  ...   \n",
       "...               ...           ...          ...    ...          ...  ...   \n",
       "23248            2.65         15.00        47.00     14          NaN  ...   \n",
       "23318            2.70         21.00        45.60     12          NaN  ...   \n",
       "23389            2.60         10.00        19.00      8        False  ...   \n",
       "23426            3.00          7.00          NaN      4          NaN  ...   \n",
       "23540            2.55          3.00        28.00      2          NaN  ...   \n",
       "\n",
       "       ponds_around3000  ponds_nearest  days_exposition  square_meter_price  \\\n",
       "109                0.00            NaN          1048.00           119961.60   \n",
       "353                0.00            NaN          1292.00           137701.15   \n",
       "398                0.00            NaN          1345.00           161273.64   \n",
       "437                1.00         755.00          1273.00            90540.54   \n",
       "459                0.00            NaN          1153.00           101960.78   \n",
       "...                 ...            ...              ...                 ...   \n",
       "23248               NaN            NaN          1187.00            61250.00   \n",
       "23318              1.00          31.00          1200.00            68287.00   \n",
       "23389               NaN            NaN          1012.00            71250.00   \n",
       "23426              3.00         204.00          1360.00           184800.00   \n",
       "23540               NaN            NaN          1007.00            34324.94   \n",
       "\n",
       "      day_expo  month_expo  year_expo  flat_type  cityCenters_nearest_km  \\\n",
       "109          1          12       2015  последний                   27.00   \n",
       "353          4           5       2015     другой                   10.00   \n",
       "398          1          12       2014     другой                   11.00   \n",
       "437          1           2       2015  последний                   34.00   \n",
       "459          2           3       2016     другой                   16.00   \n",
       "...        ...         ...        ...        ...                     ...   \n",
       "23248        3          12       2014     другой                     NaN   \n",
       "23318        1           3       2015     другой                   17.00   \n",
       "23389        0           1       2015     другой                     NaN   \n",
       "23426        0          12       2014     другой                   10.00   \n",
       "23540        1           6       2016     другой                     NaN   \n",
       "\n",
       "       disp_last_price  \n",
       "109               7.50  \n",
       "353               5.99  \n",
       "398              12.79  \n",
       "437               3.35  \n",
       "459               5.20  \n",
       "...                ...  \n",
       "23248             4.90  \n",
       "23318             5.62  \n",
       "23389             2.85  \n",
       "23426             8.78  \n",
       "23540             1.50  \n",
       "\n",
       "[217 rows x 29 columns]"
      ]
     },
     "execution_count": 70,
     "metadata": {},
     "output_type": "execute_result"
    }
   ],
   "source": [
    "df.query('days_exposition > 1000')"
   ]
  },
  {
   "cell_type": "markdown",
   "metadata": {
    "id": "FK1eUaSBl1gq"
   },
   "source": [
    "276 объявлений с \"долгими продажами\", это чуть более 1% от всего ДатаФрейма."
   ]
  },
  {
   "cell_type": "markdown",
   "metadata": {
    "id": "ZLnlDGkt1SGY"
   },
   "source": [
    "Посмотрим на среднее значение количества дней публикации объявления."
   ]
  },
  {
   "cell_type": "code",
   "execution_count": 71,
   "metadata": {
    "colab": {
     "base_uri": "https://localhost:8080/"
    },
    "id": "NKWwxA5X2Zx1",
    "outputId": "b4d6cef0-8df5-4918-e24b-19690c2840c6"
   },
   "outputs": [
    {
     "data": {
      "text/plain": [
       "171.95217090928415"
      ]
     },
     "execution_count": 71,
     "metadata": {},
     "output_type": "execute_result"
    }
   ],
   "source": [
    "df['days_exposition'].mean()"
   ]
  },
  {
   "cell_type": "markdown",
   "metadata": {
    "id": "pDGuIb8P39ZW"
   },
   "source": [
    "Посмотрим на медианное значение количества дней публикации объявления."
   ]
  },
  {
   "cell_type": "code",
   "execution_count": 72,
   "metadata": {
    "colab": {
     "base_uri": "https://localhost:8080/"
    },
    "id": "QpBtHX4N2isA",
    "outputId": "fc33beef-3b36-4686-a5cf-c6185b6386f4"
   },
   "outputs": [
    {
     "data": {
      "text/plain": [
       "91.0"
      ]
     },
     "execution_count": 72,
     "metadata": {},
     "output_type": "execute_result"
    }
   ],
   "source": [
    "df['days_exposition'].median()"
   ]
  },
  {
   "cell_type": "markdown",
   "metadata": {
    "id": "XmBSBPs54FM6"
   },
   "source": [
    "Медианное значение отличается от среднего это говорит о наличии выбросов или необычных значениях такие как слишком большое количество дней продаж"
   ]
  },
  {
   "cell_type": "markdown",
   "metadata": {
    "id": "CfqBi_Cfuxfs"
   },
   "source": [
    "Посмотрим на зависимость количества дней опубликованного объявдения от стоимости недвижимости за квадратный метр и общей площади недвижимости."
   ]
  },
  {
   "cell_type": "code",
   "execution_count": 73,
   "metadata": {
    "colab": {
     "base_uri": "https://localhost:8080/"
    },
    "id": "BWw9hdXds4q0",
    "outputId": "25ed0409-fd3f-413d-b63b-19685e83b05b"
   },
   "outputs": [
    {
     "name": "stdout",
     "output_type": "stream",
     "text": [
      "Корреляция между количеством дней опубликованного объявления и общей площадью: 0.10414263613691097\n",
      "Корреляция между количеством дней опубликованного объявления и ценой за квадртный метр: -0.00048130599903952094\n"
     ]
    }
   ],
   "source": [
    "corr_day_exp_tot_area = df['days_exposition'].corr(df['total_area'])\n",
    "corr_day_exp_sq_m_price  = df['days_exposition'].corr(df['square_meter_price'])\n",
    "print('Корреляция между количеством дней опубликованного объявления и общей площадью:', corr_day_exp_tot_area )\n",
    "print('Корреляция между количеством дней опубликованного объявления и ценой за квадртный метр:', corr_day_exp_sq_m_price )"
   ]
  },
  {
   "cell_type": "markdown",
   "metadata": {
    "id": "ulA6h8zphi5e"
   },
   "source": [
    "Изучив столбец \"Количество дней опубликованного объявления (от публикации до снятия)\" можем подметить следующее:\n",
    "\n",
    "\n",
    "1.   50% квартир от всего ДатаФрейма продавалось менее 91 день;\n",
    "2.   Присутсвуют объявления, которые были опубликованы более 2.5 лет, их менее 2 % от всего ДатаФрейма.\n",
    "3.   Общая площадь недвижимости слабо влияет на количество дней опубликованного объявления, еще меньше влияет цена за квадратный метр продаваемой недвижимости.\n",
    "\n",
    "\n",
    "\n",
    "\n",
    "> Исходя из этого можем ответить на вопросы:\n",
    "\n",
    "\n",
    "\n",
    "\n",
    "\n",
    "1.   Обычное время продажи недвижимости - 91 день\n",
    "2.   Быстрыми продажами можно считать объявления которые были опубликованы менее 91 дня.\n",
    "3.   Необычно долгими продажами можно считать объявления, которые которые были опубликованы более 1000 дней. \n",
    "\n",
    "\n",
    "\n",
    "\n",
    "\n"
   ]
  },
  {
   "cell_type": "markdown",
   "metadata": {
    "id": "C0zFwetp3B1k"
   },
   "source": [
    "Следующий вопрос который мы исследуем это зависимость цены от некоторых параметров объявления. Первый параметр это: общая площадь."
   ]
  },
  {
   "cell_type": "code",
   "execution_count": 74,
   "metadata": {
    "colab": {
     "base_uri": "https://localhost:8080/",
     "height": 489
    },
    "id": "-IpqQdOwiCn0",
    "outputId": "9fa90729-30c5-4e51-a9b5-93fbbd27b8ed"
   },
   "outputs": [
    {
     "data": {
      "text/plain": [
       "Text(0.5, 1.0, 'Зависимость цены от общей площади. Корреляция: 0.69,')"
      ]
     },
     "execution_count": 74,
     "metadata": {},
     "output_type": "execute_result"
    },
    {
     "data": {
      "image/png": "[encoded data removed]",
      "text/plain": [
       "<Figure size 432x288 with 1 Axes>"
      ]
     },
     "metadata": {
      "needs_background": "light"
     },
     "output_type": "display_data"
    }
   ],
   "source": [
    "df = df.sort_values(by='total_area')\n",
    "x = df['total_area']\n",
    "y = df['disp_last_price']\n",
    "corr=df['total_area'].corr(df['disp_last_price'])\n",
    "plt.scatter(x, y, alpha=0.5)\n",
    "plt.xlabel('Общая площадь')\n",
    "plt.ylabel('Стоимость в млн.р.')\n",
    "plt.title(f'Зависимость цены от общей площади. Корреляция: {corr:.2f},')"
   ]
  },
  {
   "cell_type": "markdown",
   "metadata": {
    "id": "oSXL2ADe-Quh"
   },
   "source": [
    "Мы видим прямую, но не полную корреляцию: значения цены увеличивается по мере увеличения общая площади недвижимости.\n",
    "<br> Следующий параметр исследования это жилая площадь."
   ]
  },
  {
   "cell_type": "code",
   "execution_count": 75,
   "metadata": {
    "colab": {
     "base_uri": "https://localhost:8080/",
     "height": 489
    },
    "id": "CsNkpaHxCobV",
    "outputId": "3d996a93-0814-4a0d-b0b0-2bedf67376fd"
   },
   "outputs": [
    {
     "data": {
      "text/plain": [
       "Text(0.5, 1.0, 'Зависимость цены от жилой площади. Корреляция: 0.54')"
      ]
     },
     "execution_count": 75,
     "metadata": {},
     "output_type": "execute_result"
    },
    {
     "data": {
      "image/png": "[encoded data removed]",
      "text/plain": [
       "<Figure size 432x288 with 1 Axes>"
      ]
     },
     "metadata": {
      "needs_background": "light"
     },
     "output_type": "display_data"
    }
   ],
   "source": [
    "df = df.sort_values(by='living_area')\n",
    "x = df['living_area']\n",
    "y = df['disp_last_price']\n",
    "corr=df['living_area'].corr(df['disp_last_price'])\n",
    "plt.scatter(x, y, alpha=0.5)\n",
    "plt.xlabel('Жилая площадь')\n",
    "plt.ylabel('Стоимость в млн.р.')\n",
    "plt.title(f'Зависимость цены от жилой площади. Корреляция: {corr:.2f}')"
   ]
  },
  {
   "cell_type": "markdown",
   "metadata": {
    "id": "XbPLsqH4DOXq"
   },
   "source": [
    "Также вызовем метод `corr()`"
   ]
  },
  {
   "cell_type": "code",
   "execution_count": 76,
   "metadata": {
    "colab": {
     "base_uri": "https://localhost:8080/"
    },
    "id": "qxy89PNFCoQL",
    "outputId": "18527751-2040-4d91-9a1f-3050e49d5283"
   },
   "outputs": [
    {
     "data": {
      "text/plain": [
       "0.5423438226734902"
      ]
     },
     "execution_count": 76,
     "metadata": {},
     "output_type": "execute_result"
    }
   ],
   "source": [
    "df['living_area'].corr(df['disp_last_price'])"
   ]
  },
  {
   "cell_type": "markdown",
   "metadata": {
    "id": "GQJDNSLgDhY0"
   },
   "source": [
    "Прямая коррекляция также присутсвует. С увеличением жилой площади в объявлении увеличивается цена, что в принципе является логичным процессом. Рассмотрим влияние цены на площадь кухни в объявлении о продаже недвижимости.\n"
   ]
  },
  {
   "cell_type": "code",
   "execution_count": 77,
   "metadata": {
    "colab": {
     "base_uri": "https://localhost:8080/",
     "height": 489
    },
    "id": "zKoCoDM2ku7H",
    "outputId": "6553d757-0237-4db2-9a0d-eb620cd1152e"
   },
   "outputs": [
    {
     "data": {
      "text/plain": [
       "Text(0.5, 1.0, 'Зависимость цены от жилой площади. Корреляция: 0.50')"
      ]
     },
     "execution_count": 77,
     "metadata": {},
     "output_type": "execute_result"
    },
    {
     "data": {
      "image/png": "[encoded data removed]",
      "text/plain": [
       "<Figure size 432x288 with 1 Axes>"
      ]
     },
     "metadata": {
      "needs_background": "light"
     },
     "output_type": "display_data"
    }
   ],
   "source": [
    "kitchen_area_last_price = df.pivot_table(index='kitchen_area', values='disp_last_price', aggfunc='median')\n",
    "df = df.sort_values(by='kitchen_area')\n",
    "x = df['kitchen_area']\n",
    "y = df['disp_last_price']\n",
    "corr=df['kitchen_area'].corr(df['disp_last_price'])\n",
    "plt.scatter(x, y, alpha=0.5)\n",
    "plt.xlabel('Площадь кухни')\n",
    "plt.ylabel('Стоимость в млн.р.')\n",
    "plt.title(f'Зависимость цены от жилой площади. Корреляция: {corr:.2f}')"
   ]
  },
  {
   "cell_type": "markdown",
   "metadata": {
    "id": "GMaiDLQQkl_A"
   },
   "source": [
    "Зависимость цены от площади кухни также присутсвует. Посмотрим зависит ли цена от количества комнат в продаваемой недвижимости."
   ]
  },
  {
   "cell_type": "code",
   "execution_count": 78,
   "metadata": {
    "colab": {
     "base_uri": "https://localhost:8080/",
     "height": 507
    },
    "id": "B5ur5h9Nk6l-",
    "outputId": "c3a2a8eb-9222-4a05-f6d5-1e1b1c427386"
   },
   "outputs": [
    {
     "data": {
      "text/plain": [
       "Text(0.5, 1.0, 'Зависимость цены от кол-во комнат. Корреляция: 0.40')"
      ]
     },
     "execution_count": 78,
     "metadata": {},
     "output_type": "execute_result"
    },
    {
     "data": {
      "image/png": "[encoded data removed]",
      "text/plain": [
       "<Figure size 432x288 with 1 Axes>"
      ]
     },
     "metadata": {
      "needs_background": "light"
     },
     "output_type": "display_data"
    }
   ],
   "source": [
    "room_last_price = df.pivot_table(index = 'rooms', values = 'disp_last_price', aggfunc = 'median')\n",
    "x = df['rooms']\n",
    "y = df['disp_last_price']\n",
    "corr=df['rooms'].corr(df['disp_last_price'])\n",
    "plt.scatter(x, y, alpha=0.5)\n",
    "plt.xlabel('Количество комнат')\n",
    "plt.ylabel('Стоимость в млн.р.')\n",
    "plt.title(f'Зависимость цены от кол-во комнат. Корреляция: {corr:.2f}')"
   ]
  },
  {
   "cell_type": "markdown",
   "metadata": {
    "id": "hvbiR5Sng7Dy"
   },
   "source": [
    "Также присутствует небольшая зависимость цены от количества комнат, сильно выбиваются объявления с продаже 12-ти комнатных квартир, их стоимость свыше 40 млн.р.\n",
    "<br> Посмотрим на зависимость цены от типа этажа квартиры."
   ]
  },
  {
   "cell_type": "code",
   "execution_count": 79,
   "metadata": {
    "colab": {
     "base_uri": "https://localhost:8080/",
     "height": 554
    },
    "id": "87TUvY3cQjt0",
    "outputId": "f20d2779-18bb-4a99-d7b8-a13c2101f32f"
   },
   "outputs": [
    {
     "data": {
      "text/plain": [
       "Text(0.5, 1.0, 'Зависимость цены от типа этажа')"
      ]
     },
     "execution_count": 79,
     "metadata": {},
     "output_type": "execute_result"
    },
    {
     "data": {
      "image/png": "[encoded data removed]",
      "text/plain": [
       "<Figure size 360x216 with 1 Axes>"
      ]
     },
     "metadata": {
      "needs_background": "light"
     },
     "output_type": "display_data"
    }
   ],
   "source": [
    "amount_flat_type = df['flat_type'].value_counts()\n",
    "amount_flat_type.plot( kind = 'bar', grid=True, figsize = (5,3))\n",
    "plt.xlabel('Тип этажа')\n",
    "plt.ylabel('Стоимость в млн.р.')\n",
    "plt.title('Зависимость цены от типа этажа')"
   ]
  },
  {
   "cell_type": "markdown",
   "metadata": {
    "id": "z2pi8PMk7nah"
   },
   "source": [
    "Цена на квартир, которые расположены на первых и последних этажах стоят меньше, чем остальные. Соответсвенно этаж также влияет на стоимость продаваемой недвижимости.\n"
   ]
  },
  {
   "cell_type": "code",
   "execution_count": 80,
   "metadata": {
    "colab": {
     "base_uri": "https://localhost:8080/",
     "height": 510
    },
    "id": "vE7o2LjERgbN",
    "outputId": "a1bf15bd-b686-4210-b466-54dbbbf64044"
   },
   "outputs": [
    {
     "data": {
      "text/plain": [
       "Text(0.5, 1.0, 'Зависимость цены от года публикации объявления')"
      ]
     },
     "execution_count": 80,
     "metadata": {},
     "output_type": "execute_result"
    },
    {
     "data": {
      "image/png": "[encoded data removed]",
      "text/plain": [
       "<Figure size 432x288 with 1 Axes>"
      ]
     },
     "metadata": {
      "needs_background": "light"
     },
     "output_type": "display_data"
    }
   ],
   "source": [
    "year_last_price = df.pivot_table(index='year_expo', values='disp_last_price', aggfunc='median')\n",
    "year_last_price.plot(kind='bar')\n",
    "plt.xlabel('Год публикации объявления')\n",
    "plt.ylabel('Стоимость в млн.р.')\n",
    "plt.title('Зависимость цены от года публикации объявления')"
   ]
  },
  {
   "cell_type": "markdown",
   "metadata": {
    "id": "UsPy5jObZ01N"
   },
   "source": [
    "На данном графике мы видим просадку в 2016-2018 годах, в 2014-м году были опубликованы объявления с высокими ценам на недвижимость. Зависимости нет."
   ]
  },
  {
   "cell_type": "code",
   "execution_count": 81,
   "metadata": {
    "colab": {
     "base_uri": "https://localhost:8080/",
     "height": 489
    },
    "id": "pho3hT9tSTwe",
    "outputId": "caa85243-735c-41bb-fd7f-4acccc64c25e"
   },
   "outputs": [
    {
     "data": {
      "text/plain": [
       "Text(0.5, 1.0, 'Зависимость цены от месяца публикации объявления')"
      ]
     },
     "execution_count": 81,
     "metadata": {},
     "output_type": "execute_result"
    },
    {
     "data": {
      "image/png": "[encoded data removed]",
      "text/plain": [
       "<Figure size 432x288 with 1 Axes>"
      ]
     },
     "metadata": {
      "needs_background": "light"
     },
     "output_type": "display_data"
    }
   ],
   "source": [
    "month_last_price = df.pivot_table(index='month_expo', values='disp_last_price', aggfunc='median')\n",
    "month_last_price.plot()\n",
    "plt.xlabel('месяц публикации объявления')\n",
    "plt.ylabel('Стоимость в млн.р.')\n",
    "plt.title('Зависимость цены от месяца публикации объявления')"
   ]
  },
  {
   "cell_type": "markdown",
   "metadata": {
    "id": "ysIywcesGnJN"
   },
   "source": [
    "График показывает что в апреле выкладывали дорогие квартиры,в то время как в июне дешевые. Зависимости нет."
   ]
  },
  {
   "cell_type": "code",
   "execution_count": 82,
   "metadata": {
    "colab": {
     "base_uri": "https://localhost:8080/",
     "height": 489
    },
    "id": "Ub6PkgHXSdnu",
    "outputId": "189b7536-02b3-49fe-9cf1-d132fcab67da"
   },
   "outputs": [
    {
     "data": {
      "text/plain": [
       "Text(0.5, 1.0, 'Зависимость цены от дня публикации объявления')"
      ]
     },
     "execution_count": 82,
     "metadata": {},
     "output_type": "execute_result"
    },
    {
     "data": {
      "image/png": "[encoded data removed]",
      "text/plain": [
       "<Figure size 432x288 with 1 Axes>"
      ]
     },
     "metadata": {
      "needs_background": "light"
     },
     "output_type": "display_data"
    }
   ],
   "source": [
    "day_last_price = df.pivot_table(index='day_expo', values='disp_last_price', aggfunc='median')\n",
    "day_last_price.plot()\n",
    "plt.xlabel('день публикации объявления')\n",
    "plt.ylabel('Стоимость в млн.р.')\n",
    "plt.title('Зависимость цены от дня публикации объявления')"
   ]
  },
  {
   "cell_type": "markdown",
   "metadata": {
    "id": "KaGjX5kkG4Ar"
   },
   "source": [
    "На графике мы видим что объявления с дорогоми квартирами выкладывались по вторник и средам. Пятницу-воскресенье выкладывались в основном квартиры с низкой ценой, вероятно из-за того, что в выходные дни выкладывалось мало объявлений и среди них не было дорогих квартир. По моему мнению прямая зависимость отсвует либо же близка к нулю."
   ]
  },
  {
   "cell_type": "markdown",
   "metadata": {
    "id": "SMl_fkbHH1Ro"
   },
   "source": [
    "Следующее что мы посчитаем это среднюю цены одного квадратного метра в 10 населенных пунктах с наибольшим числом объявлений. "
   ]
  },
  {
   "cell_type": "code",
   "execution_count": 83,
   "metadata": {
    "colab": {
     "base_uri": "https://localhost:8080/",
     "height": 394
    },
    "id": "mB4_z4jYIhHs",
    "outputId": "2c9914ab-80a6-4259-f42e-aabd3780b713"
   },
   "outputs": [
    {
     "data": {
      "text/html": [
       "<div>\n",
       "<style scoped>\n",
       "    .dataframe tbody tr th:only-of-type {\n",
       "        vertical-align: middle;\n",
       "    }\n",
       "\n",
       "    .dataframe tbody tr th {\n",
       "        vertical-align: top;\n",
       "    }\n",
       "\n",
       "    .dataframe thead th {\n",
       "        text-align: right;\n",
       "    }\n",
       "</style>\n",
       "<table border=\"1\" class=\"dataframe\">\n",
       "  <thead>\n",
       "    <tr style=\"text-align: right;\">\n",
       "      <th></th>\n",
       "      <th>square_meter_price</th>\n",
       "    </tr>\n",
       "    <tr>\n",
       "      <th>locality_name</th>\n",
       "      <th></th>\n",
       "    </tr>\n",
       "  </thead>\n",
       "  <tbody>\n",
       "    <tr>\n",
       "      <th>Санкт-Петербург</th>\n",
       "      <td>107578.52</td>\n",
       "    </tr>\n",
       "    <tr>\n",
       "      <th>Пушкин</th>\n",
       "      <td>100978.09</td>\n",
       "    </tr>\n",
       "    <tr>\n",
       "      <th>Кудрово</th>\n",
       "      <td>95287.28</td>\n",
       "    </tr>\n",
       "    <tr>\n",
       "      <th>Парголово</th>\n",
       "      <td>90494.58</td>\n",
       "    </tr>\n",
       "    <tr>\n",
       "      <th>Мурино</th>\n",
       "      <td>86101.07</td>\n",
       "    </tr>\n",
       "    <tr>\n",
       "      <th>Шушары</th>\n",
       "      <td>78788.18</td>\n",
       "    </tr>\n",
       "    <tr>\n",
       "      <th>Колпино</th>\n",
       "      <td>75373.41</td>\n",
       "    </tr>\n",
       "    <tr>\n",
       "      <th>Гатчина</th>\n",
       "      <td>68938.46</td>\n",
       "    </tr>\n",
       "    <tr>\n",
       "      <th>Всеволожск</th>\n",
       "      <td>67170.07</td>\n",
       "    </tr>\n",
       "    <tr>\n",
       "      <th>Выборг</th>\n",
       "      <td>58365.85</td>\n",
       "    </tr>\n",
       "  </tbody>\n",
       "</table>\n",
       "</div>"
      ],
      "text/plain": [
       "                 square_meter_price\n",
       "locality_name                      \n",
       "Санкт-Петербург           107578.52\n",
       "Пушкин                    100978.09\n",
       "Кудрово                    95287.28\n",
       "Парголово                  90494.58\n",
       "Мурино                     86101.07\n",
       "Шушары                     78788.18\n",
       "Колпино                    75373.41\n",
       "Гатчина                    68938.46\n",
       "Всеволожск                 67170.07\n",
       "Выборг                     58365.85"
      ]
     },
     "execution_count": 83,
     "metadata": {},
     "output_type": "execute_result"
    }
   ],
   "source": [
    "popular = df['locality_name'].value_counts().head(10)\n",
    "popular = popular.index.values\n",
    "popular_meter_price = df.pivot_table(index='locality_name', values='square_meter_price', aggfunc='mean')\n",
    "popular_meter_price = popular_meter_price.query('locality_name in @popular')\n",
    "popular_meter_price.sort_values(by='square_meter_price',ascending=False)"
   ]
  },
  {
   "cell_type": "markdown",
   "metadata": {
    "id": "bxcrc5yCJjWM"
   },
   "source": [
    "Мы видим что на первом месте город Санкт-Петербург,1147757,5 за 1 кв.м. недвижимости, самая же низкая цена в городе Выборг, ниже почти в 2 раза чем в Санкт-Петербурге - 58238,14 за 1 кв.м."
   ]
  },
  {
   "cell_type": "markdown",
   "metadata": {
    "id": "bME4JtazJ8xz"
   },
   "source": [
    "Следующее что мы изучим это квартиры в Санкт-Петербурге и вычислим каждую среднюю цену каждого километра до центра. Посмотрим как стоимость объектов зависит от расстояния до центра города."
   ]
  },
  {
   "cell_type": "code",
   "execution_count": 84,
   "metadata": {
    "colab": {
     "base_uri": "https://localhost:8080/",
     "height": 871
    },
    "id": "k9PO9uj94S2L",
    "outputId": "5e10df0c-3727-4e7c-a564-87f5aea06723",
    "scrolled": true
   },
   "outputs": [
    {
     "name": "stdout",
     "output_type": "stream",
     "text": [
      "                        price_for_1_km\n",
      "cityCenters_nearest_km                \n",
      "0.00                         136645.34\n",
      "1.00                         128175.37\n",
      "2.00                         127939.34\n",
      "3.00                         114639.48\n",
      "4.00                         123810.10\n",
      "5.00                         127217.47\n",
      "6.00                         126827.36\n",
      "7.00                         120026.80\n",
      "8.00                         118932.30\n",
      "9.00                         108991.70\n",
      "10.00                        110017.76\n",
      "11.00                        106092.53\n",
      "12.00                        106486.18\n",
      "13.00                        107266.67\n",
      "14.00                        104025.05\n"
     ]
    },
    {
     "name": "stderr",
     "output_type": "stream",
     "text": [
      "/tmp/ipykernel_379/170685347.py:2: SettingWithCopyWarning: \n",
      "A value is trying to be set on a copy of a slice from a DataFrame.\n",
      "Try using .loc[row_indexer,col_indexer] = value instead\n",
      "\n",
      "See the caveats in the documentation: https://pandas.pydata.org/pandas-docs/stable/user_guide/indexing.html#returning-a-view-versus-a-copy\n",
      "  data_spb['price_for_1_km'] = data_spb['last_price'] / data_spb['total_area']\n"
     ]
    },
    {
     "data": {
      "image/png": "[encoded data removed]",
      "text/plain": [
       "<Figure size 432x288 with 1 Axes>"
      ]
     },
     "metadata": {
      "needs_background": "light"
     },
     "output_type": "display_data"
    }
   ],
   "source": [
    "data_spb=df.query('locality_name==\"Санкт-Петербург\"')\n",
    "data_spb['price_for_1_km'] = data_spb['last_price'] / data_spb['total_area']\n",
    "new_spb=data_spb.loc[:,['cityCenters_nearest_km','price_for_1_km']].sort_values(by='cityCenters_nearest_km',ascending=True)\n",
    "new_spb_piv=new_spb.pivot_table(index='cityCenters_nearest_km', values='price_for_1_km', aggfunc='mean')\n",
    "print(new_spb_piv.head(15))\n",
    "new_spb_piv = new_spb_piv.reset_index()\n",
    "corr=new_spb_piv['cityCenters_nearest_km'].corr(new_spb_piv['price_for_1_km'])\n",
    "new_spb_piv.plot(x='cityCenters_nearest_km', y='price_for_1_km', kind='line')\n",
    "plt.title(f'Корреляция: {corr:.2f}')\n",
    "plt.show()"
   ]
  },
  {
   "cell_type": "markdown",
   "metadata": {
    "id": "e1AoDrG57_hp"
   },
   "source": [
    "И так мы получили стоимость недвижимости за 1 кв.м. на каждом километре от центра г.Санкт-Петербурга. Построили график корреляции и увидели прямую обратную линейную связь, то есть чем меньше расстояние до центра, тем выше цена за квадратный метр.Хотя присутсвуют и исключения, например в 26 и 6 км. от центра города."
   ]
  },
  {
   "cell_type": "markdown",
   "metadata": {
    "id": "ntmpziLo7ojy"
   },
   "source": [
    "#Общий вывод:\n",
    "<br>Цель данного исследования – выполнить предобработку данных и изучить их, найти интересные особенности. \n",
    "В ходе исследования было обнаружено большое количество пропусков, как в данных, добавленных пользователем, так и в картографических, часть из них мы заменили на медианные значения, часть из них удалили вообще. Избавили от неявных дубликатов в столбце *\"Название населенного пункта\"*. Убрали редкие и выбивающиеся значения. Добавили новые столбцы, которые были получены в результате арифметических действий данных из имеющихся столбцов. Ещё добавили столбцы с сгруппированными данными, например тип этажа квартиры.\n",
    "Провели исследовательский анализ данных описали все наблюдения по каждому столбцу. Изучили как быстро продавались квартиры, посчитали какие продажи быстрые, а какие продажи необычно долгие.\n",
    "Изучили какие факторы влияют на общую(полную) стоимость объекта.\n",
    "Посчитали среднюю цену квадратного метра в 10 населенных пунктах с наибольшим числом объявлений. Выделили населенные пункты с самой высокой и самой низкой ценой за квадратный метр.\n",
    "Высчитали среднюю цену за квадратный метр на каждом километре от центра Санкт-Петербурга.\n",
    "Выявили следующие закономерности и особенности:\n",
    "1.\tЦена зависит от площади недвижимости: общей, жилой и площадью кухни. Площадь квартиры является одним из самых важных критериев при определении ее стоимости. Это связано с тем, что более просторные квартиры, как правило, имеют более высокую стоимость, чем менее просторные. Прежде всего, площадь квартиры напрямую влияет на количество комнат и общую площадь. Большая квартира может иметь большее количество комнат, что делает ее более привлекательной для больших семей или людей, которые нуждаются в дополнительном пространстве для работы или хобби. \n",
    "2.\tВ Санкт-Петербурге так же цена зависит от дальности к центру города, чем ближе к центру, тем дороже квадратный метр. Центр города обычно является основным местом бизнеса, культурной и социальной жизни, торговли и развлечений. Поэтому квартиры, расположенные ближе к центру города, имеют ряд преимуществ, которые делают их более дорогими: удобство транспорта, престижность и статус, большое количество развлечений и магазинов, высокие спрос и ликвидность квартиры;\n",
    "3.\t40 % объявлений о продаже недвижимости в типовых застройках (5-ти и 9-ти этажные дома). Вероятно, это так называемые «сталинки», «хрущевки» и «брежневки» являющиеся наследием Советского Союза — это жилые многоквартирные дома, которые были построены в период с 1950-х по 1980-е годы.\n",
    "4.\t30% опубликованной недвижимости, расположена менее чем в 1 км от парков. Это говорит о большом количестве парков в Санкт-Петербурге и Ленинградской области.\n",
    "Исследование могло быть более объективным и точным, если бы не присутствовали в пропуски в столбцах, особенно важный столбец это количество дней опубликованной объявления с момента публикации до момента снятия. \n",
    "<br>\n",
    "<br> Исследование могло быть более объективным и точным, если бы не присутствовали в пропуски в столбцах, особенно важный столбец это количество дней опубликованной объявления с момента публикации до момента снятия. \n"
   ]
  }
 ],
 "metadata": {
  "ExecuteTimeLog": [
   {
    "duration": 505,
    "start_time": "2023-03-27T05:47:49.729Z"
   },
   {
    "duration": 94,
    "start_time": "2023-03-27T05:48:33.896Z"
   },
   {
    "duration": 1511,
    "start_time": "2023-03-27T05:48:54.017Z"
   },
   {
    "duration": 70,
    "start_time": "2023-03-27T05:49:23.872Z"
   },
   {
    "duration": 1447,
    "start_time": "2023-03-27T05:49:40.659Z"
   },
   {
    "duration": 1355,
    "start_time": "2023-03-27T05:51:44.159Z"
   },
   {
    "duration": 49,
    "start_time": "2023-03-27T05:54:12.563Z"
   },
   {
    "duration": 2465,
    "start_time": "2023-03-27T05:54:18.699Z"
   },
   {
    "duration": 1389,
    "start_time": "2023-03-27T05:54:28.743Z"
   },
   {
    "duration": 1737,
    "start_time": "2023-03-27T06:00:23.987Z"
   },
   {
    "duration": 1415,
    "start_time": "2023-03-27T06:00:42.607Z"
   },
   {
    "duration": 10,
    "start_time": "2023-03-27T06:12:22.667Z"
   },
   {
    "duration": 1624,
    "start_time": "2023-03-27T06:27:42.703Z"
   },
   {
    "duration": 119,
    "start_time": "2023-03-27T06:30:01.416Z"
   },
   {
    "duration": 138,
    "start_time": "2023-03-27T06:30:24.687Z"
   },
   {
    "duration": 117,
    "start_time": "2023-03-27T06:30:31.000Z"
   },
   {
    "duration": 118,
    "start_time": "2023-03-27T06:30:49.442Z"
   },
   {
    "duration": 145,
    "start_time": "2023-03-27T06:31:58.589Z"
   },
   {
    "duration": 112,
    "start_time": "2023-03-27T06:37:04.023Z"
   },
   {
    "duration": 107,
    "start_time": "2023-03-27T06:37:14.614Z"
   },
   {
    "duration": 118,
    "start_time": "2023-03-27T06:37:44.566Z"
   },
   {
    "duration": 6,
    "start_time": "2023-03-27T06:41:28.220Z"
   },
   {
    "duration": 2567,
    "start_time": "2023-04-06T11:31:07.590Z"
   },
   {
    "duration": 9,
    "start_time": "2023-04-06T11:31:10.161Z"
   },
   {
    "duration": 14,
    "start_time": "2023-04-06T11:31:10.171Z"
   },
   {
    "duration": 5,
    "start_time": "2023-04-06T11:31:10.188Z"
   },
   {
    "duration": 9,
    "start_time": "2023-04-06T11:31:10.195Z"
   },
   {
    "duration": 3,
    "start_time": "2023-04-06T11:31:10.206Z"
   },
   {
    "duration": 202,
    "start_time": "2023-04-06T11:31:10.211Z"
   },
   {
    "duration": 8,
    "start_time": "2023-04-06T11:31:10.415Z"
   },
   {
    "duration": 9,
    "start_time": "2023-04-06T11:31:10.425Z"
   },
   {
    "duration": 25,
    "start_time": "2023-04-06T11:31:10.437Z"
   },
   {
    "duration": 41,
    "start_time": "2023-04-06T11:31:10.463Z"
   },
   {
    "duration": 8,
    "start_time": "2023-04-06T11:31:10.505Z"
   },
   {
    "duration": 6,
    "start_time": "2023-04-06T11:31:10.515Z"
   },
   {
    "duration": 10,
    "start_time": "2023-04-06T11:31:10.523Z"
   },
   {
    "duration": 36,
    "start_time": "2023-04-06T11:31:10.535Z"
   },
   {
    "duration": 8,
    "start_time": "2023-04-06T11:31:10.573Z"
   },
   {
    "duration": 3,
    "start_time": "2023-04-06T11:31:10.583Z"
   },
   {
    "duration": 141,
    "start_time": "2023-04-06T11:31:10.587Z"
   },
   {
    "duration": 34,
    "start_time": "2023-04-06T11:31:10.730Z"
   },
   {
    "duration": 136,
    "start_time": "2023-04-06T11:31:10.766Z"
   },
   {
    "duration": 84,
    "start_time": "2023-04-06T11:31:10.904Z"
   },
   {
    "duration": 5,
    "start_time": "2023-04-06T11:31:10.990Z"
   },
   {
    "duration": 25,
    "start_time": "2023-04-06T11:31:10.997Z"
   },
   {
    "duration": 55,
    "start_time": "2023-04-06T11:31:11.024Z"
   },
   {
    "duration": 9,
    "start_time": "2023-04-06T11:31:11.080Z"
   },
   {
    "duration": 14,
    "start_time": "2023-04-06T11:31:11.091Z"
   },
   {
    "duration": 17,
    "start_time": "2023-04-06T11:31:11.108Z"
   },
   {
    "duration": 41,
    "start_time": "2023-04-06T11:31:11.130Z"
   },
   {
    "duration": 9,
    "start_time": "2023-04-06T11:31:11.172Z"
   },
   {
    "duration": 25,
    "start_time": "2023-04-06T11:31:11.183Z"
   },
   {
    "duration": 26,
    "start_time": "2023-04-06T11:31:11.210Z"
   },
   {
    "duration": 32,
    "start_time": "2023-04-06T11:31:11.262Z"
   },
   {
    "duration": 144,
    "start_time": "2023-04-06T11:31:11.296Z"
   },
   {
    "duration": 4,
    "start_time": "2023-04-06T11:31:11.442Z"
   },
   {
    "duration": 141,
    "start_time": "2023-04-06T11:31:11.448Z"
   },
   {
    "duration": 38,
    "start_time": "2023-04-06T11:31:11.591Z"
   },
   {
    "duration": 45,
    "start_time": "2023-04-06T11:31:11.631Z"
   },
   {
    "duration": 306,
    "start_time": "2023-04-06T11:31:11.679Z"
   },
   {
    "duration": 5,
    "start_time": "2023-04-06T11:31:11.987Z"
   },
   {
    "duration": 44,
    "start_time": "2023-04-06T11:31:11.994Z"
   },
   {
    "duration": 444,
    "start_time": "2023-04-06T11:31:12.040Z"
   },
   {
    "duration": 360,
    "start_time": "2023-04-06T11:31:12.486Z"
   },
   {
    "duration": 338,
    "start_time": "2023-04-06T11:31:12.847Z"
   },
   {
    "duration": 5,
    "start_time": "2023-04-06T11:31:13.187Z"
   },
   {
    "duration": 297,
    "start_time": "2023-04-06T11:31:13.194Z"
   },
   {
    "duration": 328,
    "start_time": "2023-04-06T11:31:13.493Z"
   },
   {
    "duration": 39,
    "start_time": "2023-04-06T11:31:13.824Z"
   },
   {
    "duration": 311,
    "start_time": "2023-04-06T11:31:13.865Z"
   },
   {
    "duration": 430,
    "start_time": "2023-04-06T11:31:14.178Z"
   },
   {
    "duration": 132,
    "start_time": "2023-04-06T11:31:14.610Z"
   },
   {
    "duration": 326,
    "start_time": "2023-04-06T11:31:14.743Z"
   },
   {
    "duration": 285,
    "start_time": "2023-04-06T11:31:15.071Z"
   },
   {
    "duration": 13,
    "start_time": "2023-04-06T11:31:15.357Z"
   },
   {
    "duration": 316,
    "start_time": "2023-04-06T11:31:15.372Z"
   },
   {
    "duration": 334,
    "start_time": "2023-04-06T11:31:15.689Z"
   },
   {
    "duration": 154,
    "start_time": "2023-04-06T11:31:16.025Z"
   },
   {
    "duration": 335,
    "start_time": "2023-04-06T11:31:16.181Z"
   },
   {
    "duration": 321,
    "start_time": "2023-04-06T11:31:16.518Z"
   },
   {
    "duration": 243,
    "start_time": "2023-04-06T11:31:16.840Z"
   },
   {
    "duration": 39,
    "start_time": "2023-04-06T11:31:17.085Z"
   },
   {
    "duration": 82,
    "start_time": "2023-04-06T11:31:17.126Z"
   },
   {
    "duration": 76,
    "start_time": "2023-04-06T11:31:17.210Z"
   },
   {
    "duration": 10,
    "start_time": "2023-04-06T11:31:17.287Z"
   },
   {
    "duration": 168,
    "start_time": "2023-04-06T11:31:17.299Z"
   },
   {
    "duration": 5,
    "start_time": "2023-04-06T11:31:17.468Z"
   },
   {
    "duration": 185,
    "start_time": "2023-04-06T11:31:17.475Z"
   },
   {
    "duration": 7,
    "start_time": "2023-04-06T11:31:17.662Z"
   },
   {
    "duration": 177,
    "start_time": "2023-04-06T11:31:17.670Z"
   },
   {
    "duration": 184,
    "start_time": "2023-04-06T11:31:17.848Z"
   },
   {
    "duration": 143,
    "start_time": "2023-04-06T11:31:18.034Z"
   },
   {
    "duration": 275,
    "start_time": "2023-04-06T11:31:18.179Z"
   },
   {
    "duration": 192,
    "start_time": "2023-04-06T11:31:18.462Z"
   },
   {
    "duration": 170,
    "start_time": "2023-04-06T11:31:18.656Z"
   },
   {
    "duration": 21,
    "start_time": "2023-04-06T11:31:18.827Z"
   },
   {
    "duration": 180,
    "start_time": "2023-04-06T11:31:18.849Z"
   },
   {
    "duration": 8,
    "start_time": "2023-04-06T11:41:46.199Z"
   },
   {
    "duration": 15,
    "start_time": "2023-04-06T11:42:09.506Z"
   },
   {
    "duration": 86,
    "start_time": "2023-04-06T11:42:12.747Z"
   },
   {
    "duration": 8,
    "start_time": "2023-04-06T11:42:56.168Z"
   },
   {
    "duration": 3759,
    "start_time": "2023-04-06T12:04:20.597Z"
   },
   {
    "duration": 43,
    "start_time": "2023-04-07T03:54:29.187Z"
   },
   {
    "duration": 2749,
    "start_time": "2023-04-07T03:54:35.586Z"
   },
   {
    "duration": 8,
    "start_time": "2023-04-07T03:54:38.337Z"
   },
   {
    "duration": 9,
    "start_time": "2023-04-07T03:54:38.347Z"
   },
   {
    "duration": 4,
    "start_time": "2023-04-07T03:54:38.358Z"
   },
   {
    "duration": 7,
    "start_time": "2023-04-07T03:54:38.364Z"
   },
   {
    "duration": 5,
    "start_time": "2023-04-07T03:54:38.372Z"
   },
   {
    "duration": 174,
    "start_time": "2023-04-07T03:54:38.378Z"
   },
   {
    "duration": 2,
    "start_time": "2023-04-07T03:54:38.554Z"
   },
   {
    "duration": 20,
    "start_time": "2023-04-07T03:54:38.558Z"
   },
   {
    "duration": 9,
    "start_time": "2023-04-07T03:54:38.580Z"
   },
   {
    "duration": 45,
    "start_time": "2023-04-07T03:54:38.590Z"
   },
   {
    "duration": 8,
    "start_time": "2023-04-07T03:54:38.637Z"
   },
   {
    "duration": 11,
    "start_time": "2023-04-07T03:54:38.647Z"
   },
   {
    "duration": 44,
    "start_time": "2023-04-07T03:54:38.661Z"
   },
   {
    "duration": 0,
    "start_time": "2023-04-07T03:54:38.709Z"
   },
   {
    "duration": 0,
    "start_time": "2023-04-07T03:54:38.710Z"
   },
   {
    "duration": 0,
    "start_time": "2023-04-07T03:54:38.711Z"
   },
   {
    "duration": 0,
    "start_time": "2023-04-07T03:54:38.713Z"
   },
   {
    "duration": 0,
    "start_time": "2023-04-07T03:54:38.714Z"
   },
   {
    "duration": 0,
    "start_time": "2023-04-07T03:54:38.735Z"
   },
   {
    "duration": 0,
    "start_time": "2023-04-07T03:54:38.736Z"
   },
   {
    "duration": 0,
    "start_time": "2023-04-07T03:54:38.737Z"
   },
   {
    "duration": 1,
    "start_time": "2023-04-07T03:54:38.738Z"
   },
   {
    "duration": 0,
    "start_time": "2023-04-07T03:54:38.740Z"
   },
   {
    "duration": 0,
    "start_time": "2023-04-07T03:54:38.741Z"
   },
   {
    "duration": 0,
    "start_time": "2023-04-07T03:54:38.743Z"
   },
   {
    "duration": 1,
    "start_time": "2023-04-07T03:54:38.744Z"
   },
   {
    "duration": 0,
    "start_time": "2023-04-07T03:54:38.746Z"
   },
   {
    "duration": 0,
    "start_time": "2023-04-07T03:54:38.747Z"
   },
   {
    "duration": 0,
    "start_time": "2023-04-07T03:54:38.748Z"
   },
   {
    "duration": 0,
    "start_time": "2023-04-07T03:54:38.750Z"
   },
   {
    "duration": 0,
    "start_time": "2023-04-07T03:54:38.751Z"
   },
   {
    "duration": 0,
    "start_time": "2023-04-07T03:54:38.753Z"
   },
   {
    "duration": 0,
    "start_time": "2023-04-07T03:54:38.754Z"
   },
   {
    "duration": 1,
    "start_time": "2023-04-07T03:54:38.755Z"
   },
   {
    "duration": 0,
    "start_time": "2023-04-07T03:54:38.757Z"
   },
   {
    "duration": 0,
    "start_time": "2023-04-07T03:54:38.759Z"
   },
   {
    "duration": 0,
    "start_time": "2023-04-07T03:54:38.762Z"
   },
   {
    "duration": 0,
    "start_time": "2023-04-07T03:54:38.765Z"
   },
   {
    "duration": 0,
    "start_time": "2023-04-07T03:54:38.767Z"
   },
   {
    "duration": 0,
    "start_time": "2023-04-07T03:54:38.768Z"
   },
   {
    "duration": 0,
    "start_time": "2023-04-07T03:54:38.769Z"
   },
   {
    "duration": 0,
    "start_time": "2023-04-07T03:54:38.770Z"
   },
   {
    "duration": 0,
    "start_time": "2023-04-07T03:54:38.771Z"
   },
   {
    "duration": 0,
    "start_time": "2023-04-07T03:54:38.772Z"
   },
   {
    "duration": 0,
    "start_time": "2023-04-07T03:54:38.773Z"
   },
   {
    "duration": 0,
    "start_time": "2023-04-07T03:54:38.834Z"
   },
   {
    "duration": 0,
    "start_time": "2023-04-07T03:54:38.835Z"
   },
   {
    "duration": 0,
    "start_time": "2023-04-07T03:54:38.836Z"
   },
   {
    "duration": 0,
    "start_time": "2023-04-07T03:54:38.837Z"
   },
   {
    "duration": 0,
    "start_time": "2023-04-07T03:54:38.838Z"
   },
   {
    "duration": 0,
    "start_time": "2023-04-07T03:54:38.839Z"
   },
   {
    "duration": 0,
    "start_time": "2023-04-07T03:54:38.841Z"
   },
   {
    "duration": 0,
    "start_time": "2023-04-07T03:54:38.842Z"
   },
   {
    "duration": 0,
    "start_time": "2023-04-07T03:54:38.843Z"
   },
   {
    "duration": 0,
    "start_time": "2023-04-07T03:54:38.844Z"
   },
   {
    "duration": 0,
    "start_time": "2023-04-07T03:54:38.845Z"
   },
   {
    "duration": 0,
    "start_time": "2023-04-07T03:54:38.846Z"
   },
   {
    "duration": 0,
    "start_time": "2023-04-07T03:54:38.847Z"
   },
   {
    "duration": 0,
    "start_time": "2023-04-07T03:54:38.848Z"
   },
   {
    "duration": 0,
    "start_time": "2023-04-07T03:54:38.850Z"
   },
   {
    "duration": 0,
    "start_time": "2023-04-07T03:54:38.851Z"
   },
   {
    "duration": 0,
    "start_time": "2023-04-07T03:54:38.852Z"
   },
   {
    "duration": 0,
    "start_time": "2023-04-07T03:54:38.853Z"
   },
   {
    "duration": 0,
    "start_time": "2023-04-07T03:54:38.854Z"
   },
   {
    "duration": 0,
    "start_time": "2023-04-07T03:54:38.855Z"
   },
   {
    "duration": 0,
    "start_time": "2023-04-07T03:54:38.856Z"
   },
   {
    "duration": 0,
    "start_time": "2023-04-07T03:54:38.856Z"
   },
   {
    "duration": 0,
    "start_time": "2023-04-07T03:54:38.857Z"
   },
   {
    "duration": 0,
    "start_time": "2023-04-07T03:54:38.859Z"
   },
   {
    "duration": 0,
    "start_time": "2023-04-07T03:54:38.860Z"
   },
   {
    "duration": 0,
    "start_time": "2023-04-07T03:54:38.861Z"
   },
   {
    "duration": 0,
    "start_time": "2023-04-07T03:54:38.862Z"
   },
   {
    "duration": 0,
    "start_time": "2023-04-07T03:54:38.863Z"
   },
   {
    "duration": 0,
    "start_time": "2023-04-07T03:54:38.864Z"
   },
   {
    "duration": 0,
    "start_time": "2023-04-07T03:54:38.865Z"
   },
   {
    "duration": 0,
    "start_time": "2023-04-07T03:54:38.866Z"
   },
   {
    "duration": 11,
    "start_time": "2023-04-07T03:55:04.636Z"
   },
   {
    "duration": 8,
    "start_time": "2023-04-07T03:56:55.028Z"
   },
   {
    "duration": 2,
    "start_time": "2023-04-07T03:57:16.030Z"
   },
   {
    "duration": 8,
    "start_time": "2023-04-07T03:57:17.754Z"
   },
   {
    "duration": 2,
    "start_time": "2023-04-07T03:57:23.426Z"
   },
   {
    "duration": 9,
    "start_time": "2023-04-07T03:57:25.099Z"
   },
   {
    "duration": 8,
    "start_time": "2023-04-07T03:57:31.585Z"
   },
   {
    "duration": 11,
    "start_time": "2023-04-07T03:57:41.985Z"
   },
   {
    "duration": 9,
    "start_time": "2023-04-07T03:57:51.051Z"
   },
   {
    "duration": 9,
    "start_time": "2023-04-07T03:57:52.077Z"
   },
   {
    "duration": 6,
    "start_time": "2023-04-07T03:58:24.492Z"
   },
   {
    "duration": 8,
    "start_time": "2023-04-07T03:58:27.602Z"
   },
   {
    "duration": 6,
    "start_time": "2023-04-07T03:58:38.097Z"
   },
   {
    "duration": 7,
    "start_time": "2023-04-07T03:58:39.912Z"
   },
   {
    "duration": 8,
    "start_time": "2023-04-07T03:59:53.229Z"
   },
   {
    "duration": 8,
    "start_time": "2023-04-07T03:59:55.041Z"
   },
   {
    "duration": 2748,
    "start_time": "2023-04-07T04:00:03.496Z"
   },
   {
    "duration": 10,
    "start_time": "2023-04-07T04:00:06.247Z"
   },
   {
    "duration": 18,
    "start_time": "2023-04-07T04:00:06.259Z"
   },
   {
    "duration": 27,
    "start_time": "2023-04-07T04:00:06.279Z"
   },
   {
    "duration": 19,
    "start_time": "2023-04-07T04:00:06.308Z"
   },
   {
    "duration": 4,
    "start_time": "2023-04-07T04:00:06.328Z"
   },
   {
    "duration": 162,
    "start_time": "2023-04-07T04:00:06.334Z"
   },
   {
    "duration": 3,
    "start_time": "2023-04-07T04:00:06.497Z"
   },
   {
    "duration": 14,
    "start_time": "2023-04-07T04:00:06.501Z"
   },
   {
    "duration": 20,
    "start_time": "2023-04-07T04:00:06.517Z"
   },
   {
    "duration": 35,
    "start_time": "2023-04-07T04:00:06.538Z"
   },
   {
    "duration": 8,
    "start_time": "2023-04-07T04:00:06.574Z"
   },
   {
    "duration": 25,
    "start_time": "2023-04-07T04:00:06.583Z"
   },
   {
    "duration": 87,
    "start_time": "2023-04-07T04:00:06.610Z"
   },
   {
    "duration": 0,
    "start_time": "2023-04-07T04:00:06.701Z"
   },
   {
    "duration": 0,
    "start_time": "2023-04-07T04:00:06.702Z"
   },
   {
    "duration": 0,
    "start_time": "2023-04-07T04:00:06.704Z"
   },
   {
    "duration": 0,
    "start_time": "2023-04-07T04:00:06.704Z"
   },
   {
    "duration": 0,
    "start_time": "2023-04-07T04:00:06.705Z"
   },
   {
    "duration": 0,
    "start_time": "2023-04-07T04:00:06.707Z"
   },
   {
    "duration": 0,
    "start_time": "2023-04-07T04:00:06.708Z"
   },
   {
    "duration": 0,
    "start_time": "2023-04-07T04:00:06.709Z"
   },
   {
    "duration": 0,
    "start_time": "2023-04-07T04:00:06.710Z"
   },
   {
    "duration": 0,
    "start_time": "2023-04-07T04:00:06.711Z"
   },
   {
    "duration": 0,
    "start_time": "2023-04-07T04:00:06.712Z"
   },
   {
    "duration": 0,
    "start_time": "2023-04-07T04:00:06.713Z"
   },
   {
    "duration": 0,
    "start_time": "2023-04-07T04:00:06.734Z"
   },
   {
    "duration": 0,
    "start_time": "2023-04-07T04:00:06.735Z"
   },
   {
    "duration": 0,
    "start_time": "2023-04-07T04:00:06.736Z"
   },
   {
    "duration": 0,
    "start_time": "2023-04-07T04:00:06.737Z"
   },
   {
    "duration": 0,
    "start_time": "2023-04-07T04:00:06.738Z"
   },
   {
    "duration": 0,
    "start_time": "2023-04-07T04:00:06.739Z"
   },
   {
    "duration": 0,
    "start_time": "2023-04-07T04:00:06.740Z"
   },
   {
    "duration": 0,
    "start_time": "2023-04-07T04:00:06.741Z"
   },
   {
    "duration": 0,
    "start_time": "2023-04-07T04:00:06.742Z"
   },
   {
    "duration": 0,
    "start_time": "2023-04-07T04:00:06.743Z"
   },
   {
    "duration": 0,
    "start_time": "2023-04-07T04:00:06.745Z"
   },
   {
    "duration": 0,
    "start_time": "2023-04-07T04:00:06.746Z"
   },
   {
    "duration": 0,
    "start_time": "2023-04-07T04:00:06.747Z"
   },
   {
    "duration": 0,
    "start_time": "2023-04-07T04:00:06.748Z"
   },
   {
    "duration": 0,
    "start_time": "2023-04-07T04:00:06.749Z"
   },
   {
    "duration": 0,
    "start_time": "2023-04-07T04:00:06.750Z"
   },
   {
    "duration": 0,
    "start_time": "2023-04-07T04:00:06.751Z"
   },
   {
    "duration": 0,
    "start_time": "2023-04-07T04:00:06.752Z"
   },
   {
    "duration": 0,
    "start_time": "2023-04-07T04:00:06.753Z"
   },
   {
    "duration": 0,
    "start_time": "2023-04-07T04:00:06.754Z"
   },
   {
    "duration": 0,
    "start_time": "2023-04-07T04:00:06.755Z"
   },
   {
    "duration": 0,
    "start_time": "2023-04-07T04:00:06.756Z"
   },
   {
    "duration": 0,
    "start_time": "2023-04-07T04:00:06.757Z"
   },
   {
    "duration": 0,
    "start_time": "2023-04-07T04:00:06.758Z"
   },
   {
    "duration": 0,
    "start_time": "2023-04-07T04:00:06.759Z"
   },
   {
    "duration": 0,
    "start_time": "2023-04-07T04:00:06.760Z"
   },
   {
    "duration": 0,
    "start_time": "2023-04-07T04:00:06.761Z"
   },
   {
    "duration": 0,
    "start_time": "2023-04-07T04:00:06.762Z"
   },
   {
    "duration": 0,
    "start_time": "2023-04-07T04:00:06.764Z"
   },
   {
    "duration": 0,
    "start_time": "2023-04-07T04:00:06.765Z"
   },
   {
    "duration": 0,
    "start_time": "2023-04-07T04:00:06.766Z"
   },
   {
    "duration": 0,
    "start_time": "2023-04-07T04:00:06.767Z"
   },
   {
    "duration": 0,
    "start_time": "2023-04-07T04:00:06.768Z"
   },
   {
    "duration": 0,
    "start_time": "2023-04-07T04:00:06.768Z"
   },
   {
    "duration": 0,
    "start_time": "2023-04-07T04:00:06.770Z"
   },
   {
    "duration": 0,
    "start_time": "2023-04-07T04:00:06.771Z"
   },
   {
    "duration": 0,
    "start_time": "2023-04-07T04:00:06.772Z"
   },
   {
    "duration": 0,
    "start_time": "2023-04-07T04:00:06.773Z"
   },
   {
    "duration": 0,
    "start_time": "2023-04-07T04:00:06.835Z"
   },
   {
    "duration": 0,
    "start_time": "2023-04-07T04:00:06.836Z"
   },
   {
    "duration": 0,
    "start_time": "2023-04-07T04:00:06.837Z"
   },
   {
    "duration": 0,
    "start_time": "2023-04-07T04:00:06.838Z"
   },
   {
    "duration": 0,
    "start_time": "2023-04-07T04:00:06.839Z"
   },
   {
    "duration": 0,
    "start_time": "2023-04-07T04:00:06.840Z"
   },
   {
    "duration": 0,
    "start_time": "2023-04-07T04:00:06.841Z"
   },
   {
    "duration": 0,
    "start_time": "2023-04-07T04:00:06.842Z"
   },
   {
    "duration": 0,
    "start_time": "2023-04-07T04:00:06.843Z"
   },
   {
    "duration": 0,
    "start_time": "2023-04-07T04:00:06.844Z"
   },
   {
    "duration": 0,
    "start_time": "2023-04-07T04:00:06.845Z"
   },
   {
    "duration": 0,
    "start_time": "2023-04-07T04:00:06.845Z"
   },
   {
    "duration": 0,
    "start_time": "2023-04-07T04:00:06.846Z"
   },
   {
    "duration": 3,
    "start_time": "2023-04-07T04:03:03.628Z"
   },
   {
    "duration": 3,
    "start_time": "2023-04-07T04:03:05.236Z"
   },
   {
    "duration": 108,
    "start_time": "2023-04-07T04:07:03.500Z"
   },
   {
    "duration": 11,
    "start_time": "2023-04-07T04:09:17.003Z"
   },
   {
    "duration": 8,
    "start_time": "2023-04-07T04:09:56.881Z"
   },
   {
    "duration": 3,
    "start_time": "2023-04-07T04:10:14.929Z"
   },
   {
    "duration": 2703,
    "start_time": "2023-04-07T04:10:25.424Z"
   },
   {
    "duration": 8,
    "start_time": "2023-04-07T04:10:28.129Z"
   },
   {
    "duration": 11,
    "start_time": "2023-04-07T04:10:28.138Z"
   },
   {
    "duration": 4,
    "start_time": "2023-04-07T04:10:28.150Z"
   },
   {
    "duration": 10,
    "start_time": "2023-04-07T04:10:28.156Z"
   },
   {
    "duration": 3,
    "start_time": "2023-04-07T04:10:28.167Z"
   },
   {
    "duration": 163,
    "start_time": "2023-04-07T04:10:28.171Z"
   },
   {
    "duration": 3,
    "start_time": "2023-04-07T04:10:28.336Z"
   },
   {
    "duration": 11,
    "start_time": "2023-04-07T04:10:28.340Z"
   },
   {
    "duration": 7,
    "start_time": "2023-04-07T04:10:28.353Z"
   },
   {
    "duration": 37,
    "start_time": "2023-04-07T04:10:28.361Z"
   },
   {
    "duration": 8,
    "start_time": "2023-04-07T04:10:28.400Z"
   },
   {
    "duration": 6,
    "start_time": "2023-04-07T04:10:28.434Z"
   },
   {
    "duration": 73,
    "start_time": "2023-04-07T04:10:28.443Z"
   },
   {
    "duration": 0,
    "start_time": "2023-04-07T04:10:28.535Z"
   },
   {
    "duration": 0,
    "start_time": "2023-04-07T04:10:28.536Z"
   },
   {
    "duration": 0,
    "start_time": "2023-04-07T04:10:28.537Z"
   },
   {
    "duration": 0,
    "start_time": "2023-04-07T04:10:28.538Z"
   },
   {
    "duration": 0,
    "start_time": "2023-04-07T04:10:28.539Z"
   },
   {
    "duration": 0,
    "start_time": "2023-04-07T04:10:28.541Z"
   },
   {
    "duration": 0,
    "start_time": "2023-04-07T04:10:28.541Z"
   },
   {
    "duration": 0,
    "start_time": "2023-04-07T04:10:28.543Z"
   },
   {
    "duration": 0,
    "start_time": "2023-04-07T04:10:28.543Z"
   },
   {
    "duration": 0,
    "start_time": "2023-04-07T04:10:28.544Z"
   },
   {
    "duration": 0,
    "start_time": "2023-04-07T04:10:28.545Z"
   },
   {
    "duration": 0,
    "start_time": "2023-04-07T04:10:28.546Z"
   },
   {
    "duration": 0,
    "start_time": "2023-04-07T04:10:28.547Z"
   },
   {
    "duration": 0,
    "start_time": "2023-04-07T04:10:28.548Z"
   },
   {
    "duration": 0,
    "start_time": "2023-04-07T04:10:28.549Z"
   },
   {
    "duration": 0,
    "start_time": "2023-04-07T04:10:28.550Z"
   },
   {
    "duration": 0,
    "start_time": "2023-04-07T04:10:28.551Z"
   },
   {
    "duration": 0,
    "start_time": "2023-04-07T04:10:28.552Z"
   },
   {
    "duration": 0,
    "start_time": "2023-04-07T04:10:28.553Z"
   },
   {
    "duration": 0,
    "start_time": "2023-04-07T04:10:28.554Z"
   },
   {
    "duration": 0,
    "start_time": "2023-04-07T04:10:28.556Z"
   },
   {
    "duration": 0,
    "start_time": "2023-04-07T04:10:28.557Z"
   },
   {
    "duration": 0,
    "start_time": "2023-04-07T04:10:28.558Z"
   },
   {
    "duration": 0,
    "start_time": "2023-04-07T04:10:28.559Z"
   },
   {
    "duration": 0,
    "start_time": "2023-04-07T04:10:28.560Z"
   },
   {
    "duration": 0,
    "start_time": "2023-04-07T04:10:28.561Z"
   },
   {
    "duration": 0,
    "start_time": "2023-04-07T04:10:28.562Z"
   },
   {
    "duration": 0,
    "start_time": "2023-04-07T04:10:28.563Z"
   },
   {
    "duration": 0,
    "start_time": "2023-04-07T04:10:28.564Z"
   },
   {
    "duration": 0,
    "start_time": "2023-04-07T04:10:28.565Z"
   },
   {
    "duration": 0,
    "start_time": "2023-04-07T04:10:28.566Z"
   },
   {
    "duration": 0,
    "start_time": "2023-04-07T04:10:28.567Z"
   },
   {
    "duration": 0,
    "start_time": "2023-04-07T04:10:28.568Z"
   },
   {
    "duration": 0,
    "start_time": "2023-04-07T04:10:28.569Z"
   },
   {
    "duration": 0,
    "start_time": "2023-04-07T04:10:28.570Z"
   },
   {
    "duration": 0,
    "start_time": "2023-04-07T04:10:28.571Z"
   },
   {
    "duration": 0,
    "start_time": "2023-04-07T04:10:28.571Z"
   },
   {
    "duration": 0,
    "start_time": "2023-04-07T04:10:28.572Z"
   },
   {
    "duration": 0,
    "start_time": "2023-04-07T04:10:28.573Z"
   },
   {
    "duration": 0,
    "start_time": "2023-04-07T04:10:28.635Z"
   },
   {
    "duration": 0,
    "start_time": "2023-04-07T04:10:28.635Z"
   },
   {
    "duration": 0,
    "start_time": "2023-04-07T04:10:28.636Z"
   },
   {
    "duration": 0,
    "start_time": "2023-04-07T04:10:28.637Z"
   },
   {
    "duration": 0,
    "start_time": "2023-04-07T04:10:28.639Z"
   },
   {
    "duration": 0,
    "start_time": "2023-04-07T04:10:28.640Z"
   },
   {
    "duration": 0,
    "start_time": "2023-04-07T04:10:28.641Z"
   },
   {
    "duration": 0,
    "start_time": "2023-04-07T04:10:28.642Z"
   },
   {
    "duration": 0,
    "start_time": "2023-04-07T04:10:28.643Z"
   },
   {
    "duration": 0,
    "start_time": "2023-04-07T04:10:28.644Z"
   },
   {
    "duration": 0,
    "start_time": "2023-04-07T04:10:28.645Z"
   },
   {
    "duration": 0,
    "start_time": "2023-04-07T04:10:28.646Z"
   },
   {
    "duration": 0,
    "start_time": "2023-04-07T04:10:28.647Z"
   },
   {
    "duration": 0,
    "start_time": "2023-04-07T04:10:28.648Z"
   },
   {
    "duration": 0,
    "start_time": "2023-04-07T04:10:28.649Z"
   },
   {
    "duration": 0,
    "start_time": "2023-04-07T04:10:28.650Z"
   },
   {
    "duration": 0,
    "start_time": "2023-04-07T04:10:28.651Z"
   },
   {
    "duration": 0,
    "start_time": "2023-04-07T04:10:28.652Z"
   },
   {
    "duration": 0,
    "start_time": "2023-04-07T04:10:28.653Z"
   },
   {
    "duration": 0,
    "start_time": "2023-04-07T04:10:28.654Z"
   },
   {
    "duration": 0,
    "start_time": "2023-04-07T04:10:28.655Z"
   },
   {
    "duration": 0,
    "start_time": "2023-04-07T04:10:28.656Z"
   },
   {
    "duration": 0,
    "start_time": "2023-04-07T04:10:28.657Z"
   },
   {
    "duration": 0,
    "start_time": "2023-04-07T04:10:28.658Z"
   },
   {
    "duration": 0,
    "start_time": "2023-04-07T04:10:28.659Z"
   },
   {
    "duration": 0,
    "start_time": "2023-04-07T04:10:28.660Z"
   },
   {
    "duration": 0,
    "start_time": "2023-04-07T04:10:28.661Z"
   },
   {
    "duration": 0,
    "start_time": "2023-04-07T04:10:28.662Z"
   },
   {
    "duration": 7,
    "start_time": "2023-04-07T04:10:45.186Z"
   },
   {
    "duration": 2021,
    "start_time": "2023-04-07T04:10:57.027Z"
   },
   {
    "duration": 7,
    "start_time": "2023-04-07T04:10:59.050Z"
   },
   {
    "duration": 25,
    "start_time": "2023-04-07T04:10:59.059Z"
   },
   {
    "duration": 10,
    "start_time": "2023-04-07T04:10:59.086Z"
   },
   {
    "duration": 16,
    "start_time": "2023-04-07T04:10:59.097Z"
   },
   {
    "duration": 22,
    "start_time": "2023-04-07T04:10:59.114Z"
   },
   {
    "duration": 151,
    "start_time": "2023-04-07T04:10:59.137Z"
   },
   {
    "duration": 2,
    "start_time": "2023-04-07T04:10:59.291Z"
   },
   {
    "duration": 21,
    "start_time": "2023-04-07T04:10:59.295Z"
   },
   {
    "duration": 12,
    "start_time": "2023-04-07T04:10:59.319Z"
   },
   {
    "duration": 33,
    "start_time": "2023-04-07T04:10:59.332Z"
   },
   {
    "duration": 13,
    "start_time": "2023-04-07T04:10:59.366Z"
   },
   {
    "duration": 12,
    "start_time": "2023-04-07T04:10:59.380Z"
   },
   {
    "duration": 12,
    "start_time": "2023-04-07T04:10:59.393Z"
   },
   {
    "duration": 0,
    "start_time": "2023-04-07T04:10:59.409Z"
   },
   {
    "duration": 0,
    "start_time": "2023-04-07T04:10:59.410Z"
   },
   {
    "duration": 0,
    "start_time": "2023-04-07T04:10:59.411Z"
   },
   {
    "duration": 0,
    "start_time": "2023-04-07T04:10:59.413Z"
   },
   {
    "duration": 0,
    "start_time": "2023-04-07T04:10:59.415Z"
   },
   {
    "duration": 0,
    "start_time": "2023-04-07T04:10:59.415Z"
   },
   {
    "duration": 0,
    "start_time": "2023-04-07T04:10:59.434Z"
   },
   {
    "duration": 0,
    "start_time": "2023-04-07T04:10:59.435Z"
   },
   {
    "duration": 0,
    "start_time": "2023-04-07T04:10:59.436Z"
   },
   {
    "duration": 0,
    "start_time": "2023-04-07T04:10:59.437Z"
   },
   {
    "duration": 0,
    "start_time": "2023-04-07T04:10:59.438Z"
   },
   {
    "duration": 0,
    "start_time": "2023-04-07T04:10:59.439Z"
   },
   {
    "duration": 0,
    "start_time": "2023-04-07T04:10:59.440Z"
   },
   {
    "duration": 0,
    "start_time": "2023-04-07T04:10:59.441Z"
   },
   {
    "duration": 0,
    "start_time": "2023-04-07T04:10:59.441Z"
   },
   {
    "duration": 0,
    "start_time": "2023-04-07T04:10:59.442Z"
   },
   {
    "duration": 0,
    "start_time": "2023-04-07T04:10:59.444Z"
   },
   {
    "duration": 0,
    "start_time": "2023-04-07T04:10:59.445Z"
   },
   {
    "duration": 0,
    "start_time": "2023-04-07T04:10:59.446Z"
   },
   {
    "duration": 0,
    "start_time": "2023-04-07T04:10:59.447Z"
   },
   {
    "duration": 0,
    "start_time": "2023-04-07T04:10:59.448Z"
   },
   {
    "duration": 0,
    "start_time": "2023-04-07T04:10:59.449Z"
   },
   {
    "duration": 0,
    "start_time": "2023-04-07T04:10:59.449Z"
   },
   {
    "duration": 0,
    "start_time": "2023-04-07T04:10:59.450Z"
   },
   {
    "duration": 0,
    "start_time": "2023-04-07T04:10:59.451Z"
   },
   {
    "duration": 0,
    "start_time": "2023-04-07T04:10:59.452Z"
   },
   {
    "duration": 0,
    "start_time": "2023-04-07T04:10:59.453Z"
   },
   {
    "duration": 0,
    "start_time": "2023-04-07T04:10:59.454Z"
   },
   {
    "duration": 0,
    "start_time": "2023-04-07T04:10:59.455Z"
   },
   {
    "duration": 0,
    "start_time": "2023-04-07T04:10:59.456Z"
   },
   {
    "duration": 0,
    "start_time": "2023-04-07T04:10:59.457Z"
   },
   {
    "duration": 0,
    "start_time": "2023-04-07T04:10:59.458Z"
   },
   {
    "duration": 0,
    "start_time": "2023-04-07T04:10:59.459Z"
   },
   {
    "duration": 0,
    "start_time": "2023-04-07T04:10:59.460Z"
   },
   {
    "duration": 0,
    "start_time": "2023-04-07T04:10:59.461Z"
   },
   {
    "duration": 0,
    "start_time": "2023-04-07T04:10:59.461Z"
   },
   {
    "duration": 0,
    "start_time": "2023-04-07T04:10:59.462Z"
   },
   {
    "duration": 0,
    "start_time": "2023-04-07T04:10:59.463Z"
   },
   {
    "duration": 0,
    "start_time": "2023-04-07T04:10:59.464Z"
   },
   {
    "duration": 0,
    "start_time": "2023-04-07T04:10:59.465Z"
   },
   {
    "duration": 0,
    "start_time": "2023-04-07T04:10:59.466Z"
   },
   {
    "duration": 0,
    "start_time": "2023-04-07T04:10:59.467Z"
   },
   {
    "duration": 0,
    "start_time": "2023-04-07T04:10:59.468Z"
   },
   {
    "duration": 0,
    "start_time": "2023-04-07T04:10:59.469Z"
   },
   {
    "duration": 0,
    "start_time": "2023-04-07T04:10:59.470Z"
   },
   {
    "duration": 0,
    "start_time": "2023-04-07T04:10:59.471Z"
   },
   {
    "duration": 0,
    "start_time": "2023-04-07T04:10:59.471Z"
   },
   {
    "duration": 0,
    "start_time": "2023-04-07T04:10:59.534Z"
   },
   {
    "duration": 0,
    "start_time": "2023-04-07T04:10:59.535Z"
   },
   {
    "duration": 0,
    "start_time": "2023-04-07T04:10:59.536Z"
   },
   {
    "duration": 0,
    "start_time": "2023-04-07T04:10:59.537Z"
   },
   {
    "duration": 0,
    "start_time": "2023-04-07T04:10:59.538Z"
   },
   {
    "duration": 0,
    "start_time": "2023-04-07T04:10:59.539Z"
   },
   {
    "duration": 0,
    "start_time": "2023-04-07T04:10:59.540Z"
   },
   {
    "duration": 0,
    "start_time": "2023-04-07T04:10:59.541Z"
   },
   {
    "duration": 1,
    "start_time": "2023-04-07T04:10:59.541Z"
   },
   {
    "duration": 0,
    "start_time": "2023-04-07T04:10:59.542Z"
   },
   {
    "duration": 0,
    "start_time": "2023-04-07T04:10:59.543Z"
   },
   {
    "duration": 0,
    "start_time": "2023-04-07T04:10:59.544Z"
   },
   {
    "duration": 0,
    "start_time": "2023-04-07T04:10:59.544Z"
   },
   {
    "duration": 0,
    "start_time": "2023-04-07T04:10:59.545Z"
   },
   {
    "duration": 0,
    "start_time": "2023-04-07T04:10:59.546Z"
   },
   {
    "duration": 0,
    "start_time": "2023-04-07T04:10:59.547Z"
   },
   {
    "duration": 0,
    "start_time": "2023-04-07T04:10:59.548Z"
   },
   {
    "duration": 0,
    "start_time": "2023-04-07T04:10:59.549Z"
   },
   {
    "duration": 0,
    "start_time": "2023-04-07T04:10:59.550Z"
   },
   {
    "duration": 0,
    "start_time": "2023-04-07T04:10:59.551Z"
   },
   {
    "duration": 3,
    "start_time": "2023-04-07T04:11:17.297Z"
   },
   {
    "duration": 4,
    "start_time": "2023-04-07T04:11:18.824Z"
   },
   {
    "duration": 2324,
    "start_time": "2023-04-07T04:11:43.847Z"
   },
   {
    "duration": 9,
    "start_time": "2023-04-07T04:11:46.173Z"
   },
   {
    "duration": 9,
    "start_time": "2023-04-07T04:11:46.183Z"
   },
   {
    "duration": 6,
    "start_time": "2023-04-07T04:11:46.194Z"
   },
   {
    "duration": 9,
    "start_time": "2023-04-07T04:11:46.201Z"
   },
   {
    "duration": 28,
    "start_time": "2023-04-07T04:11:46.211Z"
   },
   {
    "duration": 157,
    "start_time": "2023-04-07T04:11:46.249Z"
   },
   {
    "duration": 3,
    "start_time": "2023-04-07T04:11:46.407Z"
   },
   {
    "duration": 29,
    "start_time": "2023-04-07T04:11:46.412Z"
   },
   {
    "duration": 20,
    "start_time": "2023-04-07T04:11:46.447Z"
   },
   {
    "duration": 59,
    "start_time": "2023-04-07T04:11:46.469Z"
   },
   {
    "duration": 14,
    "start_time": "2023-04-07T04:11:46.530Z"
   },
   {
    "duration": 18,
    "start_time": "2023-04-07T04:11:46.546Z"
   },
   {
    "duration": 16,
    "start_time": "2023-04-07T04:11:46.566Z"
   },
   {
    "duration": 0,
    "start_time": "2023-04-07T04:11:46.585Z"
   },
   {
    "duration": 0,
    "start_time": "2023-04-07T04:11:46.585Z"
   },
   {
    "duration": 0,
    "start_time": "2023-04-07T04:11:46.587Z"
   },
   {
    "duration": 0,
    "start_time": "2023-04-07T04:11:46.588Z"
   },
   {
    "duration": 0,
    "start_time": "2023-04-07T04:11:46.589Z"
   },
   {
    "duration": 0,
    "start_time": "2023-04-07T04:11:46.590Z"
   },
   {
    "duration": 0,
    "start_time": "2023-04-07T04:11:46.591Z"
   },
   {
    "duration": 0,
    "start_time": "2023-04-07T04:11:46.592Z"
   },
   {
    "duration": 0,
    "start_time": "2023-04-07T04:11:46.593Z"
   },
   {
    "duration": 0,
    "start_time": "2023-04-07T04:11:46.594Z"
   },
   {
    "duration": 0,
    "start_time": "2023-04-07T04:11:46.595Z"
   },
   {
    "duration": 0,
    "start_time": "2023-04-07T04:11:46.595Z"
   },
   {
    "duration": 0,
    "start_time": "2023-04-07T04:11:46.596Z"
   },
   {
    "duration": 0,
    "start_time": "2023-04-07T04:11:46.597Z"
   },
   {
    "duration": 0,
    "start_time": "2023-04-07T04:11:46.598Z"
   },
   {
    "duration": 0,
    "start_time": "2023-04-07T04:11:46.599Z"
   },
   {
    "duration": 0,
    "start_time": "2023-04-07T04:11:46.600Z"
   },
   {
    "duration": 0,
    "start_time": "2023-04-07T04:11:46.601Z"
   },
   {
    "duration": 0,
    "start_time": "2023-04-07T04:11:46.636Z"
   },
   {
    "duration": 0,
    "start_time": "2023-04-07T04:11:46.637Z"
   },
   {
    "duration": 0,
    "start_time": "2023-04-07T04:11:46.637Z"
   },
   {
    "duration": 0,
    "start_time": "2023-04-07T04:11:46.638Z"
   },
   {
    "duration": 0,
    "start_time": "2023-04-07T04:11:46.639Z"
   },
   {
    "duration": 0,
    "start_time": "2023-04-07T04:11:46.645Z"
   },
   {
    "duration": 0,
    "start_time": "2023-04-07T04:11:46.646Z"
   },
   {
    "duration": 0,
    "start_time": "2023-04-07T04:11:46.647Z"
   },
   {
    "duration": 0,
    "start_time": "2023-04-07T04:11:46.648Z"
   },
   {
    "duration": 0,
    "start_time": "2023-04-07T04:11:46.649Z"
   },
   {
    "duration": 0,
    "start_time": "2023-04-07T04:11:46.650Z"
   },
   {
    "duration": 0,
    "start_time": "2023-04-07T04:11:46.651Z"
   },
   {
    "duration": 0,
    "start_time": "2023-04-07T04:11:46.652Z"
   },
   {
    "duration": 0,
    "start_time": "2023-04-07T04:11:46.653Z"
   },
   {
    "duration": 0,
    "start_time": "2023-04-07T04:11:46.655Z"
   },
   {
    "duration": 0,
    "start_time": "2023-04-07T04:11:46.656Z"
   },
   {
    "duration": 0,
    "start_time": "2023-04-07T04:11:46.657Z"
   },
   {
    "duration": 0,
    "start_time": "2023-04-07T04:11:46.659Z"
   },
   {
    "duration": 0,
    "start_time": "2023-04-07T04:11:46.660Z"
   },
   {
    "duration": 0,
    "start_time": "2023-04-07T04:11:46.662Z"
   },
   {
    "duration": 0,
    "start_time": "2023-04-07T04:11:46.663Z"
   },
   {
    "duration": 0,
    "start_time": "2023-04-07T04:11:46.664Z"
   },
   {
    "duration": 0,
    "start_time": "2023-04-07T04:11:46.666Z"
   },
   {
    "duration": 0,
    "start_time": "2023-04-07T04:11:46.667Z"
   },
   {
    "duration": 0,
    "start_time": "2023-04-07T04:11:46.668Z"
   },
   {
    "duration": 0,
    "start_time": "2023-04-07T04:11:46.669Z"
   },
   {
    "duration": 0,
    "start_time": "2023-04-07T04:11:46.671Z"
   },
   {
    "duration": 0,
    "start_time": "2023-04-07T04:11:46.672Z"
   },
   {
    "duration": 0,
    "start_time": "2023-04-07T04:11:46.674Z"
   },
   {
    "duration": 0,
    "start_time": "2023-04-07T04:11:46.675Z"
   },
   {
    "duration": 0,
    "start_time": "2023-04-07T04:11:46.676Z"
   },
   {
    "duration": 0,
    "start_time": "2023-04-07T04:11:46.735Z"
   },
   {
    "duration": 0,
    "start_time": "2023-04-07T04:11:46.737Z"
   },
   {
    "duration": 0,
    "start_time": "2023-04-07T04:11:46.738Z"
   },
   {
    "duration": 0,
    "start_time": "2023-04-07T04:11:46.739Z"
   },
   {
    "duration": 0,
    "start_time": "2023-04-07T04:11:46.740Z"
   },
   {
    "duration": 0,
    "start_time": "2023-04-07T04:11:46.741Z"
   },
   {
    "duration": 0,
    "start_time": "2023-04-07T04:11:46.746Z"
   },
   {
    "duration": 0,
    "start_time": "2023-04-07T04:11:46.747Z"
   },
   {
    "duration": 0,
    "start_time": "2023-04-07T04:11:46.747Z"
   },
   {
    "duration": 0,
    "start_time": "2023-04-07T04:11:46.748Z"
   },
   {
    "duration": 0,
    "start_time": "2023-04-07T04:11:46.749Z"
   },
   {
    "duration": 0,
    "start_time": "2023-04-07T04:11:46.752Z"
   },
   {
    "duration": 0,
    "start_time": "2023-04-07T04:11:46.753Z"
   },
   {
    "duration": 0,
    "start_time": "2023-04-07T04:11:46.754Z"
   },
   {
    "duration": 0,
    "start_time": "2023-04-07T04:11:46.756Z"
   },
   {
    "duration": 0,
    "start_time": "2023-04-07T04:11:46.757Z"
   },
   {
    "duration": 0,
    "start_time": "2023-04-07T04:11:46.758Z"
   },
   {
    "duration": 0,
    "start_time": "2023-04-07T04:11:46.759Z"
   },
   {
    "duration": 10,
    "start_time": "2023-04-07T04:19:22.135Z"
   },
   {
    "duration": 3,
    "start_time": "2023-04-07T04:19:32.197Z"
   },
   {
    "duration": 11,
    "start_time": "2023-04-07T04:21:10.800Z"
   },
   {
    "duration": 9,
    "start_time": "2023-04-07T04:21:47.726Z"
   },
   {
    "duration": 9,
    "start_time": "2023-04-07T04:21:54.736Z"
   },
   {
    "duration": 107,
    "start_time": "2023-04-07T04:27:50.957Z"
   },
   {
    "duration": 8,
    "start_time": "2023-04-07T04:29:02.369Z"
   },
   {
    "duration": 97,
    "start_time": "2023-04-07T04:29:39.472Z"
   },
   {
    "duration": 7,
    "start_time": "2023-04-07T04:46:47.375Z"
   },
   {
    "duration": 113,
    "start_time": "2023-04-07T04:47:14.666Z"
   },
   {
    "duration": 7,
    "start_time": "2023-04-07T04:47:34.471Z"
   },
   {
    "duration": 175,
    "start_time": "2023-04-07T04:47:38.520Z"
   },
   {
    "duration": 8,
    "start_time": "2023-04-07T04:47:45.649Z"
   },
   {
    "duration": 96,
    "start_time": "2023-04-07T04:47:47.454Z"
   },
   {
    "duration": 8,
    "start_time": "2023-04-07T04:47:52.782Z"
   },
   {
    "duration": 7,
    "start_time": "2023-04-07T04:48:02.656Z"
   },
   {
    "duration": 135,
    "start_time": "2023-04-07T04:48:04.532Z"
   },
   {
    "duration": 3,
    "start_time": "2023-04-07T04:49:08.612Z"
   },
   {
    "duration": 3,
    "start_time": "2023-04-07T04:49:10.140Z"
   },
   {
    "duration": 98,
    "start_time": "2023-04-07T04:49:34.220Z"
   },
   {
    "duration": 97,
    "start_time": "2023-04-07T04:49:41.455Z"
   },
   {
    "duration": 7,
    "start_time": "2023-04-07T04:50:11.208Z"
   },
   {
    "duration": 8,
    "start_time": "2023-04-07T04:50:22.966Z"
   },
   {
    "duration": 95,
    "start_time": "2023-04-07T04:50:53.013Z"
   },
   {
    "duration": 4,
    "start_time": "2023-04-07T04:51:14.427Z"
   },
   {
    "duration": 8,
    "start_time": "2023-04-07T04:51:22.732Z"
   },
   {
    "duration": 100,
    "start_time": "2023-04-07T04:51:24.508Z"
   },
   {
    "duration": 4,
    "start_time": "2023-04-07T04:51:32.360Z"
   },
   {
    "duration": 4,
    "start_time": "2023-04-07T04:51:35.808Z"
   },
   {
    "duration": 4,
    "start_time": "2023-04-07T04:56:17.654Z"
   },
   {
    "duration": 2735,
    "start_time": "2023-04-07T04:56:29.508Z"
   },
   {
    "duration": 8,
    "start_time": "2023-04-07T04:56:32.245Z"
   },
   {
    "duration": 13,
    "start_time": "2023-04-07T04:56:32.254Z"
   },
   {
    "duration": 3,
    "start_time": "2023-04-07T04:56:32.269Z"
   },
   {
    "duration": 8,
    "start_time": "2023-04-07T04:56:32.274Z"
   },
   {
    "duration": 5,
    "start_time": "2023-04-07T04:56:32.283Z"
   },
   {
    "duration": 154,
    "start_time": "2023-04-07T04:56:32.290Z"
   },
   {
    "duration": 9,
    "start_time": "2023-04-07T04:56:32.446Z"
   },
   {
    "duration": 9,
    "start_time": "2023-04-07T04:56:32.456Z"
   },
   {
    "duration": 34,
    "start_time": "2023-04-07T04:56:32.467Z"
   },
   {
    "duration": 31,
    "start_time": "2023-04-07T04:56:32.503Z"
   },
   {
    "duration": 6,
    "start_time": "2023-04-07T04:56:32.536Z"
   },
   {
    "duration": 14,
    "start_time": "2023-04-07T04:56:32.543Z"
   },
   {
    "duration": 6,
    "start_time": "2023-04-07T04:56:32.558Z"
   },
   {
    "duration": 4,
    "start_time": "2023-04-07T04:56:32.565Z"
   },
   {
    "duration": 143,
    "start_time": "2023-04-07T04:56:32.571Z"
   },
   {
    "duration": 31,
    "start_time": "2023-04-07T04:56:32.716Z"
   },
   {
    "duration": 112,
    "start_time": "2023-04-07T04:56:32.749Z"
   },
   {
    "duration": 72,
    "start_time": "2023-04-07T04:56:32.863Z"
   },
   {
    "duration": 5,
    "start_time": "2023-04-07T04:56:32.936Z"
   },
   {
    "duration": 17,
    "start_time": "2023-04-07T04:56:32.943Z"
   },
   {
    "duration": 32,
    "start_time": "2023-04-07T04:56:32.961Z"
   },
   {
    "duration": 7,
    "start_time": "2023-04-07T04:56:32.994Z"
   },
   {
    "duration": 4,
    "start_time": "2023-04-07T04:56:33.002Z"
   },
   {
    "duration": 7,
    "start_time": "2023-04-07T04:56:33.034Z"
   },
   {
    "duration": 32,
    "start_time": "2023-04-07T04:56:33.043Z"
   },
   {
    "duration": 7,
    "start_time": "2023-04-07T04:56:33.077Z"
   },
   {
    "duration": 22,
    "start_time": "2023-04-07T04:56:33.088Z"
   },
   {
    "duration": 30,
    "start_time": "2023-04-07T04:56:33.111Z"
   },
   {
    "duration": 27,
    "start_time": "2023-04-07T04:56:33.142Z"
   },
   {
    "duration": 132,
    "start_time": "2023-04-07T04:56:33.171Z"
   },
   {
    "duration": 8,
    "start_time": "2023-04-07T04:56:33.305Z"
   },
   {
    "duration": 124,
    "start_time": "2023-04-07T04:56:33.315Z"
   },
   {
    "duration": 104,
    "start_time": "2023-04-07T04:56:33.441Z"
   },
   {
    "duration": 8,
    "start_time": "2023-04-07T04:56:33.546Z"
   },
   {
    "duration": 9,
    "start_time": "2023-04-07T04:56:33.556Z"
   },
   {
    "duration": 113,
    "start_time": "2023-04-07T04:56:33.567Z"
   },
   {
    "duration": 7,
    "start_time": "2023-04-07T04:56:33.682Z"
   },
   {
    "duration": 182,
    "start_time": "2023-04-07T04:56:33.690Z"
   },
   {
    "duration": 2,
    "start_time": "2023-04-07T04:56:33.873Z"
   },
   {
    "duration": 16,
    "start_time": "2023-04-07T04:56:33.877Z"
   },
   {
    "duration": 18,
    "start_time": "2023-04-07T04:56:33.894Z"
   },
   {
    "duration": 38,
    "start_time": "2023-04-07T04:56:33.913Z"
   },
   {
    "duration": 16,
    "start_time": "2023-04-07T04:56:33.953Z"
   },
   {
    "duration": 30,
    "start_time": "2023-04-07T04:56:33.970Z"
   },
   {
    "duration": 253,
    "start_time": "2023-04-07T04:56:34.001Z"
   },
   {
    "duration": 4,
    "start_time": "2023-04-07T04:56:34.255Z"
   },
   {
    "duration": 33,
    "start_time": "2023-04-07T04:56:34.261Z"
   },
   {
    "duration": 285,
    "start_time": "2023-04-07T04:56:34.295Z"
   },
   {
    "duration": 317,
    "start_time": "2023-04-07T04:56:34.582Z"
   },
   {
    "duration": 271,
    "start_time": "2023-04-07T04:56:34.901Z"
   },
   {
    "duration": 4,
    "start_time": "2023-04-07T04:56:35.174Z"
   },
   {
    "duration": 331,
    "start_time": "2023-04-07T04:56:35.179Z"
   },
   {
    "duration": 235,
    "start_time": "2023-04-07T04:56:35.511Z"
   },
   {
    "duration": 17,
    "start_time": "2023-04-07T04:56:35.747Z"
   },
   {
    "duration": 216,
    "start_time": "2023-04-07T04:56:35.765Z"
   },
   {
    "duration": 282,
    "start_time": "2023-04-07T04:56:35.983Z"
   },
   {
    "duration": 111,
    "start_time": "2023-04-07T04:56:36.267Z"
   },
   {
    "duration": 320,
    "start_time": "2023-04-07T04:56:36.379Z"
   },
   {
    "duration": 343,
    "start_time": "2023-04-07T04:56:36.701Z"
   },
   {
    "duration": 9,
    "start_time": "2023-04-07T04:56:37.046Z"
   },
   {
    "duration": 280,
    "start_time": "2023-04-07T04:56:37.056Z"
   },
   {
    "duration": 276,
    "start_time": "2023-04-07T04:56:37.337Z"
   },
   {
    "duration": 37,
    "start_time": "2023-04-07T04:56:37.615Z"
   },
   {
    "duration": 268,
    "start_time": "2023-04-07T04:56:37.655Z"
   },
   {
    "duration": 263,
    "start_time": "2023-04-07T04:56:37.924Z"
   },
   {
    "duration": 197,
    "start_time": "2023-04-07T04:56:38.189Z"
   },
   {
    "duration": 113,
    "start_time": "2023-04-07T04:56:38.387Z"
   },
   {
    "duration": 4,
    "start_time": "2023-04-07T04:56:38.501Z"
   },
   {
    "duration": 27,
    "start_time": "2023-04-07T04:56:38.506Z"
   },
   {
    "duration": 7,
    "start_time": "2023-04-07T04:56:38.534Z"
   },
   {
    "duration": 151,
    "start_time": "2023-04-07T04:56:38.542Z"
   },
   {
    "duration": 6,
    "start_time": "2023-04-07T04:56:38.694Z"
   },
   {
    "duration": 157,
    "start_time": "2023-04-07T04:56:38.701Z"
   },
   {
    "duration": 5,
    "start_time": "2023-04-07T04:56:38.860Z"
   },
   {
    "duration": 167,
    "start_time": "2023-04-07T04:56:38.867Z"
   },
   {
    "duration": 147,
    "start_time": "2023-04-07T04:56:39.036Z"
   },
   {
    "duration": 115,
    "start_time": "2023-04-07T04:56:39.185Z"
   },
   {
    "duration": 145,
    "start_time": "2023-04-07T04:56:39.302Z"
   },
   {
    "duration": 156,
    "start_time": "2023-04-07T04:56:39.449Z"
   },
   {
    "duration": 142,
    "start_time": "2023-04-07T04:56:39.607Z"
   },
   {
    "duration": 18,
    "start_time": "2023-04-07T04:56:39.755Z"
   },
   {
    "duration": 160,
    "start_time": "2023-04-07T04:56:39.775Z"
   },
   {
    "duration": 2869,
    "start_time": "2023-04-07T05:09:44.602Z"
   },
   {
    "duration": 9,
    "start_time": "2023-04-07T05:09:47.473Z"
   },
   {
    "duration": 14,
    "start_time": "2023-04-07T05:09:47.484Z"
   },
   {
    "duration": 9,
    "start_time": "2023-04-07T05:09:47.500Z"
   },
   {
    "duration": 11,
    "start_time": "2023-04-07T05:09:47.510Z"
   },
   {
    "duration": 5,
    "start_time": "2023-04-07T05:09:47.522Z"
   },
   {
    "duration": 148,
    "start_time": "2023-04-07T05:09:47.529Z"
   },
   {
    "duration": 10,
    "start_time": "2023-04-07T05:09:47.678Z"
   },
   {
    "duration": 10,
    "start_time": "2023-04-07T05:09:47.689Z"
   },
   {
    "duration": 56,
    "start_time": "2023-04-07T05:09:47.702Z"
   },
   {
    "duration": 8,
    "start_time": "2023-04-07T05:09:47.760Z"
   },
   {
    "duration": 14,
    "start_time": "2023-04-07T05:09:47.770Z"
   },
   {
    "duration": 29,
    "start_time": "2023-04-07T05:09:47.785Z"
   },
   {
    "duration": 6,
    "start_time": "2023-04-07T05:09:47.816Z"
   },
   {
    "duration": 11,
    "start_time": "2023-04-07T05:09:47.824Z"
   },
   {
    "duration": 144,
    "start_time": "2023-04-07T05:09:47.837Z"
   },
   {
    "duration": 24,
    "start_time": "2023-04-07T05:09:47.983Z"
   },
   {
    "duration": 130,
    "start_time": "2023-04-07T05:09:48.008Z"
   },
   {
    "duration": 70,
    "start_time": "2023-04-07T05:09:48.139Z"
   },
   {
    "duration": 24,
    "start_time": "2023-04-07T05:09:48.211Z"
   },
   {
    "duration": 19,
    "start_time": "2023-04-07T05:09:48.236Z"
   },
   {
    "duration": 35,
    "start_time": "2023-04-07T05:09:48.256Z"
   },
   {
    "duration": 6,
    "start_time": "2023-04-07T05:09:48.293Z"
   },
   {
    "duration": 35,
    "start_time": "2023-04-07T05:09:48.300Z"
   },
   {
    "duration": 14,
    "start_time": "2023-04-07T05:09:48.337Z"
   },
   {
    "duration": 23,
    "start_time": "2023-04-07T05:09:48.353Z"
   },
   {
    "duration": 9,
    "start_time": "2023-04-07T05:09:48.378Z"
   },
   {
    "duration": 51,
    "start_time": "2023-04-07T05:09:48.391Z"
   },
   {
    "duration": 25,
    "start_time": "2023-04-07T05:09:48.444Z"
   },
   {
    "duration": 31,
    "start_time": "2023-04-07T05:09:48.471Z"
   },
   {
    "duration": 151,
    "start_time": "2023-04-07T05:09:48.503Z"
   },
   {
    "duration": 10,
    "start_time": "2023-04-07T05:09:48.656Z"
   },
   {
    "duration": 133,
    "start_time": "2023-04-07T05:09:48.668Z"
   },
   {
    "duration": 114,
    "start_time": "2023-04-07T05:09:48.803Z"
   },
   {
    "duration": 17,
    "start_time": "2023-04-07T05:09:48.918Z"
   },
   {
    "duration": 8,
    "start_time": "2023-04-07T05:09:48.936Z"
   },
   {
    "duration": 136,
    "start_time": "2023-04-07T05:09:48.946Z"
   },
   {
    "duration": 7,
    "start_time": "2023-04-07T05:09:49.084Z"
   },
   {
    "duration": 199,
    "start_time": "2023-04-07T05:09:49.093Z"
   },
   {
    "duration": 2,
    "start_time": "2023-04-07T05:09:49.295Z"
   },
   {
    "duration": 14,
    "start_time": "2023-04-07T05:09:49.299Z"
   },
   {
    "duration": 14,
    "start_time": "2023-04-07T05:09:49.314Z"
   },
   {
    "duration": 19,
    "start_time": "2023-04-07T05:09:49.333Z"
   },
   {
    "duration": 11,
    "start_time": "2023-04-07T05:09:49.354Z"
   },
   {
    "duration": 31,
    "start_time": "2023-04-07T05:09:49.366Z"
   },
   {
    "duration": 282,
    "start_time": "2023-04-07T05:09:49.399Z"
   },
   {
    "duration": 5,
    "start_time": "2023-04-07T05:09:49.683Z"
   },
   {
    "duration": 33,
    "start_time": "2023-04-07T05:09:49.689Z"
   },
   {
    "duration": 303,
    "start_time": "2023-04-07T05:09:49.724Z"
   },
   {
    "duration": 302,
    "start_time": "2023-04-07T05:09:50.028Z"
   },
   {
    "duration": 300,
    "start_time": "2023-04-07T05:09:50.334Z"
   },
   {
    "duration": 4,
    "start_time": "2023-04-07T05:09:50.636Z"
   },
   {
    "duration": 339,
    "start_time": "2023-04-07T05:09:50.642Z"
   },
   {
    "duration": 298,
    "start_time": "2023-04-07T05:09:50.983Z"
   },
   {
    "duration": 22,
    "start_time": "2023-04-07T05:09:51.284Z"
   },
   {
    "duration": 236,
    "start_time": "2023-04-07T05:09:51.309Z"
   },
   {
    "duration": 289,
    "start_time": "2023-04-07T05:09:51.547Z"
   },
   {
    "duration": 113,
    "start_time": "2023-04-07T05:09:51.838Z"
   },
   {
    "duration": 275,
    "start_time": "2023-04-07T05:09:51.952Z"
   },
   {
    "duration": 351,
    "start_time": "2023-04-07T05:09:52.229Z"
   },
   {
    "duration": 9,
    "start_time": "2023-04-07T05:09:52.582Z"
   },
   {
    "duration": 291,
    "start_time": "2023-04-07T05:09:52.592Z"
   },
   {
    "duration": 305,
    "start_time": "2023-04-07T05:09:52.884Z"
   },
   {
    "duration": 30,
    "start_time": "2023-04-07T05:09:53.191Z"
   },
   {
    "duration": 316,
    "start_time": "2023-04-07T05:09:53.222Z"
   },
   {
    "duration": 289,
    "start_time": "2023-04-07T05:09:53.540Z"
   },
   {
    "duration": 210,
    "start_time": "2023-04-07T05:09:53.834Z"
   },
   {
    "duration": 134,
    "start_time": "2023-04-07T05:09:54.046Z"
   },
   {
    "duration": 31,
    "start_time": "2023-04-07T05:09:54.181Z"
   },
   {
    "duration": 36,
    "start_time": "2023-04-07T05:09:54.213Z"
   },
   {
    "duration": 38,
    "start_time": "2023-04-07T05:09:54.250Z"
   },
   {
    "duration": 182,
    "start_time": "2023-04-07T05:09:54.290Z"
   },
   {
    "duration": 5,
    "start_time": "2023-04-07T05:09:54.473Z"
   },
   {
    "duration": 184,
    "start_time": "2023-04-07T05:09:54.479Z"
   },
   {
    "duration": 9,
    "start_time": "2023-04-07T05:09:54.666Z"
   },
   {
    "duration": 219,
    "start_time": "2023-04-07T05:09:54.676Z"
   },
   {
    "duration": 145,
    "start_time": "2023-04-07T05:09:54.897Z"
   },
   {
    "duration": 112,
    "start_time": "2023-04-07T05:09:55.044Z"
   },
   {
    "duration": 153,
    "start_time": "2023-04-07T05:09:55.158Z"
   },
   {
    "duration": 165,
    "start_time": "2023-04-07T05:09:55.313Z"
   },
   {
    "duration": 150,
    "start_time": "2023-04-07T05:09:55.479Z"
   },
   {
    "duration": 18,
    "start_time": "2023-04-07T05:09:55.634Z"
   },
   {
    "duration": 163,
    "start_time": "2023-04-07T05:09:55.654Z"
   },
   {
    "duration": 168,
    "start_time": "2023-04-07T05:13:10.142Z"
   },
   {
    "duration": 237,
    "start_time": "2023-04-07T05:17:32.123Z"
   },
   {
    "duration": 182,
    "start_time": "2023-04-07T05:18:11.254Z"
   },
   {
    "duration": 171,
    "start_time": "2023-04-07T05:18:35.818Z"
   },
   {
    "duration": 124,
    "start_time": "2023-04-07T05:19:05.047Z"
   },
   {
    "duration": 174,
    "start_time": "2023-04-07T05:19:09.917Z"
   },
   {
    "duration": 191,
    "start_time": "2023-04-07T05:20:23.606Z"
   },
   {
    "duration": 277,
    "start_time": "2023-04-07T05:20:31.611Z"
   },
   {
    "duration": 199,
    "start_time": "2023-04-07T05:21:54.719Z"
   },
   {
    "duration": 167,
    "start_time": "2023-04-07T05:24:13.300Z"
   },
   {
    "duration": 206,
    "start_time": "2023-04-07T05:24:36.462Z"
   },
   {
    "duration": 175,
    "start_time": "2023-04-07T05:24:52.336Z"
   },
   {
    "duration": 213,
    "start_time": "2023-04-07T05:25:20.809Z"
   },
   {
    "duration": 188,
    "start_time": "2023-04-07T05:25:29.412Z"
   },
   {
    "duration": 231,
    "start_time": "2023-04-07T05:26:47.267Z"
   },
   {
    "duration": 163,
    "start_time": "2023-04-07T05:26:58.955Z"
   },
   {
    "duration": 261,
    "start_time": "2023-04-07T05:27:21.140Z"
   },
   {
    "duration": 414,
    "start_time": "2023-04-07T05:28:16.466Z"
   },
   {
    "duration": 205,
    "start_time": "2023-04-07T05:28:25.411Z"
   },
   {
    "duration": 205,
    "start_time": "2023-04-07T05:30:54.175Z"
   },
   {
    "duration": 171,
    "start_time": "2023-04-07T05:36:28.353Z"
   },
   {
    "duration": 184,
    "start_time": "2023-04-07T05:37:08.710Z"
   },
   {
    "duration": 194,
    "start_time": "2023-04-07T05:37:43.000Z"
   },
   {
    "duration": 231,
    "start_time": "2023-04-07T05:37:47.249Z"
   },
   {
    "duration": 285,
    "start_time": "2023-04-07T05:37:55.323Z"
   },
   {
    "duration": 462,
    "start_time": "2023-04-07T05:39:48.828Z"
   },
   {
    "duration": 116,
    "start_time": "2023-04-07T05:41:09.768Z"
   },
   {
    "duration": 117,
    "start_time": "2023-04-07T05:41:45.805Z"
   },
   {
    "duration": 2843,
    "start_time": "2023-04-07T05:42:25.616Z"
   },
   {
    "duration": 8,
    "start_time": "2023-04-07T05:42:28.462Z"
   },
   {
    "duration": 10,
    "start_time": "2023-04-07T05:42:28.472Z"
   },
   {
    "duration": 5,
    "start_time": "2023-04-07T05:42:28.483Z"
   },
   {
    "duration": 12,
    "start_time": "2023-04-07T05:42:28.490Z"
   },
   {
    "duration": 3,
    "start_time": "2023-04-07T05:42:28.504Z"
   },
   {
    "duration": 180,
    "start_time": "2023-04-07T05:42:28.509Z"
   },
   {
    "duration": 9,
    "start_time": "2023-04-07T05:42:28.691Z"
   },
   {
    "duration": 9,
    "start_time": "2023-04-07T05:42:28.701Z"
   },
   {
    "duration": 52,
    "start_time": "2023-04-07T05:42:28.711Z"
   },
   {
    "duration": 8,
    "start_time": "2023-04-07T05:42:28.765Z"
   },
   {
    "duration": 7,
    "start_time": "2023-04-07T05:42:28.774Z"
   },
   {
    "duration": 14,
    "start_time": "2023-04-07T05:42:28.783Z"
   },
   {
    "duration": 34,
    "start_time": "2023-04-07T05:42:28.801Z"
   },
   {
    "duration": 4,
    "start_time": "2023-04-07T05:42:28.837Z"
   },
   {
    "duration": 130,
    "start_time": "2023-04-07T05:42:28.842Z"
   },
   {
    "duration": 27,
    "start_time": "2023-04-07T05:42:28.974Z"
   },
   {
    "duration": 135,
    "start_time": "2023-04-07T05:42:29.003Z"
   },
   {
    "duration": 68,
    "start_time": "2023-04-07T05:42:29.139Z"
   },
   {
    "duration": 5,
    "start_time": "2023-04-07T05:42:29.208Z"
   },
   {
    "duration": 15,
    "start_time": "2023-04-07T05:42:29.235Z"
   },
   {
    "duration": 37,
    "start_time": "2023-04-07T05:42:29.251Z"
   },
   {
    "duration": 9,
    "start_time": "2023-04-07T05:42:29.289Z"
   },
   {
    "duration": 5,
    "start_time": "2023-04-07T05:42:29.300Z"
   },
   {
    "duration": 31,
    "start_time": "2023-04-07T05:42:29.306Z"
   },
   {
    "duration": 20,
    "start_time": "2023-04-07T05:42:29.339Z"
   },
   {
    "duration": 10,
    "start_time": "2023-04-07T05:42:29.361Z"
   },
   {
    "duration": 20,
    "start_time": "2023-04-07T05:42:29.373Z"
   },
   {
    "duration": 59,
    "start_time": "2023-04-07T05:42:29.395Z"
   },
   {
    "duration": 29,
    "start_time": "2023-04-07T05:42:29.457Z"
   },
   {
    "duration": 173,
    "start_time": "2023-04-07T05:42:29.488Z"
   },
   {
    "duration": 9,
    "start_time": "2023-04-07T05:42:29.663Z"
   },
   {
    "duration": 118,
    "start_time": "2023-04-07T05:42:29.674Z"
   },
   {
    "duration": 112,
    "start_time": "2023-04-07T05:42:29.794Z"
   },
   {
    "duration": 8,
    "start_time": "2023-04-07T05:42:29.907Z"
   },
   {
    "duration": 20,
    "start_time": "2023-04-07T05:42:29.916Z"
   },
   {
    "duration": 122,
    "start_time": "2023-04-07T05:42:29.938Z"
   },
   {
    "duration": 9,
    "start_time": "2023-04-07T05:42:30.062Z"
   },
   {
    "duration": 202,
    "start_time": "2023-04-07T05:42:30.073Z"
   },
   {
    "duration": 3,
    "start_time": "2023-04-07T05:42:30.277Z"
   },
   {
    "duration": 30,
    "start_time": "2023-04-07T05:42:30.286Z"
   },
   {
    "duration": 26,
    "start_time": "2023-04-07T05:42:30.318Z"
   },
   {
    "duration": 29,
    "start_time": "2023-04-07T05:42:30.346Z"
   },
   {
    "duration": 29,
    "start_time": "2023-04-07T05:42:30.376Z"
   },
   {
    "duration": 50,
    "start_time": "2023-04-07T05:42:30.406Z"
   },
   {
    "duration": 246,
    "start_time": "2023-04-07T05:42:30.458Z"
   },
   {
    "duration": 5,
    "start_time": "2023-04-07T05:42:30.705Z"
   },
   {
    "duration": 69,
    "start_time": "2023-04-07T05:42:30.712Z"
   },
   {
    "duration": 322,
    "start_time": "2023-04-07T05:42:30.782Z"
   },
   {
    "duration": 295,
    "start_time": "2023-04-07T05:42:31.106Z"
   },
   {
    "duration": 286,
    "start_time": "2023-04-07T05:42:31.403Z"
   },
   {
    "duration": 4,
    "start_time": "2023-04-07T05:42:31.691Z"
   },
   {
    "duration": 317,
    "start_time": "2023-04-07T05:42:31.697Z"
   },
   {
    "duration": 264,
    "start_time": "2023-04-07T05:42:32.015Z"
   },
   {
    "duration": 17,
    "start_time": "2023-04-07T05:42:32.281Z"
   },
   {
    "duration": 221,
    "start_time": "2023-04-07T05:42:32.300Z"
   },
   {
    "duration": 272,
    "start_time": "2023-04-07T05:42:32.523Z"
   },
   {
    "duration": 110,
    "start_time": "2023-04-07T05:42:32.797Z"
   },
   {
    "duration": 278,
    "start_time": "2023-04-07T05:42:32.908Z"
   },
   {
    "duration": 321,
    "start_time": "2023-04-07T05:42:33.187Z"
   },
   {
    "duration": 8,
    "start_time": "2023-04-07T05:42:33.510Z"
   },
   {
    "duration": 280,
    "start_time": "2023-04-07T05:42:33.520Z"
   },
   {
    "duration": 295,
    "start_time": "2023-04-07T05:42:33.802Z"
   },
   {
    "duration": 37,
    "start_time": "2023-04-07T05:42:34.099Z"
   },
   {
    "duration": 257,
    "start_time": "2023-04-07T05:42:34.137Z"
   },
   {
    "duration": 317,
    "start_time": "2023-04-07T05:42:34.395Z"
   },
   {
    "duration": 216,
    "start_time": "2023-04-07T05:42:34.714Z"
   },
   {
    "duration": 117,
    "start_time": "2023-04-07T05:42:34.931Z"
   },
   {
    "duration": 4,
    "start_time": "2023-04-07T05:42:35.050Z"
   },
   {
    "duration": 6,
    "start_time": "2023-04-07T05:42:35.056Z"
   },
   {
    "duration": 6,
    "start_time": "2023-04-07T05:42:35.064Z"
   },
   {
    "duration": 204,
    "start_time": "2023-04-07T05:42:35.071Z"
   },
   {
    "duration": 203,
    "start_time": "2023-04-07T05:42:35.277Z"
   },
   {
    "duration": 5,
    "start_time": "2023-04-07T05:42:35.482Z"
   },
   {
    "duration": 185,
    "start_time": "2023-04-07T05:42:35.488Z"
   },
   {
    "duration": 179,
    "start_time": "2023-04-07T05:42:35.675Z"
   },
   {
    "duration": 118,
    "start_time": "2023-04-07T05:42:35.855Z"
   },
   {
    "duration": 141,
    "start_time": "2023-04-07T05:42:35.974Z"
   },
   {
    "duration": 158,
    "start_time": "2023-04-07T05:42:36.117Z"
   },
   {
    "duration": 150,
    "start_time": "2023-04-07T05:42:36.276Z"
   },
   {
    "duration": 23,
    "start_time": "2023-04-07T05:42:36.427Z"
   },
   {
    "duration": 158,
    "start_time": "2023-04-07T05:42:36.451Z"
   },
   {
    "duration": 13,
    "start_time": "2023-04-07T05:48:30.208Z"
   },
   {
    "duration": 4,
    "start_time": "2023-04-07T05:48:33.114Z"
   },
   {
    "duration": 3,
    "start_time": "2023-04-07T05:48:35.619Z"
   },
   {
    "duration": 101,
    "start_time": "2023-04-07T05:48:58.253Z"
   },
   {
    "duration": 6,
    "start_time": "2023-04-07T05:49:05.474Z"
   },
   {
    "duration": 17,
    "start_time": "2023-04-07T05:49:07.812Z"
   },
   {
    "duration": 8,
    "start_time": "2023-04-07T05:49:11.317Z"
   },
   {
    "duration": 8,
    "start_time": "2023-04-07T05:49:14.924Z"
   },
   {
    "duration": 8,
    "start_time": "2023-04-07T05:49:19.717Z"
   },
   {
    "duration": 8,
    "start_time": "2023-04-07T05:49:22.143Z"
   },
   {
    "duration": 8,
    "start_time": "2023-04-07T05:49:24.454Z"
   },
   {
    "duration": 4,
    "start_time": "2023-04-07T05:49:27.829Z"
   },
   {
    "duration": 11,
    "start_time": "2023-04-07T05:49:33.907Z"
   },
   {
    "duration": 338,
    "start_time": "2023-04-07T05:49:39.131Z"
   },
   {
    "duration": 4,
    "start_time": "2023-04-07T05:49:40.917Z"
   },
   {
    "duration": 4,
    "start_time": "2023-04-07T05:49:46.519Z"
   },
   {
    "duration": 158,
    "start_time": "2023-04-07T05:50:06.270Z"
   },
   {
    "duration": 166,
    "start_time": "2023-04-07T05:50:09.733Z"
   },
   {
    "duration": 5,
    "start_time": "2023-04-07T05:51:19.451Z"
   },
   {
    "duration": 2862,
    "start_time": "2023-04-07T05:59:54.061Z"
   },
   {
    "duration": 8,
    "start_time": "2023-04-07T05:59:56.925Z"
   },
   {
    "duration": 36,
    "start_time": "2023-04-07T05:59:56.935Z"
   },
   {
    "duration": 7,
    "start_time": "2023-04-07T05:59:56.973Z"
   },
   {
    "duration": 13,
    "start_time": "2023-04-07T05:59:56.981Z"
   },
   {
    "duration": 13,
    "start_time": "2023-04-07T05:59:56.996Z"
   },
   {
    "duration": 156,
    "start_time": "2023-04-07T05:59:57.010Z"
   },
   {
    "duration": 9,
    "start_time": "2023-04-07T05:59:57.168Z"
   },
   {
    "duration": 9,
    "start_time": "2023-04-07T05:59:57.179Z"
   },
   {
    "duration": 49,
    "start_time": "2023-04-07T05:59:57.190Z"
   },
   {
    "duration": 8,
    "start_time": "2023-04-07T05:59:57.241Z"
   },
   {
    "duration": 27,
    "start_time": "2023-04-07T05:59:57.251Z"
   },
   {
    "duration": 34,
    "start_time": "2023-04-07T05:59:57.280Z"
   },
   {
    "duration": 8,
    "start_time": "2023-04-07T05:59:57.316Z"
   },
   {
    "duration": 25,
    "start_time": "2023-04-07T05:59:57.325Z"
   },
   {
    "duration": 140,
    "start_time": "2023-04-07T05:59:57.351Z"
   },
   {
    "duration": 27,
    "start_time": "2023-04-07T05:59:57.493Z"
   },
   {
    "duration": 132,
    "start_time": "2023-04-07T05:59:57.522Z"
   },
   {
    "duration": 92,
    "start_time": "2023-04-07T05:59:57.656Z"
   },
   {
    "duration": 7,
    "start_time": "2023-04-07T05:59:57.749Z"
   },
   {
    "duration": 51,
    "start_time": "2023-04-07T05:59:57.757Z"
   },
   {
    "duration": 97,
    "start_time": "2023-04-07T05:59:57.810Z"
   },
   {
    "duration": 49,
    "start_time": "2023-04-07T05:59:57.909Z"
   },
   {
    "duration": 16,
    "start_time": "2023-04-07T05:59:57.960Z"
   },
   {
    "duration": 17,
    "start_time": "2023-04-07T05:59:57.978Z"
   },
   {
    "duration": 34,
    "start_time": "2023-04-07T05:59:57.997Z"
   },
   {
    "duration": 11,
    "start_time": "2023-04-07T05:59:58.034Z"
   },
   {
    "duration": 37,
    "start_time": "2023-04-07T05:59:58.050Z"
   },
   {
    "duration": 31,
    "start_time": "2023-04-07T05:59:58.089Z"
   },
   {
    "duration": 35,
    "start_time": "2023-04-07T05:59:58.122Z"
   },
   {
    "duration": 147,
    "start_time": "2023-04-07T05:59:58.159Z"
   },
   {
    "duration": 9,
    "start_time": "2023-04-07T05:59:58.308Z"
   },
   {
    "duration": 135,
    "start_time": "2023-04-07T05:59:58.318Z"
   },
   {
    "duration": 114,
    "start_time": "2023-04-07T05:59:58.455Z"
   },
   {
    "duration": 8,
    "start_time": "2023-04-07T05:59:58.571Z"
   },
   {
    "duration": 8,
    "start_time": "2023-04-07T05:59:58.580Z"
   },
   {
    "duration": 127,
    "start_time": "2023-04-07T05:59:58.590Z"
   },
   {
    "duration": 17,
    "start_time": "2023-04-07T05:59:58.719Z"
   },
   {
    "duration": 187,
    "start_time": "2023-04-07T05:59:58.738Z"
   },
   {
    "duration": 3,
    "start_time": "2023-04-07T05:59:58.933Z"
   },
   {
    "duration": 20,
    "start_time": "2023-04-07T05:59:58.938Z"
   },
   {
    "duration": 18,
    "start_time": "2023-04-07T05:59:58.960Z"
   },
   {
    "duration": 34,
    "start_time": "2023-04-07T05:59:58.979Z"
   },
   {
    "duration": 29,
    "start_time": "2023-04-07T05:59:59.015Z"
   },
   {
    "duration": 38,
    "start_time": "2023-04-07T05:59:59.046Z"
   },
   {
    "duration": 265,
    "start_time": "2023-04-07T05:59:59.085Z"
   },
   {
    "duration": 5,
    "start_time": "2023-04-07T05:59:59.352Z"
   },
   {
    "duration": 45,
    "start_time": "2023-04-07T05:59:59.359Z"
   },
   {
    "duration": 293,
    "start_time": "2023-04-07T05:59:59.405Z"
   },
   {
    "duration": 264,
    "start_time": "2023-04-07T05:59:59.699Z"
   },
   {
    "duration": 288,
    "start_time": "2023-04-07T05:59:59.964Z"
   },
   {
    "duration": 5,
    "start_time": "2023-04-07T06:00:00.253Z"
   },
   {
    "duration": 378,
    "start_time": "2023-04-07T06:00:00.259Z"
   },
   {
    "duration": 277,
    "start_time": "2023-04-07T06:00:00.638Z"
   },
   {
    "duration": 22,
    "start_time": "2023-04-07T06:00:00.917Z"
   },
   {
    "duration": 234,
    "start_time": "2023-04-07T06:00:00.941Z"
   },
   {
    "duration": 313,
    "start_time": "2023-04-07T06:00:01.176Z"
   },
   {
    "duration": 109,
    "start_time": "2023-04-07T06:00:01.491Z"
   },
   {
    "duration": 300,
    "start_time": "2023-04-07T06:00:01.602Z"
   },
   {
    "duration": 343,
    "start_time": "2023-04-07T06:00:01.904Z"
   },
   {
    "duration": 9,
    "start_time": "2023-04-07T06:00:02.249Z"
   },
   {
    "duration": 293,
    "start_time": "2023-04-07T06:00:02.259Z"
   },
   {
    "duration": 305,
    "start_time": "2023-04-07T06:00:02.553Z"
   },
   {
    "duration": 30,
    "start_time": "2023-04-07T06:00:02.860Z"
   },
   {
    "duration": 318,
    "start_time": "2023-04-07T06:00:02.891Z"
   },
   {
    "duration": 309,
    "start_time": "2023-04-07T06:00:03.211Z"
   },
   {
    "duration": 204,
    "start_time": "2023-04-07T06:00:03.522Z"
   },
   {
    "duration": 127,
    "start_time": "2023-04-07T06:00:03.728Z"
   },
   {
    "duration": 6,
    "start_time": "2023-04-07T06:00:03.857Z"
   },
   {
    "duration": 42,
    "start_time": "2023-04-07T06:00:03.864Z"
   },
   {
    "duration": 110,
    "start_time": "2023-04-07T06:00:03.908Z"
   },
   {
    "duration": 214,
    "start_time": "2023-04-07T06:00:04.020Z"
   },
   {
    "duration": 181,
    "start_time": "2023-04-07T06:00:04.236Z"
   },
   {
    "duration": 16,
    "start_time": "2023-04-07T06:00:04.419Z"
   },
   {
    "duration": 308,
    "start_time": "2023-04-07T06:00:04.437Z"
   },
   {
    "duration": 192,
    "start_time": "2023-04-07T06:00:04.747Z"
   },
   {
    "duration": 133,
    "start_time": "2023-04-07T06:00:04.941Z"
   },
   {
    "duration": 143,
    "start_time": "2023-04-07T06:00:05.075Z"
   },
   {
    "duration": 167,
    "start_time": "2023-04-07T06:00:05.219Z"
   },
   {
    "duration": 154,
    "start_time": "2023-04-07T06:00:05.388Z"
   },
   {
    "duration": 20,
    "start_time": "2023-04-07T06:00:05.544Z"
   },
   {
    "duration": 174,
    "start_time": "2023-04-07T06:00:05.570Z"
   },
   {
    "duration": 412,
    "start_time": "2023-04-07T08:52:43.949Z"
   },
   {
    "duration": 397,
    "start_time": "2023-04-07T08:52:44.363Z"
   },
   {
    "duration": 2054,
    "start_time": "2023-04-07T08:52:44.762Z"
   },
   {
    "duration": 8,
    "start_time": "2023-04-07T08:52:46.818Z"
   },
   {
    "duration": 13,
    "start_time": "2023-04-07T08:52:46.827Z"
   },
   {
    "duration": 4,
    "start_time": "2023-04-07T08:52:46.842Z"
   },
   {
    "duration": 15,
    "start_time": "2023-04-07T08:52:46.848Z"
   },
   {
    "duration": 8,
    "start_time": "2023-04-07T08:52:46.864Z"
   },
   {
    "duration": 179,
    "start_time": "2023-04-07T08:52:46.873Z"
   },
   {
    "duration": 10,
    "start_time": "2023-04-07T08:52:47.054Z"
   },
   {
    "duration": 15,
    "start_time": "2023-04-07T08:52:47.065Z"
   },
   {
    "duration": 36,
    "start_time": "2023-04-07T08:52:47.083Z"
   },
   {
    "duration": 30,
    "start_time": "2023-04-07T08:52:47.121Z"
   },
   {
    "duration": 17,
    "start_time": "2023-04-07T08:52:47.153Z"
   },
   {
    "duration": 33,
    "start_time": "2023-04-07T08:52:47.171Z"
   },
   {
    "duration": 8,
    "start_time": "2023-04-07T08:52:47.206Z"
   },
   {
    "duration": 3,
    "start_time": "2023-04-07T08:52:47.215Z"
   },
   {
    "duration": 141,
    "start_time": "2023-04-07T08:52:47.220Z"
   },
   {
    "duration": 23,
    "start_time": "2023-04-07T08:52:47.363Z"
   },
   {
    "duration": 125,
    "start_time": "2023-04-07T08:52:47.388Z"
   },
   {
    "duration": 86,
    "start_time": "2023-04-07T08:52:47.515Z"
   },
   {
    "duration": 6,
    "start_time": "2023-04-07T08:52:47.603Z"
   },
   {
    "duration": 24,
    "start_time": "2023-04-07T08:52:47.610Z"
   },
   {
    "duration": 44,
    "start_time": "2023-04-07T08:52:47.635Z"
   },
   {
    "duration": 6,
    "start_time": "2023-04-07T08:52:47.681Z"
   },
   {
    "duration": 5,
    "start_time": "2023-04-07T08:52:47.689Z"
   },
   {
    "duration": 14,
    "start_time": "2023-04-07T08:52:47.696Z"
   },
   {
    "duration": 43,
    "start_time": "2023-04-07T08:52:47.713Z"
   },
   {
    "duration": 8,
    "start_time": "2023-04-07T08:52:47.757Z"
   },
   {
    "duration": 36,
    "start_time": "2023-04-07T08:52:47.767Z"
   },
   {
    "duration": 22,
    "start_time": "2023-04-07T08:52:47.805Z"
   },
   {
    "duration": 45,
    "start_time": "2023-04-07T08:52:47.829Z"
   },
   {
    "duration": 155,
    "start_time": "2023-04-07T08:52:47.875Z"
   },
   {
    "duration": 19,
    "start_time": "2023-04-07T08:52:48.032Z"
   },
   {
    "duration": 134,
    "start_time": "2023-04-07T08:52:48.053Z"
   },
   {
    "duration": 116,
    "start_time": "2023-04-07T08:52:48.188Z"
   },
   {
    "duration": 8,
    "start_time": "2023-04-07T08:52:48.306Z"
   },
   {
    "duration": 7,
    "start_time": "2023-04-07T08:52:48.315Z"
   },
   {
    "duration": 135,
    "start_time": "2023-04-07T08:52:48.324Z"
   },
   {
    "duration": 8,
    "start_time": "2023-04-07T08:52:48.460Z"
   },
   {
    "duration": 188,
    "start_time": "2023-04-07T08:52:48.469Z"
   },
   {
    "duration": 2,
    "start_time": "2023-04-07T08:52:48.659Z"
   },
   {
    "duration": 7,
    "start_time": "2023-04-07T08:52:48.663Z"
   },
   {
    "duration": 13,
    "start_time": "2023-04-07T08:52:48.671Z"
   },
   {
    "duration": 20,
    "start_time": "2023-04-07T08:52:48.685Z"
   },
   {
    "duration": 9,
    "start_time": "2023-04-07T08:52:48.707Z"
   },
   {
    "duration": 52,
    "start_time": "2023-04-07T08:52:48.718Z"
   },
   {
    "duration": 291,
    "start_time": "2023-04-07T08:52:48.771Z"
   },
   {
    "duration": 5,
    "start_time": "2023-04-07T08:52:49.064Z"
   },
   {
    "duration": 48,
    "start_time": "2023-04-07T08:52:49.071Z"
   },
   {
    "duration": 271,
    "start_time": "2023-04-07T08:52:49.120Z"
   },
   {
    "duration": 280,
    "start_time": "2023-04-07T08:52:49.393Z"
   },
   {
    "duration": 324,
    "start_time": "2023-04-07T08:52:49.674Z"
   },
   {
    "duration": 5,
    "start_time": "2023-04-07T08:52:49.999Z"
   },
   {
    "duration": 293,
    "start_time": "2023-04-07T08:52:50.005Z"
   },
   {
    "duration": 238,
    "start_time": "2023-04-07T08:52:50.300Z"
   },
   {
    "duration": 16,
    "start_time": "2023-04-07T08:52:50.548Z"
   },
   {
    "duration": 222,
    "start_time": "2023-04-07T08:52:50.566Z"
   },
   {
    "duration": 282,
    "start_time": "2023-04-07T08:52:50.790Z"
   },
   {
    "duration": 116,
    "start_time": "2023-04-07T08:52:51.074Z"
   },
   {
    "duration": 292,
    "start_time": "2023-04-07T08:52:51.192Z"
   },
   {
    "duration": 321,
    "start_time": "2023-04-07T08:52:51.486Z"
   },
   {
    "duration": 9,
    "start_time": "2023-04-07T08:52:51.809Z"
   },
   {
    "duration": 279,
    "start_time": "2023-04-07T08:52:51.820Z"
   },
   {
    "duration": 282,
    "start_time": "2023-04-07T08:52:52.101Z"
   },
   {
    "duration": 30,
    "start_time": "2023-04-07T08:52:52.385Z"
   },
   {
    "duration": 280,
    "start_time": "2023-04-07T08:52:52.417Z"
   },
   {
    "duration": 287,
    "start_time": "2023-04-07T08:52:52.698Z"
   },
   {
    "duration": 233,
    "start_time": "2023-04-07T08:52:52.986Z"
   },
   {
    "duration": 109,
    "start_time": "2023-04-07T08:52:53.221Z"
   },
   {
    "duration": 5,
    "start_time": "2023-04-07T08:52:53.331Z"
   },
   {
    "duration": 15,
    "start_time": "2023-04-07T08:52:53.338Z"
   },
   {
    "duration": 15,
    "start_time": "2023-04-07T08:52:53.354Z"
   },
   {
    "duration": 211,
    "start_time": "2023-04-07T08:52:53.370Z"
   },
   {
    "duration": 199,
    "start_time": "2023-04-07T08:52:53.583Z"
   },
   {
    "duration": 6,
    "start_time": "2023-04-07T08:52:53.784Z"
   },
   {
    "duration": 228,
    "start_time": "2023-04-07T08:52:53.791Z"
   },
   {
    "duration": 203,
    "start_time": "2023-04-07T08:52:54.021Z"
   },
   {
    "duration": 142,
    "start_time": "2023-04-07T08:52:54.226Z"
   },
   {
    "duration": 205,
    "start_time": "2023-04-07T08:52:54.370Z"
   },
   {
    "duration": 213,
    "start_time": "2023-04-07T08:52:54.577Z"
   },
   {
    "duration": 156,
    "start_time": "2023-04-07T08:52:54.796Z"
   },
   {
    "duration": 26,
    "start_time": "2023-04-07T08:52:54.954Z"
   },
   {
    "duration": 194,
    "start_time": "2023-04-07T08:52:54.982Z"
   },
   {
    "duration": 393,
    "start_time": "2023-04-07T20:58:14.078Z"
   },
   {
    "duration": 295,
    "start_time": "2023-04-07T20:58:14.473Z"
   },
   {
    "duration": 2343,
    "start_time": "2023-04-07T20:58:14.770Z"
   },
   {
    "duration": 8,
    "start_time": "2023-04-07T20:58:17.123Z"
   },
   {
    "duration": 10,
    "start_time": "2023-04-07T20:58:17.133Z"
   },
   {
    "duration": 6,
    "start_time": "2023-04-07T20:58:17.144Z"
   },
   {
    "duration": 13,
    "start_time": "2023-04-07T20:58:17.151Z"
   },
   {
    "duration": 4,
    "start_time": "2023-04-07T20:58:17.166Z"
   },
   {
    "duration": 201,
    "start_time": "2023-04-07T20:58:17.171Z"
   },
   {
    "duration": 12,
    "start_time": "2023-04-07T20:58:17.376Z"
   },
   {
    "duration": 10,
    "start_time": "2023-04-07T20:58:17.390Z"
   },
   {
    "duration": 40,
    "start_time": "2023-04-07T20:58:17.424Z"
   },
   {
    "duration": 10,
    "start_time": "2023-04-07T20:58:17.466Z"
   },
   {
    "duration": 13,
    "start_time": "2023-04-07T20:58:17.478Z"
   },
   {
    "duration": 41,
    "start_time": "2023-04-07T20:58:17.494Z"
   },
   {
    "duration": 8,
    "start_time": "2023-04-07T20:58:17.538Z"
   },
   {
    "duration": 6,
    "start_time": "2023-04-07T20:58:17.548Z"
   },
   {
    "duration": 160,
    "start_time": "2023-04-07T20:58:17.555Z"
   },
   {
    "duration": 32,
    "start_time": "2023-04-07T20:58:17.717Z"
   },
   {
    "duration": 141,
    "start_time": "2023-04-07T20:58:17.751Z"
   },
   {
    "duration": 92,
    "start_time": "2023-04-07T20:58:17.894Z"
   },
   {
    "duration": 7,
    "start_time": "2023-04-07T20:58:17.988Z"
   },
   {
    "duration": 33,
    "start_time": "2023-04-07T20:58:17.996Z"
   },
   {
    "duration": 39,
    "start_time": "2023-04-07T20:58:18.031Z"
   },
   {
    "duration": 7,
    "start_time": "2023-04-07T20:58:18.072Z"
   },
   {
    "duration": 5,
    "start_time": "2023-04-07T20:58:18.080Z"
   },
   {
    "duration": 29,
    "start_time": "2023-04-07T20:58:18.086Z"
   },
   {
    "duration": 27,
    "start_time": "2023-04-07T20:58:18.124Z"
   },
   {
    "duration": 10,
    "start_time": "2023-04-07T20:58:18.152Z"
   },
   {
    "duration": 37,
    "start_time": "2023-04-07T20:58:18.163Z"
   },
   {
    "duration": 43,
    "start_time": "2023-04-07T20:58:18.201Z"
   },
   {
    "duration": 32,
    "start_time": "2023-04-07T20:58:18.246Z"
   },
   {
    "duration": 156,
    "start_time": "2023-04-07T20:58:18.279Z"
   },
   {
    "duration": 10,
    "start_time": "2023-04-07T20:58:18.437Z"
   },
   {
    "duration": 285,
    "start_time": "2023-04-07T20:58:18.449Z"
   },
   {
    "duration": 287,
    "start_time": "2023-04-07T20:58:18.736Z"
   },
   {
    "duration": 10,
    "start_time": "2023-04-07T20:58:19.025Z"
   },
   {
    "duration": 12,
    "start_time": "2023-04-07T20:58:19.036Z"
   },
   {
    "duration": 286,
    "start_time": "2023-04-07T20:58:19.050Z"
   },
   {
    "duration": 8,
    "start_time": "2023-04-07T20:58:19.338Z"
   },
   {
    "duration": 402,
    "start_time": "2023-04-07T20:58:19.348Z"
   },
   {
    "duration": 2,
    "start_time": "2023-04-07T20:58:19.752Z"
   },
   {
    "duration": 10,
    "start_time": "2023-04-07T20:58:19.756Z"
   },
   {
    "duration": 56,
    "start_time": "2023-04-07T20:58:19.768Z"
   },
   {
    "duration": 21,
    "start_time": "2023-04-07T20:58:19.826Z"
   },
   {
    "duration": 13,
    "start_time": "2023-04-07T20:58:19.849Z"
   },
   {
    "duration": 89,
    "start_time": "2023-04-07T20:58:19.863Z"
   },
   {
    "duration": 678,
    "start_time": "2023-04-07T20:58:19.953Z"
   },
   {
    "duration": 5,
    "start_time": "2023-04-07T20:58:20.633Z"
   },
   {
    "duration": 96,
    "start_time": "2023-04-07T20:58:20.639Z"
   },
   {
    "duration": 699,
    "start_time": "2023-04-07T20:58:20.738Z"
   },
   {
    "duration": 630,
    "start_time": "2023-04-07T20:58:21.439Z"
   },
   {
    "duration": 541,
    "start_time": "2023-04-07T20:58:22.124Z"
   },
   {
    "duration": 5,
    "start_time": "2023-04-07T20:58:22.667Z"
   },
   {
    "duration": 551,
    "start_time": "2023-04-07T20:58:22.673Z"
   },
   {
    "duration": 602,
    "start_time": "2023-04-07T20:58:23.225Z"
   },
   {
    "duration": 17,
    "start_time": "2023-04-07T20:58:23.829Z"
   },
   {
    "duration": 508,
    "start_time": "2023-04-07T20:58:23.847Z"
   },
   {
    "duration": 684,
    "start_time": "2023-04-07T20:58:24.357Z"
   },
   {
    "duration": 203,
    "start_time": "2023-04-07T20:58:25.043Z"
   },
   {
    "duration": 440,
    "start_time": "2023-04-07T20:58:25.248Z"
   },
   {
    "duration": 382,
    "start_time": "2023-04-07T20:58:25.689Z"
   },
   {
    "duration": 10,
    "start_time": "2023-04-07T20:58:26.073Z"
   },
   {
    "duration": 338,
    "start_time": "2023-04-07T20:58:26.085Z"
   },
   {
    "duration": 350,
    "start_time": "2023-04-07T20:58:26.425Z"
   },
   {
    "duration": 47,
    "start_time": "2023-04-07T20:58:26.776Z"
   },
   {
    "duration": 303,
    "start_time": "2023-04-07T20:58:26.825Z"
   },
   {
    "duration": 315,
    "start_time": "2023-04-07T20:58:27.130Z"
   },
   {
    "duration": 228,
    "start_time": "2023-04-07T20:58:27.447Z"
   },
   {
    "duration": 133,
    "start_time": "2023-04-07T20:58:27.677Z"
   },
   {
    "duration": 12,
    "start_time": "2023-04-07T20:58:27.812Z"
   },
   {
    "duration": 5,
    "start_time": "2023-04-07T20:58:27.826Z"
   },
   {
    "duration": 7,
    "start_time": "2023-04-07T20:58:27.832Z"
   },
   {
    "duration": 219,
    "start_time": "2023-04-07T20:58:27.841Z"
   },
   {
    "duration": 215,
    "start_time": "2023-04-07T20:58:28.062Z"
   },
   {
    "duration": 5,
    "start_time": "2023-04-07T20:58:28.279Z"
   },
   {
    "duration": 216,
    "start_time": "2023-04-07T20:58:28.285Z"
   },
   {
    "duration": 209,
    "start_time": "2023-04-07T20:58:28.503Z"
   },
   {
    "duration": 151,
    "start_time": "2023-04-07T20:58:28.713Z"
   },
   {
    "duration": 160,
    "start_time": "2023-04-07T20:58:28.867Z"
   },
   {
    "duration": 191,
    "start_time": "2023-04-07T20:58:29.029Z"
   },
   {
    "duration": 163,
    "start_time": "2023-04-07T20:58:29.226Z"
   },
   {
    "duration": 21,
    "start_time": "2023-04-07T20:58:29.391Z"
   },
   {
    "duration": 253,
    "start_time": "2023-04-07T20:58:29.424Z"
   },
   {
    "duration": 694,
    "start_time": "2023-04-07T21:22:13.767Z"
   },
   {
    "duration": 486,
    "start_time": "2023-04-07T21:22:14.463Z"
   },
   {
    "duration": 2341,
    "start_time": "2023-04-07T21:22:14.951Z"
   },
   {
    "duration": 11,
    "start_time": "2023-04-07T21:22:17.294Z"
   },
   {
    "duration": 19,
    "start_time": "2023-04-07T21:22:17.307Z"
   },
   {
    "duration": 6,
    "start_time": "2023-04-07T21:22:17.328Z"
   },
   {
    "duration": 9,
    "start_time": "2023-04-07T21:22:17.335Z"
   },
   {
    "duration": 4,
    "start_time": "2023-04-07T21:22:17.346Z"
   },
   {
    "duration": 201,
    "start_time": "2023-04-07T21:22:17.352Z"
   },
   {
    "duration": 11,
    "start_time": "2023-04-07T21:22:17.556Z"
   },
   {
    "duration": 22,
    "start_time": "2023-04-07T21:22:17.568Z"
   },
   {
    "duration": 65,
    "start_time": "2023-04-07T21:22:17.592Z"
   },
   {
    "duration": 10,
    "start_time": "2023-04-07T21:22:17.658Z"
   },
   {
    "duration": 18,
    "start_time": "2023-04-07T21:22:17.669Z"
   },
   {
    "duration": 22,
    "start_time": "2023-04-07T21:22:17.689Z"
   },
   {
    "duration": 13,
    "start_time": "2023-04-07T21:22:17.712Z"
   },
   {
    "duration": 8,
    "start_time": "2023-04-07T21:22:17.727Z"
   },
   {
    "duration": 158,
    "start_time": "2023-04-07T21:22:17.737Z"
   },
   {
    "duration": 33,
    "start_time": "2023-04-07T21:22:17.896Z"
   },
   {
    "duration": 138,
    "start_time": "2023-04-07T21:22:17.931Z"
   },
   {
    "duration": 95,
    "start_time": "2023-04-07T21:22:18.071Z"
   },
   {
    "duration": 6,
    "start_time": "2023-04-07T21:22:18.168Z"
   },
   {
    "duration": 24,
    "start_time": "2023-04-07T21:22:18.176Z"
   },
   {
    "duration": 53,
    "start_time": "2023-04-07T21:22:18.202Z"
   },
   {
    "duration": 8,
    "start_time": "2023-04-07T21:22:18.257Z"
   },
   {
    "duration": 7,
    "start_time": "2023-04-07T21:22:18.267Z"
   },
   {
    "duration": 28,
    "start_time": "2023-04-07T21:22:18.276Z"
   },
   {
    "duration": 37,
    "start_time": "2023-04-07T21:22:18.310Z"
   },
   {
    "duration": 12,
    "start_time": "2023-04-07T21:22:18.349Z"
   },
   {
    "duration": 28,
    "start_time": "2023-04-07T21:22:18.363Z"
   },
   {
    "duration": 54,
    "start_time": "2023-04-07T21:22:18.392Z"
   },
   {
    "duration": 46,
    "start_time": "2023-04-07T21:22:18.448Z"
   },
   {
    "duration": 160,
    "start_time": "2023-04-07T21:22:18.496Z"
   },
   {
    "duration": 11,
    "start_time": "2023-04-07T21:22:18.657Z"
   },
   {
    "duration": 162,
    "start_time": "2023-04-07T21:22:18.670Z"
   },
   {
    "duration": 136,
    "start_time": "2023-04-07T21:22:18.834Z"
   },
   {
    "duration": 9,
    "start_time": "2023-04-07T21:22:18.972Z"
   },
   {
    "duration": 14,
    "start_time": "2023-04-07T21:22:18.982Z"
   },
   {
    "duration": 139,
    "start_time": "2023-04-07T21:22:18.998Z"
   },
   {
    "duration": 8,
    "start_time": "2023-04-07T21:22:19.139Z"
   },
   {
    "duration": 211,
    "start_time": "2023-04-07T21:22:19.149Z"
   },
   {
    "duration": 3,
    "start_time": "2023-04-07T21:22:19.362Z"
   },
   {
    "duration": 5,
    "start_time": "2023-04-07T21:22:19.367Z"
   },
   {
    "duration": 6,
    "start_time": "2023-04-07T21:22:19.373Z"
   },
   {
    "duration": 44,
    "start_time": "2023-04-07T21:22:19.380Z"
   },
   {
    "duration": 13,
    "start_time": "2023-04-07T21:22:19.426Z"
   },
   {
    "duration": 33,
    "start_time": "2023-04-07T21:22:19.441Z"
   },
   {
    "duration": 287,
    "start_time": "2023-04-07T21:22:19.476Z"
   },
   {
    "duration": 5,
    "start_time": "2023-04-07T21:22:19.765Z"
   },
   {
    "duration": 53,
    "start_time": "2023-04-07T21:22:19.771Z"
   },
   {
    "duration": 333,
    "start_time": "2023-04-07T21:22:19.827Z"
   },
   {
    "duration": 461,
    "start_time": "2023-04-07T21:22:20.162Z"
   },
   {
    "duration": 329,
    "start_time": "2023-04-07T21:22:20.625Z"
   },
   {
    "duration": 14,
    "start_time": "2023-04-07T21:22:20.956Z"
   },
   {
    "duration": 366,
    "start_time": "2023-04-07T21:22:20.973Z"
   },
   {
    "duration": 307,
    "start_time": "2023-04-07T21:22:21.341Z"
   },
   {
    "duration": 18,
    "start_time": "2023-04-07T21:22:21.650Z"
   },
   {
    "duration": 255,
    "start_time": "2023-04-07T21:22:21.670Z"
   },
   {
    "duration": 328,
    "start_time": "2023-04-07T21:22:21.927Z"
   },
   {
    "duration": 125,
    "start_time": "2023-04-07T21:22:22.257Z"
   },
   {
    "duration": 319,
    "start_time": "2023-04-07T21:22:22.384Z"
   },
   {
    "duration": 392,
    "start_time": "2023-04-07T21:22:22.705Z"
   },
   {
    "duration": 11,
    "start_time": "2023-04-07T21:22:23.099Z"
   },
   {
    "duration": 314,
    "start_time": "2023-04-07T21:22:23.123Z"
   },
   {
    "duration": 325,
    "start_time": "2023-04-07T21:22:23.438Z"
   },
   {
    "duration": 34,
    "start_time": "2023-04-07T21:22:23.765Z"
   },
   {
    "duration": 322,
    "start_time": "2023-04-07T21:22:23.801Z"
   },
   {
    "duration": 300,
    "start_time": "2023-04-07T21:22:24.125Z"
   },
   {
    "duration": 220,
    "start_time": "2023-04-07T21:22:24.427Z"
   },
   {
    "duration": 134,
    "start_time": "2023-04-07T21:22:24.649Z"
   },
   {
    "duration": 5,
    "start_time": "2023-04-07T21:22:24.785Z"
   },
   {
    "duration": 14,
    "start_time": "2023-04-07T21:22:24.791Z"
   },
   {
    "duration": 17,
    "start_time": "2023-04-07T21:22:24.807Z"
   },
   {
    "duration": 209,
    "start_time": "2023-04-07T21:22:24.826Z"
   },
   {
    "duration": 205,
    "start_time": "2023-04-07T21:22:25.037Z"
   },
   {
    "duration": 5,
    "start_time": "2023-04-07T21:22:25.243Z"
   },
   {
    "duration": 217,
    "start_time": "2023-04-07T21:22:25.250Z"
   },
   {
    "duration": 210,
    "start_time": "2023-04-07T21:22:25.469Z"
   },
   {
    "duration": 148,
    "start_time": "2023-04-07T21:22:25.681Z"
   },
   {
    "duration": 167,
    "start_time": "2023-04-07T21:22:25.831Z"
   },
   {
    "duration": 187,
    "start_time": "2023-04-07T21:22:26.000Z"
   },
   {
    "duration": 168,
    "start_time": "2023-04-07T21:22:26.193Z"
   },
   {
    "duration": 22,
    "start_time": "2023-04-07T21:22:26.363Z"
   },
   {
    "duration": 187,
    "start_time": "2023-04-07T21:22:26.387Z"
   },
   {
    "duration": 16,
    "start_time": "2023-04-07T21:23:49.174Z"
   },
   {
    "duration": 91,
    "start_time": "2023-04-07T21:23:52.901Z"
   }
  ],
  "colab": {
   "provenance": []
  },
  "kernelspec": {
   "display_name": "Python 3 (ipykernel)",
   "language": "python",
   "name": "python3"
  },
  "language_info": {
   "codemirror_mode": {
    "name": "ipython",
    "version": 3
   },
   "file_extension": ".py",
   "mimetype": "text/x-python",
   "name": "python",
   "nbconvert_exporter": "python",
   "pygments_lexer": "ipython3",
   "version": "3.9.5"
  },
  "toc": {
   "base_numbering": 1,
   "nav_menu": {},
   "number_sections": true,
   "sideBar": true,
   "skip_h1_title": true,
   "title_cell": "Table of Contents",
   "title_sidebar": "Contents",
   "toc_cell": false,
   "toc_position": {},
   "toc_section_display": true,
   "toc_window_display": false
  }
 },
 "nbformat": 4,
 "nbformat_minor": 1
}
