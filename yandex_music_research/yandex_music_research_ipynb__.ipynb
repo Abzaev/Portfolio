{
  "cells": [
    {
      "cell_type": "markdown",
      "metadata": {
        "deletable": false,
        "editable": false,
        "id": "E0vqbgi9ay0H"
      },
      "source": [
        "##  Исследование данных сервиса “Яндекс.Музыка” — сравнение пользователей двух городов."
      ]
    },
    {
      "cell_type": "markdown",
      "metadata": {
        "deletable": false,
        "editable": false,
        "id": "VUC88oWjTJw2"
      },
      "source": [
        "Сравнение Москвы и Петербурга окружено мифами. Например:\n",
        " * Москва — мегаполис, подчинённый жёсткому ритму рабочей недели;\n",
        " * Петербург — культурная столица, со своими вкусами.\n",
        "\n",
        "На данных Яндекс Музыки вы сравните поведение пользователей двух столиц.\n",
        "\n",
        "**Цель исследования** — проверьте три гипотезы:\n",
        "1. Активность пользователей зависит от дня недели. Причём в Москве и Петербурге это проявляется по-разному.\n",
        "2. В понедельник утром в Москве преобладают одни жанры, а в Петербурге — другие. Так же и вечером пятницы преобладают разные жанры — в зависимости от города.\n",
        "3. Москва и Петербург предпочитают разные жанры музыки. В Москве чаще слушают поп-музыку, в Петербурге — русский рэп.\n",
        "\n",
        "**Ход исследования**\n",
        "\n",
        "Данные о поведении пользователей я получу из файла `yandex_music_project.csv`. О качестве данных ничего не известно. Поэтому перед проверкой гипотез понадобится обзор данных.\n",
        "\n",
        "Я проверю данные на ошибки и оценю их влияние на исследование. Затем, на этапе предобработки поищу возможность исправить самые критичные ошибки данных.\n",
        "\n",
        "Таким образом, исследование пройдёт в три этапа:\n",
        " 1. Обзор данных.\n",
        " 2. Предобработка данных.\n",
        " 3. Проверка гипотез.\n",
        "\n",
        "**Это мой первый проект в специальности аналитика данных**\n"
      ]
    },
    {
      "cell_type": "markdown",
      "metadata": {
        "deletable": false,
        "editable": false,
        "id": "Ml1hmfXC_Zcs",
        "tags": []
      },
      "source": [
        "## Обзор данных\n",
        "\n",
        "Составлю первое представление о данных Яндекс Музыки.\n",
        "\n",
        "\n"
      ]
    },
    {
      "cell_type": "markdown",
      "metadata": {
        "deletable": false,
        "editable": false,
        "id": "57eAOGIz_Zcs",
        "tags": [
          "start_task"
        ]
      },
      "source": [
        "Основной инструмент аналитика — `pandas`. Импортируем эту библиотеку."
      ]
    },
    {
      "cell_type": "code",
      "execution_count": 1,
      "metadata": {
        "deletable": false,
        "id": "AXN7PHPN_Zcs"
      },
      "outputs": [],
      "source": [
        "import pandas as pd"
      ]
    },
    {
      "cell_type": "markdown",
      "source": [
        "Подключу Google Drive для работы с файлом."
      ],
      "metadata": {
        "id": "o7-X6Vp14K4r"
      }
    },
    {
      "cell_type": "code",
      "source": [
        "from google.colab import drive\n",
        "drive.mount('/content/drive/')\n",
        "%cd /content/drive/My Drive/"
      ],
      "metadata": {
        "colab": {
          "base_uri": "https://localhost:8080/"
        },
        "id": "h0S8hlRw4Obp",
        "outputId": "6159f23e-0f8a-4fd2-cc56-db53fd5fd691"
      },
      "execution_count": 2,
      "outputs": [
        {
          "output_type": "stream",
          "name": "stdout",
          "text": [
            "Mounted at /content/drive/\n",
            "/content/drive/My Drive\n"
          ]
        }
      ]
    },
    {
      "cell_type": "markdown",
      "metadata": {
        "deletable": false,
        "editable": false,
        "id": "SG23P8tt_Zcs",
        "tags": [
          "start_task"
        ]
      },
      "source": [
        "Прочитаю файл `yandex_music_project.csv` из Google Drive и сохраню его в переменной `df`:"
      ]
    },
    {
      "cell_type": "code",
      "execution_count": 3,
      "metadata": {
        "deletable": false,
        "id": "fFVu7vqh_Zct"
      },
      "outputs": [],
      "source": [
        "df = pd.read_csv('yandex_music_project.csv')"
      ]
    },
    {
      "cell_type": "markdown",
      "metadata": {
        "deletable": false,
        "editable": false,
        "id": "rDoOMd3uTqnZ",
        "tags": [
          "start_task"
        ]
      },
      "source": [
        "Выведу на экран первые десять строк таблицы:"
      ]
    },
    {
      "cell_type": "code",
      "execution_count": 4,
      "metadata": {
        "deletable": false,
        "id": "oWTVX3gW_Zct",
        "outputId": "34b7d061-9c74-4dd0-aef5-cb2c11d86f37",
        "colab": {
          "base_uri": "https://localhost:8080/",
          "height": 363
        }
      },
      "outputs": [
        {
          "output_type": "execute_result",
          "data": {
            "text/plain": [
              "     userID                        Track            artist   genre  \\\n",
              "0  FFB692EC            Kamigata To Boots  The Mass Missile    rock   \n",
              "1  55204538  Delayed Because of Accident  Andreas Rönnberg    rock   \n",
              "2    20EC38            Funiculì funiculà       Mario Lanza     pop   \n",
              "3  A3DD03C9        Dragons in the Sunset        Fire + Ice    folk   \n",
              "4  E2DC1FAE                  Soul People        Space Echo   dance   \n",
              "5  842029A1                    Преданная         IMPERVTOR  rusrap   \n",
              "6  4CB90AA5                         True      Roman Messer   dance   \n",
              "7  F03E1C1F             Feeling This Way   Polina Griffith   dance   \n",
              "8  8FA1D3BE     И вновь продолжается бой               NaN  ruspop   \n",
              "9  E772D5C0                    Pessimist               NaN   dance   \n",
              "\n",
              "             City        time        Day  \n",
              "0  Saint-Petersburg  20:28:33  Wednesday  \n",
              "1            Moscow  14:07:09     Friday  \n",
              "2  Saint-Petersburg  20:58:07  Wednesday  \n",
              "3  Saint-Petersburg  08:37:09     Monday  \n",
              "4            Moscow  08:34:34     Monday  \n",
              "5  Saint-Petersburg  13:09:41     Friday  \n",
              "6            Moscow  13:00:07  Wednesday  \n",
              "7            Moscow  20:47:49  Wednesday  \n",
              "8            Moscow  09:17:40     Friday  \n",
              "9  Saint-Petersburg  21:20:49  Wednesday  "
            ],
            "text/html": [
              "\n",
              "\n",
              "  <div id=\"df-47cbb061-d734-4ebf-bb88-bf895008bb1c\">\n",
              "    <div class=\"colab-df-container\">\n",
              "      <div>\n",
              "<style scoped>\n",
              "    .dataframe tbody tr th:only-of-type {\n",
              "        vertical-align: middle;\n",
              "    }\n",
              "\n",
              "    .dataframe tbody tr th {\n",
              "        vertical-align: top;\n",
              "    }\n",
              "\n",
              "    .dataframe thead th {\n",
              "        text-align: right;\n",
              "    }\n",
              "</style>\n",
              "<table border=\"1\" class=\"dataframe\">\n",
              "  <thead>\n",
              "    <tr style=\"text-align: right;\">\n",
              "      <th></th>\n",
              "      <th>userID</th>\n",
              "      <th>Track</th>\n",
              "      <th>artist</th>\n",
              "      <th>genre</th>\n",
              "      <th>City</th>\n",
              "      <th>time</th>\n",
              "      <th>Day</th>\n",
              "    </tr>\n",
              "  </thead>\n",
              "  <tbody>\n",
              "    <tr>\n",
              "      <th>0</th>\n",
              "      <td>FFB692EC</td>\n",
              "      <td>Kamigata To Boots</td>\n",
              "      <td>The Mass Missile</td>\n",
              "      <td>rock</td>\n",
              "      <td>Saint-Petersburg</td>\n",
              "      <td>20:28:33</td>\n",
              "      <td>Wednesday</td>\n",
              "    </tr>\n",
              "    <tr>\n",
              "      <th>1</th>\n",
              "      <td>55204538</td>\n",
              "      <td>Delayed Because of Accident</td>\n",
              "      <td>Andreas Rönnberg</td>\n",
              "      <td>rock</td>\n",
              "      <td>Moscow</td>\n",
              "      <td>14:07:09</td>\n",
              "      <td>Friday</td>\n",
              "    </tr>\n",
              "    <tr>\n",
              "      <th>2</th>\n",
              "      <td>20EC38</td>\n",
              "      <td>Funiculì funiculà</td>\n",
              "      <td>Mario Lanza</td>\n",
              "      <td>pop</td>\n",
              "      <td>Saint-Petersburg</td>\n",
              "      <td>20:58:07</td>\n",
              "      <td>Wednesday</td>\n",
              "    </tr>\n",
              "    <tr>\n",
              "      <th>3</th>\n",
              "      <td>A3DD03C9</td>\n",
              "      <td>Dragons in the Sunset</td>\n",
              "      <td>Fire + Ice</td>\n",
              "      <td>folk</td>\n",
              "      <td>Saint-Petersburg</td>\n",
              "      <td>08:37:09</td>\n",
              "      <td>Monday</td>\n",
              "    </tr>\n",
              "    <tr>\n",
              "      <th>4</th>\n",
              "      <td>E2DC1FAE</td>\n",
              "      <td>Soul People</td>\n",
              "      <td>Space Echo</td>\n",
              "      <td>dance</td>\n",
              "      <td>Moscow</td>\n",
              "      <td>08:34:34</td>\n",
              "      <td>Monday</td>\n",
              "    </tr>\n",
              "    <tr>\n",
              "      <th>5</th>\n",
              "      <td>842029A1</td>\n",
              "      <td>Преданная</td>\n",
              "      <td>IMPERVTOR</td>\n",
              "      <td>rusrap</td>\n",
              "      <td>Saint-Petersburg</td>\n",
              "      <td>13:09:41</td>\n",
              "      <td>Friday</td>\n",
              "    </tr>\n",
              "    <tr>\n",
              "      <th>6</th>\n",
              "      <td>4CB90AA5</td>\n",
              "      <td>True</td>\n",
              "      <td>Roman Messer</td>\n",
              "      <td>dance</td>\n",
              "      <td>Moscow</td>\n",
              "      <td>13:00:07</td>\n",
              "      <td>Wednesday</td>\n",
              "    </tr>\n",
              "    <tr>\n",
              "      <th>7</th>\n",
              "      <td>F03E1C1F</td>\n",
              "      <td>Feeling This Way</td>\n",
              "      <td>Polina Griffith</td>\n",
              "      <td>dance</td>\n",
              "      <td>Moscow</td>\n",
              "      <td>20:47:49</td>\n",
              "      <td>Wednesday</td>\n",
              "    </tr>\n",
              "    <tr>\n",
              "      <th>8</th>\n",
              "      <td>8FA1D3BE</td>\n",
              "      <td>И вновь продолжается бой</td>\n",
              "      <td>NaN</td>\n",
              "      <td>ruspop</td>\n",
              "      <td>Moscow</td>\n",
              "      <td>09:17:40</td>\n",
              "      <td>Friday</td>\n",
              "    </tr>\n",
              "    <tr>\n",
              "      <th>9</th>\n",
              "      <td>E772D5C0</td>\n",
              "      <td>Pessimist</td>\n",
              "      <td>NaN</td>\n",
              "      <td>dance</td>\n",
              "      <td>Saint-Petersburg</td>\n",
              "      <td>21:20:49</td>\n",
              "      <td>Wednesday</td>\n",
              "    </tr>\n",
              "  </tbody>\n",
              "</table>\n",
              "</div>\n",
              "      <button class=\"colab-df-convert\" onclick=\"convertToInteractive('df-47cbb061-d734-4ebf-bb88-bf895008bb1c')\"\n",
              "              title=\"Convert this dataframe to an interactive table.\"\n",
              "              style=\"display:none;\">\n",
              "\n",
              "  <svg xmlns=\"http://www.w3.org/2000/svg\" height=\"24px\"viewBox=\"0 0 24 24\"\n",
              "       width=\"24px\">\n",
              "    <path d=\"M0 0h24v24H0V0z\" fill=\"none\"/>\n",
              "    <path d=\"M18.56 5.44l.94 2.06.94-2.06 2.06-.94-2.06-.94-.94-2.06-.94 2.06-2.06.94zm-11 1L8.5 8.5l.94-2.06 2.06-.94-2.06-.94L8.5 2.5l-.94 2.06-2.06.94zm10 10l.94 2.06.94-2.06 2.06-.94-2.06-.94-.94-2.06-.94 2.06-2.06.94z\"/><path d=\"M17.41 7.96l-1.37-1.37c-.4-.4-.92-.59-1.43-.59-.52 0-1.04.2-1.43.59L10.3 9.45l-7.72 7.72c-.78.78-.78 2.05 0 2.83L4 21.41c.39.39.9.59 1.41.59.51 0 1.02-.2 1.41-.59l7.78-7.78 2.81-2.81c.8-.78.8-2.07 0-2.86zM5.41 20L4 18.59l7.72-7.72 1.47 1.35L5.41 20z\"/>\n",
              "  </svg>\n",
              "      </button>\n",
              "\n",
              "\n",
              "\n",
              "    <div id=\"df-1f01b1f6-4f9a-4e7a-83fb-d120e0b6ffbb\">\n",
              "      <button class=\"colab-df-quickchart\" onclick=\"quickchart('df-1f01b1f6-4f9a-4e7a-83fb-d120e0b6ffbb')\"\n",
              "              title=\"Suggest charts.\"\n",
              "              style=\"display:none;\">\n",
              "\n",
              "<svg xmlns=\"http://www.w3.org/2000/svg\" height=\"24px\"viewBox=\"0 0 24 24\"\n",
              "     width=\"24px\">\n",
              "    <g>\n",
              "        <path d=\"M19 3H5c-1.1 0-2 .9-2 2v14c0 1.1.9 2 2 2h14c1.1 0 2-.9 2-2V5c0-1.1-.9-2-2-2zM9 17H7v-7h2v7zm4 0h-2V7h2v10zm4 0h-2v-4h2v4z\"/>\n",
              "    </g>\n",
              "</svg>\n",
              "      </button>\n",
              "    </div>\n",
              "\n",
              "<style>\n",
              "  .colab-df-quickchart {\n",
              "    background-color: #E8F0FE;\n",
              "    border: none;\n",
              "    border-radius: 50%;\n",
              "    cursor: pointer;\n",
              "    display: none;\n",
              "    fill: #1967D2;\n",
              "    height: 32px;\n",
              "    padding: 0 0 0 0;\n",
              "    width: 32px;\n",
              "  }\n",
              "\n",
              "  .colab-df-quickchart:hover {\n",
              "    background-color: #E2EBFA;\n",
              "    box-shadow: 0px 1px 2px rgba(60, 64, 67, 0.3), 0px 1px 3px 1px rgba(60, 64, 67, 0.15);\n",
              "    fill: #174EA6;\n",
              "  }\n",
              "\n",
              "  [theme=dark] .colab-df-quickchart {\n",
              "    background-color: #3B4455;\n",
              "    fill: #D2E3FC;\n",
              "  }\n",
              "\n",
              "  [theme=dark] .colab-df-quickchart:hover {\n",
              "    background-color: #434B5C;\n",
              "    box-shadow: 0px 1px 3px 1px rgba(0, 0, 0, 0.15);\n",
              "    filter: drop-shadow(0px 1px 2px rgba(0, 0, 0, 0.3));\n",
              "    fill: #FFFFFF;\n",
              "  }\n",
              "</style>\n",
              "\n",
              "    <script>\n",
              "      async function quickchart(key) {\n",
              "        const containerElement = document.querySelector('#' + key);\n",
              "        const charts = await google.colab.kernel.invokeFunction(\n",
              "            'suggestCharts', [key], {});\n",
              "      }\n",
              "    </script>\n",
              "\n",
              "      <script>\n",
              "\n",
              "function displayQuickchartButton(domScope) {\n",
              "  let quickchartButtonEl =\n",
              "    domScope.querySelector('#df-1f01b1f6-4f9a-4e7a-83fb-d120e0b6ffbb button.colab-df-quickchart');\n",
              "  quickchartButtonEl.style.display =\n",
              "    google.colab.kernel.accessAllowed ? 'block' : 'none';\n",
              "}\n",
              "\n",
              "        displayQuickchartButton(document);\n",
              "      </script>\n",
              "      <style>\n",
              "    .colab-df-container {\n",
              "      display:flex;\n",
              "      flex-wrap:wrap;\n",
              "      gap: 12px;\n",
              "    }\n",
              "\n",
              "    .colab-df-convert {\n",
              "      background-color: #E8F0FE;\n",
              "      border: none;\n",
              "      border-radius: 50%;\n",
              "      cursor: pointer;\n",
              "      display: none;\n",
              "      fill: #1967D2;\n",
              "      height: 32px;\n",
              "      padding: 0 0 0 0;\n",
              "      width: 32px;\n",
              "    }\n",
              "\n",
              "    .colab-df-convert:hover {\n",
              "      background-color: #E2EBFA;\n",
              "      box-shadow: 0px 1px 2px rgba(60, 64, 67, 0.3), 0px 1px 3px 1px rgba(60, 64, 67, 0.15);\n",
              "      fill: #174EA6;\n",
              "    }\n",
              "\n",
              "    [theme=dark] .colab-df-convert {\n",
              "      background-color: #3B4455;\n",
              "      fill: #D2E3FC;\n",
              "    }\n",
              "\n",
              "    [theme=dark] .colab-df-convert:hover {\n",
              "      background-color: #434B5C;\n",
              "      box-shadow: 0px 1px 3px 1px rgba(0, 0, 0, 0.15);\n",
              "      filter: drop-shadow(0px 1px 2px rgba(0, 0, 0, 0.3));\n",
              "      fill: #FFFFFF;\n",
              "    }\n",
              "  </style>\n",
              "\n",
              "      <script>\n",
              "        const buttonEl =\n",
              "          document.querySelector('#df-47cbb061-d734-4ebf-bb88-bf895008bb1c button.colab-df-convert');\n",
              "        buttonEl.style.display =\n",
              "          google.colab.kernel.accessAllowed ? 'block' : 'none';\n",
              "\n",
              "        async function convertToInteractive(key) {\n",
              "          const element = document.querySelector('#df-47cbb061-d734-4ebf-bb88-bf895008bb1c');\n",
              "          const dataTable =\n",
              "            await google.colab.kernel.invokeFunction('convertToInteractive',\n",
              "                                                     [key], {});\n",
              "          if (!dataTable) return;\n",
              "\n",
              "          const docLinkHtml = 'Like what you see? Visit the ' +\n",
              "            '<a target=\"_blank\" href=https://colab.research.google.com/notebooks/data_table.ipynb>data table notebook</a>'\n",
              "            + ' to learn more about interactive tables.';\n",
              "          element.innerHTML = '';\n",
              "          dataTable['output_type'] = 'display_data';\n",
              "          await google.colab.output.renderOutput(dataTable, element);\n",
              "          const docLink = document.createElement('div');\n",
              "          docLink.innerHTML = docLinkHtml;\n",
              "          element.appendChild(docLink);\n",
              "        }\n",
              "      </script>\n",
              "    </div>\n",
              "  </div>\n"
            ]
          },
          "metadata": {},
          "execution_count": 4
        }
      ],
      "source": [
        "df.head(10)"
      ]
    },
    {
      "cell_type": "markdown",
      "metadata": {
        "deletable": false,
        "editable": false,
        "id": "EO73Kwic_Zct",
        "tags": [
          "start_task"
        ]
      },
      "source": [
        "Получу общую информацию о таблице c помощью метода `info()`:"
      ]
    },
    {
      "cell_type": "code",
      "execution_count": 5,
      "metadata": {
        "deletable": false,
        "id": "DSf2kIb-_Zct",
        "outputId": "bd17baae-fefb-40b4-da41-35010f9bb62d",
        "colab": {
          "base_uri": "https://localhost:8080/"
        }
      },
      "outputs": [
        {
          "output_type": "stream",
          "name": "stdout",
          "text": [
            "<class 'pandas.core.frame.DataFrame'>\n",
            "RangeIndex: 65079 entries, 0 to 65078\n",
            "Data columns (total 7 columns):\n",
            " #   Column    Non-Null Count  Dtype \n",
            "---  ------    --------------  ----- \n",
            " 0     userID  65079 non-null  object\n",
            " 1   Track     63848 non-null  object\n",
            " 2   artist    57876 non-null  object\n",
            " 3   genre     63881 non-null  object\n",
            " 4     City    65079 non-null  object\n",
            " 5   time      65079 non-null  object\n",
            " 6   Day       65079 non-null  object\n",
            "dtypes: object(7)\n",
            "memory usage: 3.5+ MB\n"
          ]
        }
      ],
      "source": [
        "df.info()"
      ]
    },
    {
      "cell_type": "markdown",
      "metadata": {
        "deletable": false,
        "editable": false,
        "id": "TaQ2Iwbr_Zct"
      },
      "source": [
        "Итак, в таблице семь столбцов. Тип данных во всех столбцах — `object`.\n",
        "\n",
        "Согласно документации к данным:\n",
        "* `userID` — идентификатор пользователя;\n",
        "* `Track` — название трека;  \n",
        "* `artist` — имя исполнителя;\n",
        "* `genre` — название жанра;\n",
        "* `City` — город пользователя;\n",
        "* `time` — время начала прослушивания;\n",
        "* `Day` — день недели.\n",
        "\n",
        "Количество значений в столбцах различается. Значит, в данных есть пропущенные значения."
      ]
    },
    {
      "cell_type": "markdown",
      "metadata": {
        "deletable": false,
        "editable": false,
        "id": "4P0UCWzswgEm",
        "tags": [
          "start_task"
        ]
      },
      "source": [
        "В названиях колонок видны три нарушения стиля:\n",
        "1. Строчные буквы сочетаются с прописными.\n",
        "2. Встречаются пробелы."
      ]
    },
    {
      "cell_type": "markdown",
      "metadata": {
        "deletable": false,
        "editable": false,
        "id": "MCB6-dXG_Zct"
      },
      "source": [
        "**Выводы**\n",
        "\n",
        "В каждой строке таблицы — данные о прослушанном треке. Часть колонок описывает саму композицию: название, исполнителя и жанр. Остальные данные рассказывают о пользователе: из какого он города, когда он слушал музыку.\n",
        "\n",
        "Предварительно можно утверждать, что, данных достаточно для проверки гипотез. Но встречаются пропуски в данных, а в названиях колонок — расхождения с хорошим стилем.\n",
        "\n",
        "Чтобы двигаться дальше, нужно устранить проблемы в данных."
      ]
    },
    {
      "cell_type": "markdown",
      "metadata": {
        "deletable": false,
        "editable": false,
        "id": "SjYF6Ub9_Zct"
      },
      "source": [
        "## Предобработка данных\n",
        "Исправлю стиль в заголовках столбцов, исключу пропуски. Затем проверю данные на дубликаты."
      ]
    },
    {
      "cell_type": "markdown",
      "metadata": {
        "deletable": false,
        "editable": false,
        "id": "dIaKXr29_Zct",
        "tags": [
          "start_task"
        ]
      },
      "source": [
        "### Стиль заголовков\n",
        "\n",
        "Выведем на экран названия столбцов:"
      ]
    },
    {
      "cell_type": "code",
      "execution_count": 6,
      "metadata": {
        "deletable": false,
        "id": "oKOTdF_Q_Zct",
        "outputId": "0a5a1139-43a1-46a1-a0a7-8e9675ec4b5f",
        "colab": {
          "base_uri": "https://localhost:8080/"
        }
      },
      "outputs": [
        {
          "output_type": "execute_result",
          "data": {
            "text/plain": [
              "Index(['  userID', 'Track', 'artist', 'genre', '  City  ', 'time', 'Day'], dtype='object')"
            ]
          },
          "metadata": {},
          "execution_count": 6
        }
      ],
      "source": [
        "df.columns"
      ]
    },
    {
      "cell_type": "markdown",
      "metadata": {
        "deletable": false,
        "editable": false,
        "id": "zj5534cv_Zct",
        "tags": [
          "start_task"
        ]
      },
      "source": [
        "Приведу названия в соответствие с хорошим стилем:\n",
        "* несколько слов в названии запишу в «змеином_регистре»,\n",
        "* все символы сделаю строчными,\n",
        "* устраню пробелы."
      ]
    },
    {
      "cell_type": "code",
      "execution_count": 7,
      "metadata": {
        "deletable": false,
        "id": "ISlFqs5y_Zct"
      },
      "outputs": [],
      "source": [
        "df = df.rename(columns={'  userID' : 'user_id','Track':'track', '  City  ': 'city', 'Day' : 'day'})"
      ]
    },
    {
      "cell_type": "markdown",
      "metadata": {
        "deletable": false,
        "editable": false,
        "id": "1dqbh00J_Zct",
        "tags": [
          "start_task"
        ]
      },
      "source": [
        "Проверю результат. Для этого ещё раз выведите на экран названия столбцов:"
      ]
    },
    {
      "cell_type": "code",
      "execution_count": 8,
      "metadata": {
        "deletable": false,
        "id": "d4NOAmTW_Zct",
        "outputId": "ab1906d5-0348-4c84-94bf-a217f6a92292",
        "colab": {
          "base_uri": "https://localhost:8080/"
        }
      },
      "outputs": [
        {
          "output_type": "execute_result",
          "data": {
            "text/plain": [
              "Index(['user_id', 'track', 'artist', 'genre', 'city', 'time', 'day'], dtype='object')"
            ]
          },
          "metadata": {},
          "execution_count": 8
        }
      ],
      "source": [
        "df.columns"
      ]
    },
    {
      "cell_type": "markdown",
      "metadata": {
        "deletable": false,
        "editable": false,
        "id": "5ISfbcfY_Zct",
        "tags": [
          "start_task"
        ]
      },
      "source": [
        "Посчитаю, сколько в таблице пропущенных значений. Для этого достаточно двух методов `pandas`:"
      ]
    },
    {
      "cell_type": "code",
      "execution_count": 9,
      "metadata": {
        "deletable": false,
        "id": "RskX29qr_Zct",
        "outputId": "dcffb643-5eea-4176-c80a-936b1ae84828",
        "colab": {
          "base_uri": "https://localhost:8080/"
        }
      },
      "outputs": [
        {
          "output_type": "execute_result",
          "data": {
            "text/plain": [
              "user_id       0\n",
              "track      1231\n",
              "artist     7203\n",
              "genre      1198\n",
              "city          0\n",
              "time          0\n",
              "day           0\n",
              "dtype: int64"
            ]
          },
          "metadata": {},
          "execution_count": 9
        }
      ],
      "source": [
        "df.isna().sum()"
      ]
    },
    {
      "cell_type": "markdown",
      "metadata": {
        "deletable": false,
        "editable": false,
        "id": "qubhgnlO_Zct"
      },
      "source": [
        "Не все пропущенные значения влияют на исследование. Так в `track` и `artist` пропуски не важны для моей работы. Достаточно заменить их явными обозначениями.\n",
        "\n",
        "Но пропуски в `genre` могут помешать сравнению музыкальных вкусов в Москве и Санкт-Петербурге. На практике было бы правильно установить причину пропусков и восстановить данные. Такой возможности нет в учебном проекте. Придётся:\n",
        "* заполнить и эти пропуски явными обозначениями,\n",
        "* оценить, насколько они повредят расчётам."
      ]
    },
    {
      "cell_type": "markdown",
      "metadata": {
        "deletable": false,
        "editable": false,
        "id": "fSv2laPA_Zct",
        "tags": [
          "start_task"
        ]
      },
      "source": [
        "Заменю пропущенные значения в столбцах `track`, `artist` и `genre` на строку `'unknown'`. Для этого создам список `columns_to_replace`, переберу его элементы циклом `for` и для каждого столбца выполню замену пропущенных значений:"
      ]
    },
    {
      "cell_type": "code",
      "execution_count": 10,
      "metadata": {
        "deletable": false,
        "id": "KplB5qWs_Zct"
      },
      "outputs": [],
      "source": [
        "columns_to_replace = ['track', 'artist', 'genre']\n",
        "for column in columns_to_replace:\n",
        "    df[column] = df[column].fillna('unknown')"
      ]
    },
    {
      "cell_type": "markdown",
      "metadata": {
        "deletable": false,
        "editable": false,
        "id": "Ilsm-MZo_Zct",
        "tags": [
          "start_task"
        ]
      },
      "source": [
        "Убеждаюсь, что в таблице не осталось пропусков. Для этого ещё раз посчитаю пропущенные значения."
      ]
    },
    {
      "cell_type": "code",
      "execution_count": 11,
      "metadata": {
        "deletable": false,
        "id": "Tq4nYRX4_Zct",
        "outputId": "bc01fd14-1bf5-4940-99dc-603dcd98afe7",
        "colab": {
          "base_uri": "https://localhost:8080/"
        }
      },
      "outputs": [
        {
          "output_type": "execute_result",
          "data": {
            "text/plain": [
              "user_id    0\n",
              "track      0\n",
              "artist     0\n",
              "genre      0\n",
              "city       0\n",
              "time       0\n",
              "day        0\n",
              "dtype: int64"
            ]
          },
          "metadata": {},
          "execution_count": 11
        }
      ],
      "source": [
        "df.isna().sum()"
      ]
    },
    {
      "cell_type": "markdown",
      "metadata": {
        "deletable": false,
        "editable": false,
        "id": "BWKRtBJ3_Zct",
        "tags": [
          "start_task"
        ]
      },
      "source": [
        "### Дубликаты\n",
        "\n",
        "Посчитаю явные дубликаты в таблице одной командой:"
      ]
    },
    {
      "cell_type": "code",
      "execution_count": 12,
      "metadata": {
        "deletable": false,
        "id": "36eES_S0_Zct",
        "outputId": "344d2b82-8713-49ed-a471-383f4a0cfd15",
        "colab": {
          "base_uri": "https://localhost:8080/"
        }
      },
      "outputs": [
        {
          "output_type": "execute_result",
          "data": {
            "text/plain": [
              "3826"
            ]
          },
          "metadata": {},
          "execution_count": 12
        }
      ],
      "source": [
        "df.duplicated().sum()"
      ]
    },
    {
      "cell_type": "markdown",
      "metadata": {
        "deletable": false,
        "editable": false,
        "id": "Ot25h6XR_Zct",
        "tags": [
          "start_task"
        ]
      },
      "source": [
        "Вызываю специальный метод `pandas`, чтобы удалить явные дубликаты:"
      ]
    },
    {
      "cell_type": "code",
      "execution_count": 13,
      "metadata": {
        "deletable": false,
        "id": "exFHq6tt_Zct"
      },
      "outputs": [],
      "source": [
        "df = df.drop_duplicates()"
      ]
    },
    {
      "cell_type": "markdown",
      "metadata": {
        "deletable": false,
        "editable": false,
        "id": "Im2YwBEG_Zct",
        "tags": [
          "start_task"
        ]
      },
      "source": [
        "Ещё раз считаю явные дубликаты в таблице — убеждаюсь, что полностью от них избавился:"
      ]
    },
    {
      "cell_type": "code",
      "execution_count": 14,
      "metadata": {
        "deletable": false,
        "id": "-8PuNWQ0_Zct",
        "outputId": "d243b000-17f6-4317-b96c-451b533b8516",
        "colab": {
          "base_uri": "https://localhost:8080/"
        }
      },
      "outputs": [
        {
          "output_type": "execute_result",
          "data": {
            "text/plain": [
              "0"
            ]
          },
          "metadata": {},
          "execution_count": 14
        }
      ],
      "source": [
        "df.duplicated().sum()"
      ]
    },
    {
      "cell_type": "markdown",
      "metadata": {
        "deletable": false,
        "editable": false,
        "id": "QlFBsxAr_Zct"
      },
      "source": [
        "Теперь избавлюсь от неявных дубликатов в колонке `genre`. Например, название одного и того же жанра может быть записано немного по-разному. Такие ошибки тоже повлияют на результат исследования."
      ]
    },
    {
      "cell_type": "markdown",
      "metadata": {
        "deletable": false,
        "editable": false,
        "id": "eSjWwsOh_Zct",
        "tags": [
          "start_task"
        ]
      },
      "source": [
        "Вывожу на экран список уникальных названий жанров, отсортированный в алфавитном порядке. Для этого:\n",
        "* извлекаю нужный столбец датафрейма,\n",
        "* применяю к нему метод сортировки,\n",
        "* для отсортированного столбца вызову метод, который вернёт уникальные значения из столбца."
      ]
    },
    {
      "cell_type": "code",
      "execution_count": 15,
      "metadata": {
        "deletable": false,
        "id": "JIUcqzZN_Zct",
        "outputId": "3a6d1859-aef7-40e0-e45f-624e6e6aa72e",
        "colab": {
          "base_uri": "https://localhost:8080/"
        }
      },
      "outputs": [
        {
          "output_type": "execute_result",
          "data": {
            "text/plain": [
              "array(['acid', 'acoustic', 'action', 'adult', 'africa', 'afrikaans',\n",
              "       'alternative', 'alternativepunk', 'ambient', 'americana',\n",
              "       'animated', 'anime', 'arabesk', 'arabic', 'arena',\n",
              "       'argentinetango', 'art', 'audiobook', 'author', 'avantgarde',\n",
              "       'axé', 'baile', 'balkan', 'beats', 'bigroom', 'black', 'bluegrass',\n",
              "       'blues', 'bollywood', 'bossa', 'brazilian', 'breakbeat', 'breaks',\n",
              "       'broadway', 'cantautori', 'cantopop', 'canzone', 'caribbean',\n",
              "       'caucasian', 'celtic', 'chamber', 'chanson', 'children', 'chill',\n",
              "       'chinese', 'choral', 'christian', 'christmas', 'classical',\n",
              "       'classicmetal', 'club', 'colombian', 'comedy', 'conjazz',\n",
              "       'contemporary', 'country', 'cuban', 'dance', 'dancehall',\n",
              "       'dancepop', 'dark', 'death', 'deep', 'deutschrock', 'deutschspr',\n",
              "       'dirty', 'disco', 'dnb', 'documentary', 'downbeat', 'downtempo',\n",
              "       'drum', 'dub', 'dubstep', 'eastern', 'easy', 'electronic',\n",
              "       'electropop', 'emo', 'entehno', 'epicmetal', 'estrada', 'ethnic',\n",
              "       'eurofolk', 'european', 'experimental', 'extrememetal', 'fado',\n",
              "       'fairytail', 'film', 'fitness', 'flamenco', 'folk', 'folklore',\n",
              "       'folkmetal', 'folkrock', 'folktronica', 'forró', 'frankreich',\n",
              "       'französisch', 'french', 'funk', 'future', 'gangsta', 'garage',\n",
              "       'german', 'ghazal', 'gitarre', 'glitch', 'gospel', 'gothic',\n",
              "       'grime', 'grunge', 'gypsy', 'handsup', \"hard'n'heavy\", 'hardcore',\n",
              "       'hardstyle', 'hardtechno', 'hip', 'hip-hop', 'hiphop',\n",
              "       'historisch', 'holiday', 'hop', 'horror', 'house', 'hymn', 'idm',\n",
              "       'independent', 'indian', 'indie', 'indipop', 'industrial',\n",
              "       'inspirational', 'instrumental', 'international', 'irish', 'jam',\n",
              "       'japanese', 'jazz', 'jewish', 'jpop', 'jungle', 'k-pop',\n",
              "       'karadeniz', 'karaoke', 'kayokyoku', 'korean', 'laiko', 'latin',\n",
              "       'latino', 'leftfield', 'local', 'lounge', 'loungeelectronic',\n",
              "       'lovers', 'malaysian', 'mandopop', 'marschmusik', 'meditative',\n",
              "       'mediterranean', 'melodic', 'metal', 'metalcore', 'mexican',\n",
              "       'middle', 'minimal', 'miscellaneous', 'modern', 'mood', 'mpb',\n",
              "       'muslim', 'native', 'neoklassik', 'neue', 'new', 'newage',\n",
              "       'newwave', 'nu', 'nujazz', 'numetal', 'oceania', 'old', 'opera',\n",
              "       'orchestral', 'other', 'piano', 'podcasts', 'pop', 'popdance',\n",
              "       'popelectronic', 'popeurodance', 'poprussian', 'post',\n",
              "       'posthardcore', 'postrock', 'power', 'progmetal', 'progressive',\n",
              "       'psychedelic', 'punjabi', 'punk', 'quebecois', 'ragga', 'ram',\n",
              "       'rancheras', 'rap', 'rave', 'reggae', 'reggaeton', 'regional',\n",
              "       'relax', 'religious', 'retro', 'rhythm', 'rnb', 'rnr', 'rock',\n",
              "       'rockabilly', 'rockalternative', 'rockindie', 'rockother',\n",
              "       'romance', 'roots', 'ruspop', 'rusrap', 'rusrock', 'russian',\n",
              "       'salsa', 'samba', 'scenic', 'schlager', 'self', 'sertanejo',\n",
              "       'shanson', 'shoegazing', 'showtunes', 'singer', 'ska', 'skarock',\n",
              "       'slow', 'smooth', 'soft', 'soul', 'soulful', 'sound', 'soundtrack',\n",
              "       'southern', 'specialty', 'speech', 'spiritual', 'sport',\n",
              "       'stonerrock', 'surf', 'swing', 'synthpop', 'synthrock',\n",
              "       'sängerportrait', 'tango', 'tanzorchester', 'taraftar', 'tatar',\n",
              "       'tech', 'techno', 'teen', 'thrash', 'top', 'traditional',\n",
              "       'tradjazz', 'trance', 'tribal', 'trip', 'triphop', 'tropical',\n",
              "       'türk', 'türkçe', 'ukrrock', 'unknown', 'urban', 'uzbek',\n",
              "       'variété', 'vi', 'videogame', 'vocal', 'western', 'world',\n",
              "       'worldbeat', 'ïîï', 'электроника'], dtype=object)"
            ]
          },
          "metadata": {},
          "execution_count": 15
        }
      ],
      "source": [
        "df['genre'].sort_values().unique()"
      ]
    },
    {
      "cell_type": "markdown",
      "metadata": {
        "deletable": false,
        "editable": false,
        "id": "qej-Qmuo_Zct",
        "tags": [
          "start_task"
        ]
      },
      "source": [
        "Смотрю список и вижу неявные дубликаты названия `hiphop`.\n",
        "\n",
        "Вижу следующие неявные дубликаты:\n",
        "* *hip*,\n",
        "* *hop*,\n",
        "* *hip-hop*.\n",
        "\n",
        "Чтобы очистить от них таблицу использую метод `replace()` с двумя аргументами: списком строк-дубликатов (включащий *hip*, *hop* и *hip-hop*) и строкой с правильным значением. Вам нужно исправить колонку `genre` в таблице `df`: заменить каждое значение из списка дубликатов на верное. Вместо `hip`, `hop` и `hip-hop` в таблице должно быть значение `hiphop`:"
      ]
    },
    {
      "cell_type": "code",
      "execution_count": 16,
      "metadata": {
        "deletable": false,
        "id": "ErNDkmns_Zct"
      },
      "outputs": [],
      "source": [
        "df['genre'] = df ['genre'].replace('hip', 'hiphop')\n",
        "df['genre'] = df ['genre'].replace('hop', 'hiphop')\n",
        "df['genre'] = df ['genre'].replace('hip-hop', 'hiphop')"
      ]
    },
    {
      "cell_type": "markdown",
      "metadata": {
        "deletable": false,
        "editable": false,
        "id": "zQKF16_RG15m",
        "tags": [
          "start_task"
        ]
      },
      "source": [
        "Проверю, что заменил неправильные названия:\n",
        "\n",
        "*   hip\n",
        "*   hop\n",
        "*   hip-hop\n",
        "\n",
        "Выведу отсортированный список уникальных значений столбца `genre`:"
      ]
    },
    {
      "cell_type": "code",
      "execution_count": 17,
      "metadata": {
        "deletable": false,
        "id": "wvixALnFG15m",
        "outputId": "88b791e0-9b76-4064-8091-ba5c2eb39080",
        "colab": {
          "base_uri": "https://localhost:8080/"
        }
      },
      "outputs": [
        {
          "output_type": "execute_result",
          "data": {
            "text/plain": [
              "array(['acid', 'acoustic', 'action', 'adult', 'africa', 'afrikaans',\n",
              "       'alternative', 'alternativepunk', 'ambient', 'americana',\n",
              "       'animated', 'anime', 'arabesk', 'arabic', 'arena',\n",
              "       'argentinetango', 'art', 'audiobook', 'author', 'avantgarde',\n",
              "       'axé', 'baile', 'balkan', 'beats', 'bigroom', 'black', 'bluegrass',\n",
              "       'blues', 'bollywood', 'bossa', 'brazilian', 'breakbeat', 'breaks',\n",
              "       'broadway', 'cantautori', 'cantopop', 'canzone', 'caribbean',\n",
              "       'caucasian', 'celtic', 'chamber', 'chanson', 'children', 'chill',\n",
              "       'chinese', 'choral', 'christian', 'christmas', 'classical',\n",
              "       'classicmetal', 'club', 'colombian', 'comedy', 'conjazz',\n",
              "       'contemporary', 'country', 'cuban', 'dance', 'dancehall',\n",
              "       'dancepop', 'dark', 'death', 'deep', 'deutschrock', 'deutschspr',\n",
              "       'dirty', 'disco', 'dnb', 'documentary', 'downbeat', 'downtempo',\n",
              "       'drum', 'dub', 'dubstep', 'eastern', 'easy', 'electronic',\n",
              "       'electropop', 'emo', 'entehno', 'epicmetal', 'estrada', 'ethnic',\n",
              "       'eurofolk', 'european', 'experimental', 'extrememetal', 'fado',\n",
              "       'fairytail', 'film', 'fitness', 'flamenco', 'folk', 'folklore',\n",
              "       'folkmetal', 'folkrock', 'folktronica', 'forró', 'frankreich',\n",
              "       'französisch', 'french', 'funk', 'future', 'gangsta', 'garage',\n",
              "       'german', 'ghazal', 'gitarre', 'glitch', 'gospel', 'gothic',\n",
              "       'grime', 'grunge', 'gypsy', 'handsup', \"hard'n'heavy\", 'hardcore',\n",
              "       'hardstyle', 'hardtechno', 'hiphop', 'historisch', 'holiday',\n",
              "       'horror', 'house', 'hymn', 'idm', 'independent', 'indian', 'indie',\n",
              "       'indipop', 'industrial', 'inspirational', 'instrumental',\n",
              "       'international', 'irish', 'jam', 'japanese', 'jazz', 'jewish',\n",
              "       'jpop', 'jungle', 'k-pop', 'karadeniz', 'karaoke', 'kayokyoku',\n",
              "       'korean', 'laiko', 'latin', 'latino', 'leftfield', 'local',\n",
              "       'lounge', 'loungeelectronic', 'lovers', 'malaysian', 'mandopop',\n",
              "       'marschmusik', 'meditative', 'mediterranean', 'melodic', 'metal',\n",
              "       'metalcore', 'mexican', 'middle', 'minimal', 'miscellaneous',\n",
              "       'modern', 'mood', 'mpb', 'muslim', 'native', 'neoklassik', 'neue',\n",
              "       'new', 'newage', 'newwave', 'nu', 'nujazz', 'numetal', 'oceania',\n",
              "       'old', 'opera', 'orchestral', 'other', 'piano', 'podcasts', 'pop',\n",
              "       'popdance', 'popelectronic', 'popeurodance', 'poprussian', 'post',\n",
              "       'posthardcore', 'postrock', 'power', 'progmetal', 'progressive',\n",
              "       'psychedelic', 'punjabi', 'punk', 'quebecois', 'ragga', 'ram',\n",
              "       'rancheras', 'rap', 'rave', 'reggae', 'reggaeton', 'regional',\n",
              "       'relax', 'religious', 'retro', 'rhythm', 'rnb', 'rnr', 'rock',\n",
              "       'rockabilly', 'rockalternative', 'rockindie', 'rockother',\n",
              "       'romance', 'roots', 'ruspop', 'rusrap', 'rusrock', 'russian',\n",
              "       'salsa', 'samba', 'scenic', 'schlager', 'self', 'sertanejo',\n",
              "       'shanson', 'shoegazing', 'showtunes', 'singer', 'ska', 'skarock',\n",
              "       'slow', 'smooth', 'soft', 'soul', 'soulful', 'sound', 'soundtrack',\n",
              "       'southern', 'specialty', 'speech', 'spiritual', 'sport',\n",
              "       'stonerrock', 'surf', 'swing', 'synthpop', 'synthrock',\n",
              "       'sängerportrait', 'tango', 'tanzorchester', 'taraftar', 'tatar',\n",
              "       'tech', 'techno', 'teen', 'thrash', 'top', 'traditional',\n",
              "       'tradjazz', 'trance', 'tribal', 'trip', 'triphop', 'tropical',\n",
              "       'türk', 'türkçe', 'ukrrock', 'unknown', 'urban', 'uzbek',\n",
              "       'variété', 'vi', 'videogame', 'vocal', 'western', 'world',\n",
              "       'worldbeat', 'ïîï', 'электроника'], dtype=object)"
            ]
          },
          "metadata": {},
          "execution_count": 17
        }
      ],
      "source": [
        "df['genre'].sort_values().unique()"
      ]
    },
    {
      "cell_type": "markdown",
      "metadata": {
        "deletable": false,
        "editable": false,
        "id": "jz6a9-7HQUDd"
      },
      "source": [
        "**Выводы**\n",
        "\n",
        "Предобработка обнаружила три проблемы в данных:\n",
        "\n",
        "- нарушения в стиле заголовков,\n",
        "- пропущенные значения,\n",
        "- дубликаты — явные и неявные.\n",
        "\n",
        "Я исправил заголовки, чтобы упростить работу с таблицей. Без дубликатов исследование станет более точным.\n",
        "\n",
        "Пропущенные значения я заменил на `'unknown'`. Ещё предстоит увидеть, не повредят ли исследованию пропуски в колонке `genre`.\n",
        "\n",
        "Теперь можно перейти к проверке гипотез."
      ]
    },
    {
      "cell_type": "markdown",
      "metadata": {
        "deletable": false,
        "editable": false,
        "id": "WttZHXH0SqKk"
      },
      "source": [
        "## Проверка гипотез"
      ]
    },
    {
      "cell_type": "markdown",
      "metadata": {
        "deletable": false,
        "editable": false,
        "id": "Im936VVi_Zcu"
      },
      "source": [
        "### Сравнение поведения пользователей двух столиц"
      ]
    },
    {
      "cell_type": "markdown",
      "metadata": {
        "deletable": false,
        "editable": false,
        "id": "nwt_MuaL_Zcu"
      },
      "source": [
        "Первая гипотеза утверждает, что пользователи по-разному слушают музыку в Москве и Санкт-Петербурге. Проверьте это предположение по данным о трёх днях недели — понедельнике, среде и пятнице. Для этого:\n",
        "\n",
        "* Разделю пользователей Москвы и Санкт-Петербурга\n",
        "* Сравню, сколько треков послушала каждая группа пользователей в понедельник, среду и пятницу.\n"
      ]
    },
    {
      "cell_type": "markdown",
      "metadata": {
        "deletable": false,
        "editable": false,
        "id": "8Dw_YMmT_Zcu",
        "tags": [
          "start_task"
        ]
      },
      "source": [
        "Для тренировки сначала выполню каждый из расчётов по отдельности.\n",
        "\n",
        "Оценю активность пользователей в каждом городе. Сгруппирую данные по городу и посчитайте прослушивания в каждой группе.\n",
        "\n"
      ]
    },
    {
      "cell_type": "code",
      "execution_count": 18,
      "metadata": {
        "deletable": false,
        "id": "0_Qs96oh_Zcu",
        "outputId": "a48b5e51-0e6e-4415-a753-77a0dec93e60",
        "colab": {
          "base_uri": "https://localhost:8080/"
        }
      },
      "outputs": [
        {
          "output_type": "execute_result",
          "data": {
            "text/plain": [
              "city\n",
              "Moscow              42741\n",
              "Saint-Petersburg    18512\n",
              "Name: user_id, dtype: int64"
            ]
          },
          "metadata": {},
          "execution_count": 18
        }
      ],
      "source": [
        "df.groupby('city')['user_id'].count()"
      ]
    },
    {
      "cell_type": "markdown",
      "metadata": {
        "deletable": false,
        "editable": false,
        "id": "dzli3w8o_Zcu",
        "tags": [
          "start_task"
        ]
      },
      "source": [
        "В Москве прослушиваний больше, чем в Петербурге. Из этого не следует, что московские пользователи чаще слушают музыку. Просто самих пользователей в Москве больше.\n",
        "\n",
        "\n",
        "\n",
        "Теперь сгруппирую данные по дню недели и подсчитаю прослушивания в понедельник, среду и пятницу. В данных есть информация только о прослушиваниях только за эти дни.\n"
      ]
    },
    {
      "cell_type": "code",
      "execution_count": 19,
      "metadata": {
        "deletable": false,
        "id": "uZMKjiJz_Zcu",
        "outputId": "31f2cf20-8ddb-4e05-bb74-b0359c40d09c",
        "colab": {
          "base_uri": "https://localhost:8080/"
        }
      },
      "outputs": [
        {
          "output_type": "execute_result",
          "data": {
            "text/plain": [
              "day\n",
              "Friday       21840\n",
              "Monday       21354\n",
              "Wednesday    18059\n",
              "Name: user_id, dtype: int64"
            ]
          },
          "metadata": {},
          "execution_count": 19
        }
      ],
      "source": [
        "df.groupby('day')['user_id'].count()"
      ]
    },
    {
      "cell_type": "markdown",
      "metadata": {
        "deletable": false,
        "editable": false,
        "id": "cC2tNrlL_Zcu"
      },
      "source": [
        "В среднем пользователи из двух городов менее активны по средам. Но картина может измениться, если рассмотреть каждый город в отдельности."
      ]
    },
    {
      "cell_type": "markdown",
      "metadata": {
        "deletable": false,
        "editable": false,
        "id": "POzs8bGa_Zcu",
        "tags": [
          "start_task"
        ]
      },
      "source": [
        "\n",
        "Увидел, как работает группировка по городу и по дням недели. Теперь напишу функцию, которая объединит два эти расчёта.\n",
        "\n",
        "Создаю функцию `number_tracks()`, которая посчитает прослушивания для заданного дня и города. Ей понадобятся два параметра:\n",
        "* день недели,\n",
        "* название города.\n",
        "\n",
        "В функции сохраню в переменную строки исходной таблицы, у которых значение:\n",
        "  * в колонке `day` равно параметру `day`,\n",
        "  * в колонке `city` равно параметру `city`.\n",
        "\n",
        "Для этого применю последовательную фильтрацию с логической индексацией.\n",
        "\n",
        "Затем посчитаю значения в столбце `user_id` получившейся таблицы. Результат сохраню в новую переменную. Верну эту переменную из функции."
      ]
    },
    {
      "cell_type": "code",
      "execution_count": 20,
      "metadata": {
        "deletable": false,
        "id": "Nz3GdQB1_Zcu"
      },
      "outputs": [],
      "source": [
        "def number_tracks(day,city):\n",
        "\n",
        "    track_list = df[df['day'] == day]\n",
        "    track_list = track_list[track_list['city'] == city]\n",
        "    track_list_count = track_list['user_id'].count()\n",
        "\n",
        "    return track_list_count"
      ]
    },
    {
      "cell_type": "markdown",
      "metadata": {
        "deletable": false,
        "editable": false,
        "id": "ytf7xFrFJQ2r",
        "tags": [
          "start_task"
        ]
      },
      "source": [
        "Вызываю `number_tracks()` шесть раз, меняя значение параметров — так, чтобы получить данные для каждого города в каждый из трёх дней."
      ]
    },
    {
      "cell_type": "code",
      "execution_count": 21,
      "metadata": {
        "deletable": false,
        "id": "rJcRATNQ_Zcu",
        "outputId": "c3af88dd-6478-4f44-d45d-b523b37b1e9c",
        "colab": {
          "base_uri": "https://localhost:8080/"
        }
      },
      "outputs": [
        {
          "output_type": "execute_result",
          "data": {
            "text/plain": [
              "15740"
            ]
          },
          "metadata": {},
          "execution_count": 21
        }
      ],
      "source": [
        "number_tracks('Monday', 'Moscow')"
      ]
    },
    {
      "cell_type": "code",
      "execution_count": 22,
      "metadata": {
        "deletable": false,
        "id": "hq_ncZ5T_Zcu",
        "outputId": "1e7ba17d-2af2-4e3b-8c88-ab4fe81f86f8",
        "colab": {
          "base_uri": "https://localhost:8080/"
        }
      },
      "outputs": [
        {
          "output_type": "execute_result",
          "data": {
            "text/plain": [
              "5614"
            ]
          },
          "metadata": {},
          "execution_count": 22
        }
      ],
      "source": [
        "number_tracks('Monday', 'Saint-Petersburg')"
      ]
    },
    {
      "cell_type": "code",
      "execution_count": 23,
      "metadata": {
        "deletable": false,
        "id": "_NTy2VPU_Zcu",
        "outputId": "ccdd7551-6bf7-4427-c7c5-7394742e4d4d",
        "colab": {
          "base_uri": "https://localhost:8080/"
        }
      },
      "outputs": [
        {
          "output_type": "execute_result",
          "data": {
            "text/plain": [
              "11056"
            ]
          },
          "metadata": {},
          "execution_count": 23
        }
      ],
      "source": [
        "number_tracks('Wednesday', 'Moscow')"
      ]
    },
    {
      "cell_type": "code",
      "execution_count": 24,
      "metadata": {
        "deletable": false,
        "id": "j2y3TAwo_Zcu",
        "outputId": "4e3bf57a-eb11-4bed-e6e7-f2cf22a28a27",
        "colab": {
          "base_uri": "https://localhost:8080/"
        }
      },
      "outputs": [
        {
          "output_type": "execute_result",
          "data": {
            "text/plain": [
              "7003"
            ]
          },
          "metadata": {},
          "execution_count": 24
        }
      ],
      "source": [
        "number_tracks('Wednesday', 'Saint-Petersburg')"
      ]
    },
    {
      "cell_type": "code",
      "execution_count": 25,
      "metadata": {
        "deletable": false,
        "id": "vYDw5u_K_Zcu",
        "outputId": "f473d972-ae8e-4ddc-c769-8f549630f904",
        "colab": {
          "base_uri": "https://localhost:8080/"
        }
      },
      "outputs": [
        {
          "output_type": "execute_result",
          "data": {
            "text/plain": [
              "15945"
            ]
          },
          "metadata": {},
          "execution_count": 25
        }
      ],
      "source": [
        "number_tracks('Friday', 'Moscow')"
      ]
    },
    {
      "cell_type": "code",
      "execution_count": 26,
      "metadata": {
        "deletable": false,
        "id": "8_yzFtW3_Zcu",
        "outputId": "e30442be-78ed-4e09-d892-97d4db34e96f",
        "colab": {
          "base_uri": "https://localhost:8080/"
        }
      },
      "outputs": [
        {
          "output_type": "execute_result",
          "data": {
            "text/plain": [
              "5895"
            ]
          },
          "metadata": {},
          "execution_count": 26
        }
      ],
      "source": [
        "number_tracks('Friday', 'Saint-Petersburg')"
      ]
    },
    {
      "cell_type": "markdown",
      "metadata": {
        "deletable": false,
        "editable": false,
        "id": "7QXffbO-_Zcu",
        "tags": [
          "start_task"
        ]
      },
      "source": [
        "Создаю c помощью конструктора `pd.DataFrame` таблицу, где\n",
        "* названия колонок — `['city', 'monday', 'wednesday', 'friday']`;\n",
        "* данные — результаты, которые я получил с помощью `number_tracks`."
      ]
    },
    {
      "cell_type": "code",
      "execution_count": 27,
      "metadata": {
        "deletable": false,
        "id": "APAcLpOr_Zcu",
        "outputId": "a4d5818a-1e5b-4455-eb73-4f0dede0b4c4",
        "colab": {
          "base_uri": "https://localhost:8080/",
          "height": 112
        }
      },
      "outputs": [
        {
          "output_type": "execute_result",
          "data": {
            "text/plain": [
              "              city  monday  wednesday  friday\n",
              "0           Москва   15740      11056   15945\n",
              "1  Санкт-Петербург    5614       7003    5895"
            ],
            "text/html": [
              "\n",
              "\n",
              "  <div id=\"df-a0e86013-a4c1-44cd-b021-a2f1b307f6a2\">\n",
              "    <div class=\"colab-df-container\">\n",
              "      <div>\n",
              "<style scoped>\n",
              "    .dataframe tbody tr th:only-of-type {\n",
              "        vertical-align: middle;\n",
              "    }\n",
              "\n",
              "    .dataframe tbody tr th {\n",
              "        vertical-align: top;\n",
              "    }\n",
              "\n",
              "    .dataframe thead th {\n",
              "        text-align: right;\n",
              "    }\n",
              "</style>\n",
              "<table border=\"1\" class=\"dataframe\">\n",
              "  <thead>\n",
              "    <tr style=\"text-align: right;\">\n",
              "      <th></th>\n",
              "      <th>city</th>\n",
              "      <th>monday</th>\n",
              "      <th>wednesday</th>\n",
              "      <th>friday</th>\n",
              "    </tr>\n",
              "  </thead>\n",
              "  <tbody>\n",
              "    <tr>\n",
              "      <th>0</th>\n",
              "      <td>Москва</td>\n",
              "      <td>15740</td>\n",
              "      <td>11056</td>\n",
              "      <td>15945</td>\n",
              "    </tr>\n",
              "    <tr>\n",
              "      <th>1</th>\n",
              "      <td>Санкт-Петербург</td>\n",
              "      <td>5614</td>\n",
              "      <td>7003</td>\n",
              "      <td>5895</td>\n",
              "    </tr>\n",
              "  </tbody>\n",
              "</table>\n",
              "</div>\n",
              "      <button class=\"colab-df-convert\" onclick=\"convertToInteractive('df-a0e86013-a4c1-44cd-b021-a2f1b307f6a2')\"\n",
              "              title=\"Convert this dataframe to an interactive table.\"\n",
              "              style=\"display:none;\">\n",
              "\n",
              "  <svg xmlns=\"http://www.w3.org/2000/svg\" height=\"24px\"viewBox=\"0 0 24 24\"\n",
              "       width=\"24px\">\n",
              "    <path d=\"M0 0h24v24H0V0z\" fill=\"none\"/>\n",
              "    <path d=\"M18.56 5.44l.94 2.06.94-2.06 2.06-.94-2.06-.94-.94-2.06-.94 2.06-2.06.94zm-11 1L8.5 8.5l.94-2.06 2.06-.94-2.06-.94L8.5 2.5l-.94 2.06-2.06.94zm10 10l.94 2.06.94-2.06 2.06-.94-2.06-.94-.94-2.06-.94 2.06-2.06.94z\"/><path d=\"M17.41 7.96l-1.37-1.37c-.4-.4-.92-.59-1.43-.59-.52 0-1.04.2-1.43.59L10.3 9.45l-7.72 7.72c-.78.78-.78 2.05 0 2.83L4 21.41c.39.39.9.59 1.41.59.51 0 1.02-.2 1.41-.59l7.78-7.78 2.81-2.81c.8-.78.8-2.07 0-2.86zM5.41 20L4 18.59l7.72-7.72 1.47 1.35L5.41 20z\"/>\n",
              "  </svg>\n",
              "      </button>\n",
              "\n",
              "\n",
              "\n",
              "    <div id=\"df-b3666c37-86a0-499a-8207-bc6e1a8f496a\">\n",
              "      <button class=\"colab-df-quickchart\" onclick=\"quickchart('df-b3666c37-86a0-499a-8207-bc6e1a8f496a')\"\n",
              "              title=\"Suggest charts.\"\n",
              "              style=\"display:none;\">\n",
              "\n",
              "<svg xmlns=\"http://www.w3.org/2000/svg\" height=\"24px\"viewBox=\"0 0 24 24\"\n",
              "     width=\"24px\">\n",
              "    <g>\n",
              "        <path d=\"M19 3H5c-1.1 0-2 .9-2 2v14c0 1.1.9 2 2 2h14c1.1 0 2-.9 2-2V5c0-1.1-.9-2-2-2zM9 17H7v-7h2v7zm4 0h-2V7h2v10zm4 0h-2v-4h2v4z\"/>\n",
              "    </g>\n",
              "</svg>\n",
              "      </button>\n",
              "    </div>\n",
              "\n",
              "<style>\n",
              "  .colab-df-quickchart {\n",
              "    background-color: #E8F0FE;\n",
              "    border: none;\n",
              "    border-radius: 50%;\n",
              "    cursor: pointer;\n",
              "    display: none;\n",
              "    fill: #1967D2;\n",
              "    height: 32px;\n",
              "    padding: 0 0 0 0;\n",
              "    width: 32px;\n",
              "  }\n",
              "\n",
              "  .colab-df-quickchart:hover {\n",
              "    background-color: #E2EBFA;\n",
              "    box-shadow: 0px 1px 2px rgba(60, 64, 67, 0.3), 0px 1px 3px 1px rgba(60, 64, 67, 0.15);\n",
              "    fill: #174EA6;\n",
              "  }\n",
              "\n",
              "  [theme=dark] .colab-df-quickchart {\n",
              "    background-color: #3B4455;\n",
              "    fill: #D2E3FC;\n",
              "  }\n",
              "\n",
              "  [theme=dark] .colab-df-quickchart:hover {\n",
              "    background-color: #434B5C;\n",
              "    box-shadow: 0px 1px 3px 1px rgba(0, 0, 0, 0.15);\n",
              "    filter: drop-shadow(0px 1px 2px rgba(0, 0, 0, 0.3));\n",
              "    fill: #FFFFFF;\n",
              "  }\n",
              "</style>\n",
              "\n",
              "    <script>\n",
              "      async function quickchart(key) {\n",
              "        const containerElement = document.querySelector('#' + key);\n",
              "        const charts = await google.colab.kernel.invokeFunction(\n",
              "            'suggestCharts', [key], {});\n",
              "      }\n",
              "    </script>\n",
              "\n",
              "      <script>\n",
              "\n",
              "function displayQuickchartButton(domScope) {\n",
              "  let quickchartButtonEl =\n",
              "    domScope.querySelector('#df-b3666c37-86a0-499a-8207-bc6e1a8f496a button.colab-df-quickchart');\n",
              "  quickchartButtonEl.style.display =\n",
              "    google.colab.kernel.accessAllowed ? 'block' : 'none';\n",
              "}\n",
              "\n",
              "        displayQuickchartButton(document);\n",
              "      </script>\n",
              "      <style>\n",
              "    .colab-df-container {\n",
              "      display:flex;\n",
              "      flex-wrap:wrap;\n",
              "      gap: 12px;\n",
              "    }\n",
              "\n",
              "    .colab-df-convert {\n",
              "      background-color: #E8F0FE;\n",
              "      border: none;\n",
              "      border-radius: 50%;\n",
              "      cursor: pointer;\n",
              "      display: none;\n",
              "      fill: #1967D2;\n",
              "      height: 32px;\n",
              "      padding: 0 0 0 0;\n",
              "      width: 32px;\n",
              "    }\n",
              "\n",
              "    .colab-df-convert:hover {\n",
              "      background-color: #E2EBFA;\n",
              "      box-shadow: 0px 1px 2px rgba(60, 64, 67, 0.3), 0px 1px 3px 1px rgba(60, 64, 67, 0.15);\n",
              "      fill: #174EA6;\n",
              "    }\n",
              "\n",
              "    [theme=dark] .colab-df-convert {\n",
              "      background-color: #3B4455;\n",
              "      fill: #D2E3FC;\n",
              "    }\n",
              "\n",
              "    [theme=dark] .colab-df-convert:hover {\n",
              "      background-color: #434B5C;\n",
              "      box-shadow: 0px 1px 3px 1px rgba(0, 0, 0, 0.15);\n",
              "      filter: drop-shadow(0px 1px 2px rgba(0, 0, 0, 0.3));\n",
              "      fill: #FFFFFF;\n",
              "    }\n",
              "  </style>\n",
              "\n",
              "      <script>\n",
              "        const buttonEl =\n",
              "          document.querySelector('#df-a0e86013-a4c1-44cd-b021-a2f1b307f6a2 button.colab-df-convert');\n",
              "        buttonEl.style.display =\n",
              "          google.colab.kernel.accessAllowed ? 'block' : 'none';\n",
              "\n",
              "        async function convertToInteractive(key) {\n",
              "          const element = document.querySelector('#df-a0e86013-a4c1-44cd-b021-a2f1b307f6a2');\n",
              "          const dataTable =\n",
              "            await google.colab.kernel.invokeFunction('convertToInteractive',\n",
              "                                                     [key], {});\n",
              "          if (!dataTable) return;\n",
              "\n",
              "          const docLinkHtml = 'Like what you see? Visit the ' +\n",
              "            '<a target=\"_blank\" href=https://colab.research.google.com/notebooks/data_table.ipynb>data table notebook</a>'\n",
              "            + ' to learn more about interactive tables.';\n",
              "          element.innerHTML = '';\n",
              "          dataTable['output_type'] = 'display_data';\n",
              "          await google.colab.output.renderOutput(dataTable, element);\n",
              "          const docLink = document.createElement('div');\n",
              "          docLink.innerHTML = docLinkHtml;\n",
              "          element.appendChild(docLink);\n",
              "        }\n",
              "      </script>\n",
              "    </div>\n",
              "  </div>\n"
            ]
          },
          "metadata": {},
          "execution_count": 27
        }
      ],
      "source": [
        "info = pd.DataFrame(data=[['Москва', 15740, 11056, 15945], ['Санкт-Петербург', 5614, 7003, 5895]], columns= ['city', 'monday', 'wednesday', 'friday'])\n",
        "info"
      ]
    },
    {
      "cell_type": "markdown",
      "metadata": {
        "deletable": false,
        "editable": false,
        "id": "-EgPIHYu_Zcu"
      },
      "source": [
        "**Выводы**\n",
        "\n",
        "Данные показывают разницу поведения пользователей:\n",
        "\n",
        "- В Москве пик прослушиваний приходится на понедельник и пятницу, а в среду заметен спад.\n",
        "- В Петербурге, наоборот, больше слушают музыку по средам. Активность в понедельник и пятницу здесь почти в равной мере уступает среде.\n",
        "\n",
        "Значит, данные говорят в пользу первой гипотезы."
      ]
    },
    {
      "cell_type": "markdown",
      "metadata": {
        "deletable": false,
        "editable": false,
        "id": "atZAxtq4_Zcu"
      },
      "source": [
        "### Музыка в начале и в конце недели"
      ]
    },
    {
      "cell_type": "markdown",
      "metadata": {
        "deletable": false,
        "editable": false,
        "id": "eXrQqXFH_Zcu"
      },
      "source": [
        "Согласно второй гипотезе, утром в понедельник в Москве преобладают одни жанры, а в Петербурге — другие. Так же и вечером пятницы преобладают разные жанры — в зависимости от города."
      ]
    },
    {
      "cell_type": "markdown",
      "metadata": {
        "deletable": false,
        "editable": false,
        "id": "S8UcW6Hw_Zcu",
        "tags": [
          "start_task"
        ]
      },
      "source": [
        "Сохраню таблицы с данными в две переменные:\n",
        "* по Москве — в `moscow_general`;\n",
        "* по Санкт-Петербургу — в `spb_general`."
      ]
    },
    {
      "cell_type": "code",
      "execution_count": 28,
      "metadata": {
        "deletable": false,
        "id": "qeaFfM_P_Zcu"
      },
      "outputs": [],
      "source": [
        "moscow_general = df[df['city'] == 'Moscow']"
      ]
    },
    {
      "cell_type": "code",
      "execution_count": 29,
      "metadata": {
        "deletable": false,
        "id": "ORaVRKto_Zcu"
      },
      "outputs": [],
      "source": [
        "spb_general = df[df['city'] == 'Saint-Petersburg']"
      ]
    },
    {
      "cell_type": "markdown",
      "metadata": {
        "deletable": false,
        "id": "MEJV-CX2_Zcu",
        "tags": [
          "start_task"
        ]
      },
      "source": [
        "Создаю функцию `genre_weekday()` с четырьмя параметрами:\n",
        "* таблица (датафрейм) с данными,\n",
        "* день недели,\n",
        "* начальная временная метка в формате 'hh:mm',\n",
        "* последняя временная метка в формате 'hh:mm'.\n",
        "\n",
        "Функция должна вернуть информацию о топ-10 жанров тех треков, которые прослушивали в указанный день, в промежутке между двумя отметками времени."
      ]
    },
    {
      "cell_type": "code",
      "execution_count": 30,
      "metadata": {
        "deletable": false,
        "id": "laJT9BYl_Zcu"
      },
      "outputs": [],
      "source": [
        "def genre_weekday(df, day, time1, time2):\n",
        "\n",
        "    genre_df = df[df['day'] == day]\n",
        "    genre_df = genre_df[genre_df['time'] < time2]\n",
        "    genre_df = genre_df[genre_df['time'] > time1]\n",
        "    genre_df_grouped = genre_df.groupby('genre')['genre'].count()\n",
        "    genre_df_sorted = genre_df_grouped.sort_values(ascending=False)\n",
        "\n",
        "    return genre_df_sorted[:10]"
      ]
    },
    {
      "cell_type": "markdown",
      "metadata": {
        "deletable": false,
        "editable": false,
        "id": "la2s2_PF_Zcu",
        "tags": [
          "start_task"
        ]
      },
      "source": [
        "Cравню результаты функции `genre_weekday()` для Москвы и Санкт-Петербурга в понедельник утром (с 7:00 до 11:00) и в пятницу вечером (с 17:00 до 23:00):"
      ]
    },
    {
      "cell_type": "code",
      "execution_count": 31,
      "metadata": {
        "deletable": false,
        "id": "yz7itPUQ_Zcu",
        "outputId": "f07ef704-8461-4fd0-c6c0-e8b15a61646a",
        "colab": {
          "base_uri": "https://localhost:8080/"
        }
      },
      "outputs": [
        {
          "output_type": "execute_result",
          "data": {
            "text/plain": [
              "genre\n",
              "pop            781\n",
              "dance          549\n",
              "electronic     480\n",
              "rock           474\n",
              "hiphop         286\n",
              "ruspop         186\n",
              "world          181\n",
              "rusrap         175\n",
              "alternative    164\n",
              "unknown        161\n",
              "Name: genre, dtype: int64"
            ]
          },
          "metadata": {},
          "execution_count": 31
        }
      ],
      "source": [
        "genre_weekday(moscow_general, 'Monday', '07:00', '11:00')"
      ]
    },
    {
      "cell_type": "code",
      "execution_count": 32,
      "metadata": {
        "deletable": false,
        "id": "kwUcHPdy_Zcu",
        "outputId": "2e0e51b2-97c1-4578-8b60-9bc64fbbdbf3",
        "colab": {
          "base_uri": "https://localhost:8080/"
        }
      },
      "outputs": [
        {
          "output_type": "execute_result",
          "data": {
            "text/plain": [
              "genre\n",
              "pop            218\n",
              "dance          182\n",
              "rock           162\n",
              "electronic     147\n",
              "hiphop          80\n",
              "ruspop          64\n",
              "alternative     58\n",
              "rusrap          55\n",
              "jazz            44\n",
              "classical       40\n",
              "Name: genre, dtype: int64"
            ]
          },
          "metadata": {},
          "execution_count": 32
        }
      ],
      "source": [
        "genre_weekday(spb_general, 'Monday', '07:00', '11:00')"
      ]
    },
    {
      "cell_type": "code",
      "execution_count": 33,
      "metadata": {
        "deletable": false,
        "id": "EzXVRE1o_Zcu",
        "outputId": "68b4e9b6-9cf0-4cb9-cd7f-056ed896bc61",
        "colab": {
          "base_uri": "https://localhost:8080/"
        }
      },
      "outputs": [
        {
          "output_type": "execute_result",
          "data": {
            "text/plain": [
              "genre\n",
              "pop            713\n",
              "rock           517\n",
              "dance          495\n",
              "electronic     482\n",
              "hiphop         273\n",
              "world          208\n",
              "ruspop         170\n",
              "alternative    163\n",
              "classical      163\n",
              "rusrap         142\n",
              "Name: genre, dtype: int64"
            ]
          },
          "metadata": {},
          "execution_count": 33
        }
      ],
      "source": [
        "genre_weekday(moscow_general, 'Friday', '17:00', '23:00')"
      ]
    },
    {
      "cell_type": "code",
      "execution_count": 34,
      "metadata": {
        "deletable": false,
        "id": "JZaEKu5v_Zcu",
        "outputId": "6586f512-452a-488d-a719-698c0a72223b",
        "colab": {
          "base_uri": "https://localhost:8080/"
        }
      },
      "outputs": [
        {
          "output_type": "execute_result",
          "data": {
            "text/plain": [
              "genre\n",
              "pop            256\n",
              "electronic     216\n",
              "rock           216\n",
              "dance          210\n",
              "hiphop          97\n",
              "alternative     63\n",
              "jazz            61\n",
              "classical       60\n",
              "rusrap          59\n",
              "world           54\n",
              "Name: genre, dtype: int64"
            ]
          },
          "metadata": {},
          "execution_count": 34
        }
      ],
      "source": [
        "genre_weekday(spb_general, 'Friday', '17:00', '23:00')"
      ]
    },
    {
      "cell_type": "markdown",
      "metadata": {
        "deletable": false,
        "editable": false,
        "id": "wrCe4MNX_Zcu"
      },
      "source": [
        "**Выводы**\n",
        "\n",
        "Если сравнить топ-10 жанров в понедельник утром, можно сделать такие выводы:\n",
        "\n",
        "1. В Москве и Петербурге слушают похожую музыку. Единственное отличие — в московский рейтинг вошёл жанр “world”, а в петербургский — джаз и классика.\n",
        "\n",
        "2. В Москве пропущенных значений оказалось так много, что значение `'unknown'` заняло десятое место среди самых популярных жанров. Значит, пропущенные значения занимают существенную долю в данных и угрожают достоверности исследования.\n",
        "\n",
        "Вечер пятницы не меняет эту картину. Некоторые жанры поднимаются немного выше, другие спускаются, но в целом топ-10 остаётся тем же самым.\n",
        "\n",
        "Таким образом, вторая гипотеза подтвердилась лишь частично:\n",
        "* Пользователи слушают похожую музыку в начале недели и в конце.\n",
        "* Разница между Москвой и Петербургом не слишком выражена. В Москве чаще слушают русскую популярную музыку, в Петербурге — джаз.\n",
        "\n",
        "Однако пропуски в данных ставят под сомнение этот результат. В Москве их так много, что рейтинг топ-10 мог бы выглядеть иначе, если бы не утерянные  данные о жанрах."
      ]
    },
    {
      "cell_type": "markdown",
      "metadata": {
        "deletable": false,
        "editable": false,
        "id": "JolODAqr_Zcu"
      },
      "source": [
        "### Жанровые предпочтения в Москве и Петербурге\n",
        "\n",
        "Гипотеза: Петербург — столица рэпа, музыку этого жанра там слушают чаще, чем в Москве.  А Москва — город контрастов, в котором, тем не менее, преобладает поп-музыка."
      ]
    },
    {
      "cell_type": "markdown",
      "metadata": {
        "deletable": false,
        "editable": false,
        "id": "DlegSvaT_Zcu",
        "tags": [
          "start_task"
        ]
      },
      "source": [
        "Сгруппирую таблицу `moscow_general` по жанру и посчитаю прослушивания треков каждого жанра методом `count()`. Затем отсортирую результат в порядке убывания и сохраню его в таблице `moscow_genres`."
      ]
    },
    {
      "cell_type": "code",
      "execution_count": 35,
      "metadata": {
        "deletable": false,
        "id": "r19lIPke_Zcu"
      },
      "outputs": [],
      "source": [
        "moscow_genres = moscow_general.groupby('genre')['genre'].count().sort_values(ascending=False)"
      ]
    },
    {
      "cell_type": "markdown",
      "metadata": {
        "deletable": false,
        "editable": false,
        "id": "6kMuomxTiIr8",
        "tags": [
          "start_task"
        ]
      },
      "source": [
        "Выведу на экран первые десять строк `moscow_genres`:"
      ]
    },
    {
      "cell_type": "code",
      "execution_count": 36,
      "metadata": {
        "deletable": false,
        "id": "WhCSooF8_Zcv",
        "outputId": "566524f6-c214-4f00-fa1b-5800daefd19d",
        "colab": {
          "base_uri": "https://localhost:8080/"
        }
      },
      "outputs": [
        {
          "output_type": "execute_result",
          "data": {
            "text/plain": [
              "genre\n",
              "pop            5892\n",
              "dance          4435\n",
              "rock           3965\n",
              "electronic     3786\n",
              "hiphop         2096\n",
              "classical      1616\n",
              "world          1432\n",
              "alternative    1379\n",
              "ruspop         1372\n",
              "rusrap         1161\n",
              "Name: genre, dtype: int64"
            ]
          },
          "metadata": {},
          "execution_count": 36
        }
      ],
      "source": [
        "moscow_genres.head(10)"
      ]
    },
    {
      "cell_type": "markdown",
      "metadata": {
        "deletable": false,
        "editable": false,
        "id": "cnPG2vnN_Zcv",
        "tags": [
          "start_task"
        ]
      },
      "source": [
        "Теперь повторю то же и для Петербурга.\n",
        "\n",
        "Сгруппирую таблицу `spb_general` по жанру. Посчитаю прослушивания треков каждого жанра. Результат отсортирую в порядке убывания и сохраню в таблице `spb_genres`:\n"
      ]
    },
    {
      "cell_type": "code",
      "execution_count": 37,
      "metadata": {
        "deletable": false,
        "id": "gluLIpE7_Zcv"
      },
      "outputs": [],
      "source": [
        "spb_genres = spb_general.groupby('genre')['genre'].count().sort_values(ascending=False)"
      ]
    },
    {
      "cell_type": "markdown",
      "metadata": {
        "deletable": false,
        "editable": false,
        "id": "5Doha_ODgyQ8",
        "tags": [
          "start_task"
        ]
      },
      "source": [
        "Выведу на экран первые десять строк `spb_genres`:"
      ]
    },
    {
      "cell_type": "code",
      "execution_count": 38,
      "metadata": {
        "deletable": false,
        "id": "uaGJHjVU_Zcv",
        "outputId": "87041e2b-2ad5-4457-f464-30e3c71cc46d",
        "colab": {
          "base_uri": "https://localhost:8080/"
        }
      },
      "outputs": [
        {
          "output_type": "execute_result",
          "data": {
            "text/plain": [
              "genre\n",
              "pop            2431\n",
              "dance          1932\n",
              "rock           1879\n",
              "electronic     1736\n",
              "hiphop          960\n",
              "alternative     649\n",
              "classical       646\n",
              "rusrap          564\n",
              "ruspop          538\n",
              "world           515\n",
              "Name: genre, dtype: int64"
            ]
          },
          "metadata": {},
          "execution_count": 38
        }
      ],
      "source": [
        "spb_genres.head(10)"
      ]
    },
    {
      "cell_type": "markdown",
      "metadata": {
        "deletable": false,
        "editable": false,
        "id": "RY51YJYu_Zcv"
      },
      "source": [
        "**Выводы**"
      ]
    },
    {
      "cell_type": "markdown",
      "metadata": {
        "deletable": false,
        "editable": false,
        "id": "nVhnJEm__Zcv"
      },
      "source": [
        "Гипотеза частично подтвердилась:\n",
        "* Поп-музыка — самый популярный жанр в Москве, как и предполагала гипотеза. Более того, в топ-10 жанров встречается близкий жанр — русская популярная музыка.\n",
        "* Вопреки ожиданиям, рэп одинаково популярен в Москве и Петербурге.\n"
      ]
    },
    {
      "cell_type": "markdown",
      "metadata": {
        "deletable": false,
        "editable": false,
        "id": "ykKQ0N65_Zcv"
      },
      "source": [
        "## Итоги исследования"
      ]
    },
    {
      "cell_type": "markdown",
      "metadata": {
        "deletable": false,
        "editable": false,
        "id": "tjUwbHb3_Zcv"
      },
      "source": [
        "Я проверил три гипотезы и установил:\n",
        "\n",
        "1. День недели по-разному влияет на активность пользователей в Москве и Петербурге.\n",
        "\n",
        "Первая гипотеза полностью подтвердилась.\n",
        "\n",
        "2. Музыкальные предпочтения не сильно меняются в течение недели — будь то Москва или Петербург. Небольшие различия заметны в начале недели, по понедельникам:\n",
        "* в Москве слушают музыку жанра “world”,\n",
        "* в Петербурге — джаз и классику.\n",
        "\n",
        "Таким образом, вторая гипотеза подтвердилась лишь отчасти. Этот результат мог оказаться иным, если бы не пропуски в данных.\n",
        "\n",
        "3. Во вкусах пользователей Москвы и Петербурга больше общего чем различий. Вопреки ожиданиям, предпочтения жанров в Петербурге напоминают московские.\n",
        "\n",
        "Третья гипотеза не подтвердилась. Если различия в предпочтениях и существуют, на основной массе пользователей они незаметны."
      ]
    }
  ],
  "metadata": {
    "ExecuteTimeLog": [
      {
        "duration": 4,
        "start_time": "2023-02-26T11:50:16.902Z"
      },
      {
        "duration": 6,
        "start_time": "2023-02-26T11:50:16.907Z"
      },
      {
        "duration": 8,
        "start_time": "2023-02-26T11:50:16.914Z"
      },
      {
        "duration": 6,
        "start_time": "2023-02-26T11:50:16.924Z"
      },
      {
        "duration": 6,
        "start_time": "2023-02-26T11:50:16.931Z"
      },
      {
        "duration": 6,
        "start_time": "2023-02-26T11:50:16.939Z"
      },
      {
        "duration": 8,
        "start_time": "2023-02-26T11:50:16.947Z"
      },
      {
        "duration": 9,
        "start_time": "2023-02-26T11:50:16.956Z"
      },
      {
        "duration": 7,
        "start_time": "2023-02-26T11:50:16.966Z"
      },
      {
        "duration": 8,
        "start_time": "2023-02-26T11:50:16.976Z"
      },
      {
        "duration": 2,
        "start_time": "2023-02-26T11:50:17.064Z"
      },
      {
        "duration": 11,
        "start_time": "2023-02-26T11:50:17.068Z"
      },
      {
        "duration": 5,
        "start_time": "2023-02-26T11:50:17.081Z"
      },
      {
        "duration": 5,
        "start_time": "2023-02-26T11:50:17.087Z"
      },
      {
        "duration": 6,
        "start_time": "2023-02-26T11:50:17.094Z"
      },
      {
        "duration": 4,
        "start_time": "2023-02-26T11:50:17.102Z"
      },
      {
        "duration": 7,
        "start_time": "2023-02-26T11:50:17.108Z"
      },
      {
        "duration": 5,
        "start_time": "2023-02-26T11:50:17.117Z"
      },
      {
        "duration": 5,
        "start_time": "2023-02-26T11:50:17.123Z"
      },
      {
        "duration": 5,
        "start_time": "2023-02-26T11:50:17.129Z"
      },
      {
        "duration": 5,
        "start_time": "2023-02-26T11:50:17.135Z"
      },
      {
        "duration": 4,
        "start_time": "2023-02-26T11:50:17.142Z"
      },
      {
        "duration": 6,
        "start_time": "2023-02-26T11:50:17.147Z"
      },
      {
        "duration": 5,
        "start_time": "2023-02-26T11:50:17.155Z"
      },
      {
        "duration": 6,
        "start_time": "2023-02-26T11:50:17.161Z"
      },
      {
        "duration": 4,
        "start_time": "2023-02-26T11:50:17.169Z"
      },
      {
        "duration": 5,
        "start_time": "2023-02-26T11:50:17.174Z"
      },
      {
        "duration": 8,
        "start_time": "2023-02-26T11:50:17.180Z"
      },
      {
        "duration": 6,
        "start_time": "2023-02-26T11:50:17.189Z"
      },
      {
        "duration": 149,
        "start_time": "2023-02-26T11:50:17.197Z"
      },
      {
        "duration": 0,
        "start_time": "2023-02-26T11:50:17.348Z"
      },
      {
        "duration": 0,
        "start_time": "2023-02-26T11:50:17.349Z"
      },
      {
        "duration": 0,
        "start_time": "2023-02-26T11:50:17.350Z"
      },
      {
        "duration": 0,
        "start_time": "2023-02-26T11:50:17.351Z"
      },
      {
        "duration": 0,
        "start_time": "2023-02-26T11:50:17.352Z"
      },
      {
        "duration": 0,
        "start_time": "2023-02-26T11:50:17.353Z"
      },
      {
        "duration": 0,
        "start_time": "2023-02-26T11:50:17.354Z"
      },
      {
        "duration": 0,
        "start_time": "2023-02-26T11:50:17.356Z"
      },
      {
        "duration": 168,
        "start_time": "2023-02-26T11:51:15.440Z"
      },
      {
        "duration": 42,
        "start_time": "2023-02-26T11:51:22.356Z"
      },
      {
        "duration": 5,
        "start_time": "2023-02-26T11:52:39.531Z"
      },
      {
        "duration": 418,
        "start_time": "2023-02-26T12:01:28.306Z"
      },
      {
        "duration": 487,
        "start_time": "2023-02-26T12:01:28.726Z"
      },
      {
        "duration": 19,
        "start_time": "2023-02-26T12:01:29.215Z"
      },
      {
        "duration": 44,
        "start_time": "2023-02-26T12:01:29.236Z"
      },
      {
        "duration": 8,
        "start_time": "2023-02-26T12:01:29.281Z"
      },
      {
        "duration": 39,
        "start_time": "2023-02-26T12:01:29.291Z"
      },
      {
        "duration": 0,
        "start_time": "2023-02-26T12:01:29.333Z"
      },
      {
        "duration": 0,
        "start_time": "2023-02-26T12:01:29.335Z"
      },
      {
        "duration": 0,
        "start_time": "2023-02-26T12:01:29.336Z"
      },
      {
        "duration": 0,
        "start_time": "2023-02-26T12:01:29.337Z"
      },
      {
        "duration": 0,
        "start_time": "2023-02-26T12:01:29.339Z"
      },
      {
        "duration": 0,
        "start_time": "2023-02-26T12:01:29.340Z"
      },
      {
        "duration": 0,
        "start_time": "2023-02-26T12:01:29.341Z"
      },
      {
        "duration": 0,
        "start_time": "2023-02-26T12:01:29.343Z"
      },
      {
        "duration": 0,
        "start_time": "2023-02-26T12:01:29.344Z"
      },
      {
        "duration": 0,
        "start_time": "2023-02-26T12:01:29.345Z"
      },
      {
        "duration": 0,
        "start_time": "2023-02-26T12:01:29.346Z"
      },
      {
        "duration": 0,
        "start_time": "2023-02-26T12:01:29.347Z"
      },
      {
        "duration": 0,
        "start_time": "2023-02-26T12:01:29.348Z"
      },
      {
        "duration": 0,
        "start_time": "2023-02-26T12:01:29.349Z"
      },
      {
        "duration": 0,
        "start_time": "2023-02-26T12:01:29.350Z"
      },
      {
        "duration": 0,
        "start_time": "2023-02-26T12:01:29.352Z"
      },
      {
        "duration": 0,
        "start_time": "2023-02-26T12:01:29.353Z"
      },
      {
        "duration": 0,
        "start_time": "2023-02-26T12:01:29.354Z"
      },
      {
        "duration": 0,
        "start_time": "2023-02-26T12:01:29.355Z"
      },
      {
        "duration": 0,
        "start_time": "2023-02-26T12:01:29.356Z"
      },
      {
        "duration": 0,
        "start_time": "2023-02-26T12:01:29.357Z"
      },
      {
        "duration": 0,
        "start_time": "2023-02-26T12:01:29.359Z"
      },
      {
        "duration": 0,
        "start_time": "2023-02-26T12:01:29.360Z"
      },
      {
        "duration": 0,
        "start_time": "2023-02-26T12:01:29.361Z"
      },
      {
        "duration": 0,
        "start_time": "2023-02-26T12:01:29.362Z"
      },
      {
        "duration": 0,
        "start_time": "2023-02-26T12:01:29.363Z"
      },
      {
        "duration": 0,
        "start_time": "2023-02-26T12:01:29.365Z"
      },
      {
        "duration": 0,
        "start_time": "2023-02-26T12:01:29.366Z"
      },
      {
        "duration": 0,
        "start_time": "2023-02-26T12:01:29.368Z"
      },
      {
        "duration": 0,
        "start_time": "2023-02-26T12:01:29.421Z"
      },
      {
        "duration": 0,
        "start_time": "2023-02-26T12:01:29.422Z"
      },
      {
        "duration": 0,
        "start_time": "2023-02-26T12:01:29.423Z"
      },
      {
        "duration": 2,
        "start_time": "2023-02-26T12:02:22.768Z"
      },
      {
        "duration": 221,
        "start_time": "2023-02-26T12:02:22.773Z"
      },
      {
        "duration": 11,
        "start_time": "2023-02-26T12:02:22.996Z"
      },
      {
        "duration": 45,
        "start_time": "2023-02-26T12:02:23.008Z"
      },
      {
        "duration": 2,
        "start_time": "2023-02-26T12:02:23.055Z"
      },
      {
        "duration": 12,
        "start_time": "2023-02-26T12:02:23.059Z"
      },
      {
        "duration": 23,
        "start_time": "2023-02-26T12:02:23.073Z"
      },
      {
        "duration": 0,
        "start_time": "2023-02-26T12:02:23.098Z"
      },
      {
        "duration": 0,
        "start_time": "2023-02-26T12:02:23.100Z"
      },
      {
        "duration": 0,
        "start_time": "2023-02-26T12:02:23.101Z"
      },
      {
        "duration": 0,
        "start_time": "2023-02-26T12:02:23.102Z"
      },
      {
        "duration": 0,
        "start_time": "2023-02-26T12:02:23.103Z"
      },
      {
        "duration": 0,
        "start_time": "2023-02-26T12:02:23.104Z"
      },
      {
        "duration": 0,
        "start_time": "2023-02-26T12:02:23.122Z"
      },
      {
        "duration": 0,
        "start_time": "2023-02-26T12:02:23.123Z"
      },
      {
        "duration": 0,
        "start_time": "2023-02-26T12:02:23.126Z"
      },
      {
        "duration": 0,
        "start_time": "2023-02-26T12:02:23.127Z"
      },
      {
        "duration": 0,
        "start_time": "2023-02-26T12:02:23.128Z"
      },
      {
        "duration": 0,
        "start_time": "2023-02-26T12:02:23.129Z"
      },
      {
        "duration": 0,
        "start_time": "2023-02-26T12:02:23.131Z"
      },
      {
        "duration": 0,
        "start_time": "2023-02-26T12:02:23.133Z"
      },
      {
        "duration": 0,
        "start_time": "2023-02-26T12:02:23.134Z"
      },
      {
        "duration": 0,
        "start_time": "2023-02-26T12:02:23.136Z"
      },
      {
        "duration": 0,
        "start_time": "2023-02-26T12:02:23.137Z"
      },
      {
        "duration": 0,
        "start_time": "2023-02-26T12:02:23.139Z"
      },
      {
        "duration": 0,
        "start_time": "2023-02-26T12:02:23.141Z"
      },
      {
        "duration": 0,
        "start_time": "2023-02-26T12:02:23.142Z"
      },
      {
        "duration": 0,
        "start_time": "2023-02-26T12:02:23.143Z"
      },
      {
        "duration": 0,
        "start_time": "2023-02-26T12:02:23.144Z"
      },
      {
        "duration": 0,
        "start_time": "2023-02-26T12:02:23.146Z"
      },
      {
        "duration": 0,
        "start_time": "2023-02-26T12:02:23.147Z"
      },
      {
        "duration": 0,
        "start_time": "2023-02-26T12:02:23.148Z"
      },
      {
        "duration": 0,
        "start_time": "2023-02-26T12:02:23.149Z"
      },
      {
        "duration": 0,
        "start_time": "2023-02-26T12:02:23.150Z"
      },
      {
        "duration": 0,
        "start_time": "2023-02-26T12:02:23.151Z"
      },
      {
        "duration": 0,
        "start_time": "2023-02-26T12:02:23.153Z"
      },
      {
        "duration": 0,
        "start_time": "2023-02-26T12:02:23.153Z"
      },
      {
        "duration": 0,
        "start_time": "2023-02-26T12:02:23.154Z"
      },
      {
        "duration": 13,
        "start_time": "2023-02-26T12:02:45.052Z"
      },
      {
        "duration": 6,
        "start_time": "2023-02-26T12:02:48.204Z"
      },
      {
        "duration": 6,
        "start_time": "2023-02-26T12:02:55.862Z"
      },
      {
        "duration": 29,
        "start_time": "2023-02-26T12:03:58.939Z"
      },
      {
        "duration": 26,
        "start_time": "2023-02-26T12:13:42.052Z"
      },
      {
        "duration": 3,
        "start_time": "2023-02-26T12:15:16.374Z"
      },
      {
        "duration": 207,
        "start_time": "2023-02-26T12:15:16.383Z"
      },
      {
        "duration": 11,
        "start_time": "2023-02-26T12:15:16.592Z"
      },
      {
        "duration": 45,
        "start_time": "2023-02-26T12:15:16.605Z"
      },
      {
        "duration": 2,
        "start_time": "2023-02-26T12:15:16.652Z"
      },
      {
        "duration": 12,
        "start_time": "2023-02-26T12:15:16.656Z"
      },
      {
        "duration": 12,
        "start_time": "2023-02-26T12:15:16.669Z"
      },
      {
        "duration": 4,
        "start_time": "2023-02-26T12:15:16.683Z"
      },
      {
        "duration": 48,
        "start_time": "2023-02-26T12:15:16.689Z"
      },
      {
        "duration": 21,
        "start_time": "2023-02-26T12:15:16.739Z"
      },
      {
        "duration": 29,
        "start_time": "2023-02-26T12:15:16.763Z"
      },
      {
        "duration": 28,
        "start_time": "2023-02-26T12:15:16.793Z"
      },
      {
        "duration": 3,
        "start_time": "2023-02-26T12:15:16.822Z"
      },
      {
        "duration": 4,
        "start_time": "2023-02-26T12:15:16.827Z"
      },
      {
        "duration": 8,
        "start_time": "2023-02-26T12:15:16.832Z"
      },
      {
        "duration": 4,
        "start_time": "2023-02-26T12:15:16.842Z"
      },
      {
        "duration": 7,
        "start_time": "2023-02-26T12:15:16.848Z"
      },
      {
        "duration": 6,
        "start_time": "2023-02-26T12:15:16.856Z"
      },
      {
        "duration": 7,
        "start_time": "2023-02-26T12:15:16.864Z"
      },
      {
        "duration": 8,
        "start_time": "2023-02-26T12:15:16.873Z"
      },
      {
        "duration": 10,
        "start_time": "2023-02-26T12:15:16.882Z"
      },
      {
        "duration": 7,
        "start_time": "2023-02-26T12:15:16.893Z"
      },
      {
        "duration": 15,
        "start_time": "2023-02-26T12:15:16.902Z"
      },
      {
        "duration": 11,
        "start_time": "2023-02-26T12:15:16.919Z"
      },
      {
        "duration": 7,
        "start_time": "2023-02-26T12:15:16.931Z"
      },
      {
        "duration": 5,
        "start_time": "2023-02-26T12:15:16.940Z"
      },
      {
        "duration": 5,
        "start_time": "2023-02-26T12:15:16.946Z"
      },
      {
        "duration": 5,
        "start_time": "2023-02-26T12:15:16.953Z"
      },
      {
        "duration": 6,
        "start_time": "2023-02-26T12:15:16.962Z"
      },
      {
        "duration": 101,
        "start_time": "2023-02-26T12:15:16.970Z"
      },
      {
        "duration": 0,
        "start_time": "2023-02-26T12:15:17.074Z"
      },
      {
        "duration": 0,
        "start_time": "2023-02-26T12:15:17.076Z"
      },
      {
        "duration": 0,
        "start_time": "2023-02-26T12:15:17.078Z"
      },
      {
        "duration": 0,
        "start_time": "2023-02-26T12:15:17.079Z"
      },
      {
        "duration": 0,
        "start_time": "2023-02-26T12:15:17.081Z"
      },
      {
        "duration": 0,
        "start_time": "2023-02-26T12:15:17.083Z"
      },
      {
        "duration": 0,
        "start_time": "2023-02-26T12:15:17.084Z"
      },
      {
        "duration": 0,
        "start_time": "2023-02-26T12:15:17.085Z"
      },
      {
        "duration": 10,
        "start_time": "2023-02-26T12:15:49.719Z"
      },
      {
        "duration": 68,
        "start_time": "2023-02-26T12:16:39.381Z"
      },
      {
        "duration": 76,
        "start_time": "2023-02-26T12:17:24.615Z"
      },
      {
        "duration": 73,
        "start_time": "2023-02-26T12:18:40.080Z"
      },
      {
        "duration": 67,
        "start_time": "2023-02-26T12:19:13.039Z"
      },
      {
        "duration": 9,
        "start_time": "2023-02-26T12:21:05.022Z"
      },
      {
        "duration": 39,
        "start_time": "2023-02-26T12:22:00.171Z"
      },
      {
        "duration": 7,
        "start_time": "2023-02-26T12:22:03.843Z"
      },
      {
        "duration": 2,
        "start_time": "2023-02-26T12:22:36.327Z"
      },
      {
        "duration": 185,
        "start_time": "2023-02-26T12:22:36.338Z"
      },
      {
        "duration": 11,
        "start_time": "2023-02-26T12:22:36.525Z"
      },
      {
        "duration": 33,
        "start_time": "2023-02-26T12:22:36.537Z"
      },
      {
        "duration": 3,
        "start_time": "2023-02-26T12:22:36.571Z"
      },
      {
        "duration": 6,
        "start_time": "2023-02-26T12:22:36.576Z"
      },
      {
        "duration": 38,
        "start_time": "2023-02-26T12:22:36.584Z"
      },
      {
        "duration": 11,
        "start_time": "2023-02-26T12:22:36.623Z"
      },
      {
        "duration": 36,
        "start_time": "2023-02-26T12:22:36.636Z"
      },
      {
        "duration": 19,
        "start_time": "2023-02-26T12:22:36.673Z"
      },
      {
        "duration": 36,
        "start_time": "2023-02-26T12:22:36.694Z"
      },
      {
        "duration": 65,
        "start_time": "2023-02-26T12:22:36.732Z"
      },
      {
        "duration": 83,
        "start_time": "2023-02-26T12:22:36.798Z"
      },
      {
        "duration": 71,
        "start_time": "2023-02-26T12:22:36.883Z"
      },
      {
        "duration": 44,
        "start_time": "2023-02-26T12:22:36.958Z"
      },
      {
        "duration": 2,
        "start_time": "2023-02-26T12:22:37.004Z"
      },
      {
        "duration": 5,
        "start_time": "2023-02-26T12:22:37.021Z"
      },
      {
        "duration": 5,
        "start_time": "2023-02-26T12:22:37.028Z"
      },
      {
        "duration": 6,
        "start_time": "2023-02-26T12:22:37.034Z"
      },
      {
        "duration": 9,
        "start_time": "2023-02-26T12:22:37.042Z"
      },
      {
        "duration": 11,
        "start_time": "2023-02-26T12:22:37.054Z"
      },
      {
        "duration": 5,
        "start_time": "2023-02-26T12:22:37.067Z"
      },
      {
        "duration": 7,
        "start_time": "2023-02-26T12:22:37.074Z"
      },
      {
        "duration": 18,
        "start_time": "2023-02-26T12:22:37.093Z"
      },
      {
        "duration": 26,
        "start_time": "2023-02-26T12:22:37.113Z"
      },
      {
        "duration": 6,
        "start_time": "2023-02-26T12:22:37.141Z"
      },
      {
        "duration": 5,
        "start_time": "2023-02-26T12:22:37.148Z"
      },
      {
        "duration": 4,
        "start_time": "2023-02-26T12:22:37.155Z"
      },
      {
        "duration": 4,
        "start_time": "2023-02-26T12:22:37.163Z"
      },
      {
        "duration": 73,
        "start_time": "2023-02-26T12:22:37.169Z"
      },
      {
        "duration": 0,
        "start_time": "2023-02-26T12:22:37.244Z"
      },
      {
        "duration": 0,
        "start_time": "2023-02-26T12:22:37.245Z"
      },
      {
        "duration": 0,
        "start_time": "2023-02-26T12:22:37.246Z"
      },
      {
        "duration": 0,
        "start_time": "2023-02-26T12:22:37.247Z"
      },
      {
        "duration": 0,
        "start_time": "2023-02-26T12:22:37.248Z"
      },
      {
        "duration": 0,
        "start_time": "2023-02-26T12:22:37.249Z"
      },
      {
        "duration": 1,
        "start_time": "2023-02-26T12:22:37.250Z"
      },
      {
        "duration": 0,
        "start_time": "2023-02-26T12:22:37.252Z"
      },
      {
        "duration": 10,
        "start_time": "2023-02-26T12:22:53.841Z"
      },
      {
        "duration": 8,
        "start_time": "2023-02-26T12:26:08.170Z"
      },
      {
        "duration": 7,
        "start_time": "2023-02-26T12:26:18.914Z"
      },
      {
        "duration": 401,
        "start_time": "2023-02-26T12:26:27.351Z"
      },
      {
        "duration": 182,
        "start_time": "2023-02-26T12:26:27.754Z"
      },
      {
        "duration": 17,
        "start_time": "2023-02-26T12:26:27.938Z"
      },
      {
        "duration": 31,
        "start_time": "2023-02-26T12:26:27.957Z"
      },
      {
        "duration": 2,
        "start_time": "2023-02-26T12:26:27.990Z"
      },
      {
        "duration": 8,
        "start_time": "2023-02-26T12:26:27.993Z"
      },
      {
        "duration": 12,
        "start_time": "2023-02-26T12:26:28.021Z"
      },
      {
        "duration": 8,
        "start_time": "2023-02-26T12:26:28.035Z"
      },
      {
        "duration": 28,
        "start_time": "2023-02-26T12:26:28.044Z"
      },
      {
        "duration": 21,
        "start_time": "2023-02-26T12:26:28.074Z"
      },
      {
        "duration": 48,
        "start_time": "2023-02-26T12:26:28.097Z"
      },
      {
        "duration": 79,
        "start_time": "2023-02-26T12:26:28.147Z"
      },
      {
        "duration": 75,
        "start_time": "2023-02-26T12:26:28.227Z"
      },
      {
        "duration": 88,
        "start_time": "2023-02-26T12:26:28.304Z"
      },
      {
        "duration": 57,
        "start_time": "2023-02-26T12:26:28.393Z"
      },
      {
        "duration": 3,
        "start_time": "2023-02-26T12:26:28.451Z"
      },
      {
        "duration": 4,
        "start_time": "2023-02-26T12:26:28.456Z"
      },
      {
        "duration": 3,
        "start_time": "2023-02-26T12:26:28.462Z"
      },
      {
        "duration": 7,
        "start_time": "2023-02-26T12:26:28.467Z"
      },
      {
        "duration": 6,
        "start_time": "2023-02-26T12:26:28.476Z"
      },
      {
        "duration": 7,
        "start_time": "2023-02-26T12:26:28.483Z"
      },
      {
        "duration": 4,
        "start_time": "2023-02-26T12:26:28.492Z"
      },
      {
        "duration": 24,
        "start_time": "2023-02-26T12:26:28.497Z"
      },
      {
        "duration": 5,
        "start_time": "2023-02-26T12:26:28.523Z"
      },
      {
        "duration": 5,
        "start_time": "2023-02-26T12:26:28.530Z"
      },
      {
        "duration": 6,
        "start_time": "2023-02-26T12:26:28.536Z"
      },
      {
        "duration": 4,
        "start_time": "2023-02-26T12:26:28.544Z"
      },
      {
        "duration": 6,
        "start_time": "2023-02-26T12:26:28.551Z"
      },
      {
        "duration": 5,
        "start_time": "2023-02-26T12:26:28.558Z"
      },
      {
        "duration": 80,
        "start_time": "2023-02-26T12:26:28.565Z"
      },
      {
        "duration": 0,
        "start_time": "2023-02-26T12:26:28.647Z"
      },
      {
        "duration": 0,
        "start_time": "2023-02-26T12:26:28.649Z"
      },
      {
        "duration": 0,
        "start_time": "2023-02-26T12:26:28.651Z"
      },
      {
        "duration": 0,
        "start_time": "2023-02-26T12:26:28.652Z"
      },
      {
        "duration": 0,
        "start_time": "2023-02-26T12:26:28.653Z"
      },
      {
        "duration": 0,
        "start_time": "2023-02-26T12:26:28.655Z"
      },
      {
        "duration": 0,
        "start_time": "2023-02-26T12:26:28.656Z"
      },
      {
        "duration": 0,
        "start_time": "2023-02-26T12:26:28.658Z"
      },
      {
        "duration": 5,
        "start_time": "2023-02-26T12:30:33.094Z"
      },
      {
        "duration": 69,
        "start_time": "2023-02-26T12:31:00.077Z"
      },
      {
        "duration": 452,
        "start_time": "2023-02-26T12:31:07.301Z"
      },
      {
        "duration": 184,
        "start_time": "2023-02-26T12:31:07.755Z"
      },
      {
        "duration": 18,
        "start_time": "2023-02-26T12:31:07.940Z"
      },
      {
        "duration": 34,
        "start_time": "2023-02-26T12:31:07.960Z"
      },
      {
        "duration": 2,
        "start_time": "2023-02-26T12:31:07.996Z"
      },
      {
        "duration": 24,
        "start_time": "2023-02-26T12:31:08.000Z"
      },
      {
        "duration": 14,
        "start_time": "2023-02-26T12:31:08.025Z"
      },
      {
        "duration": 11,
        "start_time": "2023-02-26T12:31:08.040Z"
      },
      {
        "duration": 33,
        "start_time": "2023-02-26T12:31:08.053Z"
      },
      {
        "duration": 33,
        "start_time": "2023-02-26T12:31:08.088Z"
      },
      {
        "duration": 28,
        "start_time": "2023-02-26T12:31:08.123Z"
      },
      {
        "duration": 91,
        "start_time": "2023-02-26T12:31:08.153Z"
      },
      {
        "duration": 85,
        "start_time": "2023-02-26T12:31:08.246Z"
      },
      {
        "duration": 74,
        "start_time": "2023-02-26T12:31:08.333Z"
      },
      {
        "duration": 43,
        "start_time": "2023-02-26T12:31:08.421Z"
      },
      {
        "duration": 10,
        "start_time": "2023-02-26T12:31:08.466Z"
      },
      {
        "duration": 92,
        "start_time": "2023-02-26T12:31:08.478Z"
      },
      {
        "duration": 0,
        "start_time": "2023-02-26T12:31:08.572Z"
      },
      {
        "duration": 0,
        "start_time": "2023-02-26T12:31:08.574Z"
      },
      {
        "duration": 0,
        "start_time": "2023-02-26T12:31:08.576Z"
      },
      {
        "duration": 0,
        "start_time": "2023-02-26T12:31:08.577Z"
      },
      {
        "duration": 0,
        "start_time": "2023-02-26T12:31:08.578Z"
      },
      {
        "duration": 0,
        "start_time": "2023-02-26T12:31:08.579Z"
      },
      {
        "duration": 0,
        "start_time": "2023-02-26T12:31:08.580Z"
      },
      {
        "duration": 0,
        "start_time": "2023-02-26T12:31:08.582Z"
      },
      {
        "duration": 0,
        "start_time": "2023-02-26T12:31:08.583Z"
      },
      {
        "duration": 0,
        "start_time": "2023-02-26T12:31:08.584Z"
      },
      {
        "duration": 0,
        "start_time": "2023-02-26T12:31:08.586Z"
      },
      {
        "duration": 0,
        "start_time": "2023-02-26T12:31:08.587Z"
      },
      {
        "duration": 0,
        "start_time": "2023-02-26T12:31:08.588Z"
      },
      {
        "duration": 0,
        "start_time": "2023-02-26T12:31:08.589Z"
      },
      {
        "duration": 0,
        "start_time": "2023-02-26T12:31:08.590Z"
      },
      {
        "duration": 0,
        "start_time": "2023-02-26T12:31:08.621Z"
      },
      {
        "duration": 0,
        "start_time": "2023-02-26T12:31:08.622Z"
      },
      {
        "duration": 0,
        "start_time": "2023-02-26T12:31:08.623Z"
      },
      {
        "duration": 0,
        "start_time": "2023-02-26T12:31:08.624Z"
      },
      {
        "duration": 0,
        "start_time": "2023-02-26T12:31:08.625Z"
      },
      {
        "duration": 0,
        "start_time": "2023-02-26T12:31:08.626Z"
      },
      {
        "duration": 45,
        "start_time": "2023-02-26T12:31:32.041Z"
      },
      {
        "duration": 10,
        "start_time": "2023-02-26T12:33:57.834Z"
      },
      {
        "duration": 3,
        "start_time": "2023-02-26T12:34:16.254Z"
      },
      {
        "duration": 241,
        "start_time": "2023-02-26T12:34:16.259Z"
      },
      {
        "duration": 21,
        "start_time": "2023-02-26T12:34:16.502Z"
      },
      {
        "duration": 37,
        "start_time": "2023-02-26T12:34:16.525Z"
      },
      {
        "duration": 3,
        "start_time": "2023-02-26T12:34:16.564Z"
      },
      {
        "duration": 12,
        "start_time": "2023-02-26T12:34:16.569Z"
      },
      {
        "duration": 34,
        "start_time": "2023-02-26T12:34:16.583Z"
      },
      {
        "duration": 15,
        "start_time": "2023-02-26T12:34:16.621Z"
      },
      {
        "duration": 53,
        "start_time": "2023-02-26T12:34:16.638Z"
      },
      {
        "duration": 26,
        "start_time": "2023-02-26T12:34:16.693Z"
      },
      {
        "duration": 42,
        "start_time": "2023-02-26T12:34:16.723Z"
      },
      {
        "duration": 104,
        "start_time": "2023-02-26T12:34:16.768Z"
      },
      {
        "duration": 87,
        "start_time": "2023-02-26T12:34:16.874Z"
      },
      {
        "duration": 76,
        "start_time": "2023-02-26T12:34:16.963Z"
      },
      {
        "duration": 47,
        "start_time": "2023-02-26T12:34:17.041Z"
      },
      {
        "duration": 15,
        "start_time": "2023-02-26T12:34:17.090Z"
      },
      {
        "duration": 80,
        "start_time": "2023-02-26T12:34:17.106Z"
      },
      {
        "duration": 10,
        "start_time": "2023-02-26T12:34:17.188Z"
      },
      {
        "duration": 0,
        "start_time": "2023-02-26T12:34:17.200Z"
      },
      {
        "duration": 0,
        "start_time": "2023-02-26T12:34:17.202Z"
      },
      {
        "duration": 0,
        "start_time": "2023-02-26T12:34:17.203Z"
      },
      {
        "duration": 0,
        "start_time": "2023-02-26T12:34:17.204Z"
      },
      {
        "duration": 0,
        "start_time": "2023-02-26T12:34:17.206Z"
      },
      {
        "duration": 0,
        "start_time": "2023-02-26T12:34:17.224Z"
      },
      {
        "duration": 0,
        "start_time": "2023-02-26T12:34:17.226Z"
      },
      {
        "duration": 0,
        "start_time": "2023-02-26T12:34:17.227Z"
      },
      {
        "duration": 0,
        "start_time": "2023-02-26T12:34:17.229Z"
      },
      {
        "duration": 0,
        "start_time": "2023-02-26T12:34:17.231Z"
      },
      {
        "duration": 0,
        "start_time": "2023-02-26T12:34:17.232Z"
      },
      {
        "duration": 0,
        "start_time": "2023-02-26T12:34:17.234Z"
      },
      {
        "duration": 0,
        "start_time": "2023-02-26T12:34:17.235Z"
      },
      {
        "duration": 0,
        "start_time": "2023-02-26T12:34:17.236Z"
      },
      {
        "duration": 0,
        "start_time": "2023-02-26T12:34:17.238Z"
      },
      {
        "duration": 0,
        "start_time": "2023-02-26T12:34:17.239Z"
      },
      {
        "duration": 0,
        "start_time": "2023-02-26T12:34:17.241Z"
      },
      {
        "duration": 0,
        "start_time": "2023-02-26T12:34:17.243Z"
      },
      {
        "duration": 0,
        "start_time": "2023-02-26T12:34:17.245Z"
      },
      {
        "duration": 0,
        "start_time": "2023-02-26T12:34:17.246Z"
      },
      {
        "duration": 35,
        "start_time": "2023-02-26T12:35:38.552Z"
      },
      {
        "duration": 431,
        "start_time": "2023-02-26T12:36:20.840Z"
      },
      {
        "duration": 193,
        "start_time": "2023-02-26T12:36:21.272Z"
      },
      {
        "duration": 18,
        "start_time": "2023-02-26T12:36:21.467Z"
      },
      {
        "duration": 46,
        "start_time": "2023-02-26T12:36:21.487Z"
      },
      {
        "duration": 7,
        "start_time": "2023-02-26T12:36:21.535Z"
      },
      {
        "duration": 7,
        "start_time": "2023-02-26T12:36:21.544Z"
      },
      {
        "duration": 23,
        "start_time": "2023-02-26T12:36:21.553Z"
      },
      {
        "duration": 9,
        "start_time": "2023-02-26T12:36:21.578Z"
      },
      {
        "duration": 55,
        "start_time": "2023-02-26T12:36:21.588Z"
      },
      {
        "duration": 37,
        "start_time": "2023-02-26T12:36:21.647Z"
      },
      {
        "duration": 39,
        "start_time": "2023-02-26T12:36:21.686Z"
      },
      {
        "duration": 78,
        "start_time": "2023-02-26T12:36:21.727Z"
      },
      {
        "duration": 80,
        "start_time": "2023-02-26T12:36:21.822Z"
      },
      {
        "duration": 92,
        "start_time": "2023-02-26T12:36:21.904Z"
      },
      {
        "duration": 56,
        "start_time": "2023-02-26T12:36:21.998Z"
      },
      {
        "duration": 12,
        "start_time": "2023-02-26T12:36:22.055Z"
      },
      {
        "duration": 67,
        "start_time": "2023-02-26T12:36:22.068Z"
      },
      {
        "duration": 44,
        "start_time": "2023-02-26T12:36:22.137Z"
      },
      {
        "duration": 3,
        "start_time": "2023-02-26T12:36:22.183Z"
      },
      {
        "duration": 23,
        "start_time": "2023-02-26T12:36:22.187Z"
      },
      {
        "duration": 7,
        "start_time": "2023-02-26T12:36:22.212Z"
      },
      {
        "duration": 9,
        "start_time": "2023-02-26T12:36:22.221Z"
      },
      {
        "duration": 9,
        "start_time": "2023-02-26T12:36:22.232Z"
      },
      {
        "duration": 13,
        "start_time": "2023-02-26T12:36:22.243Z"
      },
      {
        "duration": 13,
        "start_time": "2023-02-26T12:36:22.258Z"
      },
      {
        "duration": 9,
        "start_time": "2023-02-26T12:36:22.272Z"
      },
      {
        "duration": 7,
        "start_time": "2023-02-26T12:36:22.282Z"
      },
      {
        "duration": 5,
        "start_time": "2023-02-26T12:36:22.292Z"
      },
      {
        "duration": 6,
        "start_time": "2023-02-26T12:36:22.298Z"
      },
      {
        "duration": 83,
        "start_time": "2023-02-26T12:36:22.322Z"
      },
      {
        "duration": 0,
        "start_time": "2023-02-26T12:36:22.407Z"
      },
      {
        "duration": 0,
        "start_time": "2023-02-26T12:36:22.409Z"
      },
      {
        "duration": 0,
        "start_time": "2023-02-26T12:36:22.411Z"
      },
      {
        "duration": 0,
        "start_time": "2023-02-26T12:36:22.413Z"
      },
      {
        "duration": 0,
        "start_time": "2023-02-26T12:36:22.415Z"
      },
      {
        "duration": 0,
        "start_time": "2023-02-26T12:36:22.416Z"
      },
      {
        "duration": 0,
        "start_time": "2023-02-26T12:36:22.417Z"
      },
      {
        "duration": 0,
        "start_time": "2023-02-26T12:36:22.419Z"
      },
      {
        "duration": 12,
        "start_time": "2023-02-26T12:37:49.241Z"
      },
      {
        "duration": 36,
        "start_time": "2023-02-26T12:40:45.656Z"
      },
      {
        "duration": 66,
        "start_time": "2023-02-26T12:41:06.679Z"
      },
      {
        "duration": 3,
        "start_time": "2023-02-26T12:41:10.993Z"
      },
      {
        "duration": 194,
        "start_time": "2023-02-26T12:41:10.999Z"
      },
      {
        "duration": 11,
        "start_time": "2023-02-26T12:41:11.196Z"
      },
      {
        "duration": 42,
        "start_time": "2023-02-26T12:41:11.209Z"
      },
      {
        "duration": 3,
        "start_time": "2023-02-26T12:41:11.253Z"
      },
      {
        "duration": 9,
        "start_time": "2023-02-26T12:41:11.257Z"
      },
      {
        "duration": 10,
        "start_time": "2023-02-26T12:41:11.268Z"
      },
      {
        "duration": 5,
        "start_time": "2023-02-26T12:41:11.279Z"
      },
      {
        "duration": 51,
        "start_time": "2023-02-26T12:41:11.285Z"
      },
      {
        "duration": 20,
        "start_time": "2023-02-26T12:41:11.377Z"
      },
      {
        "duration": 26,
        "start_time": "2023-02-26T12:41:11.399Z"
      },
      {
        "duration": 70,
        "start_time": "2023-02-26T12:41:11.427Z"
      },
      {
        "duration": 89,
        "start_time": "2023-02-26T12:41:11.498Z"
      },
      {
        "duration": 75,
        "start_time": "2023-02-26T12:41:11.589Z"
      },
      {
        "duration": 41,
        "start_time": "2023-02-26T12:41:11.666Z"
      },
      {
        "duration": 20,
        "start_time": "2023-02-26T12:41:11.709Z"
      },
      {
        "duration": 48,
        "start_time": "2023-02-26T12:41:11.731Z"
      },
      {
        "duration": 13,
        "start_time": "2023-02-26T12:41:11.781Z"
      },
      {
        "duration": 29,
        "start_time": "2023-02-26T12:41:11.796Z"
      },
      {
        "duration": 0,
        "start_time": "2023-02-26T12:41:11.828Z"
      },
      {
        "duration": 0,
        "start_time": "2023-02-26T12:41:11.829Z"
      },
      {
        "duration": 0,
        "start_time": "2023-02-26T12:41:11.831Z"
      },
      {
        "duration": 0,
        "start_time": "2023-02-26T12:41:11.832Z"
      },
      {
        "duration": 0,
        "start_time": "2023-02-26T12:41:11.832Z"
      },
      {
        "duration": 0,
        "start_time": "2023-02-26T12:41:11.833Z"
      },
      {
        "duration": 0,
        "start_time": "2023-02-26T12:41:11.835Z"
      },
      {
        "duration": 0,
        "start_time": "2023-02-26T12:41:11.836Z"
      },
      {
        "duration": 0,
        "start_time": "2023-02-26T12:41:11.837Z"
      },
      {
        "duration": 0,
        "start_time": "2023-02-26T12:41:11.839Z"
      },
      {
        "duration": 0,
        "start_time": "2023-02-26T12:41:11.840Z"
      },
      {
        "duration": 0,
        "start_time": "2023-02-26T12:41:11.841Z"
      },
      {
        "duration": 0,
        "start_time": "2023-02-26T12:41:11.842Z"
      },
      {
        "duration": 0,
        "start_time": "2023-02-26T12:41:11.843Z"
      },
      {
        "duration": 0,
        "start_time": "2023-02-26T12:41:11.844Z"
      },
      {
        "duration": 0,
        "start_time": "2023-02-26T12:41:11.845Z"
      },
      {
        "duration": 0,
        "start_time": "2023-02-26T12:41:11.847Z"
      },
      {
        "duration": 0,
        "start_time": "2023-02-26T12:41:11.848Z"
      },
      {
        "duration": 0,
        "start_time": "2023-02-26T12:41:11.849Z"
      },
      {
        "duration": 35,
        "start_time": "2023-02-26T12:41:29.245Z"
      },
      {
        "duration": 12,
        "start_time": "2023-02-26T12:41:50.545Z"
      },
      {
        "duration": 86,
        "start_time": "2023-02-26T12:55:16.815Z"
      },
      {
        "duration": 5,
        "start_time": "2023-02-26T12:55:25.103Z"
      },
      {
        "duration": 4,
        "start_time": "2023-02-26T13:00:08.855Z"
      },
      {
        "duration": 408,
        "start_time": "2023-02-26T13:00:18.637Z"
      },
      {
        "duration": 177,
        "start_time": "2023-02-26T13:00:19.047Z"
      },
      {
        "duration": 20,
        "start_time": "2023-02-26T13:00:19.226Z"
      },
      {
        "duration": 32,
        "start_time": "2023-02-26T13:00:19.249Z"
      },
      {
        "duration": 2,
        "start_time": "2023-02-26T13:00:19.283Z"
      },
      {
        "duration": 6,
        "start_time": "2023-02-26T13:00:19.287Z"
      },
      {
        "duration": 12,
        "start_time": "2023-02-26T13:00:19.321Z"
      },
      {
        "duration": 8,
        "start_time": "2023-02-26T13:00:19.334Z"
      },
      {
        "duration": 28,
        "start_time": "2023-02-26T13:00:19.343Z"
      },
      {
        "duration": 24,
        "start_time": "2023-02-26T13:00:19.373Z"
      },
      {
        "duration": 47,
        "start_time": "2023-02-26T13:00:19.398Z"
      },
      {
        "duration": 85,
        "start_time": "2023-02-26T13:00:19.447Z"
      },
      {
        "duration": 72,
        "start_time": "2023-02-26T13:00:19.534Z"
      },
      {
        "duration": 66,
        "start_time": "2023-02-26T13:00:19.620Z"
      },
      {
        "duration": 54,
        "start_time": "2023-02-26T13:00:19.688Z"
      },
      {
        "duration": 31,
        "start_time": "2023-02-26T13:00:19.744Z"
      },
      {
        "duration": 42,
        "start_time": "2023-02-26T13:00:19.776Z"
      },
      {
        "duration": 13,
        "start_time": "2023-02-26T13:00:19.820Z"
      },
      {
        "duration": 13,
        "start_time": "2023-02-26T13:00:19.835Z"
      },
      {
        "duration": 4,
        "start_time": "2023-02-26T13:00:19.849Z"
      },
      {
        "duration": 7,
        "start_time": "2023-02-26T13:00:19.854Z"
      },
      {
        "duration": 6,
        "start_time": "2023-02-26T13:00:19.863Z"
      },
      {
        "duration": 5,
        "start_time": "2023-02-26T13:00:19.870Z"
      },
      {
        "duration": 6,
        "start_time": "2023-02-26T13:00:19.877Z"
      },
      {
        "duration": 5,
        "start_time": "2023-02-26T13:00:19.885Z"
      },
      {
        "duration": 10,
        "start_time": "2023-02-26T13:00:19.891Z"
      },
      {
        "duration": 7,
        "start_time": "2023-02-26T13:00:19.922Z"
      },
      {
        "duration": 3,
        "start_time": "2023-02-26T13:00:19.933Z"
      },
      {
        "duration": 7,
        "start_time": "2023-02-26T13:00:19.937Z"
      },
      {
        "duration": 81,
        "start_time": "2023-02-26T13:00:19.947Z"
      },
      {
        "duration": 0,
        "start_time": "2023-02-26T13:00:20.030Z"
      },
      {
        "duration": 0,
        "start_time": "2023-02-26T13:00:20.031Z"
      },
      {
        "duration": 0,
        "start_time": "2023-02-26T13:00:20.033Z"
      },
      {
        "duration": 0,
        "start_time": "2023-02-26T13:00:20.034Z"
      },
      {
        "duration": 0,
        "start_time": "2023-02-26T13:00:20.035Z"
      },
      {
        "duration": 0,
        "start_time": "2023-02-26T13:00:20.036Z"
      },
      {
        "duration": 0,
        "start_time": "2023-02-26T13:00:20.037Z"
      },
      {
        "duration": 0,
        "start_time": "2023-02-26T13:00:20.039Z"
      },
      {
        "duration": 4,
        "start_time": "2023-02-26T13:01:52.048Z"
      },
      {
        "duration": 27,
        "start_time": "2023-02-26T13:03:14.387Z"
      },
      {
        "duration": 20,
        "start_time": "2023-02-26T13:03:18.276Z"
      },
      {
        "duration": 18,
        "start_time": "2023-02-26T13:03:20.416Z"
      },
      {
        "duration": 13,
        "start_time": "2023-02-26T13:03:22.714Z"
      },
      {
        "duration": 16,
        "start_time": "2023-02-26T13:03:25.574Z"
      },
      {
        "duration": 16,
        "start_time": "2023-02-26T13:03:27.486Z"
      },
      {
        "duration": 123,
        "start_time": "2023-02-26T13:04:45.196Z"
      },
      {
        "duration": 61,
        "start_time": "2023-02-26T13:05:05.278Z"
      },
      {
        "duration": 2,
        "start_time": "2023-02-26T13:05:39.900Z"
      },
      {
        "duration": 173,
        "start_time": "2023-02-26T13:05:39.906Z"
      },
      {
        "duration": 10,
        "start_time": "2023-02-26T13:05:40.081Z"
      },
      {
        "duration": 45,
        "start_time": "2023-02-26T13:05:40.093Z"
      },
      {
        "duration": 2,
        "start_time": "2023-02-26T13:05:40.140Z"
      },
      {
        "duration": 6,
        "start_time": "2023-02-26T13:05:40.144Z"
      },
      {
        "duration": 15,
        "start_time": "2023-02-26T13:05:40.151Z"
      },
      {
        "duration": 10,
        "start_time": "2023-02-26T13:05:40.168Z"
      },
      {
        "duration": 40,
        "start_time": "2023-02-26T13:05:40.181Z"
      },
      {
        "duration": 17,
        "start_time": "2023-02-26T13:05:40.223Z"
      },
      {
        "duration": 24,
        "start_time": "2023-02-26T13:05:40.243Z"
      },
      {
        "duration": 82,
        "start_time": "2023-02-26T13:05:40.268Z"
      },
      {
        "duration": 69,
        "start_time": "2023-02-26T13:05:40.352Z"
      },
      {
        "duration": 56,
        "start_time": "2023-02-26T13:05:40.423Z"
      },
      {
        "duration": 51,
        "start_time": "2023-02-26T13:05:40.480Z"
      },
      {
        "duration": 10,
        "start_time": "2023-02-26T13:05:40.532Z"
      },
      {
        "duration": 59,
        "start_time": "2023-02-26T13:05:40.543Z"
      },
      {
        "duration": 11,
        "start_time": "2023-02-26T13:05:40.603Z"
      },
      {
        "duration": 16,
        "start_time": "2023-02-26T13:05:40.621Z"
      },
      {
        "duration": 6,
        "start_time": "2023-02-26T13:05:40.639Z"
      },
      {
        "duration": 26,
        "start_time": "2023-02-26T13:05:40.647Z"
      },
      {
        "duration": 21,
        "start_time": "2023-02-26T13:05:40.675Z"
      },
      {
        "duration": 30,
        "start_time": "2023-02-26T13:05:40.697Z"
      },
      {
        "duration": 16,
        "start_time": "2023-02-26T13:05:40.728Z"
      },
      {
        "duration": 27,
        "start_time": "2023-02-26T13:05:40.745Z"
      },
      {
        "duration": 13,
        "start_time": "2023-02-26T13:05:40.774Z"
      },
      {
        "duration": 25,
        "start_time": "2023-02-26T13:05:40.789Z"
      },
      {
        "duration": 0,
        "start_time": "2023-02-26T13:05:40.816Z"
      },
      {
        "duration": 0,
        "start_time": "2023-02-26T13:05:40.817Z"
      },
      {
        "duration": 0,
        "start_time": "2023-02-26T13:05:40.818Z"
      },
      {
        "duration": 0,
        "start_time": "2023-02-26T13:05:40.819Z"
      },
      {
        "duration": 1,
        "start_time": "2023-02-26T13:05:40.820Z"
      },
      {
        "duration": 0,
        "start_time": "2023-02-26T13:05:40.822Z"
      },
      {
        "duration": 0,
        "start_time": "2023-02-26T13:05:40.822Z"
      },
      {
        "duration": 0,
        "start_time": "2023-02-26T13:05:40.823Z"
      },
      {
        "duration": 0,
        "start_time": "2023-02-26T13:05:40.825Z"
      },
      {
        "duration": 0,
        "start_time": "2023-02-26T13:05:40.826Z"
      },
      {
        "duration": 0,
        "start_time": "2023-02-26T13:05:40.827Z"
      },
      {
        "duration": 4,
        "start_time": "2023-02-26T13:13:12.879Z"
      },
      {
        "duration": 9,
        "start_time": "2023-02-26T13:13:24.718Z"
      },
      {
        "duration": 8,
        "start_time": "2023-02-26T13:14:38.060Z"
      },
      {
        "duration": 9,
        "start_time": "2023-02-26T13:15:13.567Z"
      },
      {
        "duration": 72,
        "start_time": "2023-02-26T13:16:40.170Z"
      },
      {
        "duration": 71,
        "start_time": "2023-02-26T13:17:51.454Z"
      },
      {
        "duration": 418,
        "start_time": "2023-02-26T13:18:02.518Z"
      },
      {
        "duration": 171,
        "start_time": "2023-02-26T13:18:02.938Z"
      },
      {
        "duration": 20,
        "start_time": "2023-02-26T13:18:03.111Z"
      },
      {
        "duration": 38,
        "start_time": "2023-02-26T13:18:03.133Z"
      },
      {
        "duration": 2,
        "start_time": "2023-02-26T13:18:03.173Z"
      },
      {
        "duration": 8,
        "start_time": "2023-02-26T13:18:03.177Z"
      },
      {
        "duration": 12,
        "start_time": "2023-02-26T13:18:03.187Z"
      },
      {
        "duration": 26,
        "start_time": "2023-02-26T13:18:03.200Z"
      },
      {
        "duration": 26,
        "start_time": "2023-02-26T13:18:03.228Z"
      },
      {
        "duration": 22,
        "start_time": "2023-02-26T13:18:03.256Z"
      },
      {
        "duration": 46,
        "start_time": "2023-02-26T13:18:03.280Z"
      },
      {
        "duration": 70,
        "start_time": "2023-02-26T13:18:03.328Z"
      },
      {
        "duration": 83,
        "start_time": "2023-02-26T13:18:03.399Z"
      },
      {
        "duration": 69,
        "start_time": "2023-02-26T13:18:03.484Z"
      },
      {
        "duration": 38,
        "start_time": "2023-02-26T13:18:03.555Z"
      },
      {
        "duration": 25,
        "start_time": "2023-02-26T13:18:03.595Z"
      },
      {
        "duration": 37,
        "start_time": "2023-02-26T13:18:03.622Z"
      },
      {
        "duration": 11,
        "start_time": "2023-02-26T13:18:03.660Z"
      },
      {
        "duration": 10,
        "start_time": "2023-02-26T13:18:03.673Z"
      },
      {
        "duration": 3,
        "start_time": "2023-02-26T13:18:03.685Z"
      },
      {
        "duration": 43,
        "start_time": "2023-02-26T13:18:03.689Z"
      },
      {
        "duration": 13,
        "start_time": "2023-02-26T13:18:03.734Z"
      },
      {
        "duration": 15,
        "start_time": "2023-02-26T13:18:03.749Z"
      },
      {
        "duration": 15,
        "start_time": "2023-02-26T13:18:03.766Z"
      },
      {
        "duration": 45,
        "start_time": "2023-02-26T13:18:03.782Z"
      },
      {
        "duration": 14,
        "start_time": "2023-02-26T13:18:03.829Z"
      },
      {
        "duration": 151,
        "start_time": "2023-02-26T13:18:03.845Z"
      },
      {
        "duration": 0,
        "start_time": "2023-02-26T13:18:03.998Z"
      },
      {
        "duration": 0,
        "start_time": "2023-02-26T13:18:03.999Z"
      },
      {
        "duration": 0,
        "start_time": "2023-02-26T13:18:04.001Z"
      },
      {
        "duration": 0,
        "start_time": "2023-02-26T13:18:04.002Z"
      },
      {
        "duration": 0,
        "start_time": "2023-02-26T13:18:04.004Z"
      },
      {
        "duration": 0,
        "start_time": "2023-02-26T13:18:04.005Z"
      },
      {
        "duration": 0,
        "start_time": "2023-02-26T13:18:04.007Z"
      },
      {
        "duration": 0,
        "start_time": "2023-02-26T13:18:04.008Z"
      },
      {
        "duration": 0,
        "start_time": "2023-02-26T13:18:04.009Z"
      },
      {
        "duration": 0,
        "start_time": "2023-02-26T13:18:04.011Z"
      },
      {
        "duration": 0,
        "start_time": "2023-02-26T13:18:04.012Z"
      },
      {
        "duration": 82,
        "start_time": "2023-02-26T13:18:28.620Z"
      },
      {
        "duration": 3,
        "start_time": "2023-02-26T13:18:44.770Z"
      },
      {
        "duration": 209,
        "start_time": "2023-02-26T13:18:44.775Z"
      },
      {
        "duration": 16,
        "start_time": "2023-02-26T13:18:44.987Z"
      },
      {
        "duration": 88,
        "start_time": "2023-02-26T13:18:45.006Z"
      },
      {
        "duration": 13,
        "start_time": "2023-02-26T13:18:45.097Z"
      },
      {
        "duration": 10,
        "start_time": "2023-02-26T13:18:45.112Z"
      },
      {
        "duration": 17,
        "start_time": "2023-02-26T13:18:45.124Z"
      },
      {
        "duration": 27,
        "start_time": "2023-02-26T13:18:45.144Z"
      },
      {
        "duration": 72,
        "start_time": "2023-02-26T13:18:45.173Z"
      },
      {
        "duration": 32,
        "start_time": "2023-02-26T13:18:45.248Z"
      },
      {
        "duration": 41,
        "start_time": "2023-02-26T13:18:45.284Z"
      },
      {
        "duration": 65,
        "start_time": "2023-02-26T13:18:45.327Z"
      },
      {
        "duration": 79,
        "start_time": "2023-02-26T13:18:45.394Z"
      },
      {
        "duration": 99,
        "start_time": "2023-02-26T13:18:45.475Z"
      },
      {
        "duration": 66,
        "start_time": "2023-02-26T13:18:45.576Z"
      },
      {
        "duration": 10,
        "start_time": "2023-02-26T13:18:45.645Z"
      },
      {
        "duration": 64,
        "start_time": "2023-02-26T13:18:45.657Z"
      },
      {
        "duration": 12,
        "start_time": "2023-02-26T13:18:45.723Z"
      },
      {
        "duration": 29,
        "start_time": "2023-02-26T13:18:45.736Z"
      },
      {
        "duration": 13,
        "start_time": "2023-02-26T13:18:45.766Z"
      },
      {
        "duration": 24,
        "start_time": "2023-02-26T13:18:45.781Z"
      },
      {
        "duration": 21,
        "start_time": "2023-02-26T13:18:45.806Z"
      },
      {
        "duration": 15,
        "start_time": "2023-02-26T13:18:45.829Z"
      },
      {
        "duration": 14,
        "start_time": "2023-02-26T13:18:45.846Z"
      },
      {
        "duration": 16,
        "start_time": "2023-02-26T13:18:45.862Z"
      },
      {
        "duration": 46,
        "start_time": "2023-02-26T13:18:45.880Z"
      },
      {
        "duration": 81,
        "start_time": "2023-02-26T13:18:45.928Z"
      },
      {
        "duration": 0,
        "start_time": "2023-02-26T13:18:46.011Z"
      },
      {
        "duration": 0,
        "start_time": "2023-02-26T13:18:46.012Z"
      },
      {
        "duration": 0,
        "start_time": "2023-02-26T13:18:46.014Z"
      },
      {
        "duration": 0,
        "start_time": "2023-02-26T13:18:46.016Z"
      },
      {
        "duration": 0,
        "start_time": "2023-02-26T13:18:46.017Z"
      },
      {
        "duration": 0,
        "start_time": "2023-02-26T13:18:46.018Z"
      },
      {
        "duration": 0,
        "start_time": "2023-02-26T13:18:46.019Z"
      },
      {
        "duration": 0,
        "start_time": "2023-02-26T13:18:46.020Z"
      },
      {
        "duration": 0,
        "start_time": "2023-02-26T13:18:46.021Z"
      },
      {
        "duration": 0,
        "start_time": "2023-02-26T13:18:46.022Z"
      },
      {
        "duration": 0,
        "start_time": "2023-02-26T13:18:46.023Z"
      },
      {
        "duration": 115,
        "start_time": "2023-02-26T13:19:45.929Z"
      },
      {
        "duration": 450,
        "start_time": "2023-02-26T13:20:12.995Z"
      },
      {
        "duration": 174,
        "start_time": "2023-02-26T13:20:13.447Z"
      },
      {
        "duration": 19,
        "start_time": "2023-02-26T13:20:13.623Z"
      },
      {
        "duration": 38,
        "start_time": "2023-02-26T13:20:13.645Z"
      },
      {
        "duration": 15,
        "start_time": "2023-02-26T13:20:13.685Z"
      },
      {
        "duration": 16,
        "start_time": "2023-02-26T13:20:13.702Z"
      },
      {
        "duration": 22,
        "start_time": "2023-02-26T13:20:13.720Z"
      },
      {
        "duration": 17,
        "start_time": "2023-02-26T13:20:13.745Z"
      },
      {
        "duration": 45,
        "start_time": "2023-02-26T13:20:13.764Z"
      },
      {
        "duration": 36,
        "start_time": "2023-02-26T13:20:13.813Z"
      },
      {
        "duration": 58,
        "start_time": "2023-02-26T13:20:13.851Z"
      },
      {
        "duration": 89,
        "start_time": "2023-02-26T13:20:13.911Z"
      },
      {
        "duration": 112,
        "start_time": "2023-02-26T13:20:14.002Z"
      },
      {
        "duration": 78,
        "start_time": "2023-02-26T13:20:14.116Z"
      },
      {
        "duration": 62,
        "start_time": "2023-02-26T13:20:14.196Z"
      },
      {
        "duration": 10,
        "start_time": "2023-02-26T13:20:14.260Z"
      },
      {
        "duration": 59,
        "start_time": "2023-02-26T13:20:14.271Z"
      },
      {
        "duration": 17,
        "start_time": "2023-02-26T13:20:14.333Z"
      },
      {
        "duration": 20,
        "start_time": "2023-02-26T13:20:14.352Z"
      },
      {
        "duration": 4,
        "start_time": "2023-02-26T13:20:14.374Z"
      },
      {
        "duration": 24,
        "start_time": "2023-02-26T13:20:14.380Z"
      },
      {
        "duration": 23,
        "start_time": "2023-02-26T13:20:14.429Z"
      },
      {
        "duration": 30,
        "start_time": "2023-02-26T13:20:14.454Z"
      },
      {
        "duration": 27,
        "start_time": "2023-02-26T13:20:14.486Z"
      },
      {
        "duration": 67,
        "start_time": "2023-02-26T13:20:14.516Z"
      },
      {
        "duration": 19,
        "start_time": "2023-02-26T13:20:14.585Z"
      },
      {
        "duration": 117,
        "start_time": "2023-02-26T13:20:14.606Z"
      },
      {
        "duration": 0,
        "start_time": "2023-02-26T13:20:14.726Z"
      },
      {
        "duration": 0,
        "start_time": "2023-02-26T13:20:14.731Z"
      },
      {
        "duration": 0,
        "start_time": "2023-02-26T13:20:14.733Z"
      },
      {
        "duration": 0,
        "start_time": "2023-02-26T13:20:14.734Z"
      },
      {
        "duration": 0,
        "start_time": "2023-02-26T13:20:14.736Z"
      },
      {
        "duration": 0,
        "start_time": "2023-02-26T13:20:14.738Z"
      },
      {
        "duration": 0,
        "start_time": "2023-02-26T13:20:14.739Z"
      },
      {
        "duration": 0,
        "start_time": "2023-02-26T13:20:14.740Z"
      },
      {
        "duration": 0,
        "start_time": "2023-02-26T13:20:14.741Z"
      },
      {
        "duration": 0,
        "start_time": "2023-02-26T13:20:14.742Z"
      },
      {
        "duration": 0,
        "start_time": "2023-02-26T13:20:14.743Z"
      },
      {
        "duration": 9,
        "start_time": "2023-02-26T13:20:46.664Z"
      },
      {
        "duration": 9,
        "start_time": "2023-02-26T13:21:57.088Z"
      },
      {
        "duration": 11,
        "start_time": "2023-02-26T13:24:38.867Z"
      },
      {
        "duration": 23,
        "start_time": "2023-02-26T13:25:06.262Z"
      },
      {
        "duration": 13,
        "start_time": "2023-02-26T13:25:14.556Z"
      },
      {
        "duration": 5,
        "start_time": "2023-02-26T13:39:09.230Z"
      },
      {
        "duration": 5,
        "start_time": "2023-02-26T13:39:16.991Z"
      },
      {
        "duration": 15,
        "start_time": "2023-02-26T13:43:42.950Z"
      },
      {
        "duration": 62,
        "start_time": "2023-02-26T13:45:37.890Z"
      },
      {
        "duration": 388,
        "start_time": "2023-02-26T13:45:48.344Z"
      },
      {
        "duration": 172,
        "start_time": "2023-02-26T13:45:48.734Z"
      },
      {
        "duration": 18,
        "start_time": "2023-02-26T13:45:48.908Z"
      },
      {
        "duration": 33,
        "start_time": "2023-02-26T13:45:48.929Z"
      },
      {
        "duration": 2,
        "start_time": "2023-02-26T13:45:48.964Z"
      },
      {
        "duration": 8,
        "start_time": "2023-02-26T13:45:48.968Z"
      },
      {
        "duration": 15,
        "start_time": "2023-02-26T13:45:48.978Z"
      },
      {
        "duration": 28,
        "start_time": "2023-02-26T13:45:48.995Z"
      },
      {
        "duration": 27,
        "start_time": "2023-02-26T13:45:49.025Z"
      },
      {
        "duration": 21,
        "start_time": "2023-02-26T13:45:49.055Z"
      },
      {
        "duration": 47,
        "start_time": "2023-02-26T13:45:49.078Z"
      },
      {
        "duration": 65,
        "start_time": "2023-02-26T13:45:49.127Z"
      },
      {
        "duration": 85,
        "start_time": "2023-02-26T13:45:49.194Z"
      },
      {
        "duration": 64,
        "start_time": "2023-02-26T13:45:49.281Z"
      },
      {
        "duration": 38,
        "start_time": "2023-02-26T13:45:49.347Z"
      },
      {
        "duration": 10,
        "start_time": "2023-02-26T13:45:49.387Z"
      },
      {
        "duration": 56,
        "start_time": "2023-02-26T13:45:49.398Z"
      },
      {
        "duration": 11,
        "start_time": "2023-02-26T13:45:49.456Z"
      },
      {
        "duration": 11,
        "start_time": "2023-02-26T13:45:49.468Z"
      },
      {
        "duration": 3,
        "start_time": "2023-02-26T13:45:49.481Z"
      },
      {
        "duration": 38,
        "start_time": "2023-02-26T13:45:49.485Z"
      },
      {
        "duration": 15,
        "start_time": "2023-02-26T13:45:49.525Z"
      },
      {
        "duration": 15,
        "start_time": "2023-02-26T13:45:49.541Z"
      },
      {
        "duration": 14,
        "start_time": "2023-02-26T13:45:49.558Z"
      },
      {
        "duration": 49,
        "start_time": "2023-02-26T13:45:49.573Z"
      },
      {
        "duration": 15,
        "start_time": "2023-02-26T13:45:49.624Z"
      },
      {
        "duration": 11,
        "start_time": "2023-02-26T13:45:49.640Z"
      },
      {
        "duration": 12,
        "start_time": "2023-02-26T13:45:49.654Z"
      },
      {
        "duration": 10,
        "start_time": "2023-02-26T13:45:49.667Z"
      },
      {
        "duration": 6,
        "start_time": "2023-02-26T13:45:49.679Z"
      },
      {
        "duration": 49,
        "start_time": "2023-02-26T13:45:49.687Z"
      },
      {
        "duration": 11,
        "start_time": "2023-02-26T13:45:49.737Z"
      },
      {
        "duration": 18,
        "start_time": "2023-02-26T13:45:49.750Z"
      },
      {
        "duration": 11,
        "start_time": "2023-02-26T13:45:49.770Z"
      },
      {
        "duration": 2,
        "start_time": "2023-02-26T13:45:49.783Z"
      },
      {
        "duration": 20,
        "start_time": "2023-02-26T13:45:49.786Z"
      },
      {
        "duration": 13,
        "start_time": "2023-02-26T13:45:49.808Z"
      },
      {
        "duration": 5,
        "start_time": "2023-02-26T13:45:49.823Z"
      },
      {
        "duration": 3,
        "start_time": "2023-02-26T13:46:51.874Z"
      },
      {
        "duration": 256,
        "start_time": "2023-02-26T13:46:51.879Z"
      },
      {
        "duration": 11,
        "start_time": "2023-02-26T13:46:52.137Z"
      },
      {
        "duration": 37,
        "start_time": "2023-02-26T13:46:52.150Z"
      },
      {
        "duration": 3,
        "start_time": "2023-02-26T13:46:52.189Z"
      },
      {
        "duration": 16,
        "start_time": "2023-02-26T13:46:52.193Z"
      },
      {
        "duration": 16,
        "start_time": "2023-02-26T13:46:52.211Z"
      },
      {
        "duration": 11,
        "start_time": "2023-02-26T13:46:52.229Z"
      },
      {
        "duration": 34,
        "start_time": "2023-02-26T13:46:52.242Z"
      },
      {
        "duration": 17,
        "start_time": "2023-02-26T13:46:52.278Z"
      },
      {
        "duration": 49,
        "start_time": "2023-02-26T13:46:52.298Z"
      },
      {
        "duration": 84,
        "start_time": "2023-02-26T13:46:52.349Z"
      },
      {
        "duration": 67,
        "start_time": "2023-02-26T13:46:52.436Z"
      },
      {
        "duration": 76,
        "start_time": "2023-02-26T13:46:52.505Z"
      },
      {
        "duration": 59,
        "start_time": "2023-02-26T13:46:52.582Z"
      },
      {
        "duration": 10,
        "start_time": "2023-02-26T13:46:52.643Z"
      },
      {
        "duration": 44,
        "start_time": "2023-02-26T13:46:52.655Z"
      },
      {
        "duration": 38,
        "start_time": "2023-02-26T13:46:52.701Z"
      },
      {
        "duration": 13,
        "start_time": "2023-02-26T13:46:52.741Z"
      },
      {
        "duration": 5,
        "start_time": "2023-02-26T13:46:52.756Z"
      },
      {
        "duration": 20,
        "start_time": "2023-02-26T13:46:52.763Z"
      },
      {
        "duration": 53,
        "start_time": "2023-02-26T13:46:52.785Z"
      },
      {
        "duration": 17,
        "start_time": "2023-02-26T13:46:52.839Z"
      },
      {
        "duration": 14,
        "start_time": "2023-02-26T13:46:52.858Z"
      },
      {
        "duration": 18,
        "start_time": "2023-02-26T13:46:52.874Z"
      },
      {
        "duration": 51,
        "start_time": "2023-02-26T13:46:52.894Z"
      },
      {
        "duration": 11,
        "start_time": "2023-02-26T13:46:52.946Z"
      },
      {
        "duration": 16,
        "start_time": "2023-02-26T13:46:52.958Z"
      },
      {
        "duration": 10,
        "start_time": "2023-02-26T13:46:52.978Z"
      },
      {
        "duration": 38,
        "start_time": "2023-02-26T13:46:52.989Z"
      },
      {
        "duration": 31,
        "start_time": "2023-02-26T13:46:53.032Z"
      },
      {
        "duration": 11,
        "start_time": "2023-02-26T13:46:53.065Z"
      },
      {
        "duration": 19,
        "start_time": "2023-02-26T13:46:53.078Z"
      },
      {
        "duration": 21,
        "start_time": "2023-02-26T13:46:53.103Z"
      },
      {
        "duration": 17,
        "start_time": "2023-02-26T13:46:53.126Z"
      },
      {
        "duration": 8,
        "start_time": "2023-02-26T13:46:53.145Z"
      },
      {
        "duration": 5,
        "start_time": "2023-02-26T13:46:53.155Z"
      },
      {
        "duration": 5,
        "start_time": "2023-02-26T13:46:53.161Z"
      },
      {
        "duration": 8,
        "start_time": "2023-02-26T14:10:36.573Z"
      },
      {
        "duration": 8,
        "start_time": "2023-02-26T14:10:57.748Z"
      },
      {
        "duration": 8,
        "start_time": "2023-02-26T14:12:03.428Z"
      },
      {
        "duration": 7,
        "start_time": "2023-02-26T14:12:48.199Z"
      },
      {
        "duration": 3,
        "start_time": "2023-02-26T14:12:52.216Z"
      },
      {
        "duration": 215,
        "start_time": "2023-02-26T14:12:52.221Z"
      },
      {
        "duration": 15,
        "start_time": "2023-02-26T14:12:52.438Z"
      },
      {
        "duration": 37,
        "start_time": "2023-02-26T14:12:52.455Z"
      },
      {
        "duration": 3,
        "start_time": "2023-02-26T14:12:52.494Z"
      },
      {
        "duration": 24,
        "start_time": "2023-02-26T14:12:52.498Z"
      },
      {
        "duration": 8,
        "start_time": "2023-02-26T14:12:52.524Z"
      },
      {
        "duration": 6,
        "start_time": "2023-02-26T14:12:52.533Z"
      },
      {
        "duration": 34,
        "start_time": "2023-02-26T14:12:52.542Z"
      },
      {
        "duration": 47,
        "start_time": "2023-02-26T14:12:52.578Z"
      },
      {
        "duration": 37,
        "start_time": "2023-02-26T14:12:52.627Z"
      },
      {
        "duration": 111,
        "start_time": "2023-02-26T14:12:52.667Z"
      },
      {
        "duration": 86,
        "start_time": "2023-02-26T14:12:52.782Z"
      },
      {
        "duration": 80,
        "start_time": "2023-02-26T14:12:52.870Z"
      },
      {
        "duration": 41,
        "start_time": "2023-02-26T14:12:52.952Z"
      },
      {
        "duration": 10,
        "start_time": "2023-02-26T14:12:52.995Z"
      },
      {
        "duration": 44,
        "start_time": "2023-02-26T14:12:53.021Z"
      },
      {
        "duration": 13,
        "start_time": "2023-02-26T14:12:53.067Z"
      },
      {
        "duration": 11,
        "start_time": "2023-02-26T14:12:53.081Z"
      },
      {
        "duration": 27,
        "start_time": "2023-02-26T14:12:53.094Z"
      },
      {
        "duration": 19,
        "start_time": "2023-02-26T14:12:53.123Z"
      },
      {
        "duration": 16,
        "start_time": "2023-02-26T14:12:53.143Z"
      },
      {
        "duration": 15,
        "start_time": "2023-02-26T14:12:53.161Z"
      },
      {
        "duration": 50,
        "start_time": "2023-02-26T14:12:53.179Z"
      },
      {
        "duration": 17,
        "start_time": "2023-02-26T14:12:53.231Z"
      },
      {
        "duration": 16,
        "start_time": "2023-02-26T14:12:53.250Z"
      },
      {
        "duration": 8,
        "start_time": "2023-02-26T14:12:53.268Z"
      },
      {
        "duration": 15,
        "start_time": "2023-02-26T14:12:53.278Z"
      },
      {
        "duration": 37,
        "start_time": "2023-02-26T14:12:53.294Z"
      },
      {
        "duration": 5,
        "start_time": "2023-02-26T14:12:53.333Z"
      },
      {
        "duration": 22,
        "start_time": "2023-02-26T14:12:53.340Z"
      },
      {
        "duration": 11,
        "start_time": "2023-02-26T14:12:53.364Z"
      },
      {
        "duration": 48,
        "start_time": "2023-02-26T14:12:53.377Z"
      },
      {
        "duration": 14,
        "start_time": "2023-02-26T14:12:53.426Z"
      },
      {
        "duration": 29,
        "start_time": "2023-02-26T14:12:53.441Z"
      },
      {
        "duration": 0,
        "start_time": "2023-02-26T14:12:53.472Z"
      },
      {
        "duration": 0,
        "start_time": "2023-02-26T14:12:53.473Z"
      },
      {
        "duration": 0,
        "start_time": "2023-02-26T14:12:53.474Z"
      },
      {
        "duration": 19,
        "start_time": "2023-02-26T14:14:33.617Z"
      },
      {
        "duration": 408,
        "start_time": "2023-02-26T14:14:49.422Z"
      },
      {
        "duration": 174,
        "start_time": "2023-02-26T14:14:49.831Z"
      },
      {
        "duration": 22,
        "start_time": "2023-02-26T14:14:50.007Z"
      },
      {
        "duration": 48,
        "start_time": "2023-02-26T14:14:50.032Z"
      },
      {
        "duration": 13,
        "start_time": "2023-02-26T14:14:50.082Z"
      },
      {
        "duration": 16,
        "start_time": "2023-02-26T14:14:50.096Z"
      },
      {
        "duration": 44,
        "start_time": "2023-02-26T14:14:50.113Z"
      },
      {
        "duration": 31,
        "start_time": "2023-02-26T14:14:50.159Z"
      },
      {
        "duration": 38,
        "start_time": "2023-02-26T14:14:50.192Z"
      },
      {
        "duration": 31,
        "start_time": "2023-02-26T14:14:50.234Z"
      },
      {
        "duration": 51,
        "start_time": "2023-02-26T14:14:50.267Z"
      },
      {
        "duration": 75,
        "start_time": "2023-02-26T14:14:50.319Z"
      },
      {
        "duration": 65,
        "start_time": "2023-02-26T14:14:50.395Z"
      },
      {
        "duration": 61,
        "start_time": "2023-02-26T14:14:50.462Z"
      },
      {
        "duration": 37,
        "start_time": "2023-02-26T14:14:50.525Z"
      },
      {
        "duration": 9,
        "start_time": "2023-02-26T14:14:50.564Z"
      },
      {
        "duration": 55,
        "start_time": "2023-02-26T14:14:50.575Z"
      },
      {
        "duration": 13,
        "start_time": "2023-02-26T14:14:50.632Z"
      },
      {
        "duration": 31,
        "start_time": "2023-02-26T14:14:50.646Z"
      },
      {
        "duration": 5,
        "start_time": "2023-02-26T14:14:50.679Z"
      },
      {
        "duration": 42,
        "start_time": "2023-02-26T14:14:50.685Z"
      },
      {
        "duration": 27,
        "start_time": "2023-02-26T14:14:50.729Z"
      },
      {
        "duration": 19,
        "start_time": "2023-02-26T14:14:50.758Z"
      },
      {
        "duration": 17,
        "start_time": "2023-02-26T14:14:50.779Z"
      },
      {
        "duration": 32,
        "start_time": "2023-02-26T14:14:50.798Z"
      },
      {
        "duration": 13,
        "start_time": "2023-02-26T14:14:50.832Z"
      },
      {
        "duration": 28,
        "start_time": "2023-02-26T14:14:50.846Z"
      },
      {
        "duration": 27,
        "start_time": "2023-02-26T14:14:50.877Z"
      },
      {
        "duration": 17,
        "start_time": "2023-02-26T14:14:50.906Z"
      },
      {
        "duration": 11,
        "start_time": "2023-02-26T14:14:50.925Z"
      },
      {
        "duration": 50,
        "start_time": "2023-02-26T14:14:50.938Z"
      },
      {
        "duration": 18,
        "start_time": "2023-02-26T14:14:50.990Z"
      },
      {
        "duration": 28,
        "start_time": "2023-02-26T14:14:51.010Z"
      },
      {
        "duration": 18,
        "start_time": "2023-02-26T14:14:51.040Z"
      },
      {
        "duration": 26,
        "start_time": "2023-02-26T14:14:51.059Z"
      },
      {
        "duration": 13,
        "start_time": "2023-02-26T14:14:51.087Z"
      },
      {
        "duration": 22,
        "start_time": "2023-02-26T14:14:51.101Z"
      },
      {
        "duration": 16,
        "start_time": "2023-02-26T14:14:51.125Z"
      },
      {
        "duration": 75,
        "start_time": "2023-02-26T16:38:48.591Z"
      },
      {
        "duration": 391,
        "start_time": "2023-02-26T16:38:55.573Z"
      },
      {
        "duration": 311,
        "start_time": "2023-02-26T16:38:55.966Z"
      },
      {
        "duration": 17,
        "start_time": "2023-02-26T16:38:56.279Z"
      },
      {
        "duration": 37,
        "start_time": "2023-02-26T16:38:56.298Z"
      },
      {
        "duration": 3,
        "start_time": "2023-02-26T16:38:56.337Z"
      },
      {
        "duration": 13,
        "start_time": "2023-02-26T16:38:56.342Z"
      },
      {
        "duration": 11,
        "start_time": "2023-02-26T16:38:56.357Z"
      },
      {
        "duration": 9,
        "start_time": "2023-02-26T16:38:56.369Z"
      },
      {
        "duration": 48,
        "start_time": "2023-02-26T16:38:56.379Z"
      },
      {
        "duration": 27,
        "start_time": "2023-02-26T16:38:56.431Z"
      },
      {
        "duration": 26,
        "start_time": "2023-02-26T16:38:56.460Z"
      },
      {
        "duration": 69,
        "start_time": "2023-02-26T16:38:56.487Z"
      },
      {
        "duration": 77,
        "start_time": "2023-02-26T16:38:56.557Z"
      },
      {
        "duration": 68,
        "start_time": "2023-02-26T16:38:56.636Z"
      },
      {
        "duration": 49,
        "start_time": "2023-02-26T16:38:56.706Z"
      },
      {
        "duration": 10,
        "start_time": "2023-02-26T16:38:56.757Z"
      },
      {
        "duration": 36,
        "start_time": "2023-02-26T16:38:56.768Z"
      },
      {
        "duration": 31,
        "start_time": "2023-02-26T16:38:56.805Z"
      },
      {
        "duration": 11,
        "start_time": "2023-02-26T16:38:56.838Z"
      },
      {
        "duration": 4,
        "start_time": "2023-02-26T16:38:56.850Z"
      },
      {
        "duration": 18,
        "start_time": "2023-02-26T16:38:56.856Z"
      },
      {
        "duration": 16,
        "start_time": "2023-02-26T16:38:56.876Z"
      },
      {
        "duration": 43,
        "start_time": "2023-02-26T16:38:56.893Z"
      },
      {
        "duration": 13,
        "start_time": "2023-02-26T16:38:56.938Z"
      },
      {
        "duration": 17,
        "start_time": "2023-02-26T16:38:56.953Z"
      },
      {
        "duration": 14,
        "start_time": "2023-02-26T16:38:56.971Z"
      },
      {
        "duration": 46,
        "start_time": "2023-02-26T16:38:56.987Z"
      },
      {
        "duration": 11,
        "start_time": "2023-02-26T16:38:57.035Z"
      },
      {
        "duration": 12,
        "start_time": "2023-02-26T16:38:57.048Z"
      },
      {
        "duration": 5,
        "start_time": "2023-02-26T16:38:57.061Z"
      },
      {
        "duration": 20,
        "start_time": "2023-02-26T16:38:57.067Z"
      },
      {
        "duration": 11,
        "start_time": "2023-02-26T16:38:57.089Z"
      },
      {
        "duration": 44,
        "start_time": "2023-02-26T16:38:57.101Z"
      },
      {
        "duration": 11,
        "start_time": "2023-02-26T16:38:57.147Z"
      },
      {
        "duration": 9,
        "start_time": "2023-02-26T16:38:57.159Z"
      },
      {
        "duration": 2,
        "start_time": "2023-02-26T16:38:57.170Z"
      },
      {
        "duration": 4,
        "start_time": "2023-02-26T16:38:57.174Z"
      },
      {
        "duration": 5,
        "start_time": "2023-02-26T16:38:57.179Z"
      },
      {
        "duration": 10,
        "start_time": "2023-02-26T16:40:10.712Z"
      },
      {
        "duration": 9,
        "start_time": "2023-02-26T16:42:14.493Z"
      },
      {
        "duration": 5,
        "start_time": "2023-02-26T16:42:48.293Z"
      },
      {
        "duration": 7,
        "start_time": "2023-02-26T16:43:34.458Z"
      },
      {
        "duration": 7,
        "start_time": "2023-02-26T16:43:53.220Z"
      },
      {
        "duration": 6,
        "start_time": "2023-02-26T16:44:09.102Z"
      },
      {
        "duration": 7,
        "start_time": "2023-02-26T16:44:16.994Z"
      },
      {
        "duration": 3,
        "start_time": "2023-02-26T16:44:23.658Z"
      },
      {
        "duration": 215,
        "start_time": "2023-02-26T16:44:23.663Z"
      },
      {
        "duration": 12,
        "start_time": "2023-02-26T16:44:23.880Z"
      },
      {
        "duration": 42,
        "start_time": "2023-02-26T16:44:23.894Z"
      },
      {
        "duration": 2,
        "start_time": "2023-02-26T16:44:23.940Z"
      },
      {
        "duration": 7,
        "start_time": "2023-02-26T16:44:23.944Z"
      },
      {
        "duration": 12,
        "start_time": "2023-02-26T16:44:23.953Z"
      },
      {
        "duration": 5,
        "start_time": "2023-02-26T16:44:23.966Z"
      },
      {
        "duration": 31,
        "start_time": "2023-02-26T16:44:23.972Z"
      },
      {
        "duration": 19,
        "start_time": "2023-02-26T16:44:24.027Z"
      },
      {
        "duration": 23,
        "start_time": "2023-02-26T16:44:24.049Z"
      },
      {
        "duration": 91,
        "start_time": "2023-02-26T16:44:24.074Z"
      },
      {
        "duration": 81,
        "start_time": "2023-02-26T16:44:24.168Z"
      },
      {
        "duration": 58,
        "start_time": "2023-02-26T16:44:24.251Z"
      },
      {
        "duration": 52,
        "start_time": "2023-02-26T16:44:24.310Z"
      },
      {
        "duration": 10,
        "start_time": "2023-02-26T16:44:24.363Z"
      },
      {
        "duration": 52,
        "start_time": "2023-02-26T16:44:24.375Z"
      },
      {
        "duration": 12,
        "start_time": "2023-02-26T16:44:24.429Z"
      },
      {
        "duration": 11,
        "start_time": "2023-02-26T16:44:24.442Z"
      },
      {
        "duration": 3,
        "start_time": "2023-02-26T16:44:24.455Z"
      },
      {
        "duration": 23,
        "start_time": "2023-02-26T16:44:24.460Z"
      },
      {
        "duration": 14,
        "start_time": "2023-02-26T16:44:24.485Z"
      },
      {
        "duration": 17,
        "start_time": "2023-02-26T16:44:24.527Z"
      },
      {
        "duration": 14,
        "start_time": "2023-02-26T16:44:24.545Z"
      },
      {
        "duration": 18,
        "start_time": "2023-02-26T16:44:24.561Z"
      },
      {
        "duration": 47,
        "start_time": "2023-02-26T16:44:24.581Z"
      },
      {
        "duration": 9,
        "start_time": "2023-02-26T16:44:24.630Z"
      },
      {
        "duration": 16,
        "start_time": "2023-02-26T16:44:24.641Z"
      },
      {
        "duration": 11,
        "start_time": "2023-02-26T16:44:24.660Z"
      },
      {
        "duration": 5,
        "start_time": "2023-02-26T16:44:24.672Z"
      },
      {
        "duration": 50,
        "start_time": "2023-02-26T16:44:24.679Z"
      },
      {
        "duration": 17,
        "start_time": "2023-02-26T16:44:24.731Z"
      },
      {
        "duration": 24,
        "start_time": "2023-02-26T16:44:24.750Z"
      },
      {
        "duration": 12,
        "start_time": "2023-02-26T16:44:24.776Z"
      },
      {
        "duration": 55,
        "start_time": "2023-02-26T16:44:24.790Z"
      },
      {
        "duration": 6,
        "start_time": "2023-02-26T16:44:24.847Z"
      },
      {
        "duration": 9,
        "start_time": "2023-02-26T16:44:24.854Z"
      },
      {
        "duration": 2,
        "start_time": "2023-02-26T16:44:24.864Z"
      },
      {
        "duration": 6,
        "start_time": "2023-02-26T16:44:48.793Z"
      },
      {
        "duration": 6,
        "start_time": "2023-02-26T16:45:14.746Z"
      },
      {
        "duration": 5,
        "start_time": "2023-02-26T16:45:28.483Z"
      }
    ],
    "colab": {
      "collapsed_sections": [
        "E0vqbgi9ay0H"
      ],
      "provenance": []
    },
    "kernelspec": {
      "display_name": "Python 3 (ipykernel)",
      "language": "python",
      "name": "python3"
    },
    "language_info": {
      "codemirror_mode": {
        "name": "ipython",
        "version": 3
      },
      "file_extension": ".py",
      "mimetype": "text/x-python",
      "name": "python",
      "nbconvert_exporter": "python",
      "pygments_lexer": "ipython3",
      "version": "3.10.9"
    },
    "toc": {
      "base_numbering": 1,
      "nav_menu": {
        "height": "215px",
        "width": "403px"
      },
      "number_sections": true,
      "sideBar": true,
      "skip_h1_title": true,
      "title_cell": "Table of Contents",
      "title_sidebar": "Contents",
      "toc_cell": false,
      "toc_position": {
        "height": "calc(100% - 180px)",
        "left": "10px",
        "top": "150px",
        "width": "285.825px"
      },
      "toc_section_display": true,
      "toc_window_display": false
    }
  },
  "nbformat": 4,
  "nbformat_minor": 0
}