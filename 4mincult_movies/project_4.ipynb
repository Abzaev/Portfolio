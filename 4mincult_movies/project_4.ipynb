{
 "cells": [
  {
   "cell_type": "markdown",
   "metadata": {
    "id": "sIfNaMOxgFyK"
   },
   "source": [
    "## Исследование данных о российском кинопрокате\n",
    "\n"
   ]
  },
  {
   "cell_type": "markdown",
   "metadata": {},
   "source": [
    "### Описание данных\n",
    "Таблица `mkrf_movies` содержит информацию из реестра прокатных удостоверений. У одного фильма может быть несколько прокатных удостоверений. \n",
    "<br>`title` - название фильма;\n",
    "<br>`puNumber` — номер прокатного удостоверения;\n",
    "<br>`show_start_date` — дата премьеры фильма;\n",
    "<br>`type` — тип фильма;\n",
    "<br>`film_studio` — студия-производитель;\n",
    "<br>`production_country` — страна-производитель;\n",
    "<br>`director` — режиссёр;\n",
    "<br>`producer` — продюсер;\n",
    "<br>`age_restriction` — возрастная категория;\n",
    "<br>`refundable_support` — объём возвратных средств государственной поддержки;\n",
    "<br>`nonrefundable_support` — объём невозвратных средств государственной поддержки;\n",
    "<br>`financing_source` — источник государственного финансирования;\n",
    "<br>`budget` — общий бюджет фильма;\n",
    "<br>`ratings` — рейтинг фильма на КиноПоиске;\n",
    "<br>`genres` — жанр фильма.\n",
    "<br>Cтолбец `budget` уже включает в себя полный объём государственной поддержки. Данные в этом столбце указаны только для тех фильмов, которые получили государственную поддержку. \n",
    "<br>\n",
    "<br>Таблица `mkrf_shows` содержит сведения о показах фильмов в российских кинотеатрах.\n",
    "<br>`puNumber` — номер прокатного удостоверения;\n",
    "<br>`box_office` — сборы в рублях."
   ]
  },
  {
   "cell_type": "markdown",
   "metadata": {
    "id": "3bSlkCsbgFyL"
   },
   "source": [
    "### Шаг 1. Откройте файлы с данными и объедините их в один датафрейм. \n",
    "\n",
    "Объедините данные таким образом, чтобы все объекты из датасета `mkrf_movies` обязательно вошли в получившийся датафрейм. \n",
    "\n",
    "<div id=\"accordion\">\n",
    "    <div class=\"card\">\n",
    "        <div class=\"card-header\" id=\"headingThree\">\n",
    "            <button class=\"btn btn-link collapsed\" data-toggle=\"collapse\" data-target=\"#collapseHint_0\" aria-expanded=\"false\" aria-controls=\"collapseHint_0\">Подсказка</button>\n",
    "        </div>\n",
    "        <div id=\"collapseHint_0\" class=\"collapse\" aria-labelledby=\"headingThree\" data-parent=\"#accordion\">\n",
    "            <div class=\"card-body\">\n",
    "Обратите внимание на тип данных столбца, по которому будете соединять датафреймы. Тип данных этих столбцов должен быть одинаковым в обоих датафреймах.\n",
    "            </div>\n",
    "        </div>\n",
    "    </div>\n",
    "</div>"
   ]
  },
  {
   "cell_type": "markdown",
   "metadata": {
    "id": "7aahILh8oCrk"
   },
   "source": [
    "Импортируем библиотеки, посмотрим на таблицы, посмотрим типы данных столбцов, найдем столбец по которому будем объединять дата фреймы."
   ]
  },
  {
   "cell_type": "code",
   "execution_count": 1,
   "metadata": {
    "id": "dw87FlzMgFyM"
   },
   "outputs": [],
   "source": [
    "import pandas as pd"
   ]
  },
  {
   "cell_type": "code",
   "execution_count": 2,
   "metadata": {
    "id": "hnKojS4hmpCb"
   },
   "outputs": [],
   "source": [
    "import matplotlib.pyplot as plt"
   ]
  },
  {
   "cell_type": "code",
   "execution_count": 3,
   "metadata": {
    "id": "-pg5MUnbGBkV"
   },
   "outputs": [],
   "source": [
    "import numpy as np"
   ]
  },
  {
   "cell_type": "code",
   "execution_count": 4,
   "metadata": {
    "id": "EUGDQheVCZ0E"
   },
   "outputs": [],
   "source": [
    "import seaborn as sns"
   ]
  },
  {
   "cell_type": "code",
   "execution_count": 5,
   "metadata": {
    "colab": {
     "base_uri": "https://localhost:8080/",
     "height": 1000
    },
    "id": "XRPc97_tm5XX",
    "outputId": "34dfef9e-d541-4cd0-9036-1726efc7f1f9"
   },
   "outputs": [
    {
     "name": "stdout",
     "output_type": "stream",
     "text": [
      "<class 'pandas.core.frame.DataFrame'>\n",
      "RangeIndex: 7486 entries, 0 to 7485\n",
      "Data columns (total 15 columns):\n",
      " #   Column                 Non-Null Count  Dtype  \n",
      "---  ------                 --------------  -----  \n",
      " 0   title                  7486 non-null   object \n",
      " 1   puNumber               7486 non-null   object \n",
      " 2   show_start_date        7486 non-null   object \n",
      " 3   type                   7486 non-null   object \n",
      " 4   film_studio            7468 non-null   object \n",
      " 5   production_country     7484 non-null   object \n",
      " 6   director               7477 non-null   object \n",
      " 7   producer               6918 non-null   object \n",
      " 8   age_restriction        7486 non-null   object \n",
      " 9   refundable_support     332 non-null    float64\n",
      " 10  nonrefundable_support  332 non-null    float64\n",
      " 11  budget                 332 non-null    float64\n",
      " 12  financing_source       332 non-null    object \n",
      " 13  ratings                6519 non-null   object \n",
      " 14  genres                 6510 non-null   object \n",
      "dtypes: float64(3), object(12)\n",
      "memory usage: 877.4+ KB\n",
      "None\n"
     ]
    },
    {
     "data": {
      "text/html": [
       "<div>\n",
       "<style scoped>\n",
       "    .dataframe tbody tr th:only-of-type {\n",
       "        vertical-align: middle;\n",
       "    }\n",
       "\n",
       "    .dataframe tbody tr th {\n",
       "        vertical-align: top;\n",
       "    }\n",
       "\n",
       "    .dataframe thead th {\n",
       "        text-align: right;\n",
       "    }\n",
       "</style>\n",
       "<table border=\"1\" class=\"dataframe\">\n",
       "  <thead>\n",
       "    <tr style=\"text-align: right;\">\n",
       "      <th></th>\n",
       "      <th>title</th>\n",
       "      <th>puNumber</th>\n",
       "      <th>show_start_date</th>\n",
       "      <th>type</th>\n",
       "      <th>film_studio</th>\n",
       "      <th>production_country</th>\n",
       "      <th>director</th>\n",
       "      <th>producer</th>\n",
       "      <th>age_restriction</th>\n",
       "      <th>refundable_support</th>\n",
       "      <th>nonrefundable_support</th>\n",
       "      <th>budget</th>\n",
       "      <th>financing_source</th>\n",
       "      <th>ratings</th>\n",
       "      <th>genres</th>\n",
       "    </tr>\n",
       "  </thead>\n",
       "  <tbody>\n",
       "    <tr>\n",
       "      <th>0</th>\n",
       "      <td>Открытый простор</td>\n",
       "      <td>221048915</td>\n",
       "      <td>2015-11-27T12:00:00.000Z</td>\n",
       "      <td>Художественный</td>\n",
       "      <td>Тачстоун Пикчерз, Кобальт Пикчерз, Бикон Пикче...</td>\n",
       "      <td>США</td>\n",
       "      <td>Кевин Костнер</td>\n",
       "      <td>Дэвид Валдес, Кевин Костнер, Джейк Эбертс</td>\n",
       "      <td>«18+» - запрещено для детей</td>\n",
       "      <td>NaN</td>\n",
       "      <td>NaN</td>\n",
       "      <td>NaN</td>\n",
       "      <td>NaN</td>\n",
       "      <td>7.2</td>\n",
       "      <td>боевик,драма,мелодрама</td>\n",
       "    </tr>\n",
       "    <tr>\n",
       "      <th>1</th>\n",
       "      <td>Особо важное задание</td>\n",
       "      <td>111013716</td>\n",
       "      <td>2016-09-13T12:00:00.000Z</td>\n",
       "      <td>Художественный</td>\n",
       "      <td>Киностудия \"Мосфильм\"</td>\n",
       "      <td>СССР</td>\n",
       "      <td>Е.Матвеев</td>\n",
       "      <td>NaN</td>\n",
       "      <td>«6+» - для детей старше 6 лет</td>\n",
       "      <td>NaN</td>\n",
       "      <td>NaN</td>\n",
       "      <td>NaN</td>\n",
       "      <td>NaN</td>\n",
       "      <td>6.6</td>\n",
       "      <td>драма,военный</td>\n",
       "    </tr>\n",
       "    <tr>\n",
       "      <th>2</th>\n",
       "      <td>Особо опасен</td>\n",
       "      <td>221038416</td>\n",
       "      <td>2016-10-10T12:00:00.000Z</td>\n",
       "      <td>Художественный</td>\n",
       "      <td>Юниверсал Пикчерз, Кикстарт Продакшнз, Марк Пл...</td>\n",
       "      <td>США</td>\n",
       "      <td>Тимур Бекмамбетов</td>\n",
       "      <td>Джим Лемли, Джейсон Нетер, Марк Е.Платт, Яйн Смит</td>\n",
       "      <td>«18+» - запрещено для детей</td>\n",
       "      <td>NaN</td>\n",
       "      <td>NaN</td>\n",
       "      <td>NaN</td>\n",
       "      <td>NaN</td>\n",
       "      <td>6.8</td>\n",
       "      <td>фантастика,боевик,триллер</td>\n",
       "    </tr>\n",
       "    <tr>\n",
       "      <th>3</th>\n",
       "      <td>Особо опасен</td>\n",
       "      <td>221026916</td>\n",
       "      <td>2016-06-10T12:00:00.000Z</td>\n",
       "      <td>Художественный</td>\n",
       "      <td>Юниверсал Пикчерз, Кикстарт Продакшнз, Марк Пл...</td>\n",
       "      <td>США</td>\n",
       "      <td>Тимур Бекмамбетов</td>\n",
       "      <td>Джим Лемли, Джейсон Нетер, Марк Е.Платт, Яйн Смит</td>\n",
       "      <td>«18+» - запрещено для детей</td>\n",
       "      <td>NaN</td>\n",
       "      <td>NaN</td>\n",
       "      <td>NaN</td>\n",
       "      <td>NaN</td>\n",
       "      <td>6.8</td>\n",
       "      <td>фантастика,боевик,триллер</td>\n",
       "    </tr>\n",
       "    <tr>\n",
       "      <th>4</th>\n",
       "      <td>Особо опасен</td>\n",
       "      <td>221030815</td>\n",
       "      <td>2015-07-29T12:00:00.000Z</td>\n",
       "      <td>Художественный</td>\n",
       "      <td>Юниверсал Пикчерз, Кикстарт Продакшнз, Марк Пл...</td>\n",
       "      <td>США</td>\n",
       "      <td>Тимур Бекмамбетов</td>\n",
       "      <td>Джим Лемли, Джейсон Нетер, Марк Е.Платт, Яйн Смит</td>\n",
       "      <td>«18+» - запрещено для детей</td>\n",
       "      <td>NaN</td>\n",
       "      <td>NaN</td>\n",
       "      <td>NaN</td>\n",
       "      <td>NaN</td>\n",
       "      <td>6.8</td>\n",
       "      <td>фантастика,боевик,триллер</td>\n",
       "    </tr>\n",
       "    <tr>\n",
       "      <th>...</th>\n",
       "      <td>...</td>\n",
       "      <td>...</td>\n",
       "      <td>...</td>\n",
       "      <td>...</td>\n",
       "      <td>...</td>\n",
       "      <td>...</td>\n",
       "      <td>...</td>\n",
       "      <td>...</td>\n",
       "      <td>...</td>\n",
       "      <td>...</td>\n",
       "      <td>...</td>\n",
       "      <td>...</td>\n",
       "      <td>...</td>\n",
       "      <td>...</td>\n",
       "      <td>...</td>\n",
       "    </tr>\n",
       "    <tr>\n",
       "      <th>7481</th>\n",
       "      <td>Сад художника: Американский импрессионизм</td>\n",
       "      <td>126008019</td>\n",
       "      <td>2019-12-23T12:00:00.000Z</td>\n",
       "      <td>Прочие</td>\n",
       "      <td>Севен Артс Продакшнз</td>\n",
       "      <td>Великобритания</td>\n",
       "      <td>Фил Грабски</td>\n",
       "      <td>Фил Грабски</td>\n",
       "      <td>«12+» - для детей старше 12 лет</td>\n",
       "      <td>NaN</td>\n",
       "      <td>NaN</td>\n",
       "      <td>NaN</td>\n",
       "      <td>NaN</td>\n",
       "      <td>NaN</td>\n",
       "      <td>NaN</td>\n",
       "    </tr>\n",
       "    <tr>\n",
       "      <th>7482</th>\n",
       "      <td>Звериная ярость</td>\n",
       "      <td>121037819</td>\n",
       "      <td>2019-12-24T12:00:00.000Z</td>\n",
       "      <td>Художественный</td>\n",
       "      <td>Дэниел Гродник Продакшнз, Вандерфилм Медиа Кор...</td>\n",
       "      <td>США</td>\n",
       "      <td>Ник Пауэлл</td>\n",
       "      <td>Джефф Боулер, Дэниэл Гродник, Луильо Руис, Брэ...</td>\n",
       "      <td>«16+» - для детей старше 16 лет</td>\n",
       "      <td>NaN</td>\n",
       "      <td>NaN</td>\n",
       "      <td>NaN</td>\n",
       "      <td>NaN</td>\n",
       "      <td>5.4</td>\n",
       "      <td>боевик,триллер</td>\n",
       "    </tr>\n",
       "    <tr>\n",
       "      <th>7483</th>\n",
       "      <td>Щенячий патруль: Скорей спешим на помощь!</td>\n",
       "      <td>124010819</td>\n",
       "      <td>2019-12-28T12:00:00.000Z</td>\n",
       "      <td>Художественный</td>\n",
       "      <td>Никелодеон Анимейшн Студиос, Спин Мастер</td>\n",
       "      <td>США - Канада</td>\n",
       "      <td>Чарльз Е.Бастьен</td>\n",
       "      <td>Дженнифер Додж</td>\n",
       "      <td>«0+» - для любой зрительской аудитории</td>\n",
       "      <td>NaN</td>\n",
       "      <td>NaN</td>\n",
       "      <td>NaN</td>\n",
       "      <td>NaN</td>\n",
       "      <td>NaN</td>\n",
       "      <td>NaN</td>\n",
       "    </tr>\n",
       "    <tr>\n",
       "      <th>7484</th>\n",
       "      <td>Машины песенки. Серия \"Испанские мотивы\"</td>\n",
       "      <td>124010619</td>\n",
       "      <td>2019-12-30T12:00:00.000Z</td>\n",
       "      <td>Анимационный</td>\n",
       "      <td>Анимаккорд Лтд., ООО Студия \"АНИМАККОРД\"</td>\n",
       "      <td>Республика Кипр, Россия</td>\n",
       "      <td>А.Беляев</td>\n",
       "      <td>Д.Ловейко</td>\n",
       "      <td>«0+» - для любой зрительской аудитории</td>\n",
       "      <td>NaN</td>\n",
       "      <td>NaN</td>\n",
       "      <td>NaN</td>\n",
       "      <td>NaN</td>\n",
       "      <td>NaN</td>\n",
       "      <td>NaN</td>\n",
       "    </tr>\n",
       "    <tr>\n",
       "      <th>7485</th>\n",
       "      <td>Машины песенки. Серия \"Когда цветут кактусы\"</td>\n",
       "      <td>124010719</td>\n",
       "      <td>2019-12-30T12:00:00.000Z</td>\n",
       "      <td>Анимационный</td>\n",
       "      <td>Анимаккорд Лтд., ООО Студия \"АНИМАККОРД\"</td>\n",
       "      <td>Республика Кипр, Россия</td>\n",
       "      <td>И.Трусов</td>\n",
       "      <td>Д.Ловейко</td>\n",
       "      <td>«0+» - для любой зрительской аудитории</td>\n",
       "      <td>NaN</td>\n",
       "      <td>NaN</td>\n",
       "      <td>NaN</td>\n",
       "      <td>NaN</td>\n",
       "      <td>6.3</td>\n",
       "      <td>комедия,вестерн</td>\n",
       "    </tr>\n",
       "  </tbody>\n",
       "</table>\n",
       "<p>7486 rows × 15 columns</p>\n",
       "</div>"
      ],
      "text/plain": [
       "                                             title   puNumber  \\\n",
       "0                                 Открытый простор  221048915   \n",
       "1                             Особо важное задание  111013716   \n",
       "2                                     Особо опасен  221038416   \n",
       "3                                     Особо опасен  221026916   \n",
       "4                                     Особо опасен  221030815   \n",
       "...                                            ...        ...   \n",
       "7481     Сад художника: Американский импрессионизм  126008019   \n",
       "7482                               Звериная ярость  121037819   \n",
       "7483     Щенячий патруль: Скорей спешим на помощь!  124010819   \n",
       "7484      Машины песенки. Серия \"Испанские мотивы\"  124010619   \n",
       "7485  Машины песенки. Серия \"Когда цветут кактусы\"  124010719   \n",
       "\n",
       "               show_start_date             type  \\\n",
       "0     2015-11-27T12:00:00.000Z   Художественный   \n",
       "1     2016-09-13T12:00:00.000Z   Художественный   \n",
       "2     2016-10-10T12:00:00.000Z   Художественный   \n",
       "3     2016-06-10T12:00:00.000Z   Художественный   \n",
       "4     2015-07-29T12:00:00.000Z   Художественный   \n",
       "...                        ...              ...   \n",
       "7481  2019-12-23T12:00:00.000Z           Прочие   \n",
       "7482  2019-12-24T12:00:00.000Z   Художественный   \n",
       "7483  2019-12-28T12:00:00.000Z   Художественный   \n",
       "7484  2019-12-30T12:00:00.000Z     Анимационный   \n",
       "7485  2019-12-30T12:00:00.000Z     Анимационный   \n",
       "\n",
       "                                            film_studio  \\\n",
       "0     Тачстоун Пикчерз, Кобальт Пикчерз, Бикон Пикче...   \n",
       "1                                 Киностудия \"Мосфильм\"   \n",
       "2     Юниверсал Пикчерз, Кикстарт Продакшнз, Марк Пл...   \n",
       "3     Юниверсал Пикчерз, Кикстарт Продакшнз, Марк Пл...   \n",
       "4     Юниверсал Пикчерз, Кикстарт Продакшнз, Марк Пл...   \n",
       "...                                                 ...   \n",
       "7481                               Севен Артс Продакшнз   \n",
       "7482  Дэниел Гродник Продакшнз, Вандерфилм Медиа Кор...   \n",
       "7483           Никелодеон Анимейшн Студиос, Спин Мастер   \n",
       "7484           Анимаккорд Лтд., ООО Студия \"АНИМАККОРД\"   \n",
       "7485           Анимаккорд Лтд., ООО Студия \"АНИМАККОРД\"   \n",
       "\n",
       "           production_country           director  \\\n",
       "0                         США      Кевин Костнер   \n",
       "1                        СССР          Е.Матвеев   \n",
       "2                         США  Тимур Бекмамбетов   \n",
       "3                         США  Тимур Бекмамбетов   \n",
       "4                         США  Тимур Бекмамбетов   \n",
       "...                       ...                ...   \n",
       "7481           Великобритания        Фил Грабски   \n",
       "7482                      США         Ник Пауэлл   \n",
       "7483             США - Канада   Чарльз Е.Бастьен   \n",
       "7484  Республика Кипр, Россия           А.Беляев   \n",
       "7485  Республика Кипр, Россия           И.Трусов   \n",
       "\n",
       "                                               producer  \\\n",
       "0             Дэвид Валдес, Кевин Костнер, Джейк Эбертс   \n",
       "1                                                   NaN   \n",
       "2     Джим Лемли, Джейсон Нетер, Марк Е.Платт, Яйн Смит   \n",
       "3     Джим Лемли, Джейсон Нетер, Марк Е.Платт, Яйн Смит   \n",
       "4     Джим Лемли, Джейсон Нетер, Марк Е.Платт, Яйн Смит   \n",
       "...                                                 ...   \n",
       "7481                                        Фил Грабски   \n",
       "7482  Джефф Боулер, Дэниэл Гродник, Луильо Руис, Брэ...   \n",
       "7483                                     Дженнифер Додж   \n",
       "7484                                          Д.Ловейко   \n",
       "7485                                          Д.Ловейко   \n",
       "\n",
       "                             age_restriction  refundable_support  \\\n",
       "0                «18+» - запрещено для детей                 NaN   \n",
       "1              «6+» - для детей старше 6 лет                 NaN   \n",
       "2                «18+» - запрещено для детей                 NaN   \n",
       "3                «18+» - запрещено для детей                 NaN   \n",
       "4                «18+» - запрещено для детей                 NaN   \n",
       "...                                      ...                 ...   \n",
       "7481         «12+» - для детей старше 12 лет                 NaN   \n",
       "7482         «16+» - для детей старше 16 лет                 NaN   \n",
       "7483  «0+» - для любой зрительской аудитории                 NaN   \n",
       "7484  «0+» - для любой зрительской аудитории                 NaN   \n",
       "7485  «0+» - для любой зрительской аудитории                 NaN   \n",
       "\n",
       "      nonrefundable_support  budget financing_source ratings  \\\n",
       "0                       NaN     NaN              NaN     7.2   \n",
       "1                       NaN     NaN              NaN     6.6   \n",
       "2                       NaN     NaN              NaN     6.8   \n",
       "3                       NaN     NaN              NaN     6.8   \n",
       "4                       NaN     NaN              NaN     6.8   \n",
       "...                     ...     ...              ...     ...   \n",
       "7481                    NaN     NaN              NaN     NaN   \n",
       "7482                    NaN     NaN              NaN     5.4   \n",
       "7483                    NaN     NaN              NaN     NaN   \n",
       "7484                    NaN     NaN              NaN     NaN   \n",
       "7485                    NaN     NaN              NaN     6.3   \n",
       "\n",
       "                         genres  \n",
       "0        боевик,драма,мелодрама  \n",
       "1                 драма,военный  \n",
       "2     фантастика,боевик,триллер  \n",
       "3     фантастика,боевик,триллер  \n",
       "4     фантастика,боевик,триллер  \n",
       "...                         ...  \n",
       "7481                        NaN  \n",
       "7482             боевик,триллер  \n",
       "7483                        NaN  \n",
       "7484                        NaN  \n",
       "7485            комедия,вестерн  \n",
       "\n",
       "[7486 rows x 15 columns]"
      ]
     },
     "execution_count": 5,
     "metadata": {},
     "output_type": "execute_result"
    }
   ],
   "source": [
    "data_movies = pd.read_csv('https://code.s3.yandex.net/datasets/mkrf_movies.csv')\n",
    "print(data_movies.info())\n",
    "data_movies"
   ]
  },
  {
   "cell_type": "code",
   "execution_count": 6,
   "metadata": {
    "colab": {
     "base_uri": "https://localhost:8080/",
     "height": 597
    },
    "id": "plpUQYU1ngQS",
    "outputId": "6147208c-cf60-46c2-bc42-4637c19ccb04"
   },
   "outputs": [
    {
     "name": "stdout",
     "output_type": "stream",
     "text": [
      "<class 'pandas.core.frame.DataFrame'>\n",
      "RangeIndex: 3158 entries, 0 to 3157\n",
      "Data columns (total 2 columns):\n",
      " #   Column      Non-Null Count  Dtype  \n",
      "---  ------      --------------  -----  \n",
      " 0   puNumber    3158 non-null   int64  \n",
      " 1   box_office  3158 non-null   float64\n",
      "dtypes: float64(1), int64(1)\n",
      "memory usage: 49.5 KB\n",
      "None\n"
     ]
    },
    {
     "data": {
      "text/html": [
       "<div>\n",
       "<style scoped>\n",
       "    .dataframe tbody tr th:only-of-type {\n",
       "        vertical-align: middle;\n",
       "    }\n",
       "\n",
       "    .dataframe tbody tr th {\n",
       "        vertical-align: top;\n",
       "    }\n",
       "\n",
       "    .dataframe thead th {\n",
       "        text-align: right;\n",
       "    }\n",
       "</style>\n",
       "<table border=\"1\" class=\"dataframe\">\n",
       "  <thead>\n",
       "    <tr style=\"text-align: right;\">\n",
       "      <th></th>\n",
       "      <th>puNumber</th>\n",
       "      <th>box_office</th>\n",
       "    </tr>\n",
       "  </thead>\n",
       "  <tbody>\n",
       "    <tr>\n",
       "      <th>0</th>\n",
       "      <td>111000113</td>\n",
       "      <td>2.450000e+03</td>\n",
       "    </tr>\n",
       "    <tr>\n",
       "      <th>1</th>\n",
       "      <td>111000115</td>\n",
       "      <td>6.104000e+04</td>\n",
       "    </tr>\n",
       "    <tr>\n",
       "      <th>2</th>\n",
       "      <td>111000116</td>\n",
       "      <td>1.530300e+08</td>\n",
       "    </tr>\n",
       "    <tr>\n",
       "      <th>3</th>\n",
       "      <td>111000117</td>\n",
       "      <td>1.226096e+07</td>\n",
       "    </tr>\n",
       "    <tr>\n",
       "      <th>4</th>\n",
       "      <td>111000118</td>\n",
       "      <td>1.636841e+08</td>\n",
       "    </tr>\n",
       "    <tr>\n",
       "      <th>...</th>\n",
       "      <td>...</td>\n",
       "      <td>...</td>\n",
       "    </tr>\n",
       "    <tr>\n",
       "      <th>3153</th>\n",
       "      <td>224014814</td>\n",
       "      <td>1.530000e+03</td>\n",
       "    </tr>\n",
       "    <tr>\n",
       "      <th>3154</th>\n",
       "      <td>224021411</td>\n",
       "      <td>9.270000e+03</td>\n",
       "    </tr>\n",
       "    <tr>\n",
       "      <th>3155</th>\n",
       "      <td>224022410</td>\n",
       "      <td>4.000000e+02</td>\n",
       "    </tr>\n",
       "    <tr>\n",
       "      <th>3156</th>\n",
       "      <td>224023210</td>\n",
       "      <td>3.600000e+02</td>\n",
       "    </tr>\n",
       "    <tr>\n",
       "      <th>3157</th>\n",
       "      <td>224026410</td>\n",
       "      <td>4.000000e+02</td>\n",
       "    </tr>\n",
       "  </tbody>\n",
       "</table>\n",
       "<p>3158 rows × 2 columns</p>\n",
       "</div>"
      ],
      "text/plain": [
       "       puNumber    box_office\n",
       "0     111000113  2.450000e+03\n",
       "1     111000115  6.104000e+04\n",
       "2     111000116  1.530300e+08\n",
       "3     111000117  1.226096e+07\n",
       "4     111000118  1.636841e+08\n",
       "...         ...           ...\n",
       "3153  224014814  1.530000e+03\n",
       "3154  224021411  9.270000e+03\n",
       "3155  224022410  4.000000e+02\n",
       "3156  224023210  3.600000e+02\n",
       "3157  224026410  4.000000e+02\n",
       "\n",
       "[3158 rows x 2 columns]"
      ]
     },
     "execution_count": 6,
     "metadata": {},
     "output_type": "execute_result"
    }
   ],
   "source": [
    "data_shows = pd.read_csv('https://code.s3.yandex.net/datasets/mkrf_shows.csv')\n",
    "print(data_shows.info())\n",
    "data_shows\n"
   ]
  },
  {
   "cell_type": "markdown",
   "metadata": {
    "id": "hnrFfL5CobLG"
   },
   "source": [
    "Мы определили общий столбец, по которому необходимо объединить датафреймы это *Номер прокатного удостоверения* ```puNumber``` .\n",
    "<br> В датафрейме ```data_movies``` тип данных столбца ```object ``` , а в датафрейме```data_shows``` тип данных столбца ```int64  ```. Для объединения нам необходимо исправить тип данных столбцов в единый для обоих датафреймов. Преобразовать его в ```int64  ``` нам не удалось в связи с тем, что в датафрейме ```data_movies``` в столбце есть значение `\"нет\"`. Преобразуем тип данных в ```object ```.\n"
   ]
  },
  {
   "cell_type": "code",
   "execution_count": 7,
   "metadata": {
    "id": "iLFieJLEp9r0"
   },
   "outputs": [],
   "source": [
    "data_shows['puNumber'] = data_shows['puNumber'].astype('str')"
   ]
  },
  {
   "cell_type": "markdown",
   "metadata": {
    "id": "B1dhJBdis8fg"
   },
   "source": [
    "Теперь можем объединить два датафрейма."
   ]
  },
  {
   "cell_type": "code",
   "execution_count": 8,
   "metadata": {
    "id": "a5V4aYKStKeT"
   },
   "outputs": [],
   "source": [
    "df = pd.merge(data_movies, data_shows, on='puNumber',how='outer')"
   ]
  },
  {
   "cell_type": "markdown",
   "metadata": {
    "id": "_d2PrpWTt5nW"
   },
   "source": [
    "Посмотрим на результат."
   ]
  },
  {
   "cell_type": "code",
   "execution_count": 9,
   "metadata": {
    "colab": {
     "base_uri": "https://localhost:8080/",
     "height": 756
    },
    "id": "ULcZ55ZlujdN",
    "outputId": "975b8eef-b206-4cf0-8ce4-f246dc16bb8f"
   },
   "outputs": [
    {
     "name": "stdout",
     "output_type": "stream",
     "text": [
      "<class 'pandas.core.frame.DataFrame'>\n",
      "Int64Index: 7486 entries, 0 to 7485\n",
      "Data columns (total 16 columns):\n",
      " #   Column                 Non-Null Count  Dtype  \n",
      "---  ------                 --------------  -----  \n",
      " 0   title                  7486 non-null   object \n",
      " 1   puNumber               7486 non-null   object \n",
      " 2   show_start_date        7486 non-null   object \n",
      " 3   type                   7486 non-null   object \n",
      " 4   film_studio            7468 non-null   object \n",
      " 5   production_country     7484 non-null   object \n",
      " 6   director               7477 non-null   object \n",
      " 7   producer               6918 non-null   object \n",
      " 8   age_restriction        7486 non-null   object \n",
      " 9   refundable_support     332 non-null    float64\n",
      " 10  nonrefundable_support  332 non-null    float64\n",
      " 11  budget                 332 non-null    float64\n",
      " 12  financing_source       332 non-null    object \n",
      " 13  ratings                6519 non-null   object \n",
      " 14  genres                 6510 non-null   object \n",
      " 15  box_office             3158 non-null   float64\n",
      "dtypes: float64(4), object(12)\n",
      "memory usage: 994.2+ KB\n"
     ]
    }
   ],
   "source": [
    "df.info()"
   ]
  },
  {
   "cell_type": "markdown",
   "metadata": {
    "id": "980VgPFMSIqx"
   },
   "source": [
    "\n",
    "#### Промежуточный итог:\n",
    "> В данном шаге мы открыли и прочитали таблицы, объединили в единый датафрейм, предварительно изменив тип данных у общего столбца. \n",
    "\n"
   ]
  },
  {
   "cell_type": "markdown",
   "metadata": {
    "id": "KLDGpPG0gFyM"
   },
   "source": [
    "### Шаг 2. Предобработка данных"
   ]
  },
  {
   "cell_type": "markdown",
   "metadata": {
    "id": "ssWwKXsxgFyO"
   },
   "source": [
    "#### Шаг 2.1. Проверьте типы данных\n",
    "\n",
    "- Проверьте типы данных в датафрейме и преобразуйте их там, где это необходимо."
   ]
  },
  {
   "cell_type": "code",
   "execution_count": 10,
   "metadata": {
    "colab": {
     "base_uri": "https://localhost:8080/"
    },
    "id": "kVGSplJOgFyO",
    "outputId": "ca72a052-ef3d-4d75-d0de-8674d61e682d"
   },
   "outputs": [
    {
     "name": "stdout",
     "output_type": "stream",
     "text": [
      "<class 'pandas.core.frame.DataFrame'>\n",
      "Int64Index: 7486 entries, 0 to 7485\n",
      "Data columns (total 16 columns):\n",
      " #   Column                 Non-Null Count  Dtype  \n",
      "---  ------                 --------------  -----  \n",
      " 0   title                  7486 non-null   object \n",
      " 1   puNumber               7486 non-null   object \n",
      " 2   show_start_date        7486 non-null   object \n",
      " 3   type                   7486 non-null   object \n",
      " 4   film_studio            7468 non-null   object \n",
      " 5   production_country     7484 non-null   object \n",
      " 6   director               7477 non-null   object \n",
      " 7   producer               6918 non-null   object \n",
      " 8   age_restriction        7486 non-null   object \n",
      " 9   refundable_support     332 non-null    float64\n",
      " 10  nonrefundable_support  332 non-null    float64\n",
      " 11  budget                 332 non-null    float64\n",
      " 12  financing_source       332 non-null    object \n",
      " 13  ratings                6519 non-null   object \n",
      " 14  genres                 6510 non-null   object \n",
      " 15  box_office             3158 non-null   float64\n",
      "dtypes: float64(4), object(12)\n",
      "memory usage: 994.2+ KB\n"
     ]
    }
   ],
   "source": [
    "df.info()"
   ]
  },
  {
   "cell_type": "markdown",
   "metadata": {
    "id": "zW8yQNB_5NcK"
   },
   "source": [
    "Переведем show_start_date в тип datetime"
   ]
  },
  {
   "cell_type": "code",
   "execution_count": 11,
   "metadata": {
    "id": "faMaCJ2a5NH-"
   },
   "outputs": [],
   "source": [
    "df['show_start_date'] = pd.to_datetime(df['show_start_date'], format='%Y-%m-%dT%H:%M:%S')"
   ]
  },
  {
   "cell_type": "markdown",
   "metadata": {
    "id": "oN_imUje64rv"
   },
   "source": [
    "Рейтинг явно не может быть текстовым значением, посмотрим уникальные значения."
   ]
  },
  {
   "cell_type": "code",
   "execution_count": 12,
   "metadata": {
    "colab": {
     "base_uri": "https://localhost:8080/"
    },
    "id": "lbpCPMop69ao",
    "outputId": "e2d7c450-f321-40c1-ebbc-ed57fafc9792"
   },
   "outputs": [
    {
     "data": {
      "text/plain": [
       "array(['7.2', '6.6', '6.8', '7.7', '8.3', '8.0', '7.8', '8.1', '7.1',\n",
       "       '6.0', '7.4', '5.8', '8.7', '6.3', '6.9', '5.0', '4.3', '7.3',\n",
       "       '7.0', '6.4', nan, '8.2', '7.5', '6.7', '7.9', '5.9', '6.2', '5.6',\n",
       "       '6.5', '2.4', '7.6', '6.1', '8.6', '8.5', '8.8', '5.5', '5.1',\n",
       "       '5.7', '5.4', '99%', '4.4', '4.5', '5.3', '4.1', '8.4', '2.6',\n",
       "       '3.8', '4.6', '4.8', '4.0', '3.0', '1.6', '4.2', '5.2', '4.7',\n",
       "       '4.9', '3.9', '2.7', '3.3', '2.9', '28%', '3.7', '1.4', '3.1',\n",
       "       '97%', '3.5', '3.2', '2.8', '1.5', '2.1', '2.5', '9.2', '3.4',\n",
       "       '1.1', '3.6', '83%', '64%', '91%', '94%', '62%', '79%', '90%',\n",
       "       '19%', '88%', '1.0', '89%', '1.3', '1.9', '1.8', '1.2', '1.7',\n",
       "       '9.0', '98%', '8.9', '9.1'], dtype=object)"
      ]
     },
     "execution_count": 12,
     "metadata": {},
     "output_type": "execute_result"
    }
   ],
   "source": [
    "df['ratings'].unique()"
   ]
  },
  {
   "cell_type": "code",
   "execution_count": 13,
   "metadata": {
    "colab": {
     "base_uri": "https://localhost:8080/",
     "height": 1000
    },
    "id": "RczwinhU7WzD",
    "outputId": "2466078e-3058-44d8-ae17-63ee9c3363af"
   },
   "outputs": [
    {
     "data": {
      "text/html": [
       "<div>\n",
       "<style scoped>\n",
       "    .dataframe tbody tr th:only-of-type {\n",
       "        vertical-align: middle;\n",
       "    }\n",
       "\n",
       "    .dataframe tbody tr th {\n",
       "        vertical-align: top;\n",
       "    }\n",
       "\n",
       "    .dataframe thead th {\n",
       "        text-align: right;\n",
       "    }\n",
       "</style>\n",
       "<table border=\"1\" class=\"dataframe\">\n",
       "  <thead>\n",
       "    <tr style=\"text-align: right;\">\n",
       "      <th></th>\n",
       "      <th>title</th>\n",
       "      <th>puNumber</th>\n",
       "      <th>show_start_date</th>\n",
       "      <th>type</th>\n",
       "      <th>film_studio</th>\n",
       "      <th>production_country</th>\n",
       "      <th>director</th>\n",
       "      <th>producer</th>\n",
       "      <th>age_restriction</th>\n",
       "      <th>refundable_support</th>\n",
       "      <th>nonrefundable_support</th>\n",
       "      <th>budget</th>\n",
       "      <th>financing_source</th>\n",
       "      <th>ratings</th>\n",
       "      <th>genres</th>\n",
       "      <th>box_office</th>\n",
       "    </tr>\n",
       "  </thead>\n",
       "  <tbody>\n",
       "    <tr>\n",
       "      <th>3431</th>\n",
       "      <td>Наурыз</td>\n",
       "      <td>131000217</td>\n",
       "      <td>2017-03-09 12:00:00+00:00</td>\n",
       "      <td>Художественный</td>\n",
       "      <td>Эс Джи</td>\n",
       "      <td>Республика Казахстан</td>\n",
       "      <td>Аскар Бисембин</td>\n",
       "      <td>Олег Головашкин, Алмас Султангазин</td>\n",
       "      <td>«12+» - для детей старше 12 лет</td>\n",
       "      <td>NaN</td>\n",
       "      <td>NaN</td>\n",
       "      <td>NaN</td>\n",
       "      <td>NaN</td>\n",
       "      <td>19%</td>\n",
       "      <td>комедия</td>\n",
       "      <td>3.796000e+04</td>\n",
       "    </tr>\n",
       "    <tr>\n",
       "      <th>811</th>\n",
       "      <td>От винта!</td>\n",
       "      <td>114000212</td>\n",
       "      <td>2012-08-06 12:00:00+00:00</td>\n",
       "      <td>Анимационный</td>\n",
       "      <td>ЗАО \"Продюсерский центр \"Парадиз\"</td>\n",
       "      <td>Россия</td>\n",
       "      <td>О.Лопато</td>\n",
       "      <td>Г.Нерсисян, А.Манасарян, А.Нерсесян</td>\n",
       "      <td>«12+» - для детей старше 12 лет</td>\n",
       "      <td>NaN</td>\n",
       "      <td>NaN</td>\n",
       "      <td>NaN</td>\n",
       "      <td>NaN</td>\n",
       "      <td>28%</td>\n",
       "      <td>детский,приключения,комедия</td>\n",
       "      <td>1.740000e+03</td>\n",
       "    </tr>\n",
       "    <tr>\n",
       "      <th>2438</th>\n",
       "      <td>Самый рыжий Лис</td>\n",
       "      <td>111012715</td>\n",
       "      <td>2015-07-30 12:00:00+00:00</td>\n",
       "      <td>Художественный</td>\n",
       "      <td>ООО \"Продюсерский центр \"Ленфильм\"</td>\n",
       "      <td>Россия</td>\n",
       "      <td>А.Стреляная</td>\n",
       "      <td>А.Котелевский, Э.Пичугин</td>\n",
       "      <td>«6+» - для детей старше 6 лет</td>\n",
       "      <td>NaN</td>\n",
       "      <td>NaN</td>\n",
       "      <td>NaN</td>\n",
       "      <td>NaN</td>\n",
       "      <td>62%</td>\n",
       "      <td>фэнтези,семейный</td>\n",
       "      <td>NaN</td>\n",
       "    </tr>\n",
       "    <tr>\n",
       "      <th>1899</th>\n",
       "      <td>Золушка /По сказке Шарля Перро/. Холодное торж...</td>\n",
       "      <td>121003615</td>\n",
       "      <td>2015-02-27 12:00:00+00:00</td>\n",
       "      <td>Художественный</td>\n",
       "      <td>Женр Филмз, Уолт Дисней Пикчерз</td>\n",
       "      <td>США</td>\n",
       "      <td>Кеннет Брана</td>\n",
       "      <td>Дэвид Бэррон, Саймон Кинберг, Эллисон Ширмур</td>\n",
       "      <td>«6+» - для детей старше 6 лет</td>\n",
       "      <td>NaN</td>\n",
       "      <td>NaN</td>\n",
       "      <td>NaN</td>\n",
       "      <td>NaN</td>\n",
       "      <td>64%</td>\n",
       "      <td>мюзикл,фэнтези,мелодрама</td>\n",
       "      <td>5.287326e+08</td>\n",
       "    </tr>\n",
       "    <tr>\n",
       "      <th>7159</th>\n",
       "      <td>Анна Каренина. Интимный дневник</td>\n",
       "      <td>111013919</td>\n",
       "      <td>2019-10-23 12:00:00+00:00</td>\n",
       "      <td>Художественный</td>\n",
       "      <td>ООО \"РТВ\"</td>\n",
       "      <td>Россия</td>\n",
       "      <td>Ю.Грымов</td>\n",
       "      <td>Ю.Грымов</td>\n",
       "      <td>«16+» - для детей старше 16 лет</td>\n",
       "      <td>NaN</td>\n",
       "      <td>NaN</td>\n",
       "      <td>NaN</td>\n",
       "      <td>NaN</td>\n",
       "      <td>79%</td>\n",
       "      <td>драма</td>\n",
       "      <td>1.828825e+05</td>\n",
       "    </tr>\n",
       "    <tr>\n",
       "      <th>2680</th>\n",
       "      <td>Год Белого Слона</td>\n",
       "      <td>111003915</td>\n",
       "      <td>2015-04-08 12:00:00+00:00</td>\n",
       "      <td>Художественный</td>\n",
       "      <td>ООО \"Творческое объединение ЮГ\"</td>\n",
       "      <td>Россия</td>\n",
       "      <td>Ю.Грымов</td>\n",
       "      <td>П.Поляков</td>\n",
       "      <td>«6+» - для детей старше 6 лет</td>\n",
       "      <td>NaN</td>\n",
       "      <td>NaN</td>\n",
       "      <td>NaN</td>\n",
       "      <td>NaN</td>\n",
       "      <td>79%</td>\n",
       "      <td>семейный</td>\n",
       "      <td>NaN</td>\n",
       "    </tr>\n",
       "    <tr>\n",
       "      <th>3446</th>\n",
       "      <td>Короткие истории о любви - 4</td>\n",
       "      <td>126006316</td>\n",
       "      <td>2016-12-30 12:00:00+00:00</td>\n",
       "      <td>Прочие</td>\n",
       "      <td>Нетворг Айлэнд Телевижн, Магнетфильм, Шорткатс...</td>\n",
       "      <td>Великобритания - Аргентина - США - Франция - Р...</td>\n",
       "      <td>Д.Адар, П.Антохин, М.Биасин, А.Бурунова, К.Кол...</td>\n",
       "      <td>Д.Адар, Д.Амсон, П.Антохин, А.Армстронг, С.Бил...</td>\n",
       "      <td>«18+» - запрещено для детей</td>\n",
       "      <td>NaN</td>\n",
       "      <td>NaN</td>\n",
       "      <td>NaN</td>\n",
       "      <td>NaN</td>\n",
       "      <td>83%</td>\n",
       "      <td>NaN</td>\n",
       "      <td>2.266408e+06</td>\n",
       "    </tr>\n",
       "    <tr>\n",
       "      <th>5455</th>\n",
       "      <td>Вечный холод</td>\n",
       "      <td>111006417</td>\n",
       "      <td>2017-08-28 12:00:00+00:00</td>\n",
       "      <td>Художественный</td>\n",
       "      <td>ЗАО \"Производственный комплекс \"ГЛАВКИНО\", ООО...</td>\n",
       "      <td>Россия</td>\n",
       "      <td>А.Мигачев</td>\n",
       "      <td>И.Бачурин</td>\n",
       "      <td>«18+» - запрещено для детей</td>\n",
       "      <td>NaN</td>\n",
       "      <td>NaN</td>\n",
       "      <td>NaN</td>\n",
       "      <td>NaN</td>\n",
       "      <td>83%</td>\n",
       "      <td>фэнтези,боевик,триллер</td>\n",
       "      <td>NaN</td>\n",
       "    </tr>\n",
       "    <tr>\n",
       "      <th>1874</th>\n",
       "      <td>Короткие истории о любви 2</td>\n",
       "      <td>121002615</td>\n",
       "      <td>2015-02-13 12:00:00+00:00</td>\n",
       "      <td>Художественный</td>\n",
       "      <td>Кавиар, Курт 13, СтритЛайт Филмз, Нэйер Дойче ...</td>\n",
       "      <td>Нидерланды - США - Германия - Канада - Франция...</td>\n",
       "      <td>Мэтью Аувро, Лео Брайдл, Бен Бренд, Ден Кларк,...</td>\n",
       "      <td>Мэри Пэт Бентел, Бен Бренд, Сиара Гиллан, Джор...</td>\n",
       "      <td>«18+» - запрещено для детей</td>\n",
       "      <td>NaN</td>\n",
       "      <td>NaN</td>\n",
       "      <td>NaN</td>\n",
       "      <td>NaN</td>\n",
       "      <td>83%</td>\n",
       "      <td>NaN</td>\n",
       "      <td>1.429859e+06</td>\n",
       "    </tr>\n",
       "    <tr>\n",
       "      <th>5332</th>\n",
       "      <td>Добыча.</td>\n",
       "      <td>121009411</td>\n",
       "      <td>2011-06-15 12:00:00+00:00</td>\n",
       "      <td>Художественный</td>\n",
       "      <td>Афтер Дарк Филмз</td>\n",
       "      <td>США</td>\n",
       "      <td>Патрик Сиверсен</td>\n",
       "      <td>Закари Ти Брайан, Кристофер</td>\n",
       "      <td>«18+» - запрещено для детей</td>\n",
       "      <td>NaN</td>\n",
       "      <td>NaN</td>\n",
       "      <td>NaN</td>\n",
       "      <td>NaN</td>\n",
       "      <td>88%</td>\n",
       "      <td>фантастика,боевик,триллер</td>\n",
       "      <td>NaN</td>\n",
       "    </tr>\n",
       "    <tr>\n",
       "      <th>3439</th>\n",
       "      <td>Семь диких историй</td>\n",
       "      <td>126005916</td>\n",
       "      <td>2016-11-28 12:00:00+00:00</td>\n",
       "      <td>Прочие</td>\n",
       "      <td>Макс Бэйкер, Джон Е.Брайан, Пьер-Луи Гарнон,  ...</td>\n",
       "      <td>США - Пуэрто-Рико - Франция</td>\n",
       "      <td>М.Бэйкер, Д.Е.Брайант, Д.Рондот, Я.Серсар, Д.С...</td>\n",
       "      <td>М.Бэйкер, Д.Е.Брайан, П.-Л.Гарнон, М.Х.Дельгад...</td>\n",
       "      <td>«18+» - запрещено для детей</td>\n",
       "      <td>NaN</td>\n",
       "      <td>NaN</td>\n",
       "      <td>NaN</td>\n",
       "      <td>NaN</td>\n",
       "      <td>88%</td>\n",
       "      <td>NaN</td>\n",
       "      <td>1.025937e+06</td>\n",
       "    </tr>\n",
       "    <tr>\n",
       "      <th>7277</th>\n",
       "      <td>Добыча</td>\n",
       "      <td>121028319</td>\n",
       "      <td>2019-10-03 12:00:00+00:00</td>\n",
       "      <td>Художественный</td>\n",
       "      <td>Блумхаус Продакшнз, Хайд Парк Интертейнмент, Т...</td>\n",
       "      <td>США</td>\n",
       "      <td>Франк Халфун</td>\n",
       "      <td>Ашок Амритрадж, Джейсон Блум, Трэвис Клафф</td>\n",
       "      <td>«16+» - для детей старше 16 лет</td>\n",
       "      <td>NaN</td>\n",
       "      <td>NaN</td>\n",
       "      <td>NaN</td>\n",
       "      <td>NaN</td>\n",
       "      <td>88%</td>\n",
       "      <td>фантастика,боевик,триллер</td>\n",
       "      <td>4.416590e+06</td>\n",
       "    </tr>\n",
       "    <tr>\n",
       "      <th>3786</th>\n",
       "      <td>Охотники</td>\n",
       "      <td>111017816</td>\n",
       "      <td>2016-02-06 12:00:00+00:00</td>\n",
       "      <td>Художественный</td>\n",
       "      <td>Селиверстов Александр Александрович</td>\n",
       "      <td>Россия</td>\n",
       "      <td>А.Селиверстов</td>\n",
       "      <td>Е.Тарковская, Т.Лагода, Д.Степанян</td>\n",
       "      <td>«16+» - для детей старше 16 лет</td>\n",
       "      <td>NaN</td>\n",
       "      <td>NaN</td>\n",
       "      <td>NaN</td>\n",
       "      <td>NaN</td>\n",
       "      <td>89%</td>\n",
       "      <td>фантастика,комедия,боевик</td>\n",
       "      <td>8.284000e+04</td>\n",
       "    </tr>\n",
       "    <tr>\n",
       "      <th>3139</th>\n",
       "      <td>Я умею вязать</td>\n",
       "      <td>111019615</td>\n",
       "      <td>2015-11-27 12:00:00+00:00</td>\n",
       "      <td>Художественный</td>\n",
       "      <td>ООО \"Белое Зеркало\"</td>\n",
       "      <td>Россия</td>\n",
       "      <td>Н.Степанова при участии С.Иванова</td>\n",
       "      <td>С.Кикнавелидзе, Д.Улюкаев</td>\n",
       "      <td>«16+» - для детей старше 16 лет</td>\n",
       "      <td>0.0</td>\n",
       "      <td>4700000.0</td>\n",
       "      <td>14462464.0</td>\n",
       "      <td>Министерство культуры</td>\n",
       "      <td>90%</td>\n",
       "      <td>драма</td>\n",
       "      <td>8.013700e+05</td>\n",
       "    </tr>\n",
       "    <tr>\n",
       "      <th>2126</th>\n",
       "      <td>Поездка к матери</td>\n",
       "      <td>111002015</td>\n",
       "      <td>2015-03-02 12:00:00+00:00</td>\n",
       "      <td>Художественный</td>\n",
       "      <td>ЗАО \"Киностудия \"М\"-Фильм\"</td>\n",
       "      <td>Россия</td>\n",
       "      <td>М.Косырев-Нестеров</td>\n",
       "      <td>М.Косырев-Нестеров</td>\n",
       "      <td>«16+» - для детей старше 16 лет</td>\n",
       "      <td>NaN</td>\n",
       "      <td>NaN</td>\n",
       "      <td>NaN</td>\n",
       "      <td>NaN</td>\n",
       "      <td>91%</td>\n",
       "      <td>драма,семейный</td>\n",
       "      <td>0.000000e+00</td>\n",
       "    </tr>\n",
       "    <tr>\n",
       "      <th>6426</th>\n",
       "      <td>Памятные даты России. Партизаны и подпольщики</td>\n",
       "      <td>112013018</td>\n",
       "      <td>2018-11-28 12:00:00+00:00</td>\n",
       "      <td>Документальный</td>\n",
       "      <td>ООО Кинокомпания \"Вектор\"</td>\n",
       "      <td>Россия</td>\n",
       "      <td>Н.Иванова, А.Кузнецова</td>\n",
       "      <td>В.Коханович</td>\n",
       "      <td>«12+» - для детей старше 12 лет</td>\n",
       "      <td>NaN</td>\n",
       "      <td>NaN</td>\n",
       "      <td>NaN</td>\n",
       "      <td>NaN</td>\n",
       "      <td>91%</td>\n",
       "      <td>драма,биография</td>\n",
       "      <td>NaN</td>\n",
       "    </tr>\n",
       "    <tr>\n",
       "      <th>3514</th>\n",
       "      <td>Чужой дом</td>\n",
       "      <td>111015516</td>\n",
       "      <td>2016-09-14 12:00:00+00:00</td>\n",
       "      <td>Художественный</td>\n",
       "      <td>ООО \"Лига Продакшн\"</td>\n",
       "      <td>Россия, Грузия, Хорватия, Испания</td>\n",
       "      <td>Р.Глурджидзе</td>\n",
       "      <td>З.Магалашвили, К.Гечмен-Вальдек, Н.Горшкова</td>\n",
       "      <td>«12+» - для детей старше 12 лет</td>\n",
       "      <td>NaN</td>\n",
       "      <td>NaN</td>\n",
       "      <td>NaN</td>\n",
       "      <td>NaN</td>\n",
       "      <td>91%</td>\n",
       "      <td>драма</td>\n",
       "      <td>NaN</td>\n",
       "    </tr>\n",
       "    <tr>\n",
       "      <th>2146</th>\n",
       "      <td>Главный</td>\n",
       "      <td>111003415</td>\n",
       "      <td>2015-03-27 12:00:00+00:00</td>\n",
       "      <td>Художественный</td>\n",
       "      <td>ООО \"Киностудия \"МАСТЕР\"</td>\n",
       "      <td>Россия</td>\n",
       "      <td>Ю.Кара</td>\n",
       "      <td>Ю.Кара</td>\n",
       "      <td>«6+» - для детей старше 6 лет</td>\n",
       "      <td>0.0</td>\n",
       "      <td>10000000.0</td>\n",
       "      <td>40000000.0</td>\n",
       "      <td>Министерство культуры</td>\n",
       "      <td>94%</td>\n",
       "      <td>фантастика,боевик,комедия</td>\n",
       "      <td>3.347500e+05</td>\n",
       "    </tr>\n",
       "    <tr>\n",
       "      <th>5910</th>\n",
       "      <td>Мира</td>\n",
       "      <td>112000118</td>\n",
       "      <td>2018-06-04 12:00:00+00:00</td>\n",
       "      <td>Документальный</td>\n",
       "      <td>ООО \"Компания \"Новые люди\"</td>\n",
       "      <td>Россия</td>\n",
       "      <td>Д.Шабаев</td>\n",
       "      <td>Н.Мокрицкая</td>\n",
       "      <td>«18+» - запрещено для детей</td>\n",
       "      <td>NaN</td>\n",
       "      <td>NaN</td>\n",
       "      <td>NaN</td>\n",
       "      <td>NaN</td>\n",
       "      <td>94%</td>\n",
       "      <td>драма</td>\n",
       "      <td>NaN</td>\n",
       "    </tr>\n",
       "    <tr>\n",
       "      <th>5821</th>\n",
       "      <td>Свинья</td>\n",
       "      <td>121007018</td>\n",
       "      <td>2018-04-11 12:00:00+00:00</td>\n",
       "      <td>Художественный</td>\n",
       "      <td>Дарк Прекёрсор Продакшен, Филмиран, Хедейт Филм</td>\n",
       "      <td>Иран</td>\n",
       "      <td>Мани Хагиги</td>\n",
       "      <td>Мани Хагиги</td>\n",
       "      <td>«18+» - запрещено для детей</td>\n",
       "      <td>NaN</td>\n",
       "      <td>NaN</td>\n",
       "      <td>NaN</td>\n",
       "      <td>NaN</td>\n",
       "      <td>94%</td>\n",
       "      <td>триллер,драма</td>\n",
       "      <td>1.587222e+06</td>\n",
       "    </tr>\n",
       "    <tr>\n",
       "      <th>1053</th>\n",
       "      <td>Песочный человек</td>\n",
       "      <td>121029212</td>\n",
       "      <td>2012-11-29 12:00:00+00:00</td>\n",
       "      <td>Художественный</td>\n",
       "      <td>Спотлайт Медиа Продакшн</td>\n",
       "      <td>Швейцария</td>\n",
       "      <td>Питер Луизи</td>\n",
       "      <td>Дэвид Луизи, Питер Луизи</td>\n",
       "      <td>«16+» - для детей старше 16 лет</td>\n",
       "      <td>NaN</td>\n",
       "      <td>NaN</td>\n",
       "      <td>NaN</td>\n",
       "      <td>NaN</td>\n",
       "      <td>97%</td>\n",
       "      <td>ужасы,фантастика,фэнтези</td>\n",
       "      <td>NaN</td>\n",
       "    </tr>\n",
       "    <tr>\n",
       "      <th>3948</th>\n",
       "      <td>Круиз.</td>\n",
       "      <td>211038210</td>\n",
       "      <td>2010-09-03 12:00:00+00:00</td>\n",
       "      <td>Художественный</td>\n",
       "      <td>ООО \"ЮНАЙТЕД МУЛЬТИМЕДИА ПРОДЖЕКТС\"</td>\n",
       "      <td>Россия</td>\n",
       "      <td>И.Ромащенко</td>\n",
       "      <td>Р.Атамалибеков</td>\n",
       "      <td>«16+» - для детей старше 16 лет</td>\n",
       "      <td>NaN</td>\n",
       "      <td>NaN</td>\n",
       "      <td>NaN</td>\n",
       "      <td>NaN</td>\n",
       "      <td>97%</td>\n",
       "      <td>приключения,комедия,фэнтези</td>\n",
       "      <td>NaN</td>\n",
       "    </tr>\n",
       "    <tr>\n",
       "      <th>3585</th>\n",
       "      <td>Машины Страшилки. Серия \"Жутчайшая повесть о п...</td>\n",
       "      <td>114003916</td>\n",
       "      <td>2016-12-09 12:00:00+00:00</td>\n",
       "      <td>Анимационный</td>\n",
       "      <td>ООО Студия \"АНИМАККОРД\", АНИМАККОРД ЛТД.</td>\n",
       "      <td>Россия, Республика Кипр</td>\n",
       "      <td>Д.Червяцов</td>\n",
       "      <td>Д.Ловейко, О.Кузовков</td>\n",
       "      <td>«0+» - для любой зрительской аудитории</td>\n",
       "      <td>NaN</td>\n",
       "      <td>NaN</td>\n",
       "      <td>NaN</td>\n",
       "      <td>NaN</td>\n",
       "      <td>97%</td>\n",
       "      <td>мультфильм,ужасы,фэнтези</td>\n",
       "      <td>NaN</td>\n",
       "    </tr>\n",
       "    <tr>\n",
       "      <th>6616</th>\n",
       "      <td>ОТ ВОЙНЫ ДО НАШИХ ДНЕЙ</td>\n",
       "      <td>111026518</td>\n",
       "      <td>2019-01-21 12:00:00+00:00</td>\n",
       "      <td>Художественный</td>\n",
       "      <td>ИП Вайсман Анатолий Александрович</td>\n",
       "      <td>Россия</td>\n",
       "      <td>А.Сазонов, Е.Климович, А.Коломеец, С.Черникова...</td>\n",
       "      <td>Д.Руюежин, Л.Пятницкая, Д.Колеров, Э.Ким, А.Хомич</td>\n",
       "      <td>«12+» - для детей старше 12 лет</td>\n",
       "      <td>NaN</td>\n",
       "      <td>NaN</td>\n",
       "      <td>NaN</td>\n",
       "      <td>NaN</td>\n",
       "      <td>98%</td>\n",
       "      <td>фантастика,боевик</td>\n",
       "      <td>NaN</td>\n",
       "    </tr>\n",
       "    <tr>\n",
       "      <th>6737</th>\n",
       "      <td>Колесо времени</td>\n",
       "      <td>111003219</td>\n",
       "      <td>2019-03-01 12:00:00+00:00</td>\n",
       "      <td>Художественный</td>\n",
       "      <td>ООО \"БестМедиа\"</td>\n",
       "      <td>Россия</td>\n",
       "      <td>Б.Куломзин</td>\n",
       "      <td>Б.Куломзин</td>\n",
       "      <td>«6+» - для детей старше 6 лет</td>\n",
       "      <td>NaN</td>\n",
       "      <td>NaN</td>\n",
       "      <td>NaN</td>\n",
       "      <td>NaN</td>\n",
       "      <td>98%</td>\n",
       "      <td>фэнтези,приключения</td>\n",
       "      <td>3.499200e+04</td>\n",
       "    </tr>\n",
       "    <tr>\n",
       "      <th>1805</th>\n",
       "      <td>Спираль.</td>\n",
       "      <td>111001014</td>\n",
       "      <td>2014-01-30 12:00:00+00:00</td>\n",
       "      <td>Художественный</td>\n",
       "      <td>ООО \"Компания Питон\"</td>\n",
       "      <td>Россия</td>\n",
       "      <td>А.Волгин</td>\n",
       "      <td>Е.Ковалева</td>\n",
       "      <td>«12+» - для детей старше 12 лет</td>\n",
       "      <td>NaN</td>\n",
       "      <td>NaN</td>\n",
       "      <td>NaN</td>\n",
       "      <td>NaN</td>\n",
       "      <td>99%</td>\n",
       "      <td>аниме,мультфильм,ужасы</td>\n",
       "      <td>4.295000e+03</td>\n",
       "    </tr>\n",
       "    <tr>\n",
       "      <th>6882</th>\n",
       "      <td>Животные рядом со Святыми</td>\n",
       "      <td>112003719</td>\n",
       "      <td>2019-05-03 12:00:00+00:00</td>\n",
       "      <td>Документальный</td>\n",
       "      <td>ООО \"Кинопрограмма \"XXI век\"</td>\n",
       "      <td>Россия</td>\n",
       "      <td>Т.Мирошник</td>\n",
       "      <td>В.Есинов, Е.Калинина</td>\n",
       "      <td>«0+» - для любой зрительской аудитории</td>\n",
       "      <td>NaN</td>\n",
       "      <td>NaN</td>\n",
       "      <td>NaN</td>\n",
       "      <td>NaN</td>\n",
       "      <td>99%</td>\n",
       "      <td>криминал,драма</td>\n",
       "      <td>NaN</td>\n",
       "    </tr>\n",
       "    <tr>\n",
       "      <th>1341</th>\n",
       "      <td>Сказка о добре и Вре</td>\n",
       "      <td>111008913</td>\n",
       "      <td>2013-11-15 12:00:00+00:00</td>\n",
       "      <td>Художественный</td>\n",
       "      <td>НП \"Студия игрового кино \"Лик\"</td>\n",
       "      <td>Россия</td>\n",
       "      <td>Е.Шиляева</td>\n",
       "      <td>К.Терещенко</td>\n",
       "      <td>«6+» - для детей старше 6 лет</td>\n",
       "      <td>NaN</td>\n",
       "      <td>NaN</td>\n",
       "      <td>NaN</td>\n",
       "      <td>NaN</td>\n",
       "      <td>99%</td>\n",
       "      <td>триллер,драма,детектив</td>\n",
       "      <td>NaN</td>\n",
       "    </tr>\n",
       "    <tr>\n",
       "      <th>259</th>\n",
       "      <td>Прошлое</td>\n",
       "      <td>221030715</td>\n",
       "      <td>2015-07-29 12:00:00+00:00</td>\n",
       "      <td>Художественный</td>\n",
       "      <td>20 Сенчюри Фокс де Архентина, Чемо, ЭйчБи Филм...</td>\n",
       "      <td>Аргентина - Бразилия</td>\n",
       "      <td>Эктор Бабенко</td>\n",
       "      <td>Эктор Бабенко, Оскар Крамер, Хуго Сидмэн</td>\n",
       "      <td>«16+» - для детей старше 16 лет</td>\n",
       "      <td>NaN</td>\n",
       "      <td>NaN</td>\n",
       "      <td>NaN</td>\n",
       "      <td>NaN</td>\n",
       "      <td>99%</td>\n",
       "      <td>ужасы,триллер,драма</td>\n",
       "      <td>NaN</td>\n",
       "    </tr>\n",
       "  </tbody>\n",
       "</table>\n",
       "</div>"
      ],
      "text/plain": [
       "                                                  title   puNumber  \\\n",
       "3431                                             Наурыз  131000217   \n",
       "811                                           От винта!  114000212   \n",
       "2438                                    Самый рыжий Лис  111012715   \n",
       "1899  Золушка /По сказке Шарля Перро/. Холодное торж...  121003615   \n",
       "7159                    Анна Каренина. Интимный дневник  111013919   \n",
       "2680                                   Год Белого Слона  111003915   \n",
       "3446                       Короткие истории о любви - 4  126006316   \n",
       "5455                                       Вечный холод  111006417   \n",
       "1874                         Короткие истории о любви 2  121002615   \n",
       "5332                                            Добыча.  121009411   \n",
       "3439                                 Семь диких историй  126005916   \n",
       "7277                                             Добыча  121028319   \n",
       "3786                                           Охотники  111017816   \n",
       "3139                                      Я умею вязать  111019615   \n",
       "2126                                   Поездка к матери  111002015   \n",
       "6426      Памятные даты России. Партизаны и подпольщики  112013018   \n",
       "3514                                          Чужой дом  111015516   \n",
       "2146                                            Главный  111003415   \n",
       "5910                                               Мира  112000118   \n",
       "5821                                             Свинья  121007018   \n",
       "1053                                   Песочный человек  121029212   \n",
       "3948                                             Круиз.  211038210   \n",
       "3585  Машины Страшилки. Серия \"Жутчайшая повесть о п...  114003916   \n",
       "6616                             ОТ ВОЙНЫ ДО НАШИХ ДНЕЙ  111026518   \n",
       "6737                                     Колесо времени  111003219   \n",
       "1805                                           Спираль.  111001014   \n",
       "6882                          Животные рядом со Святыми  112003719   \n",
       "1341                               Сказка о добре и Вре  111008913   \n",
       "259                                             Прошлое  221030715   \n",
       "\n",
       "               show_start_date             type  \\\n",
       "3431 2017-03-09 12:00:00+00:00   Художественный   \n",
       "811  2012-08-06 12:00:00+00:00     Анимационный   \n",
       "2438 2015-07-30 12:00:00+00:00   Художественный   \n",
       "1899 2015-02-27 12:00:00+00:00   Художественный   \n",
       "7159 2019-10-23 12:00:00+00:00   Художественный   \n",
       "2680 2015-04-08 12:00:00+00:00   Художественный   \n",
       "3446 2016-12-30 12:00:00+00:00           Прочие   \n",
       "5455 2017-08-28 12:00:00+00:00   Художественный   \n",
       "1874 2015-02-13 12:00:00+00:00   Художественный   \n",
       "5332 2011-06-15 12:00:00+00:00   Художественный   \n",
       "3439 2016-11-28 12:00:00+00:00           Прочие   \n",
       "7277 2019-10-03 12:00:00+00:00   Художественный   \n",
       "3786 2016-02-06 12:00:00+00:00   Художественный   \n",
       "3139 2015-11-27 12:00:00+00:00   Художественный   \n",
       "2126 2015-03-02 12:00:00+00:00   Художественный   \n",
       "6426 2018-11-28 12:00:00+00:00   Документальный   \n",
       "3514 2016-09-14 12:00:00+00:00   Художественный   \n",
       "2146 2015-03-27 12:00:00+00:00   Художественный   \n",
       "5910 2018-06-04 12:00:00+00:00   Документальный   \n",
       "5821 2018-04-11 12:00:00+00:00   Художественный   \n",
       "1053 2012-11-29 12:00:00+00:00   Художественный   \n",
       "3948 2010-09-03 12:00:00+00:00   Художественный   \n",
       "3585 2016-12-09 12:00:00+00:00     Анимационный   \n",
       "6616 2019-01-21 12:00:00+00:00   Художественный   \n",
       "6737 2019-03-01 12:00:00+00:00   Художественный   \n",
       "1805 2014-01-30 12:00:00+00:00   Художественный   \n",
       "6882 2019-05-03 12:00:00+00:00   Документальный   \n",
       "1341 2013-11-15 12:00:00+00:00   Художественный   \n",
       "259  2015-07-29 12:00:00+00:00   Художественный   \n",
       "\n",
       "                                            film_studio  \\\n",
       "3431                                             Эс Джи   \n",
       "811                   ЗАО \"Продюсерский центр \"Парадиз\"   \n",
       "2438                 ООО \"Продюсерский центр \"Ленфильм\"   \n",
       "1899                    Женр Филмз, Уолт Дисней Пикчерз   \n",
       "7159                                          ООО \"РТВ\"   \n",
       "2680                    ООО \"Творческое объединение ЮГ\"   \n",
       "3446  Нетворг Айлэнд Телевижн, Магнетфильм, Шорткатс...   \n",
       "5455  ЗАО \"Производственный комплекс \"ГЛАВКИНО\", ООО...   \n",
       "1874  Кавиар, Курт 13, СтритЛайт Филмз, Нэйер Дойче ...   \n",
       "5332                                   Афтер Дарк Филмз   \n",
       "3439  Макс Бэйкер, Джон Е.Брайан, Пьер-Луи Гарнон,  ...   \n",
       "7277  Блумхаус Продакшнз, Хайд Парк Интертейнмент, Т...   \n",
       "3786                Селиверстов Александр Александрович   \n",
       "3139                                ООО \"Белое Зеркало\"   \n",
       "2126                         ЗАО \"Киностудия \"М\"-Фильм\"   \n",
       "6426                          ООО Кинокомпания \"Вектор\"   \n",
       "3514                                ООО \"Лига Продакшн\"   \n",
       "2146                           ООО \"Киностудия \"МАСТЕР\"   \n",
       "5910                         ООО \"Компания \"Новые люди\"   \n",
       "5821    Дарк Прекёрсор Продакшен, Филмиран, Хедейт Филм   \n",
       "1053                            Спотлайт Медиа Продакшн   \n",
       "3948                ООО \"ЮНАЙТЕД МУЛЬТИМЕДИА ПРОДЖЕКТС\"   \n",
       "3585           ООО Студия \"АНИМАККОРД\", АНИМАККОРД ЛТД.   \n",
       "6616                  ИП Вайсман Анатолий Александрович   \n",
       "6737                                    ООО \"БестМедиа\"   \n",
       "1805                               ООО \"Компания Питон\"   \n",
       "6882                       ООО \"Кинопрограмма \"XXI век\"   \n",
       "1341                     НП \"Студия игрового кино \"Лик\"   \n",
       "259   20 Сенчюри Фокс де Архентина, Чемо, ЭйчБи Филм...   \n",
       "\n",
       "                                     production_country  \\\n",
       "3431                               Республика Казахстан   \n",
       "811                                              Россия   \n",
       "2438                                             Россия   \n",
       "1899                                                США   \n",
       "7159                                             Россия   \n",
       "2680                                             Россия   \n",
       "3446  Великобритания - Аргентина - США - Франция - Р...   \n",
       "5455                                             Россия   \n",
       "1874  Нидерланды - США - Германия - Канада - Франция...   \n",
       "5332                                                США   \n",
       "3439                       США - Пуэрто-Рико - Франция    \n",
       "7277                                                США   \n",
       "3786                                             Россия   \n",
       "3139                                             Россия   \n",
       "2126                                             Россия   \n",
       "6426                                             Россия   \n",
       "3514                  Россия, Грузия, Хорватия, Испания   \n",
       "2146                                             Россия   \n",
       "5910                                             Россия   \n",
       "5821                                               Иран   \n",
       "1053                                          Швейцария   \n",
       "3948                                             Россия   \n",
       "3585                            Россия, Республика Кипр   \n",
       "6616                                             Россия   \n",
       "6737                                             Россия   \n",
       "1805                                             Россия   \n",
       "6882                                             Россия   \n",
       "1341                                             Россия   \n",
       "259                                Аргентина - Бразилия   \n",
       "\n",
       "                                               director  \\\n",
       "3431                                     Аскар Бисембин   \n",
       "811                                            О.Лопато   \n",
       "2438                                        А.Стреляная   \n",
       "1899                                       Кеннет Брана   \n",
       "7159                                           Ю.Грымов   \n",
       "2680                                           Ю.Грымов   \n",
       "3446  Д.Адар, П.Антохин, М.Биасин, А.Бурунова, К.Кол...   \n",
       "5455                                          А.Мигачев   \n",
       "1874  Мэтью Аувро, Лео Брайдл, Бен Бренд, Ден Кларк,...   \n",
       "5332                                    Патрик Сиверсен   \n",
       "3439  М.Бэйкер, Д.Е.Брайант, Д.Рондот, Я.Серсар, Д.С...   \n",
       "7277                                       Франк Халфун   \n",
       "3786                                      А.Селиверстов   \n",
       "3139                  Н.Степанова при участии С.Иванова   \n",
       "2126                                 М.Косырев-Нестеров   \n",
       "6426                             Н.Иванова, А.Кузнецова   \n",
       "3514                                       Р.Глурджидзе   \n",
       "2146                                             Ю.Кара   \n",
       "5910                                           Д.Шабаев   \n",
       "5821                                        Мани Хагиги   \n",
       "1053                                        Питер Луизи   \n",
       "3948                                        И.Ромащенко   \n",
       "3585                                         Д.Червяцов   \n",
       "6616  А.Сазонов, Е.Климович, А.Коломеец, С.Черникова...   \n",
       "6737                                         Б.Куломзин   \n",
       "1805                                           А.Волгин   \n",
       "6882                                         Т.Мирошник   \n",
       "1341                                          Е.Шиляева   \n",
       "259                                       Эктор Бабенко   \n",
       "\n",
       "                                               producer  \\\n",
       "3431                 Олег Головашкин, Алмас Султангазин   \n",
       "811                 Г.Нерсисян, А.Манасарян, А.Нерсесян   \n",
       "2438                           А.Котелевский, Э.Пичугин   \n",
       "1899       Дэвид Бэррон, Саймон Кинберг, Эллисон Ширмур   \n",
       "7159                                           Ю.Грымов   \n",
       "2680                                          П.Поляков   \n",
       "3446  Д.Адар, Д.Амсон, П.Антохин, А.Армстронг, С.Бил...   \n",
       "5455                                          И.Бачурин   \n",
       "1874  Мэри Пэт Бентел, Бен Бренд, Сиара Гиллан, Джор...   \n",
       "5332                        Закари Ти Брайан, Кристофер   \n",
       "3439  М.Бэйкер, Д.Е.Брайан, П.-Л.Гарнон, М.Х.Дельгад...   \n",
       "7277         Ашок Амритрадж, Джейсон Блум, Трэвис Клафф   \n",
       "3786                 Е.Тарковская, Т.Лагода, Д.Степанян   \n",
       "3139                          С.Кикнавелидзе, Д.Улюкаев   \n",
       "2126                                 М.Косырев-Нестеров   \n",
       "6426                                        В.Коханович   \n",
       "3514        З.Магалашвили, К.Гечмен-Вальдек, Н.Горшкова   \n",
       "2146                                             Ю.Кара   \n",
       "5910                                        Н.Мокрицкая   \n",
       "5821                                        Мани Хагиги   \n",
       "1053                           Дэвид Луизи, Питер Луизи   \n",
       "3948                                     Р.Атамалибеков   \n",
       "3585                              Д.Ловейко, О.Кузовков   \n",
       "6616  Д.Руюежин, Л.Пятницкая, Д.Колеров, Э.Ким, А.Хомич   \n",
       "6737                                         Б.Куломзин   \n",
       "1805                                         Е.Ковалева   \n",
       "6882                               В.Есинов, Е.Калинина   \n",
       "1341                                        К.Терещенко   \n",
       "259            Эктор Бабенко, Оскар Крамер, Хуго Сидмэн   \n",
       "\n",
       "                             age_restriction  refundable_support  \\\n",
       "3431         «12+» - для детей старше 12 лет                 NaN   \n",
       "811          «12+» - для детей старше 12 лет                 NaN   \n",
       "2438           «6+» - для детей старше 6 лет                 NaN   \n",
       "1899           «6+» - для детей старше 6 лет                 NaN   \n",
       "7159         «16+» - для детей старше 16 лет                 NaN   \n",
       "2680           «6+» - для детей старше 6 лет                 NaN   \n",
       "3446             «18+» - запрещено для детей                 NaN   \n",
       "5455             «18+» - запрещено для детей                 NaN   \n",
       "1874             «18+» - запрещено для детей                 NaN   \n",
       "5332             «18+» - запрещено для детей                 NaN   \n",
       "3439             «18+» - запрещено для детей                 NaN   \n",
       "7277         «16+» - для детей старше 16 лет                 NaN   \n",
       "3786         «16+» - для детей старше 16 лет                 NaN   \n",
       "3139         «16+» - для детей старше 16 лет                 0.0   \n",
       "2126         «16+» - для детей старше 16 лет                 NaN   \n",
       "6426         «12+» - для детей старше 12 лет                 NaN   \n",
       "3514         «12+» - для детей старше 12 лет                 NaN   \n",
       "2146           «6+» - для детей старше 6 лет                 0.0   \n",
       "5910             «18+» - запрещено для детей                 NaN   \n",
       "5821             «18+» - запрещено для детей                 NaN   \n",
       "1053         «16+» - для детей старше 16 лет                 NaN   \n",
       "3948         «16+» - для детей старше 16 лет                 NaN   \n",
       "3585  «0+» - для любой зрительской аудитории                 NaN   \n",
       "6616         «12+» - для детей старше 12 лет                 NaN   \n",
       "6737           «6+» - для детей старше 6 лет                 NaN   \n",
       "1805         «12+» - для детей старше 12 лет                 NaN   \n",
       "6882  «0+» - для любой зрительской аудитории                 NaN   \n",
       "1341           «6+» - для детей старше 6 лет                 NaN   \n",
       "259          «16+» - для детей старше 16 лет                 NaN   \n",
       "\n",
       "      nonrefundable_support      budget       financing_source ratings  \\\n",
       "3431                    NaN         NaN                    NaN     19%   \n",
       "811                     NaN         NaN                    NaN     28%   \n",
       "2438                    NaN         NaN                    NaN     62%   \n",
       "1899                    NaN         NaN                    NaN     64%   \n",
       "7159                    NaN         NaN                    NaN     79%   \n",
       "2680                    NaN         NaN                    NaN     79%   \n",
       "3446                    NaN         NaN                    NaN     83%   \n",
       "5455                    NaN         NaN                    NaN     83%   \n",
       "1874                    NaN         NaN                    NaN     83%   \n",
       "5332                    NaN         NaN                    NaN     88%   \n",
       "3439                    NaN         NaN                    NaN     88%   \n",
       "7277                    NaN         NaN                    NaN     88%   \n",
       "3786                    NaN         NaN                    NaN     89%   \n",
       "3139              4700000.0  14462464.0  Министерство культуры     90%   \n",
       "2126                    NaN         NaN                    NaN     91%   \n",
       "6426                    NaN         NaN                    NaN     91%   \n",
       "3514                    NaN         NaN                    NaN     91%   \n",
       "2146             10000000.0  40000000.0  Министерство культуры     94%   \n",
       "5910                    NaN         NaN                    NaN     94%   \n",
       "5821                    NaN         NaN                    NaN     94%   \n",
       "1053                    NaN         NaN                    NaN     97%   \n",
       "3948                    NaN         NaN                    NaN     97%   \n",
       "3585                    NaN         NaN                    NaN     97%   \n",
       "6616                    NaN         NaN                    NaN     98%   \n",
       "6737                    NaN         NaN                    NaN     98%   \n",
       "1805                    NaN         NaN                    NaN     99%   \n",
       "6882                    NaN         NaN                    NaN     99%   \n",
       "1341                    NaN         NaN                    NaN     99%   \n",
       "259                     NaN         NaN                    NaN     99%   \n",
       "\n",
       "                           genres    box_office  \n",
       "3431                      комедия  3.796000e+04  \n",
       "811   детский,приключения,комедия  1.740000e+03  \n",
       "2438             фэнтези,семейный           NaN  \n",
       "1899     мюзикл,фэнтези,мелодрама  5.287326e+08  \n",
       "7159                        драма  1.828825e+05  \n",
       "2680                     семейный           NaN  \n",
       "3446                          NaN  2.266408e+06  \n",
       "5455       фэнтези,боевик,триллер           NaN  \n",
       "1874                          NaN  1.429859e+06  \n",
       "5332    фантастика,боевик,триллер           NaN  \n",
       "3439                          NaN  1.025937e+06  \n",
       "7277    фантастика,боевик,триллер  4.416590e+06  \n",
       "3786    фантастика,комедия,боевик  8.284000e+04  \n",
       "3139                        драма  8.013700e+05  \n",
       "2126               драма,семейный  0.000000e+00  \n",
       "6426              драма,биография           NaN  \n",
       "3514                        драма           NaN  \n",
       "2146    фантастика,боевик,комедия  3.347500e+05  \n",
       "5910                        драма           NaN  \n",
       "5821                триллер,драма  1.587222e+06  \n",
       "1053     ужасы,фантастика,фэнтези           NaN  \n",
       "3948  приключения,комедия,фэнтези           NaN  \n",
       "3585     мультфильм,ужасы,фэнтези           NaN  \n",
       "6616            фантастика,боевик           NaN  \n",
       "6737          фэнтези,приключения  3.499200e+04  \n",
       "1805       аниме,мультфильм,ужасы  4.295000e+03  \n",
       "6882               криминал,драма           NaN  \n",
       "1341       триллер,драма,детектив           NaN  \n",
       "259           ужасы,триллер,драма           NaN  "
      ]
     },
     "execution_count": 13,
     "metadata": {},
     "output_type": "execute_result"
    }
   ],
   "source": [
    "unknown_ratings = ['99%', '28%', '97%','83%', '64%',\n",
    "                  '91%', '94%', '62%', '79%', '90%',\n",
    "                  '19%', '88%', '89%', '98%']\n",
    "df.query('ratings in @unknown_ratings').sort_values(by='ratings')"
   ]
  },
  {
   "cell_type": "markdown",
   "metadata": {
    "id": "qRNMzF9Z7I7e"
   },
   "source": [
    "Мы видим техническую ошибку, вероятно рейтинг фильма не 99%, а 9.9. Но мы знаем, что самый рейтинговый фильм на КиноПоиске имеет оценку 9.1. Пока заполним эти аномальные рейтинги пропусками."
   ]
  },
  {
   "cell_type": "code",
   "execution_count": 14,
   "metadata": {
    "colab": {
     "base_uri": "https://localhost:8080/"
    },
    "id": "ry3anK3b7SkD",
    "outputId": "dae95951-4644-443d-9680-260b3321f463"
   },
   "outputs": [
    {
     "data": {
      "text/plain": [
       "array(['7.2', '6.6', '6.8', '7.7', '8.3', '8.0', '7.8', '8.1', '7.1',\n",
       "       '6.0', '7.4', '5.8', '8.7', '6.3', '6.9', '5.0', '4.3', '7.3',\n",
       "       '7.0', '6.4', nan, '8.2', '7.5', '6.7', '7.9', '5.9', '6.2', '5.6',\n",
       "       '6.5', '2.4', '7.6', '6.1', '8.6', '8.5', '8.8', '5.5', '5.1',\n",
       "       '5.7', '5.4', '4.4', '4.5', '5.3', '4.1', '8.4', '2.6', '3.8',\n",
       "       '4.6', '4.8', '4.0', '3.0', '1.6', '4.2', '5.2', '4.7', '4.9',\n",
       "       '3.9', '2.7', '3.3', '2.9', '3.7', '1.4', '3.1', '3.5', '3.2',\n",
       "       '2.8', '1.5', '2.1', '2.5', '9.2', '3.4', '1.1', '3.6', '1.0',\n",
       "       '1.3', '1.9', '1.8', '1.2', '1.7', '9.0', '8.9', '9.1'],\n",
       "      dtype=object)"
      ]
     },
     "execution_count": 14,
     "metadata": {},
     "output_type": "execute_result"
    }
   ],
   "source": [
    "df['corrected_ratings'] = df['ratings']\n",
    "df.loc[df['corrected_ratings'].isin(unknown_ratings), 'corrected_ratings'] = np.nan\n",
    "df['corrected_ratings'].unique()"
   ]
  },
  {
   "cell_type": "code",
   "execution_count": 15,
   "metadata": {
    "id": "rDf8HbC8GmOe"
   },
   "outputs": [],
   "source": [
    "df['corrected_ratings'] = pd.to_numeric(df['corrected_ratings'])\n",
    "df['ratings'] = df['corrected_ratings']\n",
    "del df['corrected_ratings']"
   ]
  },
  {
   "cell_type": "code",
   "execution_count": 16,
   "metadata": {
    "colab": {
     "base_uri": "https://localhost:8080/"
    },
    "id": "uVTgOk3lGtDX",
    "outputId": "43e36c68-c186-4869-96c4-05d4c2ee8394"
   },
   "outputs": [
    {
     "name": "stdout",
     "output_type": "stream",
     "text": [
      "<class 'pandas.core.frame.DataFrame'>\n",
      "Int64Index: 7486 entries, 0 to 7485\n",
      "Data columns (total 16 columns):\n",
      " #   Column                 Non-Null Count  Dtype              \n",
      "---  ------                 --------------  -----              \n",
      " 0   title                  7486 non-null   object             \n",
      " 1   puNumber               7486 non-null   object             \n",
      " 2   show_start_date        7486 non-null   datetime64[ns, UTC]\n",
      " 3   type                   7486 non-null   object             \n",
      " 4   film_studio            7468 non-null   object             \n",
      " 5   production_country     7484 non-null   object             \n",
      " 6   director               7477 non-null   object             \n",
      " 7   producer               6918 non-null   object             \n",
      " 8   age_restriction        7486 non-null   object             \n",
      " 9   refundable_support     332 non-null    float64            \n",
      " 10  nonrefundable_support  332 non-null    float64            \n",
      " 11  budget                 332 non-null    float64            \n",
      " 12  financing_source       332 non-null    object             \n",
      " 13  ratings                6490 non-null   float64            \n",
      " 14  genres                 6510 non-null   object             \n",
      " 15  box_office             3158 non-null   float64            \n",
      "dtypes: datetime64[ns, UTC](1), float64(5), object(10)\n",
      "memory usage: 994.2+ KB\n"
     ]
    }
   ],
   "source": [
    "df.info()"
   ]
  },
  {
   "cell_type": "markdown",
   "metadata": {
    "id": "i0MOLbF-gFyP"
   },
   "source": [
    "#### Шаг 2.2. Изучите пропуски в датафрейме\n",
    "\n",
    "- Объясните, почему заполнили пропуски определённым образом или почему не стали этого делать."
   ]
  },
  {
   "cell_type": "markdown",
   "metadata": {
    "id": "LwyGyVeHYZjX"
   },
   "source": [
    "Изучим количество пропусков в каждом столбце."
   ]
  },
  {
   "cell_type": "code",
   "execution_count": 17,
   "metadata": {
    "colab": {
     "base_uri": "https://localhost:8080/"
    },
    "id": "8MJD_lkngFyP",
    "outputId": "2e5ac04f-34b3-481f-fa89-6d6685b3263f"
   },
   "outputs": [
    {
     "data": {
      "text/plain": [
       "title                       0\n",
       "puNumber                    0\n",
       "show_start_date             0\n",
       "type                        0\n",
       "film_studio                18\n",
       "production_country          2\n",
       "director                    9\n",
       "producer                  568\n",
       "age_restriction             0\n",
       "refundable_support       7154\n",
       "nonrefundable_support    7154\n",
       "budget                   7154\n",
       "financing_source         7154\n",
       "ratings                   996\n",
       "genres                    976\n",
       "box_office               4328\n",
       "dtype: int64"
      ]
     },
     "execution_count": 17,
     "metadata": {},
     "output_type": "execute_result"
    }
   ],
   "source": [
    "df.isna().sum()"
   ]
  },
  {
   "cell_type": "markdown",
   "metadata": {
    "id": "WX-I1VWZbk2j"
   },
   "source": [
    "Первое, что бросается в глаза это большое количество пропусков в столбцах:\n",
    "\n",
    "<br>Пропущена большая часть данных в `refundable_support`, `nonrefundable_support`, `budget`, `financing_source`. Но в описании указано, что эти данные указаны только для тех фильмов, которые получили государственную поддержку. Также бюджет этих фильмов указан с учетом государственной поддержки;"
   ]
  },
  {
   "cell_type": "code",
   "execution_count": 18,
   "metadata": {
    "colab": {
     "base_uri": "https://localhost:8080/"
    },
    "id": "S9Frqu1lY6Zx",
    "outputId": "d973f699-5802-4bee-e950-2f6fd2088f30"
   },
   "outputs": [
    {
     "data": {
      "text/plain": [
       "array([nan, 'Министерство культуры', 'Фонд кино',\n",
       "       'Министерство культуры, Фонд кино'], dtype=object)"
      ]
     },
     "execution_count": 18,
     "metadata": {},
     "output_type": "execute_result"
    }
   ],
   "source": [
    "df['financing_source'].unique()"
   ]
  },
  {
   "cell_type": "markdown",
   "metadata": {
    "id": "3g0iQ2c_eOcs"
   },
   "source": [
    "Источника финансирования всего 3. Заполним пропуски значением `\"unknown\"`"
   ]
  },
  {
   "cell_type": "code",
   "execution_count": 19,
   "metadata": {
    "id": "J_J3V91SY6Kz"
   },
   "outputs": [],
   "source": [
    "df['financing_source'].fillna('unknown', inplace=True)"
   ]
  },
  {
   "cell_type": "markdown",
   "metadata": {
    "id": "C5pMaFrQgI6p"
   },
   "source": [
    "По аналогии со столбцом `financing_source` — источник государственного финансирования. Заполним пропуски в столбце `genres` — жанр фильма на значение `\"ungenre\"`.\n",
    "\n"
   ]
  },
  {
   "cell_type": "code",
   "execution_count": 20,
   "metadata": {
    "id": "aKck8RIdgFyQ"
   },
   "outputs": [],
   "source": [
    "df.fillna({'genres': 'ungenre'}, inplace=True)"
   ]
  },
  {
   "cell_type": "code",
   "execution_count": 21,
   "metadata": {
    "colab": {
     "base_uri": "https://localhost:8080/"
    },
    "id": "SR9NJALRkQo0",
    "outputId": "8b933e51-1194-42e8-be15-c8ecba642255"
   },
   "outputs": [
    {
     "data": {
      "text/plain": [
       "title                       0\n",
       "puNumber                    0\n",
       "show_start_date             0\n",
       "type                        0\n",
       "film_studio                18\n",
       "production_country          2\n",
       "director                    9\n",
       "producer                  568\n",
       "age_restriction             0\n",
       "refundable_support       7154\n",
       "nonrefundable_support    7154\n",
       "budget                   7154\n",
       "financing_source            0\n",
       "ratings                   996\n",
       "genres                      0\n",
       "box_office               4328\n",
       "dtype: int64"
      ]
     },
     "execution_count": 21,
     "metadata": {},
     "output_type": "execute_result"
    }
   ],
   "source": [
    "df.isna().sum()"
   ]
  },
  {
   "cell_type": "markdown",
   "metadata": {
    "id": "4c6k1t9ygFyQ"
   },
   "source": [
    "#### Шаг 2.3. Изучите дубликаты в датафрейме\n",
    "- Проверьте, есть ли в данных дубликаты. Опишите причины, которые могли повлиять на появление дублей."
   ]
  },
  {
   "cell_type": "markdown",
   "metadata": {
    "id": "lYaUBhzxoDqj"
   },
   "source": [
    "Посчитаем дубликаты Датафрейма."
   ]
  },
  {
   "cell_type": "code",
   "execution_count": 22,
   "metadata": {
    "colab": {
     "base_uri": "https://localhost:8080/"
    },
    "id": "hDI9-guQoGnz",
    "outputId": "4ba4fd98-2c53-4e3e-9305-f1488e375f03"
   },
   "outputs": [
    {
     "data": {
      "text/plain": [
       "875"
      ]
     },
     "execution_count": 22,
     "metadata": {},
     "output_type": "execute_result"
    }
   ],
   "source": [
    "df.duplicated(subset= ['title', 'type', 'film_studio',\n",
    "       'production_country', 'director', 'producer', 'age_restriction',\n",
    "       'refundable_support', 'nonrefundable_support', 'budget',\n",
    "       'financing_source', 'ratings', 'genres', 'box_office'], keep= False).sum()"
   ]
  },
  {
   "cell_type": "markdown",
   "metadata": {
    "id": "xtGI3GQ5xawP"
   },
   "source": [
    "Удалим выявленные дубликаты."
   ]
  },
  {
   "cell_type": "code",
   "execution_count": 23,
   "metadata": {
    "id": "LfQTFYicxeDD"
   },
   "outputs": [],
   "source": [
    "df = df.drop_duplicates(subset=['title', 'type', 'film_studio',\n",
    "       'production_country', 'director', 'producer', 'age_restriction',\n",
    "       'refundable_support', 'nonrefundable_support', 'budget',\n",
    "       'financing_source', 'ratings', 'genres', 'box_office'])"
   ]
  },
  {
   "cell_type": "markdown",
   "metadata": {
    "id": "2gcysCx_1QJY"
   },
   "source": [
    "Причины, которые могли повлиять на появление дублей:\n",
    "\n",
    "\n",
    "1.  Ошибка человеческого фактора, если данные вносятся вручную;\n",
    "2.  Сбой программного обеспечения, не корректная работы базы данных;\n",
    "3.  Многопоточность, например если два или более потока одновременно пытаются записать данные в одно и то же место.\n",
    "4.   Повторное использование данных: данные могут быть повторно использованы в разных контекстах, что может привести к дублированию данных."
   ]
  },
  {
   "cell_type": "markdown",
   "metadata": {
    "id": "52fOPrEBgFyQ"
   },
   "source": [
    "#### Шаг 2.4. Изучите категориальные значения\n",
    "\n",
    "- Посмотрите, какая общая проблема встречается почти во всех категориальных столбцах;\n",
    "- Исправьте проблемные значения в поле `type`.\n",
    "\n",
    "<div id=\"accordion\">\n",
    "    <div class=\"card\">\n",
    "        <div class=\"card-header\" id=\"headingThree\">\n",
    "            <button class=\"btn btn-link collapsed\" data-toggle=\"collapse\" data-target=\"#collapseHint_1\" aria-expanded=\"false\" aria-controls=\"collapseHint_1\">Подсказка</button>\n",
    "        </div>\n",
    "        <div id=\"collapseHint_1\" class=\"collapse\" aria-labelledby=\"headingThree\" data-parent=\"#accordion\">\n",
    "            <div class=\"card-body\">\n",
    "В поле <code>type</code> есть несколько значений, у которых появился пробел в начале строки. Самый простой способ их «починить» -- использовать метод <a href=\"https://pandas.pydata.org/docs/reference/api/pandas.Series.str.strip.html#pandas.Series.str.strip\">.str.strip</a>. Этот метод удаляет все пробелы, которые встречаются в начале и в конце строки. Применяют его таким образом:<br>\n",
    "<code>df['type'].str.strip()</code>\n",
    "            </div>\n",
    "        </div>\n",
    "    </div>\n",
    "</div>"
   ]
  },
  {
   "cell_type": "markdown",
   "metadata": {
    "id": "XYtNo7WUn6FE"
   },
   "source": [
    "Для изучения категориальных значений посмотрим на уникальные значения категориальных столбцов."
   ]
  },
  {
   "cell_type": "code",
   "execution_count": 24,
   "metadata": {
    "colab": {
     "base_uri": "https://localhost:8080/"
    },
    "id": "25v3x-k_g79d",
    "outputId": "f31227e4-9a3b-42f1-c4fc-effbf36e8b56"
   },
   "outputs": [
    {
     "data": {
      "text/plain": [
       "array(['Открытый простор', 'Особо важное задание', 'Особо опасен', ...,\n",
       "       'Щенячий патруль: Скорей спешим на помощь!',\n",
       "       'Машины песенки. Серия \"Испанские мотивы\"',\n",
       "       'Машины песенки. Серия \"Когда цветут кактусы\"'], dtype=object)"
      ]
     },
     "execution_count": 24,
     "metadata": {},
     "output_type": "execute_result"
    }
   ],
   "source": [
    "df['title'].unique()"
   ]
  },
  {
   "cell_type": "code",
   "execution_count": 25,
   "metadata": {
    "colab": {
     "base_uri": "https://localhost:8080/"
    },
    "id": "PnXKIVdFgFyR",
    "outputId": "c2da0209-8763-4c87-dee6-4033b18ef3e0"
   },
   "outputs": [
    {
     "data": {
      "text/plain": [
       "array(['Художественный', 'Анимационный', 'Прочие', 'Документальный',\n",
       "       'Научно-популярный', ' Художественный', ' Анимационный',\n",
       "       'Музыкально-развлекательный'], dtype=object)"
      ]
     },
     "execution_count": 25,
     "metadata": {},
     "output_type": "execute_result"
    }
   ],
   "source": [
    "df['type'].unique()"
   ]
  },
  {
   "cell_type": "markdown",
   "metadata": {
    "id": "Y_rWGcKRqqOa"
   },
   "source": [
    "Удалим пробелы перед строкой."
   ]
  },
  {
   "cell_type": "code",
   "execution_count": 26,
   "metadata": {
    "colab": {
     "base_uri": "https://localhost:8080/"
    },
    "id": "6eVNZL2Fq3Ic",
    "outputId": "69ae7a95-f3f0-4177-debc-7e319e619c0c"
   },
   "outputs": [],
   "source": [
    "df['type'] = df['type'].str.strip()"
   ]
  },
  {
   "cell_type": "code",
   "execution_count": 27,
   "metadata": {
    "colab": {
     "base_uri": "https://localhost:8080/"
    },
    "id": "334WMuG3hGr6",
    "outputId": "203df764-daf6-46fc-b682-20bbb30d7419"
   },
   "outputs": [
    {
     "data": {
      "text/plain": [
       "array(['Тачстоун Пикчерз, Кобальт Пикчерз, Бикон Пикчерз, Тиг Продакшнз',\n",
       "       'Киностудия \"Мосфильм\"',\n",
       "       'Юниверсал Пикчерз, Кикстарт Продакшнз, Марк Платт Продакшнз, Рилейтивити Медиа, Спайгласс Интертейнмент, Стилкин Филмз, Топ Кау Продакшнз',\n",
       "       ...,\n",
       "       'Дэниел Гродник Продакшнз, Вандерфилм Медиа Корпорэйшн, Импринт Интертейнмент, Вор Хорс Интертейнмент, Пимиента ',\n",
       "       'Никелодеон Анимейшн Студиос, Спин Мастер',\n",
       "       'Анимаккорд Лтд., ООО Студия \"АНИМАККОРД\"'], dtype=object)"
      ]
     },
     "execution_count": 27,
     "metadata": {},
     "output_type": "execute_result"
    }
   ],
   "source": [
    "df['film_studio'].unique()"
   ]
  },
  {
   "cell_type": "code",
   "execution_count": 28,
   "metadata": {
    "colab": {
     "base_uri": "https://localhost:8080/"
    },
    "id": "0bnzZS9OhVWg",
    "outputId": "544746c1-af78-4247-c71f-c7772abead85"
   },
   "outputs": [
    {
     "data": {
      "text/plain": [
       "array(['«18+» - запрещено для детей', '«6+» - для детей старше 6 лет',\n",
       "       '«12+» - для детей старше 12 лет',\n",
       "       '«16+» - для детей старше 16 лет',\n",
       "       '«0+» - для любой зрительской аудитории'], dtype=object)"
      ]
     },
     "execution_count": 28,
     "metadata": {},
     "output_type": "execute_result"
    }
   ],
   "source": [
    "df['age_restriction'].unique()"
   ]
  },
  {
   "cell_type": "code",
   "execution_count": 29,
   "metadata": {
    "colab": {
     "base_uri": "https://localhost:8080/"
    },
    "id": "_tv6BXuuiwFN",
    "outputId": "e5a5eb65-9cd7-45aa-94fc-7978b52adb37"
   },
   "outputs": [
    {
     "data": {
      "text/plain": [
       "array(['Кевин Костнер', 'Е.Матвеев', 'Тимур Бекмамбетов', ...,\n",
       "       'Ник Пауэлл', 'А.Беляев', 'И.Трусов'], dtype=object)"
      ]
     },
     "execution_count": 29,
     "metadata": {},
     "output_type": "execute_result"
    }
   ],
   "source": [
    "df['director'].unique()"
   ]
  },
  {
   "cell_type": "code",
   "execution_count": 30,
   "metadata": {
    "colab": {
     "base_uri": "https://localhost:8080/"
    },
    "id": "fYUUpEVdi8KO",
    "outputId": "1cc27e69-5ee3-4b22-a671-7b307aadf810"
   },
   "outputs": [
    {
     "data": {
      "text/plain": [
       "array(['Кевин Костнер', 'Е.Матвеев', 'Тимур Бекмамбетов', ...,\n",
       "       'Ник Пауэлл', 'А.Беляев', 'И.Трусов'], dtype=object)"
      ]
     },
     "execution_count": 30,
     "metadata": {},
     "output_type": "execute_result"
    }
   ],
   "source": [
    "df['director'].unique()"
   ]
  },
  {
   "cell_type": "code",
   "execution_count": 31,
   "metadata": {
    "colab": {
     "base_uri": "https://localhost:8080/"
    },
    "id": "Scx5Ypp0jRi0",
    "outputId": "0d0a1971-f077-4dfb-a58a-5743ae0cc24a"
   },
   "outputs": [
    {
     "data": {
      "text/plain": [
       "array(['боевик,драма,мелодрама', 'драма,военный',\n",
       "       'фантастика,боевик,триллер', 'драма', 'мелодрама,комедия',\n",
       "       'мюзикл,мелодрама,комедия', 'комедия,криминал',\n",
       "       'боевик,триллер,детектив', 'боевик,драма,приключения',\n",
       "       'драма,спорт', 'триллер,драма,мелодрама', 'комедия,мелодрама',\n",
       "       'драма,мелодрама,комедия', 'драма,мелодрама', 'драма,история',\n",
       "       'драма,мелодрама,семейный', 'комедия,мелодрама,криминал',\n",
       "       'комедия', 'боевик,драма,криминал', 'драма,комедия',\n",
       "       'ужасы,фантастика,комедия', 'мультфильм,короткометражка,мелодрама',\n",
       "       'драма,криминал', 'мультфильм,фантастика,фэнтези',\n",
       "       'триллер,драма,криминал', 'драма,мелодрама,биография',\n",
       "       'драма,комедия,военный', 'фантастика,драма,детектив',\n",
       "       'мюзикл,семейный', 'ungenre', 'военный,приключения,драма',\n",
       "       'документальный,драма', 'драма,биография,история',\n",
       "       'боевик,триллер,драма', 'фэнтези,боевик',\n",
       "       'боевик,комедия,криминал', 'мюзикл,комедия,детский',\n",
       "       'комедия,мелодрама,драма', 'мультфильм,фэнтези,комедия',\n",
       "       'комедия,история', 'мелодрама', 'драма,биография,музыка',\n",
       "       'фэнтези,драма,мелодрама', 'триллер,военный',\n",
       "       'драма,мелодрама,военный', 'мюзикл,драма,мелодрама',\n",
       "       'мюзикл,комедия', 'мультфильм,приключения,семейный',\n",
       "       'ужасы,триллер', 'боевик,драма,военный', 'драма,боевик',\n",
       "       'мультфильм,драма,комедия', 'триллер,криминал',\n",
       "       'военный,биография,драма', 'комедия,семейный', 'военный',\n",
       "       'драма,семейный,биография', 'фэнтези,приключения,семейный',\n",
       "       'драма,криминал,биография', 'ужасы,триллер,детектив',\n",
       "       'боевик,история,драма', 'ужасы,триллер,драма',\n",
       "       'драма,криминал,спорт', 'документальный,короткометражка',\n",
       "       'триллер,драма', 'криминал,детектив,приключения',\n",
       "       'драма,комедия,криминал', 'драма,комедия,вестерн',\n",
       "       'драма,мелодрама,детектив', 'мелодрама,биография',\n",
       "       'фэнтези,мелодрама,драма', 'драма,мелодрама,история',\n",
       "       'комедия,приключения,история', 'приключения', 'драма,семейный',\n",
       "       'криминал,детектив', 'мультфильм,короткометражка,ужасы',\n",
       "       'фантастика,триллер,драма', 'фэнтези,мелодрама,комедия',\n",
       "       'драма,биография', 'комедия,криминал,история',\n",
       "       'триллер,драма,детектив', 'фантастика,комедия,приключения',\n",
       "       'фэнтези,семейный', 'ужасы,фантастика,боевик',\n",
       "       'мелодрама,криминал', 'комедия,приключения,мелодрама',\n",
       "       'боевик,триллер,приключения', 'боевик,приключения',\n",
       "       'боевик,триллер,криминал', 'документальный,военный,история',\n",
       "       'драма,музыка', 'боевик,драма', 'приключения,боевик',\n",
       "       'драма,военный,биография', 'триллер,драма,приключения',\n",
       "       'аниме,мультфильм,фэнтези', 'триллер,детектив,драма',\n",
       "       'боевик,триллер,мелодрама', 'боевик,история',\n",
       "       'приключения,история', 'драма,комедия,приключения',\n",
       "       'фэнтези,комедия,приключения', 'драма,вестерн',\n",
       "       'документальный,музыка', 'мелодрама,драма',\n",
       "       'триллер,криминал,детектив', 'ужасы', 'боевик,комедия,приключения',\n",
       "       'мультфильм,фэнтези,боевик', 'боевик,фэнтези,драма',\n",
       "       'фэнтези,драма', 'фэнтези,боевик,комедия',\n",
       "       'приключения,детский,комедия', 'документальный',\n",
       "       'боевик,триллер,комедия', 'мелодрама,комедия,криминал',\n",
       "       'драма,детектив', 'мюзикл,ужасы,триллер', 'детектив,триллер,ужасы',\n",
       "       'ужасы,фэнтези', 'ужасы,фэнтези,триллер', 'мультфильм,драма',\n",
       "       'ужасы,боевик,фантастика', 'боевик', 'фантастика,боевик',\n",
       "       'мелодрама,комедия,приключения', 'триллер,детектив',\n",
       "       'мюзикл,мелодрама,фэнтези', 'криминал', 'триллер,комедия,криминал',\n",
       "       'боевик,приключения,триллер', 'триллер,драма,военный',\n",
       "       'комедия,семейный,музыка', 'комедия,фантастика,мелодрама',\n",
       "       'фантастика,триллер,криминал', 'комедия,драма', 'боевик,военный',\n",
       "       'ужасы,фантастика,триллер', 'фантастика,драма,мелодрама',\n",
       "       'фэнтези,драма,детектив', 'боевик,триллер', 'боевик,драма,история',\n",
       "       'мультфильм,мюзикл,фэнтези', 'для взрослых,драма,мелодрама',\n",
       "       'мультфильм,боевик,детектив', 'фантастика,мелодрама,боевик',\n",
       "       'ужасы,фантастика,детектив', 'фантастика,боевик,приключения',\n",
       "       'мелодрама,комедия,спорт', 'комедия,боевик,приключения',\n",
       "       'документальный,приключения', 'мультфильм,короткометражка,детский',\n",
       "       'комедия,приключения', 'ужасы,драма', 'ужасы,фэнтези,боевик',\n",
       "       'мультфильм,фэнтези,детский', 'мюзикл,боевик,драма',\n",
       "       'семейный,комедия,драма', 'концерт,музыка', 'фэнтези,боевик,драма',\n",
       "       'драма,комедия,музыка', 'фантастика,фэнтези,боевик',\n",
       "       'фэнтези,комедия,семейный', 'фэнтези,драма,комедия',\n",
       "       'мультфильм,мюзикл,драма', 'триллер', 'боевик,криминал,триллер',\n",
       "       'мультфильм,приключения,драма', 'мелодрама,музыка',\n",
       "       'документальный,музыка,концерт', 'мультфильм,семейный',\n",
       "       'мультфильм,комедия,приключения', 'мультфильм,комедия,семейный',\n",
       "       'фантастика,драма', 'фэнтези,боевик,приключения',\n",
       "       'мультфильм,приключения', 'драма,военный,история', 'история',\n",
       "       'драма,приключения,военный',\n",
       "       'документальный,короткометражка,семейный',\n",
       "       'мелодрама,история,триллер', 'ужасы,детектив',\n",
       "       'мюзикл,комедия,приключения', 'драма,спорт,биография',\n",
       "       'фантастика,боевик,комедия', 'фантастика,приключения,детектив',\n",
       "       'короткометражка,драма,военный', 'драма,мультфильм',\n",
       "       'приключения,семейный', 'детектив', 'триллер,приключения',\n",
       "       'аниме,мультфильм,боевик', 'драма,комедия,биография',\n",
       "       'драма,комедия,спорт', 'боевик,мелодрама,комедия',\n",
       "       'семейный,комедия', 'фэнтези,боевик,триллер',\n",
       "       'документальный,фэнтези,семейный', 'фантастика,фэнтези,драма',\n",
       "       'ужасы,комедия,фэнтези', 'документальный,биография,музыка',\n",
       "       'фантастика,боевик,фэнтези', 'ужасы,боевик,триллер',\n",
       "       'комедия,криминал,семейный', 'приключения,драма',\n",
       "       'криминал,драма,триллер', 'драма,детектив,криминал',\n",
       "       'фэнтези,приключения,комедия', 'комедия,спорт',\n",
       "       'мюзикл,фэнтези,мелодрама', 'мультфильм,фэнтези,приключения',\n",
       "       'фантастика,фэнтези,приключения', 'фэнтези',\n",
       "       'фэнтези,приключения,боевик', 'фантастика,боевик,драма',\n",
       "       'криминал,драма', 'криминал,триллер,драма',\n",
       "       'драма,мелодрама,приключения', 'детский,комедия',\n",
       "       'фантастика,драма,боевик', 'мультфильм,семейный,фэнтези',\n",
       "       'концерт,музыка,документальный', 'ужасы,комедия,приключения',\n",
       "       'драма,мелодрама,криминал', 'ужасы,фантастика,фэнтези',\n",
       "       'боевик,комедия', 'мультфильм,фантастика,комедия', 'триллер,ужасы',\n",
       "       'мультфильм,мюзикл,комедия', 'мелодрама,фэнтези,триллер',\n",
       "       'детский,приключения,комедия', 'комедия,детектив',\n",
       "       'аниме,мультфильм,мелодрама', 'документальный,драма,семейный',\n",
       "       'документальный,биография,история', 'военный,боевик,драма',\n",
       "       'ужасы,комедия', 'комедия,приключения,семейный',\n",
       "       'приключения,биография,история', 'детский,приключения,семейный',\n",
       "       'спорт,драма,биография', 'аниме,мультфильм,ужасы',\n",
       "       'фантастика,боевик,криминал', 'мюзикл,драма',\n",
       "       'драма,криминал,детектив', 'аниме,мультфильм,драма',\n",
       "       'драма,триллер,приключения', 'триллер,криминал,драма',\n",
       "       'фэнтези,комедия,драма', 'мультфильм,комедия',\n",
       "       'драма,комедия,история', 'комедия,биография,история',\n",
       "       'мультфильм,фантастика,приключения', 'аниме,мультфильм,фантастика',\n",
       "       'мультфильм,фэнтези,семейный', 'мультфильм,боевик,комедия',\n",
       "       'комедия,криминал,спорт', 'документальный,мюзикл',\n",
       "       'мелодрама,комедия,музыка', 'биография',\n",
       "       'триллер,криминал,комедия', 'фантастика,драма,комедия',\n",
       "       'комедия,драма,мелодрама', 'фантастика,приключения,боевик',\n",
       "       'мультфильм,фэнтези,драма', 'триллер,комедия',\n",
       "       'драма,приключения,биография', 'фантастика,комедия',\n",
       "       'мелодрама,драма,комедия', 'боевик,криминал',\n",
       "       'драма,криминал,боевик', 'мультфильм,мюзикл,детский',\n",
       "       'драма,фэнтези', 'документальный,семейный',\n",
       "       'фэнтези,драма,приключения', 'ужасы,комедия,фантастика',\n",
       "       'драма,мелодрама,музыка', 'фэнтези,драма,семейный',\n",
       "       'триллер,мелодрама,драма', 'вестерн,боевик,драма',\n",
       "       'мультфильм,короткометражка,комедия', 'триллер,драма,история',\n",
       "       'ужасы,фантастика', 'ужасы,мелодрама,комедия',\n",
       "       'фэнтези,приключения', 'фантастика,триллер',\n",
       "       'ужасы,боевик,фэнтези', 'мультфильм,комедия,детский',\n",
       "       'триллер,драма,биография', 'мультфильм,ужасы,фэнтези',\n",
       "       'мультфильм,ужасы,фантастика', 'ужасы,боевик,комедия',\n",
       "       'драма,биография,спорт', 'мультфильм', 'мелодрама,комедия,драма',\n",
       "       'приключения,фантастика,семейный', 'комедия,криминал,детектив',\n",
       "       'ужасы,триллер,комедия', 'криминал,комедия,триллер',\n",
       "       'семейный,приключения,комедия', 'мультфильм,драма,приключения',\n",
       "       'ужасы,драма,детектив', 'драма,приключения,фэнтези',\n",
       "       'фантастика,мультфильм,драма', 'драма,триллер,детектив',\n",
       "       'драма,история,музыка', 'детский', 'триллер,боевик,криминал',\n",
       "       'драма,фантастика', 'комедия,драма,семейный',\n",
       "       'боевик,драма,комедия', 'комедия,ужасы',\n",
       "       'драма,фантастика,триллер', 'фантастика,драма,триллер',\n",
       "       'история,спорт,драма', 'документальный,биография',\n",
       "       'биография,история', 'спорт,драма', 'боевик,фэнтези',\n",
       "       'мультфильм,фэнтези', 'документальный,комедия,история',\n",
       "       'криминал,комедия,боевик', 'фэнтези,приключения,драма',\n",
       "       'музыка,концерт', 'триллер,драма,боевик',\n",
       "       'комедия,криминал,боевик', 'комедия,фантастика,боевик',\n",
       "       'вестерн,приключения,боевик', 'аниме,мультфильм,комедия',\n",
       "       'детектив,криминал,триллер', 'мультфильм,комедия,криминал',\n",
       "       'комедия,приключения,детектив', 'мелодрама,фантастика,драма',\n",
       "       'драма,комедия,семейный', 'приключения,фантастика',\n",
       "       'триллер,детектив,ужасы', 'комедия,приключения,фэнтези',\n",
       "       'фэнтези,триллер,драма', 'мелодрама,приключения,боевик',\n",
       "       'детектив,триллер,криминал', 'фэнтези,семейный,мелодрама',\n",
       "       'военный,драма', 'документальный,приключения,семейный',\n",
       "       'криминал,комедия,драма', 'комедия,фантастика',\n",
       "       'история,биография,драма', 'мелодрама,драма,музыка',\n",
       "       'боевик,мелодрама', 'комедия,криминал,триллер',\n",
       "       'детектив,триллер,боевик', 'комедия,боевик,криминал',\n",
       "       'комедия,вестерн', 'детский,мелодрама,семейный',\n",
       "       'короткометражка,мультфильм', 'комедия,фэнтези',\n",
       "       'фантастика,драма,ужасы', 'триллер,драма,ужасы',\n",
       "       'драма,фэнтези,история', 'комедия,драма,короткометражка',\n",
       "       'фэнтези,триллер,приключения', 'семейный',\n",
       "       'комедия,криминал,драма', 'комедия,фэнтези,ужасы',\n",
       "       'короткометражка,комедия,криминал', 'фантастика',\n",
       "       'триллер,ужасы,драма', 'мелодрама,драма,фэнтези',\n",
       "       'фантастика,приключения,драма', 'боевик,детектив',\n",
       "       'военный,драма,боевик', 'комедия,мелодрама,фэнтези',\n",
       "       'вестерн,криминал,триллер', 'драма,история,триллер',\n",
       "       'мультфильм,фантастика,боевик', 'детектив,драма,криминал',\n",
       "       'приключения,история,драма', 'мультфильм,семейный,детский',\n",
       "       'биография,драма,история', 'триллер,криминал,боевик',\n",
       "       'история,мелодрама', 'приключения,детский',\n",
       "       'музыка,приключения,концерт', 'военный,драма,комедия',\n",
       "       'фэнтези,боевик,военный', 'фантастика,детектив,боевик',\n",
       "       'мультфильм,фэнтези,история', 'биография,мелодрама,драма',\n",
       "       'документальный,биография,спорт', 'фантастика,комедия,детектив',\n",
       "       'музыка,концерт,документальный', 'триллер,боевик,приключения',\n",
       "       'триллер,драма,комедия', 'детектив,криминал',\n",
       "       'мультфильм,приключения,фэнтези', 'мелодрама,приключения',\n",
       "       'комедия,музыка', 'мелодрама,комедия,ужасы',\n",
       "       'драма,криминал,приключения', 'приключения,детектив,мелодрама',\n",
       "       'драма,криминал,фантастика', 'фэнтези,драма,биография',\n",
       "       'детектив,фантастика,криминал', 'триллер,драма,фантастика',\n",
       "       'ужасы,комедия,боевик', 'мелодрама,история', 'триллер,боевик',\n",
       "       'фильм-нуар,триллер,детектив', 'комедия,криминал,приключения',\n",
       "       'ужасы,триллер,мелодрама', 'военный,драма,история',\n",
       "       'драма,спорт,история', 'документальный,драма,история',\n",
       "       'триллер,мелодрама,детектив', 'детский,семейный',\n",
       "       'мюзикл,семейный,драма', 'биография,военный,драма',\n",
       "       'мультфильм,детский', 'боевик,криминал,драма',\n",
       "       'детектив,фэнтези,триллер', 'драма,боевик,приключения',\n",
       "       'драма,мелодрама,фэнтези', 'детектив,история,драма',\n",
       "       'фэнтези,боевик,ужасы', 'ужасы,фэнтези,мелодрама',\n",
       "       'ужасы,приключения', 'боевик,фантастика',\n",
       "       'ужасы,мелодрама,детектив', 'фантастика,триллер,приключения',\n",
       "       'боевик,приключения,история', 'приключения,боевик,триллер',\n",
       "       'детектив,ужасы,криминал', 'семейный,фэнтези', 'мюзикл,мелодрама',\n",
       "       'драма,военный,приключения', 'фантастика,драма,приключения',\n",
       "       'приключения,семейный,драма', 'история,драма,боевик',\n",
       "       'мультфильм,приключения,комедия', 'криминал,драма,комедия',\n",
       "       'ужасы,комедия,драма', 'комедия,семейный,приключения',\n",
       "       'мюзикл,фэнтези,драма', 'драма,вестерн,боевик',\n",
       "       'фантастика,триллер,детектив', 'драма,история,детектив',\n",
       "       'короткометражка,биография', 'мультфильм,приключения,фантастика',\n",
       "       'комедия,триллер', 'мультфильм,приключения,детектив',\n",
       "       'драма,триллер', 'ужасы,триллер,криминал',\n",
       "       'документальный,криминал,военный', 'ужасы,фэнтези,драма',\n",
       "       'фэнтези,комедия', 'ужасы,фэнтези,комедия', 'комедия,музыка,драма',\n",
       "       'мультфильм,приключения,военный', 'мюзикл,фэнтези,комедия',\n",
       "       'боевик,фантастика,приключения', 'триллер,ужасы,криминал',\n",
       "       'ужасы,фантастика,драма', 'фантастика,приключения,семейный',\n",
       "       'короткометражка,музыка', 'мелодрама,детектив,комедия',\n",
       "       'документальный,триллер,биография', 'боевик,фантастика,триллер',\n",
       "       'спорт,драма,комедия', 'фэнтези,мелодрама,приключения',\n",
       "       'триллер,детектив,криминал', 'короткометражка,мелодрама',\n",
       "       'мультфильм,семейный,спорт', 'комедия,фэнтези,мелодрама',\n",
       "       'драма,спорт,комедия', 'история,драма,мелодрама',\n",
       "       'драма,боевик,криминал', 'драма,комедия,триллер',\n",
       "       'аниме,мультфильм', 'документальный,ужасы',\n",
       "       'мультфильм,короткометражка', 'драма,история,военный',\n",
       "       'мультфильм,короткометражка,фэнтези', 'комедия,военный,музыка',\n",
       "       'биография,история,драма', 'ужасы,драма,мелодрама',\n",
       "       'драма,комедия,детектив', 'комедия,семейный,фантастика',\n",
       "       'мультфильм,семейный,комедия', 'история,детектив',\n",
       "       'приключения,мелодрама,детектив', 'мюзикл,комедия,мелодрама',\n",
       "       'драма,фантастика,ужасы', 'мультфильм,ужасы,комедия',\n",
       "       'для взрослых,драма,комедия', 'ужасы,комедия,музыка',\n",
       "       'комедия,история,драма', 'семейный,детектив,детский',\n",
       "       'короткометражка,драма', 'документальный,новости,драма',\n",
       "       'триллер,мелодрама', 'ужасы,драма,вестерн',\n",
       "       'мюзикл,фэнтези,семейный', 'вестерн,драма,триллер',\n",
       "       'приключения,вестерн,боевик', 'семейный,комедия,музыка',\n",
       "       'боевик,драма,вестерн', 'ужасы,драма,триллер',\n",
       "       'фантастика,мелодрама', 'комедия,криминал,биография',\n",
       "       'семейный,мультфильм,комедия', 'комедия,драма,криминал',\n",
       "       'фантастика,боевик,военный', 'приключения,биография,драма',\n",
       "       'приключения,триллер,биография', 'криминал,боевик,триллер',\n",
       "       'боевик,вестерн,приключения', 'история,драма',\n",
       "       'фантастика,фэнтези,комедия', 'мультфильм,детский,комедия',\n",
       "       'мелодрама,комедия,триллер', 'документальный,боевик,приключения',\n",
       "       'драма,приключения', 'мелодрама,военный,драма', 'триллер,фэнтези',\n",
       "       'драма,триллер,биография', 'фэнтези,боевик,семейный',\n",
       "       'фантастика,триллер,комедия', 'документальный,фэнтези',\n",
       "       'комедия,мультфильм,фантастика', 'криминал,биография,комедия',\n",
       "       'биография,спорт,драма', 'приключения,военный',\n",
       "       'мультфильм,семейный,драма', 'документальный,фэнтези,драма',\n",
       "       'комедия,боевик,фантастика', 'семейный,приключения,военный',\n",
       "       'триллер,ужасы,детектив', 'короткометражка',\n",
       "       'мелодрама,триллер,история', 'документальный,история',\n",
       "       'мультфильм,приключения,детский', 'драма,комедия,мультфильм',\n",
       "       'военный,детектив', 'семейный,приключения,документальный',\n",
       "       'детский,фэнтези', 'документальный,комедия', 'комедия,биография',\n",
       "       'криминал,комедия', 'спорт,мелодрама,криминал',\n",
       "       'фантастика,комедия,боевик', 'боевик,приключения,детектив',\n",
       "       'детектив,триллер,драма', 'документальный,фантастика',\n",
       "       'мелодрама,комедия,семейный', 'мультфильм,мелодрама,комедия',\n",
       "       'драма,спорт,семейный', 'фантастика,мелодрама,фэнтези',\n",
       "       'мюзикл,комедия,музыка', 'фантастика,триллер,мелодрама',\n",
       "       'приключения,комедия,фэнтези', 'фэнтези,боевик,детектив',\n",
       "       'фэнтези,боевик,мелодрама', 'комедия,военный',\n",
       "       'драма,спорт,боевик', 'мультфильм,боевик,триллер',\n",
       "       'мелодрама,семейный', 'фантастика,боевик,детектив',\n",
       "       'драма,приключения,история', 'документальный,драма,музыка',\n",
       "       'фантастика,триллер,боевик', 'фэнтези,боевик,вестерн',\n",
       "       'драма,комедия,мелодрама', 'ужасы,фэнтези,приключения',\n",
       "       'триллер,фэнтези,драма', 'мультфильм,мюзикл,мелодрама',\n",
       "       'ужасы,триллер,фантастика', 'триллер,мелодрама,комедия',\n",
       "       'ужасы,комедия,семейный', 'комедия,приключения,музыка',\n",
       "       'документальный,комедия,криминал', 'мелодрама,детектив',\n",
       "       'детский,приключения,фантастика', 'короткометражка,боевик,драма',\n",
       "       'боевик,комедия,семейный', 'фантастика,боевик,мелодрама',\n",
       "       'фэнтези,триллер,мелодрама', 'драма,детектив,история',\n",
       "       'боевик,криминал,детектив', 'мультфильм,фэнтези,мелодрама',\n",
       "       'мелодрама,драма,боевик', 'драма,вестерн,приключения',\n",
       "       'драма,приключения,мелодрама', 'фэнтези,боевик,криминал',\n",
       "       'фантастика,комедия,семейный', 'детский,фэнтези,приключения',\n",
       "       'ужасы,боевик', 'фантастика,мелодрама,комедия',\n",
       "       'семейный,спорт,боевик', 'триллер,биография,драма',\n",
       "       'ужасы,драма,комедия', 'мультфильм,фэнтези,триллер', 'мюзикл',\n",
       "       'боевик,спорт,драма', 'комедия,приключения,вестерн',\n",
       "       'документальный,ужасы,боевик', 'фантастика,боевик,семейный',\n",
       "       'военный,история', 'ужасы,боевик,криминал', 'детектив,триллер',\n",
       "       'драма,семейный,комедия', 'драма,детектив,приключения',\n",
       "       'драма,криминал,история', 'приключения,триллер',\n",
       "       'боевик,драма,биография', 'драма,приключения,триллер',\n",
       "       'комедия,фэнтези,приключения', 'фантастика,боевик,ужасы',\n",
       "       'драма,комедия,фантастика', 'детектив,криминал,драма',\n",
       "       'боевик,триллер,фэнтези', 'приключения,детектив,семейный',\n",
       "       'ужасы,комедия,криминал', 'мультфильм,биография,драма',\n",
       "       'история,боевик,фэнтези', 'детектив,криминал,боевик',\n",
       "       'приключения,фэнтези', 'комедия,приключения,спорт',\n",
       "       'драма,биография,мюзикл', 'комедия,семейный,фэнтези',\n",
       "       'детектив,драма,триллер', 'боевик,приключения,семейный',\n",
       "       'биография,спорт,комедия', 'фантастика,приключения,военный',\n",
       "       'документальный,драма,биография', 'детектив,приключения,драма',\n",
       "       'аниме,мультфильм,приключения', 'семейный,приключения',\n",
       "       'ужасы,фэнтези,детектив', 'семейный,документальный',\n",
       "       'драма,приключения,семейный', 'приключения,история,военный',\n",
       "       'фэнтези,мелодрама', 'фэнтези,триллер,детектив',\n",
       "       'документальный,спорт,биография', 'комедия,триллер,драма',\n",
       "       'драма,ужасы', 'биография,музыка,драма', 'фэнтези,ужасы',\n",
       "       'детектив,мелодрама,фэнтези', 'боевик,военный,история',\n",
       "       'биография,драма,криминал', 'триллер,мелодрама,криминал',\n",
       "       'семейный,мелодрама', 'биография,драма', 'военный,история,драма',\n",
       "       'фантастика,детектив,фэнтези', 'детектив,приключения,триллер',\n",
       "       'фантастика,приключения', 'мультфильм,короткометражка,мюзикл',\n",
       "       'мультфильм,детский,семейный', 'документальный,драма,комедия',\n",
       "       'комедия,приключения,криминал', 'документальный,семейный,музыка',\n",
       "       'мелодрама,музыка,драма', 'детектив,фантастика,триллер',\n",
       "       'драма,мелодрама,триллер', 'биография,драма,военный',\n",
       "       'приключения,фантастика,драма', 'детектив,фильм-нуар,комедия',\n",
       "       'документальный,спорт', 'триллер,фантастика,драма',\n",
       "       'биография,документальный', 'ужасы,фантастика,мелодрама',\n",
       "       'детектив,комедия', 'история,биография,военный',\n",
       "       'криминал,мелодрама', 'драма,криминал,вестерн',\n",
       "       'мелодрама,семейный,приключения', 'триллер,ужасы,мелодрама',\n",
       "       'фэнтези,драма,фильм-нуар', 'детектив,мелодрама',\n",
       "       'комедия,драма,биография', 'драма,военный,боевик',\n",
       "       'драма,комедия,ужасы', 'фантастика,драма,криминал',\n",
       "       'документальный,музыка,биография', 'мультфильм,боевик,приключения',\n",
       "       'короткометражка,фантастика', 'мультфильм,мелодрама,драма',\n",
       "       'боевик,военный,драма', 'фэнтези,семейный,приключения',\n",
       "       'детский,мультфильм,приключения', 'семейный,фэнтези,комедия',\n",
       "       'фэнтези,ужасы,триллер', 'ужасы,триллер,приключения',\n",
       "       'драма,боевик,история', 'фэнтези,комедия,детектив',\n",
       "       'история,приключения', 'аниме,мультфильм,короткометражка',\n",
       "       'драма,военный,триллер', 'биография,криминал,триллер',\n",
       "       'фантастика,фэнтези,детектив', 'вестерн,биография,драма',\n",
       "       'биография,музыка,мюзикл', 'драма,история,биография',\n",
       "       'приключения,драма,фантастика', 'комедия,фэнтези,криминал',\n",
       "       'биография,спорт,история', 'драма,криминал,семейный',\n",
       "       'детектив,боевик,история', 'ужасы,комедия,детектив',\n",
       "       'триллер,приключения,драма', 'фэнтези,комедия,криминал',\n",
       "       'триллер,криминал,приключения', 'комедия,детектив,приключения',\n",
       "       'фэнтези,драма,ужасы', 'ужасы,драма,военный', 'реальное ТВ',\n",
       "       'аниме,мультфильм,детектив', 'приключения,фэнтези,семейный',\n",
       "       'драма,биография,комедия', 'триллер,комедия,ужасы',\n",
       "       'музыка,мелодрама,фэнтези', 'мультфильм,история',\n",
       "       'мультфильм,комедия,фантастика', 'биография,криминал,драма',\n",
       "       'комедия,мелодрама,фантастика', 'криминал,боевик,комедия',\n",
       "       'история,криминал', 'детектив,комедия,драма',\n",
       "       'триллер,фантастика,боевик', 'криминал,боевик',\n",
       "       'комедия,драма,военный', 'драма,триллер,криминал',\n",
       "       'мультфильм,мелодрама,приключения', 'фантастика,фэнтези,триллер',\n",
       "       'короткометражка,драма,триллер', 'военный,боевик,история',\n",
       "       'боевик,драма,триллер', 'документальный,военный,драма',\n",
       "       'драма,криминал,фильм-нуар', 'мультфильм,детский,приключения',\n",
       "       'мелодрама,история,драма'], dtype=object)"
      ]
     },
     "execution_count": 31,
     "metadata": {},
     "output_type": "execute_result"
    }
   ],
   "source": [
    "df['genres'].unique()"
   ]
  },
  {
   "cell_type": "markdown",
   "metadata": {
    "id": "2QhUpRrpqVjC"
   },
   "source": [
    "Почти во всех колонках встречались дефекты, главным образом, что находилось наиболее часто - излишние знаки пробела. Так в столбце `type` было удалено два повторяющихся, однако внесенных в данные ошибочных, значений. Также можно выделить, что несколько значений в одной ячейке затрудняют категоризацию данных. "
   ]
  },
  {
   "cell_type": "markdown",
   "metadata": {
    "id": "XFSN5lrEgFyR"
   },
   "source": [
    "#### Шаг 2.5. Проверьте количественные значения\n",
    "\n",
    "- Проверьте, обнаружились ли в таких столбцах подозрительные данные. Как с такими данными лучше поступить?\n",
    "\n",
    "<div id=\"accordion\">\n",
    "    <div class=\"card\">\n",
    "        <div class=\"card-header\" id=\"headingThree\">\n",
    "            <button class=\"btn btn-link collapsed\" data-toggle=\"collapse\" data-target=\"#collapseHint_budget\" aria-expanded=\"false\" aria-controls=\"collapseHint_budget\">Подсказка</button>\n",
    "        </div>\n",
    "        <div id=\"collapseHint_budget\" class=\"collapse\" aria-labelledby=\"headingThree\" data-parent=\"#accordion\">\n",
    "            <div class=\"card-body\">\n",
    "Обратите внимание на описание столбца <code>budget</code>. Как этот столбец соотносится с двумя другими: <code>refundable_support</code> и <code>nonrefundable_support</code>?\n",
    "            </div>\n",
    "        </div>\n",
    "    </div>\n",
    "</div>"
   ]
  },
  {
   "cell_type": "markdown",
   "metadata": {
    "id": "BsuVVEdVv4_d"
   },
   "source": [
    "К количественным значения относятся 4 столбца, это:\n",
    "1.   `refundable_support` — объём возвратных средств государственной поддержки;\n",
    "2.   `nonrefundable_support` — объём невозвратных средств государственной поддержки;\n",
    "3.   `budget` — общий бюджет фильма;\n",
    "4.   `box_office` — сборы в рублях.\n",
    "<br> По определению бюджет фильма это – это суммарные затраты студии или производственной компании на фильм. Некоторые кинокартины финансируются Минкультом РФ, часть из них возвратные средства, часть невозвратные. Соответсвенно бюджет фильма состоит из собственных средств, средств инвесторов и спонсоров (при наличии) и гос. финансовой поддержки от Минкульта РФ. Сгруппируем их и посмотрим описание.\n",
    "\n"
   ]
  },
  {
   "cell_type": "code",
   "execution_count": 32,
   "metadata": {
    "id": "Y9KOtwjJs9ZS"
   },
   "outputs": [],
   "source": [
    "groups = ['refundable_support', 'nonrefundable_support',\n",
    "          'budget', 'box_office',]"
   ]
  },
  {
   "cell_type": "code",
   "execution_count": 33,
   "metadata": {
    "colab": {
     "base_uri": "https://localhost:8080/",
     "height": 300
    },
    "id": "thK1CHQXs-b2",
    "outputId": "d4610131-7f26-4030-cdc1-fbb603a1ba5a"
   },
   "outputs": [
    {
     "data": {
      "text/html": [
       "<div>\n",
       "<style scoped>\n",
       "    .dataframe tbody tr th:only-of-type {\n",
       "        vertical-align: middle;\n",
       "    }\n",
       "\n",
       "    .dataframe tbody tr th {\n",
       "        vertical-align: top;\n",
       "    }\n",
       "\n",
       "    .dataframe thead th {\n",
       "        text-align: right;\n",
       "    }\n",
       "</style>\n",
       "<table border=\"1\" class=\"dataframe\">\n",
       "  <thead>\n",
       "    <tr style=\"text-align: right;\">\n",
       "      <th></th>\n",
       "      <th>refundable_support</th>\n",
       "      <th>nonrefundable_support</th>\n",
       "      <th>budget</th>\n",
       "      <th>box_office</th>\n",
       "    </tr>\n",
       "  </thead>\n",
       "  <tbody>\n",
       "    <tr>\n",
       "      <th>count</th>\n",
       "      <td>332.00</td>\n",
       "      <td>332.00</td>\n",
       "      <td>332.00</td>\n",
       "      <td>3158.00</td>\n",
       "    </tr>\n",
       "    <tr>\n",
       "      <th>mean</th>\n",
       "      <td>11864457.83</td>\n",
       "      <td>48980988.89</td>\n",
       "      <td>127229716.68</td>\n",
       "      <td>76478696.16</td>\n",
       "    </tr>\n",
       "    <tr>\n",
       "      <th>std</th>\n",
       "      <td>24916555.26</td>\n",
       "      <td>59980117.92</td>\n",
       "      <td>188588333.12</td>\n",
       "      <td>240353122.82</td>\n",
       "    </tr>\n",
       "    <tr>\n",
       "      <th>min</th>\n",
       "      <td>0.00</td>\n",
       "      <td>0.00</td>\n",
       "      <td>0.00</td>\n",
       "      <td>0.00</td>\n",
       "    </tr>\n",
       "    <tr>\n",
       "      <th>25%</th>\n",
       "      <td>0.00</td>\n",
       "      <td>25000000.00</td>\n",
       "      <td>42000000.00</td>\n",
       "      <td>86239.00</td>\n",
       "    </tr>\n",
       "    <tr>\n",
       "      <th>50%</th>\n",
       "      <td>0.00</td>\n",
       "      <td>30000000.00</td>\n",
       "      <td>68649916.00</td>\n",
       "      <td>2327987.55</td>\n",
       "    </tr>\n",
       "    <tr>\n",
       "      <th>75%</th>\n",
       "      <td>15000000.00</td>\n",
       "      <td>40375000.00</td>\n",
       "      <td>141985319.50</td>\n",
       "      <td>23979671.02</td>\n",
       "    </tr>\n",
       "    <tr>\n",
       "      <th>max</th>\n",
       "      <td>180000000.00</td>\n",
       "      <td>400000000.00</td>\n",
       "      <td>2305074303.00</td>\n",
       "      <td>3073568690.79</td>\n",
       "    </tr>\n",
       "  </tbody>\n",
       "</table>\n",
       "</div>"
      ],
      "text/plain": [
       "       refundable_support  nonrefundable_support        budget    box_office\n",
       "count              332.00                 332.00        332.00       3158.00\n",
       "mean          11864457.83            48980988.89  127229716.68   76478696.16\n",
       "std           24916555.26            59980117.92  188588333.12  240353122.82\n",
       "min                  0.00                   0.00          0.00          0.00\n",
       "25%                  0.00            25000000.00   42000000.00      86239.00\n",
       "50%                  0.00            30000000.00   68649916.00    2327987.55\n",
       "75%           15000000.00            40375000.00  141985319.50   23979671.02\n",
       "max          180000000.00           400000000.00 2305074303.00 3073568690.79"
      ]
     },
     "execution_count": 33,
     "metadata": {},
     "output_type": "execute_result"
    }
   ],
   "source": [
    "pd.set_option('display.float_format', '{:.2f}'.format)\n",
    "df[groups].describe()"
   ]
  },
  {
   "cell_type": "markdown",
   "metadata": {
    "id": "a1uyCW3TujxL"
   },
   "source": [
    "Есть фильмы с нулевым бюджетом, посмотрим такие значения"
   ]
  },
  {
   "cell_type": "code",
   "execution_count": 34,
   "metadata": {
    "colab": {
     "base_uri": "https://localhost:8080/",
     "height": 300
    },
    "id": "uavS3tEUuo3Y",
    "outputId": "99bebf91-6e74-465c-c2ab-7ee76eb35d55"
   },
   "outputs": [
    {
     "data": {
      "text/html": [
       "<div>\n",
       "<style scoped>\n",
       "    .dataframe tbody tr th:only-of-type {\n",
       "        vertical-align: middle;\n",
       "    }\n",
       "\n",
       "    .dataframe tbody tr th {\n",
       "        vertical-align: top;\n",
       "    }\n",
       "\n",
       "    .dataframe thead th {\n",
       "        text-align: right;\n",
       "    }\n",
       "</style>\n",
       "<table border=\"1\" class=\"dataframe\">\n",
       "  <thead>\n",
       "    <tr style=\"text-align: right;\">\n",
       "      <th></th>\n",
       "      <th>refundable_support</th>\n",
       "      <th>nonrefundable_support</th>\n",
       "      <th>budget</th>\n",
       "      <th>ratings</th>\n",
       "      <th>box_office</th>\n",
       "    </tr>\n",
       "  </thead>\n",
       "  <tbody>\n",
       "    <tr>\n",
       "      <th>count</th>\n",
       "      <td>17.00</td>\n",
       "      <td>17.00</td>\n",
       "      <td>17.00</td>\n",
       "      <td>16.00</td>\n",
       "      <td>17.00</td>\n",
       "    </tr>\n",
       "    <tr>\n",
       "      <th>mean</th>\n",
       "      <td>16705882.35</td>\n",
       "      <td>65174674.41</td>\n",
       "      <td>0.00</td>\n",
       "      <td>5.72</td>\n",
       "      <td>163137294.43</td>\n",
       "    </tr>\n",
       "    <tr>\n",
       "      <th>std</th>\n",
       "      <td>20064784.78</td>\n",
       "      <td>61236204.09</td>\n",
       "      <td>0.00</td>\n",
       "      <td>0.92</td>\n",
       "      <td>251115991.43</td>\n",
       "    </tr>\n",
       "    <tr>\n",
       "      <th>min</th>\n",
       "      <td>0.00</td>\n",
       "      <td>0.00</td>\n",
       "      <td>0.00</td>\n",
       "      <td>4.30</td>\n",
       "      <td>1334699.40</td>\n",
       "    </tr>\n",
       "    <tr>\n",
       "      <th>25%</th>\n",
       "      <td>0.00</td>\n",
       "      <td>23000000.00</td>\n",
       "      <td>0.00</td>\n",
       "      <td>5.07</td>\n",
       "      <td>50451949.00</td>\n",
       "    </tr>\n",
       "    <tr>\n",
       "      <th>50%</th>\n",
       "      <td>10000000.00</td>\n",
       "      <td>51000000.00</td>\n",
       "      <td>0.00</td>\n",
       "      <td>5.70</td>\n",
       "      <td>72937783.20</td>\n",
       "    </tr>\n",
       "    <tr>\n",
       "      <th>75%</th>\n",
       "      <td>20000000.00</td>\n",
       "      <td>75000000.00</td>\n",
       "      <td>0.00</td>\n",
       "      <td>6.30</td>\n",
       "      <td>184487551.40</td>\n",
       "    </tr>\n",
       "    <tr>\n",
       "      <th>max</th>\n",
       "      <td>60000000.00</td>\n",
       "      <td>250000000.00</td>\n",
       "      <td>0.00</td>\n",
       "      <td>7.80</td>\n",
       "      <td>1038321489.00</td>\n",
       "    </tr>\n",
       "  </tbody>\n",
       "</table>\n",
       "</div>"
      ],
      "text/plain": [
       "       refundable_support  nonrefundable_support  budget  ratings  \\\n",
       "count               17.00                  17.00   17.00    16.00   \n",
       "mean          16705882.35            65174674.41    0.00     5.72   \n",
       "std           20064784.78            61236204.09    0.00     0.92   \n",
       "min                  0.00                   0.00    0.00     4.30   \n",
       "25%                  0.00            23000000.00    0.00     5.07   \n",
       "50%           10000000.00            51000000.00    0.00     5.70   \n",
       "75%           20000000.00            75000000.00    0.00     6.30   \n",
       "max           60000000.00           250000000.00    0.00     7.80   \n",
       "\n",
       "         box_office  \n",
       "count         17.00  \n",
       "mean   163137294.43  \n",
       "std    251115991.43  \n",
       "min      1334699.40  \n",
       "25%     50451949.00  \n",
       "50%     72937783.20  \n",
       "75%    184487551.40  \n",
       "max   1038321489.00  "
      ]
     },
     "execution_count": 34,
     "metadata": {},
     "output_type": "execute_result"
    }
   ],
   "source": [
    "df[df['budget'] == 0].describe()"
   ]
  },
  {
   "cell_type": "markdown",
   "metadata": {
    "id": "wE1_mjsLvFPr"
   },
   "source": [
    "Если у фильмов нет бюджета, то все равно можно найти такие, которые получили какую-то господдержку. В таких случаях бюджет не может быть меньше, чем сумма полученной поддержки. Можно проверить кинокартины, у которых бюджет меньше полученной поддержки, включая возвратные и невозвратные средства."
   ]
  },
  {
   "cell_type": "code",
   "execution_count": 35,
   "metadata": {
    "colab": {
     "base_uri": "https://localhost:8080/",
     "height": 1000
    },
    "id": "TrR2YEee1zJd",
    "outputId": "a91b4610-a20f-4223-a8a2-21671ddafc36"
   },
   "outputs": [
    {
     "data": {
      "text/html": [
       "<div>\n",
       "<style scoped>\n",
       "    .dataframe tbody tr th:only-of-type {\n",
       "        vertical-align: middle;\n",
       "    }\n",
       "\n",
       "    .dataframe tbody tr th {\n",
       "        vertical-align: top;\n",
       "    }\n",
       "\n",
       "    .dataframe thead th {\n",
       "        text-align: right;\n",
       "    }\n",
       "</style>\n",
       "<table border=\"1\" class=\"dataframe\">\n",
       "  <thead>\n",
       "    <tr style=\"text-align: right;\">\n",
       "      <th></th>\n",
       "      <th>title</th>\n",
       "      <th>puNumber</th>\n",
       "      <th>show_start_date</th>\n",
       "      <th>type</th>\n",
       "      <th>film_studio</th>\n",
       "      <th>production_country</th>\n",
       "      <th>director</th>\n",
       "      <th>producer</th>\n",
       "      <th>age_restriction</th>\n",
       "      <th>refundable_support</th>\n",
       "      <th>nonrefundable_support</th>\n",
       "      <th>budget</th>\n",
       "      <th>financing_source</th>\n",
       "      <th>ratings</th>\n",
       "      <th>genres</th>\n",
       "      <th>box_office</th>\n",
       "    </tr>\n",
       "  </thead>\n",
       "  <tbody>\n",
       "    <tr>\n",
       "      <th>2053</th>\n",
       "      <td>14+</td>\n",
       "      <td>111023614</td>\n",
       "      <td>2014-12-19 12:00:00+00:00</td>\n",
       "      <td>Художественный</td>\n",
       "      <td>ООО Киностудия  \"Сентябрь\"</td>\n",
       "      <td>Россия</td>\n",
       "      <td>А.Зайцев</td>\n",
       "      <td>О.Гранина, А.Зайцев</td>\n",
       "      <td>«16+» - для детей старше 16 лет</td>\n",
       "      <td>0.00</td>\n",
       "      <td>23000000.00</td>\n",
       "      <td>0.00</td>\n",
       "      <td>Министерство культуры, Фонд кино</td>\n",
       "      <td>6.60</td>\n",
       "      <td>мелодрама</td>\n",
       "      <td>10234016.10</td>\n",
       "    </tr>\n",
       "    <tr>\n",
       "      <th>2058</th>\n",
       "      <td>Дуxless 2</td>\n",
       "      <td>111000415</td>\n",
       "      <td>2015-01-26 12:00:00+00:00</td>\n",
       "      <td>Художественный</td>\n",
       "      <td>ООО \"Киностудия \"Слово\", ООО \"Арт Пикчерс Студия\"</td>\n",
       "      <td>Россия</td>\n",
       "      <td>Р.Прыгунов</td>\n",
       "      <td>П.Ануров, Ф.Бондарчук, Д.Рудовский</td>\n",
       "      <td>«16+» - для детей старше 16 лет</td>\n",
       "      <td>0.00</td>\n",
       "      <td>75000000.00</td>\n",
       "      <td>0.00</td>\n",
       "      <td>Фонд кино</td>\n",
       "      <td>6.60</td>\n",
       "      <td>драма</td>\n",
       "      <td>446163511.00</td>\n",
       "    </tr>\n",
       "    <tr>\n",
       "      <th>2472</th>\n",
       "      <td>Воин (2015)</td>\n",
       "      <td>111017315</td>\n",
       "      <td>2015-09-28 12:00:00+00:00</td>\n",
       "      <td>Художественный</td>\n",
       "      <td>ООО \"Форпост Продакшн\", ООО \"Арт Пикчерс Студия\"</td>\n",
       "      <td>Россия</td>\n",
       "      <td>А.Андрианов</td>\n",
       "      <td>ООО \"Арт Пикчерс Студия\"</td>\n",
       "      <td>«12+» - для детей старше 12 лет</td>\n",
       "      <td>10000000.00</td>\n",
       "      <td>70000000.00</td>\n",
       "      <td>0.00</td>\n",
       "      <td>Фонд кино</td>\n",
       "      <td>7.80</td>\n",
       "      <td>боевик,драма,криминал</td>\n",
       "      <td>196572438.40</td>\n",
       "    </tr>\n",
       "    <tr>\n",
       "      <th>2532</th>\n",
       "      <td>Бармен.</td>\n",
       "      <td>111009615</td>\n",
       "      <td>2015-05-26 12:00:00+00:00</td>\n",
       "      <td>Художественный</td>\n",
       "      <td>АО \"ВайТ Медиа\", ООО \"Арт Пикчерс Студия\"</td>\n",
       "      <td>Россия</td>\n",
       "      <td>Д.Штурманова</td>\n",
       "      <td>Т.Вайнштейн</td>\n",
       "      <td>«16+» - для детей старше 16 лет</td>\n",
       "      <td>20000000.00</td>\n",
       "      <td>0.00</td>\n",
       "      <td>0.00</td>\n",
       "      <td>Фонд кино</td>\n",
       "      <td>6.20</td>\n",
       "      <td>комедия,фэнтези</td>\n",
       "      <td>67418974.80</td>\n",
       "    </tr>\n",
       "    <tr>\n",
       "      <th>2615</th>\n",
       "      <td>Савва. Сердце воина</td>\n",
       "      <td>114001715</td>\n",
       "      <td>2015-07-21 12:00:00+00:00</td>\n",
       "      <td>Анимационный</td>\n",
       "      <td>ООО \"Глюкоза Продакшн\", ООО \"Арт Пикчерс Студия\"</td>\n",
       "      <td>Россия</td>\n",
       "      <td>М.Фадеев</td>\n",
       "      <td>А.Чистяков</td>\n",
       "      <td>«6+» - для детей старше 6 лет</td>\n",
       "      <td>60000000.00</td>\n",
       "      <td>100000000.00</td>\n",
       "      <td>0.00</td>\n",
       "      <td>Фонд кино</td>\n",
       "      <td>4.60</td>\n",
       "      <td>мультфильм,приключения,фэнтези</td>\n",
       "      <td>184487551.40</td>\n",
       "    </tr>\n",
       "    <tr>\n",
       "      <th>2684</th>\n",
       "      <td>Тряпичный союз</td>\n",
       "      <td>111010215</td>\n",
       "      <td>2015-06-08 12:00:00+00:00</td>\n",
       "      <td>Художественный</td>\n",
       "      <td>ООО \"Кинокомпания \"КОКТЕБЕЛЬ\"</td>\n",
       "      <td>Россия</td>\n",
       "      <td>М.Местецкий</td>\n",
       "      <td>Р.Борисевич, А.Кушаев</td>\n",
       "      <td>«18+» - запрещено для детей</td>\n",
       "      <td>0.00</td>\n",
       "      <td>59000000.00</td>\n",
       "      <td>0.00</td>\n",
       "      <td>Фонд кино</td>\n",
       "      <td>6.30</td>\n",
       "      <td>комедия,драма</td>\n",
       "      <td>1957738.51</td>\n",
       "    </tr>\n",
       "    <tr>\n",
       "      <th>2788</th>\n",
       "      <td>Срочно выйду замуж</td>\n",
       "      <td>111017115</td>\n",
       "      <td>2015-09-30 12:00:00+00:00</td>\n",
       "      <td>Художественный</td>\n",
       "      <td>АО \"ВайТ Медиа\", ООО \"Арт Пикчерс Студия\"</td>\n",
       "      <td>Россия</td>\n",
       "      <td>С Чекалов</td>\n",
       "      <td>Ф.Бондарчук, Т.Вайнштейн, Д.Рудовский</td>\n",
       "      <td>«16+» - для детей старше 16 лет</td>\n",
       "      <td>0.00</td>\n",
       "      <td>35000000.00</td>\n",
       "      <td>0.00</td>\n",
       "      <td>Фонд кино</td>\n",
       "      <td>5.10</td>\n",
       "      <td>комедия,мелодрама</td>\n",
       "      <td>72937783.20</td>\n",
       "    </tr>\n",
       "    <tr>\n",
       "      <th>2874</th>\n",
       "      <td>Помню - не помню!</td>\n",
       "      <td>111004916</td>\n",
       "      <td>2016-03-01 12:00:00+00:00</td>\n",
       "      <td>Художественный</td>\n",
       "      <td>ООО \"КиноФирма\"</td>\n",
       "      <td>Россия</td>\n",
       "      <td>В.Ровенский</td>\n",
       "      <td>ООО \"КиноФирма\"</td>\n",
       "      <td>«12+» - для детей старше 12 лет</td>\n",
       "      <td>0.00</td>\n",
       "      <td>6000000.00</td>\n",
       "      <td>0.00</td>\n",
       "      <td>Министерство культуры</td>\n",
       "      <td>4.30</td>\n",
       "      <td>комедия</td>\n",
       "      <td>15362931.43</td>\n",
       "    </tr>\n",
       "    <tr>\n",
       "      <th>3047</th>\n",
       "      <td>Любовь с ограничениями</td>\n",
       "      <td>111008216</td>\n",
       "      <td>2016-04-29 12:00:00+00:00</td>\n",
       "      <td>Художественный</td>\n",
       "      <td>АО \"ВайТ Медиа\", ООО \"Арт Пикчерс Студия\"</td>\n",
       "      <td>Россия</td>\n",
       "      <td>Д.Тюрин</td>\n",
       "      <td>Ф.Бондарчук, Т.Вайнштейн, Д.Рудовский</td>\n",
       "      <td>«16+» - для детей старше 16 лет</td>\n",
       "      <td>19000000.00</td>\n",
       "      <td>51000000.00</td>\n",
       "      <td>0.00</td>\n",
       "      <td>Фонд кино</td>\n",
       "      <td>6.30</td>\n",
       "      <td>комедия,мелодрама</td>\n",
       "      <td>70299052.00</td>\n",
       "    </tr>\n",
       "    <tr>\n",
       "      <th>3565</th>\n",
       "      <td>Притяжение (2016)</td>\n",
       "      <td>111018116</td>\n",
       "      <td>2016-12-16 12:00:00+00:00</td>\n",
       "      <td>Художественный</td>\n",
       "      <td>ООО \"Водород 2011\",  ООО \"Арт Пикчерс Студия\"</td>\n",
       "      <td>Россия</td>\n",
       "      <td>Ф.Бондарчук</td>\n",
       "      <td>ООО \"Арт Пикчерс Студия\"</td>\n",
       "      <td>«12+» - для детей старше 12 лет</td>\n",
       "      <td>0.00</td>\n",
       "      <td>250000000.00</td>\n",
       "      <td>0.00</td>\n",
       "      <td>Фонд кино</td>\n",
       "      <td>5.60</td>\n",
       "      <td>фантастика</td>\n",
       "      <td>1038321489.00</td>\n",
       "    </tr>\n",
       "    <tr>\n",
       "      <th>3675</th>\n",
       "      <td>Чудо-юдо</td>\n",
       "      <td>114001817</td>\n",
       "      <td>2017-06-27 12:00:00+00:00</td>\n",
       "      <td>Анимационный</td>\n",
       "      <td>ООО \"КиноФирма\"</td>\n",
       "      <td>Россия</td>\n",
       "      <td>А.Лукичев</td>\n",
       "      <td>ООО \"КиноФирма\"</td>\n",
       "      <td>«6+» - для детей старше 6 лет</td>\n",
       "      <td>20000000.00</td>\n",
       "      <td>20000000.00</td>\n",
       "      <td>0.00</td>\n",
       "      <td>Фонд кино</td>\n",
       "      <td>5.20</td>\n",
       "      <td>мультфильм,фэнтези,семейный</td>\n",
       "      <td>55108014.76</td>\n",
       "    </tr>\n",
       "    <tr>\n",
       "      <th>3739</th>\n",
       "      <td>Мифы</td>\n",
       "      <td>111004317</td>\n",
       "      <td>2017-06-07 12:00:00+00:00</td>\n",
       "      <td>Художественный</td>\n",
       "      <td>ООО \"ХАЙПФИЛМ\", ООО \"Арт Пикчерс Студия\"</td>\n",
       "      <td>Россия</td>\n",
       "      <td>А.Молочников</td>\n",
       "      <td>Ф.Бондарчук, Д.Рудовский, И.Стюарт, М.Османн, ...</td>\n",
       "      <td>«16+» - для детей старше 16 лет</td>\n",
       "      <td>25000000.00</td>\n",
       "      <td>20000000.00</td>\n",
       "      <td>0.00</td>\n",
       "      <td>Фонд кино</td>\n",
       "      <td>4.80</td>\n",
       "      <td>комедия</td>\n",
       "      <td>50451949.00</td>\n",
       "    </tr>\n",
       "    <tr>\n",
       "      <th>5673</th>\n",
       "      <td>Селфи</td>\n",
       "      <td>111012117</td>\n",
       "      <td>2018-02-01 12:00:00+00:00</td>\n",
       "      <td>Художественный</td>\n",
       "      <td>ООО \"Киностудия \"Слово\", ООО \"Арт Пикчерс Студия\"</td>\n",
       "      <td>Россия</td>\n",
       "      <td>Н.Хомерики</td>\n",
       "      <td>П.Ануров, Ф.Бондарчук, Д.Рудовский</td>\n",
       "      <td>«16+» - для детей старше 16 лет</td>\n",
       "      <td>20000000.00</td>\n",
       "      <td>40000000.00</td>\n",
       "      <td>0.00</td>\n",
       "      <td>Фонд кино</td>\n",
       "      <td>5.80</td>\n",
       "      <td>триллер,драма</td>\n",
       "      <td>225196400.03</td>\n",
       "    </tr>\n",
       "    <tr>\n",
       "      <th>5806</th>\n",
       "      <td>Два хвоста</td>\n",
       "      <td>114001018</td>\n",
       "      <td>2018-05-31 12:00:00+00:00</td>\n",
       "      <td>Анимационный</td>\n",
       "      <td>ООО \"ЛИЦЕНЗИОННЫЕ БРЕНДЫ\"</td>\n",
       "      <td>Россия</td>\n",
       "      <td>В.Ровенский, Н.Лопато, В.Азеев</td>\n",
       "      <td>ООО \"ЛИЦЕНЗИОННЫЕ БРЕНДЫ\"</td>\n",
       "      <td>«6+» - для детей старше 6 лет</td>\n",
       "      <td>10000000.00</td>\n",
       "      <td>60000000.00</td>\n",
       "      <td>0.00</td>\n",
       "      <td>Фонд кино</td>\n",
       "      <td>5.00</td>\n",
       "      <td>мультфильм,детский</td>\n",
       "      <td>106514301.03</td>\n",
       "    </tr>\n",
       "    <tr>\n",
       "      <th>6008</th>\n",
       "      <td>Принцесса и дракон</td>\n",
       "      <td>114003018</td>\n",
       "      <td>2018-08-23 12:00:00+00:00</td>\n",
       "      <td>Анимационный</td>\n",
       "      <td>ООО \"ЛИЦЕНЗИОННЫЕ БРЕНДЫ\"</td>\n",
       "      <td>Россия</td>\n",
       "      <td>М.Нефедова</td>\n",
       "      <td>ООО \"ЛИЦЕНЗИОННЫЕ БРЕНДЫ\"</td>\n",
       "      <td>«6+» - для детей старше 6 лет</td>\n",
       "      <td>40000000.00</td>\n",
       "      <td>40000000.00</td>\n",
       "      <td>0.00</td>\n",
       "      <td>Фонд кино</td>\n",
       "      <td>5.20</td>\n",
       "      <td>мультфильм,фэнтези,детский</td>\n",
       "      <td>83366328.66</td>\n",
       "    </tr>\n",
       "    <tr>\n",
       "      <th>6323</th>\n",
       "      <td>Баба Яга</td>\n",
       "      <td>114006518</td>\n",
       "      <td>2018-11-08 12:00:00+00:00</td>\n",
       "      <td>Анимационный</td>\n",
       "      <td>ООО \"Арт Пикчерс Студия\"</td>\n",
       "      <td>Россия</td>\n",
       "      <td>В.Саков</td>\n",
       "      <td>ООО \"Арт Пикчерс Студия\", ООО \"КРИЭЙТИВ АНИМЭЙ...</td>\n",
       "      <td>«6+» - для детей старше 6 лет</td>\n",
       "      <td>0.00</td>\n",
       "      <td>138969465.00</td>\n",
       "      <td>0.00</td>\n",
       "      <td>Фонд кино</td>\n",
       "      <td>NaN</td>\n",
       "      <td>ungenre</td>\n",
       "      <td>1334699.40</td>\n",
       "    </tr>\n",
       "    <tr>\n",
       "      <th>6823</th>\n",
       "      <td>Большое путешествие</td>\n",
       "      <td>114002419</td>\n",
       "      <td>2019-04-20 12:00:00+00:00</td>\n",
       "      <td>Анимационный</td>\n",
       "      <td>ООО \"ЛИЦЕНЗИОННЫЕ БРЕНДЫ\"</td>\n",
       "      <td>Россия</td>\n",
       "      <td>Н.Лопато, В.Ровенский</td>\n",
       "      <td>ООО \"ЛИЦЕНЗИОННЫЕ БРЕНДЫ\"</td>\n",
       "      <td>«6+» - для детей старше 6 лет</td>\n",
       "      <td>60000000.00</td>\n",
       "      <td>120000000.00</td>\n",
       "      <td>0.00</td>\n",
       "      <td>Фонд кино</td>\n",
       "      <td>6.20</td>\n",
       "      <td>мультфильм,комедия,приключения</td>\n",
       "      <td>147606826.51</td>\n",
       "    </tr>\n",
       "  </tbody>\n",
       "</table>\n",
       "</div>"
      ],
      "text/plain": [
       "                       title   puNumber           show_start_date  \\\n",
       "2053                     14+  111023614 2014-12-19 12:00:00+00:00   \n",
       "2058               Дуxless 2  111000415 2015-01-26 12:00:00+00:00   \n",
       "2472             Воин (2015)  111017315 2015-09-28 12:00:00+00:00   \n",
       "2532                 Бармен.  111009615 2015-05-26 12:00:00+00:00   \n",
       "2615     Савва. Сердце воина  114001715 2015-07-21 12:00:00+00:00   \n",
       "2684          Тряпичный союз  111010215 2015-06-08 12:00:00+00:00   \n",
       "2788      Срочно выйду замуж  111017115 2015-09-30 12:00:00+00:00   \n",
       "2874       Помню - не помню!  111004916 2016-03-01 12:00:00+00:00   \n",
       "3047  Любовь с ограничениями  111008216 2016-04-29 12:00:00+00:00   \n",
       "3565       Притяжение (2016)  111018116 2016-12-16 12:00:00+00:00   \n",
       "3675                Чудо-юдо  114001817 2017-06-27 12:00:00+00:00   \n",
       "3739                    Мифы  111004317 2017-06-07 12:00:00+00:00   \n",
       "5673                   Селфи  111012117 2018-02-01 12:00:00+00:00   \n",
       "5806              Два хвоста  114001018 2018-05-31 12:00:00+00:00   \n",
       "6008      Принцесса и дракон  114003018 2018-08-23 12:00:00+00:00   \n",
       "6323                Баба Яга  114006518 2018-11-08 12:00:00+00:00   \n",
       "6823     Большое путешествие  114002419 2019-04-20 12:00:00+00:00   \n",
       "\n",
       "                type                                        film_studio  \\\n",
       "2053  Художественный                         ООО Киностудия  \"Сентябрь\"   \n",
       "2058  Художественный  ООО \"Киностудия \"Слово\", ООО \"Арт Пикчерс Студия\"   \n",
       "2472  Художественный   ООО \"Форпост Продакшн\", ООО \"Арт Пикчерс Студия\"   \n",
       "2532  Художественный          АО \"ВайТ Медиа\", ООО \"Арт Пикчерс Студия\"   \n",
       "2615    Анимационный   ООО \"Глюкоза Продакшн\", ООО \"Арт Пикчерс Студия\"   \n",
       "2684  Художественный                      ООО \"Кинокомпания \"КОКТЕБЕЛЬ\"   \n",
       "2788  Художественный          АО \"ВайТ Медиа\", ООО \"Арт Пикчерс Студия\"   \n",
       "2874  Художественный                                    ООО \"КиноФирма\"   \n",
       "3047  Художественный          АО \"ВайТ Медиа\", ООО \"Арт Пикчерс Студия\"   \n",
       "3565  Художественный      ООО \"Водород 2011\",  ООО \"Арт Пикчерс Студия\"   \n",
       "3675    Анимационный                                    ООО \"КиноФирма\"   \n",
       "3739  Художественный           ООО \"ХАЙПФИЛМ\", ООО \"Арт Пикчерс Студия\"   \n",
       "5673  Художественный  ООО \"Киностудия \"Слово\", ООО \"Арт Пикчерс Студия\"   \n",
       "5806    Анимационный                          ООО \"ЛИЦЕНЗИОННЫЕ БРЕНДЫ\"   \n",
       "6008    Анимационный                          ООО \"ЛИЦЕНЗИОННЫЕ БРЕНДЫ\"   \n",
       "6323    Анимационный                           ООО \"Арт Пикчерс Студия\"   \n",
       "6823    Анимационный                          ООО \"ЛИЦЕНЗИОННЫЕ БРЕНДЫ\"   \n",
       "\n",
       "     production_country                        director  \\\n",
       "2053             Россия                        А.Зайцев   \n",
       "2058             Россия                      Р.Прыгунов   \n",
       "2472             Россия                     А.Андрианов   \n",
       "2532             Россия                    Д.Штурманова   \n",
       "2615             Россия                        М.Фадеев   \n",
       "2684             Россия                     М.Местецкий   \n",
       "2788             Россия                       С Чекалов   \n",
       "2874             Россия                     В.Ровенский   \n",
       "3047             Россия                         Д.Тюрин   \n",
       "3565             Россия                     Ф.Бондарчук   \n",
       "3675             Россия                       А.Лукичев   \n",
       "3739             Россия                    А.Молочников   \n",
       "5673             Россия                      Н.Хомерики   \n",
       "5806             Россия  В.Ровенский, Н.Лопато, В.Азеев   \n",
       "6008             Россия                      М.Нефедова   \n",
       "6323             Россия                         В.Саков   \n",
       "6823             Россия           Н.Лопато, В.Ровенский   \n",
       "\n",
       "                                               producer  \\\n",
       "2053                                О.Гранина, А.Зайцев   \n",
       "2058                 П.Ануров, Ф.Бондарчук, Д.Рудовский   \n",
       "2472                           ООО \"Арт Пикчерс Студия\"   \n",
       "2532                                        Т.Вайнштейн   \n",
       "2615                                         А.Чистяков   \n",
       "2684                              Р.Борисевич, А.Кушаев   \n",
       "2788              Ф.Бондарчук, Т.Вайнштейн, Д.Рудовский   \n",
       "2874                                    ООО \"КиноФирма\"   \n",
       "3047              Ф.Бондарчук, Т.Вайнштейн, Д.Рудовский   \n",
       "3565                           ООО \"Арт Пикчерс Студия\"   \n",
       "3675                                    ООО \"КиноФирма\"   \n",
       "3739  Ф.Бондарчук, Д.Рудовский, И.Стюарт, М.Османн, ...   \n",
       "5673                 П.Ануров, Ф.Бондарчук, Д.Рудовский   \n",
       "5806                          ООО \"ЛИЦЕНЗИОННЫЕ БРЕНДЫ\"   \n",
       "6008                          ООО \"ЛИЦЕНЗИОННЫЕ БРЕНДЫ\"   \n",
       "6323  ООО \"Арт Пикчерс Студия\", ООО \"КРИЭЙТИВ АНИМЭЙ...   \n",
       "6823                          ООО \"ЛИЦЕНЗИОННЫЕ БРЕНДЫ\"   \n",
       "\n",
       "                      age_restriction  refundable_support  \\\n",
       "2053  «16+» - для детей старше 16 лет                0.00   \n",
       "2058  «16+» - для детей старше 16 лет                0.00   \n",
       "2472  «12+» - для детей старше 12 лет         10000000.00   \n",
       "2532  «16+» - для детей старше 16 лет         20000000.00   \n",
       "2615    «6+» - для детей старше 6 лет         60000000.00   \n",
       "2684      «18+» - запрещено для детей                0.00   \n",
       "2788  «16+» - для детей старше 16 лет                0.00   \n",
       "2874  «12+» - для детей старше 12 лет                0.00   \n",
       "3047  «16+» - для детей старше 16 лет         19000000.00   \n",
       "3565  «12+» - для детей старше 12 лет                0.00   \n",
       "3675    «6+» - для детей старше 6 лет         20000000.00   \n",
       "3739  «16+» - для детей старше 16 лет         25000000.00   \n",
       "5673  «16+» - для детей старше 16 лет         20000000.00   \n",
       "5806    «6+» - для детей старше 6 лет         10000000.00   \n",
       "6008    «6+» - для детей старше 6 лет         40000000.00   \n",
       "6323    «6+» - для детей старше 6 лет                0.00   \n",
       "6823    «6+» - для детей старше 6 лет         60000000.00   \n",
       "\n",
       "      nonrefundable_support  budget                  financing_source  \\\n",
       "2053            23000000.00    0.00  Министерство культуры, Фонд кино   \n",
       "2058            75000000.00    0.00                         Фонд кино   \n",
       "2472            70000000.00    0.00                         Фонд кино   \n",
       "2532                   0.00    0.00                         Фонд кино   \n",
       "2615           100000000.00    0.00                         Фонд кино   \n",
       "2684            59000000.00    0.00                         Фонд кино   \n",
       "2788            35000000.00    0.00                         Фонд кино   \n",
       "2874             6000000.00    0.00             Министерство культуры   \n",
       "3047            51000000.00    0.00                         Фонд кино   \n",
       "3565           250000000.00    0.00                         Фонд кино   \n",
       "3675            20000000.00    0.00                         Фонд кино   \n",
       "3739            20000000.00    0.00                         Фонд кино   \n",
       "5673            40000000.00    0.00                         Фонд кино   \n",
       "5806            60000000.00    0.00                         Фонд кино   \n",
       "6008            40000000.00    0.00                         Фонд кино   \n",
       "6323           138969465.00    0.00                         Фонд кино   \n",
       "6823           120000000.00    0.00                         Фонд кино   \n",
       "\n",
       "      ratings                          genres    box_office  \n",
       "2053     6.60                       мелодрама   10234016.10  \n",
       "2058     6.60                           драма  446163511.00  \n",
       "2472     7.80           боевик,драма,криминал  196572438.40  \n",
       "2532     6.20                 комедия,фэнтези   67418974.80  \n",
       "2615     4.60  мультфильм,приключения,фэнтези  184487551.40  \n",
       "2684     6.30                   комедия,драма    1957738.51  \n",
       "2788     5.10               комедия,мелодрама   72937783.20  \n",
       "2874     4.30                         комедия   15362931.43  \n",
       "3047     6.30               комедия,мелодрама   70299052.00  \n",
       "3565     5.60                      фантастика 1038321489.00  \n",
       "3675     5.20     мультфильм,фэнтези,семейный   55108014.76  \n",
       "3739     4.80                         комедия   50451949.00  \n",
       "5673     5.80                   триллер,драма  225196400.03  \n",
       "5806     5.00              мультфильм,детский  106514301.03  \n",
       "6008     5.20      мультфильм,фэнтези,детский   83366328.66  \n",
       "6323      NaN                         ungenre    1334699.40  \n",
       "6823     6.20  мультфильм,комедия,приключения  147606826.51  "
      ]
     },
     "execution_count": 35,
     "metadata": {},
     "output_type": "execute_result"
    }
   ],
   "source": [
    "df[(df['refundable_support'] + df['nonrefundable_support']) > df['budget']]"
   ]
  },
  {
   "cell_type": "markdown",
   "metadata": {
    "id": "L68T84HVtrsR"
   },
   "source": [
    "Такие картины есть. Исправим в них бюджет на сумму поддержки, используя функцию."
   ]
  },
  {
   "cell_type": "code",
   "execution_count": 36,
   "metadata": {
    "colab": {
     "base_uri": "https://localhost:8080/",
     "height": 300
    },
    "id": "k8E4SM50Ffva",
    "outputId": "f8315529-9999-414b-ccc9-0b1727546a38"
   },
   "outputs": [],
   "source": [
    "def correct_budget(row):\n",
    "    if row['budget'] < (row['refundable_support'] + row['nonrefundable_support']):\n",
    "        return row['refundable_support'] + row['nonrefundable_support']\n",
    "    return row['budget']"
   ]
  },
  {
   "cell_type": "code",
   "execution_count": 37,
   "metadata": {},
   "outputs": [
    {
     "data": {
      "text/html": [
       "<div>\n",
       "<style scoped>\n",
       "    .dataframe tbody tr th:only-of-type {\n",
       "        vertical-align: middle;\n",
       "    }\n",
       "\n",
       "    .dataframe tbody tr th {\n",
       "        vertical-align: top;\n",
       "    }\n",
       "\n",
       "    .dataframe thead th {\n",
       "        text-align: right;\n",
       "    }\n",
       "</style>\n",
       "<table border=\"1\" class=\"dataframe\">\n",
       "  <thead>\n",
       "    <tr style=\"text-align: right;\">\n",
       "      <th></th>\n",
       "      <th>refundable_support</th>\n",
       "      <th>nonrefundable_support</th>\n",
       "      <th>budget</th>\n",
       "      <th>ratings</th>\n",
       "      <th>box_office</th>\n",
       "      <th>budget_corrected</th>\n",
       "    </tr>\n",
       "  </thead>\n",
       "  <tbody>\n",
       "    <tr>\n",
       "      <th>count</th>\n",
       "      <td>332.00</td>\n",
       "      <td>332.00</td>\n",
       "      <td>332.00</td>\n",
       "      <td>6011.00</td>\n",
       "      <td>3158.00</td>\n",
       "      <td>332.00</td>\n",
       "    </tr>\n",
       "    <tr>\n",
       "      <th>mean</th>\n",
       "      <td>11864457.83</td>\n",
       "      <td>48980988.89</td>\n",
       "      <td>127229716.68</td>\n",
       "      <td>6.46</td>\n",
       "      <td>76478696.16</td>\n",
       "      <td>131422395.80</td>\n",
       "    </tr>\n",
       "    <tr>\n",
       "      <th>std</th>\n",
       "      <td>24916555.26</td>\n",
       "      <td>59980117.92</td>\n",
       "      <td>188588333.12</td>\n",
       "      <td>1.11</td>\n",
       "      <td>240353122.82</td>\n",
       "      <td>187148242.67</td>\n",
       "    </tr>\n",
       "    <tr>\n",
       "      <th>min</th>\n",
       "      <td>0.00</td>\n",
       "      <td>0.00</td>\n",
       "      <td>0.00</td>\n",
       "      <td>1.00</td>\n",
       "      <td>0.00</td>\n",
       "      <td>6000000.00</td>\n",
       "    </tr>\n",
       "    <tr>\n",
       "      <th>25%</th>\n",
       "      <td>0.00</td>\n",
       "      <td>25000000.00</td>\n",
       "      <td>42000000.00</td>\n",
       "      <td>5.80</td>\n",
       "      <td>86239.00</td>\n",
       "      <td>45524799.50</td>\n",
       "    </tr>\n",
       "    <tr>\n",
       "      <th>50%</th>\n",
       "      <td>0.00</td>\n",
       "      <td>30000000.00</td>\n",
       "      <td>68649916.00</td>\n",
       "      <td>6.60</td>\n",
       "      <td>2327987.55</td>\n",
       "      <td>71196901.50</td>\n",
       "    </tr>\n",
       "    <tr>\n",
       "      <th>75%</th>\n",
       "      <td>15000000.00</td>\n",
       "      <td>40375000.00</td>\n",
       "      <td>141985319.50</td>\n",
       "      <td>7.20</td>\n",
       "      <td>23979671.02</td>\n",
       "      <td>150000000.00</td>\n",
       "    </tr>\n",
       "    <tr>\n",
       "      <th>max</th>\n",
       "      <td>180000000.00</td>\n",
       "      <td>400000000.00</td>\n",
       "      <td>2305074303.00</td>\n",
       "      <td>9.20</td>\n",
       "      <td>3073568690.79</td>\n",
       "      <td>2305074303.00</td>\n",
       "    </tr>\n",
       "  </tbody>\n",
       "</table>\n",
       "</div>"
      ],
      "text/plain": [
       "       refundable_support  nonrefundable_support        budget  ratings  \\\n",
       "count              332.00                 332.00        332.00  6011.00   \n",
       "mean          11864457.83            48980988.89  127229716.68     6.46   \n",
       "std           24916555.26            59980117.92  188588333.12     1.11   \n",
       "min                  0.00                   0.00          0.00     1.00   \n",
       "25%                  0.00            25000000.00   42000000.00     5.80   \n",
       "50%                  0.00            30000000.00   68649916.00     6.60   \n",
       "75%           15000000.00            40375000.00  141985319.50     7.20   \n",
       "max          180000000.00           400000000.00 2305074303.00     9.20   \n",
       "\n",
       "         box_office  budget_corrected  \n",
       "count       3158.00            332.00  \n",
       "mean    76478696.16      131422395.80  \n",
       "std    240353122.82      187148242.67  \n",
       "min            0.00        6000000.00  \n",
       "25%        86239.00       45524799.50  \n",
       "50%      2327987.55       71196901.50  \n",
       "75%     23979671.02      150000000.00  \n",
       "max   3073568690.79     2305074303.00  "
      ]
     },
     "execution_count": 37,
     "metadata": {},
     "output_type": "execute_result"
    }
   ],
   "source": [
    "df['budget_corrected'] = df.apply(correct_budget, axis=1)\n",
    "df.describe()"
   ]
  },
  {
   "cell_type": "markdown",
   "metadata": {
    "id": "C4rckMwB1SXM"
   },
   "source": [
    "теперь посмотрим, есть ли еще такие строки"
   ]
  },
  {
   "cell_type": "code",
   "execution_count": 38,
   "metadata": {
    "colab": {
     "base_uri": "https://localhost:8080/"
    },
    "id": "zWVhKc2j1VHp",
    "outputId": "422c6ae4-e6d1-43ad-c939-1beacf74f472"
   },
   "outputs": [
    {
     "data": {
      "text/plain": [
       "0"
      ]
     },
     "execution_count": 38,
     "metadata": {},
     "output_type": "execute_result"
    }
   ],
   "source": [
    "len(df[(df['refundable_support'] + df['nonrefundable_support']) > df['budget_corrected']])"
   ]
  },
  {
   "cell_type": "code",
   "execution_count": 39,
   "metadata": {
    "id": "o97fA7xp2_S8"
   },
   "outputs": [],
   "source": [
    "df['budget'] = df['budget_corrected']\n",
    "del df['budget_corrected']"
   ]
  },
  {
   "cell_type": "markdown",
   "metadata": {
    "id": "Eu6oWp2CgFyS"
   },
   "source": [
    "#### Шаг 2.6. Добавьте новые столбцы\n",
    "\n",
    "\n",
    "\n"
   ]
  },
  {
   "cell_type": "markdown",
   "metadata": {
    "id": "7GgW-UpAgFyS"
   },
   "source": [
    "- Создайте столбец с информацией о годе проката. Выделите год из даты премьеры фильма."
   ]
  },
  {
   "cell_type": "code",
   "execution_count": 40,
   "metadata": {
    "colab": {
     "base_uri": "https://localhost:8080/",
     "height": 565
    },
    "id": "I-yd1DkWgFyT",
    "outputId": "c2b99c8f-4121-473c-a715-9afcc509e969"
   },
   "outputs": [
    {
     "data": {
      "text/html": [
       "<div>\n",
       "<style scoped>\n",
       "    .dataframe tbody tr th:only-of-type {\n",
       "        vertical-align: middle;\n",
       "    }\n",
       "\n",
       "    .dataframe tbody tr th {\n",
       "        vertical-align: top;\n",
       "    }\n",
       "\n",
       "    .dataframe thead th {\n",
       "        text-align: right;\n",
       "    }\n",
       "</style>\n",
       "<table border=\"1\" class=\"dataframe\">\n",
       "  <thead>\n",
       "    <tr style=\"text-align: right;\">\n",
       "      <th></th>\n",
       "      <th>title</th>\n",
       "      <th>puNumber</th>\n",
       "      <th>show_start_date</th>\n",
       "      <th>type</th>\n",
       "      <th>film_studio</th>\n",
       "      <th>production_country</th>\n",
       "      <th>director</th>\n",
       "      <th>producer</th>\n",
       "      <th>age_restriction</th>\n",
       "      <th>refundable_support</th>\n",
       "      <th>nonrefundable_support</th>\n",
       "      <th>budget</th>\n",
       "      <th>financing_source</th>\n",
       "      <th>ratings</th>\n",
       "      <th>genres</th>\n",
       "      <th>box_office</th>\n",
       "      <th>movie_start_year</th>\n",
       "    </tr>\n",
       "  </thead>\n",
       "  <tbody>\n",
       "    <tr>\n",
       "      <th>0</th>\n",
       "      <td>Открытый простор</td>\n",
       "      <td>221048915</td>\n",
       "      <td>2015-11-27 12:00:00+00:00</td>\n",
       "      <td>Художественный</td>\n",
       "      <td>Тачстоун Пикчерз, Кобальт Пикчерз, Бикон Пикче...</td>\n",
       "      <td>США</td>\n",
       "      <td>Кевин Костнер</td>\n",
       "      <td>Дэвид Валдес, Кевин Костнер, Джейк Эбертс</td>\n",
       "      <td>«18+» - запрещено для детей</td>\n",
       "      <td>NaN</td>\n",
       "      <td>NaN</td>\n",
       "      <td>NaN</td>\n",
       "      <td>unknown</td>\n",
       "      <td>7.20</td>\n",
       "      <td>боевик,драма,мелодрама</td>\n",
       "      <td>NaN</td>\n",
       "      <td>2015</td>\n",
       "    </tr>\n",
       "    <tr>\n",
       "      <th>1</th>\n",
       "      <td>Особо важное задание</td>\n",
       "      <td>111013716</td>\n",
       "      <td>2016-09-13 12:00:00+00:00</td>\n",
       "      <td>Художественный</td>\n",
       "      <td>Киностудия \"Мосфильм\"</td>\n",
       "      <td>СССР</td>\n",
       "      <td>Е.Матвеев</td>\n",
       "      <td>NaN</td>\n",
       "      <td>«6+» - для детей старше 6 лет</td>\n",
       "      <td>NaN</td>\n",
       "      <td>NaN</td>\n",
       "      <td>NaN</td>\n",
       "      <td>unknown</td>\n",
       "      <td>6.60</td>\n",
       "      <td>драма,военный</td>\n",
       "      <td>NaN</td>\n",
       "      <td>2016</td>\n",
       "    </tr>\n",
       "    <tr>\n",
       "      <th>2</th>\n",
       "      <td>Особо опасен</td>\n",
       "      <td>221038416</td>\n",
       "      <td>2016-10-10 12:00:00+00:00</td>\n",
       "      <td>Художественный</td>\n",
       "      <td>Юниверсал Пикчерз, Кикстарт Продакшнз, Марк Пл...</td>\n",
       "      <td>США</td>\n",
       "      <td>Тимур Бекмамбетов</td>\n",
       "      <td>Джим Лемли, Джейсон Нетер, Марк Е.Платт, Яйн Смит</td>\n",
       "      <td>«18+» - запрещено для детей</td>\n",
       "      <td>NaN</td>\n",
       "      <td>NaN</td>\n",
       "      <td>NaN</td>\n",
       "      <td>unknown</td>\n",
       "      <td>6.80</td>\n",
       "      <td>фантастика,боевик,триллер</td>\n",
       "      <td>NaN</td>\n",
       "      <td>2016</td>\n",
       "    </tr>\n",
       "    <tr>\n",
       "      <th>5</th>\n",
       "      <td>Остановился поезд</td>\n",
       "      <td>111013816</td>\n",
       "      <td>2016-09-13 12:00:00+00:00</td>\n",
       "      <td>Художественный</td>\n",
       "      <td>Киностудия \"Мосфильм\"</td>\n",
       "      <td>СССР</td>\n",
       "      <td>В.Абдрашитов</td>\n",
       "      <td>NaN</td>\n",
       "      <td>«6+» - для детей старше 6 лет</td>\n",
       "      <td>NaN</td>\n",
       "      <td>NaN</td>\n",
       "      <td>NaN</td>\n",
       "      <td>unknown</td>\n",
       "      <td>7.70</td>\n",
       "      <td>драма</td>\n",
       "      <td>NaN</td>\n",
       "      <td>2016</td>\n",
       "    </tr>\n",
       "    <tr>\n",
       "      <th>6</th>\n",
       "      <td>Любовь и голуби</td>\n",
       "      <td>111007013</td>\n",
       "      <td>2013-10-18 12:00:00+00:00</td>\n",
       "      <td>Художественный</td>\n",
       "      <td>Киностудия \"Мосфильм\"</td>\n",
       "      <td>СССР</td>\n",
       "      <td>В.Меньшов</td>\n",
       "      <td>NaN</td>\n",
       "      <td>«12+» - для детей старше 12 лет</td>\n",
       "      <td>NaN</td>\n",
       "      <td>NaN</td>\n",
       "      <td>NaN</td>\n",
       "      <td>unknown</td>\n",
       "      <td>8.30</td>\n",
       "      <td>мелодрама,комедия</td>\n",
       "      <td>2700.00</td>\n",
       "      <td>2013</td>\n",
       "    </tr>\n",
       "  </tbody>\n",
       "</table>\n",
       "</div>"
      ],
      "text/plain": [
       "                  title   puNumber           show_start_date            type  \\\n",
       "0      Открытый простор  221048915 2015-11-27 12:00:00+00:00  Художественный   \n",
       "1  Особо важное задание  111013716 2016-09-13 12:00:00+00:00  Художественный   \n",
       "2          Особо опасен  221038416 2016-10-10 12:00:00+00:00  Художественный   \n",
       "5     Остановился поезд  111013816 2016-09-13 12:00:00+00:00  Художественный   \n",
       "6       Любовь и голуби  111007013 2013-10-18 12:00:00+00:00  Художественный   \n",
       "\n",
       "                                         film_studio production_country  \\\n",
       "0  Тачстоун Пикчерз, Кобальт Пикчерз, Бикон Пикче...                США   \n",
       "1                              Киностудия \"Мосфильм\"               СССР   \n",
       "2  Юниверсал Пикчерз, Кикстарт Продакшнз, Марк Пл...                США   \n",
       "5                              Киностудия \"Мосфильм\"               СССР   \n",
       "6                              Киностудия \"Мосфильм\"               СССР   \n",
       "\n",
       "            director                                           producer  \\\n",
       "0      Кевин Костнер          Дэвид Валдес, Кевин Костнер, Джейк Эбертс   \n",
       "1          Е.Матвеев                                                NaN   \n",
       "2  Тимур Бекмамбетов  Джим Лемли, Джейсон Нетер, Марк Е.Платт, Яйн Смит   \n",
       "5       В.Абдрашитов                                                NaN   \n",
       "6          В.Меньшов                                                NaN   \n",
       "\n",
       "                   age_restriction  refundable_support  nonrefundable_support  \\\n",
       "0      «18+» - запрещено для детей                 NaN                    NaN   \n",
       "1    «6+» - для детей старше 6 лет                 NaN                    NaN   \n",
       "2      «18+» - запрещено для детей                 NaN                    NaN   \n",
       "5    «6+» - для детей старше 6 лет                 NaN                    NaN   \n",
       "6  «12+» - для детей старше 12 лет                 NaN                    NaN   \n",
       "\n",
       "   budget financing_source  ratings                     genres  box_office  \\\n",
       "0     NaN          unknown     7.20     боевик,драма,мелодрама         NaN   \n",
       "1     NaN          unknown     6.60              драма,военный         NaN   \n",
       "2     NaN          unknown     6.80  фантастика,боевик,триллер         NaN   \n",
       "5     NaN          unknown     7.70                      драма         NaN   \n",
       "6     NaN          unknown     8.30          мелодрама,комедия     2700.00   \n",
       "\n",
       "   movie_start_year  \n",
       "0              2015  \n",
       "1              2016  \n",
       "2              2016  \n",
       "5              2016  \n",
       "6              2013  "
      ]
     },
     "execution_count": 40,
     "metadata": {},
     "output_type": "execute_result"
    }
   ],
   "source": [
    "df['movie_start_year'] = df['show_start_date'].dt.year\n",
    "df.head()"
   ]
  },
  {
   "cell_type": "markdown",
   "metadata": {
    "id": "nFTDLDYOgFyT"
   },
   "source": [
    "- Создайте два столбца: с именем и фамилией главного режиссёра и основным жанром фильма. В столбцы войдут первые значения из списка режиссёров и жанров соответственно.\n",
    "\n",
    "<div id=\"accordion\">\n",
    "    <div class=\"card\">\n",
    "        <div class=\"card-header\" id=\"headingThree\">\n",
    "            <button class=\"btn btn-link collapsed\" data-toggle=\"collapse\" data-target=\"#collapseHint_2\" aria-expanded=\"false\" aria-controls=\"collapseHint_2\">Подсказка</button>\n",
    "        </div>\n",
    "        <div id=\"collapseHint_2\" class=\"collapse\" aria-labelledby=\"headingThree\" data-parent=\"#accordion\">\n",
    "            <div class=\"card-body\">\n",
    "Чтобы создать такие столбцы, лучше всего использовать собственную функцию. Эту функцию можно применить к двум столбцам сразу. \n",
    "            </div>\n",
    "        </div>\n",
    "    </div>\n",
    "</div>"
   ]
  },
  {
   "cell_type": "code",
   "execution_count": 41,
   "metadata": {
    "id": "LSbRZKbMgFyU"
   },
   "outputs": [],
   "source": [
    "df['director_first'] = df['director'].str.split(\",\").str[0]\n",
    "df['genre_first'] = df['genres'].str.split(\",\").str[0]\n",
    "df['director_first'] = df['director_first'].str.strip()\n",
    "df['genre_first'] = df['genre_first'].str.strip()"
   ]
  },
  {
   "cell_type": "code",
   "execution_count": 42,
   "metadata": {
    "colab": {
     "base_uri": "https://localhost:8080/",
     "height": 565
    },
    "id": "wsFqvKdPIa0F",
    "outputId": "b5b23da6-d601-43fb-b0c3-b8cf69c71e9c"
   },
   "outputs": [
    {
     "data": {
      "text/html": [
       "<div>\n",
       "<style scoped>\n",
       "    .dataframe tbody tr th:only-of-type {\n",
       "        vertical-align: middle;\n",
       "    }\n",
       "\n",
       "    .dataframe tbody tr th {\n",
       "        vertical-align: top;\n",
       "    }\n",
       "\n",
       "    .dataframe thead th {\n",
       "        text-align: right;\n",
       "    }\n",
       "</style>\n",
       "<table border=\"1\" class=\"dataframe\">\n",
       "  <thead>\n",
       "    <tr style=\"text-align: right;\">\n",
       "      <th></th>\n",
       "      <th>title</th>\n",
       "      <th>puNumber</th>\n",
       "      <th>show_start_date</th>\n",
       "      <th>type</th>\n",
       "      <th>film_studio</th>\n",
       "      <th>production_country</th>\n",
       "      <th>director</th>\n",
       "      <th>producer</th>\n",
       "      <th>age_restriction</th>\n",
       "      <th>refundable_support</th>\n",
       "      <th>nonrefundable_support</th>\n",
       "      <th>budget</th>\n",
       "      <th>financing_source</th>\n",
       "      <th>ratings</th>\n",
       "      <th>genres</th>\n",
       "      <th>box_office</th>\n",
       "      <th>movie_start_year</th>\n",
       "      <th>director_first</th>\n",
       "      <th>genre_first</th>\n",
       "    </tr>\n",
       "  </thead>\n",
       "  <tbody>\n",
       "    <tr>\n",
       "      <th>0</th>\n",
       "      <td>Открытый простор</td>\n",
       "      <td>221048915</td>\n",
       "      <td>2015-11-27 12:00:00+00:00</td>\n",
       "      <td>Художественный</td>\n",
       "      <td>Тачстоун Пикчерз, Кобальт Пикчерз, Бикон Пикче...</td>\n",
       "      <td>США</td>\n",
       "      <td>Кевин Костнер</td>\n",
       "      <td>Дэвид Валдес, Кевин Костнер, Джейк Эбертс</td>\n",
       "      <td>«18+» - запрещено для детей</td>\n",
       "      <td>NaN</td>\n",
       "      <td>NaN</td>\n",
       "      <td>NaN</td>\n",
       "      <td>unknown</td>\n",
       "      <td>7.20</td>\n",
       "      <td>боевик,драма,мелодрама</td>\n",
       "      <td>NaN</td>\n",
       "      <td>2015</td>\n",
       "      <td>Кевин Костнер</td>\n",
       "      <td>боевик</td>\n",
       "    </tr>\n",
       "    <tr>\n",
       "      <th>1</th>\n",
       "      <td>Особо важное задание</td>\n",
       "      <td>111013716</td>\n",
       "      <td>2016-09-13 12:00:00+00:00</td>\n",
       "      <td>Художественный</td>\n",
       "      <td>Киностудия \"Мосфильм\"</td>\n",
       "      <td>СССР</td>\n",
       "      <td>Е.Матвеев</td>\n",
       "      <td>NaN</td>\n",
       "      <td>«6+» - для детей старше 6 лет</td>\n",
       "      <td>NaN</td>\n",
       "      <td>NaN</td>\n",
       "      <td>NaN</td>\n",
       "      <td>unknown</td>\n",
       "      <td>6.60</td>\n",
       "      <td>драма,военный</td>\n",
       "      <td>NaN</td>\n",
       "      <td>2016</td>\n",
       "      <td>Е.Матвеев</td>\n",
       "      <td>драма</td>\n",
       "    </tr>\n",
       "    <tr>\n",
       "      <th>2</th>\n",
       "      <td>Особо опасен</td>\n",
       "      <td>221038416</td>\n",
       "      <td>2016-10-10 12:00:00+00:00</td>\n",
       "      <td>Художественный</td>\n",
       "      <td>Юниверсал Пикчерз, Кикстарт Продакшнз, Марк Пл...</td>\n",
       "      <td>США</td>\n",
       "      <td>Тимур Бекмамбетов</td>\n",
       "      <td>Джим Лемли, Джейсон Нетер, Марк Е.Платт, Яйн Смит</td>\n",
       "      <td>«18+» - запрещено для детей</td>\n",
       "      <td>NaN</td>\n",
       "      <td>NaN</td>\n",
       "      <td>NaN</td>\n",
       "      <td>unknown</td>\n",
       "      <td>6.80</td>\n",
       "      <td>фантастика,боевик,триллер</td>\n",
       "      <td>NaN</td>\n",
       "      <td>2016</td>\n",
       "      <td>Тимур Бекмамбетов</td>\n",
       "      <td>фантастика</td>\n",
       "    </tr>\n",
       "    <tr>\n",
       "      <th>5</th>\n",
       "      <td>Остановился поезд</td>\n",
       "      <td>111013816</td>\n",
       "      <td>2016-09-13 12:00:00+00:00</td>\n",
       "      <td>Художественный</td>\n",
       "      <td>Киностудия \"Мосфильм\"</td>\n",
       "      <td>СССР</td>\n",
       "      <td>В.Абдрашитов</td>\n",
       "      <td>NaN</td>\n",
       "      <td>«6+» - для детей старше 6 лет</td>\n",
       "      <td>NaN</td>\n",
       "      <td>NaN</td>\n",
       "      <td>NaN</td>\n",
       "      <td>unknown</td>\n",
       "      <td>7.70</td>\n",
       "      <td>драма</td>\n",
       "      <td>NaN</td>\n",
       "      <td>2016</td>\n",
       "      <td>В.Абдрашитов</td>\n",
       "      <td>драма</td>\n",
       "    </tr>\n",
       "    <tr>\n",
       "      <th>6</th>\n",
       "      <td>Любовь и голуби</td>\n",
       "      <td>111007013</td>\n",
       "      <td>2013-10-18 12:00:00+00:00</td>\n",
       "      <td>Художественный</td>\n",
       "      <td>Киностудия \"Мосфильм\"</td>\n",
       "      <td>СССР</td>\n",
       "      <td>В.Меньшов</td>\n",
       "      <td>NaN</td>\n",
       "      <td>«12+» - для детей старше 12 лет</td>\n",
       "      <td>NaN</td>\n",
       "      <td>NaN</td>\n",
       "      <td>NaN</td>\n",
       "      <td>unknown</td>\n",
       "      <td>8.30</td>\n",
       "      <td>мелодрама,комедия</td>\n",
       "      <td>2700.00</td>\n",
       "      <td>2013</td>\n",
       "      <td>В.Меньшов</td>\n",
       "      <td>мелодрама</td>\n",
       "    </tr>\n",
       "  </tbody>\n",
       "</table>\n",
       "</div>"
      ],
      "text/plain": [
       "                  title   puNumber           show_start_date            type  \\\n",
       "0      Открытый простор  221048915 2015-11-27 12:00:00+00:00  Художественный   \n",
       "1  Особо важное задание  111013716 2016-09-13 12:00:00+00:00  Художественный   \n",
       "2          Особо опасен  221038416 2016-10-10 12:00:00+00:00  Художественный   \n",
       "5     Остановился поезд  111013816 2016-09-13 12:00:00+00:00  Художественный   \n",
       "6       Любовь и голуби  111007013 2013-10-18 12:00:00+00:00  Художественный   \n",
       "\n",
       "                                         film_studio production_country  \\\n",
       "0  Тачстоун Пикчерз, Кобальт Пикчерз, Бикон Пикче...                США   \n",
       "1                              Киностудия \"Мосфильм\"               СССР   \n",
       "2  Юниверсал Пикчерз, Кикстарт Продакшнз, Марк Пл...                США   \n",
       "5                              Киностудия \"Мосфильм\"               СССР   \n",
       "6                              Киностудия \"Мосфильм\"               СССР   \n",
       "\n",
       "            director                                           producer  \\\n",
       "0      Кевин Костнер          Дэвид Валдес, Кевин Костнер, Джейк Эбертс   \n",
       "1          Е.Матвеев                                                NaN   \n",
       "2  Тимур Бекмамбетов  Джим Лемли, Джейсон Нетер, Марк Е.Платт, Яйн Смит   \n",
       "5       В.Абдрашитов                                                NaN   \n",
       "6          В.Меньшов                                                NaN   \n",
       "\n",
       "                   age_restriction  refundable_support  nonrefundable_support  \\\n",
       "0      «18+» - запрещено для детей                 NaN                    NaN   \n",
       "1    «6+» - для детей старше 6 лет                 NaN                    NaN   \n",
       "2      «18+» - запрещено для детей                 NaN                    NaN   \n",
       "5    «6+» - для детей старше 6 лет                 NaN                    NaN   \n",
       "6  «12+» - для детей старше 12 лет                 NaN                    NaN   \n",
       "\n",
       "   budget financing_source  ratings                     genres  box_office  \\\n",
       "0     NaN          unknown     7.20     боевик,драма,мелодрама         NaN   \n",
       "1     NaN          unknown     6.60              драма,военный         NaN   \n",
       "2     NaN          unknown     6.80  фантастика,боевик,триллер         NaN   \n",
       "5     NaN          unknown     7.70                      драма         NaN   \n",
       "6     NaN          unknown     8.30          мелодрама,комедия     2700.00   \n",
       "\n",
       "   movie_start_year     director_first genre_first  \n",
       "0              2015      Кевин Костнер      боевик  \n",
       "1              2016          Е.Матвеев       драма  \n",
       "2              2016  Тимур Бекмамбетов  фантастика  \n",
       "5              2016       В.Абдрашитов       драма  \n",
       "6              2013          В.Меньшов   мелодрама  "
      ]
     },
     "execution_count": 42,
     "metadata": {},
     "output_type": "execute_result"
    }
   ],
   "source": [
    "df.head()"
   ]
  },
  {
   "cell_type": "markdown",
   "metadata": {
    "id": "1FsCXHwdgFyU"
   },
   "source": [
    "- Посчитайте, какую долю от общего бюджета фильма составляет государственная поддержка."
   ]
  },
  {
   "cell_type": "code",
   "execution_count": 43,
   "metadata": {
    "colab": {
     "base_uri": "https://localhost:8080/",
     "height": 300
    },
    "id": "LV6qFuZLgFyV",
    "outputId": "25446423-374a-4848-f05d-739ed63f3e2f"
   },
   "outputs": [
    {
     "data": {
      "text/html": [
       "<div>\n",
       "<style scoped>\n",
       "    .dataframe tbody tr th:only-of-type {\n",
       "        vertical-align: middle;\n",
       "    }\n",
       "\n",
       "    .dataframe tbody tr th {\n",
       "        vertical-align: top;\n",
       "    }\n",
       "\n",
       "    .dataframe thead th {\n",
       "        text-align: right;\n",
       "    }\n",
       "</style>\n",
       "<table border=\"1\" class=\"dataframe\">\n",
       "  <thead>\n",
       "    <tr style=\"text-align: right;\">\n",
       "      <th></th>\n",
       "      <th>refundable_support</th>\n",
       "      <th>nonrefundable_support</th>\n",
       "      <th>budget</th>\n",
       "      <th>ratings</th>\n",
       "      <th>box_office</th>\n",
       "      <th>movie_start_year</th>\n",
       "      <th>support_part_budget</th>\n",
       "    </tr>\n",
       "  </thead>\n",
       "  <tbody>\n",
       "    <tr>\n",
       "      <th>count</th>\n",
       "      <td>332.00</td>\n",
       "      <td>332.00</td>\n",
       "      <td>332.00</td>\n",
       "      <td>6011.00</td>\n",
       "      <td>3158.00</td>\n",
       "      <td>7002.00</td>\n",
       "      <td>332.00</td>\n",
       "    </tr>\n",
       "    <tr>\n",
       "      <th>mean</th>\n",
       "      <td>11864457.83</td>\n",
       "      <td>48980988.89</td>\n",
       "      <td>131422395.80</td>\n",
       "      <td>6.46</td>\n",
       "      <td>76478696.16</td>\n",
       "      <td>2014.81</td>\n",
       "      <td>0.54</td>\n",
       "    </tr>\n",
       "    <tr>\n",
       "      <th>std</th>\n",
       "      <td>24916555.26</td>\n",
       "      <td>59980117.92</td>\n",
       "      <td>187148242.67</td>\n",
       "      <td>1.11</td>\n",
       "      <td>240353122.82</td>\n",
       "      <td>2.96</td>\n",
       "      <td>0.20</td>\n",
       "    </tr>\n",
       "    <tr>\n",
       "      <th>min</th>\n",
       "      <td>0.00</td>\n",
       "      <td>0.00</td>\n",
       "      <td>6000000.00</td>\n",
       "      <td>1.00</td>\n",
       "      <td>0.00</td>\n",
       "      <td>2010.00</td>\n",
       "      <td>0.04</td>\n",
       "    </tr>\n",
       "    <tr>\n",
       "      <th>25%</th>\n",
       "      <td>0.00</td>\n",
       "      <td>25000000.00</td>\n",
       "      <td>45524799.50</td>\n",
       "      <td>5.80</td>\n",
       "      <td>86239.00</td>\n",
       "      <td>2012.00</td>\n",
       "      <td>0.38</td>\n",
       "    </tr>\n",
       "    <tr>\n",
       "      <th>50%</th>\n",
       "      <td>0.00</td>\n",
       "      <td>30000000.00</td>\n",
       "      <td>71196901.50</td>\n",
       "      <td>6.60</td>\n",
       "      <td>2327987.55</td>\n",
       "      <td>2015.00</td>\n",
       "      <td>0.61</td>\n",
       "    </tr>\n",
       "    <tr>\n",
       "      <th>75%</th>\n",
       "      <td>15000000.00</td>\n",
       "      <td>40375000.00</td>\n",
       "      <td>150000000.00</td>\n",
       "      <td>7.20</td>\n",
       "      <td>23979671.02</td>\n",
       "      <td>2018.00</td>\n",
       "      <td>0.66</td>\n",
       "    </tr>\n",
       "    <tr>\n",
       "      <th>max</th>\n",
       "      <td>180000000.00</td>\n",
       "      <td>400000000.00</td>\n",
       "      <td>2305074303.00</td>\n",
       "      <td>9.20</td>\n",
       "      <td>3073568690.79</td>\n",
       "      <td>2019.00</td>\n",
       "      <td>1.00</td>\n",
       "    </tr>\n",
       "  </tbody>\n",
       "</table>\n",
       "</div>"
      ],
      "text/plain": [
       "       refundable_support  nonrefundable_support        budget  ratings  \\\n",
       "count              332.00                 332.00        332.00  6011.00   \n",
       "mean          11864457.83            48980988.89  131422395.80     6.46   \n",
       "std           24916555.26            59980117.92  187148242.67     1.11   \n",
       "min                  0.00                   0.00    6000000.00     1.00   \n",
       "25%                  0.00            25000000.00   45524799.50     5.80   \n",
       "50%                  0.00            30000000.00   71196901.50     6.60   \n",
       "75%           15000000.00            40375000.00  150000000.00     7.20   \n",
       "max          180000000.00           400000000.00 2305074303.00     9.20   \n",
       "\n",
       "         box_office  movie_start_year  support_part_budget  \n",
       "count       3158.00           7002.00               332.00  \n",
       "mean    76478696.16           2014.81                 0.54  \n",
       "std    240353122.82              2.96                 0.20  \n",
       "min            0.00           2010.00                 0.04  \n",
       "25%        86239.00           2012.00                 0.38  \n",
       "50%      2327987.55           2015.00                 0.61  \n",
       "75%     23979671.02           2018.00                 0.66  \n",
       "max   3073568690.79           2019.00                 1.00  "
      ]
     },
     "execution_count": 43,
     "metadata": {},
     "output_type": "execute_result"
    }
   ],
   "source": [
    "df['support_part_budget'] = (df['refundable_support'] + df['nonrefundable_support']) / df['budget']\n",
    "df.describe()"
   ]
  },
  {
   "cell_type": "markdown",
   "metadata": {
    "id": "6UMWlI71JiIE"
   },
   "source": [
    "### Промежуточный итог:\n",
    "\n",
    "\n",
    "> На этом шаге мы:\n",
    "1.   Проверили типы данных;\n",
    "2.   Исправили значения в столбце \"Рейтинг\";\n",
    "3.   Заполнили пропуски там, где это возможно, в столбцах \"Источник финансировния\" и \"Жанр\"; \n",
    "4.   Удалили выявленные дубликаты, описали причины их появления;\n",
    "5.   Изучили категориальные и количественные данные, убрали пробелы в столбце \"Тип фильма\", исправили сумму бюджета фильма, где это было необходимо;\n",
    "6.   Выделили год из даты премьеры и добавили в новый столбец;\n",
    "7.   Выделили первого в списке режиссера и жанр, также значения добавили в новые столбцы;\n",
    "8.   Посчитали долю государственной поддержки по отношению к бюджету.\n",
    "\n",
    "\n",
    "\n",
    "\n"
   ]
  },
  {
   "cell_type": "markdown",
   "metadata": {
    "id": "6t4EukPLgFyV"
   },
   "source": [
    "### Шаг 3. Проведите исследовательский анализ данных\n"
   ]
  },
  {
   "cell_type": "markdown",
   "metadata": {
    "id": "vAH8WCzugFyV"
   },
   "source": [
    "- Посмотрите, сколько фильмов выходило в прокат каждый год. Обратите внимание, что данные о прокате в кинотеатрах известны не для всех фильмов. Посчитайте, какую долю составляют фильмы с указанной информацией о прокате в кинотеатрах."
   ]
  },
  {
   "cell_type": "markdown",
   "metadata": {
    "id": "COXl0DQ22-kR"
   },
   "source": [
    "Из описания мы знаем, что те картины, где указаны сборы в рублях, были показаны в кинотеатре."
   ]
  },
  {
   "cell_type": "code",
   "execution_count": 44,
   "metadata": {
    "colab": {
     "base_uri": "https://localhost:8080/"
    },
    "id": "ABeV47y7gFyW",
    "outputId": "58aa8cd7-ebcf-41a0-a990-27ff137dd909"
   },
   "outputs": [
    {
     "data": {
      "text/plain": [
       "3158"
      ]
     },
     "execution_count": 44,
     "metadata": {},
     "output_type": "execute_result"
    }
   ],
   "source": [
    "df.groupby('movie_start_year')['box_office'].count().sum()"
   ]
  },
  {
   "cell_type": "code",
   "execution_count": 45,
   "metadata": {
    "colab": {
     "base_uri": "https://localhost:8080/",
     "height": 363
    },
    "id": "mOpxJXf63NdH",
    "outputId": "8c4a657c-36bf-401b-b0bc-370293c53205",
    "scrolled": false
   },
   "outputs": [
    {
     "data": {
      "image/png": "[encoded data removed]",
      "text/plain": [
       "<Figure size 432x288 with 1 Axes>"
      ]
     },
     "metadata": {
      "needs_background": "light"
     },
     "output_type": "display_data"
    },
    {
     "name": "stdout",
     "output_type": "stream",
     "text": [
      "   movie_start_year  box_office\n",
      "0              2010         105\n",
      "1              2011         109\n",
      "2              2012         128\n",
      "3              2013         184\n",
      "4              2014         279\n",
      "5              2015         465\n",
      "6              2016         526\n",
      "7              2017         357\n",
      "8              2018         475\n",
      "9              2019         530\n"
     ]
    }
   ],
   "source": [
    "cinema_year = df.pivot_table(index='movie_start_year', values='box_office', aggfunc='count').reset_index()\n",
    "counts = cinema_year['box_office']\n",
    "plt.hist(cinema_year['movie_start_year'], weights=counts, edgecolor='black')\n",
    "\n",
    "plt.title('Количество фильмов по годам')\n",
    "plt.xlabel('Годы выпуска фильмов')\n",
    "plt.ylabel('Количество фильмов')\n",
    "\n",
    "plt.show()\n",
    "print(cinema_year)"
   ]
  },
  {
   "cell_type": "markdown",
   "metadata": {
    "id": "HD4OjjJw91U5"
   },
   "source": [
    "Посчитаем  какую долю составляют фильмы с указанной информацией о прокате в кинотеатрах через лямбда функцию."
   ]
  },
  {
   "cell_type": "code",
   "execution_count": 46,
   "metadata": {
    "colab": {
     "base_uri": "https://localhost:8080/",
     "height": 363
    },
    "id": "rjU17KnZ4MsV",
    "outputId": "c3bb1546-0f4d-45f6-b068-eb805bd38eed"
   },
   "outputs": [
    {
     "data": {
      "text/html": [
       "<div>\n",
       "<style scoped>\n",
       "    .dataframe tbody tr th:only-of-type {\n",
       "        vertical-align: middle;\n",
       "    }\n",
       "\n",
       "    .dataframe tbody tr th {\n",
       "        vertical-align: top;\n",
       "    }\n",
       "\n",
       "    .dataframe thead th {\n",
       "        text-align: right;\n",
       "    }\n",
       "</style>\n",
       "<table border=\"1\" class=\"dataframe\">\n",
       "  <thead>\n",
       "    <tr style=\"text-align: right;\">\n",
       "      <th></th>\n",
       "      <th>movie_start_year</th>\n",
       "      <th>0</th>\n",
       "    </tr>\n",
       "  </thead>\n",
       "  <tbody>\n",
       "    <tr>\n",
       "      <th>0</th>\n",
       "      <td>2010</td>\n",
       "      <td>13.16</td>\n",
       "    </tr>\n",
       "    <tr>\n",
       "      <th>1</th>\n",
       "      <td>2011</td>\n",
       "      <td>22.02</td>\n",
       "    </tr>\n",
       "    <tr>\n",
       "      <th>2</th>\n",
       "      <td>2012</td>\n",
       "      <td>23.93</td>\n",
       "    </tr>\n",
       "    <tr>\n",
       "      <th>3</th>\n",
       "      <td>2013</td>\n",
       "      <td>30.67</td>\n",
       "    </tr>\n",
       "    <tr>\n",
       "      <th>4</th>\n",
       "      <td>2014</td>\n",
       "      <td>36.90</td>\n",
       "    </tr>\n",
       "    <tr>\n",
       "      <th>5</th>\n",
       "      <td>2015</td>\n",
       "      <td>66.71</td>\n",
       "    </tr>\n",
       "    <tr>\n",
       "      <th>6</th>\n",
       "      <td>2016</td>\n",
       "      <td>65.59</td>\n",
       "    </tr>\n",
       "    <tr>\n",
       "      <th>7</th>\n",
       "      <td>2017</td>\n",
       "      <td>71.12</td>\n",
       "    </tr>\n",
       "    <tr>\n",
       "      <th>8</th>\n",
       "      <td>2018</td>\n",
       "      <td>53.55</td>\n",
       "    </tr>\n",
       "    <tr>\n",
       "      <th>9</th>\n",
       "      <td>2019</td>\n",
       "      <td>56.99</td>\n",
       "    </tr>\n",
       "  </tbody>\n",
       "</table>\n",
       "</div>"
      ],
      "text/plain": [
       "   movie_start_year     0\n",
       "0              2010 13.16\n",
       "1              2011 22.02\n",
       "2              2012 23.93\n",
       "3              2013 30.67\n",
       "4              2014 36.90\n",
       "5              2015 66.71\n",
       "6              2016 65.59\n",
       "7              2017 71.12\n",
       "8              2018 53.55\n",
       "9              2019 56.99"
      ]
     },
     "execution_count": 46,
     "metadata": {},
     "output_type": "execute_result"
    }
   ],
   "source": [
    "cinema_year_part = (df[['movie_start_year','box_office']].groupby(\n",
    "    'movie_start_year'\n",
    "    ).apply(lambda x : x['box_office'].apply(pd.notna).mean()) * 100).to_frame(\n",
    "    ).reset_index()\n",
    "cinema_year_part"
   ]
  },
  {
   "cell_type": "markdown",
   "metadata": {
    "id": "2VMKormKA3Cr"
   },
   "source": [
    "Соединим чтобы посмотреть общую картину."
   ]
  },
  {
   "cell_type": "code",
   "execution_count": 47,
   "metadata": {
    "colab": {
     "base_uri": "https://localhost:8080/",
     "height": 363
    },
    "id": "OZty9f_cA-qY",
    "outputId": "36f5f5d9-1e93-415f-bdc1-d9a734a6fb05"
   },
   "outputs": [
    {
     "data": {
      "text/html": [
       "<div>\n",
       "<style scoped>\n",
       "    .dataframe tbody tr th:only-of-type {\n",
       "        vertical-align: middle;\n",
       "    }\n",
       "\n",
       "    .dataframe tbody tr th {\n",
       "        vertical-align: top;\n",
       "    }\n",
       "\n",
       "    .dataframe thead th {\n",
       "        text-align: right;\n",
       "    }\n",
       "</style>\n",
       "<table border=\"1\" class=\"dataframe\">\n",
       "  <thead>\n",
       "    <tr style=\"text-align: right;\">\n",
       "      <th></th>\n",
       "      <th>movie_start_year</th>\n",
       "      <th>films_in_cinema_count</th>\n",
       "      <th>cinema_part</th>\n",
       "    </tr>\n",
       "  </thead>\n",
       "  <tbody>\n",
       "    <tr>\n",
       "      <th>0</th>\n",
       "      <td>2010</td>\n",
       "      <td>105</td>\n",
       "      <td>13.16</td>\n",
       "    </tr>\n",
       "    <tr>\n",
       "      <th>1</th>\n",
       "      <td>2011</td>\n",
       "      <td>109</td>\n",
       "      <td>22.02</td>\n",
       "    </tr>\n",
       "    <tr>\n",
       "      <th>2</th>\n",
       "      <td>2012</td>\n",
       "      <td>128</td>\n",
       "      <td>23.93</td>\n",
       "    </tr>\n",
       "    <tr>\n",
       "      <th>3</th>\n",
       "      <td>2013</td>\n",
       "      <td>184</td>\n",
       "      <td>30.67</td>\n",
       "    </tr>\n",
       "    <tr>\n",
       "      <th>4</th>\n",
       "      <td>2014</td>\n",
       "      <td>279</td>\n",
       "      <td>36.90</td>\n",
       "    </tr>\n",
       "    <tr>\n",
       "      <th>5</th>\n",
       "      <td>2015</td>\n",
       "      <td>465</td>\n",
       "      <td>66.71</td>\n",
       "    </tr>\n",
       "    <tr>\n",
       "      <th>6</th>\n",
       "      <td>2016</td>\n",
       "      <td>526</td>\n",
       "      <td>65.59</td>\n",
       "    </tr>\n",
       "    <tr>\n",
       "      <th>7</th>\n",
       "      <td>2017</td>\n",
       "      <td>357</td>\n",
       "      <td>71.12</td>\n",
       "    </tr>\n",
       "    <tr>\n",
       "      <th>8</th>\n",
       "      <td>2018</td>\n",
       "      <td>475</td>\n",
       "      <td>53.55</td>\n",
       "    </tr>\n",
       "    <tr>\n",
       "      <th>9</th>\n",
       "      <td>2019</td>\n",
       "      <td>530</td>\n",
       "      <td>56.99</td>\n",
       "    </tr>\n",
       "  </tbody>\n",
       "</table>\n",
       "</div>"
      ],
      "text/plain": [
       "   movie_start_year  films_in_cinema_count  cinema_part\n",
       "0              2010                    105        13.16\n",
       "1              2011                    109        22.02\n",
       "2              2012                    128        23.93\n",
       "3              2013                    184        30.67\n",
       "4              2014                    279        36.90\n",
       "5              2015                    465        66.71\n",
       "6              2016                    526        65.59\n",
       "7              2017                    357        71.12\n",
       "8              2018                    475        53.55\n",
       "9              2019                    530        56.99"
      ]
     },
     "execution_count": 47,
     "metadata": {},
     "output_type": "execute_result"
    }
   ],
   "source": [
    "final_cinema_year_part = cinema_year.merge(cinema_year_part,how='left', on='movie_start_year')\n",
    "final_cinema_year_part.rename(columns={'box_office' : 'films_in_cinema_count', 0 : 'cinema_part'}, inplace=True)\n",
    "final_cinema_year_part"
   ]
  },
  {
   "cell_type": "markdown",
   "metadata": {
    "id": "-B_dlsOjA0Q1"
   },
   "source": [
    "Информация неоднородна. В данной выборке наименьшее количество фильмов, показанных в кинотеатре, приходится на период с 2010 по 2014 годы. Доля этих фильмов варьируется от 10 до 34 процентов. Следовательно, нельзя утверждать, что в указанный период было проведено меньше всего кинопоказов. Наибольшее количество кинопоказов в кинотеатрах приходится на 2019 год, однако доля этих фильмов в данной выборке не является наибольшей по сравнению с другими годами."
   ]
  },
  {
   "cell_type": "markdown",
   "metadata": {
    "id": "BEOdcIrIgFyW"
   },
   "source": [
    "- Изучите, как менялась динамика проката по годам. В каком году сумма сборов была минимальной? А максимальной?"
   ]
  },
  {
   "cell_type": "code",
   "execution_count": 48,
   "metadata": {
    "id": "tfEhofYvgFyX"
   },
   "outputs": [],
   "source": [
    "dynm_film_distrib = df.groupby('movie_start_year')['box_office'].agg('sum') / 1000000"
   ]
  },
  {
   "cell_type": "code",
   "execution_count": 49,
   "metadata": {
    "colab": {
     "base_uri": "https://localhost:8080/"
    },
    "id": "RuSp66GIC1-9",
    "outputId": "0c07fe35-650a-4769-cae7-06deba9b0948"
   },
   "outputs": [
    {
     "data": {
      "text/plain": [
       "movie_start_year\n",
       "2010       2.43\n",
       "2011      14.10\n",
       "2012       6.96\n",
       "2013      29.80\n",
       "2014    7444.95\n",
       "2015   39497.37\n",
       "2016   47866.30\n",
       "2017   48563.71\n",
       "2018   49668.40\n",
       "2019   48425.71\n",
       "Name: box_office, dtype: float64"
      ]
     },
     "execution_count": 49,
     "metadata": {},
     "output_type": "execute_result"
    }
   ],
   "source": [
    "dynm_film_distrib"
   ]
  },
  {
   "cell_type": "code",
   "execution_count": 50,
   "metadata": {
    "colab": {
     "base_uri": "https://localhost:8080/",
     "height": 472
    },
    "id": "UvgNqKgjCUrB",
    "outputId": "4b451a68-3633-4fd2-b889-a2bf262815ca"
   },
   "outputs": [
    {
     "data": {
      "image/png": "[encoded data removed]",
      "text/plain": [
       "<Figure size 432x288 with 1 Axes>"
      ]
     },
     "metadata": {
      "needs_background": "light"
     },
     "output_type": "display_data"
    }
   ],
   "source": [
    "sns.lineplot(data=dynm_film_distrib)\n",
    "plt.title('Сумма кассовых сборов фильмов по годам');\n",
    "plt.xlabel('Год');\n",
    "plt.ylabel('Млн.руб.');\n",
    "plt.show()"
   ]
  },
  {
   "cell_type": "markdown",
   "metadata": {
    "id": "dW1glGJpD7B3"
   },
   "source": [
    "Если необходимо учитывать сумму сборов по годам, то максимум приходится на 2018 год. Года с 2010 по 2014 в расчет не берем, так как по ним меньше всего данных, поэтому минимум приходится на 2015 год"
   ]
  },
  {
   "cell_type": "markdown",
   "metadata": {
    "id": "G-7qS-N-gFyY"
   },
   "source": [
    "- С помощью сводной таблицы посчитайте среднюю и медианную сумму сборов для каждого года."
   ]
  },
  {
   "cell_type": "code",
   "execution_count": 51,
   "metadata": {
    "id": "jmp-rgg9gFyY"
   },
   "outputs": [],
   "source": [
    "mean_median_box_office = df.groupby('movie_start_year')['box_office'].agg(['mean', 'median'])"
   ]
  },
  {
   "cell_type": "code",
   "execution_count": 52,
   "metadata": {
    "colab": {
     "base_uri": "https://localhost:8080/",
     "height": 472
    },
    "id": "JwpXyhDHFLiU",
    "outputId": "32f20a95-4546-453d-d8cb-6a6c43d86b51"
   },
   "outputs": [
    {
     "data": {
      "image/png": "[encoded data removed]",
      "text/plain": [
       "<Figure size 432x288 with 1 Axes>"
      ]
     },
     "metadata": {
      "needs_background": "light"
     },
     "output_type": "display_data"
    }
   ],
   "source": [
    "sns.lineplot(data=mean_median_box_office)\n",
    "plt.title('Сумма кассовых сборов фильмов по годам');\n",
    "plt.xlabel('Год');\n",
    "plt.ylabel('Сумма');\n",
    "plt.show()"
   ]
  },
  {
   "cell_type": "markdown",
   "metadata": {
    "id": "9H6GWQJKFkQ8"
   },
   "source": [
    "Заметно, что в случае сборов имеется значительный разброс данных, который проявляется в различии между медианой и средним значением. Это указывает на наличие в данных значений, которые сильно отличаются от остальных. Однако для киноиндустрии это не является необычным явлением. В среднем, наиболее прибыльный год с точки зрения кассовых сборов приходится на 2017 год, что подтверждается как медианным значением, так и средним."
   ]
  },
  {
   "cell_type": "markdown",
   "metadata": {
    "id": "Ok89WFwJgFyZ"
   },
   "source": [
    "- Определите, влияет ли возрастное ограничение аудитории («6+», «12+», «16+», «18+» и т. д.) на сборы фильма в прокате в период с 2015 по 2019 год? Фильмы с каким возрастным ограничением собрали больше всего денег в прокате? Меняется ли картина в зависимости от года? Если да, предположите, с чем это может быть связано."
   ]
  },
  {
   "cell_type": "code",
   "execution_count": 53,
   "metadata": {
    "colab": {
     "base_uri": "https://localhost:8080/"
    },
    "id": "jsSbEqfjgFya",
    "outputId": "b86e638f-6b57-4774-d068-9e1a8ac83eed"
   },
   "outputs": [
    {
     "data": {
      "text/plain": [
       "age_restriction\n",
       "«16+» - для детей старше 16 лет          76034733643.63\n",
       "«12+» - для детей старше 12 лет          60619446628.33\n",
       "«6+» - для детей старше 6 лет            55798610799.68\n",
       "«18+» - запрещено для детей              40759615572.12\n",
       "«0+» - для любой зрительской аудитории     809077425.97\n",
       "Name: box_office, dtype: float64"
      ]
     },
     "execution_count": 53,
     "metadata": {},
     "output_type": "execute_result"
    }
   ],
   "source": [
    "df.query('2015 <= movie_start_year <= 2019').groupby('age_restriction')['box_office'].sum().sort_values(ascending=False)"
   ]
  },
  {
   "cell_type": "markdown",
   "metadata": {
    "id": "1-Q2ZlV9G8ov"
   },
   "source": [
    "С 2015 по 2019 года больше всего денег в прокате собрали фильмы с возрастным ограничением \"16+\""
   ]
  },
  {
   "cell_type": "code",
   "execution_count": 54,
   "metadata": {
    "id": "ob-T-ADpHkBr"
   },
   "outputs": [],
   "source": [
    "year_age_movie_box = df.query('2015 <= movie_start_year <= 2019').groupby(['movie_start_year', 'age_restriction'])['box_office'].agg('sum').reset_index()"
   ]
  },
  {
   "cell_type": "code",
   "execution_count": 55,
   "metadata": {
    "colab": {
     "base_uri": "https://localhost:8080/",
     "height": 514
    },
    "id": "iEGoAOdHIX0D",
    "outputId": "b4d80011-99d0-4857-d3fb-5e563adc7c3e"
   },
   "outputs": [
    {
     "data": {
      "image/png": "[encoded data removed]",
      "text/plain": [
       "<Figure size 617.875x360 with 1 Axes>"
      ]
     },
     "metadata": {
      "needs_background": "light"
     },
     "output_type": "display_data"
    }
   ],
   "source": [
    "sns.catplot(x='movie_start_year', y='box_office', hue='age_restriction', data=year_age_movie_box, kind='bar');\n",
    "plt.title('Сумма сборов фильмов');\n",
    "plt.xlabel('Год');\n",
    "plt.ylabel('Сумма сборов по годам в рублях');"
   ]
  },
  {
   "cell_type": "markdown",
   "metadata": {
    "id": "1HceAYWCMV5w"
   },
   "source": [
    "Исходя из графика мы видим что картина не меняется в зависимости от года, категория \"16+\" всегда в лидерах, за исключением 2019 года.Умеренный рост сборов у фильмов \"18+\" за исключением 2018 года. Сборы с каждым годом падают в категории \"0+\", вероятно связано с увеличением детского контента на видеохостингах."
   ]
  },
  {
   "cell_type": "markdown",
   "metadata": {
    "id": "zRTHMnYTlATq"
   },
   "source": [
    "#### Промежуточный итог:\n",
    "> Исследовали данные и определили:\n",
    "1.   За 10 лет в прокат выходило от 105 до 530 кинолент в год, в представленном Датафрейме не у всех фильмо есть данные о сборах в прокате, для каждого года разная доля фильмов с имеющимимся данным о сборах в кинопрокате и эта доля не пропорциональна годам выпуска;\n",
    "2.   Самые кассовые фильмы вышли в 2018 году, стоит учесть что среднее и медианое значения сильно разнятся;\n",
    "3.   Определили, что самые кассовые кинокартины с возрастной категорией \"16+\".\n",
    "\n"
   ]
  },
  {
   "cell_type": "markdown",
   "metadata": {
    "id": "l_Kg6Ku4gFya"
   },
   "source": [
    "### Шаг 4. Исследуйте фильмы, которые получили государственную поддержку\n",
    "\n",
    "На этом этапе нет конкретных инструкций и заданий — поищите интересные закономерности в данных. Посмотрите, сколько выделяют средств на поддержку кино. Проверьте, хорошо ли окупаются такие фильмы, какой у них рейтинг."
   ]
  },
  {
   "cell_type": "markdown",
   "metadata": {
    "id": "A1n1oifMPjzo"
   },
   "source": [
    "Для начала выделим эти фильмы."
   ]
  },
  {
   "cell_type": "code",
   "execution_count": 56,
   "metadata": {
    "colab": {
     "base_uri": "https://localhost:8080/",
     "height": 938
    },
    "id": "W9QKpjUdgFyb",
    "outputId": "627d1e5b-fef9-4e97-8074-37be62355016"
   },
   "outputs": [
    {
     "data": {
      "text/html": [
       "<div>\n",
       "<style scoped>\n",
       "    .dataframe tbody tr th:only-of-type {\n",
       "        vertical-align: middle;\n",
       "    }\n",
       "\n",
       "    .dataframe tbody tr th {\n",
       "        vertical-align: top;\n",
       "    }\n",
       "\n",
       "    .dataframe thead th {\n",
       "        text-align: right;\n",
       "    }\n",
       "</style>\n",
       "<table border=\"1\" class=\"dataframe\">\n",
       "  <thead>\n",
       "    <tr style=\"text-align: right;\">\n",
       "      <th></th>\n",
       "      <th>title</th>\n",
       "      <th>puNumber</th>\n",
       "      <th>show_start_date</th>\n",
       "      <th>type</th>\n",
       "      <th>film_studio</th>\n",
       "      <th>production_country</th>\n",
       "      <th>director</th>\n",
       "      <th>producer</th>\n",
       "      <th>age_restriction</th>\n",
       "      <th>refundable_support</th>\n",
       "      <th>nonrefundable_support</th>\n",
       "      <th>budget</th>\n",
       "      <th>financing_source</th>\n",
       "      <th>ratings</th>\n",
       "      <th>genres</th>\n",
       "      <th>box_office</th>\n",
       "      <th>movie_start_year</th>\n",
       "      <th>director_first</th>\n",
       "      <th>genre_first</th>\n",
       "      <th>support_part_budget</th>\n",
       "    </tr>\n",
       "  </thead>\n",
       "  <tbody>\n",
       "    <tr>\n",
       "      <th>1281</th>\n",
       "      <td>Пока еще жива</td>\n",
       "      <td>111005313</td>\n",
       "      <td>2013-10-11 12:00:00+00:00</td>\n",
       "      <td>Художественный</td>\n",
       "      <td>АНО содействия развитию кинематографии \"Ангел-...</td>\n",
       "      <td>Россия</td>\n",
       "      <td>А.Атанесян</td>\n",
       "      <td>А.Атанесян, М.Бабаханов, Р.Бутко</td>\n",
       "      <td>«16+» - для детей старше 16 лет</td>\n",
       "      <td>0.00</td>\n",
       "      <td>26500000.00</td>\n",
       "      <td>79411900.00</td>\n",
       "      <td>Министерство культуры</td>\n",
       "      <td>8.10</td>\n",
       "      <td>драма,мелодрама</td>\n",
       "      <td>365353.60</td>\n",
       "      <td>2013</td>\n",
       "      <td>А.Атанесян</td>\n",
       "      <td>драма</td>\n",
       "      <td>0.33</td>\n",
       "    </tr>\n",
       "    <tr>\n",
       "      <th>1448</th>\n",
       "      <td>Бесславные придурки</td>\n",
       "      <td>111003314</td>\n",
       "      <td>2014-03-28 12:00:00+00:00</td>\n",
       "      <td>Художественный</td>\n",
       "      <td>ООО \"Компания \"АТК-Студио\"</td>\n",
       "      <td>Россия</td>\n",
       "      <td>А.Якимчук</td>\n",
       "      <td>А.Тютрюмов</td>\n",
       "      <td>«12+» - для детей старше 12 лет</td>\n",
       "      <td>0.00</td>\n",
       "      <td>26000000.00</td>\n",
       "      <td>37142857.00</td>\n",
       "      <td>Министерство культуры</td>\n",
       "      <td>NaN</td>\n",
       "      <td>ungenre</td>\n",
       "      <td>28140.00</td>\n",
       "      <td>2014</td>\n",
       "      <td>А.Якимчук</td>\n",
       "      <td>ungenre</td>\n",
       "      <td>0.70</td>\n",
       "    </tr>\n",
       "    <tr>\n",
       "      <th>1498</th>\n",
       "      <td>Невидимки</td>\n",
       "      <td>111004213</td>\n",
       "      <td>2013-09-10 12:00:00+00:00</td>\n",
       "      <td>Художественный</td>\n",
       "      <td>ООО \"Компания \"РЕАЛ-ДАКОТА\"</td>\n",
       "      <td>Россия</td>\n",
       "      <td>Р.Давлетьяров, С.Комаров</td>\n",
       "      <td>Р.Давлетьяров, А.Котелевский, А.Олейников</td>\n",
       "      <td>«12+» - для детей старше 12 лет</td>\n",
       "      <td>0.00</td>\n",
       "      <td>107847945.00</td>\n",
       "      <td>176023490.00</td>\n",
       "      <td>Фонд кино</td>\n",
       "      <td>5.30</td>\n",
       "      <td>комедия,фантастика</td>\n",
       "      <td>19957031.50</td>\n",
       "      <td>2013</td>\n",
       "      <td>Р.Давлетьяров</td>\n",
       "      <td>комедия</td>\n",
       "      <td>0.61</td>\n",
       "    </tr>\n",
       "    <tr>\n",
       "      <th>1524</th>\n",
       "      <td>БЕРЦЫ</td>\n",
       "      <td>111004314</td>\n",
       "      <td>2014-05-05 12:00:00+00:00</td>\n",
       "      <td>Художественный</td>\n",
       "      <td>ООО \"Студия \"Пассажир\"</td>\n",
       "      <td>Россия</td>\n",
       "      <td>Е.Миндадзе (псевдоним Катя Шагалова)</td>\n",
       "      <td>Л.Антонова</td>\n",
       "      <td>«16+» - для детей старше 16 лет</td>\n",
       "      <td>0.00</td>\n",
       "      <td>28000000.00</td>\n",
       "      <td>40574140.00</td>\n",
       "      <td>Министерство культуры</td>\n",
       "      <td>4.20</td>\n",
       "      <td>драма</td>\n",
       "      <td>55917.50</td>\n",
       "      <td>2014</td>\n",
       "      <td>Е.Миндадзе (псевдоним Катя Шагалова)</td>\n",
       "      <td>драма</td>\n",
       "      <td>0.69</td>\n",
       "    </tr>\n",
       "    <tr>\n",
       "      <th>1792</th>\n",
       "      <td>Братья Ч</td>\n",
       "      <td>111004414</td>\n",
       "      <td>2014-04-23 12:00:00+00:00</td>\n",
       "      <td>Художественный</td>\n",
       "      <td>ООО \"Студия \"Пассажир\"</td>\n",
       "      <td>Россия</td>\n",
       "      <td>М.Угаров</td>\n",
       "      <td>А.Миндадзе, Л.Антонова</td>\n",
       "      <td>«16+» - для детей старше 16 лет</td>\n",
       "      <td>0.00</td>\n",
       "      <td>25000000.00</td>\n",
       "      <td>40015122.00</td>\n",
       "      <td>Министерство культуры</td>\n",
       "      <td>6.40</td>\n",
       "      <td>драма</td>\n",
       "      <td>232100.00</td>\n",
       "      <td>2014</td>\n",
       "      <td>М.Угаров</td>\n",
       "      <td>драма</td>\n",
       "      <td>0.62</td>\n",
       "    </tr>\n",
       "    <tr>\n",
       "      <th>...</th>\n",
       "      <td>...</td>\n",
       "      <td>...</td>\n",
       "      <td>...</td>\n",
       "      <td>...</td>\n",
       "      <td>...</td>\n",
       "      <td>...</td>\n",
       "      <td>...</td>\n",
       "      <td>...</td>\n",
       "      <td>...</td>\n",
       "      <td>...</td>\n",
       "      <td>...</td>\n",
       "      <td>...</td>\n",
       "      <td>...</td>\n",
       "      <td>...</td>\n",
       "      <td>...</td>\n",
       "      <td>...</td>\n",
       "      <td>...</td>\n",
       "      <td>...</td>\n",
       "      <td>...</td>\n",
       "      <td>...</td>\n",
       "    </tr>\n",
       "    <tr>\n",
       "      <th>7464</th>\n",
       "      <td>Союз спасения</td>\n",
       "      <td>111022019</td>\n",
       "      <td>2019-12-26 12:00:00+00:00</td>\n",
       "      <td>Художественный</td>\n",
       "      <td>ЗАО \"Дирекция кино\"</td>\n",
       "      <td>Россия</td>\n",
       "      <td>А.Кравчук</td>\n",
       "      <td>А.Максимов, К.Эрнст</td>\n",
       "      <td>«12+» - для детей старше 12 лет</td>\n",
       "      <td>100000000.00</td>\n",
       "      <td>400000000.00</td>\n",
       "      <td>980000000.00</td>\n",
       "      <td>Фонд кино</td>\n",
       "      <td>6.00</td>\n",
       "      <td>история,биография,драма</td>\n",
       "      <td>717703185.53</td>\n",
       "      <td>2019</td>\n",
       "      <td>А.Кравчук</td>\n",
       "      <td>история</td>\n",
       "      <td>0.51</td>\n",
       "    </tr>\n",
       "    <tr>\n",
       "      <th>7466</th>\n",
       "      <td>Иван Царевич и Серый Волк 4</td>\n",
       "      <td>114005019</td>\n",
       "      <td>2019-12-20 12:00:00+00:00</td>\n",
       "      <td>Анимационный</td>\n",
       "      <td>ООО \"Студия анимационного кино \"Мельница\"</td>\n",
       "      <td>Россия</td>\n",
       "      <td>Д.Шмидт, К.Феоктистов</td>\n",
       "      <td>С.Сельянов, А.Боярский</td>\n",
       "      <td>«6+» - для детей старше 6 лет</td>\n",
       "      <td>100000000.00</td>\n",
       "      <td>0.00</td>\n",
       "      <td>190000000.00</td>\n",
       "      <td>Фонд кино</td>\n",
       "      <td>6.70</td>\n",
       "      <td>мультфильм,приключения,семейный</td>\n",
       "      <td>501069235.00</td>\n",
       "      <td>2019</td>\n",
       "      <td>Д.Шмидт</td>\n",
       "      <td>мультфильм</td>\n",
       "      <td>0.53</td>\n",
       "    </tr>\n",
       "    <tr>\n",
       "      <th>7474</th>\n",
       "      <td>Вторжение</td>\n",
       "      <td>111022519</td>\n",
       "      <td>2019-12-23 12:00:00+00:00</td>\n",
       "      <td>Художественный</td>\n",
       "      <td>ООО \"Арт Пикчерс Студия\", ООО \"Водород 2011\"</td>\n",
       "      <td>Россия</td>\n",
       "      <td>Ф.Бондарчук</td>\n",
       "      <td>Ф.Бондарчук, М.Врубель, А.Андрющенко, Д.Рудовский</td>\n",
       "      <td>«12+» - для детей старше 12 лет</td>\n",
       "      <td>100000000.00</td>\n",
       "      <td>400000000.00</td>\n",
       "      <td>944000000.00</td>\n",
       "      <td>Фонд кино</td>\n",
       "      <td>5.70</td>\n",
       "      <td>фантастика,боевик</td>\n",
       "      <td>NaN</td>\n",
       "      <td>2019</td>\n",
       "      <td>Ф.Бондарчук</td>\n",
       "      <td>фантастика</td>\n",
       "      <td>0.53</td>\n",
       "    </tr>\n",
       "    <tr>\n",
       "      <th>7476</th>\n",
       "      <td>Я свободен</td>\n",
       "      <td>111023019</td>\n",
       "      <td>2019-12-26 12:00:00+00:00</td>\n",
       "      <td>Художественный</td>\n",
       "      <td>АО \"ТПО \"Киностудия им. М.Горького\"</td>\n",
       "      <td>Россия</td>\n",
       "      <td>И.Северов</td>\n",
       "      <td>С.Зернов</td>\n",
       "      <td>«12+» - для детей старше 12 лет</td>\n",
       "      <td>0.00</td>\n",
       "      <td>30000000.00</td>\n",
       "      <td>46154000.00</td>\n",
       "      <td>Министерство культуры</td>\n",
       "      <td>5.90</td>\n",
       "      <td>драма</td>\n",
       "      <td>NaN</td>\n",
       "      <td>2019</td>\n",
       "      <td>И.Северов</td>\n",
       "      <td>драма</td>\n",
       "      <td>0.65</td>\n",
       "    </tr>\n",
       "    <tr>\n",
       "      <th>7478</th>\n",
       "      <td>(Не)идеальный мужчина</td>\n",
       "      <td>111023119</td>\n",
       "      <td>2019-12-24 12:00:00+00:00</td>\n",
       "      <td>Художественный</td>\n",
       "      <td>ООО \"Нон-Стоп Продакшн\"</td>\n",
       "      <td>Россия</td>\n",
       "      <td>М.Бальчюнас (псевдоним М.Вайсберг)</td>\n",
       "      <td>С.Мелькумов, А.Роднянский, М.Вайсберг, Р.Минас...</td>\n",
       "      <td>«12+» - для детей старше 12 лет</td>\n",
       "      <td>40000000.00</td>\n",
       "      <td>60000000.00</td>\n",
       "      <td>150147502.00</td>\n",
       "      <td>Фонд кино</td>\n",
       "      <td>4.50</td>\n",
       "      <td>комедия,фантастика,мелодрама</td>\n",
       "      <td>NaN</td>\n",
       "      <td>2019</td>\n",
       "      <td>М.Бальчюнас (псевдоним М.Вайсберг)</td>\n",
       "      <td>комедия</td>\n",
       "      <td>0.67</td>\n",
       "    </tr>\n",
       "  </tbody>\n",
       "</table>\n",
       "<p>332 rows × 20 columns</p>\n",
       "</div>"
      ],
      "text/plain": [
       "                            title   puNumber           show_start_date  \\\n",
       "1281                Пока еще жива  111005313 2013-10-11 12:00:00+00:00   \n",
       "1448          Бесславные придурки  111003314 2014-03-28 12:00:00+00:00   \n",
       "1498                    Невидимки  111004213 2013-09-10 12:00:00+00:00   \n",
       "1524                        БЕРЦЫ  111004314 2014-05-05 12:00:00+00:00   \n",
       "1792                     Братья Ч  111004414 2014-04-23 12:00:00+00:00   \n",
       "...                           ...        ...                       ...   \n",
       "7464                Союз спасения  111022019 2019-12-26 12:00:00+00:00   \n",
       "7466  Иван Царевич и Серый Волк 4  114005019 2019-12-20 12:00:00+00:00   \n",
       "7474                    Вторжение  111022519 2019-12-23 12:00:00+00:00   \n",
       "7476                   Я свободен  111023019 2019-12-26 12:00:00+00:00   \n",
       "7478        (Не)идеальный мужчина  111023119 2019-12-24 12:00:00+00:00   \n",
       "\n",
       "                type                                        film_studio  \\\n",
       "1281  Художественный  АНО содействия развитию кинематографии \"Ангел-...   \n",
       "1448  Художественный                         ООО \"Компания \"АТК-Студио\"   \n",
       "1498  Художественный                        ООО \"Компания \"РЕАЛ-ДАКОТА\"   \n",
       "1524  Художественный                             ООО \"Студия \"Пассажир\"   \n",
       "1792  Художественный                             ООО \"Студия \"Пассажир\"   \n",
       "...              ...                                                ...   \n",
       "7464  Художественный                                ЗАО \"Дирекция кино\"   \n",
       "7466    Анимационный          ООО \"Студия анимационного кино \"Мельница\"   \n",
       "7474  Художественный       ООО \"Арт Пикчерс Студия\", ООО \"Водород 2011\"   \n",
       "7476  Художественный                АО \"ТПО \"Киностудия им. М.Горького\"   \n",
       "7478  Художественный                           ООО \"Нон-Стоп Продакшн\"    \n",
       "\n",
       "     production_country                              director  \\\n",
       "1281             Россия                            А.Атанесян   \n",
       "1448             Россия                             А.Якимчук   \n",
       "1498             Россия              Р.Давлетьяров, С.Комаров   \n",
       "1524             Россия  Е.Миндадзе (псевдоним Катя Шагалова)   \n",
       "1792             Россия                              М.Угаров   \n",
       "...                 ...                                   ...   \n",
       "7464             Россия                             А.Кравчук   \n",
       "7466             Россия                 Д.Шмидт, К.Феоктистов   \n",
       "7474             Россия                           Ф.Бондарчук   \n",
       "7476             Россия                             И.Северов   \n",
       "7478             Россия    М.Бальчюнас (псевдоним М.Вайсберг)   \n",
       "\n",
       "                                               producer  \\\n",
       "1281                   А.Атанесян, М.Бабаханов, Р.Бутко   \n",
       "1448                                         А.Тютрюмов   \n",
       "1498          Р.Давлетьяров, А.Котелевский, А.Олейников   \n",
       "1524                                         Л.Антонова   \n",
       "1792                             А.Миндадзе, Л.Антонова   \n",
       "...                                                 ...   \n",
       "7464                                А.Максимов, К.Эрнст   \n",
       "7466                             С.Сельянов, А.Боярский   \n",
       "7474  Ф.Бондарчук, М.Врубель, А.Андрющенко, Д.Рудовский   \n",
       "7476                                           С.Зернов   \n",
       "7478  С.Мелькумов, А.Роднянский, М.Вайсберг, Р.Минас...   \n",
       "\n",
       "                      age_restriction  refundable_support  \\\n",
       "1281  «16+» - для детей старше 16 лет                0.00   \n",
       "1448  «12+» - для детей старше 12 лет                0.00   \n",
       "1498  «12+» - для детей старше 12 лет                0.00   \n",
       "1524  «16+» - для детей старше 16 лет                0.00   \n",
       "1792  «16+» - для детей старше 16 лет                0.00   \n",
       "...                               ...                 ...   \n",
       "7464  «12+» - для детей старше 12 лет        100000000.00   \n",
       "7466    «6+» - для детей старше 6 лет        100000000.00   \n",
       "7474  «12+» - для детей старше 12 лет        100000000.00   \n",
       "7476  «12+» - для детей старше 12 лет                0.00   \n",
       "7478  «12+» - для детей старше 12 лет         40000000.00   \n",
       "\n",
       "      nonrefundable_support       budget       financing_source  ratings  \\\n",
       "1281            26500000.00  79411900.00  Министерство культуры     8.10   \n",
       "1448            26000000.00  37142857.00  Министерство культуры      NaN   \n",
       "1498           107847945.00 176023490.00              Фонд кино     5.30   \n",
       "1524            28000000.00  40574140.00  Министерство культуры     4.20   \n",
       "1792            25000000.00  40015122.00  Министерство культуры     6.40   \n",
       "...                     ...          ...                    ...      ...   \n",
       "7464           400000000.00 980000000.00              Фонд кино     6.00   \n",
       "7466                   0.00 190000000.00              Фонд кино     6.70   \n",
       "7474           400000000.00 944000000.00              Фонд кино     5.70   \n",
       "7476            30000000.00  46154000.00  Министерство культуры     5.90   \n",
       "7478            60000000.00 150147502.00              Фонд кино     4.50   \n",
       "\n",
       "                               genres   box_office  movie_start_year  \\\n",
       "1281                  драма,мелодрама    365353.60              2013   \n",
       "1448                          ungenre     28140.00              2014   \n",
       "1498               комедия,фантастика  19957031.50              2013   \n",
       "1524                            драма     55917.50              2014   \n",
       "1792                            драма    232100.00              2014   \n",
       "...                               ...          ...               ...   \n",
       "7464          история,биография,драма 717703185.53              2019   \n",
       "7466  мультфильм,приключения,семейный 501069235.00              2019   \n",
       "7474                фантастика,боевик          NaN              2019   \n",
       "7476                            драма          NaN              2019   \n",
       "7478     комедия,фантастика,мелодрама          NaN              2019   \n",
       "\n",
       "                            director_first genre_first  support_part_budget  \n",
       "1281                            А.Атанесян       драма                 0.33  \n",
       "1448                             А.Якимчук     ungenre                 0.70  \n",
       "1498                         Р.Давлетьяров     комедия                 0.61  \n",
       "1524  Е.Миндадзе (псевдоним Катя Шагалова)       драма                 0.69  \n",
       "1792                              М.Угаров       драма                 0.62  \n",
       "...                                    ...         ...                  ...  \n",
       "7464                             А.Кравчук     история                 0.51  \n",
       "7466                               Д.Шмидт  мультфильм                 0.53  \n",
       "7474                           Ф.Бондарчук  фантастика                 0.53  \n",
       "7476                             И.Северов       драма                 0.65  \n",
       "7478    М.Бальчюнас (псевдоним М.Вайсберг)     комедия                 0.67  \n",
       "\n",
       "[332 rows x 20 columns]"
      ]
     },
     "execution_count": 56,
     "metadata": {},
     "output_type": "execute_result"
    }
   ],
   "source": [
    "gov_support = df[df['budget'].isna() == False].copy()\n",
    "gov_support"
   ]
  },
  {
   "cell_type": "markdown",
   "metadata": {
    "id": "UxFbV5OnQ5Go"
   },
   "source": [
    "На даннном этапе нас уже не интерсует возвратные денежный средства или нет, можем объединять 2 столбца и увидеть общую сумму государственной поддержки."
   ]
  },
  {
   "cell_type": "code",
   "execution_count": 57,
   "metadata": {
    "colab": {
     "base_uri": "https://localhost:8080/",
     "height": 938
    },
    "id": "3vhTN7yJRKgn",
    "outputId": "e10ed963-c7cc-427b-bbed-705a765f4274"
   },
   "outputs": [
    {
     "data": {
      "text/html": [
       "<div>\n",
       "<style scoped>\n",
       "    .dataframe tbody tr th:only-of-type {\n",
       "        vertical-align: middle;\n",
       "    }\n",
       "\n",
       "    .dataframe tbody tr th {\n",
       "        vertical-align: top;\n",
       "    }\n",
       "\n",
       "    .dataframe thead th {\n",
       "        text-align: right;\n",
       "    }\n",
       "</style>\n",
       "<table border=\"1\" class=\"dataframe\">\n",
       "  <thead>\n",
       "    <tr style=\"text-align: right;\">\n",
       "      <th></th>\n",
       "      <th>title</th>\n",
       "      <th>puNumber</th>\n",
       "      <th>show_start_date</th>\n",
       "      <th>type</th>\n",
       "      <th>film_studio</th>\n",
       "      <th>production_country</th>\n",
       "      <th>director</th>\n",
       "      <th>producer</th>\n",
       "      <th>age_restriction</th>\n",
       "      <th>refundable_support</th>\n",
       "      <th>...</th>\n",
       "      <th>budget</th>\n",
       "      <th>financing_source</th>\n",
       "      <th>ratings</th>\n",
       "      <th>genres</th>\n",
       "      <th>box_office</th>\n",
       "      <th>movie_start_year</th>\n",
       "      <th>director_first</th>\n",
       "      <th>genre_first</th>\n",
       "      <th>support_part_budget</th>\n",
       "      <th>total_support</th>\n",
       "    </tr>\n",
       "  </thead>\n",
       "  <tbody>\n",
       "    <tr>\n",
       "      <th>1281</th>\n",
       "      <td>Пока еще жива</td>\n",
       "      <td>111005313</td>\n",
       "      <td>2013-10-11 12:00:00+00:00</td>\n",
       "      <td>Художественный</td>\n",
       "      <td>АНО содействия развитию кинематографии \"Ангел-...</td>\n",
       "      <td>Россия</td>\n",
       "      <td>А.Атанесян</td>\n",
       "      <td>А.Атанесян, М.Бабаханов, Р.Бутко</td>\n",
       "      <td>«16+» - для детей старше 16 лет</td>\n",
       "      <td>0.00</td>\n",
       "      <td>...</td>\n",
       "      <td>79411900.00</td>\n",
       "      <td>Министерство культуры</td>\n",
       "      <td>8.10</td>\n",
       "      <td>драма,мелодрама</td>\n",
       "      <td>365353.60</td>\n",
       "      <td>2013</td>\n",
       "      <td>А.Атанесян</td>\n",
       "      <td>драма</td>\n",
       "      <td>0.33</td>\n",
       "      <td>26500000.00</td>\n",
       "    </tr>\n",
       "    <tr>\n",
       "      <th>1448</th>\n",
       "      <td>Бесславные придурки</td>\n",
       "      <td>111003314</td>\n",
       "      <td>2014-03-28 12:00:00+00:00</td>\n",
       "      <td>Художественный</td>\n",
       "      <td>ООО \"Компания \"АТК-Студио\"</td>\n",
       "      <td>Россия</td>\n",
       "      <td>А.Якимчук</td>\n",
       "      <td>А.Тютрюмов</td>\n",
       "      <td>«12+» - для детей старше 12 лет</td>\n",
       "      <td>0.00</td>\n",
       "      <td>...</td>\n",
       "      <td>37142857.00</td>\n",
       "      <td>Министерство культуры</td>\n",
       "      <td>NaN</td>\n",
       "      <td>ungenre</td>\n",
       "      <td>28140.00</td>\n",
       "      <td>2014</td>\n",
       "      <td>А.Якимчук</td>\n",
       "      <td>ungenre</td>\n",
       "      <td>0.70</td>\n",
       "      <td>26000000.00</td>\n",
       "    </tr>\n",
       "    <tr>\n",
       "      <th>1498</th>\n",
       "      <td>Невидимки</td>\n",
       "      <td>111004213</td>\n",
       "      <td>2013-09-10 12:00:00+00:00</td>\n",
       "      <td>Художественный</td>\n",
       "      <td>ООО \"Компания \"РЕАЛ-ДАКОТА\"</td>\n",
       "      <td>Россия</td>\n",
       "      <td>Р.Давлетьяров, С.Комаров</td>\n",
       "      <td>Р.Давлетьяров, А.Котелевский, А.Олейников</td>\n",
       "      <td>«12+» - для детей старше 12 лет</td>\n",
       "      <td>0.00</td>\n",
       "      <td>...</td>\n",
       "      <td>176023490.00</td>\n",
       "      <td>Фонд кино</td>\n",
       "      <td>5.30</td>\n",
       "      <td>комедия,фантастика</td>\n",
       "      <td>19957031.50</td>\n",
       "      <td>2013</td>\n",
       "      <td>Р.Давлетьяров</td>\n",
       "      <td>комедия</td>\n",
       "      <td>0.61</td>\n",
       "      <td>107847945.00</td>\n",
       "    </tr>\n",
       "    <tr>\n",
       "      <th>1524</th>\n",
       "      <td>БЕРЦЫ</td>\n",
       "      <td>111004314</td>\n",
       "      <td>2014-05-05 12:00:00+00:00</td>\n",
       "      <td>Художественный</td>\n",
       "      <td>ООО \"Студия \"Пассажир\"</td>\n",
       "      <td>Россия</td>\n",
       "      <td>Е.Миндадзе (псевдоним Катя Шагалова)</td>\n",
       "      <td>Л.Антонова</td>\n",
       "      <td>«16+» - для детей старше 16 лет</td>\n",
       "      <td>0.00</td>\n",
       "      <td>...</td>\n",
       "      <td>40574140.00</td>\n",
       "      <td>Министерство культуры</td>\n",
       "      <td>4.20</td>\n",
       "      <td>драма</td>\n",
       "      <td>55917.50</td>\n",
       "      <td>2014</td>\n",
       "      <td>Е.Миндадзе (псевдоним Катя Шагалова)</td>\n",
       "      <td>драма</td>\n",
       "      <td>0.69</td>\n",
       "      <td>28000000.00</td>\n",
       "    </tr>\n",
       "    <tr>\n",
       "      <th>1792</th>\n",
       "      <td>Братья Ч</td>\n",
       "      <td>111004414</td>\n",
       "      <td>2014-04-23 12:00:00+00:00</td>\n",
       "      <td>Художественный</td>\n",
       "      <td>ООО \"Студия \"Пассажир\"</td>\n",
       "      <td>Россия</td>\n",
       "      <td>М.Угаров</td>\n",
       "      <td>А.Миндадзе, Л.Антонова</td>\n",
       "      <td>«16+» - для детей старше 16 лет</td>\n",
       "      <td>0.00</td>\n",
       "      <td>...</td>\n",
       "      <td>40015122.00</td>\n",
       "      <td>Министерство культуры</td>\n",
       "      <td>6.40</td>\n",
       "      <td>драма</td>\n",
       "      <td>232100.00</td>\n",
       "      <td>2014</td>\n",
       "      <td>М.Угаров</td>\n",
       "      <td>драма</td>\n",
       "      <td>0.62</td>\n",
       "      <td>25000000.00</td>\n",
       "    </tr>\n",
       "    <tr>\n",
       "      <th>...</th>\n",
       "      <td>...</td>\n",
       "      <td>...</td>\n",
       "      <td>...</td>\n",
       "      <td>...</td>\n",
       "      <td>...</td>\n",
       "      <td>...</td>\n",
       "      <td>...</td>\n",
       "      <td>...</td>\n",
       "      <td>...</td>\n",
       "      <td>...</td>\n",
       "      <td>...</td>\n",
       "      <td>...</td>\n",
       "      <td>...</td>\n",
       "      <td>...</td>\n",
       "      <td>...</td>\n",
       "      <td>...</td>\n",
       "      <td>...</td>\n",
       "      <td>...</td>\n",
       "      <td>...</td>\n",
       "      <td>...</td>\n",
       "      <td>...</td>\n",
       "    </tr>\n",
       "    <tr>\n",
       "      <th>7464</th>\n",
       "      <td>Союз спасения</td>\n",
       "      <td>111022019</td>\n",
       "      <td>2019-12-26 12:00:00+00:00</td>\n",
       "      <td>Художественный</td>\n",
       "      <td>ЗАО \"Дирекция кино\"</td>\n",
       "      <td>Россия</td>\n",
       "      <td>А.Кравчук</td>\n",
       "      <td>А.Максимов, К.Эрнст</td>\n",
       "      <td>«12+» - для детей старше 12 лет</td>\n",
       "      <td>100000000.00</td>\n",
       "      <td>...</td>\n",
       "      <td>980000000.00</td>\n",
       "      <td>Фонд кино</td>\n",
       "      <td>6.00</td>\n",
       "      <td>история,биография,драма</td>\n",
       "      <td>717703185.53</td>\n",
       "      <td>2019</td>\n",
       "      <td>А.Кравчук</td>\n",
       "      <td>история</td>\n",
       "      <td>0.51</td>\n",
       "      <td>500000000.00</td>\n",
       "    </tr>\n",
       "    <tr>\n",
       "      <th>7466</th>\n",
       "      <td>Иван Царевич и Серый Волк 4</td>\n",
       "      <td>114005019</td>\n",
       "      <td>2019-12-20 12:00:00+00:00</td>\n",
       "      <td>Анимационный</td>\n",
       "      <td>ООО \"Студия анимационного кино \"Мельница\"</td>\n",
       "      <td>Россия</td>\n",
       "      <td>Д.Шмидт, К.Феоктистов</td>\n",
       "      <td>С.Сельянов, А.Боярский</td>\n",
       "      <td>«6+» - для детей старше 6 лет</td>\n",
       "      <td>100000000.00</td>\n",
       "      <td>...</td>\n",
       "      <td>190000000.00</td>\n",
       "      <td>Фонд кино</td>\n",
       "      <td>6.70</td>\n",
       "      <td>мультфильм,приключения,семейный</td>\n",
       "      <td>501069235.00</td>\n",
       "      <td>2019</td>\n",
       "      <td>Д.Шмидт</td>\n",
       "      <td>мультфильм</td>\n",
       "      <td>0.53</td>\n",
       "      <td>100000000.00</td>\n",
       "    </tr>\n",
       "    <tr>\n",
       "      <th>7474</th>\n",
       "      <td>Вторжение</td>\n",
       "      <td>111022519</td>\n",
       "      <td>2019-12-23 12:00:00+00:00</td>\n",
       "      <td>Художественный</td>\n",
       "      <td>ООО \"Арт Пикчерс Студия\", ООО \"Водород 2011\"</td>\n",
       "      <td>Россия</td>\n",
       "      <td>Ф.Бондарчук</td>\n",
       "      <td>Ф.Бондарчук, М.Врубель, А.Андрющенко, Д.Рудовский</td>\n",
       "      <td>«12+» - для детей старше 12 лет</td>\n",
       "      <td>100000000.00</td>\n",
       "      <td>...</td>\n",
       "      <td>944000000.00</td>\n",
       "      <td>Фонд кино</td>\n",
       "      <td>5.70</td>\n",
       "      <td>фантастика,боевик</td>\n",
       "      <td>NaN</td>\n",
       "      <td>2019</td>\n",
       "      <td>Ф.Бондарчук</td>\n",
       "      <td>фантастика</td>\n",
       "      <td>0.53</td>\n",
       "      <td>500000000.00</td>\n",
       "    </tr>\n",
       "    <tr>\n",
       "      <th>7476</th>\n",
       "      <td>Я свободен</td>\n",
       "      <td>111023019</td>\n",
       "      <td>2019-12-26 12:00:00+00:00</td>\n",
       "      <td>Художественный</td>\n",
       "      <td>АО \"ТПО \"Киностудия им. М.Горького\"</td>\n",
       "      <td>Россия</td>\n",
       "      <td>И.Северов</td>\n",
       "      <td>С.Зернов</td>\n",
       "      <td>«12+» - для детей старше 12 лет</td>\n",
       "      <td>0.00</td>\n",
       "      <td>...</td>\n",
       "      <td>46154000.00</td>\n",
       "      <td>Министерство культуры</td>\n",
       "      <td>5.90</td>\n",
       "      <td>драма</td>\n",
       "      <td>NaN</td>\n",
       "      <td>2019</td>\n",
       "      <td>И.Северов</td>\n",
       "      <td>драма</td>\n",
       "      <td>0.65</td>\n",
       "      <td>30000000.00</td>\n",
       "    </tr>\n",
       "    <tr>\n",
       "      <th>7478</th>\n",
       "      <td>(Не)идеальный мужчина</td>\n",
       "      <td>111023119</td>\n",
       "      <td>2019-12-24 12:00:00+00:00</td>\n",
       "      <td>Художественный</td>\n",
       "      <td>ООО \"Нон-Стоп Продакшн\"</td>\n",
       "      <td>Россия</td>\n",
       "      <td>М.Бальчюнас (псевдоним М.Вайсберг)</td>\n",
       "      <td>С.Мелькумов, А.Роднянский, М.Вайсберг, Р.Минас...</td>\n",
       "      <td>«12+» - для детей старше 12 лет</td>\n",
       "      <td>40000000.00</td>\n",
       "      <td>...</td>\n",
       "      <td>150147502.00</td>\n",
       "      <td>Фонд кино</td>\n",
       "      <td>4.50</td>\n",
       "      <td>комедия,фантастика,мелодрама</td>\n",
       "      <td>NaN</td>\n",
       "      <td>2019</td>\n",
       "      <td>М.Бальчюнас (псевдоним М.Вайсберг)</td>\n",
       "      <td>комедия</td>\n",
       "      <td>0.67</td>\n",
       "      <td>100000000.00</td>\n",
       "    </tr>\n",
       "  </tbody>\n",
       "</table>\n",
       "<p>332 rows × 21 columns</p>\n",
       "</div>"
      ],
      "text/plain": [
       "                            title   puNumber           show_start_date  \\\n",
       "1281                Пока еще жива  111005313 2013-10-11 12:00:00+00:00   \n",
       "1448          Бесславные придурки  111003314 2014-03-28 12:00:00+00:00   \n",
       "1498                    Невидимки  111004213 2013-09-10 12:00:00+00:00   \n",
       "1524                        БЕРЦЫ  111004314 2014-05-05 12:00:00+00:00   \n",
       "1792                     Братья Ч  111004414 2014-04-23 12:00:00+00:00   \n",
       "...                           ...        ...                       ...   \n",
       "7464                Союз спасения  111022019 2019-12-26 12:00:00+00:00   \n",
       "7466  Иван Царевич и Серый Волк 4  114005019 2019-12-20 12:00:00+00:00   \n",
       "7474                    Вторжение  111022519 2019-12-23 12:00:00+00:00   \n",
       "7476                   Я свободен  111023019 2019-12-26 12:00:00+00:00   \n",
       "7478        (Не)идеальный мужчина  111023119 2019-12-24 12:00:00+00:00   \n",
       "\n",
       "                type                                        film_studio  \\\n",
       "1281  Художественный  АНО содействия развитию кинематографии \"Ангел-...   \n",
       "1448  Художественный                         ООО \"Компания \"АТК-Студио\"   \n",
       "1498  Художественный                        ООО \"Компания \"РЕАЛ-ДАКОТА\"   \n",
       "1524  Художественный                             ООО \"Студия \"Пассажир\"   \n",
       "1792  Художественный                             ООО \"Студия \"Пассажир\"   \n",
       "...              ...                                                ...   \n",
       "7464  Художественный                                ЗАО \"Дирекция кино\"   \n",
       "7466    Анимационный          ООО \"Студия анимационного кино \"Мельница\"   \n",
       "7474  Художественный       ООО \"Арт Пикчерс Студия\", ООО \"Водород 2011\"   \n",
       "7476  Художественный                АО \"ТПО \"Киностудия им. М.Горького\"   \n",
       "7478  Художественный                           ООО \"Нон-Стоп Продакшн\"    \n",
       "\n",
       "     production_country                              director  \\\n",
       "1281             Россия                            А.Атанесян   \n",
       "1448             Россия                             А.Якимчук   \n",
       "1498             Россия              Р.Давлетьяров, С.Комаров   \n",
       "1524             Россия  Е.Миндадзе (псевдоним Катя Шагалова)   \n",
       "1792             Россия                              М.Угаров   \n",
       "...                 ...                                   ...   \n",
       "7464             Россия                             А.Кравчук   \n",
       "7466             Россия                 Д.Шмидт, К.Феоктистов   \n",
       "7474             Россия                           Ф.Бондарчук   \n",
       "7476             Россия                             И.Северов   \n",
       "7478             Россия    М.Бальчюнас (псевдоним М.Вайсберг)   \n",
       "\n",
       "                                               producer  \\\n",
       "1281                   А.Атанесян, М.Бабаханов, Р.Бутко   \n",
       "1448                                         А.Тютрюмов   \n",
       "1498          Р.Давлетьяров, А.Котелевский, А.Олейников   \n",
       "1524                                         Л.Антонова   \n",
       "1792                             А.Миндадзе, Л.Антонова   \n",
       "...                                                 ...   \n",
       "7464                                А.Максимов, К.Эрнст   \n",
       "7466                             С.Сельянов, А.Боярский   \n",
       "7474  Ф.Бондарчук, М.Врубель, А.Андрющенко, Д.Рудовский   \n",
       "7476                                           С.Зернов   \n",
       "7478  С.Мелькумов, А.Роднянский, М.Вайсберг, Р.Минас...   \n",
       "\n",
       "                      age_restriction  refundable_support  ...       budget  \\\n",
       "1281  «16+» - для детей старше 16 лет                0.00  ...  79411900.00   \n",
       "1448  «12+» - для детей старше 12 лет                0.00  ...  37142857.00   \n",
       "1498  «12+» - для детей старше 12 лет                0.00  ... 176023490.00   \n",
       "1524  «16+» - для детей старше 16 лет                0.00  ...  40574140.00   \n",
       "1792  «16+» - для детей старше 16 лет                0.00  ...  40015122.00   \n",
       "...                               ...                 ...  ...          ...   \n",
       "7464  «12+» - для детей старше 12 лет        100000000.00  ... 980000000.00   \n",
       "7466    «6+» - для детей старше 6 лет        100000000.00  ... 190000000.00   \n",
       "7474  «12+» - для детей старше 12 лет        100000000.00  ... 944000000.00   \n",
       "7476  «12+» - для детей старше 12 лет                0.00  ...  46154000.00   \n",
       "7478  «12+» - для детей старше 12 лет         40000000.00  ... 150147502.00   \n",
       "\n",
       "           financing_source ratings                           genres  \\\n",
       "1281  Министерство культуры    8.10                  драма,мелодрама   \n",
       "1448  Министерство культуры     NaN                          ungenre   \n",
       "1498              Фонд кино    5.30               комедия,фантастика   \n",
       "1524  Министерство культуры    4.20                            драма   \n",
       "1792  Министерство культуры    6.40                            драма   \n",
       "...                     ...     ...                              ...   \n",
       "7464              Фонд кино    6.00          история,биография,драма   \n",
       "7466              Фонд кино    6.70  мультфильм,приключения,семейный   \n",
       "7474              Фонд кино    5.70                фантастика,боевик   \n",
       "7476  Министерство культуры    5.90                            драма   \n",
       "7478              Фонд кино    4.50     комедия,фантастика,мелодрама   \n",
       "\n",
       "       box_office  movie_start_year                        director_first  \\\n",
       "1281    365353.60              2013                            А.Атанесян   \n",
       "1448     28140.00              2014                             А.Якимчук   \n",
       "1498  19957031.50              2013                         Р.Давлетьяров   \n",
       "1524     55917.50              2014  Е.Миндадзе (псевдоним Катя Шагалова)   \n",
       "1792    232100.00              2014                              М.Угаров   \n",
       "...           ...               ...                                   ...   \n",
       "7464 717703185.53              2019                             А.Кравчук   \n",
       "7466 501069235.00              2019                               Д.Шмидт   \n",
       "7474          NaN              2019                           Ф.Бондарчук   \n",
       "7476          NaN              2019                             И.Северов   \n",
       "7478          NaN              2019    М.Бальчюнас (псевдоним М.Вайсберг)   \n",
       "\n",
       "     genre_first support_part_budget  total_support  \n",
       "1281       драма                0.33    26500000.00  \n",
       "1448     ungenre                0.70    26000000.00  \n",
       "1498     комедия                0.61   107847945.00  \n",
       "1524       драма                0.69    28000000.00  \n",
       "1792       драма                0.62    25000000.00  \n",
       "...          ...                 ...            ...  \n",
       "7464     история                0.51   500000000.00  \n",
       "7466  мультфильм                0.53   100000000.00  \n",
       "7474  фантастика                0.53   500000000.00  \n",
       "7476       драма                0.65    30000000.00  \n",
       "7478     комедия                0.67   100000000.00  \n",
       "\n",
       "[332 rows x 21 columns]"
      ]
     },
     "execution_count": 57,
     "metadata": {},
     "output_type": "execute_result"
    }
   ],
   "source": [
    "gov_support['total_support'] = gov_support['refundable_support'] + gov_support['nonrefundable_support']\n",
    "gov_support"
   ]
  },
  {
   "cell_type": "markdown",
   "metadata": {
    "id": "m8QjZJ5vTQw7"
   },
   "source": [
    "теперь добавим столбец ```profit``` с разностью между сборами и бюджетом."
   ]
  },
  {
   "cell_type": "code",
   "execution_count": 58,
   "metadata": {
    "id": "Scv-E-htTYoP"
   },
   "outputs": [],
   "source": [
    "gov_support['profit'] = gov_support['box_office'] - gov_support['budget']"
   ]
  },
  {
   "cell_type": "code",
   "execution_count": 59,
   "metadata": {
    "colab": {
     "base_uri": "https://localhost:8080/",
     "height": 364
    },
    "id": "FjQamaRYTrPU",
    "outputId": "a021500e-09e8-46f9-873c-c24dafb75ab8"
   },
   "outputs": [
    {
     "data": {
      "text/html": [
       "<div>\n",
       "<style scoped>\n",
       "    .dataframe tbody tr th:only-of-type {\n",
       "        vertical-align: middle;\n",
       "    }\n",
       "\n",
       "    .dataframe tbody tr th {\n",
       "        vertical-align: top;\n",
       "    }\n",
       "\n",
       "    .dataframe thead th {\n",
       "        text-align: right;\n",
       "    }\n",
       "</style>\n",
       "<table border=\"1\" class=\"dataframe\">\n",
       "  <thead>\n",
       "    <tr style=\"text-align: right;\">\n",
       "      <th></th>\n",
       "      <th>refundable_support</th>\n",
       "      <th>nonrefundable_support</th>\n",
       "      <th>budget</th>\n",
       "      <th>ratings</th>\n",
       "      <th>box_office</th>\n",
       "      <th>movie_start_year</th>\n",
       "      <th>support_part_budget</th>\n",
       "      <th>total_support</th>\n",
       "      <th>profit</th>\n",
       "    </tr>\n",
       "  </thead>\n",
       "  <tbody>\n",
       "    <tr>\n",
       "      <th>count</th>\n",
       "      <td>332.00</td>\n",
       "      <td>332.00</td>\n",
       "      <td>332.00</td>\n",
       "      <td>314.00</td>\n",
       "      <td>318.00</td>\n",
       "      <td>332.00</td>\n",
       "      <td>332.00</td>\n",
       "      <td>332.00</td>\n",
       "      <td>318.00</td>\n",
       "    </tr>\n",
       "    <tr>\n",
       "      <th>mean</th>\n",
       "      <td>11864457.83</td>\n",
       "      <td>48980988.89</td>\n",
       "      <td>131422395.80</td>\n",
       "      <td>6.00</td>\n",
       "      <td>132432420.05</td>\n",
       "      <td>2016.72</td>\n",
       "      <td>0.54</td>\n",
       "      <td>60845446.72</td>\n",
       "      <td>425697.96</td>\n",
       "    </tr>\n",
       "    <tr>\n",
       "      <th>std</th>\n",
       "      <td>24916555.26</td>\n",
       "      <td>59980117.92</td>\n",
       "      <td>187148242.67</td>\n",
       "      <td>1.12</td>\n",
       "      <td>334837856.99</td>\n",
       "      <td>1.64</td>\n",
       "      <td>0.20</td>\n",
       "      <td>72755459.47</td>\n",
       "      <td>315910432.27</td>\n",
       "    </tr>\n",
       "    <tr>\n",
       "      <th>min</th>\n",
       "      <td>0.00</td>\n",
       "      <td>0.00</td>\n",
       "      <td>6000000.00</td>\n",
       "      <td>1.00</td>\n",
       "      <td>1550.00</td>\n",
       "      <td>2013.00</td>\n",
       "      <td>0.04</td>\n",
       "      <td>3000000.00</td>\n",
       "      <td>-1971477243.41</td>\n",
       "    </tr>\n",
       "    <tr>\n",
       "      <th>25%</th>\n",
       "      <td>0.00</td>\n",
       "      <td>25000000.00</td>\n",
       "      <td>45524799.50</td>\n",
       "      <td>5.30</td>\n",
       "      <td>1236675.50</td>\n",
       "      <td>2015.00</td>\n",
       "      <td>0.38</td>\n",
       "      <td>25333750.00</td>\n",
       "      <td>-70694429.75</td>\n",
       "    </tr>\n",
       "    <tr>\n",
       "      <th>50%</th>\n",
       "      <td>0.00</td>\n",
       "      <td>30000000.00</td>\n",
       "      <td>71196901.50</td>\n",
       "      <td>6.20</td>\n",
       "      <td>15720067.71</td>\n",
       "      <td>2017.00</td>\n",
       "      <td>0.61</td>\n",
       "      <td>35000000.00</td>\n",
       "      <td>-40680816.25</td>\n",
       "    </tr>\n",
       "    <tr>\n",
       "      <th>75%</th>\n",
       "      <td>15000000.00</td>\n",
       "      <td>40375000.00</td>\n",
       "      <td>150000000.00</td>\n",
       "      <td>6.70</td>\n",
       "      <td>106373008.27</td>\n",
       "      <td>2018.00</td>\n",
       "      <td>0.66</td>\n",
       "      <td>60000000.00</td>\n",
       "      <td>-2362182.18</td>\n",
       "    </tr>\n",
       "    <tr>\n",
       "      <th>max</th>\n",
       "      <td>180000000.00</td>\n",
       "      <td>400000000.00</td>\n",
       "      <td>2305074303.00</td>\n",
       "      <td>8.50</td>\n",
       "      <td>3073568690.79</td>\n",
       "      <td>2019.00</td>\n",
       "      <td>1.00</td>\n",
       "      <td>500000000.00</td>\n",
       "      <td>2913568690.79</td>\n",
       "    </tr>\n",
       "  </tbody>\n",
       "</table>\n",
       "</div>"
      ],
      "text/plain": [
       "       refundable_support  nonrefundable_support        budget  ratings  \\\n",
       "count              332.00                 332.00        332.00   314.00   \n",
       "mean          11864457.83            48980988.89  131422395.80     6.00   \n",
       "std           24916555.26            59980117.92  187148242.67     1.12   \n",
       "min                  0.00                   0.00    6000000.00     1.00   \n",
       "25%                  0.00            25000000.00   45524799.50     5.30   \n",
       "50%                  0.00            30000000.00   71196901.50     6.20   \n",
       "75%           15000000.00            40375000.00  150000000.00     6.70   \n",
       "max          180000000.00           400000000.00 2305074303.00     8.50   \n",
       "\n",
       "         box_office  movie_start_year  support_part_budget  total_support  \\\n",
       "count        318.00            332.00               332.00         332.00   \n",
       "mean   132432420.05           2016.72                 0.54    60845446.72   \n",
       "std    334837856.99              1.64                 0.20    72755459.47   \n",
       "min         1550.00           2013.00                 0.04     3000000.00   \n",
       "25%      1236675.50           2015.00                 0.38    25333750.00   \n",
       "50%     15720067.71           2017.00                 0.61    35000000.00   \n",
       "75%    106373008.27           2018.00                 0.66    60000000.00   \n",
       "max   3073568690.79           2019.00                 1.00   500000000.00   \n",
       "\n",
       "              profit  \n",
       "count         318.00  \n",
       "mean       425697.96  \n",
       "std     315910432.27  \n",
       "min   -1971477243.41  \n",
       "25%     -70694429.75  \n",
       "50%     -40680816.25  \n",
       "75%      -2362182.18  \n",
       "max    2913568690.79  "
      ]
     },
     "execution_count": 59,
     "metadata": {},
     "output_type": "execute_result"
    }
   ],
   "source": [
    "gov_support.describe()"
   ]
  },
  {
   "cell_type": "markdown",
   "metadata": {
    "id": "G87AU9bPT3Rf"
   },
   "source": [
    "в среднем доля гос.поддержки фильма 54%. Более половины бюджета фильма это  деньги, которые выделило Министерство Культуры РФ. 75% фильмов с гос.поддержкой убыточные, самый худший показатель это почти 2 млрд. рублей убытков, половина фильмов с гос.поддержкой в убытке, но в тоже время в среднем фильмы с прибылью 425 тысяч рублей. Такой огромный разброс говорит о том, что в данных есть кинохиты, которые бьют рекорды по сборам."
   ]
  },
  {
   "cell_type": "markdown",
   "metadata": {
    "id": "Llp29V0SFzWV"
   },
   "source": [
    "Посмотрим на годы кинопроката фильмов с гос.поддержкой."
   ]
  },
  {
   "cell_type": "code",
   "execution_count": 60,
   "metadata": {
    "colab": {
     "base_uri": "https://localhost:8080/"
    },
    "id": "ihvtHUBAF-NJ",
    "outputId": "64051adc-2033-44de-fdd9-c7a1597e93af"
   },
   "outputs": [
    {
     "data": {
      "text/plain": [
       "movie_start_year\n",
       "2013     2\n",
       "2014    16\n",
       "2015    86\n",
       "2016    61\n",
       "2017    41\n",
       "2018    56\n",
       "2019    70\n",
       "Name: total_support, dtype: int64"
      ]
     },
     "execution_count": 60,
     "metadata": {},
     "output_type": "execute_result"
    }
   ],
   "source": [
    "gov_support.groupby('movie_start_year')['total_support'].count()"
   ]
  },
  {
   "cell_type": "code",
   "execution_count": 61,
   "metadata": {
    "colab": {
     "base_uri": "https://localhost:8080/",
     "height": 472
    },
    "id": "kcTlMlHFGUS_",
    "outputId": "c0c5fe8f-ff03-4c3a-ee70-4c1b207c5eb0"
   },
   "outputs": [
    {
     "data": {
      "image/png": "[encoded data removed]",
      "text/plain": [
       "<Figure size 432x288 with 1 Axes>"
      ]
     },
     "metadata": {
      "needs_background": "light"
     },
     "output_type": "display_data"
    }
   ],
   "source": [
    "gov_support.groupby('movie_start_year')['total_support'].count().plot(ylim=0, grid=True, style='o-');\n",
    "plt.title('Фильмы с гос. поддержкой');\n",
    "plt.xlabel('Год');\n",
    "plt.ylabel('Количество');"
   ]
  },
  {
   "cell_type": "markdown",
   "metadata": {
    "id": "Yz1gmp18GXzV"
   },
   "source": [
    "2015 год был самым активным на гос.поддержку кино. Мало данных по 2013 и 2014, эти года не будем учитывать. "
   ]
  },
  {
   "cell_type": "code",
   "execution_count": 62,
   "metadata": {
    "id": "rBKvKXiZIzGn"
   },
   "outputs": [],
   "source": [
    "gov_support = gov_support[gov_support['movie_start_year'] > 2014]"
   ]
  },
  {
   "cell_type": "markdown",
   "metadata": {
    "id": "tK0xsNE50twT"
   },
   "source": [
    "Посмотрим сколько вообще выделялось денег за каждый год."
   ]
  },
  {
   "cell_type": "code",
   "execution_count": 63,
   "metadata": {
    "colab": {
     "base_uri": "https://localhost:8080/"
    },
    "id": "ljV6slhvzj_P",
    "outputId": "111632be-2bdf-4745-ab4c-0ec4bf1bc4c6"
   },
   "outputs": [
    {
     "data": {
      "text/plain": [
       "movie_start_year\n",
       "2015   3656241459.00\n",
       "2016   4303155482.00\n",
       "2017   3183971662.00\n",
       "2018   3446969465.00\n",
       "2019   4904000000.00\n",
       "Name: total_support, dtype: float64"
      ]
     },
     "execution_count": 63,
     "metadata": {},
     "output_type": "execute_result"
    }
   ],
   "source": [
    "gov_support.groupby('movie_start_year')['total_support'].sum()"
   ]
  },
  {
   "cell_type": "code",
   "execution_count": 64,
   "metadata": {
    "colab": {
     "base_uri": "https://localhost:8080/",
     "height": 472
    },
    "id": "R5KVap95z8QO",
    "outputId": "8ece3fc6-916c-4a4e-cd99-b9adccb0ad51"
   },
   "outputs": [
    {
     "data": {
      "image/png": "[encoded data removed]",
      "text/plain": [
       "<Figure size 432x288 with 1 Axes>"
      ]
     },
     "metadata": {
      "needs_background": "light"
     },
     "output_type": "display_data"
    }
   ],
   "source": [
    "gov_support.groupby('movie_start_year')['total_support'].agg(\n",
    "    'sum').plot(grid=True, ylim=0, style='o-');\n",
    "plt.title('Гос. поддержка');\n",
    "plt.xlabel('Год');\n",
    "plt.ylabel('Рубли');"
   ]
  },
  {
   "cell_type": "markdown",
   "metadata": {
    "id": "oSzadCEg1xlH"
   },
   "source": [
    "За 2019 год Министерством Культуры выделено 4,9 млрд. рублей."
   ]
  },
  {
   "cell_type": "markdown",
   "metadata": {
    "id": "wFESZpMXIo7E"
   },
   "source": [
    "Взглянем на рейтинг фильмов."
   ]
  },
  {
   "cell_type": "code",
   "execution_count": 65,
   "metadata": {
    "colab": {
     "base_uri": "https://localhost:8080/",
     "height": 524
    },
    "id": "QWV5IQHSJksr",
    "outputId": "487a6c16-52f1-4331-c44f-d6b147f2fb88"
   },
   "outputs": [
    {
     "name": "stdout",
     "output_type": "stream",
     "text": [
      "count   297.00\n",
      "mean      6.00\n",
      "std       1.13\n",
      "min       1.00\n",
      "25%       5.30\n",
      "50%       6.20\n",
      "75%       6.70\n",
      "max       8.50\n",
      "Name: ratings, dtype: float64\n"
     ]
    },
    {
     "data": {
      "image/png": "[encoded data removed]",
      "text/plain": [
       "<Figure size 360x288 with 1 Axes>"
      ]
     },
     "metadata": {
      "needs_background": "light"
     },
     "output_type": "display_data"
    }
   ],
   "source": [
    "gov_support['ratings'].hist(figsize=(5,4))\n",
    "print(gov_support['ratings'].describe())"
   ]
  },
  {
   "cell_type": "markdown",
   "metadata": {
    "id": "6FtzCefw7voF"
   },
   "source": [
    "Фильмы с гос.поддержкой получают относительно не плохой средний бал в рейтинге Кинопоиска. Посмотрим зависит ли государственная поддержка от рейтинга фильма."
   ]
  },
  {
   "cell_type": "code",
   "execution_count": 66,
   "metadata": {
    "colab": {
     "base_uri": "https://localhost:8080/",
     "height": 489
    },
    "id": "Iuj_mT4C8BXO",
    "outputId": "d3f026eb-9ecd-4e61-f17e-d3118b5b101b"
   },
   "outputs": [
    {
     "data": {
      "text/plain": [
       "Text(0.5, 1.0, 'Корреляция: 0.12')"
      ]
     },
     "execution_count": 66,
     "metadata": {},
     "output_type": "execute_result"
    },
    {
     "data": {
      "image/png": "[encoded data removed]",
      "text/plain": [
       "<Figure size 432x288 with 1 Axes>"
      ]
     },
     "metadata": {
      "needs_background": "light"
     },
     "output_type": "display_data"
    }
   ],
   "source": [
    "corr_coef = gov_support['ratings'].corr(gov_support['total_support'])\n",
    "\n",
    "x = gov_support['ratings'] \n",
    "y = gov_support['total_support']\n",
    "\n",
    "plt.scatter(x, y, alpha=0.5)\n",
    "plt.xlabel('Рейтинг')\n",
    "plt.ylabel('Сумма поддержки')\n",
    "\n",
    "plt.title(f'Корреляция: {corr_coef:.2f}')"
   ]
  },
  {
   "cell_type": "markdown",
   "metadata": {
    "id": "nuuA4Dtk9_-A"
   },
   "source": [
    "Сумма поддержки Министерством культуры почти не зависит от рейтинга фильма на Кинопоиске. Посмотрим самые популярные жанры, на которые Минкульт выделяет деньги."
   ]
  },
  {
   "cell_type": "code",
   "execution_count": 67,
   "metadata": {
    "colab": {
     "base_uri": "https://localhost:8080/"
    },
    "id": "ZblsixDiEoOr",
    "outputId": "1a5fecfd-c612-454b-d5de-9872841abac4"
   },
   "outputs": [
    {
     "name": "stdout",
     "output_type": "stream",
     "text": [
      "                                title\n",
      "genres                               \n",
      "драма                              42\n",
      "комедия                            31\n",
      "комедия,мелодрама                  16\n",
      "ungenre                            15\n",
      "драма,мелодрама                     6\n",
      "мультфильм,комедия,приключения      5\n",
      "военный,драма,история               5\n",
      "ужасы                               4\n",
      "мультфильм                          4\n",
      "драма,военный,история               4\n"
     ]
    }
   ],
   "source": [
    "pivot = pd.pivot_table(gov_support, values='title', index='genres', aggfunc='count')\n",
    "pivot = pivot.sort_values(by='title', ascending=False)\n",
    "print(pivot.head(10))"
   ]
  },
  {
   "cell_type": "markdown",
   "metadata": {
    "id": "UKqMOdv1FmLE"
   },
   "source": [
    "Посмотрим сколько денег получили топ 3. Для этого исправим немного сводную таблицу."
   ]
  },
  {
   "cell_type": "code",
   "execution_count": 68,
   "metadata": {
    "colab": {
     "base_uri": "https://localhost:8080/"
    },
    "id": "dwDMtscjGFRa",
    "outputId": "c26e56a9-dd6d-48f4-c6ea-dcd8c22dc809"
   },
   "outputs": [
    {
     "name": "stdout",
     "output_type": "stream",
     "text": [
      "             title  total_support\n",
      "genre_first                      \n",
      "драма           85  5018904333.00\n",
      "комедия         71  3052435000.00\n",
      "мультфильм      30  2391520000.00\n"
     ]
    }
   ],
   "source": [
    "pivot = pd.pivot_table(gov_support, values=['title', 'total_support'], index='genre_first', aggfunc={'title': 'count', 'total_support': 'sum'})\n",
    "pivot = pivot.sort_values(by='title', ascending=False)\n",
    "print(pivot.head(3))"
   ]
  },
  {
   "cell_type": "markdown",
   "metadata": {
    "id": "fMNRi5z-GnTN"
   },
   "source": [
    "Больше всего Минкульт выделил за 2015-2019 года на драмы - более 5 млрд.руб. На 2 млрд меньше на комедии. С жанрами разобрались. Посмотрим, на топ-10 режиссеров фильмов с государственной поддержкой."
   ]
  },
  {
   "cell_type": "code",
   "execution_count": 69,
   "metadata": {
    "colab": {
     "base_uri": "https://localhost:8080/",
     "height": 458
    },
    "id": "kPrv9bkuJR30",
    "outputId": "b9b86b8a-20f8-4fed-d3f6-619a744d5ce2"
   },
   "outputs": [
    {
     "data": {
      "text/html": [
       "<div>\n",
       "<style scoped>\n",
       "    .dataframe tbody tr th:only-of-type {\n",
       "        vertical-align: middle;\n",
       "    }\n",
       "\n",
       "    .dataframe tbody tr th {\n",
       "        vertical-align: top;\n",
       "    }\n",
       "\n",
       "    .dataframe thead th {\n",
       "        text-align: right;\n",
       "    }\n",
       "</style>\n",
       "<table border=\"1\" class=\"dataframe\">\n",
       "  <thead>\n",
       "    <tr style=\"text-align: right;\">\n",
       "      <th></th>\n",
       "      <th>count_profit</th>\n",
       "      <th>count_ratings</th>\n",
       "      <th>count_total_support</th>\n",
       "      <th>sum_profit</th>\n",
       "      <th>sum_ratings</th>\n",
       "      <th>sum_total_support</th>\n",
       "      <th>mean_profit</th>\n",
       "      <th>mean_ratings</th>\n",
       "      <th>mean_total_support</th>\n",
       "      <th>median_profit</th>\n",
       "      <th>median_ratings</th>\n",
       "      <th>median_total_support</th>\n",
       "    </tr>\n",
       "    <tr>\n",
       "      <th>director_first</th>\n",
       "      <th></th>\n",
       "      <th></th>\n",
       "      <th></th>\n",
       "      <th></th>\n",
       "      <th></th>\n",
       "      <th></th>\n",
       "      <th></th>\n",
       "      <th></th>\n",
       "      <th></th>\n",
       "      <th></th>\n",
       "      <th></th>\n",
       "      <th></th>\n",
       "    </tr>\n",
       "  </thead>\n",
       "  <tbody>\n",
       "    <tr>\n",
       "      <th>Ф.Бондарчук</th>\n",
       "      <td>1</td>\n",
       "      <td>2</td>\n",
       "      <td>2</td>\n",
       "      <td>788321489.00</td>\n",
       "      <td>11.30</td>\n",
       "      <td>750000000.00</td>\n",
       "      <td>788321489.00</td>\n",
       "      <td>5.65</td>\n",
       "      <td>375000000.00</td>\n",
       "      <td>788321489.00</td>\n",
       "      <td>5.65</td>\n",
       "      <td>375000000.00</td>\n",
       "    </tr>\n",
       "    <tr>\n",
       "      <th>Н.Хомерики</th>\n",
       "      <td>3</td>\n",
       "      <td>3</td>\n",
       "      <td>3</td>\n",
       "      <td>-325561715.77</td>\n",
       "      <td>18.10</td>\n",
       "      <td>660000000.00</td>\n",
       "      <td>-108520571.92</td>\n",
       "      <td>6.03</td>\n",
       "      <td>220000000.00</td>\n",
       "      <td>-92930337.20</td>\n",
       "      <td>5.80</td>\n",
       "      <td>300000000.00</td>\n",
       "    </tr>\n",
       "    <tr>\n",
       "      <th>А.Кравчук</th>\n",
       "      <td>1</td>\n",
       "      <td>1</td>\n",
       "      <td>1</td>\n",
       "      <td>-262296814.47</td>\n",
       "      <td>6.00</td>\n",
       "      <td>500000000.00</td>\n",
       "      <td>-262296814.47</td>\n",
       "      <td>6.00</td>\n",
       "      <td>500000000.00</td>\n",
       "      <td>-262296814.47</td>\n",
       "      <td>6.00</td>\n",
       "      <td>500000000.00</td>\n",
       "    </tr>\n",
       "    <tr>\n",
       "      <th>А.Мизгирев</th>\n",
       "      <td>1</td>\n",
       "      <td>1</td>\n",
       "      <td>1</td>\n",
       "      <td>-319915396.40</td>\n",
       "      <td>6.60</td>\n",
       "      <td>450000000.00</td>\n",
       "      <td>-319915396.40</td>\n",
       "      <td>6.60</td>\n",
       "      <td>450000000.00</td>\n",
       "      <td>-319915396.40</td>\n",
       "      <td>6.60</td>\n",
       "      <td>450000000.00</td>\n",
       "    </tr>\n",
       "    <tr>\n",
       "      <th>Н.Лебедев</th>\n",
       "      <td>1</td>\n",
       "      <td>1</td>\n",
       "      <td>1</td>\n",
       "      <td>766971523.00</td>\n",
       "      <td>7.60</td>\n",
       "      <td>442104482.00</td>\n",
       "      <td>766971523.00</td>\n",
       "      <td>7.60</td>\n",
       "      <td>442104482.00</td>\n",
       "      <td>766971523.00</td>\n",
       "      <td>7.60</td>\n",
       "      <td>442104482.00</td>\n",
       "    </tr>\n",
       "    <tr>\n",
       "      <th>А.Мегердичев</th>\n",
       "      <td>1</td>\n",
       "      <td>1</td>\n",
       "      <td>1</td>\n",
       "      <td>2189493953.00</td>\n",
       "      <td>7.50</td>\n",
       "      <td>400000000.00</td>\n",
       "      <td>2189493953.00</td>\n",
       "      <td>7.50</td>\n",
       "      <td>400000000.00</td>\n",
       "      <td>2189493953.00</td>\n",
       "      <td>7.50</td>\n",
       "      <td>400000000.00</td>\n",
       "    </tr>\n",
       "    <tr>\n",
       "      <th>Р.Давлетьяров</th>\n",
       "      <td>4</td>\n",
       "      <td>4</td>\n",
       "      <td>4</td>\n",
       "      <td>-315100846.06</td>\n",
       "      <td>28.60</td>\n",
       "      <td>352000000.00</td>\n",
       "      <td>-78775211.52</td>\n",
       "      <td>7.15</td>\n",
       "      <td>88000000.00</td>\n",
       "      <td>-100033476.03</td>\n",
       "      <td>7.10</td>\n",
       "      <td>86000000.00</td>\n",
       "    </tr>\n",
       "    <tr>\n",
       "      <th>Д.Дьяченко</th>\n",
       "      <td>4</td>\n",
       "      <td>4</td>\n",
       "      <td>4</td>\n",
       "      <td>1624203322.12</td>\n",
       "      <td>22.60</td>\n",
       "      <td>351000000.00</td>\n",
       "      <td>406050830.53</td>\n",
       "      <td>5.65</td>\n",
       "      <td>87750000.00</td>\n",
       "      <td>154837534.75</td>\n",
       "      <td>5.45</td>\n",
       "      <td>83000000.00</td>\n",
       "    </tr>\n",
       "    <tr>\n",
       "      <th>И.Шурховецкий</th>\n",
       "      <td>1</td>\n",
       "      <td>1</td>\n",
       "      <td>1</td>\n",
       "      <td>90392336.00</td>\n",
       "      <td>6.40</td>\n",
       "      <td>350000000.00</td>\n",
       "      <td>90392336.00</td>\n",
       "      <td>6.40</td>\n",
       "      <td>350000000.00</td>\n",
       "      <td>90392336.00</td>\n",
       "      <td>6.40</td>\n",
       "      <td>350000000.00</td>\n",
       "    </tr>\n",
       "    <tr>\n",
       "      <th>Д.Киселев</th>\n",
       "      <td>2</td>\n",
       "      <td>2</td>\n",
       "      <td>2</td>\n",
       "      <td>696959413.00</td>\n",
       "      <td>13.30</td>\n",
       "      <td>350000000.00</td>\n",
       "      <td>348479706.50</td>\n",
       "      <td>6.65</td>\n",
       "      <td>175000000.00</td>\n",
       "      <td>348479706.50</td>\n",
       "      <td>6.65</td>\n",
       "      <td>175000000.00</td>\n",
       "    </tr>\n",
       "  </tbody>\n",
       "</table>\n",
       "</div>"
      ],
      "text/plain": [
       "                count_profit  count_ratings  count_total_support  \\\n",
       "director_first                                                     \n",
       "Ф.Бондарчук                1              2                    2   \n",
       "Н.Хомерики                 3              3                    3   \n",
       "А.Кравчук                  1              1                    1   \n",
       "А.Мизгирев                 1              1                    1   \n",
       "Н.Лебедев                  1              1                    1   \n",
       "А.Мегердичев               1              1                    1   \n",
       "Р.Давлетьяров              4              4                    4   \n",
       "Д.Дьяченко                 4              4                    4   \n",
       "И.Шурховецкий              1              1                    1   \n",
       "Д.Киселев                  2              2                    2   \n",
       "\n",
       "                  sum_profit  sum_ratings  sum_total_support   mean_profit  \\\n",
       "director_first                                                               \n",
       "Ф.Бондарчук     788321489.00        11.30       750000000.00  788321489.00   \n",
       "Н.Хомерики     -325561715.77        18.10       660000000.00 -108520571.92   \n",
       "А.Кравчук      -262296814.47         6.00       500000000.00 -262296814.47   \n",
       "А.Мизгирев     -319915396.40         6.60       450000000.00 -319915396.40   \n",
       "Н.Лебедев       766971523.00         7.60       442104482.00  766971523.00   \n",
       "А.Мегердичев   2189493953.00         7.50       400000000.00 2189493953.00   \n",
       "Р.Давлетьяров  -315100846.06        28.60       352000000.00  -78775211.52   \n",
       "Д.Дьяченко     1624203322.12        22.60       351000000.00  406050830.53   \n",
       "И.Шурховецкий    90392336.00         6.40       350000000.00   90392336.00   \n",
       "Д.Киселев       696959413.00        13.30       350000000.00  348479706.50   \n",
       "\n",
       "                mean_ratings  mean_total_support  median_profit  \\\n",
       "director_first                                                    \n",
       "Ф.Бондарчук             5.65        375000000.00   788321489.00   \n",
       "Н.Хомерики              6.03        220000000.00   -92930337.20   \n",
       "А.Кравчук               6.00        500000000.00  -262296814.47   \n",
       "А.Мизгирев              6.60        450000000.00  -319915396.40   \n",
       "Н.Лебедев               7.60        442104482.00   766971523.00   \n",
       "А.Мегердичев            7.50        400000000.00  2189493953.00   \n",
       "Р.Давлетьяров           7.15         88000000.00  -100033476.03   \n",
       "Д.Дьяченко              5.65         87750000.00   154837534.75   \n",
       "И.Шурховецкий           6.40        350000000.00    90392336.00   \n",
       "Д.Киселев               6.65        175000000.00   348479706.50   \n",
       "\n",
       "                median_ratings  median_total_support  \n",
       "director_first                                        \n",
       "Ф.Бондарчук               5.65          375000000.00  \n",
       "Н.Хомерики                5.80          300000000.00  \n",
       "А.Кравчук                 6.00          500000000.00  \n",
       "А.Мизгирев                6.60          450000000.00  \n",
       "Н.Лебедев                 7.60          442104482.00  \n",
       "А.Мегердичев              7.50          400000000.00  \n",
       "Р.Давлетьяров             7.10           86000000.00  \n",
       "Д.Дьяченко                5.45           83000000.00  \n",
       "И.Шурховецкий             6.40          350000000.00  \n",
       "Д.Киселев                 6.65          175000000.00  "
      ]
     },
     "execution_count": 69,
     "metadata": {},
     "output_type": "execute_result"
    }
   ],
   "source": [
    "top_director = pd.pivot_table(gov_support, \n",
    "                              values=['total_support', 'profit', 'ratings'], \n",
    "                              index='director_first', \n",
    "                              aggfunc=['count', 'sum', 'mean', 'median'])\n",
    "top_director.columns = ['_'.join(col).strip() for col in top_director.columns.values]\n",
    "top_director.sort_values(by='sum_total_support', ascending=False).head(10)"
   ]
  },
  {
   "cell_type": "markdown",
   "metadata": {
    "id": "1szqDvh7LHS5"
   },
   "source": [
    "Федор Бондарчук является наиболее поддерживаемым режиссером, который получил государственную помощь для съемки двух фильмов. Из двух фильмов, снятых при помощи государственной поддержки, только \"Притяжение\" имеет данные о доходах в размере 788 млн рублей, несмотря на то, что его рейтинг немного ниже 6 баллов.\n",
    "<br>\n",
    "Второй по величине государственной поддержки является Николай Хомерики, однако его фильмы не окупаются и не приносят прибыли, хотя в среднем рейтинг его фильмов выше, чем у фильмов Бондарчука.\n",
    "<br>\n",
    "Среди всех режиссеров, получивших государственную поддержку, есть один особенный претендент - Николай Лебедев. Его фильм \"Экипаж\" не только принес доход, но также получил хорошие отзывы критиков и зрителей, с оценкой в 7,6 баллов. Попробуем отсортировать список режиссеров по убыванию доходности их фильмов."
   ]
  },
  {
   "cell_type": "code",
   "execution_count": 70,
   "metadata": {
    "colab": {
     "base_uri": "https://localhost:8080/",
     "height": 458
    },
    "id": "AVSP4w-wLV-N",
    "outputId": "6cf9a045-a1f7-4807-b83b-bdf881b80eb6"
   },
   "outputs": [
    {
     "data": {
      "text/html": [
       "<div>\n",
       "<style scoped>\n",
       "    .dataframe tbody tr th:only-of-type {\n",
       "        vertical-align: middle;\n",
       "    }\n",
       "\n",
       "    .dataframe tbody tr th {\n",
       "        vertical-align: top;\n",
       "    }\n",
       "\n",
       "    .dataframe thead th {\n",
       "        text-align: right;\n",
       "    }\n",
       "</style>\n",
       "<table border=\"1\" class=\"dataframe\">\n",
       "  <thead>\n",
       "    <tr style=\"text-align: right;\">\n",
       "      <th></th>\n",
       "      <th>count_profit</th>\n",
       "      <th>count_ratings</th>\n",
       "      <th>count_total_support</th>\n",
       "      <th>sum_profit</th>\n",
       "      <th>sum_ratings</th>\n",
       "      <th>sum_total_support</th>\n",
       "      <th>mean_profit</th>\n",
       "      <th>mean_ratings</th>\n",
       "      <th>mean_total_support</th>\n",
       "      <th>median_profit</th>\n",
       "      <th>median_ratings</th>\n",
       "      <th>median_total_support</th>\n",
       "    </tr>\n",
       "    <tr>\n",
       "      <th>director_first</th>\n",
       "      <th></th>\n",
       "      <th></th>\n",
       "      <th></th>\n",
       "      <th></th>\n",
       "      <th></th>\n",
       "      <th></th>\n",
       "      <th></th>\n",
       "      <th></th>\n",
       "      <th></th>\n",
       "      <th></th>\n",
       "      <th></th>\n",
       "      <th></th>\n",
       "    </tr>\n",
       "  </thead>\n",
       "  <tbody>\n",
       "    <tr>\n",
       "      <th>К.Шипенко</th>\n",
       "      <td>2</td>\n",
       "      <td>2</td>\n",
       "      <td>2</td>\n",
       "      <td>3172514510.79</td>\n",
       "      <td>14.20</td>\n",
       "      <td>285000000.00</td>\n",
       "      <td>1586257255.39</td>\n",
       "      <td>7.10</td>\n",
       "      <td>142500000.00</td>\n",
       "      <td>1586257255.39</td>\n",
       "      <td>7.10</td>\n",
       "      <td>142500000.00</td>\n",
       "    </tr>\n",
       "    <tr>\n",
       "      <th>А.Мегердичев</th>\n",
       "      <td>1</td>\n",
       "      <td>1</td>\n",
       "      <td>1</td>\n",
       "      <td>2189493953.00</td>\n",
       "      <td>7.50</td>\n",
       "      <td>400000000.00</td>\n",
       "      <td>2189493953.00</td>\n",
       "      <td>7.50</td>\n",
       "      <td>400000000.00</td>\n",
       "      <td>2189493953.00</td>\n",
       "      <td>7.50</td>\n",
       "      <td>400000000.00</td>\n",
       "    </tr>\n",
       "    <tr>\n",
       "      <th>А.Сидоров</th>\n",
       "      <td>1</td>\n",
       "      <td>1</td>\n",
       "      <td>1</td>\n",
       "      <td>1707969287.52</td>\n",
       "      <td>6.50</td>\n",
       "      <td>180000000.00</td>\n",
       "      <td>1707969287.52</td>\n",
       "      <td>6.50</td>\n",
       "      <td>180000000.00</td>\n",
       "      <td>1707969287.52</td>\n",
       "      <td>6.50</td>\n",
       "      <td>180000000.00</td>\n",
       "    </tr>\n",
       "    <tr>\n",
       "      <th>Д.Дьяченко</th>\n",
       "      <td>4</td>\n",
       "      <td>4</td>\n",
       "      <td>4</td>\n",
       "      <td>1624203322.12</td>\n",
       "      <td>22.60</td>\n",
       "      <td>351000000.00</td>\n",
       "      <td>406050830.53</td>\n",
       "      <td>5.65</td>\n",
       "      <td>87750000.00</td>\n",
       "      <td>154837534.75</td>\n",
       "      <td>5.45</td>\n",
       "      <td>83000000.00</td>\n",
       "    </tr>\n",
       "    <tr>\n",
       "      <th>О.Трофим</th>\n",
       "      <td>1</td>\n",
       "      <td>0</td>\n",
       "      <td>1</td>\n",
       "      <td>1297146575.89</td>\n",
       "      <td>0.00</td>\n",
       "      <td>85000000.00</td>\n",
       "      <td>1297146575.89</td>\n",
       "      <td>NaN</td>\n",
       "      <td>85000000.00</td>\n",
       "      <td>1297146575.89</td>\n",
       "      <td>NaN</td>\n",
       "      <td>85000000.00</td>\n",
       "    </tr>\n",
       "    <tr>\n",
       "      <th>Ф.Бондарчук</th>\n",
       "      <td>1</td>\n",
       "      <td>2</td>\n",
       "      <td>2</td>\n",
       "      <td>788321489.00</td>\n",
       "      <td>11.30</td>\n",
       "      <td>750000000.00</td>\n",
       "      <td>788321489.00</td>\n",
       "      <td>5.65</td>\n",
       "      <td>375000000.00</td>\n",
       "      <td>788321489.00</td>\n",
       "      <td>5.65</td>\n",
       "      <td>375000000.00</td>\n",
       "    </tr>\n",
       "    <tr>\n",
       "      <th>Н.Лебедев</th>\n",
       "      <td>1</td>\n",
       "      <td>1</td>\n",
       "      <td>1</td>\n",
       "      <td>766971523.00</td>\n",
       "      <td>7.60</td>\n",
       "      <td>442104482.00</td>\n",
       "      <td>766971523.00</td>\n",
       "      <td>7.60</td>\n",
       "      <td>442104482.00</td>\n",
       "      <td>766971523.00</td>\n",
       "      <td>7.60</td>\n",
       "      <td>442104482.00</td>\n",
       "    </tr>\n",
       "    <tr>\n",
       "      <th>Д.Шмидт</th>\n",
       "      <td>3</td>\n",
       "      <td>3</td>\n",
       "      <td>3</td>\n",
       "      <td>698312261.00</td>\n",
       "      <td>18.60</td>\n",
       "      <td>215000000.00</td>\n",
       "      <td>232770753.67</td>\n",
       "      <td>6.20</td>\n",
       "      <td>71666666.67</td>\n",
       "      <td>311069235.00</td>\n",
       "      <td>6.20</td>\n",
       "      <td>75000000.00</td>\n",
       "    </tr>\n",
       "    <tr>\n",
       "      <th>Д.Киселев</th>\n",
       "      <td>2</td>\n",
       "      <td>2</td>\n",
       "      <td>2</td>\n",
       "      <td>696959413.00</td>\n",
       "      <td>13.30</td>\n",
       "      <td>350000000.00</td>\n",
       "      <td>348479706.50</td>\n",
       "      <td>6.65</td>\n",
       "      <td>175000000.00</td>\n",
       "      <td>348479706.50</td>\n",
       "      <td>6.65</td>\n",
       "      <td>175000000.00</td>\n",
       "    </tr>\n",
       "    <tr>\n",
       "      <th>Т.Бекмамбетов</th>\n",
       "      <td>2</td>\n",
       "      <td>2</td>\n",
       "      <td>2</td>\n",
       "      <td>615037455.97</td>\n",
       "      <td>11.70</td>\n",
       "      <td>250000000.00</td>\n",
       "      <td>307518727.99</td>\n",
       "      <td>5.85</td>\n",
       "      <td>125000000.00</td>\n",
       "      <td>307518727.99</td>\n",
       "      <td>5.85</td>\n",
       "      <td>125000000.00</td>\n",
       "    </tr>\n",
       "  </tbody>\n",
       "</table>\n",
       "</div>"
      ],
      "text/plain": [
       "                count_profit  count_ratings  count_total_support  \\\n",
       "director_first                                                     \n",
       "К.Шипенко                  2              2                    2   \n",
       "А.Мегердичев               1              1                    1   \n",
       "А.Сидоров                  1              1                    1   \n",
       "Д.Дьяченко                 4              4                    4   \n",
       "О.Трофим                   1              0                    1   \n",
       "Ф.Бондарчук                1              2                    2   \n",
       "Н.Лебедев                  1              1                    1   \n",
       "Д.Шмидт                    3              3                    3   \n",
       "Д.Киселев                  2              2                    2   \n",
       "Т.Бекмамбетов              2              2                    2   \n",
       "\n",
       "                  sum_profit  sum_ratings  sum_total_support   mean_profit  \\\n",
       "director_first                                                               \n",
       "К.Шипенко      3172514510.79        14.20       285000000.00 1586257255.39   \n",
       "А.Мегердичев   2189493953.00         7.50       400000000.00 2189493953.00   \n",
       "А.Сидоров      1707969287.52         6.50       180000000.00 1707969287.52   \n",
       "Д.Дьяченко     1624203322.12        22.60       351000000.00  406050830.53   \n",
       "О.Трофим       1297146575.89         0.00        85000000.00 1297146575.89   \n",
       "Ф.Бондарчук     788321489.00        11.30       750000000.00  788321489.00   \n",
       "Н.Лебедев       766971523.00         7.60       442104482.00  766971523.00   \n",
       "Д.Шмидт         698312261.00        18.60       215000000.00  232770753.67   \n",
       "Д.Киселев       696959413.00        13.30       350000000.00  348479706.50   \n",
       "Т.Бекмамбетов   615037455.97        11.70       250000000.00  307518727.99   \n",
       "\n",
       "                mean_ratings  mean_total_support  median_profit  \\\n",
       "director_first                                                    \n",
       "К.Шипенко               7.10        142500000.00  1586257255.39   \n",
       "А.Мегердичев            7.50        400000000.00  2189493953.00   \n",
       "А.Сидоров               6.50        180000000.00  1707969287.52   \n",
       "Д.Дьяченко              5.65         87750000.00   154837534.75   \n",
       "О.Трофим                 NaN         85000000.00  1297146575.89   \n",
       "Ф.Бондарчук             5.65        375000000.00   788321489.00   \n",
       "Н.Лебедев               7.60        442104482.00   766971523.00   \n",
       "Д.Шмидт                 6.20         71666666.67   311069235.00   \n",
       "Д.Киселев               6.65        175000000.00   348479706.50   \n",
       "Т.Бекмамбетов           5.85        125000000.00   307518727.99   \n",
       "\n",
       "                median_ratings  median_total_support  \n",
       "director_first                                        \n",
       "К.Шипенко                 7.10          142500000.00  \n",
       "А.Мегердичев              7.50          400000000.00  \n",
       "А.Сидоров                 6.50          180000000.00  \n",
       "Д.Дьяченко                5.45           83000000.00  \n",
       "О.Трофим                   NaN           85000000.00  \n",
       "Ф.Бондарчук               5.65          375000000.00  \n",
       "Н.Лебедев                 7.60          442104482.00  \n",
       "Д.Шмидт                   6.20           75000000.00  \n",
       "Д.Киселев                 6.65          175000000.00  \n",
       "Т.Бекмамбетов             5.85          125000000.00  "
      ]
     },
     "execution_count": 70,
     "metadata": {},
     "output_type": "execute_result"
    }
   ],
   "source": [
    "top_director.sort_values(by='sum_profit', ascending=False).head(10)"
   ]
  },
  {
   "cell_type": "markdown",
   "metadata": {
    "id": "2YQSBaZBMEdr"
   },
   "source": [
    "Клим Шипенко занимает первое место благодаря успеху его кинокартин \"Салют-7\" и \"Холоп\". Они имеют высокие оценки - 7.4 и 6.8 соответственно, и заработали больше всего денег. Бекмамбетов попал в ТОП-10 на последней строчке благодаря прибыльности своих фильмов \"Ёлки\", несмотря на не самые высокие оценки. Время подвести итог."
   ]
  },
  {
   "cell_type": "markdown",
   "metadata": {
    "id": "4ZN5i_PXwfwV"
   },
   "source": [
    "#### Промежуточные итог:\n",
    "> Проведя исселдование можем сообщить следующее:\n",
    "1.   54% бюджета фильма с государственной поддержкой это средства Минкульта РФ;\n",
    "2.   6 баллов - таков средний рейтинг кинолент с государственной поддержкой, и он не зависит от суммы государственной поддержки;\n",
    "3.   2015 год самый продуктивный для фильмов с государственной поддержкой, но самый большая поддержка российскому кино от Министерства культуры была в 2019 году;\n",
    "4.   Больше всего финансов от Министерства культуры получил режиссер Федор Бондарчук, но самые окупаемые фильмы снимал Клим Шипенко.\n",
    "\n",
    "\n",
    "\n"
   ]
  },
  {
   "cell_type": "markdown",
   "metadata": {
    "id": "V2gYwMcPgFyd"
   },
   "source": [
    "### Шаг 5. Напишите общий вывод"
   ]
  },
  {
   "cell_type": "markdown",
   "metadata": {
    "id": "AYRg3dzXgFye"
   },
   "source": [
    "#### Общий вывод:\n",
    "> В таблице имеются повторения названий фильмов, однако у них различные номера прокатных удостоверений, поэтому информация была оставлена без дополнительной обработки. Также некоторые фильмы имеют одинаковые номера прокатных удостоверений, но после проверки на официальном сайте было [подтверждено](https://opendata.mkrf.ru/opendata/7705851331-register_movies), что такие фильмы действительно существуют под одним номером. Возможно, что под одним номером может находиться несколько фильмов. \n",
    "<br>\n",
    "<br>В строках с нулевыми значениями бюджета были заменены на сумму поддержки. Для дальнейшего анализа были добавлены дополнительные столбцы, включая год выпуска фильма, первого режиссера и первого жанра в списке, а также отношение суммы поддержки к бюджету. \n",
    "<br>\n",
    "<br>Наибольшее количество фильмов было показано в кинотеатрах в 2019 году, немного меньше - в 2016 году. Минимальная сумма сборов была зафиксирована в 2015 году, а максимальная - в 2018 году. Фильмы с возрастным ограничением 16+ имеют наибольшие сборы. Если рассматривать по годам, то в 2017 году фильмы с возрастным ограничением 16+ принесли больше всего денег, но в 2015 году кино с возрастным ограничением 12+ оказалось более прибыльным. \n",
    "<br>\n",
    "<br>Жанр \"драма\" занял первое место по количеству и сумме поддержки, а жанр \"комедия\" занял второе место. Федор Бондарчук получил самую большую сумму поддержки. \n",
    "<br>\n",
    "<br> В таблице имелись ошибки: \n",
    ">* Лишние пробелы в категориальных переменных, которые были исправлены. \n",
    ">* Рейтинги в процентах для некоторых строк были приведены к NaN, поскольку такие значения были некорректны."
   ]
  }
 ],
 "metadata": {
  "ExecuteTimeLog": [
   {
    "duration": 537,
    "start_time": "2021-07-07T10:12:08.634Z"
   },
   {
    "duration": 206,
    "start_time": "2021-07-07T10:12:30.191Z"
   },
   {
    "duration": 227,
    "start_time": "2021-07-07T10:12:33.078Z"
   },
   {
    "duration": 153,
    "start_time": "2021-07-07T10:13:42.146Z"
   },
   {
    "duration": 233,
    "start_time": "2021-07-07T10:30:09.252Z"
   },
   {
    "duration": 19,
    "start_time": "2021-07-07T10:30:15.577Z"
   },
   {
    "duration": 18,
    "start_time": "2021-07-07T10:30:57.348Z"
   },
   {
    "duration": 19,
    "start_time": "2021-07-07T10:31:17.452Z"
   },
   {
    "duration": 21,
    "start_time": "2021-07-07T10:31:32.227Z"
   },
   {
    "duration": 27,
    "start_time": "2021-07-07T10:32:06.588Z"
   },
   {
    "duration": 23,
    "start_time": "2021-07-07T10:32:43.645Z"
   },
   {
    "duration": 24,
    "start_time": "2021-07-07T10:33:06.948Z"
   },
   {
    "duration": 7,
    "start_time": "2021-07-07T10:33:28.558Z"
   },
   {
    "duration": 23,
    "start_time": "2021-07-07T10:33:43.761Z"
   },
   {
    "duration": 28,
    "start_time": "2021-07-07T10:34:13.466Z"
   },
   {
    "duration": 23,
    "start_time": "2021-07-07T10:35:56.187Z"
   },
   {
    "duration": 6,
    "start_time": "2021-07-07T10:36:48.182Z"
   },
   {
    "duration": 14,
    "start_time": "2021-07-07T10:37:49.641Z"
   },
   {
    "duration": 6,
    "start_time": "2021-07-07T10:38:06.694Z"
   },
   {
    "duration": 6,
    "start_time": "2021-07-07T10:38:13.493Z"
   },
   {
    "duration": 19,
    "start_time": "2021-07-07T10:38:44.056Z"
   },
   {
    "duration": 186,
    "start_time": "2021-07-07T10:48:35.618Z"
   },
   {
    "duration": 24,
    "start_time": "2021-07-07T10:48:51.498Z"
   },
   {
    "duration": 20,
    "start_time": "2021-07-07T10:48:59.415Z"
   },
   {
    "duration": 20,
    "start_time": "2021-07-07T10:53:02.195Z"
   },
   {
    "duration": 188,
    "start_time": "2021-07-07T10:54:40.486Z"
   },
   {
    "duration": 115,
    "start_time": "2021-07-07T10:54:52.552Z"
   },
   {
    "duration": 214,
    "start_time": "2021-07-07T10:54:56.354Z"
   },
   {
    "duration": 47,
    "start_time": "2021-07-07T10:54:58.282Z"
   },
   {
    "duration": 217,
    "start_time": "2021-07-07T10:59:16.075Z"
   },
   {
    "duration": 51,
    "start_time": "2021-07-07T10:59:16.243Z"
   },
   {
    "duration": 578,
    "start_time": "2021-07-07T10:59:18.774Z"
   },
   {
    "duration": 161,
    "start_time": "2021-07-07T10:59:21.238Z"
   },
   {
    "duration": 59,
    "start_time": "2021-07-07T10:59:21.453Z"
   },
   {
    "duration": 3,
    "start_time": "2021-07-07T11:02:10.786Z"
   },
   {
    "duration": 13,
    "start_time": "2021-07-07T11:07:07.722Z"
   },
   {
    "duration": 26,
    "start_time": "2021-07-07T11:07:17.958Z"
   },
   {
    "duration": 22,
    "start_time": "2021-07-07T11:08:17.939Z"
   },
   {
    "duration": 212,
    "start_time": "2021-07-07T11:08:19.665Z"
   },
   {
    "duration": 21,
    "start_time": "2021-07-07T11:08:29.945Z"
   },
   {
    "duration": 31,
    "start_time": "2021-07-07T11:08:38.899Z"
   },
   {
    "duration": 23,
    "start_time": "2021-07-07T11:08:54.527Z"
   },
   {
    "duration": 8,
    "start_time": "2021-07-07T11:18:55.974Z"
   },
   {
    "duration": 7,
    "start_time": "2021-07-07T11:19:03.639Z"
   },
   {
    "duration": 7,
    "start_time": "2021-07-07T11:19:06.444Z"
   },
   {
    "duration": 578,
    "start_time": "2021-07-07T12:09:59.576Z"
   },
   {
    "duration": 195,
    "start_time": "2021-07-07T12:10:00.156Z"
   },
   {
    "duration": 115,
    "start_time": "2021-07-07T12:10:00.353Z"
   },
   {
    "duration": 3,
    "start_time": "2021-07-07T12:10:00.470Z"
   },
   {
    "duration": 32,
    "start_time": "2021-07-07T12:10:00.474Z"
   },
   {
    "duration": 23,
    "start_time": "2021-07-07T12:10:00.508Z"
   },
   {
    "duration": 19,
    "start_time": "2021-07-07T12:10:00.533Z"
   },
   {
    "duration": 44,
    "start_time": "2021-07-07T12:10:00.553Z"
   },
   {
    "duration": 7,
    "start_time": "2021-07-07T12:10:00.600Z"
   },
   {
    "duration": 7,
    "start_time": "2021-07-07T12:19:45.761Z"
   },
   {
    "duration": 21,
    "start_time": "2021-07-07T12:21:35.482Z"
   },
   {
    "duration": 21,
    "start_time": "2021-07-07T12:29:23.569Z"
   },
   {
    "duration": 525,
    "start_time": "2021-07-07T12:29:44.542Z"
   },
   {
    "duration": 214,
    "start_time": "2021-07-07T12:29:45.069Z"
   },
   {
    "duration": 92,
    "start_time": "2021-07-07T12:29:45.285Z"
   },
   {
    "duration": 3,
    "start_time": "2021-07-07T12:29:45.379Z"
   },
   {
    "duration": 28,
    "start_time": "2021-07-07T12:29:45.384Z"
   },
   {
    "duration": 23,
    "start_time": "2021-07-07T12:29:45.413Z"
   },
   {
    "duration": 21,
    "start_time": "2021-07-07T12:29:45.437Z"
   },
   {
    "duration": 41,
    "start_time": "2021-07-07T12:29:45.460Z"
   },
   {
    "duration": 7,
    "start_time": "2021-07-07T12:29:45.502Z"
   },
   {
    "duration": 20,
    "start_time": "2021-07-07T12:29:45.511Z"
   },
   {
    "duration": 12,
    "start_time": "2021-07-07T12:34:02.800Z"
   },
   {
    "duration": 7,
    "start_time": "2021-07-07T12:35:10.479Z"
   },
   {
    "duration": 8,
    "start_time": "2021-07-07T12:35:22.440Z"
   },
   {
    "duration": 6,
    "start_time": "2021-07-07T12:35:35.649Z"
   },
   {
    "duration": 6,
    "start_time": "2021-07-07T12:35:43.107Z"
   },
   {
    "duration": 22,
    "start_time": "2021-07-07T12:38:03.029Z"
   },
   {
    "duration": 10,
    "start_time": "2021-07-07T12:38:06.592Z"
   },
   {
    "duration": 563,
    "start_time": "2021-07-07T12:38:46.493Z"
   },
   {
    "duration": 265,
    "start_time": "2021-07-07T12:38:47.058Z"
   },
   {
    "duration": 94,
    "start_time": "2021-07-07T12:38:47.325Z"
   },
   {
    "duration": 3,
    "start_time": "2021-07-07T12:38:47.422Z"
   },
   {
    "duration": 30,
    "start_time": "2021-07-07T12:38:47.427Z"
   },
   {
    "duration": 16,
    "start_time": "2021-07-07T12:38:53.305Z"
   },
   {
    "duration": 10,
    "start_time": "2021-07-07T12:38:53.499Z"
   },
   {
    "duration": 8,
    "start_time": "2021-07-07T12:39:48.161Z"
   },
   {
    "duration": 27,
    "start_time": "2021-07-07T12:41:17.629Z"
   },
   {
    "duration": 17,
    "start_time": "2021-07-07T12:41:17.867Z"
   },
   {
    "duration": 21,
    "start_time": "2021-07-07T12:41:19.310Z"
   },
   {
    "duration": 7,
    "start_time": "2021-07-07T12:41:19.544Z"
   },
   {
    "duration": 20,
    "start_time": "2021-07-07T12:41:20.504Z"
   },
   {
    "duration": 554,
    "start_time": "2021-07-07T12:56:23.696Z"
   },
   {
    "duration": 200,
    "start_time": "2021-07-07T12:56:25.234Z"
   },
   {
    "duration": 119,
    "start_time": "2021-07-07T12:56:25.480Z"
   },
   {
    "duration": 4,
    "start_time": "2021-07-07T12:56:25.762Z"
   },
   {
    "duration": 26,
    "start_time": "2021-07-07T12:56:27.172Z"
   },
   {
    "duration": 12,
    "start_time": "2021-07-07T12:56:29.051Z"
   },
   {
    "duration": 10,
    "start_time": "2021-07-07T12:56:29.291Z"
   },
   {
    "duration": 8,
    "start_time": "2021-07-07T12:56:29.623Z"
   },
   {
    "duration": 28,
    "start_time": "2021-07-07T12:56:32.137Z"
   },
   {
    "duration": 19,
    "start_time": "2021-07-07T12:56:39.785Z"
   },
   {
    "duration": 20,
    "start_time": "2021-07-07T12:56:44.297Z"
   },
   {
    "duration": 7,
    "start_time": "2021-07-07T12:56:45.392Z"
   },
   {
    "duration": 23,
    "start_time": "2021-07-07T12:56:46.615Z"
   },
   {
    "duration": 4,
    "start_time": "2021-07-07T12:57:06.625Z"
   },
   {
    "duration": 32,
    "start_time": "2021-07-07T12:57:36.690Z"
   },
   {
    "duration": 18,
    "start_time": "2021-07-07T12:58:00.149Z"
   },
   {
    "duration": 15,
    "start_time": "2021-07-07T12:59:16.793Z"
   },
   {
    "duration": 7,
    "start_time": "2021-07-07T13:19:22.624Z"
   },
   {
    "duration": 6,
    "start_time": "2021-07-07T14:17:33.527Z"
   },
   {
    "duration": 9,
    "start_time": "2021-07-07T14:17:48.409Z"
   },
   {
    "duration": 8,
    "start_time": "2021-07-07T14:20:13.060Z"
   },
   {
    "duration": 8,
    "start_time": "2021-07-07T14:20:37.957Z"
   },
   {
    "duration": 8,
    "start_time": "2021-07-07T14:20:47.470Z"
   },
   {
    "duration": 9,
    "start_time": "2021-07-07T14:20:54.503Z"
   },
   {
    "duration": 10,
    "start_time": "2021-07-07T14:28:57.763Z"
   },
   {
    "duration": 3,
    "start_time": "2021-07-07T14:30:23.377Z"
   },
   {
    "duration": 3,
    "start_time": "2021-07-07T14:30:36.489Z"
   },
   {
    "duration": 103,
    "start_time": "2021-07-07T14:30:52.351Z"
   },
   {
    "duration": 8,
    "start_time": "2021-07-07T14:30:54.763Z"
   },
   {
    "duration": 8,
    "start_time": "2021-07-07T14:31:29.301Z"
   },
   {
    "duration": 13,
    "start_time": "2021-07-07T14:31:44.516Z"
   },
   {
    "duration": 7,
    "start_time": "2021-07-07T14:33:10.972Z"
   },
   {
    "duration": 11,
    "start_time": "2021-07-07T14:33:27.780Z"
   },
   {
    "duration": 8,
    "start_time": "2021-07-07T14:34:44.588Z"
   },
   {
    "duration": 57,
    "start_time": "2021-07-07T14:35:59.042Z"
   },
   {
    "duration": 3,
    "start_time": "2021-07-07T14:36:28.168Z"
   },
   {
    "duration": 5,
    "start_time": "2021-07-07T14:36:46.254Z"
   },
   {
    "duration": 4,
    "start_time": "2021-07-07T14:36:52.714Z"
   },
   {
    "duration": 3,
    "start_time": "2021-07-07T14:36:56.612Z"
   },
   {
    "duration": 4,
    "start_time": "2021-07-07T14:36:57.049Z"
   },
   {
    "duration": 3,
    "start_time": "2021-07-07T14:39:21.214Z"
   },
   {
    "duration": 7,
    "start_time": "2021-07-07T14:39:52.406Z"
   },
   {
    "duration": 11,
    "start_time": "2021-07-07T14:39:58.576Z"
   },
   {
    "duration": 9,
    "start_time": "2021-07-07T14:40:26.301Z"
   },
   {
    "duration": 10,
    "start_time": "2021-07-07T14:40:31.704Z"
   },
   {
    "duration": 11,
    "start_time": "2021-07-07T14:40:36.249Z"
   },
   {
    "duration": 10,
    "start_time": "2021-07-07T14:40:39.783Z"
   },
   {
    "duration": 9,
    "start_time": "2021-07-07T14:40:48.558Z"
   },
   {
    "duration": 10,
    "start_time": "2021-07-07T14:40:57.143Z"
   },
   {
    "duration": 9,
    "start_time": "2021-07-07T14:41:06.074Z"
   },
   {
    "duration": 4324,
    "start_time": "2021-07-07T14:41:22.004Z"
   },
   {
    "duration": 11,
    "start_time": "2021-07-07T14:41:33.392Z"
   },
   {
    "duration": 9,
    "start_time": "2021-07-07T14:41:39.288Z"
   },
   {
    "duration": 569,
    "start_time": "2021-07-07T14:42:14.387Z"
   },
   {
    "duration": 197,
    "start_time": "2021-07-07T14:42:14.959Z"
   },
   {
    "duration": 84,
    "start_time": "2021-07-07T14:42:16.052Z"
   },
   {
    "duration": 4,
    "start_time": "2021-07-07T14:42:16.900Z"
   },
   {
    "duration": 27,
    "start_time": "2021-07-07T14:42:19.898Z"
   },
   {
    "duration": 12,
    "start_time": "2021-07-07T14:42:21.577Z"
   },
   {
    "duration": 9,
    "start_time": "2021-07-07T14:42:21.813Z"
   },
   {
    "duration": 9,
    "start_time": "2021-07-07T14:42:22.569Z"
   },
   {
    "duration": 29,
    "start_time": "2021-07-07T14:42:25.837Z"
   },
   {
    "duration": 20,
    "start_time": "2021-07-07T14:42:27.003Z"
   },
   {
    "duration": 21,
    "start_time": "2021-07-07T14:42:28.767Z"
   },
   {
    "duration": 7,
    "start_time": "2021-07-07T14:42:29.838Z"
   },
   {
    "duration": 4,
    "start_time": "2021-07-07T14:43:25.493Z"
   },
   {
    "duration": 7,
    "start_time": "2021-07-07T14:43:26.573Z"
   },
   {
    "duration": 10,
    "start_time": "2021-07-07T14:43:31.639Z"
   },
   {
    "duration": 9,
    "start_time": "2021-07-07T14:43:32.046Z"
   },
   {
    "duration": 10,
    "start_time": "2021-07-07T14:43:33.301Z"
   },
   {
    "duration": 12,
    "start_time": "2021-07-07T14:43:33.658Z"
   },
   {
    "duration": 8,
    "start_time": "2021-07-07T14:43:34.552Z"
   },
   {
    "duration": 9,
    "start_time": "2021-07-07T14:43:35.058Z"
   },
   {
    "duration": 12,
    "start_time": "2021-07-07T14:43:35.914Z"
   },
   {
    "duration": 17,
    "start_time": "2021-07-07T14:45:34.368Z"
   },
   {
    "duration": 512,
    "start_time": "2021-07-07T14:51:58.236Z"
   },
   {
    "duration": 223,
    "start_time": "2021-07-07T14:51:58.750Z"
   },
   {
    "duration": 93,
    "start_time": "2021-07-07T14:51:58.977Z"
   },
   {
    "duration": 4,
    "start_time": "2021-07-07T14:51:59.071Z"
   },
   {
    "duration": 37,
    "start_time": "2021-07-07T14:51:59.077Z"
   },
   {
    "duration": 18,
    "start_time": "2021-07-07T14:51:59.116Z"
   },
   {
    "duration": 10,
    "start_time": "2021-07-07T14:51:59.137Z"
   },
   {
    "duration": 8,
    "start_time": "2021-07-07T14:51:59.149Z"
   },
   {
    "duration": 54,
    "start_time": "2021-07-07T14:51:59.158Z"
   },
   {
    "duration": 18,
    "start_time": "2021-07-07T14:51:59.213Z"
   },
   {
    "duration": 22,
    "start_time": "2021-07-07T14:51:59.232Z"
   },
   {
    "duration": 36,
    "start_time": "2021-07-07T14:51:59.255Z"
   },
   {
    "duration": 7,
    "start_time": "2021-07-07T14:51:59.293Z"
   },
   {
    "duration": 10,
    "start_time": "2021-07-07T14:51:59.302Z"
   },
   {
    "duration": 9,
    "start_time": "2021-07-07T14:51:59.313Z"
   },
   {
    "duration": 11,
    "start_time": "2021-07-07T14:51:59.324Z"
   },
   {
    "duration": 8,
    "start_time": "2021-07-07T14:51:59.337Z"
   },
   {
    "duration": 46,
    "start_time": "2021-07-07T14:51:59.347Z"
   },
   {
    "duration": 22,
    "start_time": "2021-07-07T14:51:59.395Z"
   },
   {
    "duration": 24,
    "start_time": "2021-07-07T14:57:32.911Z"
   },
   {
    "duration": 7,
    "start_time": "2021-07-07T14:58:22.070Z"
   },
   {
    "duration": 4,
    "start_time": "2021-07-07T14:59:11.239Z"
   },
   {
    "duration": 25,
    "start_time": "2021-07-07T15:07:22.208Z"
   },
   {
    "duration": 16,
    "start_time": "2021-07-07T15:08:25.560Z"
   },
   {
    "duration": 15,
    "start_time": "2021-07-07T15:08:40.647Z"
   },
   {
    "duration": 14,
    "start_time": "2021-07-07T15:08:46.669Z"
   },
   {
    "duration": 533,
    "start_time": "2021-07-07T15:18:07.440Z"
   },
   {
    "duration": 173,
    "start_time": "2021-07-07T15:18:07.974Z"
   },
   {
    "duration": 84,
    "start_time": "2021-07-07T15:18:08.149Z"
   },
   {
    "duration": 3,
    "start_time": "2021-07-07T15:18:08.235Z"
   },
   {
    "duration": 30,
    "start_time": "2021-07-07T15:18:08.240Z"
   },
   {
    "duration": 22,
    "start_time": "2021-07-07T15:18:08.272Z"
   },
   {
    "duration": 11,
    "start_time": "2021-07-07T15:18:08.295Z"
   },
   {
    "duration": 11,
    "start_time": "2021-07-07T15:18:08.309Z"
   },
   {
    "duration": 40,
    "start_time": "2021-07-07T15:18:08.322Z"
   },
   {
    "duration": 42,
    "start_time": "2021-07-07T15:18:08.364Z"
   },
   {
    "duration": 22,
    "start_time": "2021-07-07T15:18:08.408Z"
   },
   {
    "duration": 5,
    "start_time": "2021-07-07T15:18:08.432Z"
   },
   {
    "duration": 13,
    "start_time": "2021-07-07T15:18:08.439Z"
   },
   {
    "duration": 9,
    "start_time": "2021-07-07T15:18:08.454Z"
   },
   {
    "duration": 32,
    "start_time": "2021-07-07T15:18:08.465Z"
   },
   {
    "duration": 10,
    "start_time": "2021-07-07T15:18:08.501Z"
   },
   {
    "duration": 7,
    "start_time": "2021-07-07T15:18:08.513Z"
   },
   {
    "duration": 11,
    "start_time": "2021-07-07T15:18:08.521Z"
   },
   {
    "duration": 17,
    "start_time": "2021-07-07T15:18:08.534Z"
   },
   {
    "duration": 44,
    "start_time": "2021-07-07T15:18:08.553Z"
   },
   {
    "duration": 22,
    "start_time": "2021-07-07T15:18:08.599Z"
   },
   {
    "duration": 61,
    "start_time": "2021-07-07T15:18:08.622Z"
   },
   {
    "duration": 7,
    "start_time": "2021-07-07T15:18:39.457Z"
   },
   {
    "duration": 5,
    "start_time": "2021-07-07T16:05:17.020Z"
   },
   {
    "duration": 5,
    "start_time": "2021-07-07T16:51:28.794Z"
   },
   {
    "duration": 546,
    "start_time": "2021-07-07T16:52:26.306Z"
   },
   {
    "duration": 203,
    "start_time": "2021-07-07T16:52:27.523Z"
   },
   {
    "duration": 85,
    "start_time": "2021-07-07T16:52:27.736Z"
   },
   {
    "duration": 4,
    "start_time": "2021-07-07T16:52:27.899Z"
   },
   {
    "duration": 25,
    "start_time": "2021-07-07T16:52:28.674Z"
   },
   {
    "duration": 8,
    "start_time": "2021-07-07T16:52:32.956Z"
   },
   {
    "duration": 18,
    "start_time": "2021-07-07T16:52:35.616Z"
   },
   {
    "duration": 6,
    "start_time": "2021-07-07T16:52:36.913Z"
   },
   {
    "duration": 11,
    "start_time": "2021-07-07T16:52:40.258Z"
   },
   {
    "duration": 10,
    "start_time": "2021-07-07T16:52:46.251Z"
   },
   {
    "duration": 8,
    "start_time": "2021-07-07T16:52:47.182Z"
   },
   {
    "duration": 27,
    "start_time": "2021-07-07T16:53:20.391Z"
   },
   {
    "duration": 20,
    "start_time": "2021-07-07T16:53:22.022Z"
   },
   {
    "duration": 23,
    "start_time": "2021-07-07T16:53:23.690Z"
   },
   {
    "duration": 8,
    "start_time": "2021-07-07T16:53:24.261Z"
   },
   {
    "duration": 4,
    "start_time": "2021-07-07T16:53:38.733Z"
   },
   {
    "duration": 7,
    "start_time": "2021-07-07T16:53:40.445Z"
   },
   {
    "duration": 11,
    "start_time": "2021-07-07T16:53:41.348Z"
   },
   {
    "duration": 13,
    "start_time": "2021-07-07T16:53:45.250Z"
   },
   {
    "duration": 12,
    "start_time": "2021-07-07T16:53:45.467Z"
   },
   {
    "duration": 4,
    "start_time": "2021-07-07T16:55:32.704Z"
   },
   {
    "duration": 12,
    "start_time": "2021-07-07T16:55:49.012Z"
   },
   {
    "duration": 18,
    "start_time": "2021-07-07T16:55:49.547Z"
   },
   {
    "duration": 611,
    "start_time": "2021-07-07T16:58:35.156Z"
   },
   {
    "duration": 200,
    "start_time": "2021-07-07T16:58:35.770Z"
   },
   {
    "duration": 86,
    "start_time": "2021-07-07T16:58:35.972Z"
   },
   {
    "duration": 3,
    "start_time": "2021-07-07T16:58:36.060Z"
   },
   {
    "duration": 27,
    "start_time": "2021-07-07T16:58:36.065Z"
   },
   {
    "duration": 8,
    "start_time": "2021-07-07T16:58:36.094Z"
   },
   {
    "duration": 17,
    "start_time": "2021-07-07T16:58:36.103Z"
   },
   {
    "duration": 5,
    "start_time": "2021-07-07T16:58:36.123Z"
   },
   {
    "duration": 11,
    "start_time": "2021-07-07T16:58:36.130Z"
   },
   {
    "duration": 7,
    "start_time": "2021-07-07T16:58:36.143Z"
   },
   {
    "duration": 37,
    "start_time": "2021-07-07T16:58:36.152Z"
   },
   {
    "duration": 27,
    "start_time": "2021-07-07T16:58:36.191Z"
   },
   {
    "duration": 19,
    "start_time": "2021-07-07T16:58:36.219Z"
   },
   {
    "duration": 49,
    "start_time": "2021-07-07T16:58:36.240Z"
   },
   {
    "duration": 6,
    "start_time": "2021-07-07T16:58:36.291Z"
   },
   {
    "duration": 3,
    "start_time": "2021-07-07T16:58:36.299Z"
   },
   {
    "duration": 13,
    "start_time": "2021-07-07T16:58:36.304Z"
   },
   {
    "duration": 10,
    "start_time": "2021-07-07T16:58:36.319Z"
   },
   {
    "duration": 10,
    "start_time": "2021-07-07T16:58:36.331Z"
   },
   {
    "duration": 44,
    "start_time": "2021-07-07T16:58:36.343Z"
   },
   {
    "duration": 4,
    "start_time": "2021-07-07T16:58:36.388Z"
   },
   {
    "duration": 13,
    "start_time": "2021-07-07T16:58:36.394Z"
   },
   {
    "duration": 16,
    "start_time": "2021-07-07T16:58:36.410Z"
   },
   {
    "duration": 8,
    "start_time": "2021-07-07T17:02:31.629Z"
   },
   {
    "duration": 8,
    "start_time": "2021-07-07T17:02:34.308Z"
   },
   {
    "duration": 6,
    "start_time": "2021-07-07T17:05:13.483Z"
   },
   {
    "duration": 17,
    "start_time": "2021-07-07T17:05:20.606Z"
   },
   {
    "duration": 7,
    "start_time": "2021-07-07T17:05:34.638Z"
   },
   {
    "duration": 3,
    "start_time": "2021-07-07T17:06:31.883Z"
   },
   {
    "duration": 570,
    "start_time": "2021-07-07T17:06:37.165Z"
   },
   {
    "duration": 174,
    "start_time": "2021-07-07T17:06:37.737Z"
   },
   {
    "duration": 47,
    "start_time": "2021-07-07T17:06:37.913Z"
   },
   {
    "duration": 3,
    "start_time": "2021-07-07T17:06:37.962Z"
   },
   {
    "duration": 27,
    "start_time": "2021-07-07T17:06:37.967Z"
   },
   {
    "duration": 7,
    "start_time": "2021-07-07T17:06:37.996Z"
   },
   {
    "duration": 16,
    "start_time": "2021-07-07T17:06:38.005Z"
   },
   {
    "duration": 6,
    "start_time": "2021-07-07T17:06:38.024Z"
   },
   {
    "duration": 12,
    "start_time": "2021-07-07T17:06:38.031Z"
   },
   {
    "duration": 41,
    "start_time": "2021-07-07T17:06:38.045Z"
   },
   {
    "duration": 8,
    "start_time": "2021-07-07T17:06:38.088Z"
   },
   {
    "duration": 26,
    "start_time": "2021-07-07T17:06:38.098Z"
   },
   {
    "duration": 17,
    "start_time": "2021-07-07T17:06:38.126Z"
   },
   {
    "duration": 43,
    "start_time": "2021-07-07T17:06:38.144Z"
   },
   {
    "duration": 6,
    "start_time": "2021-07-07T17:06:38.188Z"
   },
   {
    "duration": 5,
    "start_time": "2021-07-07T17:06:38.195Z"
   },
   {
    "duration": 9,
    "start_time": "2021-07-07T17:06:38.201Z"
   },
   {
    "duration": 12,
    "start_time": "2021-07-07T17:06:38.212Z"
   },
   {
    "duration": 11,
    "start_time": "2021-07-07T17:06:38.226Z"
   },
   {
    "duration": 47,
    "start_time": "2021-07-07T17:06:38.239Z"
   },
   {
    "duration": 4,
    "start_time": "2021-07-07T17:06:38.288Z"
   },
   {
    "duration": 13,
    "start_time": "2021-07-07T17:06:38.293Z"
   },
   {
    "duration": 5,
    "start_time": "2021-07-07T17:06:38.309Z"
   },
   {
    "duration": 18,
    "start_time": "2021-07-07T17:06:38.325Z"
   },
   {
    "duration": 20,
    "start_time": "2021-07-07T17:07:02.805Z"
   },
   {
    "duration": 19,
    "start_time": "2021-07-07T17:07:08.527Z"
   },
   {
    "duration": 19,
    "start_time": "2021-07-07T17:07:12.758Z"
   },
   {
    "duration": 22,
    "start_time": "2021-07-07T17:07:17.497Z"
   },
   {
    "duration": 19,
    "start_time": "2021-07-07T17:07:19.645Z"
   },
   {
    "duration": 10,
    "start_time": "2021-07-07T17:07:34.239Z"
   },
   {
    "duration": 17,
    "start_time": "2021-07-07T17:07:54.144Z"
   },
   {
    "duration": 14,
    "start_time": "2021-07-07T17:08:14.357Z"
   },
   {
    "duration": 616,
    "start_time": "2021-07-07T17:08:45.254Z"
   },
   {
    "duration": 178,
    "start_time": "2021-07-07T17:08:45.872Z"
   },
   {
    "duration": 60,
    "start_time": "2021-07-07T17:08:46.054Z"
   },
   {
    "duration": 3,
    "start_time": "2021-07-07T17:08:46.116Z"
   },
   {
    "duration": 26,
    "start_time": "2021-07-07T17:08:46.121Z"
   },
   {
    "duration": 7,
    "start_time": "2021-07-07T17:08:46.149Z"
   },
   {
    "duration": 17,
    "start_time": "2021-07-07T17:08:46.158Z"
   },
   {
    "duration": 14,
    "start_time": "2021-07-07T17:08:46.176Z"
   },
   {
    "duration": 17,
    "start_time": "2021-07-07T17:08:46.193Z"
   },
   {
    "duration": 9,
    "start_time": "2021-07-07T17:08:46.211Z"
   },
   {
    "duration": 21,
    "start_time": "2021-07-07T17:08:46.221Z"
   },
   {
    "duration": 49,
    "start_time": "2021-07-07T17:08:46.244Z"
   },
   {
    "duration": 24,
    "start_time": "2021-07-07T17:08:46.295Z"
   },
   {
    "duration": 22,
    "start_time": "2021-07-07T17:08:46.321Z"
   },
   {
    "duration": 6,
    "start_time": "2021-07-07T17:08:46.345Z"
   },
   {
    "duration": 5,
    "start_time": "2021-07-07T17:08:46.353Z"
   },
   {
    "duration": 13,
    "start_time": "2021-07-07T17:08:46.386Z"
   },
   {
    "duration": 12,
    "start_time": "2021-07-07T17:08:46.402Z"
   },
   {
    "duration": 10,
    "start_time": "2021-07-07T17:08:46.415Z"
   },
   {
    "duration": 7,
    "start_time": "2021-07-07T17:08:46.427Z"
   },
   {
    "duration": 8,
    "start_time": "2021-07-07T17:08:46.435Z"
   },
   {
    "duration": 68,
    "start_time": "2021-07-07T17:08:46.446Z"
   },
   {
    "duration": 13,
    "start_time": "2021-07-07T17:08:46.516Z"
   },
   {
    "duration": 78,
    "start_time": "2021-07-07T17:08:46.530Z"
   },
   {
    "duration": 40,
    "start_time": "2021-07-07T17:09:08.185Z"
   },
   {
    "duration": 16,
    "start_time": "2021-07-07T17:09:19.324Z"
   },
   {
    "duration": 21,
    "start_time": "2021-07-07T17:09:23.290Z"
   },
   {
    "duration": 13,
    "start_time": "2021-07-07T17:09:54.812Z"
   },
   {
    "duration": 13,
    "start_time": "2021-07-07T17:10:02.039Z"
   },
   {
    "duration": 10,
    "start_time": "2021-07-07T17:10:29.632Z"
   },
   {
    "duration": 13,
    "start_time": "2021-07-07T17:10:52.372Z"
   },
   {
    "duration": 13,
    "start_time": "2021-07-07T17:11:17.270Z"
   },
   {
    "duration": 13,
    "start_time": "2021-07-07T17:14:59.284Z"
   },
   {
    "duration": 547,
    "start_time": "2021-07-07T17:18:52.403Z"
   },
   {
    "duration": 163,
    "start_time": "2021-07-07T17:18:52.952Z"
   },
   {
    "duration": 44,
    "start_time": "2021-07-07T17:18:53.117Z"
   },
   {
    "duration": 3,
    "start_time": "2021-07-07T17:18:53.162Z"
   },
   {
    "duration": 26,
    "start_time": "2021-07-07T17:18:53.167Z"
   },
   {
    "duration": 6,
    "start_time": "2021-07-07T17:18:53.195Z"
   },
   {
    "duration": 15,
    "start_time": "2021-07-07T17:18:53.203Z"
   },
   {
    "duration": 5,
    "start_time": "2021-07-07T17:18:53.220Z"
   },
   {
    "duration": 11,
    "start_time": "2021-07-07T17:18:53.228Z"
   },
   {
    "duration": 9,
    "start_time": "2021-07-07T17:18:53.241Z"
   },
   {
    "duration": 41,
    "start_time": "2021-07-07T17:18:53.252Z"
   },
   {
    "duration": 33,
    "start_time": "2021-07-07T17:18:53.295Z"
   },
   {
    "duration": 19,
    "start_time": "2021-07-07T17:18:53.330Z"
   },
   {
    "duration": 49,
    "start_time": "2021-07-07T17:18:53.350Z"
   },
   {
    "duration": 5,
    "start_time": "2021-07-07T17:18:53.401Z"
   },
   {
    "duration": 5,
    "start_time": "2021-07-07T17:18:53.408Z"
   },
   {
    "duration": 11,
    "start_time": "2021-07-07T17:18:53.414Z"
   },
   {
    "duration": 9,
    "start_time": "2021-07-07T17:18:53.427Z"
   },
   {
    "duration": 10,
    "start_time": "2021-07-07T17:18:53.437Z"
   },
   {
    "duration": 39,
    "start_time": "2021-07-07T17:18:53.448Z"
   },
   {
    "duration": 26,
    "start_time": "2021-07-07T17:18:55.799Z"
   },
   {
    "duration": 598,
    "start_time": "2021-07-07T17:20:17.862Z"
   },
   {
    "duration": 161,
    "start_time": "2021-07-07T17:20:18.462Z"
   },
   {
    "duration": 45,
    "start_time": "2021-07-07T17:20:18.626Z"
   },
   {
    "duration": 4,
    "start_time": "2021-07-07T17:20:18.673Z"
   },
   {
    "duration": 38,
    "start_time": "2021-07-07T17:20:26.877Z"
   },
   {
    "duration": 7,
    "start_time": "2021-07-07T17:20:37.405Z"
   },
   {
    "duration": 19,
    "start_time": "2021-07-07T17:20:51.534Z"
   },
   {
    "duration": 5,
    "start_time": "2021-07-07T17:20:57.228Z"
   },
   {
    "duration": 7,
    "start_time": "2021-07-07T17:21:08.235Z"
   },
   {
    "duration": 19,
    "start_time": "2021-07-07T17:21:42.158Z"
   },
   {
    "duration": 14,
    "start_time": "2021-07-07T17:21:50.225Z"
   },
   {
    "duration": 22,
    "start_time": "2021-07-07T17:22:54.104Z"
   },
   {
    "duration": 5,
    "start_time": "2021-07-07T17:22:56.371Z"
   },
   {
    "duration": 14,
    "start_time": "2021-07-07T17:22:58.316Z"
   },
   {
    "duration": 5,
    "start_time": "2021-07-07T17:22:58.493Z"
   },
   {
    "duration": 35,
    "start_time": "2021-07-07T17:22:59.666Z"
   },
   {
    "duration": 6,
    "start_time": "2021-07-07T17:23:02.410Z"
   },
   {
    "duration": 611,
    "start_time": "2021-07-07T17:24:59.664Z"
   },
   {
    "duration": 178,
    "start_time": "2021-07-07T17:25:01.945Z"
   },
   {
    "duration": 47,
    "start_time": "2021-07-07T17:25:02.125Z"
   },
   {
    "duration": 2,
    "start_time": "2021-07-07T17:25:07.903Z"
   },
   {
    "duration": 254,
    "start_time": "2021-07-07T17:25:08.232Z"
   },
   {
    "duration": 182,
    "start_time": "2021-07-07T17:25:08.671Z"
   },
   {
    "duration": 6,
    "start_time": "2021-07-07T17:25:13.104Z"
   },
   {
    "duration": 36,
    "start_time": "2021-07-07T17:25:13.662Z"
   },
   {
    "duration": 7,
    "start_time": "2021-07-07T17:25:14.528Z"
   },
   {
    "duration": 24,
    "start_time": "2021-07-07T17:25:27.982Z"
   },
   {
    "duration": 3,
    "start_time": "2021-07-07T17:25:48.982Z"
   },
   {
    "duration": 165,
    "start_time": "2021-07-07T17:25:48.987Z"
   },
   {
    "duration": 50,
    "start_time": "2021-07-07T17:25:49.154Z"
   },
   {
    "duration": 4,
    "start_time": "2021-07-07T17:25:49.206Z"
   },
   {
    "duration": 26,
    "start_time": "2021-07-07T17:25:49.212Z"
   },
   {
    "duration": 7,
    "start_time": "2021-07-07T17:25:49.240Z"
   },
   {
    "duration": 16,
    "start_time": "2021-07-07T17:25:49.249Z"
   },
   {
    "duration": 22,
    "start_time": "2021-07-07T17:25:49.266Z"
   },
   {
    "duration": 16,
    "start_time": "2021-07-07T17:25:49.291Z"
   },
   {
    "duration": 9,
    "start_time": "2021-07-07T17:25:49.309Z"
   },
   {
    "duration": 7,
    "start_time": "2021-07-07T17:25:49.319Z"
   },
   {
    "duration": 28,
    "start_time": "2021-07-07T17:25:49.328Z"
   },
   {
    "duration": 44,
    "start_time": "2021-07-07T17:25:49.357Z"
   },
   {
    "duration": 22,
    "start_time": "2021-07-07T17:25:49.403Z"
   },
   {
    "duration": 7,
    "start_time": "2021-07-07T17:25:49.427Z"
   },
   {
    "duration": 3,
    "start_time": "2021-07-07T17:25:49.436Z"
   },
   {
    "duration": 44,
    "start_time": "2021-07-07T17:25:49.441Z"
   },
   {
    "duration": 12,
    "start_time": "2021-07-07T17:25:49.488Z"
   },
   {
    "duration": 13,
    "start_time": "2021-07-07T17:25:49.502Z"
   },
   {
    "duration": 10,
    "start_time": "2021-07-07T17:25:49.516Z"
   },
   {
    "duration": 62,
    "start_time": "2021-07-07T17:25:49.527Z"
   },
   {
    "duration": 26,
    "start_time": "2021-07-07T17:26:51.809Z"
   },
   {
    "duration": 26,
    "start_time": "2021-07-07T17:26:55.759Z"
   },
   {
    "duration": 26,
    "start_time": "2021-07-07T17:27:04.501Z"
   },
   {
    "duration": 25,
    "start_time": "2021-07-07T17:28:24.859Z"
   },
   {
    "duration": 21,
    "start_time": "2021-07-07T17:28:55.250Z"
   },
   {
    "duration": 21,
    "start_time": "2021-07-07T17:28:58.885Z"
   },
   {
    "duration": 7,
    "start_time": "2021-07-07T17:45:40.972Z"
   },
   {
    "duration": 13,
    "start_time": "2021-07-07T17:45:42.529Z"
   },
   {
    "duration": 27,
    "start_time": "2021-07-07T17:45:51.026Z"
   },
   {
    "duration": 518,
    "start_time": "2021-07-07T17:46:15.532Z"
   },
   {
    "duration": 235,
    "start_time": "2021-07-07T17:46:16.053Z"
   },
   {
    "duration": 80,
    "start_time": "2021-07-07T17:46:16.292Z"
   },
   {
    "duration": 5,
    "start_time": "2021-07-07T17:46:16.373Z"
   },
   {
    "duration": 26,
    "start_time": "2021-07-07T17:46:16.380Z"
   },
   {
    "duration": 7,
    "start_time": "2021-07-07T17:46:16.408Z"
   },
   {
    "duration": 16,
    "start_time": "2021-07-07T17:46:16.418Z"
   },
   {
    "duration": 5,
    "start_time": "2021-07-07T17:46:16.436Z"
   },
   {
    "duration": 13,
    "start_time": "2021-07-07T17:46:16.442Z"
   },
   {
    "duration": 35,
    "start_time": "2021-07-07T17:46:16.456Z"
   },
   {
    "duration": 8,
    "start_time": "2021-07-07T17:46:16.493Z"
   },
   {
    "duration": 28,
    "start_time": "2021-07-07T17:46:16.502Z"
   },
   {
    "duration": 17,
    "start_time": "2021-07-07T17:46:16.532Z"
   },
   {
    "duration": 44,
    "start_time": "2021-07-07T17:46:16.551Z"
   },
   {
    "duration": 6,
    "start_time": "2021-07-07T17:46:16.597Z"
   },
   {
    "duration": 4,
    "start_time": "2021-07-07T17:46:16.605Z"
   },
   {
    "duration": 9,
    "start_time": "2021-07-07T17:46:16.610Z"
   },
   {
    "duration": 9,
    "start_time": "2021-07-07T17:46:16.621Z"
   },
   {
    "duration": 10,
    "start_time": "2021-07-07T17:46:16.632Z"
   },
   {
    "duration": 43,
    "start_time": "2021-07-07T17:46:16.644Z"
   },
   {
    "duration": 26,
    "start_time": "2021-07-07T17:46:16.689Z"
   },
   {
    "duration": 19,
    "start_time": "2021-07-07T17:46:16.718Z"
   },
   {
    "duration": 8,
    "start_time": "2021-07-07T17:46:16.738Z"
   },
   {
    "duration": 43,
    "start_time": "2021-07-07T17:46:16.747Z"
   },
   {
    "duration": 19,
    "start_time": "2021-07-07T17:46:16.791Z"
   },
   {
    "duration": 9,
    "start_time": "2021-07-07T17:46:16.812Z"
   },
   {
    "duration": 60,
    "start_time": "2021-07-07T17:46:16.822Z"
   },
   {
    "duration": -8,
    "start_time": "2021-07-07T17:46:16.892Z"
   },
   {
    "duration": 12,
    "start_time": "2021-07-07T17:48:47.707Z"
   },
   {
    "duration": 553,
    "start_time": "2021-07-07T18:10:09.350Z"
   },
   {
    "duration": 230,
    "start_time": "2021-07-07T18:10:09.905Z"
   },
   {
    "duration": 97,
    "start_time": "2021-07-07T18:10:10.137Z"
   },
   {
    "duration": 5,
    "start_time": "2021-07-07T18:10:10.236Z"
   },
   {
    "duration": 29,
    "start_time": "2021-07-07T18:10:10.242Z"
   },
   {
    "duration": 7,
    "start_time": "2021-07-07T18:10:10.272Z"
   },
   {
    "duration": 15,
    "start_time": "2021-07-07T18:10:10.281Z"
   },
   {
    "duration": 4,
    "start_time": "2021-07-07T18:10:10.299Z"
   },
   {
    "duration": 14,
    "start_time": "2021-07-07T18:10:10.305Z"
   },
   {
    "duration": 8,
    "start_time": "2021-07-07T18:10:10.321Z"
   },
   {
    "duration": 8,
    "start_time": "2021-07-07T18:10:10.331Z"
   },
   {
    "duration": 56,
    "start_time": "2021-07-07T18:10:10.341Z"
   },
   {
    "duration": 19,
    "start_time": "2021-07-07T18:10:10.399Z"
   },
   {
    "duration": 23,
    "start_time": "2021-07-07T18:10:10.419Z"
   },
   {
    "duration": 6,
    "start_time": "2021-07-07T18:10:10.444Z"
   },
   {
    "duration": 9,
    "start_time": "2021-07-07T18:10:10.451Z"
   },
   {
    "duration": 30,
    "start_time": "2021-07-07T18:10:10.462Z"
   },
   {
    "duration": 9,
    "start_time": "2021-07-07T18:10:10.494Z"
   },
   {
    "duration": 14,
    "start_time": "2021-07-07T18:10:10.505Z"
   },
   {
    "duration": 7,
    "start_time": "2021-07-07T18:10:10.521Z"
   },
   {
    "duration": 26,
    "start_time": "2021-07-07T18:10:10.530Z"
   },
   {
    "duration": 44,
    "start_time": "2021-07-07T18:10:10.558Z"
   },
   {
    "duration": 7,
    "start_time": "2021-07-07T18:10:10.605Z"
   },
   {
    "duration": 11,
    "start_time": "2021-07-07T18:10:10.614Z"
   },
   {
    "duration": 19,
    "start_time": "2021-07-07T18:10:10.626Z"
   },
   {
    "duration": 44,
    "start_time": "2021-07-07T18:10:10.646Z"
   },
   {
    "duration": 516,
    "start_time": "2021-07-07T18:14:00.826Z"
   },
   {
    "duration": 230,
    "start_time": "2021-07-07T18:14:01.344Z"
   },
   {
    "duration": 105,
    "start_time": "2021-07-07T18:14:01.576Z"
   },
   {
    "duration": 5,
    "start_time": "2021-07-07T18:14:01.683Z"
   },
   {
    "duration": 46,
    "start_time": "2021-07-07T18:14:01.690Z"
   },
   {
    "duration": 7,
    "start_time": "2021-07-07T18:14:01.738Z"
   },
   {
    "duration": 20,
    "start_time": "2021-07-07T18:14:01.747Z"
   },
   {
    "duration": 16,
    "start_time": "2021-07-07T18:14:01.769Z"
   },
   {
    "duration": 14,
    "start_time": "2021-07-07T18:14:01.787Z"
   },
   {
    "duration": 15,
    "start_time": "2021-07-07T18:14:01.803Z"
   },
   {
    "duration": 12,
    "start_time": "2021-07-07T18:14:01.820Z"
   },
   {
    "duration": 35,
    "start_time": "2021-07-07T18:14:01.833Z"
   },
   {
    "duration": 31,
    "start_time": "2021-07-07T18:14:01.869Z"
   },
   {
    "duration": 37,
    "start_time": "2021-07-07T18:14:01.902Z"
   },
   {
    "duration": 8,
    "start_time": "2021-07-07T18:14:01.942Z"
   },
   {
    "duration": 16,
    "start_time": "2021-07-07T18:14:01.952Z"
   },
   {
    "duration": 13,
    "start_time": "2021-07-07T18:14:01.970Z"
   },
   {
    "duration": 32,
    "start_time": "2021-07-07T18:14:01.985Z"
   },
   {
    "duration": 11,
    "start_time": "2021-07-07T18:14:02.019Z"
   },
   {
    "duration": 22,
    "start_time": "2021-07-07T18:14:02.031Z"
   },
   {
    "duration": 27,
    "start_time": "2021-07-07T18:14:02.055Z"
   },
   {
    "duration": 18,
    "start_time": "2021-07-07T18:14:02.084Z"
   },
   {
    "duration": 18,
    "start_time": "2021-07-07T18:14:02.106Z"
   },
   {
    "duration": 11,
    "start_time": "2021-07-07T18:14:02.126Z"
   },
   {
    "duration": 21,
    "start_time": "2021-07-07T18:14:02.138Z"
   },
   {
    "duration": 32,
    "start_time": "2021-07-07T18:14:02.161Z"
   },
   {
    "duration": 28,
    "start_time": "2021-07-07T18:14:44.295Z"
   },
   {
    "duration": 6,
    "start_time": "2021-07-07T18:15:05.834Z"
   },
   {
    "duration": 511,
    "start_time": "2021-07-07T18:15:41.541Z"
   },
   {
    "duration": 183,
    "start_time": "2021-07-07T18:15:42.054Z"
   },
   {
    "duration": 50,
    "start_time": "2021-07-07T18:15:42.239Z"
   },
   {
    "duration": 5,
    "start_time": "2021-07-07T18:15:42.291Z"
   },
   {
    "duration": 48,
    "start_time": "2021-07-07T18:15:42.297Z"
   },
   {
    "duration": 8,
    "start_time": "2021-07-07T18:15:42.346Z"
   },
   {
    "duration": 17,
    "start_time": "2021-07-07T18:15:42.356Z"
   },
   {
    "duration": 15,
    "start_time": "2021-07-07T18:15:42.375Z"
   },
   {
    "duration": 12,
    "start_time": "2021-07-07T18:15:42.392Z"
   },
   {
    "duration": 7,
    "start_time": "2021-07-07T18:15:42.406Z"
   },
   {
    "duration": 7,
    "start_time": "2021-07-07T18:15:42.415Z"
   },
   {
    "duration": 29,
    "start_time": "2021-07-07T18:15:42.423Z"
   },
   {
    "duration": 43,
    "start_time": "2021-07-07T18:15:42.453Z"
   },
   {
    "duration": 18,
    "start_time": "2021-07-07T18:15:42.497Z"
   },
   {
    "duration": 6,
    "start_time": "2021-07-07T18:15:42.516Z"
   },
   {
    "duration": 3,
    "start_time": "2021-07-07T18:15:42.523Z"
   },
   {
    "duration": 18,
    "start_time": "2021-07-07T18:15:42.528Z"
   },
   {
    "duration": 10,
    "start_time": "2021-07-07T18:15:42.547Z"
   },
   {
    "duration": 36,
    "start_time": "2021-07-07T18:15:42.559Z"
   },
   {
    "duration": 8,
    "start_time": "2021-07-07T18:15:42.597Z"
   },
   {
    "duration": 28,
    "start_time": "2021-07-07T18:15:42.606Z"
   },
   {
    "duration": 52,
    "start_time": "2021-07-07T18:15:42.635Z"
   },
   {
    "duration": 7,
    "start_time": "2021-07-07T18:15:42.690Z"
   },
   {
    "duration": 10,
    "start_time": "2021-07-07T18:15:42.699Z"
   },
   {
    "duration": 19,
    "start_time": "2021-07-07T18:15:42.711Z"
   },
   {
    "duration": 9,
    "start_time": "2021-07-07T18:15:42.732Z"
   },
   {
    "duration": 5,
    "start_time": "2021-07-07T18:15:42.743Z"
   },
   {
    "duration": 1450,
    "start_time": "2021-07-07T18:15:51.984Z"
   },
   {
    "duration": 161,
    "start_time": "2021-07-07T18:15:53.435Z"
   },
   {
    "duration": 124,
    "start_time": "2021-07-07T18:15:53.598Z"
   },
   {
    "duration": 5,
    "start_time": "2021-07-07T18:15:53.724Z"
   },
   {
    "duration": 34,
    "start_time": "2021-07-07T18:15:53.730Z"
   },
   {
    "duration": 7,
    "start_time": "2021-07-07T18:15:53.765Z"
   },
   {
    "duration": 15,
    "start_time": "2021-07-07T18:15:53.773Z"
   },
   {
    "duration": 5,
    "start_time": "2021-07-07T18:15:53.791Z"
   },
   {
    "duration": 19,
    "start_time": "2021-07-07T18:15:53.798Z"
   },
   {
    "duration": 9,
    "start_time": "2021-07-07T18:15:53.818Z"
   },
   {
    "duration": 19,
    "start_time": "2021-07-07T18:15:53.828Z"
   },
   {
    "duration": 27,
    "start_time": "2021-07-07T18:15:53.848Z"
   },
   {
    "duration": 16,
    "start_time": "2021-07-07T18:15:53.884Z"
   },
   {
    "duration": 29,
    "start_time": "2021-07-07T18:15:53.901Z"
   },
   {
    "duration": 5,
    "start_time": "2021-07-07T18:15:53.932Z"
   },
   {
    "duration": 15,
    "start_time": "2021-07-07T18:15:53.939Z"
   },
   {
    "duration": 13,
    "start_time": "2021-07-07T18:15:53.956Z"
   },
   {
    "duration": 20,
    "start_time": "2021-07-07T18:15:53.971Z"
   },
   {
    "duration": 14,
    "start_time": "2021-07-07T18:15:53.992Z"
   },
   {
    "duration": 9,
    "start_time": "2021-07-07T18:15:54.009Z"
   },
   {
    "duration": 28,
    "start_time": "2021-07-07T18:15:54.020Z"
   },
   {
    "duration": 50,
    "start_time": "2021-07-07T18:15:54.051Z"
   },
   {
    "duration": 8,
    "start_time": "2021-07-07T18:15:54.105Z"
   },
   {
    "duration": 11,
    "start_time": "2021-07-07T18:15:54.115Z"
   },
   {
    "duration": 20,
    "start_time": "2021-07-07T18:15:54.128Z"
   },
   {
    "duration": 13,
    "start_time": "2021-07-07T18:15:54.184Z"
   },
   {
    "duration": 7,
    "start_time": "2021-07-07T18:15:54.199Z"
   },
   {
    "duration": 7,
    "start_time": "2021-07-07T18:17:08.042Z"
   },
   {
    "duration": 8,
    "start_time": "2021-07-07T18:17:21.008Z"
   },
   {
    "duration": 7,
    "start_time": "2021-07-07T18:17:29.003Z"
   },
   {
    "duration": 8,
    "start_time": "2021-07-07T18:17:32.492Z"
   },
   {
    "duration": 9,
    "start_time": "2021-07-07T18:17:41.758Z"
   },
   {
    "duration": 255,
    "start_time": "2021-07-07T18:20:20.897Z"
   },
   {
    "duration": 173,
    "start_time": "2021-07-07T18:20:26.636Z"
   },
   {
    "duration": 7,
    "start_time": "2021-07-07T18:21:47.164Z"
   },
   {
    "duration": 254,
    "start_time": "2021-07-07T18:23:08.703Z"
   },
   {
    "duration": 21,
    "start_time": "2021-07-07T18:23:22.506Z"
   },
   {
    "duration": 315,
    "start_time": "2021-07-07T18:25:54.801Z"
   },
   {
    "duration": 34,
    "start_time": "2021-07-07T18:26:51.817Z"
   },
   {
    "duration": 327,
    "start_time": "2021-07-07T18:26:56.147Z"
   },
   {
    "duration": 342,
    "start_time": "2021-07-07T18:27:15.887Z"
   },
   {
    "duration": 302,
    "start_time": "2021-07-07T18:28:18.569Z"
   },
   {
    "duration": 226,
    "start_time": "2021-07-07T18:29:20.879Z"
   },
   {
    "duration": 207,
    "start_time": "2021-07-07T18:29:58.114Z"
   },
   {
    "duration": 140,
    "start_time": "2021-07-07T18:32:04.372Z"
   },
   {
    "duration": 158,
    "start_time": "2021-07-07T18:32:32.508Z"
   },
   {
    "duration": 145,
    "start_time": "2021-07-07T18:32:41.365Z"
   },
   {
    "duration": 132,
    "start_time": "2021-07-07T18:32:45.199Z"
   },
   {
    "duration": 11,
    "start_time": "2021-07-07T18:35:24.679Z"
   },
   {
    "duration": 268,
    "start_time": "2021-07-07T18:36:16.145Z"
   },
   {
    "duration": 227,
    "start_time": "2021-07-07T18:37:04.918Z"
   },
   {
    "duration": 3,
    "start_time": "2021-07-07T18:37:33.012Z"
   },
   {
    "duration": 671,
    "start_time": "2021-07-07T18:37:38.295Z"
   },
   {
    "duration": 54,
    "start_time": "2021-07-07T18:37:53.406Z"
   },
   {
    "duration": 631,
    "start_time": "2021-07-07T18:37:56.463Z"
   },
   {
    "duration": 19,
    "start_time": "2021-07-07T18:39:40.535Z"
   },
   {
    "duration": 20,
    "start_time": "2021-07-07T18:40:12.236Z"
   },
   {
    "duration": 633,
    "start_time": "2021-07-07T18:42:00.398Z"
   },
   {
    "duration": 218,
    "start_time": "2021-07-07T18:42:01.033Z"
   },
   {
    "duration": 49,
    "start_time": "2021-07-07T18:42:01.253Z"
   },
   {
    "duration": 5,
    "start_time": "2021-07-07T18:42:01.303Z"
   },
   {
    "duration": 27,
    "start_time": "2021-07-07T18:42:01.310Z"
   },
   {
    "duration": 8,
    "start_time": "2021-07-07T18:42:01.339Z"
   },
   {
    "duration": 20,
    "start_time": "2021-07-07T18:42:01.348Z"
   },
   {
    "duration": 6,
    "start_time": "2021-07-07T18:42:01.386Z"
   },
   {
    "duration": 16,
    "start_time": "2021-07-07T18:42:01.394Z"
   },
   {
    "duration": 9,
    "start_time": "2021-07-07T18:42:01.411Z"
   },
   {
    "duration": 11,
    "start_time": "2021-07-07T18:42:01.421Z"
   },
   {
    "duration": 31,
    "start_time": "2021-07-07T18:42:01.434Z"
   },
   {
    "duration": 18,
    "start_time": "2021-07-07T18:42:01.485Z"
   },
   {
    "duration": 23,
    "start_time": "2021-07-07T18:42:01.505Z"
   },
   {
    "duration": 6,
    "start_time": "2021-07-07T18:42:01.530Z"
   },
   {
    "duration": 10,
    "start_time": "2021-07-07T18:42:01.538Z"
   },
   {
    "duration": 13,
    "start_time": "2021-07-07T18:42:01.550Z"
   },
   {
    "duration": 24,
    "start_time": "2021-07-07T18:42:01.564Z"
   },
   {
    "duration": 20,
    "start_time": "2021-07-07T18:42:01.590Z"
   },
   {
    "duration": 8,
    "start_time": "2021-07-07T18:42:01.611Z"
   },
   {
    "duration": 31,
    "start_time": "2021-07-07T18:42:01.620Z"
   },
   {
    "duration": 39,
    "start_time": "2021-07-07T18:42:01.653Z"
   },
   {
    "duration": 8,
    "start_time": "2021-07-07T18:42:01.696Z"
   },
   {
    "duration": 13,
    "start_time": "2021-07-07T18:42:01.705Z"
   },
   {
    "duration": 20,
    "start_time": "2021-07-07T18:42:01.720Z"
   },
   {
    "duration": 12,
    "start_time": "2021-07-07T18:42:01.741Z"
   },
   {
    "duration": 35,
    "start_time": "2021-07-07T18:42:01.755Z"
   },
   {
    "duration": 14,
    "start_time": "2021-07-07T18:42:01.792Z"
   },
   {
    "duration": 188,
    "start_time": "2021-07-07T18:42:01.808Z"
   },
   {
    "duration": 19,
    "start_time": "2021-07-07T18:42:01.998Z"
   },
   {
    "duration": 175,
    "start_time": "2021-07-07T18:42:02.019Z"
   },
   {
    "duration": 134,
    "start_time": "2021-07-07T18:42:02.196Z"
   },
   {
    "duration": 10,
    "start_time": "2021-07-07T18:42:02.331Z"
   },
   {
    "duration": 19,
    "start_time": "2021-07-07T18:42:02.343Z"
   },
   {
    "duration": 628,
    "start_time": "2021-07-07T18:46:30.701Z"
   },
   {
    "duration": 183,
    "start_time": "2021-07-07T18:46:31.331Z"
   },
   {
    "duration": 48,
    "start_time": "2021-07-07T18:46:31.516Z"
   },
   {
    "duration": 5,
    "start_time": "2021-07-07T18:46:31.566Z"
   },
   {
    "duration": 28,
    "start_time": "2021-07-07T18:46:31.572Z"
   },
   {
    "duration": 8,
    "start_time": "2021-07-07T18:46:31.602Z"
   },
   {
    "duration": 19,
    "start_time": "2021-07-07T18:46:31.611Z"
   },
   {
    "duration": 6,
    "start_time": "2021-07-07T18:46:31.633Z"
   },
   {
    "duration": 17,
    "start_time": "2021-07-07T18:46:31.642Z"
   },
   {
    "duration": 10,
    "start_time": "2021-07-07T18:46:31.684Z"
   },
   {
    "duration": 9,
    "start_time": "2021-07-07T18:46:31.695Z"
   },
   {
    "duration": 28,
    "start_time": "2021-07-07T18:46:31.705Z"
   },
   {
    "duration": 18,
    "start_time": "2021-07-07T18:46:31.735Z"
   },
   {
    "duration": 48,
    "start_time": "2021-07-07T18:46:31.755Z"
   },
   {
    "duration": 6,
    "start_time": "2021-07-07T18:46:31.804Z"
   },
   {
    "duration": 4,
    "start_time": "2021-07-07T18:46:31.812Z"
   },
   {
    "duration": 9,
    "start_time": "2021-07-07T18:46:31.817Z"
   },
   {
    "duration": 10,
    "start_time": "2021-07-07T18:46:31.827Z"
   },
   {
    "duration": 12,
    "start_time": "2021-07-07T18:46:31.838Z"
   },
   {
    "duration": 39,
    "start_time": "2021-07-07T18:46:31.851Z"
   },
   {
    "duration": 24,
    "start_time": "2021-07-07T18:46:31.892Z"
   },
   {
    "duration": 15,
    "start_time": "2021-07-07T18:46:31.918Z"
   },
   {
    "duration": 7,
    "start_time": "2021-07-07T18:46:31.936Z"
   },
   {
    "duration": 8,
    "start_time": "2021-07-07T18:46:31.944Z"
   },
   {
    "duration": 19,
    "start_time": "2021-07-07T18:46:31.984Z"
   },
   {
    "duration": 10,
    "start_time": "2021-07-07T18:46:32.004Z"
   },
   {
    "duration": 5,
    "start_time": "2021-07-07T18:46:32.016Z"
   },
   {
    "duration": 9,
    "start_time": "2021-07-07T18:46:32.023Z"
   },
   {
    "duration": 199,
    "start_time": "2021-07-07T18:46:32.033Z"
   },
   {
    "duration": 19,
    "start_time": "2021-07-07T18:46:32.234Z"
   },
   {
    "duration": 159,
    "start_time": "2021-07-07T18:46:32.255Z"
   },
   {
    "duration": 134,
    "start_time": "2021-07-07T18:46:32.416Z"
   },
   {
    "duration": 10,
    "start_time": "2021-07-07T18:46:32.552Z"
   },
   {
    "duration": 34,
    "start_time": "2021-07-07T18:46:32.563Z"
   },
   {
    "duration": 1039,
    "start_time": "2021-07-08T08:41:09.419Z"
   },
   {
    "duration": 333,
    "start_time": "2021-07-08T08:41:10.459Z"
   },
   {
    "duration": 173,
    "start_time": "2021-07-08T08:41:10.794Z"
   },
   {
    "duration": 5,
    "start_time": "2021-07-08T08:41:10.968Z"
   },
   {
    "duration": 25,
    "start_time": "2021-07-08T08:41:10.975Z"
   },
   {
    "duration": 9,
    "start_time": "2021-07-08T08:41:11.002Z"
   },
   {
    "duration": 18,
    "start_time": "2021-07-08T08:41:11.013Z"
   },
   {
    "duration": 6,
    "start_time": "2021-07-08T08:41:11.033Z"
   },
   {
    "duration": 44,
    "start_time": "2021-07-08T08:41:11.042Z"
   },
   {
    "duration": 10,
    "start_time": "2021-07-08T08:41:11.088Z"
   },
   {
    "duration": 9,
    "start_time": "2021-07-08T08:41:11.100Z"
   },
   {
    "duration": 27,
    "start_time": "2021-07-08T08:41:11.111Z"
   },
   {
    "duration": 46,
    "start_time": "2021-07-08T08:41:11.140Z"
   },
   {
    "duration": 17,
    "start_time": "2021-07-08T08:41:11.187Z"
   },
   {
    "duration": 6,
    "start_time": "2021-07-08T08:41:11.206Z"
   },
   {
    "duration": 5,
    "start_time": "2021-07-08T08:41:11.213Z"
   },
   {
    "duration": 10,
    "start_time": "2021-07-08T08:41:11.219Z"
   },
   {
    "duration": 9,
    "start_time": "2021-07-08T08:41:11.230Z"
   },
   {
    "duration": 45,
    "start_time": "2021-07-08T08:41:11.241Z"
   },
   {
    "duration": 7,
    "start_time": "2021-07-08T08:41:11.287Z"
   },
   {
    "duration": 24,
    "start_time": "2021-07-08T08:41:11.296Z"
   },
   {
    "duration": 16,
    "start_time": "2021-07-08T08:41:11.322Z"
   },
   {
    "duration": 7,
    "start_time": "2021-07-08T08:41:11.341Z"
   },
   {
    "duration": 41,
    "start_time": "2021-07-08T08:41:11.349Z"
   },
   {
    "duration": 17,
    "start_time": "2021-07-08T08:41:11.391Z"
   },
   {
    "duration": 9,
    "start_time": "2021-07-08T08:41:11.410Z"
   },
   {
    "duration": 5,
    "start_time": "2021-07-08T08:41:11.421Z"
   },
   {
    "duration": 6,
    "start_time": "2021-07-08T08:41:11.428Z"
   },
   {
    "duration": 198,
    "start_time": "2021-07-08T08:41:11.435Z"
   },
   {
    "duration": 18,
    "start_time": "2021-07-08T08:41:11.635Z"
   },
   {
    "duration": 155,
    "start_time": "2021-07-08T08:41:11.655Z"
   },
   {
    "duration": 138,
    "start_time": "2021-07-08T08:41:11.811Z"
   },
   {
    "duration": 10,
    "start_time": "2021-07-08T08:41:11.950Z"
   },
   {
    "duration": 29,
    "start_time": "2021-07-08T08:41:11.961Z"
   },
   {
    "duration": 171,
    "start_time": "2021-07-08T08:47:44.522Z"
   },
   {
    "duration": 124,
    "start_time": "2021-07-08T08:47:46.872Z"
   },
   {
    "duration": 191,
    "start_time": "2021-07-08T08:47:58.148Z"
   },
   {
    "duration": 191,
    "start_time": "2021-07-08T08:48:07.412Z"
   },
   {
    "duration": 261,
    "start_time": "2021-07-08T08:48:10.385Z"
   },
   {
    "duration": 255,
    "start_time": "2021-07-08T08:48:14.494Z"
   },
   {
    "duration": 219,
    "start_time": "2021-07-08T08:48:22.752Z"
   },
   {
    "duration": 173,
    "start_time": "2021-07-08T08:49:06.395Z"
   },
   {
    "duration": 180,
    "start_time": "2021-07-08T08:49:21.011Z"
   },
   {
    "duration": 6,
    "start_time": "2021-07-08T08:50:31.697Z"
   },
   {
    "duration": 10,
    "start_time": "2021-07-08T08:50:47.394Z"
   },
   {
    "duration": 11,
    "start_time": "2021-07-08T08:53:49.332Z"
   },
   {
    "duration": 171,
    "start_time": "2021-07-08T08:54:28.408Z"
   },
   {
    "duration": 636,
    "start_time": "2021-07-08T09:02:48.385Z"
   },
   {
    "duration": 227,
    "start_time": "2021-07-08T09:02:49.023Z"
   },
   {
    "duration": 104,
    "start_time": "2021-07-08T09:02:49.252Z"
   },
   {
    "duration": 5,
    "start_time": "2021-07-08T09:02:49.358Z"
   },
   {
    "duration": 27,
    "start_time": "2021-07-08T09:02:49.365Z"
   },
   {
    "duration": 8,
    "start_time": "2021-07-08T09:02:49.394Z"
   },
   {
    "duration": 18,
    "start_time": "2021-07-08T09:02:49.404Z"
   },
   {
    "duration": 6,
    "start_time": "2021-07-08T09:02:49.424Z"
   },
   {
    "duration": 11,
    "start_time": "2021-07-08T09:02:49.433Z"
   },
   {
    "duration": 13,
    "start_time": "2021-07-08T09:02:49.485Z"
   },
   {
    "duration": 9,
    "start_time": "2021-07-08T09:02:49.500Z"
   },
   {
    "duration": 38,
    "start_time": "2021-07-08T09:02:49.511Z"
   },
   {
    "duration": 42,
    "start_time": "2021-07-08T09:02:49.551Z"
   },
   {
    "duration": 21,
    "start_time": "2021-07-08T09:02:49.594Z"
   },
   {
    "duration": 6,
    "start_time": "2021-07-08T09:02:49.616Z"
   },
   {
    "duration": 3,
    "start_time": "2021-07-08T09:02:49.623Z"
   },
   {
    "duration": 9,
    "start_time": "2021-07-08T09:02:49.628Z"
   },
   {
    "duration": 52,
    "start_time": "2021-07-08T09:02:49.638Z"
   },
   {
    "duration": 11,
    "start_time": "2021-07-08T09:02:49.692Z"
   },
   {
    "duration": 8,
    "start_time": "2021-07-08T09:02:49.704Z"
   },
   {
    "duration": 27,
    "start_time": "2021-07-08T09:02:49.713Z"
   },
   {
    "duration": 59,
    "start_time": "2021-07-08T09:02:49.741Z"
   },
   {
    "duration": 8,
    "start_time": "2021-07-08T09:02:49.803Z"
   },
   {
    "duration": 14,
    "start_time": "2021-07-08T09:02:49.813Z"
   },
   {
    "duration": 20,
    "start_time": "2021-07-08T09:02:49.829Z"
   },
   {
    "duration": 44,
    "start_time": "2021-07-08T09:02:49.851Z"
   },
   {
    "duration": 14,
    "start_time": "2021-07-08T09:02:49.896Z"
   },
   {
    "duration": 221,
    "start_time": "2021-07-08T09:02:49.912Z"
   },
   {
    "duration": 6,
    "start_time": "2021-07-08T09:02:50.134Z"
   },
   {
    "duration": 206,
    "start_time": "2021-07-08T09:02:50.142Z"
   },
   {
    "duration": 19,
    "start_time": "2021-07-08T09:02:50.350Z"
   },
   {
    "duration": 21,
    "start_time": "2021-07-08T09:02:50.370Z"
   },
   {
    "duration": 20,
    "start_time": "2021-07-08T09:02:50.393Z"
   },
   {
    "duration": 5,
    "start_time": "2021-07-08T09:02:50.414Z"
   },
   {
    "duration": 5,
    "start_time": "2021-07-08T09:03:34.173Z"
   },
   {
    "duration": 6,
    "start_time": "2021-07-08T09:04:49.062Z"
   },
   {
    "duration": 9,
    "start_time": "2021-07-08T09:04:50.118Z"
   },
   {
    "duration": 14,
    "start_time": "2021-07-08T09:04:58.512Z"
   },
   {
    "duration": 9,
    "start_time": "2021-07-08T09:05:10.988Z"
   },
   {
    "duration": 11,
    "start_time": "2021-07-08T09:05:11.743Z"
   },
   {
    "duration": 7,
    "start_time": "2021-07-08T09:05:25.677Z"
   },
   {
    "duration": 13,
    "start_time": "2021-07-08T09:05:47.189Z"
   },
   {
    "duration": 13,
    "start_time": "2021-07-08T09:05:54.755Z"
   },
   {
    "duration": 4,
    "start_time": "2021-07-08T09:06:29.189Z"
   },
   {
    "duration": 244,
    "start_time": "2021-07-08T09:06:29.195Z"
   },
   {
    "duration": 91,
    "start_time": "2021-07-08T09:06:29.441Z"
   },
   {
    "duration": 4,
    "start_time": "2021-07-08T09:06:29.534Z"
   },
   {
    "duration": 28,
    "start_time": "2021-07-08T09:06:29.540Z"
   },
   {
    "duration": 6,
    "start_time": "2021-07-08T09:06:29.570Z"
   },
   {
    "duration": 18,
    "start_time": "2021-07-08T09:06:29.578Z"
   },
   {
    "duration": 5,
    "start_time": "2021-07-08T09:06:29.597Z"
   },
   {
    "duration": 13,
    "start_time": "2021-07-08T09:06:29.605Z"
   },
   {
    "duration": 8,
    "start_time": "2021-07-08T09:06:29.620Z"
   },
   {
    "duration": 7,
    "start_time": "2021-07-08T09:06:29.630Z"
   },
   {
    "duration": 63,
    "start_time": "2021-07-08T09:06:29.639Z"
   },
   {
    "duration": 17,
    "start_time": "2021-07-08T09:06:29.704Z"
   },
   {
    "duration": 20,
    "start_time": "2021-07-08T09:06:29.723Z"
   },
   {
    "duration": 6,
    "start_time": "2021-07-08T09:06:29.745Z"
   },
   {
    "duration": 3,
    "start_time": "2021-07-08T09:06:29.752Z"
   },
   {
    "duration": 7,
    "start_time": "2021-07-08T09:06:29.785Z"
   },
   {
    "duration": 11,
    "start_time": "2021-07-08T09:06:29.794Z"
   },
   {
    "duration": 15,
    "start_time": "2021-07-08T09:06:29.807Z"
   },
   {
    "duration": 8,
    "start_time": "2021-07-08T09:06:29.823Z"
   },
   {
    "duration": 70,
    "start_time": "2021-07-08T09:06:29.832Z"
   },
   {
    "duration": 17,
    "start_time": "2021-07-08T09:06:29.903Z"
   },
   {
    "duration": 9,
    "start_time": "2021-07-08T09:06:29.921Z"
   },
   {
    "duration": 9,
    "start_time": "2021-07-08T09:06:29.932Z"
   },
   {
    "duration": 57,
    "start_time": "2021-07-08T09:06:29.942Z"
   },
   {
    "duration": 11,
    "start_time": "2021-07-08T09:06:30.001Z"
   },
   {
    "duration": 19,
    "start_time": "2021-07-08T09:06:30.016Z"
   },
   {
    "duration": 217,
    "start_time": "2021-07-08T09:06:30.037Z"
   },
   {
    "duration": 6,
    "start_time": "2021-07-08T09:06:30.255Z"
   },
   {
    "duration": 205,
    "start_time": "2021-07-08T09:06:30.263Z"
   },
   {
    "duration": 27,
    "start_time": "2021-07-08T09:06:30.470Z"
   },
   {
    "duration": 11,
    "start_time": "2021-07-08T09:06:30.500Z"
   },
   {
    "duration": 31,
    "start_time": "2021-07-08T09:06:30.513Z"
   },
   {
    "duration": 18,
    "start_time": "2021-07-08T09:06:30.546Z"
   },
   {
    "duration": 11,
    "start_time": "2021-07-08T09:06:30.566Z"
   },
   {
    "duration": 19,
    "start_time": "2021-07-08T09:06:30.579Z"
   },
   {
    "duration": 20,
    "start_time": "2021-07-08T09:06:49.466Z"
   },
   {
    "duration": 9,
    "start_time": "2021-07-08T09:06:51.994Z"
   },
   {
    "duration": 20,
    "start_time": "2021-07-08T09:06:52.273Z"
   },
   {
    "duration": 246,
    "start_time": "2021-07-08T09:10:21.272Z"
   },
   {
    "duration": 84,
    "start_time": "2021-07-08T09:10:21.436Z"
   },
   {
    "duration": 7,
    "start_time": "2021-07-08T09:10:37.608Z"
   },
   {
    "duration": 189,
    "start_time": "2021-07-08T09:10:38.573Z"
   },
   {
    "duration": 185,
    "start_time": "2021-07-08T09:10:53.181Z"
   },
   {
    "duration": 11,
    "start_time": "2021-07-08T09:10:59.549Z"
   },
   {
    "duration": 42,
    "start_time": "2021-07-08T09:10:59.709Z"
   },
   {
    "duration": 12,
    "start_time": "2021-07-08T09:11:02.857Z"
   },
   {
    "duration": 28,
    "start_time": "2021-07-08T09:11:10.062Z"
   },
   {
    "duration": 249,
    "start_time": "2021-07-08T09:11:37.388Z"
   },
   {
    "duration": 232,
    "start_time": "2021-07-08T09:11:49.485Z"
   },
   {
    "duration": 453,
    "start_time": "2021-07-08T09:12:01.546Z"
   },
   {
    "duration": 440,
    "start_time": "2021-07-08T09:12:12.347Z"
   },
   {
    "duration": 213,
    "start_time": "2021-07-08T09:13:32.196Z"
   },
   {
    "duration": 172,
    "start_time": "2021-07-08T09:14:07.400Z"
   },
   {
    "duration": 185,
    "start_time": "2021-07-08T09:14:14.905Z"
   },
   {
    "duration": 209,
    "start_time": "2021-07-08T09:14:40.109Z"
   },
   {
    "duration": 201,
    "start_time": "2021-07-08T09:14:54.506Z"
   },
   {
    "duration": 622,
    "start_time": "2021-07-08T09:18:14.497Z"
   },
   {
    "duration": 220,
    "start_time": "2021-07-08T09:18:15.121Z"
   },
   {
    "duration": 79,
    "start_time": "2021-07-08T09:18:15.343Z"
   },
   {
    "duration": 4,
    "start_time": "2021-07-08T09:18:15.425Z"
   },
   {
    "duration": 24,
    "start_time": "2021-07-08T09:18:15.431Z"
   },
   {
    "duration": 8,
    "start_time": "2021-07-08T09:18:15.457Z"
   },
   {
    "duration": 16,
    "start_time": "2021-07-08T09:18:15.466Z"
   },
   {
    "duration": 5,
    "start_time": "2021-07-08T09:18:15.484Z"
   },
   {
    "duration": 10,
    "start_time": "2021-07-08T09:18:15.493Z"
   },
   {
    "duration": 8,
    "start_time": "2021-07-08T09:18:15.504Z"
   },
   {
    "duration": 7,
    "start_time": "2021-07-08T09:18:15.513Z"
   },
   {
    "duration": 26,
    "start_time": "2021-07-08T09:18:15.522Z"
   },
   {
    "duration": 49,
    "start_time": "2021-07-08T09:18:15.550Z"
   },
   {
    "duration": 21,
    "start_time": "2021-07-08T09:18:15.601Z"
   },
   {
    "duration": 8,
    "start_time": "2021-07-08T09:18:15.624Z"
   },
   {
    "duration": 3,
    "start_time": "2021-07-08T09:18:15.634Z"
   },
   {
    "duration": 8,
    "start_time": "2021-07-08T09:18:15.639Z"
   },
   {
    "duration": 45,
    "start_time": "2021-07-08T09:18:15.649Z"
   },
   {
    "duration": 13,
    "start_time": "2021-07-08T09:18:15.696Z"
   },
   {
    "duration": 10,
    "start_time": "2021-07-08T09:18:15.711Z"
   },
   {
    "duration": 64,
    "start_time": "2021-07-08T09:18:15.722Z"
   },
   {
    "duration": 19,
    "start_time": "2021-07-08T09:18:15.788Z"
   },
   {
    "duration": 9,
    "start_time": "2021-07-08T09:18:15.809Z"
   },
   {
    "duration": 9,
    "start_time": "2021-07-08T09:18:15.820Z"
   },
   {
    "duration": 18,
    "start_time": "2021-07-08T09:18:15.831Z"
   },
   {
    "duration": 43,
    "start_time": "2021-07-08T09:18:15.851Z"
   },
   {
    "duration": 12,
    "start_time": "2021-07-08T09:18:15.897Z"
   },
   {
    "duration": 219,
    "start_time": "2021-07-08T09:18:15.911Z"
   },
   {
    "duration": 8,
    "start_time": "2021-07-08T09:18:16.132Z"
   },
   {
    "duration": 199,
    "start_time": "2021-07-08T09:18:16.141Z"
   },
   {
    "duration": 18,
    "start_time": "2021-07-08T09:18:16.341Z"
   },
   {
    "duration": 24,
    "start_time": "2021-07-08T09:18:16.361Z"
   },
   {
    "duration": 24,
    "start_time": "2021-07-08T09:18:16.387Z"
   },
   {
    "duration": 211,
    "start_time": "2021-07-08T09:18:16.413Z"
   },
   {
    "duration": 18,
    "start_time": "2021-07-08T09:18:16.626Z"
   },
   {
    "duration": 596,
    "start_time": "2021-07-08T10:06:33.623Z"
   },
   {
    "duration": 181,
    "start_time": "2021-07-08T10:06:34.221Z"
   },
   {
    "duration": 176,
    "start_time": "2021-07-08T10:06:34.635Z"
   },
   {
    "duration": 239,
    "start_time": "2021-07-08T10:06:55.572Z"
   },
   {
    "duration": 6,
    "start_time": "2021-07-08T10:06:57.687Z"
   },
   {
    "duration": 4,
    "start_time": "2021-07-08T10:07:03.956Z"
   },
   {
    "duration": 4,
    "start_time": "2021-07-08T10:07:10.376Z"
   },
   {
    "duration": 4,
    "start_time": "2021-07-08T10:17:19.889Z"
   },
   {
    "duration": 3,
    "start_time": "2021-07-08T10:19:19.407Z"
   },
   {
    "duration": 197,
    "start_time": "2021-07-08T10:19:19.412Z"
   },
   {
    "duration": 127,
    "start_time": "2021-07-08T10:19:19.611Z"
   },
   {
    "duration": 4,
    "start_time": "2021-07-08T10:19:19.740Z"
   },
   {
    "duration": 27,
    "start_time": "2021-07-08T10:19:19.746Z"
   },
   {
    "duration": 7,
    "start_time": "2021-07-08T10:19:19.775Z"
   },
   {
    "duration": 30,
    "start_time": "2021-07-08T10:19:19.784Z"
   },
   {
    "duration": 7,
    "start_time": "2021-07-08T10:19:19.817Z"
   },
   {
    "duration": 26,
    "start_time": "2021-07-08T10:19:19.826Z"
   },
   {
    "duration": 18,
    "start_time": "2021-07-08T10:19:19.854Z"
   },
   {
    "duration": 14,
    "start_time": "2021-07-08T10:19:19.874Z"
   },
   {
    "duration": 48,
    "start_time": "2021-07-08T10:19:19.890Z"
   },
   {
    "duration": 17,
    "start_time": "2021-07-08T10:19:19.940Z"
   },
   {
    "duration": 38,
    "start_time": "2021-07-08T10:19:19.959Z"
   },
   {
    "duration": 8,
    "start_time": "2021-07-08T10:19:19.999Z"
   },
   {
    "duration": 15,
    "start_time": "2021-07-08T10:19:20.009Z"
   },
   {
    "duration": 22,
    "start_time": "2021-07-08T10:19:20.026Z"
   },
   {
    "duration": 10,
    "start_time": "2021-07-08T10:19:20.050Z"
   },
   {
    "duration": 10,
    "start_time": "2021-07-08T10:19:20.062Z"
   },
   {
    "duration": 20,
    "start_time": "2021-07-08T10:19:20.073Z"
   },
   {
    "duration": 29,
    "start_time": "2021-07-08T10:19:20.095Z"
   },
   {
    "duration": 17,
    "start_time": "2021-07-08T10:19:20.126Z"
   },
   {
    "duration": 40,
    "start_time": "2021-07-08T10:19:20.146Z"
   },
   {
    "duration": 15,
    "start_time": "2021-07-08T10:19:20.189Z"
   },
   {
    "duration": 19,
    "start_time": "2021-07-08T10:19:20.206Z"
   },
   {
    "duration": 10,
    "start_time": "2021-07-08T10:19:20.226Z"
   },
   {
    "duration": 11,
    "start_time": "2021-07-08T10:19:20.238Z"
   },
   {
    "duration": 297,
    "start_time": "2021-07-08T10:19:20.250Z"
   },
   {
    "duration": 6,
    "start_time": "2021-07-08T10:19:20.549Z"
   },
   {
    "duration": 191,
    "start_time": "2021-07-08T10:19:20.557Z"
   },
   {
    "duration": 19,
    "start_time": "2021-07-08T10:19:20.750Z"
   },
   {
    "duration": 20,
    "start_time": "2021-07-08T10:19:20.771Z"
   },
   {
    "duration": 15,
    "start_time": "2021-07-08T10:19:20.793Z"
   },
   {
    "duration": 222,
    "start_time": "2021-07-08T10:19:20.809Z"
   },
   {
    "duration": 20,
    "start_time": "2021-07-08T10:19:21.033Z"
   },
   {
    "duration": 27,
    "start_time": "2021-07-08T10:45:04.055Z"
   },
   {
    "duration": 8,
    "start_time": "2021-07-08T10:45:08.478Z"
   },
   {
    "duration": 8,
    "start_time": "2021-07-08T10:45:31.982Z"
   },
   {
    "duration": 10,
    "start_time": "2021-07-08T10:46:01.221Z"
   },
   {
    "duration": 17,
    "start_time": "2021-07-08T10:46:40.011Z"
   },
   {
    "duration": 193,
    "start_time": "2021-07-08T10:48:19.471Z"
   },
   {
    "duration": 225,
    "start_time": "2021-07-08T10:49:26.480Z"
   },
   {
    "duration": 204,
    "start_time": "2021-07-08T10:49:59.992Z"
   },
   {
    "duration": 435,
    "start_time": "2021-07-08T10:50:06.779Z"
   },
   {
    "duration": 199,
    "start_time": "2021-07-08T10:50:14.891Z"
   },
   {
    "duration": 204,
    "start_time": "2021-07-08T10:50:18.501Z"
   },
   {
    "duration": 244,
    "start_time": "2021-07-08T10:50:23.359Z"
   },
   {
    "duration": 192,
    "start_time": "2021-07-08T10:50:29.135Z"
   },
   {
    "duration": 218,
    "start_time": "2021-07-08T10:50:33.092Z"
   },
   {
    "duration": 207,
    "start_time": "2021-07-08T10:52:45.381Z"
   },
   {
    "duration": 5,
    "start_time": "2021-07-08T10:53:34.641Z"
   },
   {
    "duration": 196,
    "start_time": "2021-07-08T10:53:41.478Z"
   },
   {
    "duration": 43,
    "start_time": "2021-07-08T10:53:50.335Z"
   },
   {
    "duration": 32,
    "start_time": "2021-07-08T10:53:55.294Z"
   },
   {
    "duration": 55,
    "start_time": "2021-07-08T10:54:09.675Z"
   },
   {
    "duration": 16,
    "start_time": "2021-07-08T10:54:12.260Z"
   },
   {
    "duration": 15,
    "start_time": "2021-07-08T10:54:49.150Z"
   },
   {
    "duration": 20,
    "start_time": "2021-07-08T10:56:07.596Z"
   },
   {
    "duration": 16,
    "start_time": "2021-07-08T10:58:26.276Z"
   },
   {
    "duration": 22,
    "start_time": "2021-07-08T10:59:00.486Z"
   },
   {
    "duration": 18,
    "start_time": "2021-07-08T11:02:09.653Z"
   },
   {
    "duration": 10,
    "start_time": "2021-07-08T11:03:44.331Z"
   },
   {
    "duration": 10,
    "start_time": "2021-07-08T11:03:54.055Z"
   },
   {
    "duration": 12,
    "start_time": "2021-07-08T11:04:41.967Z"
   },
   {
    "duration": 24,
    "start_time": "2021-07-08T11:07:30.732Z"
   },
   {
    "duration": 6,
    "start_time": "2021-07-08T11:07:37.364Z"
   },
   {
    "duration": 16,
    "start_time": "2021-07-08T11:08:01.819Z"
   },
   {
    "duration": 17,
    "start_time": "2021-07-08T11:09:47.488Z"
   },
   {
    "duration": 246,
    "start_time": "2021-07-08T11:10:00.830Z"
   },
   {
    "duration": 18,
    "start_time": "2021-07-08T11:13:55.195Z"
   },
   {
    "duration": 204,
    "start_time": "2021-07-08T11:14:04.951Z"
   },
   {
    "duration": 19,
    "start_time": "2021-07-08T11:15:10.613Z"
   },
   {
    "duration": 680,
    "start_time": "2021-07-08T11:16:25.793Z"
   },
   {
    "duration": 451,
    "start_time": "2021-07-08T11:16:40.313Z"
   },
   {
    "duration": 469,
    "start_time": "2021-07-08T11:17:21.286Z"
   },
   {
    "duration": 20,
    "start_time": "2021-07-08T11:19:12.554Z"
   },
   {
    "duration": 35,
    "start_time": "2021-07-08T11:20:05.484Z"
   },
   {
    "duration": 53,
    "start_time": "2021-07-08T11:21:40.050Z"
   },
   {
    "duration": 13,
    "start_time": "2021-07-08T11:22:26.059Z"
   },
   {
    "duration": 19,
    "start_time": "2021-07-08T11:22:47.419Z"
   },
   {
    "duration": 25,
    "start_time": "2021-07-08T11:23:19.958Z"
   },
   {
    "duration": 29,
    "start_time": "2021-07-08T11:23:25.415Z"
   },
   {
    "duration": 10,
    "start_time": "2021-07-08T11:24:45.138Z"
   },
   {
    "duration": 19,
    "start_time": "2021-07-08T11:24:54.498Z"
   },
   {
    "duration": 12,
    "start_time": "2021-07-08T11:25:32.225Z"
   },
   {
    "duration": 19,
    "start_time": "2021-07-08T11:25:37.092Z"
   },
   {
    "duration": 17,
    "start_time": "2021-07-08T11:25:58.116Z"
   },
   {
    "duration": 15,
    "start_time": "2021-07-08T11:26:02.258Z"
   },
   {
    "duration": 8,
    "start_time": "2021-07-08T11:26:59.682Z"
   },
   {
    "duration": 184,
    "start_time": "2021-07-08T11:27:21.894Z"
   },
   {
    "duration": 8,
    "start_time": "2021-07-08T11:27:23.824Z"
   },
   {
    "duration": 202,
    "start_time": "2021-07-08T11:27:23.962Z"
   },
   {
    "duration": 360,
    "start_time": "2021-07-08T11:28:33.215Z"
   },
   {
    "duration": 231,
    "start_time": "2021-07-08T11:32:05.542Z"
   },
   {
    "duration": 607,
    "start_time": "2021-07-08T11:36:27.854Z"
   },
   {
    "duration": 241,
    "start_time": "2021-07-08T11:36:28.463Z"
   },
   {
    "duration": 67,
    "start_time": "2021-07-08T11:36:28.709Z"
   },
   {
    "duration": 5,
    "start_time": "2021-07-08T11:36:28.778Z"
   },
   {
    "duration": 32,
    "start_time": "2021-07-08T11:36:28.784Z"
   },
   {
    "duration": 11,
    "start_time": "2021-07-08T11:36:28.819Z"
   },
   {
    "duration": 20,
    "start_time": "2021-07-08T11:36:28.834Z"
   },
   {
    "duration": 36,
    "start_time": "2021-07-08T11:36:28.857Z"
   },
   {
    "duration": 16,
    "start_time": "2021-07-08T11:36:28.895Z"
   },
   {
    "duration": 14,
    "start_time": "2021-07-08T11:36:28.913Z"
   },
   {
    "duration": 9,
    "start_time": "2021-07-08T11:36:28.930Z"
   },
   {
    "duration": 55,
    "start_time": "2021-07-08T11:36:28.941Z"
   },
   {
    "duration": 27,
    "start_time": "2021-07-08T11:36:28.999Z"
   },
   {
    "duration": 30,
    "start_time": "2021-07-08T11:36:29.028Z"
   },
   {
    "duration": 31,
    "start_time": "2021-07-08T11:36:29.060Z"
   },
   {
    "duration": 3,
    "start_time": "2021-07-08T11:36:29.093Z"
   },
   {
    "duration": 12,
    "start_time": "2021-07-08T11:36:29.099Z"
   },
   {
    "duration": 11,
    "start_time": "2021-07-08T11:36:29.112Z"
   },
   {
    "duration": 12,
    "start_time": "2021-07-08T11:36:29.125Z"
   },
   {
    "duration": 9,
    "start_time": "2021-07-08T11:36:29.139Z"
   },
   {
    "duration": 31,
    "start_time": "2021-07-08T11:36:29.191Z"
   },
   {
    "duration": 17,
    "start_time": "2021-07-08T11:36:29.226Z"
   },
   {
    "duration": 7,
    "start_time": "2021-07-08T11:36:29.245Z"
   },
   {
    "duration": 10,
    "start_time": "2021-07-08T11:36:29.254Z"
   },
   {
    "duration": 30,
    "start_time": "2021-07-08T11:36:29.292Z"
   },
   {
    "duration": 11,
    "start_time": "2021-07-08T11:36:29.324Z"
   },
   {
    "duration": 11,
    "start_time": "2021-07-08T11:36:29.337Z"
   },
   {
    "duration": 230,
    "start_time": "2021-07-08T11:36:29.349Z"
   },
   {
    "duration": 13,
    "start_time": "2021-07-08T11:36:29.588Z"
   },
   {
    "duration": 205,
    "start_time": "2021-07-08T11:36:29.603Z"
   },
   {
    "duration": 20,
    "start_time": "2021-07-08T11:36:29.810Z"
   },
   {
    "duration": 9,
    "start_time": "2021-07-08T11:36:29.832Z"
   },
   {
    "duration": 16,
    "start_time": "2021-07-08T11:36:29.843Z"
   },
   {
    "duration": 283,
    "start_time": "2021-07-08T11:36:29.861Z"
   },
   {
    "duration": 50,
    "start_time": "2021-07-08T11:36:30.146Z"
   },
   {
    "duration": 14,
    "start_time": "2021-07-08T11:36:30.198Z"
   },
   {
    "duration": 11,
    "start_time": "2021-07-08T11:36:30.214Z"
   },
   {
    "duration": 245,
    "start_time": "2021-07-08T11:36:30.227Z"
   },
   {
    "duration": 439,
    "start_time": "2021-07-08T11:36:30.474Z"
   },
   {
    "duration": 210,
    "start_time": "2021-07-08T11:36:30.915Z"
   },
   {
    "duration": 15,
    "start_time": "2021-07-08T11:36:31.127Z"
   },
   {
    "duration": 17,
    "start_time": "2021-07-08T11:38:20.451Z"
   },
   {
    "duration": 642,
    "start_time": "2021-07-08T11:46:17.881Z"
   },
   {
    "duration": 210,
    "start_time": "2021-07-08T11:46:18.525Z"
   },
   {
    "duration": 104,
    "start_time": "2021-07-08T11:46:18.741Z"
   },
   {
    "duration": 8,
    "start_time": "2021-07-08T11:46:18.847Z"
   },
   {
    "duration": 25,
    "start_time": "2021-07-08T11:46:18.857Z"
   },
   {
    "duration": 14,
    "start_time": "2021-07-08T11:46:18.884Z"
   },
   {
    "duration": 22,
    "start_time": "2021-07-08T11:46:18.900Z"
   },
   {
    "duration": 5,
    "start_time": "2021-07-08T11:46:18.924Z"
   },
   {
    "duration": 13,
    "start_time": "2021-07-08T11:46:18.931Z"
   },
   {
    "duration": 45,
    "start_time": "2021-07-08T11:46:18.946Z"
   },
   {
    "duration": 12,
    "start_time": "2021-07-08T11:46:18.993Z"
   },
   {
    "duration": 38,
    "start_time": "2021-07-08T11:46:19.006Z"
   },
   {
    "duration": 50,
    "start_time": "2021-07-08T11:46:19.046Z"
   },
   {
    "duration": 29,
    "start_time": "2021-07-08T11:46:19.099Z"
   },
   {
    "duration": 7,
    "start_time": "2021-07-08T11:46:19.130Z"
   },
   {
    "duration": 3,
    "start_time": "2021-07-08T11:46:19.139Z"
   },
   {
    "duration": 11,
    "start_time": "2021-07-08T11:46:19.144Z"
   },
   {
    "duration": 40,
    "start_time": "2021-07-08T11:46:19.157Z"
   },
   {
    "duration": 15,
    "start_time": "2021-07-08T11:46:19.199Z"
   },
   {
    "duration": 10,
    "start_time": "2021-07-08T11:46:19.217Z"
   },
   {
    "duration": 68,
    "start_time": "2021-07-08T11:46:19.230Z"
   },
   {
    "duration": 17,
    "start_time": "2021-07-08T11:46:19.301Z"
   },
   {
    "duration": 7,
    "start_time": "2021-07-08T11:46:19.321Z"
   },
   {
    "duration": 11,
    "start_time": "2021-07-08T11:46:19.330Z"
   },
   {
    "duration": 59,
    "start_time": "2021-07-08T11:46:19.343Z"
   },
   {
    "duration": 17,
    "start_time": "2021-07-08T11:46:19.405Z"
   },
   {
    "duration": 16,
    "start_time": "2021-07-08T11:46:19.424Z"
   },
   {
    "duration": 252,
    "start_time": "2021-07-08T11:46:19.443Z"
   },
   {
    "duration": 9,
    "start_time": "2021-07-08T11:46:19.697Z"
   },
   {
    "duration": 224,
    "start_time": "2021-07-08T11:46:19.708Z"
   },
   {
    "duration": 21,
    "start_time": "2021-07-08T11:46:19.934Z"
   },
   {
    "duration": 9,
    "start_time": "2021-07-08T11:46:19.956Z"
   },
   {
    "duration": 32,
    "start_time": "2021-07-08T11:46:19.967Z"
   },
   {
    "duration": 288,
    "start_time": "2021-07-08T11:46:20.004Z"
   },
   {
    "duration": 23,
    "start_time": "2021-07-08T11:46:20.300Z"
   },
   {
    "duration": 11,
    "start_time": "2021-07-08T11:46:20.325Z"
   },
   {
    "duration": 11,
    "start_time": "2021-07-08T11:46:20.339Z"
   },
   {
    "duration": 259,
    "start_time": "2021-07-08T11:46:20.352Z"
   },
   {
    "duration": 438,
    "start_time": "2021-07-08T11:46:20.613Z"
   },
   {
    "duration": 207,
    "start_time": "2021-07-08T11:46:21.054Z"
   },
   {
    "duration": 27,
    "start_time": "2021-07-08T11:46:21.262Z"
   },
   {
    "duration": 19,
    "start_time": "2021-07-08T11:46:21.291Z"
   },
   {
    "duration": 820,
    "start_time": "2021-07-08T11:49:01.655Z"
   },
   {
    "duration": 372,
    "start_time": "2021-07-08T11:49:02.478Z"
   },
   {
    "duration": 98,
    "start_time": "2021-07-08T11:49:02.853Z"
   },
   {
    "duration": 6,
    "start_time": "2021-07-08T11:49:02.953Z"
   },
   {
    "duration": 39,
    "start_time": "2021-07-08T11:49:02.960Z"
   },
   {
    "duration": 9,
    "start_time": "2021-07-08T11:49:03.003Z"
   },
   {
    "duration": 23,
    "start_time": "2021-07-08T11:49:03.014Z"
   },
   {
    "duration": 6,
    "start_time": "2021-07-08T11:49:03.041Z"
   },
   {
    "duration": 20,
    "start_time": "2021-07-08T11:49:03.049Z"
   },
   {
    "duration": 18,
    "start_time": "2021-07-08T11:49:03.084Z"
   },
   {
    "duration": 14,
    "start_time": "2021-07-08T11:49:03.104Z"
   },
   {
    "duration": 39,
    "start_time": "2021-07-08T11:49:03.119Z"
   },
   {
    "duration": 38,
    "start_time": "2021-07-08T11:49:03.160Z"
   },
   {
    "duration": 26,
    "start_time": "2021-07-08T11:49:03.200Z"
   },
   {
    "duration": 7,
    "start_time": "2021-07-08T11:49:03.227Z"
   },
   {
    "duration": 4,
    "start_time": "2021-07-08T11:49:03.236Z"
   },
   {
    "duration": 15,
    "start_time": "2021-07-08T11:49:03.243Z"
   },
   {
    "duration": 21,
    "start_time": "2021-07-08T11:49:03.285Z"
   },
   {
    "duration": 17,
    "start_time": "2021-07-08T11:49:03.309Z"
   },
   {
    "duration": 10,
    "start_time": "2021-07-08T11:49:03.328Z"
   },
   {
    "duration": 65,
    "start_time": "2021-07-08T11:49:03.340Z"
   },
   {
    "duration": 18,
    "start_time": "2021-07-08T11:49:03.407Z"
   },
   {
    "duration": 8,
    "start_time": "2021-07-08T11:49:03.428Z"
   },
   {
    "duration": 15,
    "start_time": "2021-07-08T11:49:03.438Z"
   },
   {
    "duration": 40,
    "start_time": "2021-07-08T11:49:03.455Z"
   },
   {
    "duration": 12,
    "start_time": "2021-07-08T11:49:03.497Z"
   },
   {
    "duration": 29,
    "start_time": "2021-07-08T11:49:03.511Z"
   },
   {
    "duration": 285,
    "start_time": "2021-07-08T11:49:03.542Z"
   },
   {
    "duration": 8,
    "start_time": "2021-07-08T11:49:03.829Z"
   },
   {
    "duration": 227,
    "start_time": "2021-07-08T11:49:03.838Z"
   },
   {
    "duration": 40,
    "start_time": "2021-07-08T11:49:04.066Z"
   },
   {
    "duration": 10,
    "start_time": "2021-07-08T11:49:04.108Z"
   },
   {
    "duration": 26,
    "start_time": "2021-07-08T11:49:04.121Z"
   },
   {
    "duration": 290,
    "start_time": "2021-07-08T11:49:04.149Z"
   },
   {
    "duration": 26,
    "start_time": "2021-07-08T11:49:04.441Z"
   },
   {
    "duration": 31,
    "start_time": "2021-07-08T11:49:04.470Z"
   },
   {
    "duration": 14,
    "start_time": "2021-07-08T11:49:04.503Z"
   },
   {
    "duration": 259,
    "start_time": "2021-07-08T11:49:04.521Z"
   },
   {
    "duration": 480,
    "start_time": "2021-07-08T11:49:04.782Z"
   },
   {
    "duration": 225,
    "start_time": "2021-07-08T11:49:05.264Z"
   },
   {
    "duration": 22,
    "start_time": "2021-07-08T11:49:05.491Z"
   },
   {
    "duration": 24,
    "start_time": "2021-07-08T11:49:05.515Z"
   },
   {
    "duration": 634,
    "start_time": "2021-07-08T11:52:24.960Z"
   },
   {
    "duration": 199,
    "start_time": "2021-07-08T11:52:25.599Z"
   },
   {
    "duration": 106,
    "start_time": "2021-07-08T11:52:25.803Z"
   },
   {
    "duration": 7,
    "start_time": "2021-07-08T11:52:25.911Z"
   },
   {
    "duration": 29,
    "start_time": "2021-07-08T11:52:25.920Z"
   },
   {
    "duration": 7,
    "start_time": "2021-07-08T11:52:25.951Z"
   },
   {
    "duration": 26,
    "start_time": "2021-07-08T11:52:25.961Z"
   },
   {
    "duration": 11,
    "start_time": "2021-07-08T11:52:25.990Z"
   },
   {
    "duration": 29,
    "start_time": "2021-07-08T11:52:26.005Z"
   },
   {
    "duration": 9,
    "start_time": "2021-07-08T11:52:26.036Z"
   },
   {
    "duration": 8,
    "start_time": "2021-07-08T11:52:26.047Z"
   },
   {
    "duration": 63,
    "start_time": "2021-07-08T11:52:26.057Z"
   },
   {
    "duration": 17,
    "start_time": "2021-07-08T11:52:26.122Z"
   },
   {
    "duration": 43,
    "start_time": "2021-07-08T11:52:26.142Z"
   },
   {
    "duration": 17,
    "start_time": "2021-07-08T11:52:26.187Z"
   },
   {
    "duration": 5,
    "start_time": "2021-07-08T11:52:26.206Z"
   },
   {
    "duration": 12,
    "start_time": "2021-07-08T11:52:26.212Z"
   },
   {
    "duration": 11,
    "start_time": "2021-07-08T11:52:26.226Z"
   },
   {
    "duration": 12,
    "start_time": "2021-07-08T11:52:26.238Z"
   },
   {
    "duration": 38,
    "start_time": "2021-07-08T11:52:26.252Z"
   },
   {
    "duration": 40,
    "start_time": "2021-07-08T11:52:26.292Z"
   },
   {
    "duration": 17,
    "start_time": "2021-07-08T11:52:26.336Z"
   },
   {
    "duration": 39,
    "start_time": "2021-07-08T11:52:26.355Z"
   },
   {
    "duration": 11,
    "start_time": "2021-07-08T11:52:26.395Z"
   },
   {
    "duration": 23,
    "start_time": "2021-07-08T11:52:26.408Z"
   },
   {
    "duration": 12,
    "start_time": "2021-07-08T11:52:26.432Z"
   },
   {
    "duration": 41,
    "start_time": "2021-07-08T11:52:26.446Z"
   },
   {
    "duration": 215,
    "start_time": "2021-07-08T11:52:26.493Z"
   },
   {
    "duration": 8,
    "start_time": "2021-07-08T11:52:26.710Z"
   },
   {
    "duration": 228,
    "start_time": "2021-07-08T11:52:26.720Z"
   },
   {
    "duration": 18,
    "start_time": "2021-07-08T11:52:26.950Z"
   },
   {
    "duration": 35,
    "start_time": "2021-07-08T11:52:26.969Z"
   },
   {
    "duration": 23,
    "start_time": "2021-07-08T11:52:27.006Z"
   },
   {
    "duration": 258,
    "start_time": "2021-07-08T11:52:27.030Z"
   },
   {
    "duration": 24,
    "start_time": "2021-07-08T11:52:27.290Z"
   },
   {
    "duration": 12,
    "start_time": "2021-07-08T11:52:27.316Z"
   },
   {
    "duration": 10,
    "start_time": "2021-07-08T11:52:27.329Z"
   },
   {
    "duration": 298,
    "start_time": "2021-07-08T11:52:27.341Z"
   },
   {
    "duration": 436,
    "start_time": "2021-07-08T11:52:27.641Z"
   },
   {
    "duration": 216,
    "start_time": "2021-07-08T11:52:28.079Z"
   },
   {
    "duration": 20,
    "start_time": "2021-07-08T11:52:28.297Z"
   },
   {
    "duration": 17,
    "start_time": "2021-07-08T11:52:28.319Z"
   },
   {
    "duration": 467,
    "start_time": "2023-04-16T20:04:58.298Z"
   },
   {
    "duration": 311,
    "start_time": "2023-04-16T20:04:58.767Z"
   },
   {
    "duration": 3,
    "start_time": "2023-04-16T20:04:59.080Z"
   },
   {
    "duration": 560,
    "start_time": "2023-04-16T20:04:59.084Z"
   },
   {
    "duration": 415,
    "start_time": "2023-04-16T20:04:59.646Z"
   },
   {
    "duration": 140,
    "start_time": "2023-04-16T20:05:00.063Z"
   },
   {
    "duration": 7,
    "start_time": "2023-04-16T20:05:00.205Z"
   },
   {
    "duration": 52,
    "start_time": "2023-04-16T20:05:00.214Z"
   },
   {
    "duration": 44,
    "start_time": "2023-04-16T20:05:00.268Z"
   },
   {
    "duration": 101,
    "start_time": "2023-04-16T20:05:00.313Z"
   },
   {
    "duration": 65,
    "start_time": "2023-04-16T20:05:00.418Z"
   },
   {
    "duration": 86,
    "start_time": "2023-04-16T20:05:00.486Z"
   },
   {
    "duration": 93,
    "start_time": "2023-04-16T20:05:00.574Z"
   },
   {
    "duration": 33,
    "start_time": "2023-04-16T20:05:00.672Z"
   },
   {
    "duration": 62,
    "start_time": "2023-04-16T20:05:00.707Z"
   },
   {
    "duration": 67,
    "start_time": "2023-04-16T20:05:00.770Z"
   },
   {
    "duration": 32,
    "start_time": "2023-04-16T20:05:00.838Z"
   },
   {
    "duration": 43,
    "start_time": "2023-04-16T20:05:00.872Z"
   },
   {
    "duration": 36,
    "start_time": "2023-04-16T20:05:00.917Z"
   },
   {
    "duration": 35,
    "start_time": "2023-04-16T20:05:00.955Z"
   },
   {
    "duration": 46,
    "start_time": "2023-04-16T20:05:00.992Z"
   },
   {
    "duration": 64,
    "start_time": "2023-04-16T20:05:01.040Z"
   },
   {
    "duration": 48,
    "start_time": "2023-04-16T20:05:01.107Z"
   },
   {
    "duration": 41,
    "start_time": "2023-04-16T20:05:01.157Z"
   },
   {
    "duration": 23,
    "start_time": "2023-04-16T20:05:01.200Z"
   },
   {
    "duration": 74,
    "start_time": "2023-04-16T20:05:01.225Z"
   },
   {
    "duration": 74,
    "start_time": "2023-04-16T20:05:01.301Z"
   },
   {
    "duration": 43,
    "start_time": "2023-04-16T20:05:01.377Z"
   },
   {
    "duration": 67,
    "start_time": "2023-04-16T20:05:01.421Z"
   },
   {
    "duration": 50,
    "start_time": "2023-04-16T20:05:01.489Z"
   },
   {
    "duration": 57,
    "start_time": "2023-04-16T20:05:01.540Z"
   },
   {
    "duration": 20,
    "start_time": "2023-04-16T20:05:01.599Z"
   },
   {
    "duration": 36,
    "start_time": "2023-04-16T20:05:01.620Z"
   },
   {
    "duration": 57,
    "start_time": "2023-04-16T20:05:01.658Z"
   },
   {
    "duration": 52,
    "start_time": "2023-04-16T20:05:01.716Z"
   },
   {
    "duration": 181,
    "start_time": "2023-04-16T20:05:01.771Z"
   },
   {
    "duration": 7,
    "start_time": "2023-04-16T20:05:01.954Z"
   },
   {
    "duration": 29,
    "start_time": "2023-04-16T20:05:01.962Z"
   },
   {
    "duration": 83,
    "start_time": "2023-04-16T20:05:01.993Z"
   },
   {
    "duration": 40,
    "start_time": "2023-04-16T20:05:02.079Z"
   },
   {
    "duration": 40,
    "start_time": "2023-04-16T20:05:02.123Z"
   },
   {
    "duration": 86,
    "start_time": "2023-04-16T20:05:02.164Z"
   },
   {
    "duration": 34,
    "start_time": "2023-04-16T20:05:02.251Z"
   },
   {
    "duration": 24,
    "start_time": "2023-04-16T20:05:02.286Z"
   },
   {
    "duration": 38,
    "start_time": "2023-04-16T20:05:02.311Z"
   },
   {
    "duration": 30,
    "start_time": "2023-04-16T20:05:02.350Z"
   },
   {
    "duration": 23,
    "start_time": "2023-04-16T20:05:02.381Z"
   },
   {
    "duration": 52,
    "start_time": "2023-04-16T20:05:02.406Z"
   },
   {
    "duration": 162,
    "start_time": "2023-04-16T20:05:02.460Z"
   },
   {
    "duration": 6,
    "start_time": "2023-04-16T20:05:02.623Z"
   },
   {
    "duration": 226,
    "start_time": "2023-04-16T20:05:02.631Z"
   },
   {
    "duration": 17,
    "start_time": "2023-04-16T20:05:02.860Z"
   },
   {
    "duration": 32,
    "start_time": "2023-04-16T20:05:02.880Z"
   },
   {
    "duration": 571,
    "start_time": "2023-04-16T20:05:02.915Z"
   },
   {
    "duration": 37,
    "start_time": "2023-04-16T20:05:03.488Z"
   },
   {
    "duration": 48,
    "start_time": "2023-04-16T20:05:03.527Z"
   },
   {
    "duration": 4,
    "start_time": "2023-04-16T20:05:03.576Z"
   },
   {
    "duration": 55,
    "start_time": "2023-04-16T20:05:03.581Z"
   },
   {
    "duration": 6,
    "start_time": "2023-04-16T20:05:03.638Z"
   },
   {
    "duration": 152,
    "start_time": "2023-04-16T20:05:03.645Z"
   },
   {
    "duration": 13,
    "start_time": "2023-04-16T20:05:03.799Z"
   },
   {
    "duration": 35,
    "start_time": "2023-04-16T20:05:03.813Z"
   },
   {
    "duration": 232,
    "start_time": "2023-04-16T20:05:03.851Z"
   },
   {
    "duration": 174,
    "start_time": "2023-04-16T20:05:04.085Z"
   },
   {
    "duration": 164,
    "start_time": "2023-04-16T20:05:04.260Z"
   },
   {
    "duration": 11,
    "start_time": "2023-04-16T20:05:04.426Z"
   },
   {
    "duration": 16,
    "start_time": "2023-04-16T20:05:04.439Z"
   },
   {
    "duration": 66,
    "start_time": "2023-04-16T20:05:04.457Z"
   },
   {
    "duration": 19,
    "start_time": "2023-04-16T20:05:04.525Z"
   },
   {
    "duration": 460,
    "start_time": "2023-04-16T22:50:49.087Z"
   },
   {
    "duration": 257,
    "start_time": "2023-04-16T22:50:49.549Z"
   },
   {
    "duration": 3,
    "start_time": "2023-04-16T22:50:49.808Z"
   },
   {
    "duration": 535,
    "start_time": "2023-04-16T22:50:49.812Z"
   },
   {
    "duration": 278,
    "start_time": "2023-04-16T22:50:50.349Z"
   },
   {
    "duration": 117,
    "start_time": "2023-04-16T22:50:50.628Z"
   },
   {
    "duration": 5,
    "start_time": "2023-04-16T22:50:50.747Z"
   },
   {
    "duration": 17,
    "start_time": "2023-04-16T22:50:50.753Z"
   },
   {
    "duration": 16,
    "start_time": "2023-04-16T22:50:50.772Z"
   },
   {
    "duration": 22,
    "start_time": "2023-04-16T22:50:50.790Z"
   },
   {
    "duration": 7,
    "start_time": "2023-04-16T22:50:50.814Z"
   },
   {
    "duration": 10,
    "start_time": "2023-04-16T22:50:50.823Z"
   },
   {
    "duration": 47,
    "start_time": "2023-04-16T22:50:50.835Z"
   },
   {
    "duration": 7,
    "start_time": "2023-04-16T22:50:50.886Z"
   },
   {
    "duration": 20,
    "start_time": "2023-04-16T22:50:50.895Z"
   },
   {
    "duration": 17,
    "start_time": "2023-04-16T22:50:50.917Z"
   },
   {
    "duration": 22,
    "start_time": "2023-04-16T22:50:50.936Z"
   },
   {
    "duration": 10,
    "start_time": "2023-04-16T22:50:50.960Z"
   },
   {
    "duration": 6,
    "start_time": "2023-04-16T22:50:50.971Z"
   },
   {
    "duration": 8,
    "start_time": "2023-04-16T22:50:50.978Z"
   },
   {
    "duration": 15,
    "start_time": "2023-04-16T22:50:50.988Z"
   },
   {
    "duration": 24,
    "start_time": "2023-04-16T22:50:51.005Z"
   },
   {
    "duration": 16,
    "start_time": "2023-04-16T22:50:51.031Z"
   },
   {
    "duration": 6,
    "start_time": "2023-04-16T22:50:51.048Z"
   },
   {
    "duration": 24,
    "start_time": "2023-04-16T22:50:51.056Z"
   },
   {
    "duration": 10,
    "start_time": "2023-04-16T22:50:51.081Z"
   },
   {
    "duration": 22,
    "start_time": "2023-04-16T22:50:51.093Z"
   },
   {
    "duration": 8,
    "start_time": "2023-04-16T22:50:51.116Z"
   },
   {
    "duration": 5,
    "start_time": "2023-04-16T22:50:51.125Z"
   },
   {
    "duration": 6,
    "start_time": "2023-04-16T22:50:51.132Z"
   },
   {
    "duration": 21,
    "start_time": "2023-04-16T22:50:51.139Z"
   },
   {
    "duration": 7,
    "start_time": "2023-04-16T22:50:51.161Z"
   },
   {
    "duration": 24,
    "start_time": "2023-04-16T22:50:51.169Z"
   },
   {
    "duration": 36,
    "start_time": "2023-04-16T22:50:51.194Z"
   },
   {
    "duration": 22,
    "start_time": "2023-04-16T22:50:51.232Z"
   },
   {
    "duration": 156,
    "start_time": "2023-04-16T22:50:51.255Z"
   },
   {
    "duration": 5,
    "start_time": "2023-04-16T22:50:51.413Z"
   },
   {
    "duration": 5,
    "start_time": "2023-04-16T22:50:51.420Z"
   },
   {
    "duration": 17,
    "start_time": "2023-04-16T22:50:51.427Z"
   },
   {
    "duration": 26,
    "start_time": "2023-04-16T22:50:51.446Z"
   },
   {
    "duration": 50,
    "start_time": "2023-04-16T22:50:51.476Z"
   },
   {
    "duration": 33,
    "start_time": "2023-04-16T22:50:51.528Z"
   },
   {
    "duration": 6,
    "start_time": "2023-04-16T22:50:51.562Z"
   },
   {
    "duration": 28,
    "start_time": "2023-04-16T22:50:51.570Z"
   },
   {
    "duration": 26,
    "start_time": "2023-04-16T22:50:51.600Z"
   },
   {
    "duration": 12,
    "start_time": "2023-04-16T22:50:51.627Z"
   },
   {
    "duration": 26,
    "start_time": "2023-04-16T22:50:51.641Z"
   },
   {
    "duration": 6,
    "start_time": "2023-04-16T22:50:51.669Z"
   },
   {
    "duration": 150,
    "start_time": "2023-04-16T22:50:51.677Z"
   },
   {
    "duration": 6,
    "start_time": "2023-04-16T22:50:51.828Z"
   },
   {
    "duration": 199,
    "start_time": "2023-04-16T22:50:51.836Z"
   },
   {
    "duration": 12,
    "start_time": "2023-04-16T22:50:52.036Z"
   },
   {
    "duration": 22,
    "start_time": "2023-04-16T22:50:52.050Z"
   },
   {
    "duration": 552,
    "start_time": "2023-04-16T22:50:52.074Z"
   },
   {
    "duration": 30,
    "start_time": "2023-04-16T22:50:52.628Z"
   },
   {
    "duration": 60,
    "start_time": "2023-04-16T22:50:52.659Z"
   },
   {
    "duration": 4,
    "start_time": "2023-04-16T22:50:52.720Z"
   },
   {
    "duration": 43,
    "start_time": "2023-04-16T22:50:52.726Z"
   },
   {
    "duration": 6,
    "start_time": "2023-04-16T22:50:52.771Z"
   },
   {
    "duration": 164,
    "start_time": "2023-04-16T22:50:52.779Z"
   },
   {
    "duration": 4,
    "start_time": "2023-04-16T22:50:52.945Z"
   },
   {
    "duration": 11,
    "start_time": "2023-04-16T22:50:52.951Z"
   },
   {
    "duration": 238,
    "start_time": "2023-04-16T22:50:52.964Z"
   },
   {
    "duration": 173,
    "start_time": "2023-04-16T22:50:53.204Z"
   },
   {
    "duration": 158,
    "start_time": "2023-04-16T22:50:53.379Z"
   },
   {
    "duration": 11,
    "start_time": "2023-04-16T22:50:53.539Z"
   },
   {
    "duration": 15,
    "start_time": "2023-04-16T22:50:53.551Z"
   },
   {
    "duration": 57,
    "start_time": "2023-04-16T22:50:53.567Z"
   },
   {
    "duration": 12,
    "start_time": "2023-04-16T22:50:53.626Z"
   },
   {
    "duration": 417,
    "start_time": "2023-04-16T22:59:12.664Z"
   },
   {
    "duration": 139,
    "start_time": "2023-04-16T23:15:26.594Z"
   },
   {
    "duration": 45,
    "start_time": "2023-04-17T03:45:31.420Z"
   },
   {
    "duration": 416,
    "start_time": "2023-04-17T03:46:06.090Z"
   },
   {
    "duration": 399,
    "start_time": "2023-04-17T03:46:06.508Z"
   },
   {
    "duration": 2,
    "start_time": "2023-04-17T03:46:06.909Z"
   },
   {
    "duration": 532,
    "start_time": "2023-04-17T03:46:06.914Z"
   },
   {
    "duration": 240,
    "start_time": "2023-04-17T03:46:07.447Z"
   },
   {
    "duration": 133,
    "start_time": "2023-04-17T03:46:07.690Z"
   },
   {
    "duration": 4,
    "start_time": "2023-04-17T03:46:07.825Z"
   },
   {
    "duration": 15,
    "start_time": "2023-04-17T03:46:07.831Z"
   },
   {
    "duration": 16,
    "start_time": "2023-04-17T03:46:07.847Z"
   },
   {
    "duration": 17,
    "start_time": "2023-04-17T03:46:07.865Z"
   },
   {
    "duration": 25,
    "start_time": "2023-04-17T03:46:07.883Z"
   },
   {
    "duration": 11,
    "start_time": "2023-04-17T03:46:07.910Z"
   },
   {
    "duration": 42,
    "start_time": "2023-04-17T03:46:07.922Z"
   },
   {
    "duration": 7,
    "start_time": "2023-04-17T03:46:07.965Z"
   },
   {
    "duration": 13,
    "start_time": "2023-04-17T03:46:07.973Z"
   },
   {
    "duration": 14,
    "start_time": "2023-04-17T03:46:07.988Z"
   },
   {
    "duration": 33,
    "start_time": "2023-04-17T03:46:08.004Z"
   },
   {
    "duration": 6,
    "start_time": "2023-04-17T03:46:08.039Z"
   },
   {
    "duration": 8,
    "start_time": "2023-04-17T03:46:08.046Z"
   },
   {
    "duration": 18,
    "start_time": "2023-04-17T03:46:08.055Z"
   },
   {
    "duration": 13,
    "start_time": "2023-04-17T03:46:08.074Z"
   },
   {
    "duration": 22,
    "start_time": "2023-04-17T03:46:08.088Z"
   },
   {
    "duration": 30,
    "start_time": "2023-04-17T03:46:08.112Z"
   },
   {
    "duration": 5,
    "start_time": "2023-04-17T03:46:08.144Z"
   },
   {
    "duration": 8,
    "start_time": "2023-04-17T03:46:08.151Z"
   },
   {
    "duration": 24,
    "start_time": "2023-04-17T03:46:08.160Z"
   },
   {
    "duration": 7,
    "start_time": "2023-04-17T03:46:08.186Z"
   },
   {
    "duration": 6,
    "start_time": "2023-04-17T03:46:08.198Z"
   },
   {
    "duration": 6,
    "start_time": "2023-04-17T03:46:08.205Z"
   },
   {
    "duration": 22,
    "start_time": "2023-04-17T03:46:08.213Z"
   },
   {
    "duration": 14,
    "start_time": "2023-04-17T03:46:08.237Z"
   },
   {
    "duration": 3,
    "start_time": "2023-04-17T03:46:08.252Z"
   },
   {
    "duration": 21,
    "start_time": "2023-04-17T03:46:08.256Z"
   },
   {
    "duration": 20,
    "start_time": "2023-04-17T03:46:08.278Z"
   },
   {
    "duration": 40,
    "start_time": "2023-04-17T03:46:08.300Z"
   },
   {
    "duration": 15,
    "start_time": "2023-04-17T03:46:08.342Z"
   },
   {
    "duration": 156,
    "start_time": "2023-04-17T03:46:08.359Z"
   },
   {
    "duration": 5,
    "start_time": "2023-04-17T03:46:08.516Z"
   },
   {
    "duration": 34,
    "start_time": "2023-04-17T03:46:08.522Z"
   },
   {
    "duration": 26,
    "start_time": "2023-04-17T03:46:08.558Z"
   },
   {
    "duration": 27,
    "start_time": "2023-04-17T03:46:08.585Z"
   },
   {
    "duration": 22,
    "start_time": "2023-04-17T03:46:08.614Z"
   },
   {
    "duration": 40,
    "start_time": "2023-04-17T03:46:08.638Z"
   },
   {
    "duration": 5,
    "start_time": "2023-04-17T03:46:08.680Z"
   },
   {
    "duration": 121,
    "start_time": "2023-04-17T03:46:08.686Z"
   },
   {
    "duration": 0,
    "start_time": "2023-04-17T03:46:08.809Z"
   },
   {
    "duration": 0,
    "start_time": "2023-04-17T03:46:08.811Z"
   },
   {
    "duration": 0,
    "start_time": "2023-04-17T03:46:08.814Z"
   },
   {
    "duration": 0,
    "start_time": "2023-04-17T03:46:08.816Z"
   },
   {
    "duration": 0,
    "start_time": "2023-04-17T03:46:08.817Z"
   },
   {
    "duration": 0,
    "start_time": "2023-04-17T03:46:08.819Z"
   },
   {
    "duration": 0,
    "start_time": "2023-04-17T03:46:08.835Z"
   },
   {
    "duration": 0,
    "start_time": "2023-04-17T03:46:08.836Z"
   },
   {
    "duration": 0,
    "start_time": "2023-04-17T03:46:08.838Z"
   },
   {
    "duration": 0,
    "start_time": "2023-04-17T03:46:08.839Z"
   },
   {
    "duration": 0,
    "start_time": "2023-04-17T03:46:08.841Z"
   },
   {
    "duration": 0,
    "start_time": "2023-04-17T03:46:08.842Z"
   },
   {
    "duration": 0,
    "start_time": "2023-04-17T03:46:08.843Z"
   },
   {
    "duration": 0,
    "start_time": "2023-04-17T03:46:08.845Z"
   },
   {
    "duration": 0,
    "start_time": "2023-04-17T03:46:08.847Z"
   },
   {
    "duration": 0,
    "start_time": "2023-04-17T03:46:08.849Z"
   },
   {
    "duration": 0,
    "start_time": "2023-04-17T03:46:08.850Z"
   },
   {
    "duration": 0,
    "start_time": "2023-04-17T03:46:08.852Z"
   },
   {
    "duration": 0,
    "start_time": "2023-04-17T03:46:08.853Z"
   },
   {
    "duration": 0,
    "start_time": "2023-04-17T03:46:08.854Z"
   },
   {
    "duration": 0,
    "start_time": "2023-04-17T03:46:08.856Z"
   },
   {
    "duration": 0,
    "start_time": "2023-04-17T03:46:08.858Z"
   },
   {
    "duration": 0,
    "start_time": "2023-04-17T03:46:08.860Z"
   },
   {
    "duration": 0,
    "start_time": "2023-04-17T03:46:08.861Z"
   },
   {
    "duration": 0,
    "start_time": "2023-04-17T03:46:08.862Z"
   },
   {
    "duration": 82,
    "start_time": "2023-04-17T06:56:54.987Z"
   },
   {
    "duration": 555,
    "start_time": "2023-04-17T06:57:02.555Z"
   },
   {
    "duration": 658,
    "start_time": "2023-04-17T06:57:03.113Z"
   },
   {
    "duration": 4,
    "start_time": "2023-04-17T06:57:03.773Z"
   },
   {
    "duration": 712,
    "start_time": "2023-04-17T06:57:03.778Z"
   },
   {
    "duration": 401,
    "start_time": "2023-04-17T06:57:04.493Z"
   },
   {
    "duration": 226,
    "start_time": "2023-04-17T06:57:04.896Z"
   },
   {
    "duration": 8,
    "start_time": "2023-04-17T06:57:05.124Z"
   },
   {
    "duration": 105,
    "start_time": "2023-04-17T06:57:05.139Z"
   },
   {
    "duration": 152,
    "start_time": "2023-04-17T06:57:05.246Z"
   },
   {
    "duration": 102,
    "start_time": "2023-04-17T06:57:05.400Z"
   },
   {
    "duration": 102,
    "start_time": "2023-04-17T06:57:05.505Z"
   },
   {
    "duration": 8,
    "start_time": "2023-04-17T06:57:05.609Z"
   },
   {
    "duration": 77,
    "start_time": "2023-04-17T06:57:05.619Z"
   },
   {
    "duration": 11,
    "start_time": "2023-04-17T06:57:05.701Z"
   },
   {
    "duration": 39,
    "start_time": "2023-04-17T06:57:05.714Z"
   },
   {
    "duration": 91,
    "start_time": "2023-04-17T06:57:05.757Z"
   },
   {
    "duration": 81,
    "start_time": "2023-04-17T06:57:05.850Z"
   },
   {
    "duration": 84,
    "start_time": "2023-04-17T06:57:05.938Z"
   },
   {
    "duration": 84,
    "start_time": "2023-04-17T06:57:06.025Z"
   },
   {
    "duration": 85,
    "start_time": "2023-04-17T06:57:06.111Z"
   },
   {
    "duration": 45,
    "start_time": "2023-04-17T06:57:06.198Z"
   },
   {
    "duration": 129,
    "start_time": "2023-04-17T06:57:06.245Z"
   },
   {
    "duration": 51,
    "start_time": "2023-04-17T06:57:06.380Z"
   },
   {
    "duration": 60,
    "start_time": "2023-04-17T06:57:06.437Z"
   },
   {
    "duration": 167,
    "start_time": "2023-04-17T06:57:06.507Z"
   },
   {
    "duration": 67,
    "start_time": "2023-04-17T06:57:06.680Z"
   },
   {
    "duration": 64,
    "start_time": "2023-04-17T06:57:06.756Z"
   },
   {
    "duration": 68,
    "start_time": "2023-04-17T06:57:06.822Z"
   },
   {
    "duration": 73,
    "start_time": "2023-04-17T06:57:06.891Z"
   },
   {
    "duration": 61,
    "start_time": "2023-04-17T06:57:06.966Z"
   },
   {
    "duration": 56,
    "start_time": "2023-04-17T06:57:07.031Z"
   },
   {
    "duration": 35,
    "start_time": "2023-04-17T06:57:07.092Z"
   },
   {
    "duration": 86,
    "start_time": "2023-04-17T06:57:07.129Z"
   },
   {
    "duration": 43,
    "start_time": "2023-04-17T06:57:07.217Z"
   },
   {
    "duration": 155,
    "start_time": "2023-04-17T06:57:07.262Z"
   },
   {
    "duration": 10,
    "start_time": "2023-04-17T06:57:07.422Z"
   },
   {
    "duration": 299,
    "start_time": "2023-04-17T06:57:07.434Z"
   },
   {
    "duration": 12,
    "start_time": "2023-04-17T06:57:07.734Z"
   },
   {
    "duration": 49,
    "start_time": "2023-04-17T06:57:07.748Z"
   },
   {
    "duration": 27,
    "start_time": "2023-04-17T06:57:07.799Z"
   },
   {
    "duration": 87,
    "start_time": "2023-04-17T06:57:07.830Z"
   },
   {
    "duration": 35,
    "start_time": "2023-04-17T06:57:07.919Z"
   },
   {
    "duration": 94,
    "start_time": "2023-04-17T06:57:07.957Z"
   },
   {
    "duration": 75,
    "start_time": "2023-04-17T06:57:08.053Z"
   },
   {
    "duration": 466,
    "start_time": "2023-04-17T06:57:08.131Z"
   },
   {
    "duration": 25,
    "start_time": "2023-04-17T06:57:08.599Z"
   },
   {
    "duration": 13,
    "start_time": "2023-04-17T06:57:08.627Z"
   },
   {
    "duration": 65,
    "start_time": "2023-04-17T06:57:08.642Z"
   },
   {
    "duration": 7,
    "start_time": "2023-04-17T06:57:08.709Z"
   },
   {
    "duration": 212,
    "start_time": "2023-04-17T06:57:08.717Z"
   },
   {
    "duration": 7,
    "start_time": "2023-04-17T06:57:08.930Z"
   },
   {
    "duration": 287,
    "start_time": "2023-04-17T06:57:08.943Z"
   },
   {
    "duration": 22,
    "start_time": "2023-04-17T06:57:09.233Z"
   },
   {
    "duration": 104,
    "start_time": "2023-04-17T06:57:09.257Z"
   },
   {
    "duration": 864,
    "start_time": "2023-04-17T06:57:09.363Z"
   },
   {
    "duration": 33,
    "start_time": "2023-04-17T06:57:10.234Z"
   },
   {
    "duration": 76,
    "start_time": "2023-04-17T06:57:10.269Z"
   },
   {
    "duration": 46,
    "start_time": "2023-04-17T06:57:10.347Z"
   },
   {
    "duration": 60,
    "start_time": "2023-04-17T06:57:10.395Z"
   },
   {
    "duration": 50,
    "start_time": "2023-04-17T06:57:10.457Z"
   },
   {
    "duration": 230,
    "start_time": "2023-04-17T06:57:10.509Z"
   },
   {
    "duration": 5,
    "start_time": "2023-04-17T06:57:10.742Z"
   },
   {
    "duration": 72,
    "start_time": "2023-04-17T06:57:10.749Z"
   },
   {
    "duration": 237,
    "start_time": "2023-04-17T06:57:10.823Z"
   },
   {
    "duration": 209,
    "start_time": "2023-04-17T06:57:11.062Z"
   },
   {
    "duration": 182,
    "start_time": "2023-04-17T06:57:11.276Z"
   },
   {
    "duration": 17,
    "start_time": "2023-04-17T06:57:11.463Z"
   },
   {
    "duration": 49,
    "start_time": "2023-04-17T06:57:11.485Z"
   },
   {
    "duration": 85,
    "start_time": "2023-04-17T06:57:11.538Z"
   },
   {
    "duration": 19,
    "start_time": "2023-04-17T06:57:11.625Z"
   },
   {
    "duration": 31,
    "start_time": "2023-04-17T06:58:01.820Z"
   },
   {
    "duration": 473,
    "start_time": "2023-04-17T06:58:22.714Z"
   },
   {
    "duration": 365,
    "start_time": "2023-04-17T06:58:23.188Z"
   },
   {
    "duration": 2,
    "start_time": "2023-04-17T06:58:23.558Z"
   },
   {
    "duration": 755,
    "start_time": "2023-04-17T06:58:23.562Z"
   },
   {
    "duration": 418,
    "start_time": "2023-04-17T06:58:24.319Z"
   },
   {
    "duration": 120,
    "start_time": "2023-04-17T06:58:24.739Z"
   },
   {
    "duration": 8,
    "start_time": "2023-04-17T06:58:24.861Z"
   },
   {
    "duration": 143,
    "start_time": "2023-04-17T06:58:24.871Z"
   },
   {
    "duration": 36,
    "start_time": "2023-04-17T06:58:25.016Z"
   },
   {
    "duration": 105,
    "start_time": "2023-04-17T06:58:25.054Z"
   },
   {
    "duration": 52,
    "start_time": "2023-04-17T06:58:25.161Z"
   },
   {
    "duration": 46,
    "start_time": "2023-04-17T06:58:25.217Z"
   },
   {
    "duration": 102,
    "start_time": "2023-04-17T06:58:25.265Z"
   },
   {
    "duration": 13,
    "start_time": "2023-04-17T06:58:25.372Z"
   },
   {
    "duration": 50,
    "start_time": "2023-04-17T06:58:25.387Z"
   },
   {
    "duration": 145,
    "start_time": "2023-04-17T06:58:25.439Z"
   },
   {
    "duration": 57,
    "start_time": "2023-04-17T06:58:25.586Z"
   },
   {
    "duration": 54,
    "start_time": "2023-04-17T06:58:25.645Z"
   },
   {
    "duration": 9,
    "start_time": "2023-04-17T06:58:25.701Z"
   },
   {
    "duration": 11,
    "start_time": "2023-04-17T06:58:25.712Z"
   },
   {
    "duration": 73,
    "start_time": "2023-04-17T06:58:25.725Z"
   },
   {
    "duration": 21,
    "start_time": "2023-04-17T06:58:25.800Z"
   },
   {
    "duration": 23,
    "start_time": "2023-04-17T06:58:25.823Z"
   },
   {
    "duration": 53,
    "start_time": "2023-04-17T06:58:25.848Z"
   },
   {
    "duration": 9,
    "start_time": "2023-04-17T06:58:25.903Z"
   },
   {
    "duration": 7,
    "start_time": "2023-04-17T06:58:25.913Z"
   },
   {
    "duration": 10,
    "start_time": "2023-04-17T06:58:25.922Z"
   },
   {
    "duration": 60,
    "start_time": "2023-04-17T06:58:25.938Z"
   },
   {
    "duration": 12,
    "start_time": "2023-04-17T06:58:26.000Z"
   },
   {
    "duration": 17,
    "start_time": "2023-04-17T06:58:26.014Z"
   },
   {
    "duration": 70,
    "start_time": "2023-04-17T06:58:26.033Z"
   },
   {
    "duration": 12,
    "start_time": "2023-04-17T06:58:26.105Z"
   },
   {
    "duration": 26,
    "start_time": "2023-04-17T06:58:26.118Z"
   },
   {
    "duration": 55,
    "start_time": "2023-04-17T06:58:26.145Z"
   },
   {
    "duration": 21,
    "start_time": "2023-04-17T06:58:26.202Z"
   },
   {
    "duration": 14,
    "start_time": "2023-04-17T06:58:26.225Z"
   },
   {
    "duration": 241,
    "start_time": "2023-04-17T06:58:26.243Z"
   },
   {
    "duration": 10,
    "start_time": "2023-04-17T06:58:26.489Z"
   },
   {
    "duration": 29,
    "start_time": "2023-04-17T06:58:26.504Z"
   },
   {
    "duration": 82,
    "start_time": "2023-04-17T06:58:26.540Z"
   },
   {
    "duration": 57,
    "start_time": "2023-04-17T06:58:26.628Z"
   },
   {
    "duration": 41,
    "start_time": "2023-04-17T06:58:26.689Z"
   },
   {
    "duration": 86,
    "start_time": "2023-04-17T06:58:26.732Z"
   },
   {
    "duration": 5,
    "start_time": "2023-04-17T06:58:26.820Z"
   },
   {
    "duration": 342,
    "start_time": "2023-04-17T06:58:26.827Z"
   },
   {
    "duration": 36,
    "start_time": "2023-04-17T06:58:27.170Z"
   },
   {
    "duration": 13,
    "start_time": "2023-04-17T06:58:27.208Z"
   },
   {
    "duration": 7,
    "start_time": "2023-04-17T06:58:27.222Z"
   },
   {
    "duration": 9,
    "start_time": "2023-04-17T06:58:27.234Z"
   },
   {
    "duration": 216,
    "start_time": "2023-04-17T06:58:27.245Z"
   },
   {
    "duration": 6,
    "start_time": "2023-04-17T06:58:27.463Z"
   },
   {
    "duration": 259,
    "start_time": "2023-04-17T06:58:27.471Z"
   },
   {
    "duration": 16,
    "start_time": "2023-04-17T06:58:27.732Z"
   },
   {
    "duration": 59,
    "start_time": "2023-04-17T06:58:27.750Z"
   },
   {
    "duration": 1135,
    "start_time": "2023-04-17T06:58:27.811Z"
   },
   {
    "duration": 83,
    "start_time": "2023-04-17T06:58:28.951Z"
   },
   {
    "duration": 130,
    "start_time": "2023-04-17T06:58:29.037Z"
   },
   {
    "duration": 8,
    "start_time": "2023-04-17T06:58:29.173Z"
   },
   {
    "duration": 313,
    "start_time": "2023-04-17T06:58:29.187Z"
   },
   {
    "duration": 35,
    "start_time": "2023-04-17T06:58:29.501Z"
   },
   {
    "duration": 543,
    "start_time": "2023-04-17T06:58:29.537Z"
   },
   {
    "duration": 9,
    "start_time": "2023-04-17T06:58:30.083Z"
   },
   {
    "duration": 122,
    "start_time": "2023-04-17T06:58:30.095Z"
   },
   {
    "duration": 292,
    "start_time": "2023-04-17T06:58:30.219Z"
   },
   {
    "duration": 237,
    "start_time": "2023-04-17T06:58:30.513Z"
   },
   {
    "duration": 225,
    "start_time": "2023-04-17T06:58:30.752Z"
   },
   {
    "duration": 33,
    "start_time": "2023-04-17T06:58:30.982Z"
   },
   {
    "duration": 101,
    "start_time": "2023-04-17T06:58:31.017Z"
   },
   {
    "duration": 55,
    "start_time": "2023-04-17T06:58:31.120Z"
   },
   {
    "duration": 127,
    "start_time": "2023-04-17T06:58:31.177Z"
   },
   {
    "duration": 160,
    "start_time": "2023-04-17T07:03:30.116Z"
   },
   {
    "duration": 155,
    "start_time": "2023-04-17T07:03:40.763Z"
   },
   {
    "duration": 293,
    "start_time": "2023-04-17T07:03:59.729Z"
   },
   {
    "duration": 366,
    "start_time": "2023-04-17T07:05:37.029Z"
   },
   {
    "duration": 26,
    "start_time": "2023-04-17T07:06:23.657Z"
   },
   {
    "duration": 144,
    "start_time": "2023-04-17T07:07:09.303Z"
   },
   {
    "duration": 142,
    "start_time": "2023-04-17T07:08:02.748Z"
   },
   {
    "duration": 191,
    "start_time": "2023-04-17T07:09:28.911Z"
   },
   {
    "duration": 258,
    "start_time": "2023-04-17T07:09:41.424Z"
   },
   {
    "duration": 6,
    "start_time": "2023-04-17T07:09:56.253Z"
   },
   {
    "duration": 11,
    "start_time": "2023-04-17T07:10:02.917Z"
   },
   {
    "duration": 187,
    "start_time": "2023-04-17T07:10:54.764Z"
   },
   {
    "duration": 343,
    "start_time": "2023-04-17T07:11:31.760Z"
   },
   {
    "duration": 188,
    "start_time": "2023-04-17T07:11:38.873Z"
   },
   {
    "duration": 299,
    "start_time": "2023-04-17T07:29:34.651Z"
   },
   {
    "duration": 198,
    "start_time": "2023-04-17T07:29:50.071Z"
   },
   {
    "duration": 258,
    "start_time": "2023-04-17T07:30:58.213Z"
   },
   {
    "duration": 398,
    "start_time": "2023-04-17T07:32:32.115Z"
   },
   {
    "duration": 12,
    "start_time": "2023-04-17T07:33:29.279Z"
   },
   {
    "duration": 275,
    "start_time": "2023-04-17T07:34:21.225Z"
   },
   {
    "duration": 221,
    "start_time": "2023-04-17T07:35:50.459Z"
   },
   {
    "duration": 214,
    "start_time": "2023-04-17T07:37:38.767Z"
   },
   {
    "duration": 170,
    "start_time": "2023-04-17T07:37:51.316Z"
   },
   {
    "duration": 276,
    "start_time": "2023-04-17T07:38:06.386Z"
   },
   {
    "duration": 219,
    "start_time": "2023-04-17T07:38:56.260Z"
   },
   {
    "duration": 241,
    "start_time": "2023-04-17T07:40:15.020Z"
   },
   {
    "duration": 213,
    "start_time": "2023-04-17T08:02:44.959Z"
   },
   {
    "duration": 186,
    "start_time": "2023-04-17T08:03:17.665Z"
   },
   {
    "duration": 173,
    "start_time": "2023-04-17T08:03:26.219Z"
   },
   {
    "duration": 51,
    "start_time": "2023-04-17T12:48:11.300Z"
   },
   {
    "duration": 410,
    "start_time": "2023-04-17T12:48:19.318Z"
   },
   {
    "duration": 400,
    "start_time": "2023-04-17T12:48:19.730Z"
   },
   {
    "duration": 5,
    "start_time": "2023-04-17T12:48:20.132Z"
   },
   {
    "duration": 526,
    "start_time": "2023-04-17T12:48:20.139Z"
   },
   {
    "duration": 266,
    "start_time": "2023-04-17T12:48:20.667Z"
   },
   {
    "duration": 71,
    "start_time": "2023-04-17T12:48:20.934Z"
   },
   {
    "duration": 8,
    "start_time": "2023-04-17T12:48:21.007Z"
   },
   {
    "duration": 36,
    "start_time": "2023-04-17T12:48:21.017Z"
   },
   {
    "duration": 19,
    "start_time": "2023-04-17T12:48:21.055Z"
   },
   {
    "duration": 14,
    "start_time": "2023-04-17T12:48:21.077Z"
   },
   {
    "duration": 9,
    "start_time": "2023-04-17T12:48:21.092Z"
   },
   {
    "duration": 14,
    "start_time": "2023-04-17T12:48:21.102Z"
   },
   {
    "duration": 55,
    "start_time": "2023-04-17T12:48:21.118Z"
   },
   {
    "duration": 9,
    "start_time": "2023-04-17T12:48:21.176Z"
   },
   {
    "duration": 8,
    "start_time": "2023-04-17T12:48:21.187Z"
   },
   {
    "duration": 25,
    "start_time": "2023-04-17T12:48:21.197Z"
   },
   {
    "duration": 35,
    "start_time": "2023-04-17T12:48:21.224Z"
   },
   {
    "duration": 7,
    "start_time": "2023-04-17T12:48:21.262Z"
   },
   {
    "duration": 27,
    "start_time": "2023-04-17T12:48:21.271Z"
   },
   {
    "duration": 11,
    "start_time": "2023-04-17T12:48:21.299Z"
   },
   {
    "duration": 11,
    "start_time": "2023-04-17T12:48:21.311Z"
   },
   {
    "duration": 20,
    "start_time": "2023-04-17T12:48:21.324Z"
   },
   {
    "duration": 28,
    "start_time": "2023-04-17T12:48:21.355Z"
   },
   {
    "duration": 6,
    "start_time": "2023-04-17T12:48:21.385Z"
   },
   {
    "duration": 5,
    "start_time": "2023-04-17T12:48:21.393Z"
   },
   {
    "duration": 10,
    "start_time": "2023-04-17T12:48:21.399Z"
   },
   {
    "duration": 13,
    "start_time": "2023-04-17T12:48:21.411Z"
   },
   {
    "duration": 30,
    "start_time": "2023-04-17T12:48:21.428Z"
   },
   {
    "duration": 8,
    "start_time": "2023-04-17T12:48:21.461Z"
   },
   {
    "duration": 9,
    "start_time": "2023-04-17T12:48:21.471Z"
   },
   {
    "duration": 8,
    "start_time": "2023-04-17T12:48:21.482Z"
   },
   {
    "duration": 3,
    "start_time": "2023-04-17T12:48:21.492Z"
   },
   {
    "duration": 22,
    "start_time": "2023-04-17T12:48:21.496Z"
   },
   {
    "duration": 62,
    "start_time": "2023-04-17T12:48:21.519Z"
   },
   {
    "duration": 20,
    "start_time": "2023-04-17T12:48:21.583Z"
   },
   {
    "duration": 4,
    "start_time": "2023-04-17T12:48:21.604Z"
   },
   {
    "duration": 163,
    "start_time": "2023-04-17T12:48:21.609Z"
   },
   {
    "duration": 6,
    "start_time": "2023-04-17T12:48:21.774Z"
   },
   {
    "duration": 7,
    "start_time": "2023-04-17T12:48:21.782Z"
   },
   {
    "duration": 18,
    "start_time": "2023-04-17T12:48:21.790Z"
   },
   {
    "duration": 49,
    "start_time": "2023-04-17T12:48:21.810Z"
   },
   {
    "duration": 18,
    "start_time": "2023-04-17T12:48:21.862Z"
   },
   {
    "duration": 34,
    "start_time": "2023-04-17T12:48:21.882Z"
   },
   {
    "duration": 6,
    "start_time": "2023-04-17T12:48:21.918Z"
   },
   {
    "duration": 169,
    "start_time": "2023-04-17T12:48:21.925Z"
   },
   {
    "duration": 19,
    "start_time": "2023-04-17T12:48:22.095Z"
   },
   {
    "duration": 14,
    "start_time": "2023-04-17T12:48:22.116Z"
   },
   {
    "duration": 7,
    "start_time": "2023-04-17T12:48:22.131Z"
   },
   {
    "duration": 10,
    "start_time": "2023-04-17T12:48:22.159Z"
   },
   {
    "duration": 152,
    "start_time": "2023-04-17T12:48:22.171Z"
   },
   {
    "duration": 5,
    "start_time": "2023-04-17T12:48:22.325Z"
   },
   {
    "duration": 207,
    "start_time": "2023-04-17T12:48:22.332Z"
   },
   {
    "duration": 27,
    "start_time": "2023-04-17T12:48:22.541Z"
   },
   {
    "duration": 14,
    "start_time": "2023-04-17T12:48:22.570Z"
   },
   {
    "duration": 721,
    "start_time": "2023-04-17T12:48:22.585Z"
   },
   {
    "duration": 29,
    "start_time": "2023-04-17T12:48:23.307Z"
   },
   {
    "duration": 54,
    "start_time": "2023-04-17T12:48:23.338Z"
   },
   {
    "duration": 4,
    "start_time": "2023-04-17T12:48:23.393Z"
   },
   {
    "duration": 34,
    "start_time": "2023-04-17T12:48:23.399Z"
   },
   {
    "duration": 30,
    "start_time": "2023-04-17T12:48:23.435Z"
   },
   {
    "duration": 141,
    "start_time": "2023-04-17T12:48:23.468Z"
   },
   {
    "duration": 5,
    "start_time": "2023-04-17T12:48:23.610Z"
   },
   {
    "duration": 8,
    "start_time": "2023-04-17T12:48:23.616Z"
   },
   {
    "duration": 170,
    "start_time": "2023-04-17T12:48:23.626Z"
   },
   {
    "duration": 162,
    "start_time": "2023-04-17T12:48:23.798Z"
   },
   {
    "duration": 155,
    "start_time": "2023-04-17T12:48:23.962Z"
   },
   {
    "duration": 12,
    "start_time": "2023-04-17T12:48:24.120Z"
   },
   {
    "duration": 36,
    "start_time": "2023-04-17T12:48:24.134Z"
   },
   {
    "duration": 36,
    "start_time": "2023-04-17T12:48:24.172Z"
   },
   {
    "duration": 12,
    "start_time": "2023-04-17T12:48:24.210Z"
   },
   {
    "duration": 444,
    "start_time": "2023-04-18T00:45:32.956Z"
   },
   {
    "duration": 272,
    "start_time": "2023-04-18T00:45:33.402Z"
   },
   {
    "duration": 2,
    "start_time": "2023-04-18T00:45:33.676Z"
   },
   {
    "duration": 535,
    "start_time": "2023-04-18T00:45:33.697Z"
   },
   {
    "duration": 286,
    "start_time": "2023-04-18T00:45:34.234Z"
   },
   {
    "duration": 133,
    "start_time": "2023-04-18T00:45:34.522Z"
   },
   {
    "duration": 6,
    "start_time": "2023-04-18T00:45:34.656Z"
   },
   {
    "duration": 17,
    "start_time": "2023-04-18T00:45:34.663Z"
   },
   {
    "duration": 27,
    "start_time": "2023-04-18T00:45:34.682Z"
   },
   {
    "duration": 21,
    "start_time": "2023-04-18T00:45:34.712Z"
   },
   {
    "duration": 8,
    "start_time": "2023-04-18T00:45:34.735Z"
   },
   {
    "duration": 12,
    "start_time": "2023-04-18T00:45:34.745Z"
   },
   {
    "duration": 55,
    "start_time": "2023-04-18T00:45:34.759Z"
   },
   {
    "duration": 7,
    "start_time": "2023-04-18T00:45:34.816Z"
   },
   {
    "duration": 10,
    "start_time": "2023-04-18T00:45:34.824Z"
   },
   {
    "duration": 29,
    "start_time": "2023-04-18T00:45:34.836Z"
   },
   {
    "duration": 10,
    "start_time": "2023-04-18T00:45:34.866Z"
   },
   {
    "duration": 8,
    "start_time": "2023-04-18T00:45:34.893Z"
   },
   {
    "duration": 8,
    "start_time": "2023-04-18T00:45:34.903Z"
   },
   {
    "duration": 13,
    "start_time": "2023-04-18T00:45:34.912Z"
   },
   {
    "duration": 11,
    "start_time": "2023-04-18T00:45:34.927Z"
   },
   {
    "duration": 20,
    "start_time": "2023-04-18T00:45:34.940Z"
   },
   {
    "duration": 37,
    "start_time": "2023-04-18T00:45:34.961Z"
   },
   {
    "duration": 9,
    "start_time": "2023-04-18T00:45:35.000Z"
   },
   {
    "duration": 8,
    "start_time": "2023-04-18T00:45:35.010Z"
   },
   {
    "duration": 20,
    "start_time": "2023-04-18T00:45:35.019Z"
   },
   {
    "duration": 12,
    "start_time": "2023-04-18T00:45:35.041Z"
   },
   {
    "duration": 16,
    "start_time": "2023-04-18T00:45:35.057Z"
   },
   {
    "duration": 10,
    "start_time": "2023-04-18T00:45:35.075Z"
   },
   {
    "duration": 25,
    "start_time": "2023-04-18T00:45:35.086Z"
   },
   {
    "duration": 31,
    "start_time": "2023-04-18T00:45:35.112Z"
   },
   {
    "duration": 29,
    "start_time": "2023-04-18T00:45:35.145Z"
   },
   {
    "duration": 55,
    "start_time": "2023-04-18T00:45:35.176Z"
   },
   {
    "duration": 21,
    "start_time": "2023-04-18T00:45:35.233Z"
   },
   {
    "duration": 20,
    "start_time": "2023-04-18T00:45:35.256Z"
   },
   {
    "duration": 5,
    "start_time": "2023-04-18T00:45:35.277Z"
   },
   {
    "duration": 157,
    "start_time": "2023-04-18T00:45:35.284Z"
   },
   {
    "duration": 6,
    "start_time": "2023-04-18T00:45:35.443Z"
   },
   {
    "duration": 7,
    "start_time": "2023-04-18T00:45:35.451Z"
   },
   {
    "duration": 42,
    "start_time": "2023-04-18T00:45:35.460Z"
   },
   {
    "duration": 27,
    "start_time": "2023-04-18T00:45:35.505Z"
   },
   {
    "duration": 40,
    "start_time": "2023-04-18T00:45:35.534Z"
   },
   {
    "duration": 55,
    "start_time": "2023-04-18T00:45:35.576Z"
   },
   {
    "duration": 6,
    "start_time": "2023-04-18T00:45:35.632Z"
   },
   {
    "duration": 172,
    "start_time": "2023-04-18T00:45:35.639Z"
   },
   {
    "duration": 21,
    "start_time": "2023-04-18T00:45:35.813Z"
   },
   {
    "duration": 12,
    "start_time": "2023-04-18T00:45:35.836Z"
   },
   {
    "duration": 14,
    "start_time": "2023-04-18T00:45:35.850Z"
   },
   {
    "duration": 35,
    "start_time": "2023-04-18T00:45:35.866Z"
   },
   {
    "duration": 164,
    "start_time": "2023-04-18T00:45:35.903Z"
   },
   {
    "duration": 6,
    "start_time": "2023-04-18T00:45:36.069Z"
   },
   {
    "duration": 223,
    "start_time": "2023-04-18T00:45:36.077Z"
   },
   {
    "duration": 12,
    "start_time": "2023-04-18T00:45:36.302Z"
   },
   {
    "duration": 16,
    "start_time": "2023-04-18T00:45:36.316Z"
   },
   {
    "duration": 575,
    "start_time": "2023-04-18T00:45:36.334Z"
   },
   {
    "duration": 30,
    "start_time": "2023-04-18T00:45:36.911Z"
   },
   {
    "duration": 59,
    "start_time": "2023-04-18T00:45:36.943Z"
   },
   {
    "duration": 4,
    "start_time": "2023-04-18T00:45:37.003Z"
   },
   {
    "duration": 119,
    "start_time": "2023-04-18T00:45:37.009Z"
   },
   {
    "duration": 7,
    "start_time": "2023-04-18T00:45:37.130Z"
   },
   {
    "duration": 164,
    "start_time": "2023-04-18T00:45:37.138Z"
   },
   {
    "duration": 4,
    "start_time": "2023-04-18T00:45:37.304Z"
   },
   {
    "duration": 29,
    "start_time": "2023-04-18T00:45:37.309Z"
   },
   {
    "duration": 169,
    "start_time": "2023-04-18T00:45:37.340Z"
   },
   {
    "duration": 156,
    "start_time": "2023-04-18T00:45:37.511Z"
   },
   {
    "duration": 164,
    "start_time": "2023-04-18T00:45:37.669Z"
   },
   {
    "duration": 11,
    "start_time": "2023-04-18T00:45:37.835Z"
   },
   {
    "duration": 22,
    "start_time": "2023-04-18T00:45:37.847Z"
   },
   {
    "duration": 49,
    "start_time": "2023-04-18T00:45:37.871Z"
   },
   {
    "duration": 14,
    "start_time": "2023-04-18T00:45:37.921Z"
   }
  ],
  "colab": {
   "provenance": [],
   "toc_visible": true
  },
  "kernelspec": {
   "display_name": "Python 3 (ipykernel)",
   "language": "python",
   "name": "python3"
  },
  "language_info": {
   "codemirror_mode": {
    "name": "ipython",
    "version": 3
   },
   "file_extension": ".py",
   "mimetype": "text/x-python",
   "name": "python",
   "nbconvert_exporter": "python",
   "pygments_lexer": "ipython3",
   "version": "3.9.5"
  },
  "toc": {
   "base_numbering": 1,
   "nav_menu": {},
   "number_sections": true,
   "sideBar": true,
   "skip_h1_title": true,
   "title_cell": "Table of Contents",
   "title_sidebar": "Contents",
   "toc_cell": false,
   "toc_position": {
    "height": "calc(100% - 180px)",
    "left": "10px",
    "top": "150px",
    "width": "319.411743px"
   },
   "toc_section_display": true,
   "toc_window_display": false
  }
 },
 "nbformat": 4,
 "nbformat_minor": 1
}
