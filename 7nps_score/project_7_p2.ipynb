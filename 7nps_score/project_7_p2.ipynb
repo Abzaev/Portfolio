{
 "cells": [
  {
   "cell_type": "code",
   "execution_count": 1,
   "id": "fc7efa54",
   "metadata": {},
   "outputs": [],
   "source": [
    "import os\n",
    "import pandas as pd\n",
    "import numpy as np\n",
    "\n",
    "from sqlalchemy import create_engine"
   ]
  },
  {
   "cell_type": "code",
   "execution_count": 2,
   "id": "0017f8e7",
   "metadata": {},
   "outputs": [],
   "source": [
    "path_to_db_local = 'telecomm_csi.db'\n",
    "path_to_db_platform = '/datasets/telecomm_csi.db'\n",
    "path_to_db = None\n",
    "\n",
    "if os.path.exists(path_to_db_local):\n",
    "    path_to_db = path_to_db_local\n",
    "elif os.path.exists(path_to_db_platform):\n",
    "    path_to_db = path_to_db_platform\n",
    "else:\n",
    "    raise Exception('Файл с базой данных SQLite не найден!')\n",
    "\n",
    "if path_to_db:\n",
    "    engine = create_engine(f'sqlite:///{path_to_db}', echo=False)"
   ]
  },
  {
   "cell_type": "code",
   "execution_count": 3,
   "id": "84ebad43",
   "metadata": {},
   "outputs": [],
   "source": [
    "query = \"\"\"\n",
    "SELECT t1.user_id,\n",
    "    CASE \n",
    "     WHEN t1.lt_day >= 365 THEN '1'\n",
    "     ELSE '0'\n",
    "    END AS is_new,\n",
    "t1.lt_day,\n",
    "t1.age,\n",
    "t1.gender_segment,\n",
    "t1.os_name,\n",
    "t1.cpe_type_name,\n",
    "t2.country,\n",
    "t2.city,\n",
    "substr(t3.title, instr(t3.title,' ')+1) AS age_segment,\n",
    "substr(t4.title, instr(t3.title,' ')+1) AS traffic_segment,\n",
    "substr(t5.title, instr(t3.title,' ')+1) AS lifetime_segment,\n",
    "t1.nps_score, \n",
    "  CASE\n",
    "    WHEN t1.nps_score >= 9 THEN 'promoters'\n",
    "    WHEN t1.nps_score>= 7 THEN 'passieves'\n",
    "    ELSE 'detractors'\n",
    "  END AS nps_group\n",
    "FROM user AS t1\n",
    "JOIN location AS t2 ON t1.location_id = t2.location_id\n",
    "JOIN age_segment AS t3 ON t1.age_gr_id = t3.age_gr_id\n",
    "JOIN traffic_segment AS t4 ON t1.tr_gr_id = t4.tr_gr_id\n",
    "JOIN lifetime_segment AS t5 ON t1.lt_gr_id = t5.lt_gr_id;\n",
    "\n",
    "\"\"\""
   ]
  },
  {
   "cell_type": "code",
   "execution_count": 4,
   "id": "3965faf2",
   "metadata": {},
   "outputs": [
    {
     "data": {
      "text/html": [
       "<div>\n",
       "<style scoped>\n",
       "    .dataframe tbody tr th:only-of-type {\n",
       "        vertical-align: middle;\n",
       "    }\n",
       "\n",
       "    .dataframe tbody tr th {\n",
       "        vertical-align: top;\n",
       "    }\n",
       "\n",
       "    .dataframe thead th {\n",
       "        text-align: right;\n",
       "    }\n",
       "</style>\n",
       "<table border=\"1\" class=\"dataframe\">\n",
       "  <thead>\n",
       "    <tr style=\"text-align: right;\">\n",
       "      <th></th>\n",
       "      <th>user_id</th>\n",
       "      <th>is_new</th>\n",
       "      <th>lt_day</th>\n",
       "      <th>age</th>\n",
       "      <th>gender_segment</th>\n",
       "      <th>os_name</th>\n",
       "      <th>cpe_type_name</th>\n",
       "      <th>country</th>\n",
       "      <th>city</th>\n",
       "      <th>age_segment</th>\n",
       "      <th>traffic_segment</th>\n",
       "      <th>lifetime_segment</th>\n",
       "      <th>nps_score</th>\n",
       "      <th>nps_group</th>\n",
       "    </tr>\n",
       "  </thead>\n",
       "  <tbody>\n",
       "    <tr>\n",
       "      <th>0</th>\n",
       "      <td>A001A2</td>\n",
       "      <td>1</td>\n",
       "      <td>2320</td>\n",
       "      <td>45.0</td>\n",
       "      <td>1.0</td>\n",
       "      <td>ANDROID</td>\n",
       "      <td>SMARTPHONE</td>\n",
       "      <td>Россия</td>\n",
       "      <td>Уфа</td>\n",
       "      <td>45-54</td>\n",
       "      <td>1-5</td>\n",
       "      <td>36+</td>\n",
       "      <td>10</td>\n",
       "      <td>promoters</td>\n",
       "    </tr>\n",
       "    <tr>\n",
       "      <th>1</th>\n",
       "      <td>A001WF</td>\n",
       "      <td>1</td>\n",
       "      <td>2344</td>\n",
       "      <td>53.0</td>\n",
       "      <td>0.0</td>\n",
       "      <td>ANDROID</td>\n",
       "      <td>SMARTPHONE</td>\n",
       "      <td>Россия</td>\n",
       "      <td>Киров</td>\n",
       "      <td>45-54</td>\n",
       "      <td>1-5</td>\n",
       "      <td>36+</td>\n",
       "      <td>10</td>\n",
       "      <td>promoters</td>\n",
       "    </tr>\n",
       "    <tr>\n",
       "      <th>2</th>\n",
       "      <td>A003Q7</td>\n",
       "      <td>1</td>\n",
       "      <td>467</td>\n",
       "      <td>57.0</td>\n",
       "      <td>0.0</td>\n",
       "      <td>ANDROID</td>\n",
       "      <td>SMARTPHONE</td>\n",
       "      <td>Россия</td>\n",
       "      <td>Москва</td>\n",
       "      <td>55-64</td>\n",
       "      <td>20-25</td>\n",
       "      <td>13-24</td>\n",
       "      <td>10</td>\n",
       "      <td>promoters</td>\n",
       "    </tr>\n",
       "  </tbody>\n",
       "</table>\n",
       "</div>"
      ],
      "text/plain": [
       "  user_id is_new  lt_day   age  gender_segment  os_name cpe_type_name country  \\\n",
       "0  A001A2      1    2320  45.0             1.0  ANDROID    SMARTPHONE  Россия   \n",
       "1  A001WF      1    2344  53.0             0.0  ANDROID    SMARTPHONE  Россия   \n",
       "2  A003Q7      1     467  57.0             0.0  ANDROID    SMARTPHONE  Россия   \n",
       "\n",
       "     city age_segment traffic_segment lifetime_segment  nps_score  nps_group  \n",
       "0     Уфа       45-54             1-5              36+         10  promoters  \n",
       "1   Киров       45-54             1-5              36+         10  promoters  \n",
       "2  Москва       55-64           20-25            13-24         10  promoters  "
      ]
     },
     "execution_count": 4,
     "metadata": {},
     "output_type": "execute_result"
    }
   ],
   "source": [
    "df = pd.read_sql(query, engine)\n",
    "df.head(3)"
   ]
  },
  {
   "cell_type": "code",
   "execution_count": 5,
   "id": "9db04858",
   "metadata": {},
   "outputs": [],
   "source": [
    "df.to_csv('telecomm_csi_tableau.csv', index=False)"
   ]
  },
  {
   "cell_type": "markdown",
   "id": "d908eb6d",
   "metadata": {},
   "source": [
    "Ссылка на презентацию: https://public.tableau.com/views/projectNPS_16880377197020/NPSResearch?:language=en-US&:display_count=n&:origin=viz_share_link"
   ]
  }
 ],
 "metadata": {
  "ExecuteTimeLog": [
   {
    "duration": 8,
    "start_time": "2023-06-27T04:40:24.538Z"
   },
   {
    "duration": 543,
    "start_time": "2023-06-27T04:40:31.819Z"
   },
   {
    "duration": 3,
    "start_time": "2023-06-27T04:40:39.761Z"
   },
   {
    "duration": 200,
    "start_time": "2023-06-27T04:40:39.766Z"
   },
   {
    "duration": 3,
    "start_time": "2023-06-27T04:40:39.968Z"
   },
   {
    "duration": 8913,
    "start_time": "2023-06-27T04:40:39.972Z"
   },
   {
    "duration": 7380,
    "start_time": "2023-06-27T04:40:48.887Z"
   },
   {
    "duration": 7056,
    "start_time": "2023-06-27T04:41:05.556Z"
   },
   {
    "duration": 7160,
    "start_time": "2023-06-27T04:41:53.657Z"
   },
   {
    "duration": 4868,
    "start_time": "2023-06-27T04:50:47.587Z"
   },
   {
    "duration": 5800,
    "start_time": "2023-06-27T04:51:12.669Z"
   },
   {
    "duration": 522,
    "start_time": "2023-06-27T04:53:31.713Z"
   },
   {
    "duration": 331,
    "start_time": "2023-06-27T04:53:32.237Z"
   },
   {
    "duration": 3,
    "start_time": "2023-06-27T04:53:32.570Z"
   },
   {
    "duration": 8522,
    "start_time": "2023-06-27T04:53:32.575Z"
   },
   {
    "duration": 6417,
    "start_time": "2023-06-27T04:53:41.098Z"
   },
   {
    "duration": 5503,
    "start_time": "2023-06-27T04:53:47.517Z"
   },
   {
    "duration": 636,
    "start_time": "2023-06-29T06:15:20.255Z"
   },
   {
    "duration": 91,
    "start_time": "2023-06-29T06:15:20.897Z"
   },
   {
    "duration": 5,
    "start_time": "2023-06-29T06:15:20.990Z"
   },
   {
    "duration": 8829,
    "start_time": "2023-06-29T06:15:20.996Z"
   },
   {
    "duration": 7150,
    "start_time": "2023-06-29T06:15:29.828Z"
   },
   {
    "duration": 2,
    "start_time": "2023-06-29T06:55:10.112Z"
   },
   {
    "duration": 673,
    "start_time": "2023-06-29T06:55:14.282Z"
   },
   {
    "duration": 3,
    "start_time": "2023-06-29T06:55:34.547Z"
   },
   {
    "duration": 4584,
    "start_time": "2023-06-29T06:55:40.607Z"
   },
   {
    "duration": 5140,
    "start_time": "2023-06-29T06:55:57.576Z"
   },
   {
    "duration": 602,
    "start_time": "2023-06-29T06:56:18.873Z"
   },
   {
    "duration": 114,
    "start_time": "2023-06-29T06:56:19.479Z"
   },
   {
    "duration": 3,
    "start_time": "2023-06-29T06:56:19.597Z"
   },
   {
    "duration": 5496,
    "start_time": "2023-06-29T06:56:19.603Z"
   },
   {
    "duration": 5405,
    "start_time": "2023-06-29T06:56:25.101Z"
   },
   {
    "duration": 582,
    "start_time": "2023-06-30T11:44:59.318Z"
   },
   {
    "duration": 129,
    "start_time": "2023-06-30T11:44:59.902Z"
   },
   {
    "duration": 4,
    "start_time": "2023-06-30T11:45:00.033Z"
   },
   {
    "duration": 6326,
    "start_time": "2023-06-30T11:45:00.039Z"
   },
   {
    "duration": 4758,
    "start_time": "2023-06-30T11:45:06.367Z"
   },
   {
    "duration": 677,
    "start_time": "2023-07-04T11:58:54.025Z"
   },
   {
    "duration": 104,
    "start_time": "2023-07-04T11:58:54.705Z"
   },
   {
    "duration": 5,
    "start_time": "2023-07-04T11:58:54.812Z"
   },
   {
    "duration": 6900,
    "start_time": "2023-07-04T11:58:54.819Z"
   },
   {
    "duration": 7271,
    "start_time": "2023-07-04T11:59:01.722Z"
   },
   {
    "duration": 955,
    "start_time": "2023-07-05T04:03:41.994Z"
   },
   {
    "duration": 31,
    "start_time": "2023-07-05T04:03:42.951Z"
   },
   {
    "duration": 3,
    "start_time": "2023-07-05T04:03:42.983Z"
   },
   {
    "duration": 9360,
    "start_time": "2023-07-05T04:03:42.988Z"
   },
   {
    "duration": 5397,
    "start_time": "2023-07-05T04:03:52.350Z"
   },
   {
    "duration": 528,
    "start_time": "2023-07-05T05:39:45.793Z"
   },
   {
    "duration": 114,
    "start_time": "2023-07-05T05:39:46.323Z"
   },
   {
    "duration": 3,
    "start_time": "2023-07-05T05:39:46.438Z"
   },
   {
    "duration": 4807,
    "start_time": "2023-07-05T05:39:46.442Z"
   },
   {
    "duration": 4168,
    "start_time": "2023-07-05T05:39:51.251Z"
   },
   {
    "duration": 455,
    "start_time": "2023-07-05T05:40:27.143Z"
   },
   {
    "duration": 90,
    "start_time": "2023-07-05T05:40:27.599Z"
   },
   {
    "duration": 3,
    "start_time": "2023-07-05T05:40:27.691Z"
   },
   {
    "duration": 4586,
    "start_time": "2023-07-05T05:40:27.696Z"
   },
   {
    "duration": 4127,
    "start_time": "2023-07-05T05:40:32.284Z"
   },
   {
    "duration": 759,
    "start_time": "2023-07-07T07:50:10.733Z"
   },
   {
    "duration": 106,
    "start_time": "2023-07-07T07:50:11.495Z"
   },
   {
    "duration": 5,
    "start_time": "2023-07-07T07:50:11.604Z"
   },
   {
    "duration": 8728,
    "start_time": "2023-07-07T07:50:11.612Z"
   },
   {
    "duration": 5662,
    "start_time": "2023-07-07T07:50:20.343Z"
   },
   {
    "duration": 500,
    "start_time": "2023-07-08T04:08:03.623Z"
   },
   {
    "duration": 9,
    "start_time": "2023-07-08T04:08:04.125Z"
   },
   {
    "duration": 6,
    "start_time": "2023-07-08T04:08:04.135Z"
   },
   {
    "duration": 5397,
    "start_time": "2023-07-08T04:08:04.142Z"
   },
   {
    "duration": 4324,
    "start_time": "2023-07-08T04:08:09.541Z"
   }
  ],
  "kernelspec": {
   "display_name": "Python 3 (ipykernel)",
   "language": "python",
   "name": "python3"
  },
  "language_info": {
   "codemirror_mode": {
    "name": "ipython",
    "version": 3
   },
   "file_extension": ".py",
   "mimetype": "text/x-python",
   "name": "python",
   "nbconvert_exporter": "python",
   "pygments_lexer": "ipython3",
   "version": "3.9.5"
  },
  "toc": {
   "base_numbering": 1,
   "nav_menu": {},
   "number_sections": true,
   "sideBar": true,
   "skip_h1_title": true,
   "title_cell": "Table of Contents",
   "title_sidebar": "Contents",
   "toc_cell": false,
   "toc_position": {},
   "toc_section_display": true,
   "toc_window_display": false
  }
 },
 "nbformat": 4,
 "nbformat_minor": 5
}
