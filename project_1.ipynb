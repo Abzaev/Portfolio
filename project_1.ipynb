{
 "cells": [
  {
   "cell_type": "markdown",
   "metadata": {
    "deletable": false,
    "editable": false,
    "id": "E0vqbgi9ay0H"
   },
   "source": [
    "# Яндекс.Музыка"
   ]
  },
  {
   "cell_type": "markdown",
   "metadata": {
    "deletable": false,
    "editable": false,
    "id": "VUC88oWjTJw2"
   },
   "source": [
    "Сравнение Москвы и Петербурга окружено мифами. Например:\n",
    " * Москва — мегаполис, подчинённый жёсткому ритму рабочей недели;\n",
    " * Петербург — культурная столица, со своими вкусами.\n",
    "\n",
    "На данных Яндекс Музыки вы сравните поведение пользователей двух столиц.\n",
    "\n",
    "**Цель исследования** — проверьте три гипотезы:\n",
    "1. Активность пользователей зависит от дня недели. Причём в Москве и Петербурге это проявляется по-разному.\n",
    "2. В понедельник утром в Москве преобладают одни жанры, а в Петербурге — другие. Так же и вечером пятницы преобладают разные жанры — в зависимости от города. \n",
    "3. Москва и Петербург предпочитают разные жанры музыки. В Москве чаще слушают поп-музыку, в Петербурге — русский рэп.\n",
    "\n",
    "**Ход исследования**\n",
    "\n",
    "Данные о поведении пользователей вы получите из файла `yandex_music_project.csv`. О качестве данных ничего не известно. Поэтому перед проверкой гипотез понадобится обзор данных. \n",
    "\n",
    "Вы проверите данные на ошибки и оцените их влияние на исследование. Затем, на этапе предобработки вы поищете возможность исправить самые критичные ошибки данных.\n",
    " \n",
    "Таким образом, исследование пройдёт в три этапа:\n",
    " 1. Обзор данных.\n",
    " 2. Предобработка данных.\n",
    " 3. Проверка гипотез.\n",
    "\n"
   ]
  },
  {
   "cell_type": "markdown",
   "metadata": {
    "deletable": false,
    "editable": false,
    "id": "Ml1hmfXC_Zcs"
   },
   "source": [
    "## Обзор данных\n",
    "\n",
    "Составьте первое представление о данных Яндекс Музыки.\n",
    "\n",
    "\n"
   ]
  },
  {
   "cell_type": "markdown",
   "metadata": {
    "deletable": false,
    "editable": false,
    "id": "57eAOGIz_Zcs",
    "tags": [
     "start_task"
    ]
   },
   "source": [
    "**Задание 1**\n",
    "\n",
    "Основной инструмент аналитика — `pandas`. Импортируйте эту библиотеку."
   ]
  },
  {
   "cell_type": "code",
   "execution_count": 1,
   "metadata": {
    "deletable": false,
    "id": "AXN7PHPN_Zcs"
   },
   "outputs": [],
   "source": [
    "import pandas as pd "
   ]
  },
  {
   "cell_type": "markdown",
   "metadata": {
    "deletable": false,
    "editable": false,
    "id": "SG23P8tt_Zcs",
    "tags": [
     "start_task"
    ]
   },
   "source": [
    "**Задание 2**\n",
    "\n",
    "Прочитайте файл `yandex_music_project.csv` из папки `/datasets` и сохраните его в переменной `df`:"
   ]
  },
  {
   "cell_type": "code",
   "execution_count": 2,
   "metadata": {
    "deletable": false,
    "id": "fFVu7vqh_Zct"
   },
   "outputs": [
    {
     "ename": "FileNotFoundError",
     "evalue": "[Errno 2] No such file or directory: '/datasets/yandex_music_project.csv'",
     "output_type": "error",
     "traceback": [
      "\u001b[1;31m---------------------------------------------------------------------------\u001b[0m",
      "\u001b[1;31mFileNotFoundError\u001b[0m                         Traceback (most recent call last)",
      "Cell \u001b[1;32mIn[2], line 1\u001b[0m\n\u001b[1;32m----> 1\u001b[0m df \u001b[38;5;241m=\u001b[39m \u001b[43mpd\u001b[49m\u001b[38;5;241;43m.\u001b[39;49m\u001b[43mread_csv\u001b[49m\u001b[43m(\u001b[49m\u001b[38;5;124;43m'\u001b[39;49m\u001b[38;5;124;43m/datasets/yandex_music_project.csv\u001b[39;49m\u001b[38;5;124;43m'\u001b[39;49m\u001b[43m)\u001b[49m\n",
      "File \u001b[1;32m~\\anaconda3\\lib\\site-packages\\pandas\\util\\_decorators.py:211\u001b[0m, in \u001b[0;36mdeprecate_kwarg.<locals>._deprecate_kwarg.<locals>.wrapper\u001b[1;34m(*args, **kwargs)\u001b[0m\n\u001b[0;32m    209\u001b[0m     \u001b[38;5;28;01melse\u001b[39;00m:\n\u001b[0;32m    210\u001b[0m         kwargs[new_arg_name] \u001b[38;5;241m=\u001b[39m new_arg_value\n\u001b[1;32m--> 211\u001b[0m \u001b[38;5;28;01mreturn\u001b[39;00m func(\u001b[38;5;241m*\u001b[39margs, \u001b[38;5;241m*\u001b[39m\u001b[38;5;241m*\u001b[39mkwargs)\n",
      "File \u001b[1;32m~\\anaconda3\\lib\\site-packages\\pandas\\util\\_decorators.py:331\u001b[0m, in \u001b[0;36mdeprecate_nonkeyword_arguments.<locals>.decorate.<locals>.wrapper\u001b[1;34m(*args, **kwargs)\u001b[0m\n\u001b[0;32m    325\u001b[0m \u001b[38;5;28;01mif\u001b[39;00m \u001b[38;5;28mlen\u001b[39m(args) \u001b[38;5;241m>\u001b[39m num_allow_args:\n\u001b[0;32m    326\u001b[0m     warnings\u001b[38;5;241m.\u001b[39mwarn(\n\u001b[0;32m    327\u001b[0m         msg\u001b[38;5;241m.\u001b[39mformat(arguments\u001b[38;5;241m=\u001b[39m_format_argument_list(allow_args)),\n\u001b[0;32m    328\u001b[0m         \u001b[38;5;167;01mFutureWarning\u001b[39;00m,\n\u001b[0;32m    329\u001b[0m         stacklevel\u001b[38;5;241m=\u001b[39mfind_stack_level(),\n\u001b[0;32m    330\u001b[0m     )\n\u001b[1;32m--> 331\u001b[0m \u001b[38;5;28;01mreturn\u001b[39;00m func(\u001b[38;5;241m*\u001b[39margs, \u001b[38;5;241m*\u001b[39m\u001b[38;5;241m*\u001b[39mkwargs)\n",
      "File \u001b[1;32m~\\anaconda3\\lib\\site-packages\\pandas\\io\\parsers\\readers.py:950\u001b[0m, in \u001b[0;36mread_csv\u001b[1;34m(filepath_or_buffer, sep, delimiter, header, names, index_col, usecols, squeeze, prefix, mangle_dupe_cols, dtype, engine, converters, true_values, false_values, skipinitialspace, skiprows, skipfooter, nrows, na_values, keep_default_na, na_filter, verbose, skip_blank_lines, parse_dates, infer_datetime_format, keep_date_col, date_parser, dayfirst, cache_dates, iterator, chunksize, compression, thousands, decimal, lineterminator, quotechar, quoting, doublequote, escapechar, comment, encoding, encoding_errors, dialect, error_bad_lines, warn_bad_lines, on_bad_lines, delim_whitespace, low_memory, memory_map, float_precision, storage_options)\u001b[0m\n\u001b[0;32m    935\u001b[0m kwds_defaults \u001b[38;5;241m=\u001b[39m _refine_defaults_read(\n\u001b[0;32m    936\u001b[0m     dialect,\n\u001b[0;32m    937\u001b[0m     delimiter,\n\u001b[1;32m   (...)\u001b[0m\n\u001b[0;32m    946\u001b[0m     defaults\u001b[38;5;241m=\u001b[39m{\u001b[38;5;124m\"\u001b[39m\u001b[38;5;124mdelimiter\u001b[39m\u001b[38;5;124m\"\u001b[39m: \u001b[38;5;124m\"\u001b[39m\u001b[38;5;124m,\u001b[39m\u001b[38;5;124m\"\u001b[39m},\n\u001b[0;32m    947\u001b[0m )\n\u001b[0;32m    948\u001b[0m kwds\u001b[38;5;241m.\u001b[39mupdate(kwds_defaults)\n\u001b[1;32m--> 950\u001b[0m \u001b[38;5;28;01mreturn\u001b[39;00m \u001b[43m_read\u001b[49m\u001b[43m(\u001b[49m\u001b[43mfilepath_or_buffer\u001b[49m\u001b[43m,\u001b[49m\u001b[43m \u001b[49m\u001b[43mkwds\u001b[49m\u001b[43m)\u001b[49m\n",
      "File \u001b[1;32m~\\anaconda3\\lib\\site-packages\\pandas\\io\\parsers\\readers.py:605\u001b[0m, in \u001b[0;36m_read\u001b[1;34m(filepath_or_buffer, kwds)\u001b[0m\n\u001b[0;32m    602\u001b[0m _validate_names(kwds\u001b[38;5;241m.\u001b[39mget(\u001b[38;5;124m\"\u001b[39m\u001b[38;5;124mnames\u001b[39m\u001b[38;5;124m\"\u001b[39m, \u001b[38;5;28;01mNone\u001b[39;00m))\n\u001b[0;32m    604\u001b[0m \u001b[38;5;66;03m# Create the parser.\u001b[39;00m\n\u001b[1;32m--> 605\u001b[0m parser \u001b[38;5;241m=\u001b[39m TextFileReader(filepath_or_buffer, \u001b[38;5;241m*\u001b[39m\u001b[38;5;241m*\u001b[39mkwds)\n\u001b[0;32m    607\u001b[0m \u001b[38;5;28;01mif\u001b[39;00m chunksize \u001b[38;5;129;01mor\u001b[39;00m iterator:\n\u001b[0;32m    608\u001b[0m     \u001b[38;5;28;01mreturn\u001b[39;00m parser\n",
      "File \u001b[1;32m~\\anaconda3\\lib\\site-packages\\pandas\\io\\parsers\\readers.py:1442\u001b[0m, in \u001b[0;36mTextFileReader.__init__\u001b[1;34m(self, f, engine, **kwds)\u001b[0m\n\u001b[0;32m   1439\u001b[0m     \u001b[38;5;28mself\u001b[39m\u001b[38;5;241m.\u001b[39moptions[\u001b[38;5;124m\"\u001b[39m\u001b[38;5;124mhas_index_names\u001b[39m\u001b[38;5;124m\"\u001b[39m] \u001b[38;5;241m=\u001b[39m kwds[\u001b[38;5;124m\"\u001b[39m\u001b[38;5;124mhas_index_names\u001b[39m\u001b[38;5;124m\"\u001b[39m]\n\u001b[0;32m   1441\u001b[0m \u001b[38;5;28mself\u001b[39m\u001b[38;5;241m.\u001b[39mhandles: IOHandles \u001b[38;5;241m|\u001b[39m \u001b[38;5;28;01mNone\u001b[39;00m \u001b[38;5;241m=\u001b[39m \u001b[38;5;28;01mNone\u001b[39;00m\n\u001b[1;32m-> 1442\u001b[0m \u001b[38;5;28mself\u001b[39m\u001b[38;5;241m.\u001b[39m_engine \u001b[38;5;241m=\u001b[39m \u001b[38;5;28;43mself\u001b[39;49m\u001b[38;5;241;43m.\u001b[39;49m\u001b[43m_make_engine\u001b[49m\u001b[43m(\u001b[49m\u001b[43mf\u001b[49m\u001b[43m,\u001b[49m\u001b[43m \u001b[49m\u001b[38;5;28;43mself\u001b[39;49m\u001b[38;5;241;43m.\u001b[39;49m\u001b[43mengine\u001b[49m\u001b[43m)\u001b[49m\n",
      "File \u001b[1;32m~\\anaconda3\\lib\\site-packages\\pandas\\io\\parsers\\readers.py:1735\u001b[0m, in \u001b[0;36mTextFileReader._make_engine\u001b[1;34m(self, f, engine)\u001b[0m\n\u001b[0;32m   1733\u001b[0m     \u001b[38;5;28;01mif\u001b[39;00m \u001b[38;5;124m\"\u001b[39m\u001b[38;5;124mb\u001b[39m\u001b[38;5;124m\"\u001b[39m \u001b[38;5;129;01mnot\u001b[39;00m \u001b[38;5;129;01min\u001b[39;00m mode:\n\u001b[0;32m   1734\u001b[0m         mode \u001b[38;5;241m+\u001b[39m\u001b[38;5;241m=\u001b[39m \u001b[38;5;124m\"\u001b[39m\u001b[38;5;124mb\u001b[39m\u001b[38;5;124m\"\u001b[39m\n\u001b[1;32m-> 1735\u001b[0m \u001b[38;5;28mself\u001b[39m\u001b[38;5;241m.\u001b[39mhandles \u001b[38;5;241m=\u001b[39m \u001b[43mget_handle\u001b[49m\u001b[43m(\u001b[49m\n\u001b[0;32m   1736\u001b[0m \u001b[43m    \u001b[49m\u001b[43mf\u001b[49m\u001b[43m,\u001b[49m\n\u001b[0;32m   1737\u001b[0m \u001b[43m    \u001b[49m\u001b[43mmode\u001b[49m\u001b[43m,\u001b[49m\n\u001b[0;32m   1738\u001b[0m \u001b[43m    \u001b[49m\u001b[43mencoding\u001b[49m\u001b[38;5;241;43m=\u001b[39;49m\u001b[38;5;28;43mself\u001b[39;49m\u001b[38;5;241;43m.\u001b[39;49m\u001b[43moptions\u001b[49m\u001b[38;5;241;43m.\u001b[39;49m\u001b[43mget\u001b[49m\u001b[43m(\u001b[49m\u001b[38;5;124;43m\"\u001b[39;49m\u001b[38;5;124;43mencoding\u001b[39;49m\u001b[38;5;124;43m\"\u001b[39;49m\u001b[43m,\u001b[49m\u001b[43m \u001b[49m\u001b[38;5;28;43;01mNone\u001b[39;49;00m\u001b[43m)\u001b[49m\u001b[43m,\u001b[49m\n\u001b[0;32m   1739\u001b[0m \u001b[43m    \u001b[49m\u001b[43mcompression\u001b[49m\u001b[38;5;241;43m=\u001b[39;49m\u001b[38;5;28;43mself\u001b[39;49m\u001b[38;5;241;43m.\u001b[39;49m\u001b[43moptions\u001b[49m\u001b[38;5;241;43m.\u001b[39;49m\u001b[43mget\u001b[49m\u001b[43m(\u001b[49m\u001b[38;5;124;43m\"\u001b[39;49m\u001b[38;5;124;43mcompression\u001b[39;49m\u001b[38;5;124;43m\"\u001b[39;49m\u001b[43m,\u001b[49m\u001b[43m \u001b[49m\u001b[38;5;28;43;01mNone\u001b[39;49;00m\u001b[43m)\u001b[49m\u001b[43m,\u001b[49m\n\u001b[0;32m   1740\u001b[0m \u001b[43m    \u001b[49m\u001b[43mmemory_map\u001b[49m\u001b[38;5;241;43m=\u001b[39;49m\u001b[38;5;28;43mself\u001b[39;49m\u001b[38;5;241;43m.\u001b[39;49m\u001b[43moptions\u001b[49m\u001b[38;5;241;43m.\u001b[39;49m\u001b[43mget\u001b[49m\u001b[43m(\u001b[49m\u001b[38;5;124;43m\"\u001b[39;49m\u001b[38;5;124;43mmemory_map\u001b[39;49m\u001b[38;5;124;43m\"\u001b[39;49m\u001b[43m,\u001b[49m\u001b[43m \u001b[49m\u001b[38;5;28;43;01mFalse\u001b[39;49;00m\u001b[43m)\u001b[49m\u001b[43m,\u001b[49m\n\u001b[0;32m   1741\u001b[0m \u001b[43m    \u001b[49m\u001b[43mis_text\u001b[49m\u001b[38;5;241;43m=\u001b[39;49m\u001b[43mis_text\u001b[49m\u001b[43m,\u001b[49m\n\u001b[0;32m   1742\u001b[0m \u001b[43m    \u001b[49m\u001b[43merrors\u001b[49m\u001b[38;5;241;43m=\u001b[39;49m\u001b[38;5;28;43mself\u001b[39;49m\u001b[38;5;241;43m.\u001b[39;49m\u001b[43moptions\u001b[49m\u001b[38;5;241;43m.\u001b[39;49m\u001b[43mget\u001b[49m\u001b[43m(\u001b[49m\u001b[38;5;124;43m\"\u001b[39;49m\u001b[38;5;124;43mencoding_errors\u001b[39;49m\u001b[38;5;124;43m\"\u001b[39;49m\u001b[43m,\u001b[49m\u001b[43m \u001b[49m\u001b[38;5;124;43m\"\u001b[39;49m\u001b[38;5;124;43mstrict\u001b[39;49m\u001b[38;5;124;43m\"\u001b[39;49m\u001b[43m)\u001b[49m\u001b[43m,\u001b[49m\n\u001b[0;32m   1743\u001b[0m \u001b[43m    \u001b[49m\u001b[43mstorage_options\u001b[49m\u001b[38;5;241;43m=\u001b[39;49m\u001b[38;5;28;43mself\u001b[39;49m\u001b[38;5;241;43m.\u001b[39;49m\u001b[43moptions\u001b[49m\u001b[38;5;241;43m.\u001b[39;49m\u001b[43mget\u001b[49m\u001b[43m(\u001b[49m\u001b[38;5;124;43m\"\u001b[39;49m\u001b[38;5;124;43mstorage_options\u001b[39;49m\u001b[38;5;124;43m\"\u001b[39;49m\u001b[43m,\u001b[49m\u001b[43m \u001b[49m\u001b[38;5;28;43;01mNone\u001b[39;49;00m\u001b[43m)\u001b[49m\u001b[43m,\u001b[49m\n\u001b[0;32m   1744\u001b[0m \u001b[43m\u001b[49m\u001b[43m)\u001b[49m\n\u001b[0;32m   1745\u001b[0m \u001b[38;5;28;01massert\u001b[39;00m \u001b[38;5;28mself\u001b[39m\u001b[38;5;241m.\u001b[39mhandles \u001b[38;5;129;01mis\u001b[39;00m \u001b[38;5;129;01mnot\u001b[39;00m \u001b[38;5;28;01mNone\u001b[39;00m\n\u001b[0;32m   1746\u001b[0m f \u001b[38;5;241m=\u001b[39m \u001b[38;5;28mself\u001b[39m\u001b[38;5;241m.\u001b[39mhandles\u001b[38;5;241m.\u001b[39mhandle\n",
      "File \u001b[1;32m~\\anaconda3\\lib\\site-packages\\pandas\\io\\common.py:856\u001b[0m, in \u001b[0;36mget_handle\u001b[1;34m(path_or_buf, mode, encoding, compression, memory_map, is_text, errors, storage_options)\u001b[0m\n\u001b[0;32m    851\u001b[0m \u001b[38;5;28;01melif\u001b[39;00m \u001b[38;5;28misinstance\u001b[39m(handle, \u001b[38;5;28mstr\u001b[39m):\n\u001b[0;32m    852\u001b[0m     \u001b[38;5;66;03m# Check whether the filename is to be opened in binary mode.\u001b[39;00m\n\u001b[0;32m    853\u001b[0m     \u001b[38;5;66;03m# Binary mode does not support 'encoding' and 'newline'.\u001b[39;00m\n\u001b[0;32m    854\u001b[0m     \u001b[38;5;28;01mif\u001b[39;00m ioargs\u001b[38;5;241m.\u001b[39mencoding \u001b[38;5;129;01mand\u001b[39;00m \u001b[38;5;124m\"\u001b[39m\u001b[38;5;124mb\u001b[39m\u001b[38;5;124m\"\u001b[39m \u001b[38;5;129;01mnot\u001b[39;00m \u001b[38;5;129;01min\u001b[39;00m ioargs\u001b[38;5;241m.\u001b[39mmode:\n\u001b[0;32m    855\u001b[0m         \u001b[38;5;66;03m# Encoding\u001b[39;00m\n\u001b[1;32m--> 856\u001b[0m         handle \u001b[38;5;241m=\u001b[39m \u001b[38;5;28;43mopen\u001b[39;49m\u001b[43m(\u001b[49m\n\u001b[0;32m    857\u001b[0m \u001b[43m            \u001b[49m\u001b[43mhandle\u001b[49m\u001b[43m,\u001b[49m\n\u001b[0;32m    858\u001b[0m \u001b[43m            \u001b[49m\u001b[43mioargs\u001b[49m\u001b[38;5;241;43m.\u001b[39;49m\u001b[43mmode\u001b[49m\u001b[43m,\u001b[49m\n\u001b[0;32m    859\u001b[0m \u001b[43m            \u001b[49m\u001b[43mencoding\u001b[49m\u001b[38;5;241;43m=\u001b[39;49m\u001b[43mioargs\u001b[49m\u001b[38;5;241;43m.\u001b[39;49m\u001b[43mencoding\u001b[49m\u001b[43m,\u001b[49m\n\u001b[0;32m    860\u001b[0m \u001b[43m            \u001b[49m\u001b[43merrors\u001b[49m\u001b[38;5;241;43m=\u001b[39;49m\u001b[43merrors\u001b[49m\u001b[43m,\u001b[49m\n\u001b[0;32m    861\u001b[0m \u001b[43m            \u001b[49m\u001b[43mnewline\u001b[49m\u001b[38;5;241;43m=\u001b[39;49m\u001b[38;5;124;43m\"\u001b[39;49m\u001b[38;5;124;43m\"\u001b[39;49m\u001b[43m,\u001b[49m\n\u001b[0;32m    862\u001b[0m \u001b[43m        \u001b[49m\u001b[43m)\u001b[49m\n\u001b[0;32m    863\u001b[0m     \u001b[38;5;28;01melse\u001b[39;00m:\n\u001b[0;32m    864\u001b[0m         \u001b[38;5;66;03m# Binary mode\u001b[39;00m\n\u001b[0;32m    865\u001b[0m         handle \u001b[38;5;241m=\u001b[39m \u001b[38;5;28mopen\u001b[39m(handle, ioargs\u001b[38;5;241m.\u001b[39mmode)\n",
      "\u001b[1;31mFileNotFoundError\u001b[0m: [Errno 2] No such file or directory: '/datasets/yandex_music_project.csv'"
     ]
    }
   ],
   "source": [
    "df = pd.read_csv('/datasets/yandex_music_project.csv') "
   ]
  },
  {
   "cell_type": "markdown",
   "metadata": {
    "deletable": false,
    "editable": false,
    "id": "rDoOMd3uTqnZ",
    "tags": [
     "start_task"
    ]
   },
   "source": [
    "**Задание 3**\n",
    "\n",
    "\n",
    "Выведите на экран первые десять строк таблицы:"
   ]
  },
  {
   "cell_type": "code",
   "execution_count": null,
   "metadata": {
    "deletable": false,
    "id": "oWTVX3gW_Zct"
   },
   "outputs": [],
   "source": [
    "df.head(10)"
   ]
  },
  {
   "cell_type": "markdown",
   "metadata": {
    "deletable": false,
    "editable": false,
    "id": "EO73Kwic_Zct",
    "tags": [
     "start_task"
    ]
   },
   "source": [
    "**Задание 4**\n",
    "\n",
    "\n",
    "Одной командой получить общую информацию о таблице c помощью метода `info()`:"
   ]
  },
  {
   "cell_type": "code",
   "execution_count": null,
   "metadata": {
    "deletable": false,
    "id": "DSf2kIb-_Zct"
   },
   "outputs": [],
   "source": [
    "df.info()"
   ]
  },
  {
   "cell_type": "markdown",
   "metadata": {
    "deletable": false,
    "editable": false,
    "id": "TaQ2Iwbr_Zct"
   },
   "source": [
    "Итак, в таблице семь столбцов. Тип данных во всех столбцах — `object`.\n",
    "\n",
    "Согласно документации к данным:\n",
    "* `userID` — идентификатор пользователя;\n",
    "* `Track` — название трека;  \n",
    "* `artist` — имя исполнителя;\n",
    "* `genre` — название жанра;\n",
    "* `City` — город пользователя;\n",
    "* `time` — время начала прослушивания;\n",
    "* `Day` — день недели.\n",
    "\n",
    "Количество значений в столбцах различается. Значит, в данных есть пропущенные значения."
   ]
  },
  {
   "cell_type": "markdown",
   "metadata": {
    "deletable": false,
    "editable": false,
    "id": "4P0UCWzswgEm",
    "tags": [
     "start_task"
    ]
   },
   "source": [
    "**Задание 5**\n",
    "\n",
    "**Вопрос со свободной формой ответа**\n",
    "\n",
    "В названиях колонок видны три нарушения стиля:\n",
    "1. Строчные буквы сочетаются с прописными.\n",
    "2. Встречаются пробелы."
   ]
  },
  {
   "cell_type": "markdown",
   "metadata": {
    "deletable": false,
    "editable": false,
    "id": "MCB6-dXG_Zct"
   },
   "source": [
    "**Выводы**\n",
    "\n",
    "В каждой строке таблицы — данные о прослушанном треке. Часть колонок описывает саму композицию: название, исполнителя и жанр. Остальные данные рассказывают о пользователе: из какого он города, когда он слушал музыку. \n",
    "\n",
    "Предварительно можно утверждать, что, данных достаточно для проверки гипотез. Но встречаются пропуски в данных, а в названиях колонок — расхождения с хорошим стилем.\n",
    "\n",
    "Чтобы двигаться дальше, нужно устранить проблемы в данных."
   ]
  },
  {
   "cell_type": "markdown",
   "metadata": {
    "deletable": false,
    "editable": false,
    "id": "SjYF6Ub9_Zct"
   },
   "source": [
    "## Предобработка данных\n",
    "Исправьте стиль в заголовках столбцов, исключите пропуски. Затем проверьте данные на дубликаты."
   ]
  },
  {
   "cell_type": "markdown",
   "metadata": {
    "deletable": false,
    "editable": false,
    "id": "dIaKXr29_Zct",
    "tags": [
     "start_task"
    ]
   },
   "source": [
    "### Стиль заголовков\n",
    "\n",
    "**Задание 6**\n",
    "\n",
    "Выведите на экран названия столбцов:"
   ]
  },
  {
   "cell_type": "code",
   "execution_count": null,
   "metadata": {
    "deletable": false,
    "id": "oKOTdF_Q_Zct"
   },
   "outputs": [],
   "source": [
    "df.columns"
   ]
  },
  {
   "cell_type": "markdown",
   "metadata": {
    "deletable": false,
    "editable": false,
    "id": "zj5534cv_Zct",
    "tags": [
     "start_task"
    ]
   },
   "source": [
    "**Задание 7**\n",
    "\n",
    "\n",
    "Приведите названия в соответствие с хорошим стилем:\n",
    "* несколько слов в названии запишите в «змеином_регистре»,\n",
    "* все символы сделайте строчными,\n",
    "* устраните пробелы.\n",
    "\n",
    "Для этого переименуйте колонки так:\n",
    "* `'  userID'` → `'user_id'`;\n",
    "* `'Track'` → `'track'`;\n",
    "* `'  City  '` → `'city'`;\n",
    "* `'Day'` → `'day'`."
   ]
  },
  {
   "cell_type": "code",
   "execution_count": null,
   "metadata": {
    "deletable": false,
    "id": "ISlFqs5y_Zct"
   },
   "outputs": [],
   "source": [
    "df = df.rename(columns={'  userID' : 'user_id','Track':'track', '  City  ': 'city', 'Day' : 'day'})"
   ]
  },
  {
   "cell_type": "markdown",
   "metadata": {
    "deletable": false,
    "editable": false,
    "id": "1dqbh00J_Zct",
    "tags": [
     "start_task"
    ]
   },
   "source": [
    "**Задание 8**\n",
    "\n",
    "\n",
    "Проверьте результат. Для этого ещё раз выведите на экран названия столбцов:"
   ]
  },
  {
   "cell_type": "code",
   "execution_count": null,
   "metadata": {
    "deletable": false,
    "id": "d4NOAmTW_Zct"
   },
   "outputs": [],
   "source": [
    "df.columns"
   ]
  },
  {
   "cell_type": "markdown",
   "metadata": {
    "deletable": false,
    "editable": false,
    "id": "5ISfbcfY_Zct",
    "tags": [
     "start_task"
    ]
   },
   "source": [
    "### Пропуски значений\n",
    "\n",
    "**Задание 9**\n",
    "\n",
    "Сначала посчитайте, сколько в таблице пропущенных значений. Для этого достаточно двух методов `pandas`:"
   ]
  },
  {
   "cell_type": "code",
   "execution_count": null,
   "metadata": {
    "deletable": false,
    "id": "RskX29qr_Zct"
   },
   "outputs": [],
   "source": [
    "df.isna().sum()"
   ]
  },
  {
   "cell_type": "markdown",
   "metadata": {
    "deletable": false,
    "editable": false,
    "id": "qubhgnlO_Zct"
   },
   "source": [
    "Не все пропущенные значения влияют на исследование. Так в `track` и `artist` пропуски не важны для вашей работы. Достаточно заменить их явными обозначениями.\n",
    "\n",
    "Но пропуски в `genre` могут помешать сравнению музыкальных вкусов в Москве и Санкт-Петербурге. На практике было бы правильно установить причину пропусков и восстановить данные. Такой возможности нет в учебном проекте. Придётся:\n",
    "* заполнить и эти пропуски явными обозначениями,\n",
    "* оценить, насколько они повредят расчётам. "
   ]
  },
  {
   "cell_type": "markdown",
   "metadata": {
    "deletable": false,
    "editable": false,
    "id": "fSv2laPA_Zct",
    "tags": [
     "start_task"
    ]
   },
   "source": [
    "**Задание 10**\n",
    "\n",
    "Замените пропущенные значения в столбцах `track`, `artist` и `genre` на строку `'unknown'`. Для этого создайте список `columns_to_replace`, переберите его элементы циклом `for` и для каждого столбца выполните замену пропущенных значений:"
   ]
  },
  {
   "cell_type": "code",
   "execution_count": null,
   "metadata": {
    "deletable": false,
    "id": "KplB5qWs_Zct"
   },
   "outputs": [],
   "source": [
    "columns_to_replace = ['track', 'artist', 'genre']\n",
    "for column in columns_to_replace:\n",
    "    df[column] = df[column].fillna('unknown')"
   ]
  },
  {
   "cell_type": "markdown",
   "metadata": {
    "deletable": false,
    "editable": false,
    "id": "Ilsm-MZo_Zct",
    "tags": [
     "start_task"
    ]
   },
   "source": [
    "**Задание 11**\n",
    "\n",
    "Убедитесь, что в таблице не осталось пропусков. Для этого ещё раз посчитайте пропущенные значения."
   ]
  },
  {
   "cell_type": "code",
   "execution_count": null,
   "metadata": {
    "deletable": false,
    "id": "Tq4nYRX4_Zct"
   },
   "outputs": [],
   "source": [
    "df.isna().sum()"
   ]
  },
  {
   "cell_type": "markdown",
   "metadata": {
    "deletable": false,
    "editable": false,
    "id": "BWKRtBJ3_Zct",
    "tags": [
     "start_task"
    ]
   },
   "source": [
    "### Дубликаты\n",
    "\n",
    "**Задание 12**\n",
    "\n",
    "Посчитайте явные дубликаты в таблице одной командой:"
   ]
  },
  {
   "cell_type": "code",
   "execution_count": null,
   "metadata": {
    "deletable": false,
    "id": "36eES_S0_Zct"
   },
   "outputs": [],
   "source": [
    "df.duplicated().sum()"
   ]
  },
  {
   "cell_type": "markdown",
   "metadata": {
    "deletable": false,
    "editable": false,
    "id": "Ot25h6XR_Zct",
    "tags": [
     "start_task"
    ]
   },
   "source": [
    "**Задание 13**\n",
    "\n",
    "Вызовите специальный метод `pandas`, чтобы удалить явные дубликаты:"
   ]
  },
  {
   "cell_type": "code",
   "execution_count": null,
   "metadata": {
    "deletable": false,
    "id": "exFHq6tt_Zct"
   },
   "outputs": [],
   "source": [
    "df = df.drop_duplicates()"
   ]
  },
  {
   "cell_type": "markdown",
   "metadata": {
    "deletable": false,
    "editable": false,
    "id": "Im2YwBEG_Zct",
    "tags": [
     "start_task"
    ]
   },
   "source": [
    "**Задание 14**\n",
    "\n",
    "Ещё раз посчитайте явные дубликаты в таблице — убедитесь, что полностью от них избавились:"
   ]
  },
  {
   "cell_type": "code",
   "execution_count": null,
   "metadata": {
    "deletable": false,
    "id": "-8PuNWQ0_Zct"
   },
   "outputs": [],
   "source": [
    "df.duplicated().sum()"
   ]
  },
  {
   "cell_type": "markdown",
   "metadata": {
    "deletable": false,
    "editable": false,
    "id": "QlFBsxAr_Zct"
   },
   "source": [
    "Теперь избавьтесь от неявных дубликатов в колонке `genre`. Например, название одного и того же жанра может быть записано немного по-разному. Такие ошибки тоже повлияют на результат исследования."
   ]
  },
  {
   "cell_type": "markdown",
   "metadata": {
    "deletable": false,
    "editable": false,
    "id": "eSjWwsOh_Zct",
    "tags": [
     "start_task"
    ]
   },
   "source": [
    "**Задание 15**\n",
    "\n",
    "Выведите на экран список уникальных названий жанров, отсортированный в алфавитном порядке. Для этого:\n",
    "* извлеките нужный столбец датафрейма, \n",
    "* примените к нему метод сортировки,\n",
    "* для отсортированного столбца вызовите метод, который вернёт уникальные значения из столбца."
   ]
  },
  {
   "cell_type": "code",
   "execution_count": null,
   "metadata": {
    "deletable": false,
    "id": "JIUcqzZN_Zct"
   },
   "outputs": [],
   "source": [
    "df['genre'].sort_values().unique()"
   ]
  },
  {
   "cell_type": "markdown",
   "metadata": {
    "deletable": false,
    "editable": false,
    "id": "qej-Qmuo_Zct",
    "tags": [
     "start_task"
    ]
   },
   "source": [
    "**Задание 16**\n",
    "\n",
    "Просмотрите список и найдите неявные дубликаты названия `hiphop`. Это могут быть названия с ошибками или альтернативные названия того же жанра.\n",
    "\n",
    "Вы увидите следующие неявные дубликаты:\n",
    "* *hip*,\n",
    "* *hop*,\n",
    "* *hip-hop*.\n",
    "\n",
    "Чтобы очистить от них таблицу используйте метод `replace()` с двумя аргументами: списком строк-дубликатов (включащий *hip*, *hop* и *hip-hop*) и строкой с правильным значением. Вам нужно исправить колонку `genre` в таблице `df`: заменить каждое значение из списка дубликатов на верное. Вместо `hip`, `hop` и `hip-hop` в таблице должно быть значение `hiphop`:"
   ]
  },
  {
   "cell_type": "code",
   "execution_count": null,
   "metadata": {
    "deletable": false,
    "id": "ErNDkmns_Zct"
   },
   "outputs": [],
   "source": [
    "df['genre'] = df ['genre'].replace('hip', 'hiphop')\n",
    "df['genre'] = df ['genre'].replace('hop', 'hiphop')\n",
    "df['genre'] = df ['genre'].replace('hip-hop', 'hiphop')"
   ]
  },
  {
   "cell_type": "markdown",
   "metadata": {
    "deletable": false,
    "editable": false,
    "id": "zQKF16_RG15m",
    "tags": [
     "start_task"
    ]
   },
   "source": [
    "**Задание 17**\n",
    "\n",
    "Проверьте, что заменили неправильные названия:\n",
    "\n",
    "*   hip\n",
    "*   hop\n",
    "*   hip-hop\n",
    "\n",
    "Выведите отсортированный список уникальных значений столбца `genre`:"
   ]
  },
  {
   "cell_type": "code",
   "execution_count": null,
   "metadata": {
    "deletable": false,
    "id": "wvixALnFG15m"
   },
   "outputs": [],
   "source": [
    "df['genre'].sort_values().unique()"
   ]
  },
  {
   "cell_type": "markdown",
   "metadata": {
    "deletable": false,
    "editable": false,
    "id": "jz6a9-7HQUDd"
   },
   "source": [
    "**Выводы**\n",
    "\n",
    "Предобработка обнаружила три проблемы в данных:\n",
    "\n",
    "- нарушения в стиле заголовков,\n",
    "- пропущенные значения,\n",
    "- дубликаты — явные и неявные.\n",
    "\n",
    "Вы исправили заголовки, чтобы упростить работу с таблицей. Без дубликатов исследование станет более точным.\n",
    "\n",
    "Пропущенные значения вы заменили на `'unknown'`. Ещё предстоит увидеть, не повредят ли исследованию пропуски в колонке `genre`.\n",
    "\n",
    "Теперь можно перейти к проверке гипотез. "
   ]
  },
  {
   "cell_type": "markdown",
   "metadata": {
    "deletable": false,
    "editable": false,
    "id": "WttZHXH0SqKk"
   },
   "source": [
    "## Проверка гипотез"
   ]
  },
  {
   "cell_type": "markdown",
   "metadata": {
    "deletable": false,
    "editable": false,
    "id": "Im936VVi_Zcu"
   },
   "source": [
    "### Сравнение поведения пользователей двух столиц"
   ]
  },
  {
   "cell_type": "markdown",
   "metadata": {
    "deletable": false,
    "editable": false,
    "id": "nwt_MuaL_Zcu"
   },
   "source": [
    "Первая гипотеза утверждает, что пользователи по-разному слушают музыку в Москве и Санкт-Петербурге. Проверьте это предположение по данным о трёх днях недели — понедельнике, среде и пятнице. Для этого:\n",
    "\n",
    "* Разделите пользователей Москвы и Санкт-Петербурга\n",
    "* Сравните, сколько треков послушала каждая группа пользователей в понедельник, среду и пятницу.\n"
   ]
  },
  {
   "cell_type": "markdown",
   "metadata": {
    "deletable": false,
    "editable": false,
    "id": "8Dw_YMmT_Zcu",
    "tags": [
     "start_task"
    ]
   },
   "source": [
    "**Задание 18**\n",
    "\n",
    "Для тренировки сначала выполните каждый из расчётов по отдельности. \n",
    "\n",
    "Оцените активность пользователей в каждом городе. Сгруппируйте данные по городу и посчитайте прослушивания в каждой группе.\n",
    "\n"
   ]
  },
  {
   "cell_type": "code",
   "execution_count": null,
   "metadata": {
    "deletable": false,
    "id": "0_Qs96oh_Zcu"
   },
   "outputs": [],
   "source": [
    "df.groupby('city')['user_id'].count()"
   ]
  },
  {
   "cell_type": "markdown",
   "metadata": {
    "deletable": false,
    "editable": false,
    "id": "dzli3w8o_Zcu",
    "tags": [
     "start_task"
    ]
   },
   "source": [
    "В Москве прослушиваний больше, чем в Петербурге. Из этого не следует, что московские пользователи чаще слушают музыку. Просто самих пользователей в Москве больше.\n",
    "\n",
    "**Задание 19**\n",
    "\n",
    "Теперь сгруппируйте данные по дню недели и подсчитайте прослушивания в понедельник, среду и пятницу. Учтите, что в данных есть информация только о прослушиваниях только за эти дни.\n"
   ]
  },
  {
   "cell_type": "code",
   "execution_count": null,
   "metadata": {
    "deletable": false,
    "id": "uZMKjiJz_Zcu"
   },
   "outputs": [],
   "source": [
    "df.groupby('day')['user_id'].count()"
   ]
  },
  {
   "cell_type": "markdown",
   "metadata": {
    "deletable": false,
    "editable": false,
    "id": "cC2tNrlL_Zcu"
   },
   "source": [
    "В среднем пользователи из двух городов менее активны по средам. Но картина может измениться, если рассмотреть каждый город в отдельности."
   ]
  },
  {
   "cell_type": "markdown",
   "metadata": {
    "deletable": false,
    "editable": false,
    "id": "POzs8bGa_Zcu",
    "tags": [
     "start_task"
    ]
   },
   "source": [
    "**Задание 20**\n",
    "\n",
    "\n",
    "Вы видели, как работает группировка по городу и по дням недели. Теперь напишите функцию, которая объединит два эти расчёта.\n",
    "\n",
    "Создайте функцию `number_tracks()`, которая посчитает прослушивания для заданного дня и города. Ей понадобятся два параметра:\n",
    "* день недели,\n",
    "* название города.\n",
    "\n",
    "В функции сохраните в переменную строки исходной таблицы, у которых значение:\n",
    "  * в колонке `day` равно параметру `day`,\n",
    "  * в колонке `city` равно параметру `city`.\n",
    "\n",
    "Для этого примените последовательную фильтрацию с логической индексацией (или сложные логические выражения в одну строку, если вы уже знакомы с ними).\n",
    "\n",
    "Затем посчитайте значения в столбце `user_id` получившейся таблицы. Результат сохраните в новую переменную. Верните эту переменную из функции."
   ]
  },
  {
   "cell_type": "code",
   "execution_count": null,
   "metadata": {
    "deletable": false,
    "id": "Nz3GdQB1_Zcu"
   },
   "outputs": [],
   "source": [
    "def number_tracks(day,city): \n",
    "    \n",
    "    track_list = df[df['day'] == day]\n",
    "    track_list = track_list[track_list['city'] == city] \n",
    "    track_list_count = track_list['user_id'].count()\n",
    "    \n",
    "    return track_list_count"
   ]
  },
  {
   "cell_type": "markdown",
   "metadata": {
    "deletable": false,
    "editable": false,
    "id": "ytf7xFrFJQ2r",
    "tags": [
     "start_task"
    ]
   },
   "source": [
    "**Задание 21**\n",
    "\n",
    "Вызовите `number_tracks()` шесть раз, меняя значение параметров — так, чтобы получить данные для каждого города в каждый из трёх дней."
   ]
  },
  {
   "cell_type": "code",
   "execution_count": null,
   "metadata": {
    "deletable": false,
    "id": "rJcRATNQ_Zcu"
   },
   "outputs": [],
   "source": [
    "number_tracks('Monday', 'Moscow')"
   ]
  },
  {
   "cell_type": "code",
   "execution_count": null,
   "metadata": {
    "deletable": false,
    "id": "hq_ncZ5T_Zcu"
   },
   "outputs": [],
   "source": [
    "number_tracks('Monday', 'Saint-Petersburg')"
   ]
  },
  {
   "cell_type": "code",
   "execution_count": null,
   "metadata": {
    "deletable": false,
    "id": "_NTy2VPU_Zcu"
   },
   "outputs": [],
   "source": [
    "number_tracks('Wednesday', 'Moscow')"
   ]
  },
  {
   "cell_type": "code",
   "execution_count": null,
   "metadata": {
    "deletable": false,
    "id": "j2y3TAwo_Zcu"
   },
   "outputs": [],
   "source": [
    "number_tracks('Wednesday', 'Saint-Petersburg')"
   ]
  },
  {
   "cell_type": "code",
   "execution_count": null,
   "metadata": {
    "deletable": false,
    "id": "vYDw5u_K_Zcu"
   },
   "outputs": [],
   "source": [
    "number_tracks('Friday', 'Moscow')"
   ]
  },
  {
   "cell_type": "code",
   "execution_count": null,
   "metadata": {
    "deletable": false,
    "id": "8_yzFtW3_Zcu"
   },
   "outputs": [],
   "source": [
    "number_tracks('Friday', 'Saint-Petersburg')"
   ]
  },
  {
   "cell_type": "markdown",
   "metadata": {
    "deletable": false,
    "editable": false,
    "id": "7QXffbO-_Zcu",
    "tags": [
     "start_task"
    ]
   },
   "source": [
    "**Задание 22**\n",
    "\n",
    "Создайте c помощью конструктора `pd.DataFrame` таблицу, где\n",
    "* названия колонок — `['city', 'monday', 'wednesday', 'friday']`;\n",
    "* данные — результаты, которые вы получили с помощью `number_tracks`."
   ]
  },
  {
   "cell_type": "code",
   "execution_count": null,
   "metadata": {
    "deletable": false,
    "id": "APAcLpOr_Zcu"
   },
   "outputs": [],
   "source": [
    "info = pd.DataFrame(data=[['Москва', 15740, 11056, 15945], ['Санкт-Петербург', 5614, 7003, 5895]], columns= ['city', 'monday', 'wednesday', 'friday'])\n",
    "info"
   ]
  },
  {
   "cell_type": "markdown",
   "metadata": {
    "deletable": false,
    "editable": false,
    "id": "-EgPIHYu_Zcu"
   },
   "source": [
    "**Выводы**\n",
    "\n",
    "Данные показывают разницу поведения пользователей:\n",
    "\n",
    "- В Москве пик прослушиваний приходится на понедельник и пятницу, а в среду заметен спад.\n",
    "- В Петербурге, наоборот, больше слушают музыку по средам. Активность в понедельник и пятницу здесь почти в равной мере уступает среде.\n",
    "\n",
    "Значит, данные говорят в пользу первой гипотезы."
   ]
  },
  {
   "cell_type": "markdown",
   "metadata": {
    "deletable": false,
    "editable": false,
    "id": "atZAxtq4_Zcu"
   },
   "source": [
    "### Музыка в начале и в конце недели"
   ]
  },
  {
   "cell_type": "markdown",
   "metadata": {
    "deletable": false,
    "editable": false,
    "id": "eXrQqXFH_Zcu"
   },
   "source": [
    "Согласно второй гипотезе, утром в понедельник в Москве преобладают одни жанры, а в Петербурге — другие. Так же и вечером пятницы преобладают разные жанры — в зависимости от города."
   ]
  },
  {
   "cell_type": "markdown",
   "metadata": {
    "deletable": false,
    "editable": false,
    "id": "S8UcW6Hw_Zcu",
    "tags": [
     "start_task"
    ]
   },
   "source": [
    "**Задание 23**\n",
    "\n",
    "Сохраните таблицы с данными в две переменные:\n",
    "* по Москве — в `moscow_general`;\n",
    "* по Санкт-Петербургу — в `spb_general`."
   ]
  },
  {
   "cell_type": "code",
   "execution_count": null,
   "metadata": {
    "deletable": false,
    "id": "qeaFfM_P_Zcu"
   },
   "outputs": [],
   "source": [
    "moscow_general = df[df['city'] == 'Moscow']"
   ]
  },
  {
   "cell_type": "code",
   "execution_count": null,
   "metadata": {
    "deletable": false,
    "id": "ORaVRKto_Zcu"
   },
   "outputs": [],
   "source": [
    "spb_general = df[df['city'] == 'Saint-Petersburg']\n"
   ]
  },
  {
   "cell_type": "markdown",
   "metadata": {
    "deletable": false,
    "id": "MEJV-CX2_Zcu",
    "tags": [
     "start_task"
    ]
   },
   "source": [
    "**Задание 24**\n",
    "\n",
    "Создайте функцию `genre_weekday()` с четырьмя параметрами:\n",
    "* таблица (датафрейм) с данными,\n",
    "* день недели,\n",
    "* начальная временная метка в формате 'hh:mm', \n",
    "* последняя временная метка в формате 'hh:mm'.\n",
    "\n",
    "Функция должна вернуть информацию о топ-10 жанров тех треков, которые прослушивали в указанный день, в промежутке между двумя отметками времени."
   ]
  },
  {
   "cell_type": "code",
   "execution_count": null,
   "metadata": {
    "deletable": false,
    "id": "laJT9BYl_Zcu"
   },
   "outputs": [],
   "source": [
    "def genre_weekday(df, day, time1, time2):\n",
    "    \n",
    "    genre_df = df[df['day'] == day]\n",
    "    genre_df = genre_df[genre_df['time'] < time2]\n",
    "    genre_df = genre_df[genre_df['time'] > time1]\n",
    "    genre_df_grouped = genre_df.groupby('genre')['genre'].count()\n",
    "    genre_df_sorted = genre_df_grouped.sort_values(ascending=False)\n",
    "    \n",
    "    return genre_df_sorted[:10] "
   ]
  },
  {
   "cell_type": "markdown",
   "metadata": {
    "deletable": false,
    "editable": false,
    "id": "la2s2_PF_Zcu",
    "tags": [
     "start_task"
    ]
   },
   "source": [
    "**Задание 25**\n",
    "\n",
    "\n",
    "Cравните результаты функции `genre_weekday()` для Москвы и Санкт-Петербурга в понедельник утром (с 7:00 до 11:00) и в пятницу вечером (с 17:00 до 23:00):"
   ]
  },
  {
   "cell_type": "code",
   "execution_count": null,
   "metadata": {
    "deletable": false,
    "id": "yz7itPUQ_Zcu"
   },
   "outputs": [],
   "source": [
    "genre_weekday(moscow_general, 'Monday', '07:00', '11:00')"
   ]
  },
  {
   "cell_type": "code",
   "execution_count": null,
   "metadata": {
    "deletable": false,
    "id": "kwUcHPdy_Zcu"
   },
   "outputs": [],
   "source": [
    "genre_weekday(spb_general, 'Monday', '07:00', '11:00')"
   ]
  },
  {
   "cell_type": "code",
   "execution_count": null,
   "metadata": {
    "deletable": false,
    "id": "EzXVRE1o_Zcu"
   },
   "outputs": [],
   "source": [
    "genre_weekday(moscow_general, 'Friday', '17:00', '23:00')"
   ]
  },
  {
   "cell_type": "code",
   "execution_count": null,
   "metadata": {
    "deletable": false,
    "id": "JZaEKu5v_Zcu"
   },
   "outputs": [],
   "source": [
    "genre_weekday(spb_general, 'Friday', '17:00', '23:00')"
   ]
  },
  {
   "cell_type": "markdown",
   "metadata": {
    "deletable": false,
    "editable": false,
    "id": "wrCe4MNX_Zcu"
   },
   "source": [
    "**Выводы**\n",
    "\n",
    "Если сравнить топ-10 жанров в понедельник утром, можно сделать такие выводы:\n",
    "\n",
    "1. В Москве и Петербурге слушают похожую музыку. Единственное отличие — в московский рейтинг вошёл жанр “world”, а в петербургский — джаз и классика.\n",
    "\n",
    "2. В Москве пропущенных значений оказалось так много, что значение `'unknown'` заняло десятое место среди самых популярных жанров. Значит, пропущенные значения занимают существенную долю в данных и угрожают достоверности исследования.\n",
    "\n",
    "Вечер пятницы не меняет эту картину. Некоторые жанры поднимаются немного выше, другие спускаются, но в целом топ-10 остаётся тем же самым.\n",
    "\n",
    "Таким образом, вторая гипотеза подтвердилась лишь частично:\n",
    "* Пользователи слушают похожую музыку в начале недели и в конце.\n",
    "* Разница между Москвой и Петербургом не слишком выражена. В Москве чаще слушают русскую популярную музыку, в Петербурге — джаз.\n",
    "\n",
    "Однако пропуски в данных ставят под сомнение этот результат. В Москве их так много, что рейтинг топ-10 мог бы выглядеть иначе, если бы не утерянные  данные о жанрах."
   ]
  },
  {
   "cell_type": "markdown",
   "metadata": {
    "deletable": false,
    "editable": false,
    "id": "JolODAqr_Zcu"
   },
   "source": [
    "### Жанровые предпочтения в Москве и Петербурге\n",
    "\n",
    "Гипотеза: Петербург — столица рэпа, музыку этого жанра там слушают чаще, чем в Москве.  А Москва — город контрастов, в котором, тем не менее, преобладает поп-музыка."
   ]
  },
  {
   "cell_type": "markdown",
   "metadata": {
    "deletable": false,
    "editable": false,
    "id": "DlegSvaT_Zcu",
    "tags": [
     "start_task"
    ]
   },
   "source": [
    "**Задание 26**\n",
    "\n",
    "Сгруппируйте таблицу `moscow_general` по жанру и посчитайте прослушивания треков каждого жанра методом `count()`. Затем отсортируйте результат в порядке убывания и сохраните его в таблице `moscow_genres`."
   ]
  },
  {
   "cell_type": "code",
   "execution_count": null,
   "metadata": {
    "deletable": false,
    "id": "r19lIPke_Zcu"
   },
   "outputs": [],
   "source": [
    "moscow_genres = moscow_general.groupby('genre')['genre'].count().sort_values(ascending=False)"
   ]
  },
  {
   "cell_type": "markdown",
   "metadata": {
    "deletable": false,
    "editable": false,
    "id": "6kMuomxTiIr8",
    "tags": [
     "start_task"
    ]
   },
   "source": [
    "**Задание 27**\n",
    "\n",
    "Выведите на экран первые десять строк `moscow_genres`:"
   ]
  },
  {
   "cell_type": "code",
   "execution_count": null,
   "metadata": {
    "deletable": false,
    "id": "WhCSooF8_Zcv"
   },
   "outputs": [],
   "source": [
    "moscow_genres.head(10) "
   ]
  },
  {
   "cell_type": "markdown",
   "metadata": {
    "deletable": false,
    "editable": false,
    "id": "cnPG2vnN_Zcv",
    "tags": [
     "start_task"
    ]
   },
   "source": [
    "**Задание 28**\n",
    "\n",
    "\n",
    "Теперь повторите то же и для Петербурга.\n",
    "\n",
    "Сгруппируйте таблицу `spb_general` по жанру. Посчитайте прослушивания треков каждого жанра. Результат отсортируйте в порядке убывания и сохраните в таблице `spb_genres`:\n"
   ]
  },
  {
   "cell_type": "code",
   "execution_count": null,
   "metadata": {
    "deletable": false,
    "id": "gluLIpE7_Zcv"
   },
   "outputs": [],
   "source": [
    "spb_genres = spb_general.groupby('genre')['genre'].count().sort_values(ascending=False)"
   ]
  },
  {
   "cell_type": "markdown",
   "metadata": {
    "deletable": false,
    "editable": false,
    "id": "5Doha_ODgyQ8",
    "tags": [
     "start_task"
    ]
   },
   "source": [
    "**Задание 29**\n",
    "\n",
    "Выведите на экран первые десять строк `spb_genres`:"
   ]
  },
  {
   "cell_type": "code",
   "execution_count": null,
   "metadata": {
    "deletable": false,
    "id": "uaGJHjVU_Zcv"
   },
   "outputs": [],
   "source": [
    "spb_genres.head(10)"
   ]
  },
  {
   "cell_type": "markdown",
   "metadata": {
    "deletable": false,
    "editable": false,
    "id": "RY51YJYu_Zcv"
   },
   "source": [
    "**Выводы**"
   ]
  },
  {
   "cell_type": "markdown",
   "metadata": {
    "deletable": false,
    "editable": false,
    "id": "nVhnJEm__Zcv"
   },
   "source": [
    "Гипотеза частично подтвердилась:\n",
    "* Поп-музыка — самый популярный жанр в Москве, как и предполагала гипотеза. Более того, в топ-10 жанров встречается близкий жанр — русская популярная музыка.\n",
    "* Вопреки ожиданиям, рэп одинаково популярен в Москве и Петербурге. \n"
   ]
  },
  {
   "cell_type": "markdown",
   "metadata": {
    "deletable": false,
    "editable": false,
    "id": "ykKQ0N65_Zcv"
   },
   "source": [
    "## Итоги исследования"
   ]
  },
  {
   "cell_type": "markdown",
   "metadata": {
    "deletable": false,
    "editable": false,
    "id": "tjUwbHb3_Zcv"
   },
   "source": [
    "Вы проверили три гипотезы и установили:\n",
    "\n",
    "1. День недели по-разному влияет на активность пользователей в Москве и Петербурге. \n",
    "\n",
    "Первая гипотеза полностью подтвердилась.\n",
    "\n",
    "2. Музыкальные предпочтения не сильно меняются в течение недели — будь то Москва или Петербург. Небольшие различия заметны в начале недели, по понедельникам:\n",
    "* в Москве слушают музыку жанра “world”,\n",
    "* в Петербурге — джаз и классику.\n",
    "\n",
    "Таким образом, вторая гипотеза подтвердилась лишь отчасти. Этот результат мог оказаться иным, если бы не пропуски в данных.\n",
    "\n",
    "3. Во вкусах пользователей Москвы и Петербурга больше общего чем различий. Вопреки ожиданиям, предпочтения жанров в Петербурге напоминают московские.\n",
    "\n",
    "Третья гипотеза не подтвердилась. Если различия в предпочтениях и существуют, на основной массе пользователей они незаметны.\n",
    "\n",
    "**На практике исследования содержат проверки статистических гипотез.**\n",
    "Из данных одного сервиса не всегда можно сделать вывод о всех жителях города.\n",
    "Проверки статистических гипотез покажут, насколько они достоверны, исходя из имеющихся данных. \n",
    "С методами проверок гипотез вы ещё познакомитесь в следующих темах."
   ]
  }
 ],
 "metadata": {
  "ExecuteTimeLog": [
   {
    "duration": 4,
    "start_time": "2023-02-26T11:50:16.902Z"
   },
   {
    "duration": 6,
    "start_time": "2023-02-26T11:50:16.907Z"
   },
   {
    "duration": 8,
    "start_time": "2023-02-26T11:50:16.914Z"
   },
   {
    "duration": 6,
    "start_time": "2023-02-26T11:50:16.924Z"
   },
   {
    "duration": 6,
    "start_time": "2023-02-26T11:50:16.931Z"
   },
   {
    "duration": 6,
    "start_time": "2023-02-26T11:50:16.939Z"
   },
   {
    "duration": 8,
    "start_time": "2023-02-26T11:50:16.947Z"
   },
   {
    "duration": 9,
    "start_time": "2023-02-26T11:50:16.956Z"
   },
   {
    "duration": 7,
    "start_time": "2023-02-26T11:50:16.966Z"
   },
   {
    "duration": 8,
    "start_time": "2023-02-26T11:50:16.976Z"
   },
   {
    "duration": 2,
    "start_time": "2023-02-26T11:50:17.064Z"
   },
   {
    "duration": 11,
    "start_time": "2023-02-26T11:50:17.068Z"
   },
   {
    "duration": 5,
    "start_time": "2023-02-26T11:50:17.081Z"
   },
   {
    "duration": 5,
    "start_time": "2023-02-26T11:50:17.087Z"
   },
   {
    "duration": 6,
    "start_time": "2023-02-26T11:50:17.094Z"
   },
   {
    "duration": 4,
    "start_time": "2023-02-26T11:50:17.102Z"
   },
   {
    "duration": 7,
    "start_time": "2023-02-26T11:50:17.108Z"
   },
   {
    "duration": 5,
    "start_time": "2023-02-26T11:50:17.117Z"
   },
   {
    "duration": 5,
    "start_time": "2023-02-26T11:50:17.123Z"
   },
   {
    "duration": 5,
    "start_time": "2023-02-26T11:50:17.129Z"
   },
   {
    "duration": 5,
    "start_time": "2023-02-26T11:50:17.135Z"
   },
   {
    "duration": 4,
    "start_time": "2023-02-26T11:50:17.142Z"
   },
   {
    "duration": 6,
    "start_time": "2023-02-26T11:50:17.147Z"
   },
   {
    "duration": 5,
    "start_time": "2023-02-26T11:50:17.155Z"
   },
   {
    "duration": 6,
    "start_time": "2023-02-26T11:50:17.161Z"
   },
   {
    "duration": 4,
    "start_time": "2023-02-26T11:50:17.169Z"
   },
   {
    "duration": 5,
    "start_time": "2023-02-26T11:50:17.174Z"
   },
   {
    "duration": 8,
    "start_time": "2023-02-26T11:50:17.180Z"
   },
   {
    "duration": 6,
    "start_time": "2023-02-26T11:50:17.189Z"
   },
   {
    "duration": 149,
    "start_time": "2023-02-26T11:50:17.197Z"
   },
   {
    "duration": 0,
    "start_time": "2023-02-26T11:50:17.348Z"
   },
   {
    "duration": 0,
    "start_time": "2023-02-26T11:50:17.349Z"
   },
   {
    "duration": 0,
    "start_time": "2023-02-26T11:50:17.350Z"
   },
   {
    "duration": 0,
    "start_time": "2023-02-26T11:50:17.351Z"
   },
   {
    "duration": 0,
    "start_time": "2023-02-26T11:50:17.352Z"
   },
   {
    "duration": 0,
    "start_time": "2023-02-26T11:50:17.353Z"
   },
   {
    "duration": 0,
    "start_time": "2023-02-26T11:50:17.354Z"
   },
   {
    "duration": 0,
    "start_time": "2023-02-26T11:50:17.356Z"
   },
   {
    "duration": 168,
    "start_time": "2023-02-26T11:51:15.440Z"
   },
   {
    "duration": 42,
    "start_time": "2023-02-26T11:51:22.356Z"
   },
   {
    "duration": 5,
    "start_time": "2023-02-26T11:52:39.531Z"
   },
   {
    "duration": 418,
    "start_time": "2023-02-26T12:01:28.306Z"
   },
   {
    "duration": 487,
    "start_time": "2023-02-26T12:01:28.726Z"
   },
   {
    "duration": 19,
    "start_time": "2023-02-26T12:01:29.215Z"
   },
   {
    "duration": 44,
    "start_time": "2023-02-26T12:01:29.236Z"
   },
   {
    "duration": 8,
    "start_time": "2023-02-26T12:01:29.281Z"
   },
   {
    "duration": 39,
    "start_time": "2023-02-26T12:01:29.291Z"
   },
   {
    "duration": 0,
    "start_time": "2023-02-26T12:01:29.333Z"
   },
   {
    "duration": 0,
    "start_time": "2023-02-26T12:01:29.335Z"
   },
   {
    "duration": 0,
    "start_time": "2023-02-26T12:01:29.336Z"
   },
   {
    "duration": 0,
    "start_time": "2023-02-26T12:01:29.337Z"
   },
   {
    "duration": 0,
    "start_time": "2023-02-26T12:01:29.339Z"
   },
   {
    "duration": 0,
    "start_time": "2023-02-26T12:01:29.340Z"
   },
   {
    "duration": 0,
    "start_time": "2023-02-26T12:01:29.341Z"
   },
   {
    "duration": 0,
    "start_time": "2023-02-26T12:01:29.343Z"
   },
   {
    "duration": 0,
    "start_time": "2023-02-26T12:01:29.344Z"
   },
   {
    "duration": 0,
    "start_time": "2023-02-26T12:01:29.345Z"
   },
   {
    "duration": 0,
    "start_time": "2023-02-26T12:01:29.346Z"
   },
   {
    "duration": 0,
    "start_time": "2023-02-26T12:01:29.347Z"
   },
   {
    "duration": 0,
    "start_time": "2023-02-26T12:01:29.348Z"
   },
   {
    "duration": 0,
    "start_time": "2023-02-26T12:01:29.349Z"
   },
   {
    "duration": 0,
    "start_time": "2023-02-26T12:01:29.350Z"
   },
   {
    "duration": 0,
    "start_time": "2023-02-26T12:01:29.352Z"
   },
   {
    "duration": 0,
    "start_time": "2023-02-26T12:01:29.353Z"
   },
   {
    "duration": 0,
    "start_time": "2023-02-26T12:01:29.354Z"
   },
   {
    "duration": 0,
    "start_time": "2023-02-26T12:01:29.355Z"
   },
   {
    "duration": 0,
    "start_time": "2023-02-26T12:01:29.356Z"
   },
   {
    "duration": 0,
    "start_time": "2023-02-26T12:01:29.357Z"
   },
   {
    "duration": 0,
    "start_time": "2023-02-26T12:01:29.359Z"
   },
   {
    "duration": 0,
    "start_time": "2023-02-26T12:01:29.360Z"
   },
   {
    "duration": 0,
    "start_time": "2023-02-26T12:01:29.361Z"
   },
   {
    "duration": 0,
    "start_time": "2023-02-26T12:01:29.362Z"
   },
   {
    "duration": 0,
    "start_time": "2023-02-26T12:01:29.363Z"
   },
   {
    "duration": 0,
    "start_time": "2023-02-26T12:01:29.365Z"
   },
   {
    "duration": 0,
    "start_time": "2023-02-26T12:01:29.366Z"
   },
   {
    "duration": 0,
    "start_time": "2023-02-26T12:01:29.368Z"
   },
   {
    "duration": 0,
    "start_time": "2023-02-26T12:01:29.421Z"
   },
   {
    "duration": 0,
    "start_time": "2023-02-26T12:01:29.422Z"
   },
   {
    "duration": 0,
    "start_time": "2023-02-26T12:01:29.423Z"
   },
   {
    "duration": 2,
    "start_time": "2023-02-26T12:02:22.768Z"
   },
   {
    "duration": 221,
    "start_time": "2023-02-26T12:02:22.773Z"
   },
   {
    "duration": 11,
    "start_time": "2023-02-26T12:02:22.996Z"
   },
   {
    "duration": 45,
    "start_time": "2023-02-26T12:02:23.008Z"
   },
   {
    "duration": 2,
    "start_time": "2023-02-26T12:02:23.055Z"
   },
   {
    "duration": 12,
    "start_time": "2023-02-26T12:02:23.059Z"
   },
   {
    "duration": 23,
    "start_time": "2023-02-26T12:02:23.073Z"
   },
   {
    "duration": 0,
    "start_time": "2023-02-26T12:02:23.098Z"
   },
   {
    "duration": 0,
    "start_time": "2023-02-26T12:02:23.100Z"
   },
   {
    "duration": 0,
    "start_time": "2023-02-26T12:02:23.101Z"
   },
   {
    "duration": 0,
    "start_time": "2023-02-26T12:02:23.102Z"
   },
   {
    "duration": 0,
    "start_time": "2023-02-26T12:02:23.103Z"
   },
   {
    "duration": 0,
    "start_time": "2023-02-26T12:02:23.104Z"
   },
   {
    "duration": 0,
    "start_time": "2023-02-26T12:02:23.122Z"
   },
   {
    "duration": 0,
    "start_time": "2023-02-26T12:02:23.123Z"
   },
   {
    "duration": 0,
    "start_time": "2023-02-26T12:02:23.126Z"
   },
   {
    "duration": 0,
    "start_time": "2023-02-26T12:02:23.127Z"
   },
   {
    "duration": 0,
    "start_time": "2023-02-26T12:02:23.128Z"
   },
   {
    "duration": 0,
    "start_time": "2023-02-26T12:02:23.129Z"
   },
   {
    "duration": 0,
    "start_time": "2023-02-26T12:02:23.131Z"
   },
   {
    "duration": 0,
    "start_time": "2023-02-26T12:02:23.133Z"
   },
   {
    "duration": 0,
    "start_time": "2023-02-26T12:02:23.134Z"
   },
   {
    "duration": 0,
    "start_time": "2023-02-26T12:02:23.136Z"
   },
   {
    "duration": 0,
    "start_time": "2023-02-26T12:02:23.137Z"
   },
   {
    "duration": 0,
    "start_time": "2023-02-26T12:02:23.139Z"
   },
   {
    "duration": 0,
    "start_time": "2023-02-26T12:02:23.141Z"
   },
   {
    "duration": 0,
    "start_time": "2023-02-26T12:02:23.142Z"
   },
   {
    "duration": 0,
    "start_time": "2023-02-26T12:02:23.143Z"
   },
   {
    "duration": 0,
    "start_time": "2023-02-26T12:02:23.144Z"
   },
   {
    "duration": 0,
    "start_time": "2023-02-26T12:02:23.146Z"
   },
   {
    "duration": 0,
    "start_time": "2023-02-26T12:02:23.147Z"
   },
   {
    "duration": 0,
    "start_time": "2023-02-26T12:02:23.148Z"
   },
   {
    "duration": 0,
    "start_time": "2023-02-26T12:02:23.149Z"
   },
   {
    "duration": 0,
    "start_time": "2023-02-26T12:02:23.150Z"
   },
   {
    "duration": 0,
    "start_time": "2023-02-26T12:02:23.151Z"
   },
   {
    "duration": 0,
    "start_time": "2023-02-26T12:02:23.153Z"
   },
   {
    "duration": 0,
    "start_time": "2023-02-26T12:02:23.153Z"
   },
   {
    "duration": 0,
    "start_time": "2023-02-26T12:02:23.154Z"
   },
   {
    "duration": 13,
    "start_time": "2023-02-26T12:02:45.052Z"
   },
   {
    "duration": 6,
    "start_time": "2023-02-26T12:02:48.204Z"
   },
   {
    "duration": 6,
    "start_time": "2023-02-26T12:02:55.862Z"
   },
   {
    "duration": 29,
    "start_time": "2023-02-26T12:03:58.939Z"
   },
   {
    "duration": 26,
    "start_time": "2023-02-26T12:13:42.052Z"
   },
   {
    "duration": 3,
    "start_time": "2023-02-26T12:15:16.374Z"
   },
   {
    "duration": 207,
    "start_time": "2023-02-26T12:15:16.383Z"
   },
   {
    "duration": 11,
    "start_time": "2023-02-26T12:15:16.592Z"
   },
   {
    "duration": 45,
    "start_time": "2023-02-26T12:15:16.605Z"
   },
   {
    "duration": 2,
    "start_time": "2023-02-26T12:15:16.652Z"
   },
   {
    "duration": 12,
    "start_time": "2023-02-26T12:15:16.656Z"
   },
   {
    "duration": 12,
    "start_time": "2023-02-26T12:15:16.669Z"
   },
   {
    "duration": 4,
    "start_time": "2023-02-26T12:15:16.683Z"
   },
   {
    "duration": 48,
    "start_time": "2023-02-26T12:15:16.689Z"
   },
   {
    "duration": 21,
    "start_time": "2023-02-26T12:15:16.739Z"
   },
   {
    "duration": 29,
    "start_time": "2023-02-26T12:15:16.763Z"
   },
   {
    "duration": 28,
    "start_time": "2023-02-26T12:15:16.793Z"
   },
   {
    "duration": 3,
    "start_time": "2023-02-26T12:15:16.822Z"
   },
   {
    "duration": 4,
    "start_time": "2023-02-26T12:15:16.827Z"
   },
   {
    "duration": 8,
    "start_time": "2023-02-26T12:15:16.832Z"
   },
   {
    "duration": 4,
    "start_time": "2023-02-26T12:15:16.842Z"
   },
   {
    "duration": 7,
    "start_time": "2023-02-26T12:15:16.848Z"
   },
   {
    "duration": 6,
    "start_time": "2023-02-26T12:15:16.856Z"
   },
   {
    "duration": 7,
    "start_time": "2023-02-26T12:15:16.864Z"
   },
   {
    "duration": 8,
    "start_time": "2023-02-26T12:15:16.873Z"
   },
   {
    "duration": 10,
    "start_time": "2023-02-26T12:15:16.882Z"
   },
   {
    "duration": 7,
    "start_time": "2023-02-26T12:15:16.893Z"
   },
   {
    "duration": 15,
    "start_time": "2023-02-26T12:15:16.902Z"
   },
   {
    "duration": 11,
    "start_time": "2023-02-26T12:15:16.919Z"
   },
   {
    "duration": 7,
    "start_time": "2023-02-26T12:15:16.931Z"
   },
   {
    "duration": 5,
    "start_time": "2023-02-26T12:15:16.940Z"
   },
   {
    "duration": 5,
    "start_time": "2023-02-26T12:15:16.946Z"
   },
   {
    "duration": 5,
    "start_time": "2023-02-26T12:15:16.953Z"
   },
   {
    "duration": 6,
    "start_time": "2023-02-26T12:15:16.962Z"
   },
   {
    "duration": 101,
    "start_time": "2023-02-26T12:15:16.970Z"
   },
   {
    "duration": 0,
    "start_time": "2023-02-26T12:15:17.074Z"
   },
   {
    "duration": 0,
    "start_time": "2023-02-26T12:15:17.076Z"
   },
   {
    "duration": 0,
    "start_time": "2023-02-26T12:15:17.078Z"
   },
   {
    "duration": 0,
    "start_time": "2023-02-26T12:15:17.079Z"
   },
   {
    "duration": 0,
    "start_time": "2023-02-26T12:15:17.081Z"
   },
   {
    "duration": 0,
    "start_time": "2023-02-26T12:15:17.083Z"
   },
   {
    "duration": 0,
    "start_time": "2023-02-26T12:15:17.084Z"
   },
   {
    "duration": 0,
    "start_time": "2023-02-26T12:15:17.085Z"
   },
   {
    "duration": 10,
    "start_time": "2023-02-26T12:15:49.719Z"
   },
   {
    "duration": 68,
    "start_time": "2023-02-26T12:16:39.381Z"
   },
   {
    "duration": 76,
    "start_time": "2023-02-26T12:17:24.615Z"
   },
   {
    "duration": 73,
    "start_time": "2023-02-26T12:18:40.080Z"
   },
   {
    "duration": 67,
    "start_time": "2023-02-26T12:19:13.039Z"
   },
   {
    "duration": 9,
    "start_time": "2023-02-26T12:21:05.022Z"
   },
   {
    "duration": 39,
    "start_time": "2023-02-26T12:22:00.171Z"
   },
   {
    "duration": 7,
    "start_time": "2023-02-26T12:22:03.843Z"
   },
   {
    "duration": 2,
    "start_time": "2023-02-26T12:22:36.327Z"
   },
   {
    "duration": 185,
    "start_time": "2023-02-26T12:22:36.338Z"
   },
   {
    "duration": 11,
    "start_time": "2023-02-26T12:22:36.525Z"
   },
   {
    "duration": 33,
    "start_time": "2023-02-26T12:22:36.537Z"
   },
   {
    "duration": 3,
    "start_time": "2023-02-26T12:22:36.571Z"
   },
   {
    "duration": 6,
    "start_time": "2023-02-26T12:22:36.576Z"
   },
   {
    "duration": 38,
    "start_time": "2023-02-26T12:22:36.584Z"
   },
   {
    "duration": 11,
    "start_time": "2023-02-26T12:22:36.623Z"
   },
   {
    "duration": 36,
    "start_time": "2023-02-26T12:22:36.636Z"
   },
   {
    "duration": 19,
    "start_time": "2023-02-26T12:22:36.673Z"
   },
   {
    "duration": 36,
    "start_time": "2023-02-26T12:22:36.694Z"
   },
   {
    "duration": 65,
    "start_time": "2023-02-26T12:22:36.732Z"
   },
   {
    "duration": 83,
    "start_time": "2023-02-26T12:22:36.798Z"
   },
   {
    "duration": 71,
    "start_time": "2023-02-26T12:22:36.883Z"
   },
   {
    "duration": 44,
    "start_time": "2023-02-26T12:22:36.958Z"
   },
   {
    "duration": 2,
    "start_time": "2023-02-26T12:22:37.004Z"
   },
   {
    "duration": 5,
    "start_time": "2023-02-26T12:22:37.021Z"
   },
   {
    "duration": 5,
    "start_time": "2023-02-26T12:22:37.028Z"
   },
   {
    "duration": 6,
    "start_time": "2023-02-26T12:22:37.034Z"
   },
   {
    "duration": 9,
    "start_time": "2023-02-26T12:22:37.042Z"
   },
   {
    "duration": 11,
    "start_time": "2023-02-26T12:22:37.054Z"
   },
   {
    "duration": 5,
    "start_time": "2023-02-26T12:22:37.067Z"
   },
   {
    "duration": 7,
    "start_time": "2023-02-26T12:22:37.074Z"
   },
   {
    "duration": 18,
    "start_time": "2023-02-26T12:22:37.093Z"
   },
   {
    "duration": 26,
    "start_time": "2023-02-26T12:22:37.113Z"
   },
   {
    "duration": 6,
    "start_time": "2023-02-26T12:22:37.141Z"
   },
   {
    "duration": 5,
    "start_time": "2023-02-26T12:22:37.148Z"
   },
   {
    "duration": 4,
    "start_time": "2023-02-26T12:22:37.155Z"
   },
   {
    "duration": 4,
    "start_time": "2023-02-26T12:22:37.163Z"
   },
   {
    "duration": 73,
    "start_time": "2023-02-26T12:22:37.169Z"
   },
   {
    "duration": 0,
    "start_time": "2023-02-26T12:22:37.244Z"
   },
   {
    "duration": 0,
    "start_time": "2023-02-26T12:22:37.245Z"
   },
   {
    "duration": 0,
    "start_time": "2023-02-26T12:22:37.246Z"
   },
   {
    "duration": 0,
    "start_time": "2023-02-26T12:22:37.247Z"
   },
   {
    "duration": 0,
    "start_time": "2023-02-26T12:22:37.248Z"
   },
   {
    "duration": 0,
    "start_time": "2023-02-26T12:22:37.249Z"
   },
   {
    "duration": 1,
    "start_time": "2023-02-26T12:22:37.250Z"
   },
   {
    "duration": 0,
    "start_time": "2023-02-26T12:22:37.252Z"
   },
   {
    "duration": 10,
    "start_time": "2023-02-26T12:22:53.841Z"
   },
   {
    "duration": 8,
    "start_time": "2023-02-26T12:26:08.170Z"
   },
   {
    "duration": 7,
    "start_time": "2023-02-26T12:26:18.914Z"
   },
   {
    "duration": 401,
    "start_time": "2023-02-26T12:26:27.351Z"
   },
   {
    "duration": 182,
    "start_time": "2023-02-26T12:26:27.754Z"
   },
   {
    "duration": 17,
    "start_time": "2023-02-26T12:26:27.938Z"
   },
   {
    "duration": 31,
    "start_time": "2023-02-26T12:26:27.957Z"
   },
   {
    "duration": 2,
    "start_time": "2023-02-26T12:26:27.990Z"
   },
   {
    "duration": 8,
    "start_time": "2023-02-26T12:26:27.993Z"
   },
   {
    "duration": 12,
    "start_time": "2023-02-26T12:26:28.021Z"
   },
   {
    "duration": 8,
    "start_time": "2023-02-26T12:26:28.035Z"
   },
   {
    "duration": 28,
    "start_time": "2023-02-26T12:26:28.044Z"
   },
   {
    "duration": 21,
    "start_time": "2023-02-26T12:26:28.074Z"
   },
   {
    "duration": 48,
    "start_time": "2023-02-26T12:26:28.097Z"
   },
   {
    "duration": 79,
    "start_time": "2023-02-26T12:26:28.147Z"
   },
   {
    "duration": 75,
    "start_time": "2023-02-26T12:26:28.227Z"
   },
   {
    "duration": 88,
    "start_time": "2023-02-26T12:26:28.304Z"
   },
   {
    "duration": 57,
    "start_time": "2023-02-26T12:26:28.393Z"
   },
   {
    "duration": 3,
    "start_time": "2023-02-26T12:26:28.451Z"
   },
   {
    "duration": 4,
    "start_time": "2023-02-26T12:26:28.456Z"
   },
   {
    "duration": 3,
    "start_time": "2023-02-26T12:26:28.462Z"
   },
   {
    "duration": 7,
    "start_time": "2023-02-26T12:26:28.467Z"
   },
   {
    "duration": 6,
    "start_time": "2023-02-26T12:26:28.476Z"
   },
   {
    "duration": 7,
    "start_time": "2023-02-26T12:26:28.483Z"
   },
   {
    "duration": 4,
    "start_time": "2023-02-26T12:26:28.492Z"
   },
   {
    "duration": 24,
    "start_time": "2023-02-26T12:26:28.497Z"
   },
   {
    "duration": 5,
    "start_time": "2023-02-26T12:26:28.523Z"
   },
   {
    "duration": 5,
    "start_time": "2023-02-26T12:26:28.530Z"
   },
   {
    "duration": 6,
    "start_time": "2023-02-26T12:26:28.536Z"
   },
   {
    "duration": 4,
    "start_time": "2023-02-26T12:26:28.544Z"
   },
   {
    "duration": 6,
    "start_time": "2023-02-26T12:26:28.551Z"
   },
   {
    "duration": 5,
    "start_time": "2023-02-26T12:26:28.558Z"
   },
   {
    "duration": 80,
    "start_time": "2023-02-26T12:26:28.565Z"
   },
   {
    "duration": 0,
    "start_time": "2023-02-26T12:26:28.647Z"
   },
   {
    "duration": 0,
    "start_time": "2023-02-26T12:26:28.649Z"
   },
   {
    "duration": 0,
    "start_time": "2023-02-26T12:26:28.651Z"
   },
   {
    "duration": 0,
    "start_time": "2023-02-26T12:26:28.652Z"
   },
   {
    "duration": 0,
    "start_time": "2023-02-26T12:26:28.653Z"
   },
   {
    "duration": 0,
    "start_time": "2023-02-26T12:26:28.655Z"
   },
   {
    "duration": 0,
    "start_time": "2023-02-26T12:26:28.656Z"
   },
   {
    "duration": 0,
    "start_time": "2023-02-26T12:26:28.658Z"
   },
   {
    "duration": 5,
    "start_time": "2023-02-26T12:30:33.094Z"
   },
   {
    "duration": 69,
    "start_time": "2023-02-26T12:31:00.077Z"
   },
   {
    "duration": 452,
    "start_time": "2023-02-26T12:31:07.301Z"
   },
   {
    "duration": 184,
    "start_time": "2023-02-26T12:31:07.755Z"
   },
   {
    "duration": 18,
    "start_time": "2023-02-26T12:31:07.940Z"
   },
   {
    "duration": 34,
    "start_time": "2023-02-26T12:31:07.960Z"
   },
   {
    "duration": 2,
    "start_time": "2023-02-26T12:31:07.996Z"
   },
   {
    "duration": 24,
    "start_time": "2023-02-26T12:31:08.000Z"
   },
   {
    "duration": 14,
    "start_time": "2023-02-26T12:31:08.025Z"
   },
   {
    "duration": 11,
    "start_time": "2023-02-26T12:31:08.040Z"
   },
   {
    "duration": 33,
    "start_time": "2023-02-26T12:31:08.053Z"
   },
   {
    "duration": 33,
    "start_time": "2023-02-26T12:31:08.088Z"
   },
   {
    "duration": 28,
    "start_time": "2023-02-26T12:31:08.123Z"
   },
   {
    "duration": 91,
    "start_time": "2023-02-26T12:31:08.153Z"
   },
   {
    "duration": 85,
    "start_time": "2023-02-26T12:31:08.246Z"
   },
   {
    "duration": 74,
    "start_time": "2023-02-26T12:31:08.333Z"
   },
   {
    "duration": 43,
    "start_time": "2023-02-26T12:31:08.421Z"
   },
   {
    "duration": 10,
    "start_time": "2023-02-26T12:31:08.466Z"
   },
   {
    "duration": 92,
    "start_time": "2023-02-26T12:31:08.478Z"
   },
   {
    "duration": 0,
    "start_time": "2023-02-26T12:31:08.572Z"
   },
   {
    "duration": 0,
    "start_time": "2023-02-26T12:31:08.574Z"
   },
   {
    "duration": 0,
    "start_time": "2023-02-26T12:31:08.576Z"
   },
   {
    "duration": 0,
    "start_time": "2023-02-26T12:31:08.577Z"
   },
   {
    "duration": 0,
    "start_time": "2023-02-26T12:31:08.578Z"
   },
   {
    "duration": 0,
    "start_time": "2023-02-26T12:31:08.579Z"
   },
   {
    "duration": 0,
    "start_time": "2023-02-26T12:31:08.580Z"
   },
   {
    "duration": 0,
    "start_time": "2023-02-26T12:31:08.582Z"
   },
   {
    "duration": 0,
    "start_time": "2023-02-26T12:31:08.583Z"
   },
   {
    "duration": 0,
    "start_time": "2023-02-26T12:31:08.584Z"
   },
   {
    "duration": 0,
    "start_time": "2023-02-26T12:31:08.586Z"
   },
   {
    "duration": 0,
    "start_time": "2023-02-26T12:31:08.587Z"
   },
   {
    "duration": 0,
    "start_time": "2023-02-26T12:31:08.588Z"
   },
   {
    "duration": 0,
    "start_time": "2023-02-26T12:31:08.589Z"
   },
   {
    "duration": 0,
    "start_time": "2023-02-26T12:31:08.590Z"
   },
   {
    "duration": 0,
    "start_time": "2023-02-26T12:31:08.621Z"
   },
   {
    "duration": 0,
    "start_time": "2023-02-26T12:31:08.622Z"
   },
   {
    "duration": 0,
    "start_time": "2023-02-26T12:31:08.623Z"
   },
   {
    "duration": 0,
    "start_time": "2023-02-26T12:31:08.624Z"
   },
   {
    "duration": 0,
    "start_time": "2023-02-26T12:31:08.625Z"
   },
   {
    "duration": 0,
    "start_time": "2023-02-26T12:31:08.626Z"
   },
   {
    "duration": 45,
    "start_time": "2023-02-26T12:31:32.041Z"
   },
   {
    "duration": 10,
    "start_time": "2023-02-26T12:33:57.834Z"
   },
   {
    "duration": 3,
    "start_time": "2023-02-26T12:34:16.254Z"
   },
   {
    "duration": 241,
    "start_time": "2023-02-26T12:34:16.259Z"
   },
   {
    "duration": 21,
    "start_time": "2023-02-26T12:34:16.502Z"
   },
   {
    "duration": 37,
    "start_time": "2023-02-26T12:34:16.525Z"
   },
   {
    "duration": 3,
    "start_time": "2023-02-26T12:34:16.564Z"
   },
   {
    "duration": 12,
    "start_time": "2023-02-26T12:34:16.569Z"
   },
   {
    "duration": 34,
    "start_time": "2023-02-26T12:34:16.583Z"
   },
   {
    "duration": 15,
    "start_time": "2023-02-26T12:34:16.621Z"
   },
   {
    "duration": 53,
    "start_time": "2023-02-26T12:34:16.638Z"
   },
   {
    "duration": 26,
    "start_time": "2023-02-26T12:34:16.693Z"
   },
   {
    "duration": 42,
    "start_time": "2023-02-26T12:34:16.723Z"
   },
   {
    "duration": 104,
    "start_time": "2023-02-26T12:34:16.768Z"
   },
   {
    "duration": 87,
    "start_time": "2023-02-26T12:34:16.874Z"
   },
   {
    "duration": 76,
    "start_time": "2023-02-26T12:34:16.963Z"
   },
   {
    "duration": 47,
    "start_time": "2023-02-26T12:34:17.041Z"
   },
   {
    "duration": 15,
    "start_time": "2023-02-26T12:34:17.090Z"
   },
   {
    "duration": 80,
    "start_time": "2023-02-26T12:34:17.106Z"
   },
   {
    "duration": 10,
    "start_time": "2023-02-26T12:34:17.188Z"
   },
   {
    "duration": 0,
    "start_time": "2023-02-26T12:34:17.200Z"
   },
   {
    "duration": 0,
    "start_time": "2023-02-26T12:34:17.202Z"
   },
   {
    "duration": 0,
    "start_time": "2023-02-26T12:34:17.203Z"
   },
   {
    "duration": 0,
    "start_time": "2023-02-26T12:34:17.204Z"
   },
   {
    "duration": 0,
    "start_time": "2023-02-26T12:34:17.206Z"
   },
   {
    "duration": 0,
    "start_time": "2023-02-26T12:34:17.224Z"
   },
   {
    "duration": 0,
    "start_time": "2023-02-26T12:34:17.226Z"
   },
   {
    "duration": 0,
    "start_time": "2023-02-26T12:34:17.227Z"
   },
   {
    "duration": 0,
    "start_time": "2023-02-26T12:34:17.229Z"
   },
   {
    "duration": 0,
    "start_time": "2023-02-26T12:34:17.231Z"
   },
   {
    "duration": 0,
    "start_time": "2023-02-26T12:34:17.232Z"
   },
   {
    "duration": 0,
    "start_time": "2023-02-26T12:34:17.234Z"
   },
   {
    "duration": 0,
    "start_time": "2023-02-26T12:34:17.235Z"
   },
   {
    "duration": 0,
    "start_time": "2023-02-26T12:34:17.236Z"
   },
   {
    "duration": 0,
    "start_time": "2023-02-26T12:34:17.238Z"
   },
   {
    "duration": 0,
    "start_time": "2023-02-26T12:34:17.239Z"
   },
   {
    "duration": 0,
    "start_time": "2023-02-26T12:34:17.241Z"
   },
   {
    "duration": 0,
    "start_time": "2023-02-26T12:34:17.243Z"
   },
   {
    "duration": 0,
    "start_time": "2023-02-26T12:34:17.245Z"
   },
   {
    "duration": 0,
    "start_time": "2023-02-26T12:34:17.246Z"
   },
   {
    "duration": 35,
    "start_time": "2023-02-26T12:35:38.552Z"
   },
   {
    "duration": 431,
    "start_time": "2023-02-26T12:36:20.840Z"
   },
   {
    "duration": 193,
    "start_time": "2023-02-26T12:36:21.272Z"
   },
   {
    "duration": 18,
    "start_time": "2023-02-26T12:36:21.467Z"
   },
   {
    "duration": 46,
    "start_time": "2023-02-26T12:36:21.487Z"
   },
   {
    "duration": 7,
    "start_time": "2023-02-26T12:36:21.535Z"
   },
   {
    "duration": 7,
    "start_time": "2023-02-26T12:36:21.544Z"
   },
   {
    "duration": 23,
    "start_time": "2023-02-26T12:36:21.553Z"
   },
   {
    "duration": 9,
    "start_time": "2023-02-26T12:36:21.578Z"
   },
   {
    "duration": 55,
    "start_time": "2023-02-26T12:36:21.588Z"
   },
   {
    "duration": 37,
    "start_time": "2023-02-26T12:36:21.647Z"
   },
   {
    "duration": 39,
    "start_time": "2023-02-26T12:36:21.686Z"
   },
   {
    "duration": 78,
    "start_time": "2023-02-26T12:36:21.727Z"
   },
   {
    "duration": 80,
    "start_time": "2023-02-26T12:36:21.822Z"
   },
   {
    "duration": 92,
    "start_time": "2023-02-26T12:36:21.904Z"
   },
   {
    "duration": 56,
    "start_time": "2023-02-26T12:36:21.998Z"
   },
   {
    "duration": 12,
    "start_time": "2023-02-26T12:36:22.055Z"
   },
   {
    "duration": 67,
    "start_time": "2023-02-26T12:36:22.068Z"
   },
   {
    "duration": 44,
    "start_time": "2023-02-26T12:36:22.137Z"
   },
   {
    "duration": 3,
    "start_time": "2023-02-26T12:36:22.183Z"
   },
   {
    "duration": 23,
    "start_time": "2023-02-26T12:36:22.187Z"
   },
   {
    "duration": 7,
    "start_time": "2023-02-26T12:36:22.212Z"
   },
   {
    "duration": 9,
    "start_time": "2023-02-26T12:36:22.221Z"
   },
   {
    "duration": 9,
    "start_time": "2023-02-26T12:36:22.232Z"
   },
   {
    "duration": 13,
    "start_time": "2023-02-26T12:36:22.243Z"
   },
   {
    "duration": 13,
    "start_time": "2023-02-26T12:36:22.258Z"
   },
   {
    "duration": 9,
    "start_time": "2023-02-26T12:36:22.272Z"
   },
   {
    "duration": 7,
    "start_time": "2023-02-26T12:36:22.282Z"
   },
   {
    "duration": 5,
    "start_time": "2023-02-26T12:36:22.292Z"
   },
   {
    "duration": 6,
    "start_time": "2023-02-26T12:36:22.298Z"
   },
   {
    "duration": 83,
    "start_time": "2023-02-26T12:36:22.322Z"
   },
   {
    "duration": 0,
    "start_time": "2023-02-26T12:36:22.407Z"
   },
   {
    "duration": 0,
    "start_time": "2023-02-26T12:36:22.409Z"
   },
   {
    "duration": 0,
    "start_time": "2023-02-26T12:36:22.411Z"
   },
   {
    "duration": 0,
    "start_time": "2023-02-26T12:36:22.413Z"
   },
   {
    "duration": 0,
    "start_time": "2023-02-26T12:36:22.415Z"
   },
   {
    "duration": 0,
    "start_time": "2023-02-26T12:36:22.416Z"
   },
   {
    "duration": 0,
    "start_time": "2023-02-26T12:36:22.417Z"
   },
   {
    "duration": 0,
    "start_time": "2023-02-26T12:36:22.419Z"
   },
   {
    "duration": 12,
    "start_time": "2023-02-26T12:37:49.241Z"
   },
   {
    "duration": 36,
    "start_time": "2023-02-26T12:40:45.656Z"
   },
   {
    "duration": 66,
    "start_time": "2023-02-26T12:41:06.679Z"
   },
   {
    "duration": 3,
    "start_time": "2023-02-26T12:41:10.993Z"
   },
   {
    "duration": 194,
    "start_time": "2023-02-26T12:41:10.999Z"
   },
   {
    "duration": 11,
    "start_time": "2023-02-26T12:41:11.196Z"
   },
   {
    "duration": 42,
    "start_time": "2023-02-26T12:41:11.209Z"
   },
   {
    "duration": 3,
    "start_time": "2023-02-26T12:41:11.253Z"
   },
   {
    "duration": 9,
    "start_time": "2023-02-26T12:41:11.257Z"
   },
   {
    "duration": 10,
    "start_time": "2023-02-26T12:41:11.268Z"
   },
   {
    "duration": 5,
    "start_time": "2023-02-26T12:41:11.279Z"
   },
   {
    "duration": 51,
    "start_time": "2023-02-26T12:41:11.285Z"
   },
   {
    "duration": 20,
    "start_time": "2023-02-26T12:41:11.377Z"
   },
   {
    "duration": 26,
    "start_time": "2023-02-26T12:41:11.399Z"
   },
   {
    "duration": 70,
    "start_time": "2023-02-26T12:41:11.427Z"
   },
   {
    "duration": 89,
    "start_time": "2023-02-26T12:41:11.498Z"
   },
   {
    "duration": 75,
    "start_time": "2023-02-26T12:41:11.589Z"
   },
   {
    "duration": 41,
    "start_time": "2023-02-26T12:41:11.666Z"
   },
   {
    "duration": 20,
    "start_time": "2023-02-26T12:41:11.709Z"
   },
   {
    "duration": 48,
    "start_time": "2023-02-26T12:41:11.731Z"
   },
   {
    "duration": 13,
    "start_time": "2023-02-26T12:41:11.781Z"
   },
   {
    "duration": 29,
    "start_time": "2023-02-26T12:41:11.796Z"
   },
   {
    "duration": 0,
    "start_time": "2023-02-26T12:41:11.828Z"
   },
   {
    "duration": 0,
    "start_time": "2023-02-26T12:41:11.829Z"
   },
   {
    "duration": 0,
    "start_time": "2023-02-26T12:41:11.831Z"
   },
   {
    "duration": 0,
    "start_time": "2023-02-26T12:41:11.832Z"
   },
   {
    "duration": 0,
    "start_time": "2023-02-26T12:41:11.832Z"
   },
   {
    "duration": 0,
    "start_time": "2023-02-26T12:41:11.833Z"
   },
   {
    "duration": 0,
    "start_time": "2023-02-26T12:41:11.835Z"
   },
   {
    "duration": 0,
    "start_time": "2023-02-26T12:41:11.836Z"
   },
   {
    "duration": 0,
    "start_time": "2023-02-26T12:41:11.837Z"
   },
   {
    "duration": 0,
    "start_time": "2023-02-26T12:41:11.839Z"
   },
   {
    "duration": 0,
    "start_time": "2023-02-26T12:41:11.840Z"
   },
   {
    "duration": 0,
    "start_time": "2023-02-26T12:41:11.841Z"
   },
   {
    "duration": 0,
    "start_time": "2023-02-26T12:41:11.842Z"
   },
   {
    "duration": 0,
    "start_time": "2023-02-26T12:41:11.843Z"
   },
   {
    "duration": 0,
    "start_time": "2023-02-26T12:41:11.844Z"
   },
   {
    "duration": 0,
    "start_time": "2023-02-26T12:41:11.845Z"
   },
   {
    "duration": 0,
    "start_time": "2023-02-26T12:41:11.847Z"
   },
   {
    "duration": 0,
    "start_time": "2023-02-26T12:41:11.848Z"
   },
   {
    "duration": 0,
    "start_time": "2023-02-26T12:41:11.849Z"
   },
   {
    "duration": 35,
    "start_time": "2023-02-26T12:41:29.245Z"
   },
   {
    "duration": 12,
    "start_time": "2023-02-26T12:41:50.545Z"
   },
   {
    "duration": 86,
    "start_time": "2023-02-26T12:55:16.815Z"
   },
   {
    "duration": 5,
    "start_time": "2023-02-26T12:55:25.103Z"
   },
   {
    "duration": 4,
    "start_time": "2023-02-26T13:00:08.855Z"
   },
   {
    "duration": 408,
    "start_time": "2023-02-26T13:00:18.637Z"
   },
   {
    "duration": 177,
    "start_time": "2023-02-26T13:00:19.047Z"
   },
   {
    "duration": 20,
    "start_time": "2023-02-26T13:00:19.226Z"
   },
   {
    "duration": 32,
    "start_time": "2023-02-26T13:00:19.249Z"
   },
   {
    "duration": 2,
    "start_time": "2023-02-26T13:00:19.283Z"
   },
   {
    "duration": 6,
    "start_time": "2023-02-26T13:00:19.287Z"
   },
   {
    "duration": 12,
    "start_time": "2023-02-26T13:00:19.321Z"
   },
   {
    "duration": 8,
    "start_time": "2023-02-26T13:00:19.334Z"
   },
   {
    "duration": 28,
    "start_time": "2023-02-26T13:00:19.343Z"
   },
   {
    "duration": 24,
    "start_time": "2023-02-26T13:00:19.373Z"
   },
   {
    "duration": 47,
    "start_time": "2023-02-26T13:00:19.398Z"
   },
   {
    "duration": 85,
    "start_time": "2023-02-26T13:00:19.447Z"
   },
   {
    "duration": 72,
    "start_time": "2023-02-26T13:00:19.534Z"
   },
   {
    "duration": 66,
    "start_time": "2023-02-26T13:00:19.620Z"
   },
   {
    "duration": 54,
    "start_time": "2023-02-26T13:00:19.688Z"
   },
   {
    "duration": 31,
    "start_time": "2023-02-26T13:00:19.744Z"
   },
   {
    "duration": 42,
    "start_time": "2023-02-26T13:00:19.776Z"
   },
   {
    "duration": 13,
    "start_time": "2023-02-26T13:00:19.820Z"
   },
   {
    "duration": 13,
    "start_time": "2023-02-26T13:00:19.835Z"
   },
   {
    "duration": 4,
    "start_time": "2023-02-26T13:00:19.849Z"
   },
   {
    "duration": 7,
    "start_time": "2023-02-26T13:00:19.854Z"
   },
   {
    "duration": 6,
    "start_time": "2023-02-26T13:00:19.863Z"
   },
   {
    "duration": 5,
    "start_time": "2023-02-26T13:00:19.870Z"
   },
   {
    "duration": 6,
    "start_time": "2023-02-26T13:00:19.877Z"
   },
   {
    "duration": 5,
    "start_time": "2023-02-26T13:00:19.885Z"
   },
   {
    "duration": 10,
    "start_time": "2023-02-26T13:00:19.891Z"
   },
   {
    "duration": 7,
    "start_time": "2023-02-26T13:00:19.922Z"
   },
   {
    "duration": 3,
    "start_time": "2023-02-26T13:00:19.933Z"
   },
   {
    "duration": 7,
    "start_time": "2023-02-26T13:00:19.937Z"
   },
   {
    "duration": 81,
    "start_time": "2023-02-26T13:00:19.947Z"
   },
   {
    "duration": 0,
    "start_time": "2023-02-26T13:00:20.030Z"
   },
   {
    "duration": 0,
    "start_time": "2023-02-26T13:00:20.031Z"
   },
   {
    "duration": 0,
    "start_time": "2023-02-26T13:00:20.033Z"
   },
   {
    "duration": 0,
    "start_time": "2023-02-26T13:00:20.034Z"
   },
   {
    "duration": 0,
    "start_time": "2023-02-26T13:00:20.035Z"
   },
   {
    "duration": 0,
    "start_time": "2023-02-26T13:00:20.036Z"
   },
   {
    "duration": 0,
    "start_time": "2023-02-26T13:00:20.037Z"
   },
   {
    "duration": 0,
    "start_time": "2023-02-26T13:00:20.039Z"
   },
   {
    "duration": 4,
    "start_time": "2023-02-26T13:01:52.048Z"
   },
   {
    "duration": 27,
    "start_time": "2023-02-26T13:03:14.387Z"
   },
   {
    "duration": 20,
    "start_time": "2023-02-26T13:03:18.276Z"
   },
   {
    "duration": 18,
    "start_time": "2023-02-26T13:03:20.416Z"
   },
   {
    "duration": 13,
    "start_time": "2023-02-26T13:03:22.714Z"
   },
   {
    "duration": 16,
    "start_time": "2023-02-26T13:03:25.574Z"
   },
   {
    "duration": 16,
    "start_time": "2023-02-26T13:03:27.486Z"
   },
   {
    "duration": 123,
    "start_time": "2023-02-26T13:04:45.196Z"
   },
   {
    "duration": 61,
    "start_time": "2023-02-26T13:05:05.278Z"
   },
   {
    "duration": 2,
    "start_time": "2023-02-26T13:05:39.900Z"
   },
   {
    "duration": 173,
    "start_time": "2023-02-26T13:05:39.906Z"
   },
   {
    "duration": 10,
    "start_time": "2023-02-26T13:05:40.081Z"
   },
   {
    "duration": 45,
    "start_time": "2023-02-26T13:05:40.093Z"
   },
   {
    "duration": 2,
    "start_time": "2023-02-26T13:05:40.140Z"
   },
   {
    "duration": 6,
    "start_time": "2023-02-26T13:05:40.144Z"
   },
   {
    "duration": 15,
    "start_time": "2023-02-26T13:05:40.151Z"
   },
   {
    "duration": 10,
    "start_time": "2023-02-26T13:05:40.168Z"
   },
   {
    "duration": 40,
    "start_time": "2023-02-26T13:05:40.181Z"
   },
   {
    "duration": 17,
    "start_time": "2023-02-26T13:05:40.223Z"
   },
   {
    "duration": 24,
    "start_time": "2023-02-26T13:05:40.243Z"
   },
   {
    "duration": 82,
    "start_time": "2023-02-26T13:05:40.268Z"
   },
   {
    "duration": 69,
    "start_time": "2023-02-26T13:05:40.352Z"
   },
   {
    "duration": 56,
    "start_time": "2023-02-26T13:05:40.423Z"
   },
   {
    "duration": 51,
    "start_time": "2023-02-26T13:05:40.480Z"
   },
   {
    "duration": 10,
    "start_time": "2023-02-26T13:05:40.532Z"
   },
   {
    "duration": 59,
    "start_time": "2023-02-26T13:05:40.543Z"
   },
   {
    "duration": 11,
    "start_time": "2023-02-26T13:05:40.603Z"
   },
   {
    "duration": 16,
    "start_time": "2023-02-26T13:05:40.621Z"
   },
   {
    "duration": 6,
    "start_time": "2023-02-26T13:05:40.639Z"
   },
   {
    "duration": 26,
    "start_time": "2023-02-26T13:05:40.647Z"
   },
   {
    "duration": 21,
    "start_time": "2023-02-26T13:05:40.675Z"
   },
   {
    "duration": 30,
    "start_time": "2023-02-26T13:05:40.697Z"
   },
   {
    "duration": 16,
    "start_time": "2023-02-26T13:05:40.728Z"
   },
   {
    "duration": 27,
    "start_time": "2023-02-26T13:05:40.745Z"
   },
   {
    "duration": 13,
    "start_time": "2023-02-26T13:05:40.774Z"
   },
   {
    "duration": 25,
    "start_time": "2023-02-26T13:05:40.789Z"
   },
   {
    "duration": 0,
    "start_time": "2023-02-26T13:05:40.816Z"
   },
   {
    "duration": 0,
    "start_time": "2023-02-26T13:05:40.817Z"
   },
   {
    "duration": 0,
    "start_time": "2023-02-26T13:05:40.818Z"
   },
   {
    "duration": 0,
    "start_time": "2023-02-26T13:05:40.819Z"
   },
   {
    "duration": 1,
    "start_time": "2023-02-26T13:05:40.820Z"
   },
   {
    "duration": 0,
    "start_time": "2023-02-26T13:05:40.822Z"
   },
   {
    "duration": 0,
    "start_time": "2023-02-26T13:05:40.822Z"
   },
   {
    "duration": 0,
    "start_time": "2023-02-26T13:05:40.823Z"
   },
   {
    "duration": 0,
    "start_time": "2023-02-26T13:05:40.825Z"
   },
   {
    "duration": 0,
    "start_time": "2023-02-26T13:05:40.826Z"
   },
   {
    "duration": 0,
    "start_time": "2023-02-26T13:05:40.827Z"
   },
   {
    "duration": 4,
    "start_time": "2023-02-26T13:13:12.879Z"
   },
   {
    "duration": 9,
    "start_time": "2023-02-26T13:13:24.718Z"
   },
   {
    "duration": 8,
    "start_time": "2023-02-26T13:14:38.060Z"
   },
   {
    "duration": 9,
    "start_time": "2023-02-26T13:15:13.567Z"
   },
   {
    "duration": 72,
    "start_time": "2023-02-26T13:16:40.170Z"
   },
   {
    "duration": 71,
    "start_time": "2023-02-26T13:17:51.454Z"
   },
   {
    "duration": 418,
    "start_time": "2023-02-26T13:18:02.518Z"
   },
   {
    "duration": 171,
    "start_time": "2023-02-26T13:18:02.938Z"
   },
   {
    "duration": 20,
    "start_time": "2023-02-26T13:18:03.111Z"
   },
   {
    "duration": 38,
    "start_time": "2023-02-26T13:18:03.133Z"
   },
   {
    "duration": 2,
    "start_time": "2023-02-26T13:18:03.173Z"
   },
   {
    "duration": 8,
    "start_time": "2023-02-26T13:18:03.177Z"
   },
   {
    "duration": 12,
    "start_time": "2023-02-26T13:18:03.187Z"
   },
   {
    "duration": 26,
    "start_time": "2023-02-26T13:18:03.200Z"
   },
   {
    "duration": 26,
    "start_time": "2023-02-26T13:18:03.228Z"
   },
   {
    "duration": 22,
    "start_time": "2023-02-26T13:18:03.256Z"
   },
   {
    "duration": 46,
    "start_time": "2023-02-26T13:18:03.280Z"
   },
   {
    "duration": 70,
    "start_time": "2023-02-26T13:18:03.328Z"
   },
   {
    "duration": 83,
    "start_time": "2023-02-26T13:18:03.399Z"
   },
   {
    "duration": 69,
    "start_time": "2023-02-26T13:18:03.484Z"
   },
   {
    "duration": 38,
    "start_time": "2023-02-26T13:18:03.555Z"
   },
   {
    "duration": 25,
    "start_time": "2023-02-26T13:18:03.595Z"
   },
   {
    "duration": 37,
    "start_time": "2023-02-26T13:18:03.622Z"
   },
   {
    "duration": 11,
    "start_time": "2023-02-26T13:18:03.660Z"
   },
   {
    "duration": 10,
    "start_time": "2023-02-26T13:18:03.673Z"
   },
   {
    "duration": 3,
    "start_time": "2023-02-26T13:18:03.685Z"
   },
   {
    "duration": 43,
    "start_time": "2023-02-26T13:18:03.689Z"
   },
   {
    "duration": 13,
    "start_time": "2023-02-26T13:18:03.734Z"
   },
   {
    "duration": 15,
    "start_time": "2023-02-26T13:18:03.749Z"
   },
   {
    "duration": 15,
    "start_time": "2023-02-26T13:18:03.766Z"
   },
   {
    "duration": 45,
    "start_time": "2023-02-26T13:18:03.782Z"
   },
   {
    "duration": 14,
    "start_time": "2023-02-26T13:18:03.829Z"
   },
   {
    "duration": 151,
    "start_time": "2023-02-26T13:18:03.845Z"
   },
   {
    "duration": 0,
    "start_time": "2023-02-26T13:18:03.998Z"
   },
   {
    "duration": 0,
    "start_time": "2023-02-26T13:18:03.999Z"
   },
   {
    "duration": 0,
    "start_time": "2023-02-26T13:18:04.001Z"
   },
   {
    "duration": 0,
    "start_time": "2023-02-26T13:18:04.002Z"
   },
   {
    "duration": 0,
    "start_time": "2023-02-26T13:18:04.004Z"
   },
   {
    "duration": 0,
    "start_time": "2023-02-26T13:18:04.005Z"
   },
   {
    "duration": 0,
    "start_time": "2023-02-26T13:18:04.007Z"
   },
   {
    "duration": 0,
    "start_time": "2023-02-26T13:18:04.008Z"
   },
   {
    "duration": 0,
    "start_time": "2023-02-26T13:18:04.009Z"
   },
   {
    "duration": 0,
    "start_time": "2023-02-26T13:18:04.011Z"
   },
   {
    "duration": 0,
    "start_time": "2023-02-26T13:18:04.012Z"
   },
   {
    "duration": 82,
    "start_time": "2023-02-26T13:18:28.620Z"
   },
   {
    "duration": 3,
    "start_time": "2023-02-26T13:18:44.770Z"
   },
   {
    "duration": 209,
    "start_time": "2023-02-26T13:18:44.775Z"
   },
   {
    "duration": 16,
    "start_time": "2023-02-26T13:18:44.987Z"
   },
   {
    "duration": 88,
    "start_time": "2023-02-26T13:18:45.006Z"
   },
   {
    "duration": 13,
    "start_time": "2023-02-26T13:18:45.097Z"
   },
   {
    "duration": 10,
    "start_time": "2023-02-26T13:18:45.112Z"
   },
   {
    "duration": 17,
    "start_time": "2023-02-26T13:18:45.124Z"
   },
   {
    "duration": 27,
    "start_time": "2023-02-26T13:18:45.144Z"
   },
   {
    "duration": 72,
    "start_time": "2023-02-26T13:18:45.173Z"
   },
   {
    "duration": 32,
    "start_time": "2023-02-26T13:18:45.248Z"
   },
   {
    "duration": 41,
    "start_time": "2023-02-26T13:18:45.284Z"
   },
   {
    "duration": 65,
    "start_time": "2023-02-26T13:18:45.327Z"
   },
   {
    "duration": 79,
    "start_time": "2023-02-26T13:18:45.394Z"
   },
   {
    "duration": 99,
    "start_time": "2023-02-26T13:18:45.475Z"
   },
   {
    "duration": 66,
    "start_time": "2023-02-26T13:18:45.576Z"
   },
   {
    "duration": 10,
    "start_time": "2023-02-26T13:18:45.645Z"
   },
   {
    "duration": 64,
    "start_time": "2023-02-26T13:18:45.657Z"
   },
   {
    "duration": 12,
    "start_time": "2023-02-26T13:18:45.723Z"
   },
   {
    "duration": 29,
    "start_time": "2023-02-26T13:18:45.736Z"
   },
   {
    "duration": 13,
    "start_time": "2023-02-26T13:18:45.766Z"
   },
   {
    "duration": 24,
    "start_time": "2023-02-26T13:18:45.781Z"
   },
   {
    "duration": 21,
    "start_time": "2023-02-26T13:18:45.806Z"
   },
   {
    "duration": 15,
    "start_time": "2023-02-26T13:18:45.829Z"
   },
   {
    "duration": 14,
    "start_time": "2023-02-26T13:18:45.846Z"
   },
   {
    "duration": 16,
    "start_time": "2023-02-26T13:18:45.862Z"
   },
   {
    "duration": 46,
    "start_time": "2023-02-26T13:18:45.880Z"
   },
   {
    "duration": 81,
    "start_time": "2023-02-26T13:18:45.928Z"
   },
   {
    "duration": 0,
    "start_time": "2023-02-26T13:18:46.011Z"
   },
   {
    "duration": 0,
    "start_time": "2023-02-26T13:18:46.012Z"
   },
   {
    "duration": 0,
    "start_time": "2023-02-26T13:18:46.014Z"
   },
   {
    "duration": 0,
    "start_time": "2023-02-26T13:18:46.016Z"
   },
   {
    "duration": 0,
    "start_time": "2023-02-26T13:18:46.017Z"
   },
   {
    "duration": 0,
    "start_time": "2023-02-26T13:18:46.018Z"
   },
   {
    "duration": 0,
    "start_time": "2023-02-26T13:18:46.019Z"
   },
   {
    "duration": 0,
    "start_time": "2023-02-26T13:18:46.020Z"
   },
   {
    "duration": 0,
    "start_time": "2023-02-26T13:18:46.021Z"
   },
   {
    "duration": 0,
    "start_time": "2023-02-26T13:18:46.022Z"
   },
   {
    "duration": 0,
    "start_time": "2023-02-26T13:18:46.023Z"
   },
   {
    "duration": 115,
    "start_time": "2023-02-26T13:19:45.929Z"
   },
   {
    "duration": 450,
    "start_time": "2023-02-26T13:20:12.995Z"
   },
   {
    "duration": 174,
    "start_time": "2023-02-26T13:20:13.447Z"
   },
   {
    "duration": 19,
    "start_time": "2023-02-26T13:20:13.623Z"
   },
   {
    "duration": 38,
    "start_time": "2023-02-26T13:20:13.645Z"
   },
   {
    "duration": 15,
    "start_time": "2023-02-26T13:20:13.685Z"
   },
   {
    "duration": 16,
    "start_time": "2023-02-26T13:20:13.702Z"
   },
   {
    "duration": 22,
    "start_time": "2023-02-26T13:20:13.720Z"
   },
   {
    "duration": 17,
    "start_time": "2023-02-26T13:20:13.745Z"
   },
   {
    "duration": 45,
    "start_time": "2023-02-26T13:20:13.764Z"
   },
   {
    "duration": 36,
    "start_time": "2023-02-26T13:20:13.813Z"
   },
   {
    "duration": 58,
    "start_time": "2023-02-26T13:20:13.851Z"
   },
   {
    "duration": 89,
    "start_time": "2023-02-26T13:20:13.911Z"
   },
   {
    "duration": 112,
    "start_time": "2023-02-26T13:20:14.002Z"
   },
   {
    "duration": 78,
    "start_time": "2023-02-26T13:20:14.116Z"
   },
   {
    "duration": 62,
    "start_time": "2023-02-26T13:20:14.196Z"
   },
   {
    "duration": 10,
    "start_time": "2023-02-26T13:20:14.260Z"
   },
   {
    "duration": 59,
    "start_time": "2023-02-26T13:20:14.271Z"
   },
   {
    "duration": 17,
    "start_time": "2023-02-26T13:20:14.333Z"
   },
   {
    "duration": 20,
    "start_time": "2023-02-26T13:20:14.352Z"
   },
   {
    "duration": 4,
    "start_time": "2023-02-26T13:20:14.374Z"
   },
   {
    "duration": 24,
    "start_time": "2023-02-26T13:20:14.380Z"
   },
   {
    "duration": 23,
    "start_time": "2023-02-26T13:20:14.429Z"
   },
   {
    "duration": 30,
    "start_time": "2023-02-26T13:20:14.454Z"
   },
   {
    "duration": 27,
    "start_time": "2023-02-26T13:20:14.486Z"
   },
   {
    "duration": 67,
    "start_time": "2023-02-26T13:20:14.516Z"
   },
   {
    "duration": 19,
    "start_time": "2023-02-26T13:20:14.585Z"
   },
   {
    "duration": 117,
    "start_time": "2023-02-26T13:20:14.606Z"
   },
   {
    "duration": 0,
    "start_time": "2023-02-26T13:20:14.726Z"
   },
   {
    "duration": 0,
    "start_time": "2023-02-26T13:20:14.731Z"
   },
   {
    "duration": 0,
    "start_time": "2023-02-26T13:20:14.733Z"
   },
   {
    "duration": 0,
    "start_time": "2023-02-26T13:20:14.734Z"
   },
   {
    "duration": 0,
    "start_time": "2023-02-26T13:20:14.736Z"
   },
   {
    "duration": 0,
    "start_time": "2023-02-26T13:20:14.738Z"
   },
   {
    "duration": 0,
    "start_time": "2023-02-26T13:20:14.739Z"
   },
   {
    "duration": 0,
    "start_time": "2023-02-26T13:20:14.740Z"
   },
   {
    "duration": 0,
    "start_time": "2023-02-26T13:20:14.741Z"
   },
   {
    "duration": 0,
    "start_time": "2023-02-26T13:20:14.742Z"
   },
   {
    "duration": 0,
    "start_time": "2023-02-26T13:20:14.743Z"
   },
   {
    "duration": 9,
    "start_time": "2023-02-26T13:20:46.664Z"
   },
   {
    "duration": 9,
    "start_time": "2023-02-26T13:21:57.088Z"
   },
   {
    "duration": 11,
    "start_time": "2023-02-26T13:24:38.867Z"
   },
   {
    "duration": 23,
    "start_time": "2023-02-26T13:25:06.262Z"
   },
   {
    "duration": 13,
    "start_time": "2023-02-26T13:25:14.556Z"
   },
   {
    "duration": 5,
    "start_time": "2023-02-26T13:39:09.230Z"
   },
   {
    "duration": 5,
    "start_time": "2023-02-26T13:39:16.991Z"
   },
   {
    "duration": 15,
    "start_time": "2023-02-26T13:43:42.950Z"
   },
   {
    "duration": 62,
    "start_time": "2023-02-26T13:45:37.890Z"
   },
   {
    "duration": 388,
    "start_time": "2023-02-26T13:45:48.344Z"
   },
   {
    "duration": 172,
    "start_time": "2023-02-26T13:45:48.734Z"
   },
   {
    "duration": 18,
    "start_time": "2023-02-26T13:45:48.908Z"
   },
   {
    "duration": 33,
    "start_time": "2023-02-26T13:45:48.929Z"
   },
   {
    "duration": 2,
    "start_time": "2023-02-26T13:45:48.964Z"
   },
   {
    "duration": 8,
    "start_time": "2023-02-26T13:45:48.968Z"
   },
   {
    "duration": 15,
    "start_time": "2023-02-26T13:45:48.978Z"
   },
   {
    "duration": 28,
    "start_time": "2023-02-26T13:45:48.995Z"
   },
   {
    "duration": 27,
    "start_time": "2023-02-26T13:45:49.025Z"
   },
   {
    "duration": 21,
    "start_time": "2023-02-26T13:45:49.055Z"
   },
   {
    "duration": 47,
    "start_time": "2023-02-26T13:45:49.078Z"
   },
   {
    "duration": 65,
    "start_time": "2023-02-26T13:45:49.127Z"
   },
   {
    "duration": 85,
    "start_time": "2023-02-26T13:45:49.194Z"
   },
   {
    "duration": 64,
    "start_time": "2023-02-26T13:45:49.281Z"
   },
   {
    "duration": 38,
    "start_time": "2023-02-26T13:45:49.347Z"
   },
   {
    "duration": 10,
    "start_time": "2023-02-26T13:45:49.387Z"
   },
   {
    "duration": 56,
    "start_time": "2023-02-26T13:45:49.398Z"
   },
   {
    "duration": 11,
    "start_time": "2023-02-26T13:45:49.456Z"
   },
   {
    "duration": 11,
    "start_time": "2023-02-26T13:45:49.468Z"
   },
   {
    "duration": 3,
    "start_time": "2023-02-26T13:45:49.481Z"
   },
   {
    "duration": 38,
    "start_time": "2023-02-26T13:45:49.485Z"
   },
   {
    "duration": 15,
    "start_time": "2023-02-26T13:45:49.525Z"
   },
   {
    "duration": 15,
    "start_time": "2023-02-26T13:45:49.541Z"
   },
   {
    "duration": 14,
    "start_time": "2023-02-26T13:45:49.558Z"
   },
   {
    "duration": 49,
    "start_time": "2023-02-26T13:45:49.573Z"
   },
   {
    "duration": 15,
    "start_time": "2023-02-26T13:45:49.624Z"
   },
   {
    "duration": 11,
    "start_time": "2023-02-26T13:45:49.640Z"
   },
   {
    "duration": 12,
    "start_time": "2023-02-26T13:45:49.654Z"
   },
   {
    "duration": 10,
    "start_time": "2023-02-26T13:45:49.667Z"
   },
   {
    "duration": 6,
    "start_time": "2023-02-26T13:45:49.679Z"
   },
   {
    "duration": 49,
    "start_time": "2023-02-26T13:45:49.687Z"
   },
   {
    "duration": 11,
    "start_time": "2023-02-26T13:45:49.737Z"
   },
   {
    "duration": 18,
    "start_time": "2023-02-26T13:45:49.750Z"
   },
   {
    "duration": 11,
    "start_time": "2023-02-26T13:45:49.770Z"
   },
   {
    "duration": 2,
    "start_time": "2023-02-26T13:45:49.783Z"
   },
   {
    "duration": 20,
    "start_time": "2023-02-26T13:45:49.786Z"
   },
   {
    "duration": 13,
    "start_time": "2023-02-26T13:45:49.808Z"
   },
   {
    "duration": 5,
    "start_time": "2023-02-26T13:45:49.823Z"
   },
   {
    "duration": 3,
    "start_time": "2023-02-26T13:46:51.874Z"
   },
   {
    "duration": 256,
    "start_time": "2023-02-26T13:46:51.879Z"
   },
   {
    "duration": 11,
    "start_time": "2023-02-26T13:46:52.137Z"
   },
   {
    "duration": 37,
    "start_time": "2023-02-26T13:46:52.150Z"
   },
   {
    "duration": 3,
    "start_time": "2023-02-26T13:46:52.189Z"
   },
   {
    "duration": 16,
    "start_time": "2023-02-26T13:46:52.193Z"
   },
   {
    "duration": 16,
    "start_time": "2023-02-26T13:46:52.211Z"
   },
   {
    "duration": 11,
    "start_time": "2023-02-26T13:46:52.229Z"
   },
   {
    "duration": 34,
    "start_time": "2023-02-26T13:46:52.242Z"
   },
   {
    "duration": 17,
    "start_time": "2023-02-26T13:46:52.278Z"
   },
   {
    "duration": 49,
    "start_time": "2023-02-26T13:46:52.298Z"
   },
   {
    "duration": 84,
    "start_time": "2023-02-26T13:46:52.349Z"
   },
   {
    "duration": 67,
    "start_time": "2023-02-26T13:46:52.436Z"
   },
   {
    "duration": 76,
    "start_time": "2023-02-26T13:46:52.505Z"
   },
   {
    "duration": 59,
    "start_time": "2023-02-26T13:46:52.582Z"
   },
   {
    "duration": 10,
    "start_time": "2023-02-26T13:46:52.643Z"
   },
   {
    "duration": 44,
    "start_time": "2023-02-26T13:46:52.655Z"
   },
   {
    "duration": 38,
    "start_time": "2023-02-26T13:46:52.701Z"
   },
   {
    "duration": 13,
    "start_time": "2023-02-26T13:46:52.741Z"
   },
   {
    "duration": 5,
    "start_time": "2023-02-26T13:46:52.756Z"
   },
   {
    "duration": 20,
    "start_time": "2023-02-26T13:46:52.763Z"
   },
   {
    "duration": 53,
    "start_time": "2023-02-26T13:46:52.785Z"
   },
   {
    "duration": 17,
    "start_time": "2023-02-26T13:46:52.839Z"
   },
   {
    "duration": 14,
    "start_time": "2023-02-26T13:46:52.858Z"
   },
   {
    "duration": 18,
    "start_time": "2023-02-26T13:46:52.874Z"
   },
   {
    "duration": 51,
    "start_time": "2023-02-26T13:46:52.894Z"
   },
   {
    "duration": 11,
    "start_time": "2023-02-26T13:46:52.946Z"
   },
   {
    "duration": 16,
    "start_time": "2023-02-26T13:46:52.958Z"
   },
   {
    "duration": 10,
    "start_time": "2023-02-26T13:46:52.978Z"
   },
   {
    "duration": 38,
    "start_time": "2023-02-26T13:46:52.989Z"
   },
   {
    "duration": 31,
    "start_time": "2023-02-26T13:46:53.032Z"
   },
   {
    "duration": 11,
    "start_time": "2023-02-26T13:46:53.065Z"
   },
   {
    "duration": 19,
    "start_time": "2023-02-26T13:46:53.078Z"
   },
   {
    "duration": 21,
    "start_time": "2023-02-26T13:46:53.103Z"
   },
   {
    "duration": 17,
    "start_time": "2023-02-26T13:46:53.126Z"
   },
   {
    "duration": 8,
    "start_time": "2023-02-26T13:46:53.145Z"
   },
   {
    "duration": 5,
    "start_time": "2023-02-26T13:46:53.155Z"
   },
   {
    "duration": 5,
    "start_time": "2023-02-26T13:46:53.161Z"
   },
   {
    "duration": 8,
    "start_time": "2023-02-26T14:10:36.573Z"
   },
   {
    "duration": 8,
    "start_time": "2023-02-26T14:10:57.748Z"
   },
   {
    "duration": 8,
    "start_time": "2023-02-26T14:12:03.428Z"
   },
   {
    "duration": 7,
    "start_time": "2023-02-26T14:12:48.199Z"
   },
   {
    "duration": 3,
    "start_time": "2023-02-26T14:12:52.216Z"
   },
   {
    "duration": 215,
    "start_time": "2023-02-26T14:12:52.221Z"
   },
   {
    "duration": 15,
    "start_time": "2023-02-26T14:12:52.438Z"
   },
   {
    "duration": 37,
    "start_time": "2023-02-26T14:12:52.455Z"
   },
   {
    "duration": 3,
    "start_time": "2023-02-26T14:12:52.494Z"
   },
   {
    "duration": 24,
    "start_time": "2023-02-26T14:12:52.498Z"
   },
   {
    "duration": 8,
    "start_time": "2023-02-26T14:12:52.524Z"
   },
   {
    "duration": 6,
    "start_time": "2023-02-26T14:12:52.533Z"
   },
   {
    "duration": 34,
    "start_time": "2023-02-26T14:12:52.542Z"
   },
   {
    "duration": 47,
    "start_time": "2023-02-26T14:12:52.578Z"
   },
   {
    "duration": 37,
    "start_time": "2023-02-26T14:12:52.627Z"
   },
   {
    "duration": 111,
    "start_time": "2023-02-26T14:12:52.667Z"
   },
   {
    "duration": 86,
    "start_time": "2023-02-26T14:12:52.782Z"
   },
   {
    "duration": 80,
    "start_time": "2023-02-26T14:12:52.870Z"
   },
   {
    "duration": 41,
    "start_time": "2023-02-26T14:12:52.952Z"
   },
   {
    "duration": 10,
    "start_time": "2023-02-26T14:12:52.995Z"
   },
   {
    "duration": 44,
    "start_time": "2023-02-26T14:12:53.021Z"
   },
   {
    "duration": 13,
    "start_time": "2023-02-26T14:12:53.067Z"
   },
   {
    "duration": 11,
    "start_time": "2023-02-26T14:12:53.081Z"
   },
   {
    "duration": 27,
    "start_time": "2023-02-26T14:12:53.094Z"
   },
   {
    "duration": 19,
    "start_time": "2023-02-26T14:12:53.123Z"
   },
   {
    "duration": 16,
    "start_time": "2023-02-26T14:12:53.143Z"
   },
   {
    "duration": 15,
    "start_time": "2023-02-26T14:12:53.161Z"
   },
   {
    "duration": 50,
    "start_time": "2023-02-26T14:12:53.179Z"
   },
   {
    "duration": 17,
    "start_time": "2023-02-26T14:12:53.231Z"
   },
   {
    "duration": 16,
    "start_time": "2023-02-26T14:12:53.250Z"
   },
   {
    "duration": 8,
    "start_time": "2023-02-26T14:12:53.268Z"
   },
   {
    "duration": 15,
    "start_time": "2023-02-26T14:12:53.278Z"
   },
   {
    "duration": 37,
    "start_time": "2023-02-26T14:12:53.294Z"
   },
   {
    "duration": 5,
    "start_time": "2023-02-26T14:12:53.333Z"
   },
   {
    "duration": 22,
    "start_time": "2023-02-26T14:12:53.340Z"
   },
   {
    "duration": 11,
    "start_time": "2023-02-26T14:12:53.364Z"
   },
   {
    "duration": 48,
    "start_time": "2023-02-26T14:12:53.377Z"
   },
   {
    "duration": 14,
    "start_time": "2023-02-26T14:12:53.426Z"
   },
   {
    "duration": 29,
    "start_time": "2023-02-26T14:12:53.441Z"
   },
   {
    "duration": 0,
    "start_time": "2023-02-26T14:12:53.472Z"
   },
   {
    "duration": 0,
    "start_time": "2023-02-26T14:12:53.473Z"
   },
   {
    "duration": 0,
    "start_time": "2023-02-26T14:12:53.474Z"
   },
   {
    "duration": 19,
    "start_time": "2023-02-26T14:14:33.617Z"
   },
   {
    "duration": 408,
    "start_time": "2023-02-26T14:14:49.422Z"
   },
   {
    "duration": 174,
    "start_time": "2023-02-26T14:14:49.831Z"
   },
   {
    "duration": 22,
    "start_time": "2023-02-26T14:14:50.007Z"
   },
   {
    "duration": 48,
    "start_time": "2023-02-26T14:14:50.032Z"
   },
   {
    "duration": 13,
    "start_time": "2023-02-26T14:14:50.082Z"
   },
   {
    "duration": 16,
    "start_time": "2023-02-26T14:14:50.096Z"
   },
   {
    "duration": 44,
    "start_time": "2023-02-26T14:14:50.113Z"
   },
   {
    "duration": 31,
    "start_time": "2023-02-26T14:14:50.159Z"
   },
   {
    "duration": 38,
    "start_time": "2023-02-26T14:14:50.192Z"
   },
   {
    "duration": 31,
    "start_time": "2023-02-26T14:14:50.234Z"
   },
   {
    "duration": 51,
    "start_time": "2023-02-26T14:14:50.267Z"
   },
   {
    "duration": 75,
    "start_time": "2023-02-26T14:14:50.319Z"
   },
   {
    "duration": 65,
    "start_time": "2023-02-26T14:14:50.395Z"
   },
   {
    "duration": 61,
    "start_time": "2023-02-26T14:14:50.462Z"
   },
   {
    "duration": 37,
    "start_time": "2023-02-26T14:14:50.525Z"
   },
   {
    "duration": 9,
    "start_time": "2023-02-26T14:14:50.564Z"
   },
   {
    "duration": 55,
    "start_time": "2023-02-26T14:14:50.575Z"
   },
   {
    "duration": 13,
    "start_time": "2023-02-26T14:14:50.632Z"
   },
   {
    "duration": 31,
    "start_time": "2023-02-26T14:14:50.646Z"
   },
   {
    "duration": 5,
    "start_time": "2023-02-26T14:14:50.679Z"
   },
   {
    "duration": 42,
    "start_time": "2023-02-26T14:14:50.685Z"
   },
   {
    "duration": 27,
    "start_time": "2023-02-26T14:14:50.729Z"
   },
   {
    "duration": 19,
    "start_time": "2023-02-26T14:14:50.758Z"
   },
   {
    "duration": 17,
    "start_time": "2023-02-26T14:14:50.779Z"
   },
   {
    "duration": 32,
    "start_time": "2023-02-26T14:14:50.798Z"
   },
   {
    "duration": 13,
    "start_time": "2023-02-26T14:14:50.832Z"
   },
   {
    "duration": 28,
    "start_time": "2023-02-26T14:14:50.846Z"
   },
   {
    "duration": 27,
    "start_time": "2023-02-26T14:14:50.877Z"
   },
   {
    "duration": 17,
    "start_time": "2023-02-26T14:14:50.906Z"
   },
   {
    "duration": 11,
    "start_time": "2023-02-26T14:14:50.925Z"
   },
   {
    "duration": 50,
    "start_time": "2023-02-26T14:14:50.938Z"
   },
   {
    "duration": 18,
    "start_time": "2023-02-26T14:14:50.990Z"
   },
   {
    "duration": 28,
    "start_time": "2023-02-26T14:14:51.010Z"
   },
   {
    "duration": 18,
    "start_time": "2023-02-26T14:14:51.040Z"
   },
   {
    "duration": 26,
    "start_time": "2023-02-26T14:14:51.059Z"
   },
   {
    "duration": 13,
    "start_time": "2023-02-26T14:14:51.087Z"
   },
   {
    "duration": 22,
    "start_time": "2023-02-26T14:14:51.101Z"
   },
   {
    "duration": 16,
    "start_time": "2023-02-26T14:14:51.125Z"
   },
   {
    "duration": 75,
    "start_time": "2023-02-26T16:38:48.591Z"
   },
   {
    "duration": 391,
    "start_time": "2023-02-26T16:38:55.573Z"
   },
   {
    "duration": 311,
    "start_time": "2023-02-26T16:38:55.966Z"
   },
   {
    "duration": 17,
    "start_time": "2023-02-26T16:38:56.279Z"
   },
   {
    "duration": 37,
    "start_time": "2023-02-26T16:38:56.298Z"
   },
   {
    "duration": 3,
    "start_time": "2023-02-26T16:38:56.337Z"
   },
   {
    "duration": 13,
    "start_time": "2023-02-26T16:38:56.342Z"
   },
   {
    "duration": 11,
    "start_time": "2023-02-26T16:38:56.357Z"
   },
   {
    "duration": 9,
    "start_time": "2023-02-26T16:38:56.369Z"
   },
   {
    "duration": 48,
    "start_time": "2023-02-26T16:38:56.379Z"
   },
   {
    "duration": 27,
    "start_time": "2023-02-26T16:38:56.431Z"
   },
   {
    "duration": 26,
    "start_time": "2023-02-26T16:38:56.460Z"
   },
   {
    "duration": 69,
    "start_time": "2023-02-26T16:38:56.487Z"
   },
   {
    "duration": 77,
    "start_time": "2023-02-26T16:38:56.557Z"
   },
   {
    "duration": 68,
    "start_time": "2023-02-26T16:38:56.636Z"
   },
   {
    "duration": 49,
    "start_time": "2023-02-26T16:38:56.706Z"
   },
   {
    "duration": 10,
    "start_time": "2023-02-26T16:38:56.757Z"
   },
   {
    "duration": 36,
    "start_time": "2023-02-26T16:38:56.768Z"
   },
   {
    "duration": 31,
    "start_time": "2023-02-26T16:38:56.805Z"
   },
   {
    "duration": 11,
    "start_time": "2023-02-26T16:38:56.838Z"
   },
   {
    "duration": 4,
    "start_time": "2023-02-26T16:38:56.850Z"
   },
   {
    "duration": 18,
    "start_time": "2023-02-26T16:38:56.856Z"
   },
   {
    "duration": 16,
    "start_time": "2023-02-26T16:38:56.876Z"
   },
   {
    "duration": 43,
    "start_time": "2023-02-26T16:38:56.893Z"
   },
   {
    "duration": 13,
    "start_time": "2023-02-26T16:38:56.938Z"
   },
   {
    "duration": 17,
    "start_time": "2023-02-26T16:38:56.953Z"
   },
   {
    "duration": 14,
    "start_time": "2023-02-26T16:38:56.971Z"
   },
   {
    "duration": 46,
    "start_time": "2023-02-26T16:38:56.987Z"
   },
   {
    "duration": 11,
    "start_time": "2023-02-26T16:38:57.035Z"
   },
   {
    "duration": 12,
    "start_time": "2023-02-26T16:38:57.048Z"
   },
   {
    "duration": 5,
    "start_time": "2023-02-26T16:38:57.061Z"
   },
   {
    "duration": 20,
    "start_time": "2023-02-26T16:38:57.067Z"
   },
   {
    "duration": 11,
    "start_time": "2023-02-26T16:38:57.089Z"
   },
   {
    "duration": 44,
    "start_time": "2023-02-26T16:38:57.101Z"
   },
   {
    "duration": 11,
    "start_time": "2023-02-26T16:38:57.147Z"
   },
   {
    "duration": 9,
    "start_time": "2023-02-26T16:38:57.159Z"
   },
   {
    "duration": 2,
    "start_time": "2023-02-26T16:38:57.170Z"
   },
   {
    "duration": 4,
    "start_time": "2023-02-26T16:38:57.174Z"
   },
   {
    "duration": 5,
    "start_time": "2023-02-26T16:38:57.179Z"
   },
   {
    "duration": 10,
    "start_time": "2023-02-26T16:40:10.712Z"
   },
   {
    "duration": 9,
    "start_time": "2023-02-26T16:42:14.493Z"
   },
   {
    "duration": 5,
    "start_time": "2023-02-26T16:42:48.293Z"
   },
   {
    "duration": 7,
    "start_time": "2023-02-26T16:43:34.458Z"
   },
   {
    "duration": 7,
    "start_time": "2023-02-26T16:43:53.220Z"
   },
   {
    "duration": 6,
    "start_time": "2023-02-26T16:44:09.102Z"
   },
   {
    "duration": 7,
    "start_time": "2023-02-26T16:44:16.994Z"
   },
   {
    "duration": 3,
    "start_time": "2023-02-26T16:44:23.658Z"
   },
   {
    "duration": 215,
    "start_time": "2023-02-26T16:44:23.663Z"
   },
   {
    "duration": 12,
    "start_time": "2023-02-26T16:44:23.880Z"
   },
   {
    "duration": 42,
    "start_time": "2023-02-26T16:44:23.894Z"
   },
   {
    "duration": 2,
    "start_time": "2023-02-26T16:44:23.940Z"
   },
   {
    "duration": 7,
    "start_time": "2023-02-26T16:44:23.944Z"
   },
   {
    "duration": 12,
    "start_time": "2023-02-26T16:44:23.953Z"
   },
   {
    "duration": 5,
    "start_time": "2023-02-26T16:44:23.966Z"
   },
   {
    "duration": 31,
    "start_time": "2023-02-26T16:44:23.972Z"
   },
   {
    "duration": 19,
    "start_time": "2023-02-26T16:44:24.027Z"
   },
   {
    "duration": 23,
    "start_time": "2023-02-26T16:44:24.049Z"
   },
   {
    "duration": 91,
    "start_time": "2023-02-26T16:44:24.074Z"
   },
   {
    "duration": 81,
    "start_time": "2023-02-26T16:44:24.168Z"
   },
   {
    "duration": 58,
    "start_time": "2023-02-26T16:44:24.251Z"
   },
   {
    "duration": 52,
    "start_time": "2023-02-26T16:44:24.310Z"
   },
   {
    "duration": 10,
    "start_time": "2023-02-26T16:44:24.363Z"
   },
   {
    "duration": 52,
    "start_time": "2023-02-26T16:44:24.375Z"
   },
   {
    "duration": 12,
    "start_time": "2023-02-26T16:44:24.429Z"
   },
   {
    "duration": 11,
    "start_time": "2023-02-26T16:44:24.442Z"
   },
   {
    "duration": 3,
    "start_time": "2023-02-26T16:44:24.455Z"
   },
   {
    "duration": 23,
    "start_time": "2023-02-26T16:44:24.460Z"
   },
   {
    "duration": 14,
    "start_time": "2023-02-26T16:44:24.485Z"
   },
   {
    "duration": 17,
    "start_time": "2023-02-26T16:44:24.527Z"
   },
   {
    "duration": 14,
    "start_time": "2023-02-26T16:44:24.545Z"
   },
   {
    "duration": 18,
    "start_time": "2023-02-26T16:44:24.561Z"
   },
   {
    "duration": 47,
    "start_time": "2023-02-26T16:44:24.581Z"
   },
   {
    "duration": 9,
    "start_time": "2023-02-26T16:44:24.630Z"
   },
   {
    "duration": 16,
    "start_time": "2023-02-26T16:44:24.641Z"
   },
   {
    "duration": 11,
    "start_time": "2023-02-26T16:44:24.660Z"
   },
   {
    "duration": 5,
    "start_time": "2023-02-26T16:44:24.672Z"
   },
   {
    "duration": 50,
    "start_time": "2023-02-26T16:44:24.679Z"
   },
   {
    "duration": 17,
    "start_time": "2023-02-26T16:44:24.731Z"
   },
   {
    "duration": 24,
    "start_time": "2023-02-26T16:44:24.750Z"
   },
   {
    "duration": 12,
    "start_time": "2023-02-26T16:44:24.776Z"
   },
   {
    "duration": 55,
    "start_time": "2023-02-26T16:44:24.790Z"
   },
   {
    "duration": 6,
    "start_time": "2023-02-26T16:44:24.847Z"
   },
   {
    "duration": 9,
    "start_time": "2023-02-26T16:44:24.854Z"
   },
   {
    "duration": 2,
    "start_time": "2023-02-26T16:44:24.864Z"
   },
   {
    "duration": 6,
    "start_time": "2023-02-26T16:44:48.793Z"
   },
   {
    "duration": 6,
    "start_time": "2023-02-26T16:45:14.746Z"
   },
   {
    "duration": 5,
    "start_time": "2023-02-26T16:45:28.483Z"
   }
  ],
  "colab": {
   "collapsed_sections": [
    "E0vqbgi9ay0H",
    "VUC88oWjTJw2"
   ],
   "provenance": []
  },
  "kernelspec": {
   "display_name": "Python 3 (ipykernel)",
   "language": "python",
   "name": "python3"
  },
  "language_info": {
   "codemirror_mode": {
    "name": "ipython",
    "version": 3
   },
   "file_extension": ".py",
   "mimetype": "text/x-python",
   "name": "python",
   "nbconvert_exporter": "python",
   "pygments_lexer": "ipython3",
   "version": "3.10.9"
  },
  "toc": {
   "base_numbering": 1,
   "nav_menu": {
    "height": "215px",
    "width": "403px"
   },
   "number_sections": true,
   "sideBar": true,
   "skip_h1_title": true,
   "title_cell": "Table of Contents",
   "title_sidebar": "Contents",
   "toc_cell": false,
   "toc_position": {
    "height": "calc(100% - 180px)",
    "left": "10px",
    "top": "150px",
    "width": "285.825px"
   },
   "toc_section_display": true,
   "toc_window_display": false
  }
 },
 "nbformat": 4,
 "nbformat_minor": 4
}
